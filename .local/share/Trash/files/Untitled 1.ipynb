{
 "cells": [
  {
   "cell_type": "code",
   "execution_count": 5,
   "id": "e5c8d394",
   "metadata": {},
   "outputs": [],
   "source": [
    "import datetime as dt\n",
    "import json\n",
    "import requests\n",
    "\n",
    "API_KEY = \"9TS2B3LDPRU8UYW7QBPLEUV6S\""
   ]
  },
  {
   "cell_type": "code",
   "execution_count": null,
   "id": "6f22a4c2",
   "metadata": {},
   "outputs": [],
   "source": []
  },
  {
   "cell_type": "code",
   "execution_count": 6,
   "id": "75e2855a",
   "metadata": {},
   "outputs": [],
   "source": [
    "def get_weather(location: str, start_data: str, end_data: str, level: str):\n",
    "    url_base_url = \"https://weather.visualcrossing.com/VisualCrossingWebServices/rest/services/timeline\"\n",
    "    url_key = f\"?key={API_KEY}\"\n",
    "    url_location = {location}\n",
    "    url_start_data = {start_data}\n",
    "    url_end_data = {end_data}\n",
    "    url_level = {level}\n",
    "\n",
    "    url = f\"{url_base_url}/{url_location}/{url_start_data}/{url_end_data}/{url_key}\"\n",
    "\n",
    "    payload = {}\n",
    "    headers = {}\n",
    "\n",
    "    response = requests.request(\"GET\", url, headers=headers, data=payload)\n",
    "    json_data = response.json()\n",
    "\n",
    "    print(response)\n",
    "    print(json_data)\n",
    "\n",
    "    return json.load(response)"
   ]
  },
  {
   "cell_type": "code",
   "execution_count": null,
   "id": "3fc0045e",
   "metadata": {},
   "outputs": [],
   "source": []
  }
 ],
 "metadata": {
  "kernelspec": {
   "display_name": "Python 3 (ipykernel)",
   "language": "python",
   "name": "python3"
  },
  "language_info": {
   "codemirror_mode": {
    "name": "ipython",
    "version": 3
   },
   "file_extension": ".py",
   "mimetype": "text/x-python",
   "name": "python",
   "nbconvert_exporter": "python",
   "pygments_lexer": "ipython3",
   "version": "3.8.0"
  }
 },
 "nbformat": 4,
 "nbformat_minor": 5
}
