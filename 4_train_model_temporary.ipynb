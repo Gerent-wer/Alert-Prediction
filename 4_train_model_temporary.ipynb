{
 "cells": [
  {
   "cell_type": "code",
   "execution_count": 258,
   "id": "5f4deb48",
   "metadata": {},
   "outputs": [],
   "source": [
    "import pandas as pd"
   ]
  },
  {
   "cell_type": "code",
   "execution_count": 302,
   "id": "f6d16a74",
   "metadata": {},
   "outputs": [],
   "source": [
    "weather_alarms_tfidf = pd.read_csv('data/df_weather+alarms_merged.csv')\n",
    "tfidf_vectors = pd.read_csv('data/0_isw_data_collection/3_isw_vectorised_with_date.csv')"
   ]
  },
  {
   "cell_type": "code",
   "execution_count": 304,
   "id": "a1930496",
   "metadata": {},
   "outputs": [
    {
     "data": {
      "text/plain": [
       "(203420, 70)"
      ]
     },
     "execution_count": 304,
     "metadata": {},
     "output_type": "execute_result"
    }
   ],
   "source": [
    "weather_alarms_tfidf.shape"
   ]
  },
  {
   "cell_type": "code",
   "execution_count": 300,
   "id": "13fb53f7",
   "metadata": {},
   "outputs": [
    {
     "data": {
      "text/html": [
       "<div>\n",
       "<style scoped>\n",
       "    .dataframe tbody tr th:only-of-type {\n",
       "        vertical-align: middle;\n",
       "    }\n",
       "\n",
       "    .dataframe tbody tr th {\n",
       "        vertical-align: top;\n",
       "    }\n",
       "\n",
       "    .dataframe thead th {\n",
       "        text-align: right;\n",
       "    }\n",
       "</style>\n",
       "<table border=\"1\" class=\"dataframe\">\n",
       "  <thead>\n",
       "    <tr style=\"text-align: right;\">\n",
       "      <th></th>\n",
       "      <th>city_resolvedAddress</th>\n",
       "      <th>day_datetimeEpoch</th>\n",
       "      <th>day_tempmax</th>\n",
       "      <th>day_tempmin</th>\n",
       "      <th>day_temp</th>\n",
       "      <th>day_dew</th>\n",
       "      <th>day_humidity</th>\n",
       "      <th>day_precip</th>\n",
       "      <th>day_precipcover</th>\n",
       "      <th>day_solarradiation</th>\n",
       "      <th>...</th>\n",
       "      <th>event_start_hour_datetimeEpoch</th>\n",
       "      <th>event_end_hour_datetimeEpoch</th>\n",
       "      <th>event_hour_level_event_time</th>\n",
       "      <th>event_hour_level_event_datetimeEpoch</th>\n",
       "      <th>isw_report_date</th>\n",
       "      <th>isw_date_tomorrow_datetime</th>\n",
       "      <th>isw_keywords</th>\n",
       "      <th>isw_main_html_v6</th>\n",
       "      <th>isw_report_text_lemm</th>\n",
       "      <th>isAlarm</th>\n",
       "    </tr>\n",
       "  </thead>\n",
       "  <tbody>\n",
       "    <tr>\n",
       "      <th>0</th>\n",
       "      <td>Черкаси, Україна</td>\n",
       "      <td>1645653600</td>\n",
       "      <td>4.9</td>\n",
       "      <td>-0.1</td>\n",
       "      <td>1.9</td>\n",
       "      <td>-0.6</td>\n",
       "      <td>83.4</td>\n",
       "      <td>0.0</td>\n",
       "      <td>0.0</td>\n",
       "      <td>47.4</td>\n",
       "      <td>...</td>\n",
       "      <td>NaN</td>\n",
       "      <td>NaN</td>\n",
       "      <td>NaN</td>\n",
       "      <td>NaN</td>\n",
       "      <td>NaN</td>\n",
       "      <td>NaN</td>\n",
       "      <td>NaN</td>\n",
       "      <td>NaN</td>\n",
       "      <td>NaN</td>\n",
       "      <td>0</td>\n",
       "    </tr>\n",
       "    <tr>\n",
       "      <th>1</th>\n",
       "      <td>Черкаси, Україна</td>\n",
       "      <td>1645653600</td>\n",
       "      <td>4.9</td>\n",
       "      <td>-0.1</td>\n",
       "      <td>1.9</td>\n",
       "      <td>-0.6</td>\n",
       "      <td>83.4</td>\n",
       "      <td>0.0</td>\n",
       "      <td>0.0</td>\n",
       "      <td>47.4</td>\n",
       "      <td>...</td>\n",
       "      <td>NaN</td>\n",
       "      <td>NaN</td>\n",
       "      <td>NaN</td>\n",
       "      <td>NaN</td>\n",
       "      <td>NaN</td>\n",
       "      <td>NaN</td>\n",
       "      <td>NaN</td>\n",
       "      <td>NaN</td>\n",
       "      <td>NaN</td>\n",
       "      <td>0</td>\n",
       "    </tr>\n",
       "    <tr>\n",
       "      <th>2</th>\n",
       "      <td>Черкаси, Україна</td>\n",
       "      <td>1645653600</td>\n",
       "      <td>4.9</td>\n",
       "      <td>-0.1</td>\n",
       "      <td>1.9</td>\n",
       "      <td>-0.6</td>\n",
       "      <td>83.4</td>\n",
       "      <td>0.0</td>\n",
       "      <td>0.0</td>\n",
       "      <td>47.4</td>\n",
       "      <td>...</td>\n",
       "      <td>NaN</td>\n",
       "      <td>NaN</td>\n",
       "      <td>NaN</td>\n",
       "      <td>NaN</td>\n",
       "      <td>NaN</td>\n",
       "      <td>NaN</td>\n",
       "      <td>NaN</td>\n",
       "      <td>NaN</td>\n",
       "      <td>NaN</td>\n",
       "      <td>0</td>\n",
       "    </tr>\n",
       "    <tr>\n",
       "      <th>3</th>\n",
       "      <td>Черкаси, Україна</td>\n",
       "      <td>1645653600</td>\n",
       "      <td>4.9</td>\n",
       "      <td>-0.1</td>\n",
       "      <td>1.9</td>\n",
       "      <td>-0.6</td>\n",
       "      <td>83.4</td>\n",
       "      <td>0.0</td>\n",
       "      <td>0.0</td>\n",
       "      <td>47.4</td>\n",
       "      <td>...</td>\n",
       "      <td>NaN</td>\n",
       "      <td>NaN</td>\n",
       "      <td>NaN</td>\n",
       "      <td>NaN</td>\n",
       "      <td>NaN</td>\n",
       "      <td>NaN</td>\n",
       "      <td>NaN</td>\n",
       "      <td>NaN</td>\n",
       "      <td>NaN</td>\n",
       "      <td>0</td>\n",
       "    </tr>\n",
       "    <tr>\n",
       "      <th>4</th>\n",
       "      <td>Черкаси, Україна</td>\n",
       "      <td>1645653600</td>\n",
       "      <td>4.9</td>\n",
       "      <td>-0.1</td>\n",
       "      <td>1.9</td>\n",
       "      <td>-0.6</td>\n",
       "      <td>83.4</td>\n",
       "      <td>0.0</td>\n",
       "      <td>0.0</td>\n",
       "      <td>47.4</td>\n",
       "      <td>...</td>\n",
       "      <td>NaN</td>\n",
       "      <td>NaN</td>\n",
       "      <td>NaN</td>\n",
       "      <td>NaN</td>\n",
       "      <td>NaN</td>\n",
       "      <td>NaN</td>\n",
       "      <td>NaN</td>\n",
       "      <td>NaN</td>\n",
       "      <td>NaN</td>\n",
       "      <td>0</td>\n",
       "    </tr>\n",
       "  </tbody>\n",
       "</table>\n",
       "<p>5 rows × 63 columns</p>\n",
       "</div>"
      ],
      "text/plain": [
       "  city_resolvedAddress  day_datetimeEpoch  day_tempmax  day_tempmin  day_temp  \\\n",
       "0     Черкаси, Україна         1645653600          4.9         -0.1       1.9   \n",
       "1     Черкаси, Україна         1645653600          4.9         -0.1       1.9   \n",
       "2     Черкаси, Україна         1645653600          4.9         -0.1       1.9   \n",
       "3     Черкаси, Україна         1645653600          4.9         -0.1       1.9   \n",
       "4     Черкаси, Україна         1645653600          4.9         -0.1       1.9   \n",
       "\n",
       "   day_dew  day_humidity  day_precip  day_precipcover  day_solarradiation  \\\n",
       "0     -0.6          83.4         0.0              0.0                47.4   \n",
       "1     -0.6          83.4         0.0              0.0                47.4   \n",
       "2     -0.6          83.4         0.0              0.0                47.4   \n",
       "3     -0.6          83.4         0.0              0.0                47.4   \n",
       "4     -0.6          83.4         0.0              0.0                47.4   \n",
       "\n",
       "   ...  event_start_hour_datetimeEpoch  event_end_hour_datetimeEpoch  \\\n",
       "0  ...                             NaN                           NaN   \n",
       "1  ...                             NaN                           NaN   \n",
       "2  ...                             NaN                           NaN   \n",
       "3  ...                             NaN                           NaN   \n",
       "4  ...                             NaN                           NaN   \n",
       "\n",
       "   event_hour_level_event_time  event_hour_level_event_datetimeEpoch  \\\n",
       "0                          NaN                                   NaN   \n",
       "1                          NaN                                   NaN   \n",
       "2                          NaN                                   NaN   \n",
       "3                          NaN                                   NaN   \n",
       "4                          NaN                                   NaN   \n",
       "\n",
       "   isw_report_date  isw_date_tomorrow_datetime  isw_keywords  \\\n",
       "0              NaN                         NaN           NaN   \n",
       "1              NaN                         NaN           NaN   \n",
       "2              NaN                         NaN           NaN   \n",
       "3              NaN                         NaN           NaN   \n",
       "4              NaN                         NaN           NaN   \n",
       "\n",
       "   isw_main_html_v6  isw_report_text_lemm  isAlarm  \n",
       "0               NaN                   NaN        0  \n",
       "1               NaN                   NaN        0  \n",
       "2               NaN                   NaN        0  \n",
       "3               NaN                   NaN        0  \n",
       "4               NaN                   NaN        0  \n",
       "\n",
       "[5 rows x 63 columns]"
      ]
     },
     "execution_count": 300,
     "metadata": {},
     "output_type": "execute_result"
    }
   ],
   "source": [
    "weather_alarms_tfidf.head()"
   ]
  },
  {
   "cell_type": "code",
   "execution_count": 305,
   "id": "31e3fabf",
   "metadata": {},
   "outputs": [
    {
     "data": {
      "text/html": [
       "<div>\n",
       "<style scoped>\n",
       "    .dataframe tbody tr th:only-of-type {\n",
       "        vertical-align: middle;\n",
       "    }\n",
       "\n",
       "    .dataframe tbody tr th {\n",
       "        vertical-align: top;\n",
       "    }\n",
       "\n",
       "    .dataframe thead th {\n",
       "        text-align: right;\n",
       "    }\n",
       "</style>\n",
       "<table border=\"1\" class=\"dataframe\">\n",
       "  <thead>\n",
       "    <tr style=\"text-align: right;\">\n",
       "      <th></th>\n",
       "      <th>Unnamed: 0</th>\n",
       "      <th>0</th>\n",
       "      <th>1</th>\n",
       "      <th>2</th>\n",
       "      <th>3</th>\n",
       "      <th>4</th>\n",
       "      <th>5</th>\n",
       "      <th>6</th>\n",
       "      <th>7</th>\n",
       "      <th>8</th>\n",
       "      <th>...</th>\n",
       "      <th>7392</th>\n",
       "      <th>7393</th>\n",
       "      <th>7394</th>\n",
       "      <th>7395</th>\n",
       "      <th>7396</th>\n",
       "      <th>7397</th>\n",
       "      <th>7398</th>\n",
       "      <th>7399</th>\n",
       "      <th>7400</th>\n",
       "      <th>date</th>\n",
       "    </tr>\n",
       "  </thead>\n",
       "  <tbody>\n",
       "    <tr>\n",
       "      <th>0</th>\n",
       "      <td>0</td>\n",
       "      <td>0.0</td>\n",
       "      <td>0.0</td>\n",
       "      <td>0.0</td>\n",
       "      <td>0.0</td>\n",
       "      <td>0.0</td>\n",
       "      <td>0.000000</td>\n",
       "      <td>0.0</td>\n",
       "      <td>0.0</td>\n",
       "      <td>0.000000</td>\n",
       "      <td>...</td>\n",
       "      <td>0.0</td>\n",
       "      <td>0.0</td>\n",
       "      <td>0.0</td>\n",
       "      <td>0.0</td>\n",
       "      <td>0.0</td>\n",
       "      <td>0.0</td>\n",
       "      <td>0.0</td>\n",
       "      <td>0.0</td>\n",
       "      <td>0.0</td>\n",
       "      <td>2022-02-25</td>\n",
       "    </tr>\n",
       "    <tr>\n",
       "      <th>1</th>\n",
       "      <td>1</td>\n",
       "      <td>0.0</td>\n",
       "      <td>0.0</td>\n",
       "      <td>0.0</td>\n",
       "      <td>0.0</td>\n",
       "      <td>0.0</td>\n",
       "      <td>0.000000</td>\n",
       "      <td>0.0</td>\n",
       "      <td>0.0</td>\n",
       "      <td>0.000000</td>\n",
       "      <td>...</td>\n",
       "      <td>0.0</td>\n",
       "      <td>0.0</td>\n",
       "      <td>0.0</td>\n",
       "      <td>0.0</td>\n",
       "      <td>0.0</td>\n",
       "      <td>0.0</td>\n",
       "      <td>0.0</td>\n",
       "      <td>0.0</td>\n",
       "      <td>0.0</td>\n",
       "      <td>2022-02-26</td>\n",
       "    </tr>\n",
       "    <tr>\n",
       "      <th>2</th>\n",
       "      <td>2</td>\n",
       "      <td>0.0</td>\n",
       "      <td>0.0</td>\n",
       "      <td>0.0</td>\n",
       "      <td>0.0</td>\n",
       "      <td>0.0</td>\n",
       "      <td>0.000000</td>\n",
       "      <td>0.0</td>\n",
       "      <td>0.0</td>\n",
       "      <td>0.000000</td>\n",
       "      <td>...</td>\n",
       "      <td>0.0</td>\n",
       "      <td>0.0</td>\n",
       "      <td>0.0</td>\n",
       "      <td>0.0</td>\n",
       "      <td>0.0</td>\n",
       "      <td>0.0</td>\n",
       "      <td>0.0</td>\n",
       "      <td>0.0</td>\n",
       "      <td>0.0</td>\n",
       "      <td>2022-02-27</td>\n",
       "    </tr>\n",
       "    <tr>\n",
       "      <th>3</th>\n",
       "      <td>3</td>\n",
       "      <td>0.0</td>\n",
       "      <td>0.0</td>\n",
       "      <td>0.0</td>\n",
       "      <td>0.0</td>\n",
       "      <td>0.0</td>\n",
       "      <td>0.023238</td>\n",
       "      <td>0.0</td>\n",
       "      <td>0.0</td>\n",
       "      <td>0.000000</td>\n",
       "      <td>...</td>\n",
       "      <td>0.0</td>\n",
       "      <td>0.0</td>\n",
       "      <td>0.0</td>\n",
       "      <td>0.0</td>\n",
       "      <td>0.0</td>\n",
       "      <td>0.0</td>\n",
       "      <td>0.0</td>\n",
       "      <td>0.0</td>\n",
       "      <td>0.0</td>\n",
       "      <td>2022-02-28</td>\n",
       "    </tr>\n",
       "    <tr>\n",
       "      <th>4</th>\n",
       "      <td>4</td>\n",
       "      <td>0.0</td>\n",
       "      <td>0.0</td>\n",
       "      <td>0.0</td>\n",
       "      <td>0.0</td>\n",
       "      <td>0.0</td>\n",
       "      <td>0.000000</td>\n",
       "      <td>0.0</td>\n",
       "      <td>0.0</td>\n",
       "      <td>0.033858</td>\n",
       "      <td>...</td>\n",
       "      <td>0.0</td>\n",
       "      <td>0.0</td>\n",
       "      <td>0.0</td>\n",
       "      <td>0.0</td>\n",
       "      <td>0.0</td>\n",
       "      <td>0.0</td>\n",
       "      <td>0.0</td>\n",
       "      <td>0.0</td>\n",
       "      <td>0.0</td>\n",
       "      <td>2022-03-01</td>\n",
       "    </tr>\n",
       "  </tbody>\n",
       "</table>\n",
       "<p>5 rows × 7403 columns</p>\n",
       "</div>"
      ],
      "text/plain": [
       "   Unnamed: 0    0    1    2    3    4         5    6    7         8  ...  \\\n",
       "0           0  0.0  0.0  0.0  0.0  0.0  0.000000  0.0  0.0  0.000000  ...   \n",
       "1           1  0.0  0.0  0.0  0.0  0.0  0.000000  0.0  0.0  0.000000  ...   \n",
       "2           2  0.0  0.0  0.0  0.0  0.0  0.000000  0.0  0.0  0.000000  ...   \n",
       "3           3  0.0  0.0  0.0  0.0  0.0  0.023238  0.0  0.0  0.000000  ...   \n",
       "4           4  0.0  0.0  0.0  0.0  0.0  0.000000  0.0  0.0  0.033858  ...   \n",
       "\n",
       "   7392  7393  7394  7395  7396  7397  7398  7399  7400        date  \n",
       "0   0.0   0.0   0.0   0.0   0.0   0.0   0.0   0.0   0.0  2022-02-25  \n",
       "1   0.0   0.0   0.0   0.0   0.0   0.0   0.0   0.0   0.0  2022-02-26  \n",
       "2   0.0   0.0   0.0   0.0   0.0   0.0   0.0   0.0   0.0  2022-02-27  \n",
       "3   0.0   0.0   0.0   0.0   0.0   0.0   0.0   0.0   0.0  2022-02-28  \n",
       "4   0.0   0.0   0.0   0.0   0.0   0.0   0.0   0.0   0.0  2022-03-01  \n",
       "\n",
       "[5 rows x 7403 columns]"
      ]
     },
     "execution_count": 305,
     "metadata": {},
     "output_type": "execute_result"
    }
   ],
   "source": [
    "tfidf_vectors.head()"
   ]
  },
  {
   "cell_type": "code",
   "execution_count": 264,
   "id": "d3865704",
   "metadata": {},
   "outputs": [],
   "source": [
    "#weather_alarms = weather_alarms.drop(columns=['Unnamed: 0','day_datetime'])"
   ]
  },
  {
   "cell_type": "code",
   "execution_count": 265,
   "id": "2354f514",
   "metadata": {},
   "outputs": [],
   "source": [
    "#weather_alarms = weather_alarms.drop(columns=['Unnamed: 0','day_datetime'])"
   ]
  },
  {
   "cell_type": "code",
   "execution_count": 296,
   "id": "29206ce8",
   "metadata": {},
   "outputs": [],
   "source": [
    "#weather_alarms.columns"
   ]
  },
  {
   "cell_type": "code",
   "execution_count": 297,
   "id": "ff0fec24",
   "metadata": {},
   "outputs": [],
   "source": [
    "#tfidf_vectors.head()"
   ]
  },
  {
   "cell_type": "code",
   "execution_count": 269,
   "id": "b8ae281b",
   "metadata": {},
   "outputs": [],
   "source": [
    "#tfidf_vectors = tfidf_vectors.drop(columns=['Unnamed: 0'],axis=1)"
   ]
  },
  {
   "cell_type": "code",
   "execution_count": 298,
   "id": "b3f076de",
   "metadata": {
    "scrolled": false
   },
   "outputs": [],
   "source": [
    "#tfidf_vectors.head()"
   ]
  },
  {
   "cell_type": "code",
   "execution_count": 299,
   "id": "1736f6a2",
   "metadata": {},
   "outputs": [],
   "source": [
    "#tfidf_vectors = tfidf_vectors.drop(columns=['date'])"
   ]
  },
  {
   "cell_type": "code",
   "execution_count": 294,
   "id": "1e936fef",
   "metadata": {},
   "outputs": [],
   "source": [
    "#weather_alarms.info()"
   ]
  },
  {
   "cell_type": "code",
   "execution_count": 274,
   "id": "85116ce8",
   "metadata": {},
   "outputs": [],
   "source": [
    "#weather_alarms_features = weather_alarms.iloc[:, :-1]\n",
    "#Y = weather_alarms.iloc[:, -1]"
   ]
  },
  {
   "cell_type": "code",
   "execution_count": 295,
   "id": "e222240a",
   "metadata": {},
   "outputs": [],
   "source": [
    "#Y"
   ]
  },
  {
   "cell_type": "code",
   "execution_count": 309,
   "id": "38790bcb",
   "metadata": {
    "scrolled": true
   },
   "outputs": [
    {
     "data": {
      "text/plain": [
       "Index(['Unnamed: 0', 'city_resolvedAddress', 'day_datetime',\n",
       "       'day_datetimeEpoch', 'day_tempmax', 'day_tempmin', 'day_temp',\n",
       "       'day_dew', 'day_humidity', 'day_precip', 'day_precipcover',\n",
       "       'day_solarradiation', 'day_solarenergy', 'day_uvindex', 'day_sunrise',\n",
       "       'day_sunset', 'day_moonphase', 'hour_datetime', 'hour_datetimeEpoch',\n",
       "       'hour_temp', 'hour_humidity', 'hour_dew', 'hour_precip',\n",
       "       'hour_precipprob', 'hour_snow', 'hour_snowdepth', 'hour_preciptype',\n",
       "       'hour_windgust', 'hour_windspeed', 'hour_winddir', 'hour_pressure',\n",
       "       'hour_visibility', 'hour_cloudcover', 'hour_solarradiation',\n",
       "       'hour_solarenergy', 'hour_uvindex', 'hour_severerisk',\n",
       "       'hour_conditions', 'city', 'region', 'center_city_ua', 'center_city_en',\n",
       "       'region_alt', 'region_id', 'event_Unnamed: 0', 'event_region_title',\n",
       "       'event_region_city', 'event_all_region', 'event_start', 'event_end',\n",
       "       'event_clean_end', 'event_intersection_alarm_id', 'event_start_time',\n",
       "       'event_end_time', 'event_day', 'event_feature_number_of_region',\n",
       "       'event_within_24_hours',\n",
       "       'event_feature_number_of_alarms_within_24_hours', 'event_start_hour',\n",
       "       'event_end_hour', 'event_day_date', 'event_start_hour_datetimeEpoch',\n",
       "       'event_end_hour_datetimeEpoch', 'event_hour_level_event_time',\n",
       "       'event_hour_level_event_datetimeEpoch', 'isw_report_date',\n",
       "       'isw_date_tomorrow_datetime', 'isw_keywords', 'isw_main_html_v6',\n",
       "       'isw_report_text_lemm'],\n",
       "      dtype='object')"
      ]
     },
     "execution_count": 309,
     "metadata": {},
     "output_type": "execute_result"
    }
   ],
   "source": [
    "weather_alarms_tfidf.columns"
   ]
  },
  {
   "cell_type": "code",
   "execution_count": 306,
   "id": "a9ea01f7",
   "metadata": {},
   "outputs": [
    {
     "data": {
      "text/plain": [
       "(203420, 70)"
      ]
     },
     "execution_count": 306,
     "metadata": {},
     "output_type": "execute_result"
    }
   ],
   "source": [
    "weather_alarms_tfidf.shape"
   ]
  },
  {
   "cell_type": "code",
   "execution_count": 307,
   "id": "04ae0a12",
   "metadata": {},
   "outputs": [],
   "source": [
    "import pickle"
   ]
  },
  {
   "cell_type": "code",
   "execution_count": 310,
   "id": "322d3b86",
   "metadata": {},
   "outputs": [
    {
     "ename": "KeyboardInterrupt",
     "evalue": "",
     "output_type": "error",
     "traceback": [
      "\u001b[0;31m---------------------------------------------------------------------------\u001b[0m",
      "\u001b[0;31mKeyboardInterrupt\u001b[0m                         Traceback (most recent call last)",
      "\u001b[0;32m/var/folders/5y/jfstwx3n6x5bg_8mdp2wq81w0000gn/T/ipykernel_33118/458184225.py\u001b[0m in \u001b[0;36m<module>\u001b[0;34m\u001b[0m\n\u001b[1;32m      2\u001b[0m \u001b[0mcv\u001b[0m \u001b[0;34m=\u001b[0m \u001b[0mpickle\u001b[0m\u001b[0;34m.\u001b[0m\u001b[0mload\u001b[0m\u001b[0;34m(\u001b[0m\u001b[0mopen\u001b[0m\u001b[0;34m(\u001b[0m\u001b[0;34m\"models/count_vectorizer_v1.pkl\"\u001b[0m\u001b[0;34m,\u001b[0m\u001b[0;34m\"rb\"\u001b[0m\u001b[0;34m)\u001b[0m\u001b[0;34m)\u001b[0m\u001b[0;34m\u001b[0m\u001b[0;34m\u001b[0m\u001b[0m\n\u001b[1;32m      3\u001b[0m \u001b[0;34m\u001b[0m\u001b[0m\n\u001b[0;32m----> 4\u001b[0;31m \u001b[0mword_count_vector\u001b[0m \u001b[0;34m=\u001b[0m \u001b[0mcv\u001b[0m\u001b[0;34m.\u001b[0m\u001b[0mtransform\u001b[0m\u001b[0;34m(\u001b[0m\u001b[0mweather_alarms_tfidf\u001b[0m\u001b[0;34m[\u001b[0m\u001b[0;34m'isw_report_text_lemm'\u001b[0m\u001b[0;34m]\u001b[0m\u001b[0;34m.\u001b[0m\u001b[0mvalues\u001b[0m\u001b[0;34m.\u001b[0m\u001b[0mastype\u001b[0m\u001b[0;34m(\u001b[0m\u001b[0;34m'U'\u001b[0m\u001b[0;34m)\u001b[0m\u001b[0;34m)\u001b[0m\u001b[0;34m\u001b[0m\u001b[0;34m\u001b[0m\u001b[0m\n\u001b[0m\u001b[1;32m      5\u001b[0m \u001b[0;34m\u001b[0m\u001b[0m\n\u001b[1;32m      6\u001b[0m \u001b[0mtfidf_vector\u001b[0m \u001b[0;34m=\u001b[0m \u001b[0mtfidf\u001b[0m\u001b[0;34m.\u001b[0m\u001b[0mtransform\u001b[0m\u001b[0;34m(\u001b[0m\u001b[0mword_count_vector\u001b[0m\u001b[0;34m)\u001b[0m\u001b[0;34m\u001b[0m\u001b[0;34m\u001b[0m\u001b[0m\n",
      "\u001b[0;31mKeyboardInterrupt\u001b[0m: "
     ]
    }
   ],
   "source": [
    "tfidf = pickle.load(open(\"models/tfidf_transformer_v1.pkl\",\"rb\"))\n",
    "cv = pickle.load(open(\"models/count_vectorizer_v1.pkl\",\"rb\"))\n",
    "\n",
    "word_count_vector = cv.transform(weather_alarms_tfidf['isw_report_text_lemm'].values.astype('U'))\n",
    "\n",
    "tfidf_vector = tfidf.transform(word_count_vector)"
   ]
  },
  {
   "cell_type": "code",
   "execution_count": null,
   "id": "3317c453",
   "metadata": {},
   "outputs": [],
   "source": [
    "tfidf_vector"
   ]
  },
  {
   "cell_type": "code",
   "execution_count": 292,
   "id": "5361270f",
   "metadata": {},
   "outputs": [
    {
     "ename": "TypeError",
     "evalue": "no supported conversion for types: (dtype('O'),)",
     "output_type": "error",
     "traceback": [
      "\u001b[0;31m---------------------------------------------------------------------------\u001b[0m",
      "\u001b[0;31mTypeError\u001b[0m                                 Traceback (most recent call last)",
      "\u001b[0;32m~/opt/anaconda3/lib/python3.9/site-packages/scipy/sparse/base.py\u001b[0m in \u001b[0;36masformat\u001b[0;34m(self, format, copy)\u001b[0m\n\u001b[1;32m    321\u001b[0m             \u001b[0;32mtry\u001b[0m\u001b[0;34m:\u001b[0m\u001b[0;34m\u001b[0m\u001b[0;34m\u001b[0m\u001b[0m\n\u001b[0;32m--> 322\u001b[0;31m                 \u001b[0;32mreturn\u001b[0m \u001b[0mconvert_method\u001b[0m\u001b[0;34m(\u001b[0m\u001b[0mcopy\u001b[0m\u001b[0;34m=\u001b[0m\u001b[0mcopy\u001b[0m\u001b[0;34m)\u001b[0m\u001b[0;34m\u001b[0m\u001b[0;34m\u001b[0m\u001b[0m\n\u001b[0m\u001b[1;32m    323\u001b[0m             \u001b[0;32mexcept\u001b[0m \u001b[0mTypeError\u001b[0m\u001b[0;34m:\u001b[0m\u001b[0;34m\u001b[0m\u001b[0;34m\u001b[0m\u001b[0m\n",
      "\u001b[0;32m~/opt/anaconda3/lib/python3.9/site-packages/scipy/sparse/coo.py\u001b[0m in \u001b[0;36mtocsr\u001b[0;34m(self, copy)\u001b[0m\n\u001b[1;32m    403\u001b[0m             \u001b[0mindices\u001b[0m \u001b[0;34m=\u001b[0m \u001b[0mnp\u001b[0m\u001b[0;34m.\u001b[0m\u001b[0mempty_like\u001b[0m\u001b[0;34m(\u001b[0m\u001b[0mcol\u001b[0m\u001b[0;34m,\u001b[0m \u001b[0mdtype\u001b[0m\u001b[0;34m=\u001b[0m\u001b[0midx_dtype\u001b[0m\u001b[0;34m)\u001b[0m\u001b[0;34m\u001b[0m\u001b[0;34m\u001b[0m\u001b[0m\n\u001b[0;32m--> 404\u001b[0;31m             \u001b[0mdata\u001b[0m \u001b[0;34m=\u001b[0m \u001b[0mnp\u001b[0m\u001b[0;34m.\u001b[0m\u001b[0mempty_like\u001b[0m\u001b[0;34m(\u001b[0m\u001b[0mself\u001b[0m\u001b[0;34m.\u001b[0m\u001b[0mdata\u001b[0m\u001b[0;34m,\u001b[0m \u001b[0mdtype\u001b[0m\u001b[0;34m=\u001b[0m\u001b[0mupcast\u001b[0m\u001b[0;34m(\u001b[0m\u001b[0mself\u001b[0m\u001b[0;34m.\u001b[0m\u001b[0mdtype\u001b[0m\u001b[0;34m)\u001b[0m\u001b[0;34m)\u001b[0m\u001b[0;34m\u001b[0m\u001b[0;34m\u001b[0m\u001b[0m\n\u001b[0m\u001b[1;32m    405\u001b[0m \u001b[0;34m\u001b[0m\u001b[0m\n",
      "\u001b[0;32m~/opt/anaconda3/lib/python3.9/site-packages/scipy/sparse/sputils.py\u001b[0m in \u001b[0;36mupcast\u001b[0;34m(*args)\u001b[0m\n\u001b[1;32m     50\u001b[0m \u001b[0;34m\u001b[0m\u001b[0m\n\u001b[0;32m---> 51\u001b[0;31m     \u001b[0;32mraise\u001b[0m \u001b[0mTypeError\u001b[0m\u001b[0;34m(\u001b[0m\u001b[0;34m'no supported conversion for types: %r'\u001b[0m \u001b[0;34m%\u001b[0m \u001b[0;34m(\u001b[0m\u001b[0margs\u001b[0m\u001b[0;34m,\u001b[0m\u001b[0;34m)\u001b[0m\u001b[0;34m)\u001b[0m\u001b[0;34m\u001b[0m\u001b[0;34m\u001b[0m\u001b[0m\n\u001b[0m\u001b[1;32m     52\u001b[0m \u001b[0;34m\u001b[0m\u001b[0m\n",
      "\u001b[0;31mTypeError\u001b[0m: no supported conversion for types: (dtype('O'),)",
      "\nDuring handling of the above exception, another exception occurred:\n",
      "\u001b[0;31mTypeError\u001b[0m                                 Traceback (most recent call last)",
      "\u001b[0;32m/var/folders/5y/jfstwx3n6x5bg_8mdp2wq81w0000gn/T/ipykernel_33118/653226396.py\u001b[0m in \u001b[0;36m<module>\u001b[0;34m\u001b[0m\n\u001b[0;32m----> 1\u001b[0;31m \u001b[0mdf_work_4_csr\u001b[0m \u001b[0;34m=\u001b[0m \u001b[0mscipy\u001b[0m\u001b[0;34m.\u001b[0m\u001b[0msparse\u001b[0m\u001b[0;34m.\u001b[0m\u001b[0mcsr_matrix\u001b[0m\u001b[0;34m(\u001b[0m\u001b[0mweather_alarms_features\u001b[0m\u001b[0;34m.\u001b[0m\u001b[0mvalues\u001b[0m\u001b[0;34m)\u001b[0m\u001b[0;34m\u001b[0m\u001b[0;34m\u001b[0m\u001b[0m\n\u001b[0m\u001b[1;32m      2\u001b[0m \u001b[0mdf_all_features\u001b[0m \u001b[0;34m=\u001b[0m \u001b[0mscipy\u001b[0m\u001b[0;34m.\u001b[0m\u001b[0mhstack\u001b[0m\u001b[0;34m(\u001b[0m\u001b[0;34m(\u001b[0m\u001b[0mdf_work_4_csr\u001b[0m\u001b[0;34m,\u001b[0m\u001b[0mtfidf_vectors\u001b[0m\u001b[0;34m)\u001b[0m\u001b[0;34m,\u001b[0m\u001b[0mformat\u001b[0m\u001b[0;34m=\u001b[0m\u001b[0;34m'csr'\u001b[0m\u001b[0;34m)\u001b[0m\u001b[0;34m\u001b[0m\u001b[0;34m\u001b[0m\u001b[0m\n",
      "\u001b[0;32m~/opt/anaconda3/lib/python3.9/site-packages/scipy/sparse/compressed.py\u001b[0m in \u001b[0;36m__init__\u001b[0;34m(self, arg1, shape, dtype, copy)\u001b[0m\n\u001b[1;32m     84\u001b[0m                                  \"\".format(self.format)) from e\n\u001b[1;32m     85\u001b[0m             \u001b[0;32mfrom\u001b[0m \u001b[0;34m.\u001b[0m\u001b[0mcoo\u001b[0m \u001b[0;32mimport\u001b[0m \u001b[0mcoo_matrix\u001b[0m\u001b[0;34m\u001b[0m\u001b[0;34m\u001b[0m\u001b[0m\n\u001b[0;32m---> 86\u001b[0;31m             \u001b[0mself\u001b[0m\u001b[0;34m.\u001b[0m\u001b[0m_set_self\u001b[0m\u001b[0;34m(\u001b[0m\u001b[0mself\u001b[0m\u001b[0;34m.\u001b[0m\u001b[0m__class__\u001b[0m\u001b[0;34m(\u001b[0m\u001b[0mcoo_matrix\u001b[0m\u001b[0;34m(\u001b[0m\u001b[0marg1\u001b[0m\u001b[0;34m,\u001b[0m \u001b[0mdtype\u001b[0m\u001b[0;34m=\u001b[0m\u001b[0mdtype\u001b[0m\u001b[0;34m)\u001b[0m\u001b[0;34m)\u001b[0m\u001b[0;34m)\u001b[0m\u001b[0;34m\u001b[0m\u001b[0;34m\u001b[0m\u001b[0m\n\u001b[0m\u001b[1;32m     87\u001b[0m \u001b[0;34m\u001b[0m\u001b[0m\n\u001b[1;32m     88\u001b[0m         \u001b[0;31m# Read matrix dimensions given, if any\u001b[0m\u001b[0;34m\u001b[0m\u001b[0;34m\u001b[0m\u001b[0m\n",
      "\u001b[0;32m~/opt/anaconda3/lib/python3.9/site-packages/scipy/sparse/compressed.py\u001b[0m in \u001b[0;36m__init__\u001b[0;34m(self, arg1, shape, dtype, copy)\u001b[0m\n\u001b[1;32m     32\u001b[0m                 \u001b[0marg1\u001b[0m \u001b[0;34m=\u001b[0m \u001b[0marg1\u001b[0m\u001b[0;34m.\u001b[0m\u001b[0mcopy\u001b[0m\u001b[0;34m(\u001b[0m\u001b[0;34m)\u001b[0m\u001b[0;34m\u001b[0m\u001b[0;34m\u001b[0m\u001b[0m\n\u001b[1;32m     33\u001b[0m             \u001b[0;32melse\u001b[0m\u001b[0;34m:\u001b[0m\u001b[0;34m\u001b[0m\u001b[0;34m\u001b[0m\u001b[0m\n\u001b[0;32m---> 34\u001b[0;31m                 \u001b[0marg1\u001b[0m \u001b[0;34m=\u001b[0m \u001b[0marg1\u001b[0m\u001b[0;34m.\u001b[0m\u001b[0masformat\u001b[0m\u001b[0;34m(\u001b[0m\u001b[0mself\u001b[0m\u001b[0;34m.\u001b[0m\u001b[0mformat\u001b[0m\u001b[0;34m)\u001b[0m\u001b[0;34m\u001b[0m\u001b[0;34m\u001b[0m\u001b[0m\n\u001b[0m\u001b[1;32m     35\u001b[0m             \u001b[0mself\u001b[0m\u001b[0;34m.\u001b[0m\u001b[0m_set_self\u001b[0m\u001b[0;34m(\u001b[0m\u001b[0marg1\u001b[0m\u001b[0;34m)\u001b[0m\u001b[0;34m\u001b[0m\u001b[0;34m\u001b[0m\u001b[0m\n\u001b[1;32m     36\u001b[0m \u001b[0;34m\u001b[0m\u001b[0m\n",
      "\u001b[0;32m~/opt/anaconda3/lib/python3.9/site-packages/scipy/sparse/base.py\u001b[0m in \u001b[0;36masformat\u001b[0;34m(self, format, copy)\u001b[0m\n\u001b[1;32m    322\u001b[0m                 \u001b[0;32mreturn\u001b[0m \u001b[0mconvert_method\u001b[0m\u001b[0;34m(\u001b[0m\u001b[0mcopy\u001b[0m\u001b[0;34m=\u001b[0m\u001b[0mcopy\u001b[0m\u001b[0;34m)\u001b[0m\u001b[0;34m\u001b[0m\u001b[0;34m\u001b[0m\u001b[0m\n\u001b[1;32m    323\u001b[0m             \u001b[0;32mexcept\u001b[0m \u001b[0mTypeError\u001b[0m\u001b[0;34m:\u001b[0m\u001b[0;34m\u001b[0m\u001b[0;34m\u001b[0m\u001b[0m\n\u001b[0;32m--> 324\u001b[0;31m                 \u001b[0;32mreturn\u001b[0m \u001b[0mconvert_method\u001b[0m\u001b[0;34m(\u001b[0m\u001b[0;34m)\u001b[0m\u001b[0;34m\u001b[0m\u001b[0;34m\u001b[0m\u001b[0m\n\u001b[0m\u001b[1;32m    325\u001b[0m \u001b[0;34m\u001b[0m\u001b[0m\n\u001b[1;32m    326\u001b[0m     \u001b[0;31m###################################################################\u001b[0m\u001b[0;34m\u001b[0m\u001b[0;34m\u001b[0m\u001b[0m\n",
      "\u001b[0;32m~/opt/anaconda3/lib/python3.9/site-packages/scipy/sparse/coo.py\u001b[0m in \u001b[0;36mtocsr\u001b[0;34m(self, copy)\u001b[0m\n\u001b[1;32m    402\u001b[0m             \u001b[0mindptr\u001b[0m \u001b[0;34m=\u001b[0m \u001b[0mnp\u001b[0m\u001b[0;34m.\u001b[0m\u001b[0mempty\u001b[0m\u001b[0;34m(\u001b[0m\u001b[0mM\u001b[0m \u001b[0;34m+\u001b[0m \u001b[0;36m1\u001b[0m\u001b[0;34m,\u001b[0m \u001b[0mdtype\u001b[0m\u001b[0;34m=\u001b[0m\u001b[0midx_dtype\u001b[0m\u001b[0;34m)\u001b[0m\u001b[0;34m\u001b[0m\u001b[0;34m\u001b[0m\u001b[0m\n\u001b[1;32m    403\u001b[0m             \u001b[0mindices\u001b[0m \u001b[0;34m=\u001b[0m \u001b[0mnp\u001b[0m\u001b[0;34m.\u001b[0m\u001b[0mempty_like\u001b[0m\u001b[0;34m(\u001b[0m\u001b[0mcol\u001b[0m\u001b[0;34m,\u001b[0m \u001b[0mdtype\u001b[0m\u001b[0;34m=\u001b[0m\u001b[0midx_dtype\u001b[0m\u001b[0;34m)\u001b[0m\u001b[0;34m\u001b[0m\u001b[0;34m\u001b[0m\u001b[0m\n\u001b[0;32m--> 404\u001b[0;31m             \u001b[0mdata\u001b[0m \u001b[0;34m=\u001b[0m \u001b[0mnp\u001b[0m\u001b[0;34m.\u001b[0m\u001b[0mempty_like\u001b[0m\u001b[0;34m(\u001b[0m\u001b[0mself\u001b[0m\u001b[0;34m.\u001b[0m\u001b[0mdata\u001b[0m\u001b[0;34m,\u001b[0m \u001b[0mdtype\u001b[0m\u001b[0;34m=\u001b[0m\u001b[0mupcast\u001b[0m\u001b[0;34m(\u001b[0m\u001b[0mself\u001b[0m\u001b[0;34m.\u001b[0m\u001b[0mdtype\u001b[0m\u001b[0;34m)\u001b[0m\u001b[0;34m)\u001b[0m\u001b[0;34m\u001b[0m\u001b[0;34m\u001b[0m\u001b[0m\n\u001b[0m\u001b[1;32m    405\u001b[0m \u001b[0;34m\u001b[0m\u001b[0m\n\u001b[1;32m    406\u001b[0m             coo_tocsr(M, N, self.nnz, row, col, self.data,\n",
      "\u001b[0;32m~/opt/anaconda3/lib/python3.9/site-packages/scipy/sparse/sputils.py\u001b[0m in \u001b[0;36mupcast\u001b[0;34m(*args)\u001b[0m\n\u001b[1;32m     49\u001b[0m             \u001b[0;32mreturn\u001b[0m \u001b[0mt\u001b[0m\u001b[0;34m\u001b[0m\u001b[0;34m\u001b[0m\u001b[0m\n\u001b[1;32m     50\u001b[0m \u001b[0;34m\u001b[0m\u001b[0m\n\u001b[0;32m---> 51\u001b[0;31m     \u001b[0;32mraise\u001b[0m \u001b[0mTypeError\u001b[0m\u001b[0;34m(\u001b[0m\u001b[0;34m'no supported conversion for types: %r'\u001b[0m \u001b[0;34m%\u001b[0m \u001b[0;34m(\u001b[0m\u001b[0margs\u001b[0m\u001b[0;34m,\u001b[0m\u001b[0;34m)\u001b[0m\u001b[0;34m)\u001b[0m\u001b[0;34m\u001b[0m\u001b[0;34m\u001b[0m\u001b[0m\n\u001b[0m\u001b[1;32m     52\u001b[0m \u001b[0;34m\u001b[0m\u001b[0m\n\u001b[1;32m     53\u001b[0m \u001b[0;34m\u001b[0m\u001b[0m\n",
      "\u001b[0;31mTypeError\u001b[0m: no supported conversion for types: (dtype('O'),)"
     ]
    }
   ],
   "source": [
    "import scipy\n",
    "from scipy import sparse\n",
    "\n",
    "df_work_4_csr = scipy.sparse.csr_matrix(weather_alarms_features.values)\n",
    "df_all_features = scipy.hstack((df_work_4_csr,tfidf_vectors),format='csr')"
   ]
  },
  {
   "cell_type": "code",
   "execution_count": null,
   "id": "5187fbd6",
   "metadata": {},
   "outputs": [],
   "source": [
    "weather_alarms['isAlarm'] = weather_alarms['event_start_hour'].notnull().astype(int)"
   ]
  },
  {
   "cell_type": "code",
   "execution_count": null,
   "id": "8fd2253c",
   "metadata": {},
   "outputs": [],
   "source": [
    "weather_alarms_features = weather_alarms_features.drop(columns=['event_all_region', 'event_start',\n",
    "       'event_end', 'event_clean_end', 'event_intersection_alarm_id',\n",
    "       'event_start_time', 'event_end_time', 'event_day',\n",
    "       'event_feature_number_of_region', 'event_within_24_hours',\n",
    "       'event_feature_number_of_alarms_within_24_hours', 'event_start_hour',\n",
    "       'event_end_hour', 'event_day_date', 'event_start_hour_datetimeEpoch',\n",
    "       'event_end_hour_datetimeEpoch', 'event_hour_level_event_time',\n",
    "       'event_hour_level_event_datetimeEpoch','region_alt','hour_conditions','center_city_en','hour_datetime','day_sunset','day_sunrise'],axis=1)\n",
    "\n",
    "eather_alarms = weather_alarms.drop(columns=['region_alt','hour_conditions','center_city_en','hour_datetime','day_sunset','day_sunrise'])"
   ]
  },
  {
   "cell_type": "code",
   "execution_count": null,
   "id": "4f08b976",
   "metadata": {},
   "outputs": [],
   "source": [
    "tfidf_vectors"
   ]
  },
  {
   "cell_type": "code",
   "execution_count": null,
   "id": "cc61d989",
   "metadata": {},
   "outputs": [],
   "source": [
    "df_work_4_csr"
   ]
  },
  {
   "cell_type": "code",
   "execution_count": null,
   "id": "ef3e4732",
   "metadata": {},
   "outputs": [],
   "source": [
    "type(df_work_4_csr)"
   ]
  },
  {
   "cell_type": "code",
   "execution_count": null,
   "id": "928e9cc0",
   "metadata": {},
   "outputs": [],
   "source": [
    "tfidf_vectors.head()"
   ]
  },
  {
   "cell_type": "code",
   "execution_count": null,
   "id": "03a57ef4",
   "metadata": {},
   "outputs": [],
   "source": [
    "tfidf_vectors.shape"
   ]
  },
  {
   "cell_type": "code",
   "execution_count": null,
   "id": "62774171",
   "metadata": {},
   "outputs": [],
   "source": [
    "weather_alarms_features.info()"
   ]
  },
  {
   "cell_type": "code",
   "execution_count": null,
   "id": "b58f631d",
   "metadata": {},
   "outputs": [],
   "source": [
    "weather_alarms_features.head()"
   ]
  },
  {
   "cell_type": "code",
   "execution_count": null,
   "id": "cbef7b5a",
   "metadata": {},
   "outputs": [],
   "source": [
    "Y.head()"
   ]
  },
  {
   "cell_type": "code",
   "execution_count": null,
   "id": "f6952372",
   "metadata": {},
   "outputs": [],
   "source": [
    "weather_alarms['isAlarm'] = weather_alarms['event_start_hour'].notnull().astype(int)"
   ]
  },
  {
   "cell_type": "code",
   "execution_count": null,
   "id": "b0c81385",
   "metadata": {},
   "outputs": [],
   "source": [
    "weather_alarms_features.head()"
   ]
  },
  {
   "cell_type": "code",
   "execution_count": null,
   "id": "054499c4",
   "metadata": {},
   "outputs": [],
   "source": [
    "weather_alarms_features.shape"
   ]
  },
  {
   "cell_type": "code",
   "execution_count": null,
   "id": "99409b46",
   "metadata": {},
   "outputs": [],
   "source": [
    "import numpy as np\n",
    "import pandas as pd\n",
    "from sklearn.model_selection import TimeSeriesSplit\n",
    "\n",
    "X = weather_alarms_features\n",
    "y = Y\n",
    "\n",
    "# Specify the number of splits for time series cross-validation\n",
    "n_splits = 5\n",
    "\n",
    "# Initialize TimeSeriesSplit with the specified number of splits\n",
    "tscv = TimeSeriesSplit(n_splits=n_splits)\n",
    "\n",
    "# Perform time series splitting of data\n",
    "for train_index, test_index in tscv.split(X):\n",
    "    # Extract train and test data using the split indices\n",
    "    X_train, X_test = X.iloc[train_index], X.iloc[test_index]\n",
    "    y_train, y_test = y.iloc[train_index], y.iloc[test_index]"
   ]
  },
  {
   "cell_type": "code",
   "execution_count": null,
   "id": "c699bcc4",
   "metadata": {},
   "outputs": [],
   "source": []
  },
  {
   "cell_type": "code",
   "execution_count": null,
   "id": "dea9dbc6",
   "metadata": {},
   "outputs": [],
   "source": [
    "X_train.shape"
   ]
  },
  {
   "cell_type": "code",
   "execution_count": null,
   "id": "1498b44b",
   "metadata": {},
   "outputs": [],
   "source": [
    "y_train.shape"
   ]
  },
  {
   "cell_type": "code",
   "execution_count": null,
   "id": "9b8d1197",
   "metadata": {},
   "outputs": [],
   "source": [
    "weather_alarms_features.isnull().sum()\n",
    "weather_alarms_features = weather_alarms_features.drop(columns=['hour_precip','hour_solarradiation','hour_solarenergy','hour_uvindex'])"
   ]
  },
  {
   "cell_type": "code",
   "execution_count": null,
   "id": "68532811",
   "metadata": {},
   "outputs": [],
   "source": [
    "weather_alarms_features.isnull().sum()"
   ]
  },
  {
   "cell_type": "code",
   "execution_count": null,
   "id": "aab0a5b5",
   "metadata": {},
   "outputs": [],
   "source": [
    "from sklearn.linear_model import LogisticRegression\n",
    "\n",
    "# Create an instance of the LogisticRegression class\n",
    "logreg = LogisticRegression()\n",
    "\n",
    "# Train the logistic regression model\n",
    "logreg.fit(X_train, y_train)\n",
    "\n",
    "# Predict the target variable on the test data\n",
    "y_pred = logreg.predict(X_test)\n",
    "\n",
    "# Evaluate the performance of the model\n",
    "accuracy = logreg.score(X_test, y_test)"
   ]
  },
  {
   "cell_type": "code",
   "execution_count": null,
   "id": "953a6f43",
   "metadata": {},
   "outputs": [],
   "source": [
    "print(accuracy)"
   ]
  }
 ],
 "metadata": {
  "kernelspec": {
   "display_name": "Python 3 (ipykernel)",
   "language": "python",
   "name": "python3"
  },
  "language_info": {
   "codemirror_mode": {
    "name": "ipython",
    "version": 3
   },
   "file_extension": ".py",
   "mimetype": "text/x-python",
   "name": "python",
   "nbconvert_exporter": "python",
   "pygments_lexer": "ipython3",
   "version": "3.9.7"
  }
 },
 "nbformat": 4,
 "nbformat_minor": 5
}
