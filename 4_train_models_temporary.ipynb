{
 "cells": [
  {
   "cell_type": "code",
   "execution_count": 26,
   "id": "d6c33ed8",
   "metadata": {
    "ExecuteTime": {
     "start_time": "2023-04-12T10:01:24.907866Z",
     "end_time": "2023-04-12T10:01:24.952570Z"
    }
   },
   "outputs": [],
   "source": [
    "import pandas as pd\n",
    "\n",
    "import scipy\n",
    "from scipy import sparse\n",
    "\n",
    "import numpy as np\n",
    "from sklearn.model_selection import TimeSeriesSplit\n",
    "\n",
    "import pickle\n"
   ]
  },
  {
   "cell_type": "markdown",
   "id": "e762e0c2",
   "metadata": {},
   "source": [
    "### Read data"
   ]
  },
  {
   "cell_type": "code",
   "execution_count": 27,
   "id": "ed8f3542",
   "metadata": {
    "ExecuteTime": {
     "start_time": "2023-04-12T10:01:26.308388Z",
     "end_time": "2023-04-12T10:02:19.020867Z"
    }
   },
   "outputs": [],
   "source": [
    "weather_alarms_tfidf = pd.read_csv('data/df_weather+alarms_merged.csv')\n",
    "tfidf_vectors = pd.read_csv('data/0_isw_data_collection/3_isw_vectorised_with_date.csv')"
   ]
  },
  {
   "cell_type": "code",
   "execution_count": 28,
   "id": "3e72f651",
   "metadata": {
    "ExecuteTime": {
     "start_time": "2023-04-12T10:02:19.023162Z",
     "end_time": "2023-04-12T10:02:19.035043Z"
    }
   },
   "outputs": [
    {
     "data": {
      "text/plain": "(203420, 70)"
     },
     "execution_count": 28,
     "metadata": {},
     "output_type": "execute_result"
    }
   ],
   "source": [
    "weather_alarms_tfidf.shape"
   ]
  },
  {
   "cell_type": "code",
   "execution_count": 29,
   "id": "dbe53dc4",
   "metadata": {
    "ExecuteTime": {
     "start_time": "2023-04-12T10:02:19.048685Z",
     "end_time": "2023-04-12T10:02:19.186013Z"
    }
   },
   "outputs": [
    {
     "data": {
      "text/plain": "   Unnamed: 0 city_resolvedAddress day_datetime  day_datetimeEpoch   \n0           0     Черкаси, Україна   2022-02-24         1645653600  \\\n1           1     Черкаси, Україна   2022-02-24         1645653600   \n2           2     Черкаси, Україна   2022-02-24         1645653600   \n3           3     Черкаси, Україна   2022-02-24         1645653600   \n4           4     Черкаси, Україна   2022-02-24         1645653600   \n\n   day_tempmax  day_tempmin  day_temp  day_dew  day_humidity  day_precip  ...   \n0          4.9         -0.1       1.9     -0.6          83.4         0.0  ...  \\\n1          4.9         -0.1       1.9     -0.6          83.4         0.0  ...   \n2          4.9         -0.1       1.9     -0.6          83.4         0.0  ...   \n3          4.9         -0.1       1.9     -0.6          83.4         0.0  ...   \n4          4.9         -0.1       1.9     -0.6          83.4         0.0  ...   \n\n   event_day_date  event_start_hour_datetimeEpoch   \n0             NaN                             NaN  \\\n1             NaN                             NaN   \n2             NaN                             NaN   \n3             NaN                             NaN   \n4             NaN                             NaN   \n\n   event_end_hour_datetimeEpoch  event_hour_level_event_time   \n0                           NaN                          NaN  \\\n1                           NaN                          NaN   \n2                           NaN                          NaN   \n3                           NaN                          NaN   \n4                           NaN                          NaN   \n\n  event_hour_level_event_datetimeEpoch isw_report_date   \n0                                  NaN             NaN  \\\n1                                  NaN             NaN   \n2                                  NaN             NaN   \n3                                  NaN             NaN   \n4                                  NaN             NaN   \n\n   isw_date_tomorrow_datetime isw_keywords  isw_main_html_v6   \n0                         NaN          NaN               NaN  \\\n1                         NaN          NaN               NaN   \n2                         NaN          NaN               NaN   \n3                         NaN          NaN               NaN   \n4                         NaN          NaN               NaN   \n\n   isw_report_text_lemm  \n0                   NaN  \n1                   NaN  \n2                   NaN  \n3                   NaN  \n4                   NaN  \n\n[5 rows x 70 columns]",
      "text/html": "<div>\n<style scoped>\n    .dataframe tbody tr th:only-of-type {\n        vertical-align: middle;\n    }\n\n    .dataframe tbody tr th {\n        vertical-align: top;\n    }\n\n    .dataframe thead th {\n        text-align: right;\n    }\n</style>\n<table border=\"1\" class=\"dataframe\">\n  <thead>\n    <tr style=\"text-align: right;\">\n      <th></th>\n      <th>Unnamed: 0</th>\n      <th>city_resolvedAddress</th>\n      <th>day_datetime</th>\n      <th>day_datetimeEpoch</th>\n      <th>day_tempmax</th>\n      <th>day_tempmin</th>\n      <th>day_temp</th>\n      <th>day_dew</th>\n      <th>day_humidity</th>\n      <th>day_precip</th>\n      <th>...</th>\n      <th>event_day_date</th>\n      <th>event_start_hour_datetimeEpoch</th>\n      <th>event_end_hour_datetimeEpoch</th>\n      <th>event_hour_level_event_time</th>\n      <th>event_hour_level_event_datetimeEpoch</th>\n      <th>isw_report_date</th>\n      <th>isw_date_tomorrow_datetime</th>\n      <th>isw_keywords</th>\n      <th>isw_main_html_v6</th>\n      <th>isw_report_text_lemm</th>\n    </tr>\n  </thead>\n  <tbody>\n    <tr>\n      <th>0</th>\n      <td>0</td>\n      <td>Черкаси, Україна</td>\n      <td>2022-02-24</td>\n      <td>1645653600</td>\n      <td>4.9</td>\n      <td>-0.1</td>\n      <td>1.9</td>\n      <td>-0.6</td>\n      <td>83.4</td>\n      <td>0.0</td>\n      <td>...</td>\n      <td>NaN</td>\n      <td>NaN</td>\n      <td>NaN</td>\n      <td>NaN</td>\n      <td>NaN</td>\n      <td>NaN</td>\n      <td>NaN</td>\n      <td>NaN</td>\n      <td>NaN</td>\n      <td>NaN</td>\n    </tr>\n    <tr>\n      <th>1</th>\n      <td>1</td>\n      <td>Черкаси, Україна</td>\n      <td>2022-02-24</td>\n      <td>1645653600</td>\n      <td>4.9</td>\n      <td>-0.1</td>\n      <td>1.9</td>\n      <td>-0.6</td>\n      <td>83.4</td>\n      <td>0.0</td>\n      <td>...</td>\n      <td>NaN</td>\n      <td>NaN</td>\n      <td>NaN</td>\n      <td>NaN</td>\n      <td>NaN</td>\n      <td>NaN</td>\n      <td>NaN</td>\n      <td>NaN</td>\n      <td>NaN</td>\n      <td>NaN</td>\n    </tr>\n    <tr>\n      <th>2</th>\n      <td>2</td>\n      <td>Черкаси, Україна</td>\n      <td>2022-02-24</td>\n      <td>1645653600</td>\n      <td>4.9</td>\n      <td>-0.1</td>\n      <td>1.9</td>\n      <td>-0.6</td>\n      <td>83.4</td>\n      <td>0.0</td>\n      <td>...</td>\n      <td>NaN</td>\n      <td>NaN</td>\n      <td>NaN</td>\n      <td>NaN</td>\n      <td>NaN</td>\n      <td>NaN</td>\n      <td>NaN</td>\n      <td>NaN</td>\n      <td>NaN</td>\n      <td>NaN</td>\n    </tr>\n    <tr>\n      <th>3</th>\n      <td>3</td>\n      <td>Черкаси, Україна</td>\n      <td>2022-02-24</td>\n      <td>1645653600</td>\n      <td>4.9</td>\n      <td>-0.1</td>\n      <td>1.9</td>\n      <td>-0.6</td>\n      <td>83.4</td>\n      <td>0.0</td>\n      <td>...</td>\n      <td>NaN</td>\n      <td>NaN</td>\n      <td>NaN</td>\n      <td>NaN</td>\n      <td>NaN</td>\n      <td>NaN</td>\n      <td>NaN</td>\n      <td>NaN</td>\n      <td>NaN</td>\n      <td>NaN</td>\n    </tr>\n    <tr>\n      <th>4</th>\n      <td>4</td>\n      <td>Черкаси, Україна</td>\n      <td>2022-02-24</td>\n      <td>1645653600</td>\n      <td>4.9</td>\n      <td>-0.1</td>\n      <td>1.9</td>\n      <td>-0.6</td>\n      <td>83.4</td>\n      <td>0.0</td>\n      <td>...</td>\n      <td>NaN</td>\n      <td>NaN</td>\n      <td>NaN</td>\n      <td>NaN</td>\n      <td>NaN</td>\n      <td>NaN</td>\n      <td>NaN</td>\n      <td>NaN</td>\n      <td>NaN</td>\n      <td>NaN</td>\n    </tr>\n  </tbody>\n</table>\n<p>5 rows × 70 columns</p>\n</div>"
     },
     "execution_count": 29,
     "metadata": {},
     "output_type": "execute_result"
    }
   ],
   "source": [
    "weather_alarms_tfidf.head()"
   ]
  },
  {
   "cell_type": "code",
   "execution_count": 30,
   "id": "19cfde6f",
   "metadata": {
    "ExecuteTime": {
     "start_time": "2023-04-12T10:02:19.090669Z",
     "end_time": "2023-04-12T10:02:19.187008Z"
    }
   },
   "outputs": [
    {
     "data": {
      "text/plain": "   Unnamed: 0    0    1    2    3    4         5    6    7         8  ...   \n0           0  0.0  0.0  0.0  0.0  0.0  0.000000  0.0  0.0  0.000000  ...  \\\n1           1  0.0  0.0  0.0  0.0  0.0  0.000000  0.0  0.0  0.000000  ...   \n2           2  0.0  0.0  0.0  0.0  0.0  0.000000  0.0  0.0  0.000000  ...   \n3           3  0.0  0.0  0.0  0.0  0.0  0.023238  0.0  0.0  0.000000  ...   \n4           4  0.0  0.0  0.0  0.0  0.0  0.000000  0.0  0.0  0.033858  ...   \n\n   7392  7393  7394  7395  7396  7397  7398  7399  7400        date  \n0   0.0   0.0   0.0   0.0   0.0   0.0   0.0   0.0   0.0  2022-02-25  \n1   0.0   0.0   0.0   0.0   0.0   0.0   0.0   0.0   0.0  2022-02-26  \n2   0.0   0.0   0.0   0.0   0.0   0.0   0.0   0.0   0.0  2022-02-27  \n3   0.0   0.0   0.0   0.0   0.0   0.0   0.0   0.0   0.0  2022-02-28  \n4   0.0   0.0   0.0   0.0   0.0   0.0   0.0   0.0   0.0  2022-03-01  \n\n[5 rows x 7403 columns]",
      "text/html": "<div>\n<style scoped>\n    .dataframe tbody tr th:only-of-type {\n        vertical-align: middle;\n    }\n\n    .dataframe tbody tr th {\n        vertical-align: top;\n    }\n\n    .dataframe thead th {\n        text-align: right;\n    }\n</style>\n<table border=\"1\" class=\"dataframe\">\n  <thead>\n    <tr style=\"text-align: right;\">\n      <th></th>\n      <th>Unnamed: 0</th>\n      <th>0</th>\n      <th>1</th>\n      <th>2</th>\n      <th>3</th>\n      <th>4</th>\n      <th>5</th>\n      <th>6</th>\n      <th>7</th>\n      <th>8</th>\n      <th>...</th>\n      <th>7392</th>\n      <th>7393</th>\n      <th>7394</th>\n      <th>7395</th>\n      <th>7396</th>\n      <th>7397</th>\n      <th>7398</th>\n      <th>7399</th>\n      <th>7400</th>\n      <th>date</th>\n    </tr>\n  </thead>\n  <tbody>\n    <tr>\n      <th>0</th>\n      <td>0</td>\n      <td>0.0</td>\n      <td>0.0</td>\n      <td>0.0</td>\n      <td>0.0</td>\n      <td>0.0</td>\n      <td>0.000000</td>\n      <td>0.0</td>\n      <td>0.0</td>\n      <td>0.000000</td>\n      <td>...</td>\n      <td>0.0</td>\n      <td>0.0</td>\n      <td>0.0</td>\n      <td>0.0</td>\n      <td>0.0</td>\n      <td>0.0</td>\n      <td>0.0</td>\n      <td>0.0</td>\n      <td>0.0</td>\n      <td>2022-02-25</td>\n    </tr>\n    <tr>\n      <th>1</th>\n      <td>1</td>\n      <td>0.0</td>\n      <td>0.0</td>\n      <td>0.0</td>\n      <td>0.0</td>\n      <td>0.0</td>\n      <td>0.000000</td>\n      <td>0.0</td>\n      <td>0.0</td>\n      <td>0.000000</td>\n      <td>...</td>\n      <td>0.0</td>\n      <td>0.0</td>\n      <td>0.0</td>\n      <td>0.0</td>\n      <td>0.0</td>\n      <td>0.0</td>\n      <td>0.0</td>\n      <td>0.0</td>\n      <td>0.0</td>\n      <td>2022-02-26</td>\n    </tr>\n    <tr>\n      <th>2</th>\n      <td>2</td>\n      <td>0.0</td>\n      <td>0.0</td>\n      <td>0.0</td>\n      <td>0.0</td>\n      <td>0.0</td>\n      <td>0.000000</td>\n      <td>0.0</td>\n      <td>0.0</td>\n      <td>0.000000</td>\n      <td>...</td>\n      <td>0.0</td>\n      <td>0.0</td>\n      <td>0.0</td>\n      <td>0.0</td>\n      <td>0.0</td>\n      <td>0.0</td>\n      <td>0.0</td>\n      <td>0.0</td>\n      <td>0.0</td>\n      <td>2022-02-27</td>\n    </tr>\n    <tr>\n      <th>3</th>\n      <td>3</td>\n      <td>0.0</td>\n      <td>0.0</td>\n      <td>0.0</td>\n      <td>0.0</td>\n      <td>0.0</td>\n      <td>0.023238</td>\n      <td>0.0</td>\n      <td>0.0</td>\n      <td>0.000000</td>\n      <td>...</td>\n      <td>0.0</td>\n      <td>0.0</td>\n      <td>0.0</td>\n      <td>0.0</td>\n      <td>0.0</td>\n      <td>0.0</td>\n      <td>0.0</td>\n      <td>0.0</td>\n      <td>0.0</td>\n      <td>2022-02-28</td>\n    </tr>\n    <tr>\n      <th>4</th>\n      <td>4</td>\n      <td>0.0</td>\n      <td>0.0</td>\n      <td>0.0</td>\n      <td>0.0</td>\n      <td>0.0</td>\n      <td>0.000000</td>\n      <td>0.0</td>\n      <td>0.0</td>\n      <td>0.033858</td>\n      <td>...</td>\n      <td>0.0</td>\n      <td>0.0</td>\n      <td>0.0</td>\n      <td>0.0</td>\n      <td>0.0</td>\n      <td>0.0</td>\n      <td>0.0</td>\n      <td>0.0</td>\n      <td>0.0</td>\n      <td>2022-03-01</td>\n    </tr>\n  </tbody>\n</table>\n<p>5 rows × 7403 columns</p>\n</div>"
     },
     "execution_count": 30,
     "metadata": {},
     "output_type": "execute_result"
    }
   ],
   "source": [
    "tfidf_vectors.head()"
   ]
  },
  {
   "cell_type": "code",
   "execution_count": 31,
   "id": "f638660c",
   "metadata": {
    "scrolled": true,
    "ExecuteTime": {
     "start_time": "2023-04-12T10:02:19.100487Z",
     "end_time": "2023-04-12T10:02:19.188086Z"
    }
   },
   "outputs": [
    {
     "data": {
      "text/plain": "Index(['Unnamed: 0', 'city_resolvedAddress', 'day_datetime',\n       'day_datetimeEpoch', 'day_tempmax', 'day_tempmin', 'day_temp',\n       'day_dew', 'day_humidity', 'day_precip', 'day_precipcover',\n       'day_solarradiation', 'day_solarenergy', 'day_uvindex', 'day_sunrise',\n       'day_sunset', 'day_moonphase', 'hour_datetime', 'hour_datetimeEpoch',\n       'hour_temp', 'hour_humidity', 'hour_dew', 'hour_precip',\n       'hour_precipprob', 'hour_snow', 'hour_snowdepth', 'hour_preciptype',\n       'hour_windgust', 'hour_windspeed', 'hour_winddir', 'hour_pressure',\n       'hour_visibility', 'hour_cloudcover', 'hour_solarradiation',\n       'hour_solarenergy', 'hour_uvindex', 'hour_severerisk',\n       'hour_conditions', 'city', 'region', 'center_city_ua', 'center_city_en',\n       'region_alt', 'region_id', 'event_Unnamed: 0', 'event_region_title',\n       'event_region_city', 'event_all_region', 'event_start', 'event_end',\n       'event_clean_end', 'event_intersection_alarm_id', 'event_start_time',\n       'event_end_time', 'event_day', 'event_feature_number_of_region',\n       'event_within_24_hours',\n       'event_feature_number_of_alarms_within_24_hours', 'event_start_hour',\n       'event_end_hour', 'event_day_date', 'event_start_hour_datetimeEpoch',\n       'event_end_hour_datetimeEpoch', 'event_hour_level_event_time',\n       'event_hour_level_event_datetimeEpoch', 'isw_report_date',\n       'isw_date_tomorrow_datetime', 'isw_keywords', 'isw_main_html_v6',\n       'isw_report_text_lemm'],\n      dtype='object')"
     },
     "execution_count": 31,
     "metadata": {},
     "output_type": "execute_result"
    }
   ],
   "source": [
    "weather_alarms_tfidf.columns"
   ]
  },
  {
   "cell_type": "code",
   "execution_count": 32,
   "id": "f67b66ad",
   "metadata": {
    "ExecuteTime": {
     "start_time": "2023-04-12T10:02:19.123455Z",
     "end_time": "2023-04-12T10:02:19.318905Z"
    }
   },
   "outputs": [
    {
     "data": {
      "text/plain": "(203420, 70)"
     },
     "execution_count": 32,
     "metadata": {},
     "output_type": "execute_result"
    }
   ],
   "source": [
    "weather_alarms_tfidf.shape"
   ]
  },
  {
   "cell_type": "markdown",
   "id": "34470577",
   "metadata": {},
   "source": [
    "### TF_IDF + CV with isw_report_text_lemm preprocessed"
   ]
  },
  {
   "cell_type": "code",
   "execution_count": 40,
   "id": "f55ac22f",
   "metadata": {
    "ExecuteTime": {
     "start_time": "2023-04-12T10:19:14.993026Z",
     "end_time": "2023-04-12T10:19:19.022250Z"
    }
   },
   "outputs": [
    {
     "name": "stderr",
     "output_type": "stream",
     "text": [
      "C:\\Users\\dimai\\AppData\\Local\\Temp\\ipykernel_7984\\3905827888.py:1: DeprecationWarning: Please use `csr_matrix` from the `scipy.sparse` namespace, the `scipy.sparse.csr` namespace is deprecated.\n",
      "  tfidf = pickle.load(open(\"models/tfidf_transformer_v1.pkl\",\"rb\"))\n"
     ]
    }
   ],
   "source": [
    "tfidf = pickle.load(open(\"models/tfidf_transformer_v1.pkl\",\"rb\"))\n",
    "cv = pickle.load(open(\"models/count_vectorizer_v1.pkl\",\"rb\"))\n",
    "tfidf_vector = scipy.sparse.load_npz('data/matrix/tfidf_vector_train.npz')\n",
    "\n",
    "#Uncommit if you want to create new one\n",
    "#word_count_vector = cv.transform(weather_alarms_tfidf['isw_report_text_lemm'].values.astype('U'))\n",
    "#tfidf_vector = tfidf.transform(word_count_vector)"
   ]
  },
  {
   "cell_type": "code",
   "execution_count": 41,
   "id": "8c29be78",
   "metadata": {
    "ExecuteTime": {
     "start_time": "2023-04-12T10:19:19.022250Z",
     "end_time": "2023-04-12T10:19:19.039173Z"
    }
   },
   "outputs": [],
   "source": [
    "#Save model and matrix\n",
    "#with open(\"models/tfidf_vector_calculated.pkl\", \"wb\") as handle:\n",
    "#    pickle.dump(tfidf_vector, handle)\n",
    "#scipy.sparse.save_npz('data/matrix/tfidf_vector_train.npz', tfidf_vector)"
   ]
  },
  {
   "cell_type": "code",
   "execution_count": 42,
   "outputs": [
    {
     "data": {
      "text/plain": "<203420x7401 sparse matrix of type '<class 'numpy.float64'>'\n\twith 123370706 stored elements in Compressed Sparse Row format>"
     },
     "execution_count": 42,
     "metadata": {},
     "output_type": "execute_result"
    }
   ],
   "source": [
    "tfidf_vector"
   ],
   "metadata": {
    "collapsed": false,
    "ExecuteTime": {
     "start_time": "2023-04-12T10:19:19.042915Z",
     "end_time": "2023-04-12T10:19:19.064838Z"
    }
   }
  },
  {
   "cell_type": "code",
   "execution_count": 10,
   "id": "0e38756a",
   "metadata": {
    "ExecuteTime": {
     "start_time": "2023-04-12T01:22:11.563300Z",
     "end_time": "2023-04-12T01:22:14.011421Z"
    }
   },
   "outputs": [
    {
     "name": "stdout",
     "output_type": "stream",
     "text": [
      "<class 'pandas.core.frame.DataFrame'>\n",
      "RangeIndex: 203420 entries, 0 to 203419\n",
      "Data columns (total 71 columns):\n",
      " #   Column                                          Non-Null Count   Dtype  \n",
      "---  ------                                          --------------   -----  \n",
      " 0   Unnamed: 0                                      203420 non-null  int64  \n",
      " 1   city_resolvedAddress                            203420 non-null  object \n",
      " 2   day_datetime                                    203420 non-null  object \n",
      " 3   day_datetimeEpoch                               203420 non-null  int64  \n",
      " 4   day_tempmax                                     203420 non-null  float64\n",
      " 5   day_tempmin                                     203420 non-null  float64\n",
      " 6   day_temp                                        203420 non-null  float64\n",
      " 7   day_dew                                         203420 non-null  float64\n",
      " 8   day_humidity                                    203420 non-null  float64\n",
      " 9   day_precip                                      203420 non-null  float64\n",
      " 10  day_precipcover                                 203420 non-null  float64\n",
      " 11  day_solarradiation                              203420 non-null  float64\n",
      " 12  day_solarenergy                                 203420 non-null  float64\n",
      " 13  day_uvindex                                     203420 non-null  float64\n",
      " 14  day_sunrise                                     203420 non-null  object \n",
      " 15  day_sunset                                      203420 non-null  object \n",
      " 16  day_moonphase                                   203420 non-null  float64\n",
      " 17  hour_datetime                                   203420 non-null  object \n",
      " 18  hour_datetimeEpoch                              203420 non-null  int64  \n",
      " 19  hour_temp                                       203420 non-null  float64\n",
      " 20  hour_humidity                                   203420 non-null  float64\n",
      " 21  hour_dew                                        203420 non-null  float64\n",
      " 22  hour_precip                                     203310 non-null  float64\n",
      " 23  hour_precipprob                                 203420 non-null  float64\n",
      " 24  hour_snow                                       203420 non-null  float64\n",
      " 25  hour_snowdepth                                  203420 non-null  float64\n",
      " 26  hour_preciptype                                 33433 non-null   object \n",
      " 27  hour_windgust                                   203420 non-null  float64\n",
      " 28  hour_windspeed                                  203420 non-null  float64\n",
      " 29  hour_winddir                                    203420 non-null  float64\n",
      " 30  hour_pressure                                   203420 non-null  float64\n",
      " 31  hour_visibility                                 203420 non-null  float64\n",
      " 32  hour_cloudcover                                 203420 non-null  float64\n",
      " 33  hour_solarradiation                             202636 non-null  float64\n",
      " 34  hour_solarenergy                                111221 non-null  float64\n",
      " 35  hour_uvindex                                    202636 non-null  float64\n",
      " 36  hour_severerisk                                 203420 non-null  float64\n",
      " 37  hour_conditions                                 203420 non-null  object \n",
      " 38  city                                            203420 non-null  object \n",
      " 39  region                                          203420 non-null  object \n",
      " 40  center_city_ua                                  203420 non-null  object \n",
      " 41  center_city_en                                  203420 non-null  object \n",
      " 42  region_alt                                      203420 non-null  object \n",
      " 43  region_id                                       203420 non-null  int64  \n",
      " 44  event_Unnamed: 0                                51594 non-null   float64\n",
      " 45  event_region_title                              51594 non-null   object \n",
      " 46  event_region_city                               51594 non-null   object \n",
      " 47  event_all_region                                51594 non-null   float64\n",
      " 48  event_start                                     51594 non-null   object \n",
      " 49  event_end                                       51594 non-null   object \n",
      " 50  event_clean_end                                 51593 non-null   object \n",
      " 51  event_intersection_alarm_id                     4997 non-null    float64\n",
      " 52  event_start_time                                51594 non-null   object \n",
      " 53  event_end_time                                  51594 non-null   object \n",
      " 54  event_day                                       51594 non-null   float64\n",
      " 55  event_feature_number_of_region                  51594 non-null   float64\n",
      " 56  event_within_24_hours                           51594 non-null   object \n",
      " 57  event_feature_number_of_alarms_within_24_hours  51594 non-null   float64\n",
      " 58  event_start_hour                                51594 non-null   object \n",
      " 59  event_end_hour                                  51594 non-null   object \n",
      " 60  event_day_date                                  51594 non-null   object \n",
      " 61  event_start_hour_datetimeEpoch                  51594 non-null   float64\n",
      " 62  event_end_hour_datetimeEpoch                    51594 non-null   float64\n",
      " 63  event_hour_level_event_time                     51594 non-null   object \n",
      " 64  event_hour_level_event_datetimeEpoch            51594 non-null   float64\n",
      " 65  isw_report_date                                 201669 non-null  object \n",
      " 66  isw_date_tomorrow_datetime                      201669 non-null  object \n",
      " 67  isw_keywords                                    201669 non-null  object \n",
      " 68  isw_main_html_v6                                195000 non-null  object \n",
      " 69  isw_report_text_lemm                            201669 non-null  object \n",
      " 70  isAlarm                                         203420 non-null  int32  \n",
      "dtypes: float64(37), int32(1), int64(4), object(29)\n",
      "memory usage: 109.4+ MB\n"
     ]
    }
   ],
   "source": [
    "weather_alarms_tfidf['isAlarm'] = weather_alarms_tfidf['event_start_hour'].notnull().astype(int)\n",
    "Y = weather_alarms_tfidf['isAlarm']\n",
    "weather_alarms_tfidf.info()"
   ]
  },
  {
   "cell_type": "code",
   "execution_count": 26,
   "id": "4e08413b",
   "metadata": {
    "ExecuteTime": {
     "start_time": "2023-04-12T01:27:42.904925Z",
     "end_time": "2023-04-12T01:27:42.959601Z"
    }
   },
   "outputs": [],
   "source": [
    "weather_alarms_tfidf_features = weather_alarms_tfidf.drop(columns=['event_all_region', 'event_start',\n",
    "       'event_end', 'event_clean_end', 'event_intersection_alarm_id',\n",
    "       'event_start_time', 'event_end_time', 'event_day',\n",
    "       'event_feature_number_of_region', 'event_within_24_hours',\n",
    "       'event_feature_number_of_alarms_within_24_hours', 'event_start_hour',\n",
    "       'event_end_hour', 'event_day_date', 'event_start_hour_datetimeEpoch',\n",
    "       'event_end_hour_datetimeEpoch', 'event_hour_level_event_time',\n",
    "       'event_hour_level_event_datetimeEpoch','region_alt','hour_conditions','center_city_en','hour_datetime','day_sunset','day_sunrise','isAlarm','hour_precip','hour_solarradiation','hour_solarenergy','hour_uvindex', 'event_region_title', 'event_region_city', 'isw_report_date', 'isw_date_tomorrow_datetime', 'isw_keywords', 'isw_main_html_v6', 'isw_report_text_lemm', 'city', 'region', 'center_city_ua', 'hour_preciptype', 'city_resolvedAddress', 'day_datetime', 'event_Unnamed: 0'],axis=1)"
   ]
  },
  {
   "cell_type": "code",
   "execution_count": 27,
   "id": "cd2d0c27",
   "metadata": {
    "ExecuteTime": {
     "start_time": "2023-04-12T01:27:43.598423Z",
     "end_time": "2023-04-12T01:27:43.661131Z"
    }
   },
   "outputs": [],
   "source": [
    "weather_alarms_tfidf_features_clear = weather_alarms_tfidf_features"
   ]
  },
  {
   "cell_type": "code",
   "execution_count": 28,
   "outputs": [
    {
     "data": {
      "text/plain": "Unnamed: 0            0\nday_datetimeEpoch     0\nday_tempmax           0\nday_tempmin           0\nday_temp              0\nday_dew               0\nday_humidity          0\nday_precip            0\nday_precipcover       0\nday_solarradiation    0\nday_solarenergy       0\nday_uvindex           0\nday_moonphase         0\nhour_datetimeEpoch    0\nhour_temp             0\nhour_humidity         0\nhour_dew              0\nhour_precipprob       0\nhour_snow             0\nhour_snowdepth        0\nhour_windgust         0\nhour_windspeed        0\nhour_winddir          0\nhour_pressure         0\nhour_visibility       0\nhour_cloudcover       0\nhour_severerisk       0\nregion_id             0\ndtype: int64"
     },
     "execution_count": 28,
     "metadata": {},
     "output_type": "execute_result"
    }
   ],
   "source": [
    "weather_alarms_tfidf_features.isnull().sum()"
   ],
   "metadata": {
    "collapsed": false,
    "ExecuteTime": {
     "start_time": "2023-04-12T01:27:44.563837Z",
     "end_time": "2023-04-12T01:27:44.632516Z"
    }
   }
  },
  {
   "cell_type": "code",
   "execution_count": 29,
   "outputs": [],
   "source": [
    "weather_alarms_tfidf_csr = scipy.sparse.csr_matrix(weather_alarms_tfidf_features_clear)\n",
    "weather_alarms_tfidf_features = scipy.sparse.hstack((weather_alarms_tfidf_csr, tfidf_vector), format=\"csr\")"
   ],
   "metadata": {
    "collapsed": false,
    "ExecuteTime": {
     "start_time": "2023-04-12T01:28:02.000569Z",
     "end_time": "2023-04-12T01:28:04.700111Z"
    }
   }
  },
  {
   "cell_type": "code",
   "execution_count": 30,
   "outputs": [
    {
     "data": {
      "text/plain": "<203420x7429 sparse matrix of type '<class 'numpy.float64'>'\n\twith 128262032 stored elements in Compressed Sparse Row format>"
     },
     "execution_count": 30,
     "metadata": {},
     "output_type": "execute_result"
    }
   ],
   "source": [
    "weather_alarms_tfidf_features"
   ],
   "metadata": {
    "collapsed": false,
    "ExecuteTime": {
     "start_time": "2023-04-12T01:28:07.987724Z",
     "end_time": "2023-04-12T01:28:08.034590Z"
    }
   }
  },
  {
   "cell_type": "markdown",
   "id": "f5835830",
   "metadata": {},
   "source": [
    "### Devide data into train and test parts "
   ]
  },
  {
   "cell_type": "code",
   "execution_count": 31,
   "id": "3b788c53",
   "metadata": {
    "ExecuteTime": {
     "start_time": "2023-04-12T01:28:12.163726Z",
     "end_time": "2023-04-12T01:28:15.723790Z"
    }
   },
   "outputs": [],
   "source": [
    "from sklearn.model_selection import TimeSeriesSplit\n",
    "\n",
    "# Create a time series dataset (e.g., a NumPy array or a pandas DataFrame)\n",
    "# time_series_data = pd.DataFrame(weather_alarms_tfidf_features)\n",
    "\n",
    "# Split the dataset into input features (X) and target variable (y)\n",
    "X = weather_alarms_tfidf_features  # Assuming the target variable is in the last column\n",
    "y = Y  # Assuming the target variable is in the last column\n",
    "\n",
    "# Initialize the TimeSeriesSplit object\n",
    "n_splits = 5  # Number of splits\n",
    "tscv = TimeSeriesSplit(n_splits=n_splits)\n",
    "\n",
    "# Iterate over the TimeSeriesSplit object to generate train and test indices\n",
    "for train_index, test_index in tscv.split(X):\n",
    "    # train_index and test_index are arrays of indices for train and test sets, respectively\n",
    "\n",
    "    # Access the train and test data for X and y without using iloc\n",
    "    X_train, X_test = X[train_index], X[test_index]\n",
    "    y_train, y_test = y[train_index], y[test_index]\n",
    "\n",
    "    # Perform your model training and evaluation using X_train, X_test, y_train, and y_test"
   ]
  },
  {
   "cell_type": "code",
   "execution_count": 32,
   "id": "68916c55",
   "metadata": {
    "ExecuteTime": {
     "start_time": "2023-04-12T01:28:17.698381Z",
     "end_time": "2023-04-12T01:28:17.737828Z"
    }
   },
   "outputs": [
    {
     "data": {
      "text/plain": "(169517, 7429)"
     },
     "execution_count": 32,
     "metadata": {},
     "output_type": "execute_result"
    }
   ],
   "source": [
    "X_train.shape"
   ]
  },
  {
   "cell_type": "code",
   "execution_count": 33,
   "id": "74637421",
   "metadata": {
    "ExecuteTime": {
     "start_time": "2023-04-12T01:28:18.602569Z",
     "end_time": "2023-04-12T01:28:18.633459Z"
    }
   },
   "outputs": [
    {
     "data": {
      "text/plain": "(169517,)"
     },
     "execution_count": 33,
     "metadata": {},
     "output_type": "execute_result"
    }
   ],
   "source": [
    "y_train.shape"
   ]
  },
  {
   "cell_type": "markdown",
   "id": "df12310b",
   "metadata": {},
   "source": [
    "# Train models"
   ]
  },
  {
   "cell_type": "code",
   "execution_count": 2,
   "id": "2d5c4f88",
   "metadata": {
    "ExecuteTime": {
     "start_time": "2023-04-12T02:07:25.077654Z",
     "end_time": "2023-04-12T02:07:25.107830Z"
    }
   },
   "outputs": [],
   "source": [
    "#Imports\n",
    "from sklearn.linear_model import LogisticRegression\n",
    "\n",
    "from sklearn.linear_model import SGDClassifier # For SGD\n",
    "from sklearn.model_selection import train_test_split # For data splitting\n",
    "from sklearn.metrics import accuracy_score, classification_report # For model evaluation\n",
    "from sklearn.ensemble import RandomForestClassifier # For Random Forest\n",
    "from sklearn.model_selection import train_test_split # For data splitting\n",
    "from sklearn.metrics import accuracy_score, classification_report # For model evaluation\n",
    "from sklearn.naive_bayes import GaussianNB # For Gaussian Naive Bayes\n",
    "from sklearn.model_selection import train_test_split # For data splitting\n",
    "from sklearn.metrics import accuracy_score, classification_report # For model evaluation\n",
    "from sklearn.neighbors import KNeighborsClassifier # For K-nearest neighbors\n",
    "from sklearn.model_selection import train_test_split # For data splitting\n",
    "from sklearn.metrics import accuracy_score, classification_report # For model evaluation\n",
    "\n",
    "COMMAND_ID = \"0\"\n",
    "VERSION = \"1.0\""
   ]
  },
  {
   "cell_type": "markdown",
   "source": [
    "### Model 1 LogisticRegression"
   ],
   "metadata": {
    "collapsed": false
   }
  },
  {
   "cell_type": "code",
   "execution_count": 3,
   "outputs": [
    {
     "ename": "NameError",
     "evalue": "name 'X_train' is not defined",
     "output_type": "error",
     "traceback": [
      "\u001B[1;31m---------------------------------------------------------------------------\u001B[0m",
      "\u001B[1;31mNameError\u001B[0m                                 Traceback (most recent call last)",
      "Cell \u001B[1;32mIn[3], line 5\u001B[0m\n\u001B[0;32m      2\u001B[0m logreg \u001B[38;5;241m=\u001B[39m LogisticRegression()\n\u001B[0;32m      4\u001B[0m \u001B[38;5;66;03m# Train the logistic regression model\u001B[39;00m\n\u001B[1;32m----> 5\u001B[0m logreg\u001B[38;5;241m.\u001B[39mfit(\u001B[43mX_train\u001B[49m, y_train)\n\u001B[0;32m      7\u001B[0m \u001B[38;5;66;03m# Predict the target variable on the test data\u001B[39;00m\n\u001B[0;32m      8\u001B[0m y_pred \u001B[38;5;241m=\u001B[39m logreg\u001B[38;5;241m.\u001B[39mpredict(X_test)\n",
      "\u001B[1;31mNameError\u001B[0m: name 'X_train' is not defined"
     ]
    }
   ],
   "source": [
    "# Create an instance of the LogisticRegression class\n",
    "logreg = LogisticRegression()\n",
    "\n",
    "# Train the logistic regression model\n",
    "logreg.fit(X_train, y_train)\n",
    "\n",
    "# Predict the target variable on the test data\n",
    "y_pred = logreg.predict(X_test)\n",
    "\n",
    "# Evaluate the performance of the model\n",
    "accuracy = accuracy_score(X_test, y_test)\n",
    "classification_report = classification_report(y_test, y_pred)\n",
    "\n",
    "# Print the results\n",
    "print(\"Accuracy:\", accuracy)\n",
    "print(\"Classification Report:\\n\", classification_report)\n",
    "\n",
    "# Save model\n",
    "MODEL_NAME = \"logreg\"\n",
    "with open(f'models/training_models/{COMMAND_ID}_{MODEL_NAME}_{VERSION}.pkl', 'wb') as f:\n",
    "    pickle.dump(logreg, f)"
   ],
   "metadata": {
    "collapsed": false
   }
  },
  {
   "cell_type": "markdown",
   "source": [
    "### Model 2 SVC"
   ],
   "metadata": {
    "collapsed": false
   }
  },
  {
   "cell_type": "code",
   "execution_count": null,
   "outputs": [],
   "source": [
    "# Import the required libraries\n",
    "from sklearn.svm import SVC # For SVM\n",
    "from sklearn.model_selection import train_test_split # For data splitting\n",
    "from sklearn.metrics import accuracy_score, classification_report # For model evaluation\n",
    "\n",
    "# Create an SVM classifier with default hyperparameters\n",
    "svm = SVC()\n",
    "\n",
    "# Fit the SVM classifier to the training data\n",
    "svm.fit(X_train, y_train)\n",
    "\n",
    "# Make predictions on the testing data\n",
    "y_pred = svm.predict(X_test)\n",
    "\n",
    "# Evaluate the performance of the SVM classifier\n",
    "accuracy = accuracy_score(y_test, y_pred)\n",
    "classification_report = classification_report(y_test, y_pred)\n",
    "\n",
    "# Print the results\n",
    "print(\"Accuracy:\", accuracy)\n",
    "print(\"Classification Report:\\n\", classification_report)\n",
    "\n",
    "# Save model\n",
    "MODEL_NAME = \"svm\"\n",
    "with open(f'models/training_models/{COMMAND_ID}_{MODEL_NAME}_{VERSION}.pkl', 'wb') as f:\n",
    "    pickle.dump(svm, f)"
   ],
   "metadata": {
    "collapsed": false,
    "pycharm": {
     "is_executing": true
    }
   }
  },
  {
   "cell_type": "markdown",
   "source": [
    "### Model 3 SGDClassifier"
   ],
   "metadata": {
    "collapsed": false
   }
  },
  {
   "cell_type": "code",
   "execution_count": null,
   "outputs": [],
   "source": [
    "# Create an SGD classifier with default hyperparameters\n",
    "sgd = SGDClassifier()\n",
    "\n",
    "# Fit the SGD classifier to the training data\n",
    "sgd.fit(X_train, y_train)\n",
    "\n",
    "# Make predictions on the testing data\n",
    "y_pred = sgd.predict(X_test)\n",
    "\n",
    "# Evaluate the performance of the SGD classifier\n",
    "accuracy = accuracy_score(y_test, y_pred)\n",
    "classification_report = classification_report(y_test, y_pred)\n",
    "\n",
    "# Print the results\n",
    "print(\"Accuracy:\", accuracy)\n",
    "print(\"Classification Report:\\n\", classification_report)\n",
    "\n",
    "# Save model\n",
    "MODEL_NAME = \"sgd\"\n",
    "with open(f'models/training_models/{COMMAND_ID}_{MODEL_NAME}_{VERSION}.pkl', 'wb') as f:\n",
    "    pickle.dump(sgd, f)"
   ],
   "metadata": {
    "collapsed": false
   }
  },
  {
   "cell_type": "markdown",
   "source": [
    "### Model 4 RandomForestClassifier"
   ],
   "metadata": {
    "collapsed": false
   }
  },
  {
   "cell_type": "code",
   "execution_count": null,
   "outputs": [],
   "source": [
    "# Create a Random Forest classifier with default hyperparameters\n",
    "rf = RandomForestClassifier()\n",
    "\n",
    "# Fit the Random Forest classifier to the training data\n",
    "rf.fit(X_train, y_train)\n",
    "\n",
    "# Make predictions on the testing data\n",
    "y_pred = rf.predict(X_test)\n",
    "\n",
    "# Evaluate the performance of the Random Forest classifier\n",
    "accuracy = accuracy_score(y_test, y_pred)\n",
    "classification_report = classification_report(y_test, y_pred)\n",
    "\n",
    "# Print the results\n",
    "print(\"Accuracy:\", accuracy)\n",
    "print(\"Classification Report:\\n\", classification_report)\n",
    "\n",
    "# Save model\n",
    "MODEL_NAME = \"rf\"\n",
    "with open(f'models/training_models/{COMMAND_ID}_{MODEL_NAME}_{VERSION}.pkl', 'wb') as f:\n",
    "    pickle.dump(rf, f)"
   ],
   "metadata": {
    "collapsed": false
   }
  },
  {
   "cell_type": "markdown",
   "source": [
    "### Model 5 GaussianNB"
   ],
   "metadata": {
    "collapsed": false
   }
  },
  {
   "cell_type": "code",
   "execution_count": null,
   "outputs": [],
   "source": [
    "# Create a Gaussian Naive Bayes classifier\n",
    "gnb = GaussianNB()\n",
    "\n",
    "# Fit the Gaussian Naive Bayes classifier to the training data\n",
    "gnb.fit(X_train, y_train)\n",
    "\n",
    "# Make predictions on the testing data\n",
    "y_pred = gnb.predict(X_test)\n",
    "\n",
    "# Evaluate the performance of the Gaussian Naive Bayes classifier\n",
    "accuracy = accuracy_score(y_test, y_pred)\n",
    "classification_report = classification_report(y_test, y_pred)\n",
    "\n",
    "# Print the results\n",
    "print(\"Accuracy:\", accuracy)\n",
    "print(\"Classification Report:\\n\", classification_report)\n",
    "\n",
    "# Save model\n",
    "MODEL_NAME = \"gnb\"\n",
    "with open(f'models/training_models/{COMMAND_ID}_{MODEL_NAME}_{VERSION}.pkl', 'wb') as f:\n",
    "    pickle.dump(gnb, f)"
   ],
   "metadata": {
    "collapsed": false
   }
  },
  {
   "cell_type": "markdown",
   "source": [
    "### Model 6 KNeighborsClassifier"
   ],
   "metadata": {
    "collapsed": false
   }
  },
  {
   "cell_type": "code",
   "execution_count": null,
   "outputs": [],
   "source": [
    "# Create a K-nearest neighbors classifier with k=3 (default value)\n",
    "knn = KNeighborsClassifier()\n",
    "\n",
    "# Fit the K-nearest neighbors classifier to the training data\n",
    "knn.fit(X_train, y_train)\n",
    "\n",
    "# Make predictions on the testing data\n",
    "y_pred = knn.predict(X_test)\n",
    "\n",
    "# Evaluate the performance of the K-nearest neighbors classifier\n",
    "accuracy = accuracy_score(y_test, y_pred)\n",
    "classification_report = classification_report(y_test, y_pred)\n",
    "\n",
    "# Print the results\n",
    "print(\"Accuracy:\", accuracy)\n",
    "print(\"Classification Report:\\n\", classification_report)\n",
    "\n",
    "# Save model\n",
    "MODEL_NAME = \"knn\"\n",
    "with open(f'models/training_models/{COMMAND_ID}_{MODEL_NAME}_{VERSION}.pkl', 'wb') as f:\n",
    "    pickle.dump(knn, f)"
   ],
   "metadata": {
    "collapsed": false
   }
  }
 ],
 "metadata": {
  "kernelspec": {
   "display_name": "Python 3 (ipykernel)",
   "language": "python",
   "name": "python3"
  },
  "language_info": {
   "codemirror_mode": {
    "name": "ipython",
    "version": 3
   },
   "file_extension": ".py",
   "mimetype": "text/x-python",
   "name": "python",
   "nbconvert_exporter": "python",
   "pygments_lexer": "ipython3",
   "version": "3.9.7"
  }
 },
 "nbformat": 4,
 "nbformat_minor": 5
}
