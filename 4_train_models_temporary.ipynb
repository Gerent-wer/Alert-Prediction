{
 "cells": [
  {
   "cell_type": "code",
   "execution_count": 1,
   "id": "d6c33ed8",
   "metadata": {
    "ExecuteTime": {
     "start_time": "2023-04-12T21:16:35.249908Z",
     "end_time": "2023-04-12T21:16:37.368383Z"
    }
   },
   "outputs": [],
   "source": [
    "import pandas as pd\n",
    "\n",
    "import scipy\n",
    "from scipy import sparse\n",
    "\n",
    "import numpy as np\n",
    "from sklearn.model_selection import TimeSeriesSplit\n",
    "\n",
    "import pickle\n"
   ]
  },
  {
   "cell_type": "markdown",
   "id": "e762e0c2",
   "metadata": {},
   "source": [
    "### Read data"
   ]
  },
  {
   "cell_type": "code",
   "execution_count": 2,
   "id": "ed8f3542",
   "metadata": {
    "ExecuteTime": {
     "start_time": "2023-04-12T21:16:37.364363Z",
     "end_time": "2023-04-12T21:17:47.652630Z"
    }
   },
   "outputs": [],
   "source": [
    "weather_alarms_tfidf = pd.read_csv('data/df_weather+alarms_merged.csv')"
   ]
  },
  {
   "cell_type": "code",
   "execution_count": 3,
   "id": "3e72f651",
   "metadata": {
    "ExecuteTime": {
     "start_time": "2023-04-12T21:17:47.655629Z",
     "end_time": "2023-04-12T21:17:47.670570Z"
    }
   },
   "outputs": [
    {
     "data": {
      "text/plain": "(203420, 70)"
     },
     "execution_count": 3,
     "metadata": {},
     "output_type": "execute_result"
    }
   ],
   "source": [
    "weather_alarms_tfidf.shape"
   ]
  },
  {
   "cell_type": "code",
   "execution_count": 4,
   "id": "dbe53dc4",
   "metadata": {
    "ExecuteTime": {
     "start_time": "2023-04-12T21:17:47.673672Z",
     "end_time": "2023-04-12T21:17:47.798195Z"
    }
   },
   "outputs": [
    {
     "data": {
      "text/plain": "   Unnamed: 0 city_resolvedAddress day_datetime  day_datetimeEpoch   \n0           0     Черкаси, Україна   2022-02-24         1645653600  \\\n1           1     Черкаси, Україна   2022-02-24         1645653600   \n2           2     Черкаси, Україна   2022-02-24         1645653600   \n3           3     Черкаси, Україна   2022-02-24         1645653600   \n4           4     Черкаси, Україна   2022-02-24         1645653600   \n\n   day_tempmax  day_tempmin  day_temp  day_dew  day_humidity  day_precip  ...   \n0          4.9         -0.1       1.9     -0.6          83.4         0.0  ...  \\\n1          4.9         -0.1       1.9     -0.6          83.4         0.0  ...   \n2          4.9         -0.1       1.9     -0.6          83.4         0.0  ...   \n3          4.9         -0.1       1.9     -0.6          83.4         0.0  ...   \n4          4.9         -0.1       1.9     -0.6          83.4         0.0  ...   \n\n   event_day_date  event_start_hour_datetimeEpoch   \n0             NaN                             NaN  \\\n1             NaN                             NaN   \n2             NaN                             NaN   \n3             NaN                             NaN   \n4             NaN                             NaN   \n\n   event_end_hour_datetimeEpoch  event_hour_level_event_time   \n0                           NaN                          NaN  \\\n1                           NaN                          NaN   \n2                           NaN                          NaN   \n3                           NaN                          NaN   \n4                           NaN                          NaN   \n\n  event_hour_level_event_datetimeEpoch isw_report_date   \n0                                  NaN             NaN  \\\n1                                  NaN             NaN   \n2                                  NaN             NaN   \n3                                  NaN             NaN   \n4                                  NaN             NaN   \n\n   isw_date_tomorrow_datetime isw_keywords  isw_main_html_v6   \n0                         NaN          NaN               NaN  \\\n1                         NaN          NaN               NaN   \n2                         NaN          NaN               NaN   \n3                         NaN          NaN               NaN   \n4                         NaN          NaN               NaN   \n\n   isw_report_text_lemm  \n0                   NaN  \n1                   NaN  \n2                   NaN  \n3                   NaN  \n4                   NaN  \n\n[5 rows x 70 columns]",
      "text/html": "<div>\n<style scoped>\n    .dataframe tbody tr th:only-of-type {\n        vertical-align: middle;\n    }\n\n    .dataframe tbody tr th {\n        vertical-align: top;\n    }\n\n    .dataframe thead th {\n        text-align: right;\n    }\n</style>\n<table border=\"1\" class=\"dataframe\">\n  <thead>\n    <tr style=\"text-align: right;\">\n      <th></th>\n      <th>Unnamed: 0</th>\n      <th>city_resolvedAddress</th>\n      <th>day_datetime</th>\n      <th>day_datetimeEpoch</th>\n      <th>day_tempmax</th>\n      <th>day_tempmin</th>\n      <th>day_temp</th>\n      <th>day_dew</th>\n      <th>day_humidity</th>\n      <th>day_precip</th>\n      <th>...</th>\n      <th>event_day_date</th>\n      <th>event_start_hour_datetimeEpoch</th>\n      <th>event_end_hour_datetimeEpoch</th>\n      <th>event_hour_level_event_time</th>\n      <th>event_hour_level_event_datetimeEpoch</th>\n      <th>isw_report_date</th>\n      <th>isw_date_tomorrow_datetime</th>\n      <th>isw_keywords</th>\n      <th>isw_main_html_v6</th>\n      <th>isw_report_text_lemm</th>\n    </tr>\n  </thead>\n  <tbody>\n    <tr>\n      <th>0</th>\n      <td>0</td>\n      <td>Черкаси, Україна</td>\n      <td>2022-02-24</td>\n      <td>1645653600</td>\n      <td>4.9</td>\n      <td>-0.1</td>\n      <td>1.9</td>\n      <td>-0.6</td>\n      <td>83.4</td>\n      <td>0.0</td>\n      <td>...</td>\n      <td>NaN</td>\n      <td>NaN</td>\n      <td>NaN</td>\n      <td>NaN</td>\n      <td>NaN</td>\n      <td>NaN</td>\n      <td>NaN</td>\n      <td>NaN</td>\n      <td>NaN</td>\n      <td>NaN</td>\n    </tr>\n    <tr>\n      <th>1</th>\n      <td>1</td>\n      <td>Черкаси, Україна</td>\n      <td>2022-02-24</td>\n      <td>1645653600</td>\n      <td>4.9</td>\n      <td>-0.1</td>\n      <td>1.9</td>\n      <td>-0.6</td>\n      <td>83.4</td>\n      <td>0.0</td>\n      <td>...</td>\n      <td>NaN</td>\n      <td>NaN</td>\n      <td>NaN</td>\n      <td>NaN</td>\n      <td>NaN</td>\n      <td>NaN</td>\n      <td>NaN</td>\n      <td>NaN</td>\n      <td>NaN</td>\n      <td>NaN</td>\n    </tr>\n    <tr>\n      <th>2</th>\n      <td>2</td>\n      <td>Черкаси, Україна</td>\n      <td>2022-02-24</td>\n      <td>1645653600</td>\n      <td>4.9</td>\n      <td>-0.1</td>\n      <td>1.9</td>\n      <td>-0.6</td>\n      <td>83.4</td>\n      <td>0.0</td>\n      <td>...</td>\n      <td>NaN</td>\n      <td>NaN</td>\n      <td>NaN</td>\n      <td>NaN</td>\n      <td>NaN</td>\n      <td>NaN</td>\n      <td>NaN</td>\n      <td>NaN</td>\n      <td>NaN</td>\n      <td>NaN</td>\n    </tr>\n    <tr>\n      <th>3</th>\n      <td>3</td>\n      <td>Черкаси, Україна</td>\n      <td>2022-02-24</td>\n      <td>1645653600</td>\n      <td>4.9</td>\n      <td>-0.1</td>\n      <td>1.9</td>\n      <td>-0.6</td>\n      <td>83.4</td>\n      <td>0.0</td>\n      <td>...</td>\n      <td>NaN</td>\n      <td>NaN</td>\n      <td>NaN</td>\n      <td>NaN</td>\n      <td>NaN</td>\n      <td>NaN</td>\n      <td>NaN</td>\n      <td>NaN</td>\n      <td>NaN</td>\n      <td>NaN</td>\n    </tr>\n    <tr>\n      <th>4</th>\n      <td>4</td>\n      <td>Черкаси, Україна</td>\n      <td>2022-02-24</td>\n      <td>1645653600</td>\n      <td>4.9</td>\n      <td>-0.1</td>\n      <td>1.9</td>\n      <td>-0.6</td>\n      <td>83.4</td>\n      <td>0.0</td>\n      <td>...</td>\n      <td>NaN</td>\n      <td>NaN</td>\n      <td>NaN</td>\n      <td>NaN</td>\n      <td>NaN</td>\n      <td>NaN</td>\n      <td>NaN</td>\n      <td>NaN</td>\n      <td>NaN</td>\n      <td>NaN</td>\n    </tr>\n  </tbody>\n</table>\n<p>5 rows × 70 columns</p>\n</div>"
     },
     "execution_count": 4,
     "metadata": {},
     "output_type": "execute_result"
    }
   ],
   "source": [
    "weather_alarms_tfidf.head()"
   ]
  },
  {
   "cell_type": "code",
   "execution_count": 5,
   "id": "f638660c",
   "metadata": {
    "scrolled": true,
    "ExecuteTime": {
     "start_time": "2023-04-12T21:17:47.735548Z",
     "end_time": "2023-04-12T21:17:47.801251Z"
    }
   },
   "outputs": [
    {
     "data": {
      "text/plain": "Index(['Unnamed: 0', 'city_resolvedAddress', 'day_datetime',\n       'day_datetimeEpoch', 'day_tempmax', 'day_tempmin', 'day_temp',\n       'day_dew', 'day_humidity', 'day_precip', 'day_precipcover',\n       'day_solarradiation', 'day_solarenergy', 'day_uvindex', 'day_sunrise',\n       'day_sunset', 'day_moonphase', 'hour_datetime', 'hour_datetimeEpoch',\n       'hour_temp', 'hour_humidity', 'hour_dew', 'hour_precip',\n       'hour_precipprob', 'hour_snow', 'hour_snowdepth', 'hour_preciptype',\n       'hour_windgust', 'hour_windspeed', 'hour_winddir', 'hour_pressure',\n       'hour_visibility', 'hour_cloudcover', 'hour_solarradiation',\n       'hour_solarenergy', 'hour_uvindex', 'hour_severerisk',\n       'hour_conditions', 'city', 'region', 'center_city_ua', 'center_city_en',\n       'region_alt', 'region_id', 'event_Unnamed: 0', 'event_region_title',\n       'event_region_city', 'event_all_region', 'event_start', 'event_end',\n       'event_clean_end', 'event_intersection_alarm_id', 'event_start_time',\n       'event_end_time', 'event_day', 'event_feature_number_of_region',\n       'event_within_24_hours',\n       'event_feature_number_of_alarms_within_24_hours', 'event_start_hour',\n       'event_end_hour', 'event_day_date', 'event_start_hour_datetimeEpoch',\n       'event_end_hour_datetimeEpoch', 'event_hour_level_event_time',\n       'event_hour_level_event_datetimeEpoch', 'isw_report_date',\n       'isw_date_tomorrow_datetime', 'isw_keywords', 'isw_main_html_v6',\n       'isw_report_text_lemm'],\n      dtype='object')"
     },
     "execution_count": 5,
     "metadata": {},
     "output_type": "execute_result"
    }
   ],
   "source": [
    "weather_alarms_tfidf.columns"
   ]
  },
  {
   "cell_type": "code",
   "execution_count": 129,
   "id": "f67b66ad",
   "metadata": {
    "ExecuteTime": {
     "start_time": "2023-04-12T23:15:27.106338Z",
     "end_time": "2023-04-12T23:15:27.150607Z"
    }
   },
   "outputs": [
    {
     "data": {
      "text/plain": "(203420, 71)"
     },
     "execution_count": 129,
     "metadata": {},
     "output_type": "execute_result"
    }
   ],
   "source": [
    "weather_alarms_tfidf.shape"
   ]
  },
  {
   "cell_type": "markdown",
   "id": "34470577",
   "metadata": {},
   "source": [
    "### TF_IDF + CV with isw_report_text_lemm preprocessed"
   ]
  },
  {
   "cell_type": "code",
   "execution_count": 7,
   "id": "f55ac22f",
   "metadata": {
    "ExecuteTime": {
     "start_time": "2023-04-12T21:17:47.762740Z",
     "end_time": "2023-04-12T21:17:54.719763Z"
    }
   },
   "outputs": [
    {
     "name": "stderr",
     "output_type": "stream",
     "text": [
      "C:\\Users\\dimai\\AppData\\Local\\Temp\\ipykernel_16004\\3783398272.py:1: DeprecationWarning: Please use `csr_matrix` from the `scipy.sparse` namespace, the `scipy.sparse.csr` namespace is deprecated.\n",
      "  tfidf = pickle.load(open(\"models/tfidf_transformer_v1.pkl\",\"rb\"))\n",
      "C:\\Users\\dimai\\AppData\\Local\\Programs\\Python\\Python310\\lib\\site-packages\\sklearn\\base.py:318: UserWarning: Trying to unpickle estimator TfidfTransformer from version 0.24.2 when using version 1.2.2. This might lead to breaking code or invalid results. Use at your own risk. For more info please refer to:\n",
      "https://scikit-learn.org/stable/model_persistence.html#security-maintainability-limitations\n",
      "  warnings.warn(\n",
      "C:\\Users\\dimai\\AppData\\Local\\Programs\\Python\\Python310\\lib\\site-packages\\sklearn\\base.py:318: UserWarning: Trying to unpickle estimator CountVectorizer from version 0.24.2 when using version 1.2.2. This might lead to breaking code or invalid results. Use at your own risk. For more info please refer to:\n",
      "https://scikit-learn.org/stable/model_persistence.html#security-maintainability-limitations\n",
      "  warnings.warn(\n"
     ]
    }
   ],
   "source": [
    "tfidf = pickle.load(open(\"models/tfidf_transformer_v1.pkl\",\"rb\"))\n",
    "cv = pickle.load(open(\"models/count_vectorizer_v1.pkl\",\"rb\"))\n",
    "\n",
    "#Uncommit if you want to load exist matrix\n",
    "tfidf_vector = scipy.sparse.load_npz('data/matrix/tfidf_vector_train.npz')\n",
    "\n",
    "# #Uncommit if you want to create new one\n",
    "# word_count_vector = cv.transform(weather_alarms_tfidf['isw_report_text_lemm'].values.astype('U'))\n",
    "# tfidf_vector = tfidf.transform(word_count_vector)"
   ]
  },
  {
   "cell_type": "code",
   "execution_count": 8,
   "id": "8c29be78",
   "metadata": {
    "ExecuteTime": {
     "start_time": "2023-04-12T21:17:54.723739Z",
     "end_time": "2023-04-12T21:17:54.734668Z"
    }
   },
   "outputs": [],
   "source": [
    "# #Save model and matrix\n",
    "# with open(\"models/tfidf_vector_calculated.pkl\", \"wb\") as handle:\n",
    "#    pickle.dump(tfidf_vector, handle)\n",
    "# scipy.sparse.save_npz('data/matrix/tfidf_vector_train.npz', tfidf_vector)"
   ]
  },
  {
   "cell_type": "code",
   "execution_count": 9,
   "outputs": [
    {
     "data": {
      "text/plain": "<203420x7401 sparse matrix of type '<class 'numpy.float64'>'\n\twith 123370706 stored elements in Compressed Sparse Row format>"
     },
     "execution_count": 9,
     "metadata": {},
     "output_type": "execute_result"
    }
   ],
   "source": [
    "tfidf_vector"
   ],
   "metadata": {
    "collapsed": false,
    "ExecuteTime": {
     "start_time": "2023-04-12T21:17:54.738664Z",
     "end_time": "2023-04-12T21:17:54.794312Z"
    }
   }
  },
  {
   "cell_type": "markdown",
   "source": [
    "### Dataset Preprocesing"
   ],
   "metadata": {
    "collapsed": false
   }
  },
  {
   "cell_type": "code",
   "execution_count": 130,
   "outputs": [
    {
     "name": "stdout",
     "output_type": "stream",
     "text": [
      "<class 'pandas.core.frame.DataFrame'>\n",
      "RangeIndex: 203420 entries, 0 to 203419\n",
      "Data columns (total 71 columns):\n",
      " #   Column                                          Non-Null Count   Dtype  \n",
      "---  ------                                          --------------   -----  \n",
      " 0   Unnamed: 0                                      203420 non-null  int64  \n",
      " 1   city_resolvedAddress                            203420 non-null  object \n",
      " 2   day_datetime                                    203420 non-null  object \n",
      " 3   day_datetimeEpoch                               203420 non-null  int64  \n",
      " 4   day_tempmax                                     203420 non-null  float64\n",
      " 5   day_tempmin                                     203420 non-null  float64\n",
      " 6   day_temp                                        203420 non-null  float64\n",
      " 7   day_dew                                         203420 non-null  float64\n",
      " 8   day_humidity                                    203420 non-null  float64\n",
      " 9   day_precip                                      203420 non-null  float64\n",
      " 10  day_precipcover                                 203420 non-null  float64\n",
      " 11  day_solarradiation                              203420 non-null  float64\n",
      " 12  day_solarenergy                                 203420 non-null  float64\n",
      " 13  day_uvindex                                     203420 non-null  float64\n",
      " 14  day_sunrise                                     203420 non-null  object \n",
      " 15  day_sunset                                      203420 non-null  object \n",
      " 16  day_moonphase                                   203420 non-null  float64\n",
      " 17  hour_datetime                                   203420 non-null  object \n",
      " 18  hour_datetimeEpoch                              203420 non-null  int64  \n",
      " 19  hour_temp                                       203420 non-null  float64\n",
      " 20  hour_humidity                                   203420 non-null  float64\n",
      " 21  hour_dew                                        203420 non-null  float64\n",
      " 22  hour_precip                                     203310 non-null  float64\n",
      " 23  hour_precipprob                                 203420 non-null  float64\n",
      " 24  hour_snow                                       203420 non-null  float64\n",
      " 25  hour_snowdepth                                  203420 non-null  float64\n",
      " 26  hour_preciptype                                 33433 non-null   object \n",
      " 27  hour_windgust                                   203420 non-null  float64\n",
      " 28  hour_windspeed                                  203420 non-null  float64\n",
      " 29  hour_winddir                                    203420 non-null  float64\n",
      " 30  hour_pressure                                   203420 non-null  float64\n",
      " 31  hour_visibility                                 203420 non-null  float64\n",
      " 32  hour_cloudcover                                 203420 non-null  float64\n",
      " 33  hour_solarradiation                             202636 non-null  float64\n",
      " 34  hour_solarenergy                                111221 non-null  float64\n",
      " 35  hour_uvindex                                    202636 non-null  float64\n",
      " 36  hour_severerisk                                 203420 non-null  float64\n",
      " 37  hour_conditions                                 203420 non-null  object \n",
      " 38  city                                            203420 non-null  object \n",
      " 39  region                                          203420 non-null  object \n",
      " 40  center_city_ua                                  203420 non-null  object \n",
      " 41  center_city_en                                  203420 non-null  object \n",
      " 42  region_alt                                      203420 non-null  object \n",
      " 43  region_id                                       203420 non-null  int64  \n",
      " 44  event_Unnamed: 0                                51594 non-null   float64\n",
      " 45  event_region_title                              51594 non-null   object \n",
      " 46  event_region_city                               51594 non-null   object \n",
      " 47  event_all_region                                51594 non-null   float64\n",
      " 48  event_start                                     51594 non-null   object \n",
      " 49  event_end                                       51594 non-null   object \n",
      " 50  event_clean_end                                 51593 non-null   object \n",
      " 51  event_intersection_alarm_id                     4997 non-null    float64\n",
      " 52  event_start_time                                51594 non-null   object \n",
      " 53  event_end_time                                  51594 non-null   object \n",
      " 54  event_day                                       51594 non-null   float64\n",
      " 55  event_feature_number_of_region                  51594 non-null   float64\n",
      " 56  event_within_24_hours                           51594 non-null   object \n",
      " 57  event_feature_number_of_alarms_within_24_hours  51594 non-null   float64\n",
      " 58  event_start_hour                                51594 non-null   object \n",
      " 59  event_end_hour                                  51594 non-null   object \n",
      " 60  event_day_date                                  51594 non-null   object \n",
      " 61  event_start_hour_datetimeEpoch                  51594 non-null   float64\n",
      " 62  event_end_hour_datetimeEpoch                    51594 non-null   float64\n",
      " 63  event_hour_level_event_time                     51594 non-null   object \n",
      " 64  event_hour_level_event_datetimeEpoch            51594 non-null   float64\n",
      " 65  isw_report_date                                 201669 non-null  object \n",
      " 66  isw_date_tomorrow_datetime                      201669 non-null  object \n",
      " 67  isw_keywords                                    201669 non-null  object \n",
      " 68  isw_main_html_v6                                195000 non-null  object \n",
      " 69  isw_report_text_lemm                            201669 non-null  object \n",
      " 70  isAlarm                                         203420 non-null  int32  \n",
      "dtypes: float64(37), int32(1), int64(4), object(29)\n",
      "memory usage: 109.4+ MB\n"
     ]
    }
   ],
   "source": [
    "weather_alarms_tfidf['isAlarm'] = weather_alarms_tfidf['event_start_hour'].notnull().astype(int)\n",
    "Y = weather_alarms_tfidf['isAlarm']\n",
    "weather_alarms_tfidf.info()"
   ],
   "metadata": {
    "collapsed": false,
    "ExecuteTime": {
     "start_time": "2023-04-12T23:15:37.550667Z",
     "end_time": "2023-04-12T23:15:38.029593Z"
    }
   }
  },
  {
   "cell_type": "code",
   "execution_count": 131,
   "id": "4e08413b",
   "metadata": {
    "ExecuteTime": {
     "start_time": "2023-04-12T23:15:38.915189Z",
     "end_time": "2023-04-12T23:15:38.956447Z"
    }
   },
   "outputs": [],
   "source": [
    "#Clear data\n",
    "weather_alarms_tfidf_features = weather_alarms_tfidf.drop(columns=['event_all_region', 'event_start',\n",
    "       'event_end', 'event_clean_end', 'event_intersection_alarm_id',\n",
    "       'event_start_time', 'event_end_time', 'event_day',\n",
    "       'event_feature_number_of_region', 'event_within_24_hours',\n",
    "       'event_feature_number_of_alarms_within_24_hours', 'event_start_hour',\n",
    "       'event_end_hour', 'event_day_date', 'event_start_hour_datetimeEpoch',\n",
    "       'event_end_hour_datetimeEpoch', 'event_hour_level_event_time',\n",
    "       'event_hour_level_event_datetimeEpoch','region_alt','hour_conditions','center_city_en','hour_datetime','day_sunset','day_sunrise','isAlarm','hour_precip','hour_solarradiation','hour_solarenergy','hour_uvindex', 'event_region_title', 'event_region_city', 'isw_report_date', 'isw_date_tomorrow_datetime', 'isw_keywords', 'isw_main_html_v6', 'isw_report_text_lemm', 'city', 'region', 'center_city_ua', 'hour_preciptype', 'city_resolvedAddress', 'day_datetime', 'event_Unnamed: 0'],axis=1)"
   ]
  },
  {
   "cell_type": "code",
   "execution_count": 132,
   "id": "cd2d0c27",
   "metadata": {
    "ExecuteTime": {
     "start_time": "2023-04-12T23:15:43.116042Z",
     "end_time": "2023-04-12T23:15:47.343784Z"
    }
   },
   "outputs": [],
   "source": [
    "weather_alarms_tfidf_features_clear = weather_alarms_tfidf_features\n",
    "weather_alarms_tfidf_features_clear.to_csv('data/weather_alarms_tfidf_features_clear.csv')"
   ]
  },
  {
   "cell_type": "code",
   "execution_count": 133,
   "outputs": [
    {
     "data": {
      "text/plain": "Unnamed: 0            0\nday_datetimeEpoch     0\nday_tempmax           0\nday_tempmin           0\nday_temp              0\nday_dew               0\nday_humidity          0\nday_precip            0\nday_precipcover       0\nday_solarradiation    0\nday_solarenergy       0\nday_uvindex           0\nday_moonphase         0\nhour_datetimeEpoch    0\nhour_temp             0\nhour_humidity         0\nhour_dew              0\nhour_precipprob       0\nhour_snow             0\nhour_snowdepth        0\nhour_windgust         0\nhour_windspeed        0\nhour_winddir          0\nhour_pressure         0\nhour_visibility       0\nhour_cloudcover       0\nhour_severerisk       0\nregion_id             0\ndtype: int64"
     },
     "execution_count": 133,
     "metadata": {},
     "output_type": "execute_result"
    }
   ],
   "source": [
    "weather_alarms_tfidf_features_clear.isnull().sum()"
   ],
   "metadata": {
    "collapsed": false,
    "ExecuteTime": {
     "start_time": "2023-04-12T23:15:49.166908Z",
     "end_time": "2023-04-12T23:15:49.211357Z"
    }
   }
  },
  {
   "cell_type": "code",
   "execution_count": 134,
   "outputs": [],
   "source": [
    "weather_alarms_tfidf_csr = scipy.sparse.csr_matrix(weather_alarms_tfidf_features_clear)\n",
    "weather_alarms_tfidf_features = scipy.sparse.hstack((weather_alarms_tfidf_csr, tfidf_vector), format=\"csr\")"
   ],
   "metadata": {
    "collapsed": false,
    "ExecuteTime": {
     "start_time": "2023-04-12T23:15:55.844461Z",
     "end_time": "2023-04-12T23:16:13.626201Z"
    }
   }
  },
  {
   "cell_type": "code",
   "execution_count": 135,
   "outputs": [],
   "source": [
    "scipy.sparse.save_npz('data/matrix/weather_alarms_tfidf_features.npz', weather_alarms_tfidf_features)"
   ],
   "metadata": {
    "collapsed": false,
    "ExecuteTime": {
     "start_time": "2023-04-12T23:16:23.716671Z",
     "end_time": "2023-04-12T23:16:42.842016Z"
    }
   }
  },
  {
   "cell_type": "code",
   "execution_count": 136,
   "outputs": [
    {
     "data": {
      "text/plain": "<203420x7429 sparse matrix of type '<class 'numpy.float64'>'\n\twith 128262032 stored elements in Compressed Sparse Row format>"
     },
     "execution_count": 136,
     "metadata": {},
     "output_type": "execute_result"
    }
   ],
   "source": [
    "weather_alarms_tfidf_features"
   ],
   "metadata": {
    "collapsed": false,
    "ExecuteTime": {
     "start_time": "2023-04-12T23:16:42.844018Z",
     "end_time": "2023-04-12T23:16:42.856611Z"
    }
   }
  },
  {
   "cell_type": "markdown",
   "id": "f5835830",
   "metadata": {},
   "source": [
    "### Devide data into train and test parts and test models"
   ]
  },
  {
   "cell_type": "code",
   "execution_count": 143,
   "outputs": [],
   "source": [
    "#Imports\n",
    "from sklearn.linear_model import LogisticRegression\n",
    "from sklearn.svm import SVC # For SVM\n",
    "from sklearn.linear_model import SGDClassifier # For SGD\n",
    "from sklearn.ensemble import RandomForestClassifier # For Random Forest\n",
    "from sklearn.naive_bayes import GaussianNB # For Gaussian Naive Bayes\n",
    "from sklearn.neighbors import KNeighborsClassifier # For K-nearest neighbors\n",
    "from sklearn.model_selection import train_test_split # For data splitting\n",
    "from sklearn.metrics import accuracy_score, classification_report # For model evaluation\n",
    "from sklearn.linear_model import SGDClassifier, LogisticRegression\n",
    "from sklearn.naive_bayes import GaussianNB\n",
    "from sklearn.metrics import classification_report, accuracy_score\n",
    "from sklearn.model_selection import TimeSeriesSplit\n",
    "from sklearn.utils import shuffle\n",
    "\n",
    "COMMAND_ID = \"4\"\n",
    "\n",
    "# Split the dataset into input features (X) and target variable (y)\n",
    "X = weather_alarms_tfidf_features  # Assuming the target variable is in the last column\n",
    "y = Y  # Assuming the target variable is in the last column\n",
    "\n",
    "X, y = shuffle(X, y, random_state=42)\n",
    "\n",
    "tscv = TimeSeriesSplit(n_splits=2, max_train_size=5000, test_size=1500)"
   ],
   "metadata": {
    "collapsed": false,
    "ExecuteTime": {
     "start_time": "2023-04-12T23:47:37.120535Z",
     "end_time": "2023-04-12T23:47:38.493008Z"
    }
   }
  },
  {
   "cell_type": "code",
   "execution_count": 144,
   "outputs": [
    {
     "name": "stdout",
     "output_type": "stream",
     "text": [
      "(5000, 7429)\n",
      "(1500, 7429)\n",
      "(5000, 7429)\n",
      "(1500, 7429)\n"
     ]
    }
   ],
   "source": [
    "# Initialize the TimeSeriesSplit object\n",
    "\n",
    "for train_index, test_index in tscv.split(X):\n",
    "\n",
    "    # Access the train and test data for X and y\n",
    "    X_train, X_test = X[train_index].toarray(), X[test_index].toarray()\n",
    "    y_train, y_test = y[train_index], y[test_index]\n",
    "\n",
    "    # show sets size\n",
    "    print(X_train.shape)\n",
    "    print(X_test.shape)"
   ],
   "metadata": {
    "collapsed": false,
    "ExecuteTime": {
     "start_time": "2023-04-12T23:47:39.109839Z",
     "end_time": "2023-04-12T23:47:40.461033Z"
    }
   }
  },
  {
   "cell_type": "markdown",
   "source": [
    "### Model 1 SGDClassifier"
   ],
   "metadata": {
    "collapsed": false
   }
  },
  {
   "cell_type": "code",
   "execution_count": 89,
   "outputs": [
    {
     "name": "stdout",
     "output_type": "stream",
     "text": [
      "SGDClassifier Accuracy: 0.8702\n",
      "SGDClassifier Report:\n",
      "               precision    recall  f1-score   support\n",
      "\n",
      "           0       0.87      1.00      0.93      4351\n",
      "           1       0.00      0.00      0.00       649\n",
      "\n",
      "    accuracy                           0.87      5000\n",
      "   macro avg       0.44      0.50      0.47      5000\n",
      "weighted avg       0.76      0.87      0.81      5000\n",
      "\n"
     ]
    },
    {
     "name": "stderr",
     "output_type": "stream",
     "text": [
      "C:\\Users\\dimai\\AppData\\Local\\Programs\\Python\\Python310\\lib\\site-packages\\sklearn\\metrics\\_classification.py:1344: UndefinedMetricWarning: Precision and F-score are ill-defined and being set to 0.0 in labels with no predicted samples. Use `zero_division` parameter to control this behavior.\n",
      "  _warn_prf(average, modifier, msg_start, len(result))\n",
      "C:\\Users\\dimai\\AppData\\Local\\Programs\\Python\\Python310\\lib\\site-packages\\sklearn\\metrics\\_classification.py:1344: UndefinedMetricWarning: Precision and F-score are ill-defined and being set to 0.0 in labels with no predicted samples. Use `zero_division` parameter to control this behavior.\n",
      "  _warn_prf(average, modifier, msg_start, len(result))\n",
      "C:\\Users\\dimai\\AppData\\Local\\Programs\\Python\\Python310\\lib\\site-packages\\sklearn\\metrics\\_classification.py:1344: UndefinedMetricWarning: Precision and F-score are ill-defined and being set to 0.0 in labels with no predicted samples. Use `zero_division` parameter to control this behavior.\n",
      "  _warn_prf(average, modifier, msg_start, len(result))\n"
     ]
    }
   ],
   "source": [
    "#25000/5000 - train/test data\n",
    "sgd = SGDClassifier()\n",
    "\n",
    "sgd.fit(X_train, y_train)\n",
    "sgd_pred = sgd.predict(X_test)\n",
    "sgd_accuracy = accuracy_score(y_test, sgd_pred)\n",
    "sgd_report = classification_report(y_test, sgd_pred)\n",
    "\n",
    "print(\"SGDClassifier Accuracy:\", sgd_accuracy)\n",
    "print(\"SGDClassifier Report:\\n\", sgd_report)\n",
    "\n",
    "# Save model\n",
    "MODEL_NAME = \"sgd\"\n",
    "VERSION = \"1.4\"\n",
    "with open(f'models/training_models/{COMMAND_ID}_{MODEL_NAME}_{VERSION}.pkl', 'wb') as f:\n",
    "    pickle.dump(sgd, f)"
   ],
   "metadata": {
    "collapsed": false
   }
  },
  {
   "cell_type": "markdown",
   "source": [
    "### Model 2 LogisticRegression"
   ],
   "metadata": {
    "collapsed": false
   }
  },
  {
   "cell_type": "code",
   "execution_count": 90,
   "outputs": [
    {
     "name": "stdout",
     "output_type": "stream",
     "text": [
      "LogisticRegression Accuracy: 0.8702\n",
      "LogisticRegression Report:\n",
      "               precision    recall  f1-score   support\n",
      "\n",
      "           0       0.87      1.00      0.93      4351\n",
      "           1       0.00      0.00      0.00       649\n",
      "\n",
      "    accuracy                           0.87      5000\n",
      "   macro avg       0.44      0.50      0.47      5000\n",
      "weighted avg       0.76      0.87      0.81      5000\n",
      "\n"
     ]
    },
    {
     "name": "stderr",
     "output_type": "stream",
     "text": [
      "C:\\Users\\dimai\\AppData\\Local\\Programs\\Python\\Python310\\lib\\site-packages\\sklearn\\metrics\\_classification.py:1344: UndefinedMetricWarning: Precision and F-score are ill-defined and being set to 0.0 in labels with no predicted samples. Use `zero_division` parameter to control this behavior.\n",
      "  _warn_prf(average, modifier, msg_start, len(result))\n",
      "C:\\Users\\dimai\\AppData\\Local\\Programs\\Python\\Python310\\lib\\site-packages\\sklearn\\metrics\\_classification.py:1344: UndefinedMetricWarning: Precision and F-score are ill-defined and being set to 0.0 in labels with no predicted samples. Use `zero_division` parameter to control this behavior.\n",
      "  _warn_prf(average, modifier, msg_start, len(result))\n",
      "C:\\Users\\dimai\\AppData\\Local\\Programs\\Python\\Python310\\lib\\site-packages\\sklearn\\metrics\\_classification.py:1344: UndefinedMetricWarning: Precision and F-score are ill-defined and being set to 0.0 in labels with no predicted samples. Use `zero_division` parameter to control this behavior.\n",
      "  _warn_prf(average, modifier, msg_start, len(result))\n"
     ]
    }
   ],
   "source": [
    "#25000/5000 - train/test data\n",
    "lr = LogisticRegression()\n",
    "\n",
    "lr.fit(X_train, y_train)\n",
    "lr_pred = lr.predict(X_test)\n",
    "lr_accuracy = accuracy_score(y_test, lr_pred)\n",
    "lr_report = classification_report(y_test, lr_pred)\n",
    "\n",
    "print(\"LogisticRegression Accuracy:\", lr_accuracy)\n",
    "print(\"LogisticRegression Report:\\n\", lr_report)\n",
    "\n",
    "# Save model\n",
    "MODEL_NAME = \"logreg\"\n",
    "VERSION = \"1.4\"\n",
    "with open(f'models/training_models/{COMMAND_ID}_{MODEL_NAME}_{VERSION}.pkl', 'wb') as f:\n",
    "    pickle.dump(lr, f)"
   ],
   "metadata": {
    "collapsed": false
   }
  },
  {
   "cell_type": "markdown",
   "source": [
    "### Model 3 GaussianNB"
   ],
   "metadata": {
    "collapsed": false
   }
  },
  {
   "cell_type": "code",
   "execution_count": 91,
   "outputs": [
    {
     "name": "stdout",
     "output_type": "stream",
     "text": [
      "GaussianNB Accuracy: 0.8702\n",
      "GaussianNB Report:\n",
      "               precision    recall  f1-score   support\n",
      "\n",
      "           0       0.87      1.00      0.93      4351\n",
      "           1       0.00      0.00      0.00       649\n",
      "\n",
      "    accuracy                           0.87      5000\n",
      "   macro avg       0.44      0.50      0.47      5000\n",
      "weighted avg       0.76      0.87      0.81      5000\n",
      "\n"
     ]
    },
    {
     "name": "stderr",
     "output_type": "stream",
     "text": [
      "C:\\Users\\dimai\\AppData\\Local\\Programs\\Python\\Python310\\lib\\site-packages\\sklearn\\metrics\\_classification.py:1344: UndefinedMetricWarning: Precision and F-score are ill-defined and being set to 0.0 in labels with no predicted samples. Use `zero_division` parameter to control this behavior.\n",
      "  _warn_prf(average, modifier, msg_start, len(result))\n",
      "C:\\Users\\dimai\\AppData\\Local\\Programs\\Python\\Python310\\lib\\site-packages\\sklearn\\metrics\\_classification.py:1344: UndefinedMetricWarning: Precision and F-score are ill-defined and being set to 0.0 in labels with no predicted samples. Use `zero_division` parameter to control this behavior.\n",
      "  _warn_prf(average, modifier, msg_start, len(result))\n",
      "C:\\Users\\dimai\\AppData\\Local\\Programs\\Python\\Python310\\lib\\site-packages\\sklearn\\metrics\\_classification.py:1344: UndefinedMetricWarning: Precision and F-score are ill-defined and being set to 0.0 in labels with no predicted samples. Use `zero_division` parameter to control this behavior.\n",
      "  _warn_prf(average, modifier, msg_start, len(result))\n"
     ]
    }
   ],
   "source": [
    "#25000/5000 - train/test data\n",
    "gnb = GaussianNB()\n",
    "\n",
    "gnb.fit(X_train, y_train)\n",
    "gnb_pred = gnb.predict(X_test)\n",
    "gnb_accuracy = accuracy_score(y_test, gnb_pred)\n",
    "gnb_report = classification_report(y_test, gnb_pred)\n",
    "\n",
    "print(\"GaussianNB Accuracy:\", gnb_accuracy)\n",
    "print(\"GaussianNB Report:\\n\",gnb_report)\n",
    "\n",
    "#Save model\n",
    "MODEL_NAME = \"gnb\"\n",
    "VERSION = \"1.2\"\n",
    "with open(f'models/training_models/{COMMAND_ID}_{MODEL_NAME}_{VERSION}.pkl', 'wb') as f:\n",
    "    pickle.dump(gnb, f)"
   ],
   "metadata": {
    "collapsed": false
   }
  },
  {
   "cell_type": "markdown",
   "source": [
    "### Model 4 RandomForestClassifier"
   ],
   "metadata": {
    "collapsed": false
   }
  },
  {
   "cell_type": "code",
   "execution_count": 92,
   "outputs": [
    {
     "name": "stdout",
     "output_type": "stream",
     "text": [
      "RandomForestClassifier Accuracy: 0.8332\n",
      "RandomForestClassifier Report:\n",
      "               precision    recall  f1-score   support\n",
      "\n",
      "           0       0.87      0.95      0.91      4351\n",
      "           1       0.14      0.06      0.08       649\n",
      "\n",
      "    accuracy                           0.83      5000\n",
      "   macro avg       0.51      0.50      0.49      5000\n",
      "weighted avg       0.78      0.83      0.80      5000\n",
      "\n"
     ]
    }
   ],
   "source": [
    "#25000/5000 - train/test data\n",
    "rf = RandomForestClassifier()\n",
    "\n",
    "rf.fit(X_train, y_train)\n",
    "rf_pred = rf.predict(X_test)\n",
    "rf_accuracy = accuracy_score(y_test, rf_pred)\n",
    "rf_report = classification_report(y_test, rf_pred)\n",
    "\n",
    "print(\"RandomForestClassifier Accuracy:\", rf_accuracy)\n",
    "print(\"RandomForestClassifier Report:\\n\", rf_report)\n",
    "\n",
    "# Save model\n",
    "MODEL_NAME = \"rf\"\n",
    "VERSION = \"1.1\"\n",
    "with open(f'models/training_models/{COMMAND_ID}_{MODEL_NAME}_{VERSION}.pkl', 'wb') as f:\n",
    "    pickle.dump(rf, f)"
   ],
   "metadata": {
    "collapsed": false
   }
  },
  {
   "cell_type": "markdown",
   "source": [
    "### Model 5 SVC"
   ],
   "metadata": {
    "collapsed": false
   }
  },
  {
   "cell_type": "code",
   "execution_count": 141,
   "outputs": [
    {
     "name": "stdout",
     "output_type": "stream",
     "text": [
      "SVC Accuracy: 0.9166666666666666\n",
      "SVC Report:\n",
      "               precision    recall  f1-score   support\n",
      "\n",
      "           0       0.92      1.00      0.96      1375\n",
      "           1       0.00      0.00      0.00       125\n",
      "\n",
      "    accuracy                           0.92      1500\n",
      "   macro avg       0.46      0.50      0.48      1500\n",
      "weighted avg       0.84      0.92      0.88      1500\n",
      "\n"
     ]
    },
    {
     "name": "stderr",
     "output_type": "stream",
     "text": [
      "C:\\Users\\dimai\\AppData\\Local\\Programs\\Python\\Python310\\lib\\site-packages\\sklearn\\metrics\\_classification.py:1344: UndefinedMetricWarning: Precision and F-score are ill-defined and being set to 0.0 in labels with no predicted samples. Use `zero_division` parameter to control this behavior.\n",
      "  _warn_prf(average, modifier, msg_start, len(result))\n",
      "C:\\Users\\dimai\\AppData\\Local\\Programs\\Python\\Python310\\lib\\site-packages\\sklearn\\metrics\\_classification.py:1344: UndefinedMetricWarning: Precision and F-score are ill-defined and being set to 0.0 in labels with no predicted samples. Use `zero_division` parameter to control this behavior.\n",
      "  _warn_prf(average, modifier, msg_start, len(result))\n",
      "C:\\Users\\dimai\\AppData\\Local\\Programs\\Python\\Python310\\lib\\site-packages\\sklearn\\metrics\\_classification.py:1344: UndefinedMetricWarning: Precision and F-score are ill-defined and being set to 0.0 in labels with no predicted samples. Use `zero_division` parameter to control this behavior.\n",
      "  _warn_prf(average, modifier, msg_start, len(result))\n"
     ]
    }
   ],
   "source": [
    "#5000/1000 - train/test data\n",
    "svm = SVC()\n",
    "svm.fit(X_train, y_train)\n",
    "svm_pred = svm.predict(X_test)\n",
    "svm_accuracy = accuracy_score(y_test, svm_pred)\n",
    "svm_report = classification_report(y_test, svm_pred)\n",
    "\n",
    "print(\"SVC Accuracy:\", svm_accuracy)\n",
    "print(\"SVC Report:\\n\", svm_report)\n",
    "\n",
    "# Save model\n",
    "MODEL_NAME = \"svm\"\n",
    "VERSION = \"1.0\"\n",
    "with open(f'models/training_models/{COMMAND_ID}_{MODEL_NAME}_{VERSION}.pkl', 'wb') as f:\n",
    "    pickle.dump(svm, f)"
   ],
   "metadata": {
    "collapsed": false,
    "ExecuteTime": {
     "start_time": "2023-04-12T23:43:11.252905Z",
     "end_time": "2023-04-12T23:44:12.979461Z"
    }
   }
  },
  {
   "cell_type": "markdown",
   "source": [
    "### Model 6 KNeighborsClassifier"
   ],
   "metadata": {
    "collapsed": false
   }
  },
  {
   "cell_type": "code",
   "execution_count": 121,
   "outputs": [
    {
     "name": "stdout",
     "output_type": "stream",
     "text": [
      "KNeighborsClassifier Accuracy: 0.8426\n",
      "KNeighborsClassifier Report:\n",
      "               precision    recall  f1-score   support\n",
      "\n",
      "           0       0.87      0.96      0.91      4351\n",
      "           1       0.12      0.04      0.06       649\n",
      "\n",
      "    accuracy                           0.84      5000\n",
      "   macro avg       0.50      0.50      0.48      5000\n",
      "weighted avg       0.77      0.84      0.80      5000\n",
      "\n"
     ]
    }
   ],
   "source": [
    "#25000/5000 - train/test data\n",
    "knn = KNeighborsClassifier()\n",
    "\n",
    "knn.fit(X_train, y_train)\n",
    "knn_pred = knn.predict(X_test)\n",
    "knn_accuracy = accuracy_score(y_test, knn_pred)\n",
    "knn_report = classification_report(y_test, knn_pred)\n",
    "\n",
    "print(\"KNeighborsClassifier Accuracy:\", knn_accuracy)\n",
    "print(\"KNeighborsClassifier Report:\\n\", knn_report)\n",
    "\n",
    "# Save model\n",
    "MODEL_NAME = \"knn\"\n",
    "VERSION = \"1.1\"\n",
    "with open(f'models/training_models/{COMMAND_ID}_{MODEL_NAME}_{VERSION}.pkl', 'wb') as f:\n",
    "    pickle.dump(knn, f)"
   ],
   "metadata": {
    "collapsed": false,
    "ExecuteTime": {
     "start_time": "2023-04-12T23:02:23.288069Z",
     "end_time": "2023-04-12T23:03:02.079787Z"
    }
   }
  }
 ],
 "metadata": {
  "kernelspec": {
   "display_name": "Python 3 (ipykernel)",
   "language": "python",
   "name": "python3"
  },
  "language_info": {
   "codemirror_mode": {
    "name": "ipython",
    "version": 3
   },
   "file_extension": ".py",
   "mimetype": "text/x-python",
   "name": "python",
   "nbconvert_exporter": "python",
   "pygments_lexer": "ipython3",
   "version": "3.9.7"
  }
 },
 "nbformat": 4,
 "nbformat_minor": 5
}
