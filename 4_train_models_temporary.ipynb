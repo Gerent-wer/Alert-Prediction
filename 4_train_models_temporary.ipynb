{
 "cells": [
  {
   "cell_type": "code",
   "execution_count": 2,
   "id": "d6c33ed8",
   "metadata": {
    "ExecuteTime": {
     "start_time": "2023-04-23T17:36:18.581774Z",
     "end_time": "2023-04-23T17:36:22.249211Z"
    }
   },
   "outputs": [],
   "source": [
    "import pandas as pd\n",
    "\n",
    "import scipy\n",
    "from scipy import sparse\n",
    "\n",
    "import numpy as np\n",
    "from sklearn.model_selection import TimeSeriesSplit\n",
    "\n",
    "import pickle\n"
   ]
  },
  {
   "cell_type": "markdown",
   "id": "e762e0c2",
   "metadata": {},
   "source": [
    "### Read data"
   ]
  },
  {
   "cell_type": "code",
   "execution_count": 3,
   "id": "ed8f3542",
   "metadata": {
    "ExecuteTime": {
     "start_time": "2023-04-23T17:36:22.257934Z",
     "end_time": "2023-04-23T17:37:40.073071Z"
    }
   },
   "outputs": [],
   "source": [
    "weather_alarms_tfidf = pd.read_csv('data/df_weather+alarms_merged.csv')"
   ]
  },
  {
   "cell_type": "code",
   "execution_count": 4,
   "id": "3e72f651",
   "metadata": {
    "ExecuteTime": {
     "start_time": "2023-04-23T17:37:40.086674Z",
     "end_time": "2023-04-23T17:37:40.164309Z"
    }
   },
   "outputs": [
    {
     "data": {
      "text/plain": "(203420, 70)"
     },
     "execution_count": 4,
     "metadata": {},
     "output_type": "execute_result"
    }
   ],
   "source": [
    "weather_alarms_tfidf.shape"
   ]
  },
  {
   "cell_type": "code",
   "execution_count": 5,
   "id": "dbe53dc4",
   "metadata": {
    "ExecuteTime": {
     "start_time": "2023-04-23T17:37:40.119295Z",
     "end_time": "2023-04-23T17:37:40.188016Z"
    }
   },
   "outputs": [
    {
     "data": {
      "text/plain": "   Unnamed: 0 city_resolvedAddress day_datetime  day_datetimeEpoch   \n0           0     Черкаси, Україна   2022-02-24         1645653600  \\\n1           1     Черкаси, Україна   2022-02-24         1645653600   \n2           2     Черкаси, Україна   2022-02-24         1645653600   \n3           3     Черкаси, Україна   2022-02-24         1645653600   \n4           4     Черкаси, Україна   2022-02-24         1645653600   \n\n   day_tempmax  day_tempmin  day_temp  day_dew  day_humidity  day_precip  ...   \n0          4.9         -0.1       1.9     -0.6          83.4         0.0  ...  \\\n1          4.9         -0.1       1.9     -0.6          83.4         0.0  ...   \n2          4.9         -0.1       1.9     -0.6          83.4         0.0  ...   \n3          4.9         -0.1       1.9     -0.6          83.4         0.0  ...   \n4          4.9         -0.1       1.9     -0.6          83.4         0.0  ...   \n\n   event_day_date  event_start_hour_datetimeEpoch   \n0             NaN                             NaN  \\\n1             NaN                             NaN   \n2             NaN                             NaN   \n3             NaN                             NaN   \n4             NaN                             NaN   \n\n   event_end_hour_datetimeEpoch  event_hour_level_event_time   \n0                           NaN                          NaN  \\\n1                           NaN                          NaN   \n2                           NaN                          NaN   \n3                           NaN                          NaN   \n4                           NaN                          NaN   \n\n  event_hour_level_event_datetimeEpoch isw_report_date   \n0                                  NaN             NaN  \\\n1                                  NaN             NaN   \n2                                  NaN             NaN   \n3                                  NaN             NaN   \n4                                  NaN             NaN   \n\n   isw_date_tomorrow_datetime isw_keywords  isw_main_html_v6   \n0                         NaN          NaN               NaN  \\\n1                         NaN          NaN               NaN   \n2                         NaN          NaN               NaN   \n3                         NaN          NaN               NaN   \n4                         NaN          NaN               NaN   \n\n   isw_report_text_lemm  \n0                   NaN  \n1                   NaN  \n2                   NaN  \n3                   NaN  \n4                   NaN  \n\n[5 rows x 70 columns]",
      "text/html": "<div>\n<style scoped>\n    .dataframe tbody tr th:only-of-type {\n        vertical-align: middle;\n    }\n\n    .dataframe tbody tr th {\n        vertical-align: top;\n    }\n\n    .dataframe thead th {\n        text-align: right;\n    }\n</style>\n<table border=\"1\" class=\"dataframe\">\n  <thead>\n    <tr style=\"text-align: right;\">\n      <th></th>\n      <th>Unnamed: 0</th>\n      <th>city_resolvedAddress</th>\n      <th>day_datetime</th>\n      <th>day_datetimeEpoch</th>\n      <th>day_tempmax</th>\n      <th>day_tempmin</th>\n      <th>day_temp</th>\n      <th>day_dew</th>\n      <th>day_humidity</th>\n      <th>day_precip</th>\n      <th>...</th>\n      <th>event_day_date</th>\n      <th>event_start_hour_datetimeEpoch</th>\n      <th>event_end_hour_datetimeEpoch</th>\n      <th>event_hour_level_event_time</th>\n      <th>event_hour_level_event_datetimeEpoch</th>\n      <th>isw_report_date</th>\n      <th>isw_date_tomorrow_datetime</th>\n      <th>isw_keywords</th>\n      <th>isw_main_html_v6</th>\n      <th>isw_report_text_lemm</th>\n    </tr>\n  </thead>\n  <tbody>\n    <tr>\n      <th>0</th>\n      <td>0</td>\n      <td>Черкаси, Україна</td>\n      <td>2022-02-24</td>\n      <td>1645653600</td>\n      <td>4.9</td>\n      <td>-0.1</td>\n      <td>1.9</td>\n      <td>-0.6</td>\n      <td>83.4</td>\n      <td>0.0</td>\n      <td>...</td>\n      <td>NaN</td>\n      <td>NaN</td>\n      <td>NaN</td>\n      <td>NaN</td>\n      <td>NaN</td>\n      <td>NaN</td>\n      <td>NaN</td>\n      <td>NaN</td>\n      <td>NaN</td>\n      <td>NaN</td>\n    </tr>\n    <tr>\n      <th>1</th>\n      <td>1</td>\n      <td>Черкаси, Україна</td>\n      <td>2022-02-24</td>\n      <td>1645653600</td>\n      <td>4.9</td>\n      <td>-0.1</td>\n      <td>1.9</td>\n      <td>-0.6</td>\n      <td>83.4</td>\n      <td>0.0</td>\n      <td>...</td>\n      <td>NaN</td>\n      <td>NaN</td>\n      <td>NaN</td>\n      <td>NaN</td>\n      <td>NaN</td>\n      <td>NaN</td>\n      <td>NaN</td>\n      <td>NaN</td>\n      <td>NaN</td>\n      <td>NaN</td>\n    </tr>\n    <tr>\n      <th>2</th>\n      <td>2</td>\n      <td>Черкаси, Україна</td>\n      <td>2022-02-24</td>\n      <td>1645653600</td>\n      <td>4.9</td>\n      <td>-0.1</td>\n      <td>1.9</td>\n      <td>-0.6</td>\n      <td>83.4</td>\n      <td>0.0</td>\n      <td>...</td>\n      <td>NaN</td>\n      <td>NaN</td>\n      <td>NaN</td>\n      <td>NaN</td>\n      <td>NaN</td>\n      <td>NaN</td>\n      <td>NaN</td>\n      <td>NaN</td>\n      <td>NaN</td>\n      <td>NaN</td>\n    </tr>\n    <tr>\n      <th>3</th>\n      <td>3</td>\n      <td>Черкаси, Україна</td>\n      <td>2022-02-24</td>\n      <td>1645653600</td>\n      <td>4.9</td>\n      <td>-0.1</td>\n      <td>1.9</td>\n      <td>-0.6</td>\n      <td>83.4</td>\n      <td>0.0</td>\n      <td>...</td>\n      <td>NaN</td>\n      <td>NaN</td>\n      <td>NaN</td>\n      <td>NaN</td>\n      <td>NaN</td>\n      <td>NaN</td>\n      <td>NaN</td>\n      <td>NaN</td>\n      <td>NaN</td>\n      <td>NaN</td>\n    </tr>\n    <tr>\n      <th>4</th>\n      <td>4</td>\n      <td>Черкаси, Україна</td>\n      <td>2022-02-24</td>\n      <td>1645653600</td>\n      <td>4.9</td>\n      <td>-0.1</td>\n      <td>1.9</td>\n      <td>-0.6</td>\n      <td>83.4</td>\n      <td>0.0</td>\n      <td>...</td>\n      <td>NaN</td>\n      <td>NaN</td>\n      <td>NaN</td>\n      <td>NaN</td>\n      <td>NaN</td>\n      <td>NaN</td>\n      <td>NaN</td>\n      <td>NaN</td>\n      <td>NaN</td>\n      <td>NaN</td>\n    </tr>\n  </tbody>\n</table>\n<p>5 rows × 70 columns</p>\n</div>"
     },
     "execution_count": 5,
     "metadata": {},
     "output_type": "execute_result"
    }
   ],
   "source": [
    "weather_alarms_tfidf.head()"
   ]
  },
  {
   "cell_type": "code",
   "execution_count": 6,
   "id": "f638660c",
   "metadata": {
    "scrolled": true,
    "ExecuteTime": {
     "start_time": "2023-04-23T17:37:40.174909Z",
     "end_time": "2023-04-23T17:37:40.283068Z"
    }
   },
   "outputs": [
    {
     "data": {
      "text/plain": "Index(['Unnamed: 0', 'city_resolvedAddress', 'day_datetime',\n       'day_datetimeEpoch', 'day_tempmax', 'day_tempmin', 'day_temp',\n       'day_dew', 'day_humidity', 'day_precip', 'day_precipcover',\n       'day_solarradiation', 'day_solarenergy', 'day_uvindex', 'day_sunrise',\n       'day_sunset', 'day_moonphase', 'hour_datetime', 'hour_datetimeEpoch',\n       'hour_temp', 'hour_humidity', 'hour_dew', 'hour_precip',\n       'hour_precipprob', 'hour_snow', 'hour_snowdepth', 'hour_preciptype',\n       'hour_windgust', 'hour_windspeed', 'hour_winddir', 'hour_pressure',\n       'hour_visibility', 'hour_cloudcover', 'hour_solarradiation',\n       'hour_solarenergy', 'hour_uvindex', 'hour_severerisk',\n       'hour_conditions', 'city', 'region', 'center_city_ua', 'center_city_en',\n       'region_alt', 'region_id', 'event_Unnamed: 0', 'event_region_title',\n       'event_region_city', 'event_all_region', 'event_start', 'event_end',\n       'event_clean_end', 'event_intersection_alarm_id', 'event_start_time',\n       'event_end_time', 'event_day', 'event_feature_number_of_region',\n       'event_within_24_hours',\n       'event_feature_number_of_alarms_within_24_hours', 'event_start_hour',\n       'event_end_hour', 'event_day_date', 'event_start_hour_datetimeEpoch',\n       'event_end_hour_datetimeEpoch', 'event_hour_level_event_time',\n       'event_hour_level_event_datetimeEpoch', 'isw_report_date',\n       'isw_date_tomorrow_datetime', 'isw_keywords', 'isw_main_html_v6',\n       'isw_report_text_lemm'],\n      dtype='object')"
     },
     "execution_count": 6,
     "metadata": {},
     "output_type": "execute_result"
    }
   ],
   "source": [
    "weather_alarms_tfidf.columns"
   ]
  },
  {
   "cell_type": "code",
   "execution_count": 7,
   "id": "f67b66ad",
   "metadata": {
    "ExecuteTime": {
     "start_time": "2023-04-23T17:37:40.207612Z",
     "end_time": "2023-04-23T17:37:40.283068Z"
    }
   },
   "outputs": [
    {
     "data": {
      "text/plain": "(203420, 70)"
     },
     "execution_count": 7,
     "metadata": {},
     "output_type": "execute_result"
    }
   ],
   "source": [
    "weather_alarms_tfidf.shape"
   ]
  },
  {
   "cell_type": "markdown",
   "id": "34470577",
   "metadata": {},
   "source": [
    "### TF_IDF + CV with isw_report_text_lemm preprocessed"
   ]
  },
  {
   "cell_type": "code",
   "execution_count": 8,
   "id": "f55ac22f",
   "metadata": {
    "ExecuteTime": {
     "start_time": "2023-04-23T17:37:40.226721Z",
     "end_time": "2023-04-23T17:37:46.300814Z"
    }
   },
   "outputs": [
    {
     "name": "stderr",
     "output_type": "stream",
     "text": [
      "C:\\Users\\dimai\\AppData\\Local\\Temp\\ipykernel_10612\\3783398272.py:1: DeprecationWarning: Please use `csr_matrix` from the `scipy.sparse` namespace, the `scipy.sparse.csr` namespace is deprecated.\n",
      "  tfidf = pickle.load(open(\"models/tfidf_transformer_v1.pkl\",\"rb\"))\n",
      "C:\\Users\\dimai\\AppData\\Local\\Programs\\Python\\Python310\\lib\\site-packages\\sklearn\\base.py:318: UserWarning: Trying to unpickle estimator TfidfTransformer from version 0.24.2 when using version 1.2.2. This might lead to breaking code or invalid results. Use at your own risk. For more info please refer to:\n",
      "https://scikit-learn.org/stable/model_persistence.html#security-maintainability-limitations\n",
      "  warnings.warn(\n",
      "C:\\Users\\dimai\\AppData\\Local\\Programs\\Python\\Python310\\lib\\site-packages\\sklearn\\base.py:318: UserWarning: Trying to unpickle estimator CountVectorizer from version 0.24.2 when using version 1.2.2. This might lead to breaking code or invalid results. Use at your own risk. For more info please refer to:\n",
      "https://scikit-learn.org/stable/model_persistence.html#security-maintainability-limitations\n",
      "  warnings.warn(\n"
     ]
    }
   ],
   "source": [
    "tfidf = pickle.load(open(\"models/tfidf_transformer_v1.pkl\",\"rb\"))\n",
    "cv = pickle.load(open(\"models/count_vectorizer_v1.pkl\",\"rb\"))\n",
    "\n",
    "#Uncommit if you want to load exist matrix\n",
    "tfidf_vector = scipy.sparse.load_npz('data/matrix/tfidf_vector_train.npz')\n",
    "\n",
    "# #Uncommit if you want to create new one\n",
    "# word_count_vector = cv.transform(weather_alarms_tfidf['isw_report_text_lemm'].values.astype('U'))\n",
    "# tfidf_vector = tfidf.transform(word_count_vector)"
   ]
  },
  {
   "cell_type": "code",
   "execution_count": 9,
   "id": "8c29be78",
   "metadata": {
    "ExecuteTime": {
     "start_time": "2023-04-23T17:37:46.306545Z",
     "end_time": "2023-04-23T17:37:46.315500Z"
    }
   },
   "outputs": [],
   "source": [
    "# #Save model and matrix\n",
    "# with open(\"models/tfidf_vector_calculated.pkl\", \"wb\") as handle:\n",
    "#    pickle.dump(tfidf_vector, handle)\n",
    "# scipy.sparse.save_npz('data/matrix/tfidf_vector_train.npz', tfidf_vector)"
   ]
  },
  {
   "cell_type": "code",
   "execution_count": 10,
   "outputs": [
    {
     "data": {
      "text/plain": "<203420x7401 sparse matrix of type '<class 'numpy.float64'>'\n\twith 123370706 stored elements in Compressed Sparse Row format>"
     },
     "execution_count": 10,
     "metadata": {},
     "output_type": "execute_result"
    }
   ],
   "source": [
    "tfidf_vector"
   ],
   "metadata": {
    "collapsed": false,
    "ExecuteTime": {
     "start_time": "2023-04-23T17:37:46.320119Z",
     "end_time": "2023-04-23T17:37:46.392134Z"
    }
   }
  },
  {
   "cell_type": "markdown",
   "source": [
    "### Dataset Preprocesing"
   ],
   "metadata": {
    "collapsed": false
   }
  },
  {
   "cell_type": "code",
   "execution_count": 11,
   "outputs": [
    {
     "name": "stdout",
     "output_type": "stream",
     "text": [
      "<class 'pandas.core.frame.DataFrame'>\n",
      "RangeIndex: 203420 entries, 0 to 203419\n",
      "Data columns (total 71 columns):\n",
      " #   Column                                          Non-Null Count   Dtype  \n",
      "---  ------                                          --------------   -----  \n",
      " 0   Unnamed: 0                                      203420 non-null  int64  \n",
      " 1   city_resolvedAddress                            203420 non-null  object \n",
      " 2   day_datetime                                    203420 non-null  object \n",
      " 3   day_datetimeEpoch                               203420 non-null  int64  \n",
      " 4   day_tempmax                                     203420 non-null  float64\n",
      " 5   day_tempmin                                     203420 non-null  float64\n",
      " 6   day_temp                                        203420 non-null  float64\n",
      " 7   day_dew                                         203420 non-null  float64\n",
      " 8   day_humidity                                    203420 non-null  float64\n",
      " 9   day_precip                                      203420 non-null  float64\n",
      " 10  day_precipcover                                 203420 non-null  float64\n",
      " 11  day_solarradiation                              203420 non-null  float64\n",
      " 12  day_solarenergy                                 203420 non-null  float64\n",
      " 13  day_uvindex                                     203420 non-null  float64\n",
      " 14  day_sunrise                                     203420 non-null  object \n",
      " 15  day_sunset                                      203420 non-null  object \n",
      " 16  day_moonphase                                   203420 non-null  float64\n",
      " 17  hour_datetime                                   203420 non-null  object \n",
      " 18  hour_datetimeEpoch                              203420 non-null  int64  \n",
      " 19  hour_temp                                       203420 non-null  float64\n",
      " 20  hour_humidity                                   203420 non-null  float64\n",
      " 21  hour_dew                                        203420 non-null  float64\n",
      " 22  hour_precip                                     203310 non-null  float64\n",
      " 23  hour_precipprob                                 203420 non-null  float64\n",
      " 24  hour_snow                                       203420 non-null  float64\n",
      " 25  hour_snowdepth                                  203420 non-null  float64\n",
      " 26  hour_preciptype                                 33433 non-null   object \n",
      " 27  hour_windgust                                   203420 non-null  float64\n",
      " 28  hour_windspeed                                  203420 non-null  float64\n",
      " 29  hour_winddir                                    203420 non-null  float64\n",
      " 30  hour_pressure                                   203420 non-null  float64\n",
      " 31  hour_visibility                                 203420 non-null  float64\n",
      " 32  hour_cloudcover                                 203420 non-null  float64\n",
      " 33  hour_solarradiation                             202636 non-null  float64\n",
      " 34  hour_solarenergy                                111221 non-null  float64\n",
      " 35  hour_uvindex                                    202636 non-null  float64\n",
      " 36  hour_severerisk                                 203420 non-null  float64\n",
      " 37  hour_conditions                                 203420 non-null  object \n",
      " 38  city                                            203420 non-null  object \n",
      " 39  region                                          203420 non-null  object \n",
      " 40  center_city_ua                                  203420 non-null  object \n",
      " 41  center_city_en                                  203420 non-null  object \n",
      " 42  region_alt                                      203420 non-null  object \n",
      " 43  region_id                                       203420 non-null  int64  \n",
      " 44  event_Unnamed: 0                                51594 non-null   float64\n",
      " 45  event_region_title                              51594 non-null   object \n",
      " 46  event_region_city                               51594 non-null   object \n",
      " 47  event_all_region                                51594 non-null   float64\n",
      " 48  event_start                                     51594 non-null   object \n",
      " 49  event_end                                       51594 non-null   object \n",
      " 50  event_clean_end                                 51593 non-null   object \n",
      " 51  event_intersection_alarm_id                     4997 non-null    float64\n",
      " 52  event_start_time                                51594 non-null   object \n",
      " 53  event_end_time                                  51594 non-null   object \n",
      " 54  event_day                                       51594 non-null   float64\n",
      " 55  event_feature_number_of_region                  51594 non-null   float64\n",
      " 56  event_within_24_hours                           51594 non-null   object \n",
      " 57  event_feature_number_of_alarms_within_24_hours  51594 non-null   float64\n",
      " 58  event_start_hour                                51594 non-null   object \n",
      " 59  event_end_hour                                  51594 non-null   object \n",
      " 60  event_day_date                                  51594 non-null   object \n",
      " 61  event_start_hour_datetimeEpoch                  51594 non-null   float64\n",
      " 62  event_end_hour_datetimeEpoch                    51594 non-null   float64\n",
      " 63  event_hour_level_event_time                     51594 non-null   object \n",
      " 64  event_hour_level_event_datetimeEpoch            51594 non-null   float64\n",
      " 65  isw_report_date                                 201669 non-null  object \n",
      " 66  isw_date_tomorrow_datetime                      201669 non-null  object \n",
      " 67  isw_keywords                                    201669 non-null  object \n",
      " 68  isw_main_html_v6                                195000 non-null  object \n",
      " 69  isw_report_text_lemm                            201669 non-null  object \n",
      " 70  isAlarm                                         203420 non-null  int32  \n",
      "dtypes: float64(37), int32(1), int64(4), object(29)\n",
      "memory usage: 109.4+ MB\n"
     ]
    }
   ],
   "source": [
    "weather_alarms_tfidf['isAlarm'] = weather_alarms_tfidf['event_start_hour'].notnull().astype(int)\n",
    "Y = weather_alarms_tfidf['isAlarm']\n",
    "weather_alarms_tfidf.info()"
   ],
   "metadata": {
    "collapsed": false,
    "ExecuteTime": {
     "start_time": "2023-04-23T17:37:46.341452Z",
     "end_time": "2023-04-23T17:37:46.709606Z"
    }
   }
  },
  {
   "cell_type": "code",
   "execution_count": 12,
   "id": "4e08413b",
   "metadata": {
    "ExecuteTime": {
     "start_time": "2023-04-23T17:37:46.719018Z",
     "end_time": "2023-04-23T17:37:46.787619Z"
    }
   },
   "outputs": [],
   "source": [
    "#Clear data\n",
    "weather_alarms_tfidf_features = weather_alarms_tfidf.drop(columns=['event_all_region', 'event_start',\n",
    "       'event_end', 'event_clean_end', 'event_intersection_alarm_id',\n",
    "       'event_start_time', 'event_end_time', 'event_day',\n",
    "       'event_feature_number_of_region', 'event_within_24_hours',\n",
    "       'event_feature_number_of_alarms_within_24_hours', 'event_start_hour',\n",
    "       'event_end_hour', 'event_day_date', 'event_start_hour_datetimeEpoch',\n",
    "       'event_end_hour_datetimeEpoch', 'event_hour_level_event_time',\n",
    "       'event_hour_level_event_datetimeEpoch','region_alt','hour_conditions','center_city_en','hour_datetime','day_sunset','day_sunrise','isAlarm','hour_precip','hour_solarradiation','hour_solarenergy','hour_uvindex', 'event_region_title', 'event_region_city', 'isw_report_date', 'isw_date_tomorrow_datetime', 'isw_keywords', 'isw_main_html_v6', 'isw_report_text_lemm', 'city', 'region', 'center_city_ua', 'hour_preciptype', 'city_resolvedAddress', 'day_datetime', 'event_Unnamed: 0'],axis=1)"
   ]
  },
  {
   "cell_type": "code",
   "execution_count": 13,
   "id": "cd2d0c27",
   "metadata": {
    "ExecuteTime": {
     "start_time": "2023-04-23T17:37:46.777576Z",
     "end_time": "2023-04-23T17:37:51.830864Z"
    }
   },
   "outputs": [],
   "source": [
    "weather_alarms_tfidf_features_clear = weather_alarms_tfidf_features\n",
    "weather_alarms_tfidf_features_clear.to_csv('data/weather_alarms_tfidf_features_clear.csv')"
   ]
  },
  {
   "cell_type": "code",
   "execution_count": 14,
   "outputs": [
    {
     "data": {
      "text/plain": "Unnamed: 0            0\nday_datetimeEpoch     0\nday_tempmax           0\nday_tempmin           0\nday_temp              0\nday_dew               0\nday_humidity          0\nday_precip            0\nday_precipcover       0\nday_solarradiation    0\nday_solarenergy       0\nday_uvindex           0\nday_moonphase         0\nhour_datetimeEpoch    0\nhour_temp             0\nhour_humidity         0\nhour_dew              0\nhour_precipprob       0\nhour_snow             0\nhour_snowdepth        0\nhour_windgust         0\nhour_windspeed        0\nhour_winddir          0\nhour_pressure         0\nhour_visibility       0\nhour_cloudcover       0\nhour_severerisk       0\nregion_id             0\ndtype: int64"
     },
     "execution_count": 14,
     "metadata": {},
     "output_type": "execute_result"
    }
   ],
   "source": [
    "weather_alarms_tfidf_features_clear.isnull().sum()"
   ],
   "metadata": {
    "collapsed": false,
    "ExecuteTime": {
     "start_time": "2023-04-23T17:37:51.837885Z",
     "end_time": "2023-04-23T17:37:51.877476Z"
    }
   }
  },
  {
   "cell_type": "code",
   "execution_count": 15,
   "outputs": [],
   "source": [
    "weather_alarms_tfidf_csr = scipy.sparse.csr_matrix(weather_alarms_tfidf_features_clear)\n",
    "weather_alarms_tfidf_features = scipy.sparse.hstack((weather_alarms_tfidf_csr, tfidf_vector), format=\"csr\")"
   ],
   "metadata": {
    "collapsed": false,
    "ExecuteTime": {
     "start_time": "2023-04-23T17:37:51.884061Z",
     "end_time": "2023-04-23T17:37:55.500894Z"
    }
   }
  },
  {
   "cell_type": "code",
   "execution_count": 16,
   "outputs": [],
   "source": [
    "scipy.sparse.save_npz('data/matrix/weather_alarms_tfidf_features.npz', weather_alarms_tfidf_features)"
   ],
   "metadata": {
    "collapsed": false,
    "ExecuteTime": {
     "start_time": "2023-04-23T17:37:55.505419Z",
     "end_time": "2023-04-23T17:38:14.987636Z"
    }
   }
  },
  {
   "cell_type": "code",
   "execution_count": 17,
   "outputs": [
    {
     "data": {
      "text/plain": "<203420x7429 sparse matrix of type '<class 'numpy.float64'>'\n\twith 128262032 stored elements in Compressed Sparse Row format>"
     },
     "execution_count": 17,
     "metadata": {},
     "output_type": "execute_result"
    }
   ],
   "source": [
    "weather_alarms_tfidf_features"
   ],
   "metadata": {
    "collapsed": false,
    "ExecuteTime": {
     "start_time": "2023-04-23T17:38:14.991050Z",
     "end_time": "2023-04-23T17:38:15.003506Z"
    }
   }
  },
  {
   "cell_type": "markdown",
   "id": "f5835830",
   "metadata": {},
   "source": [
    "### Devide data into train and test parts and test models"
   ]
  },
  {
   "cell_type": "code",
   "execution_count": 18,
   "outputs": [],
   "source": [
    "#Imports\n",
    "from sklearn.linear_model import LogisticRegression\n",
    "from sklearn.svm import SVC # For SVM\n",
    "from sklearn.linear_model import SGDClassifier # For SGD\n",
    "from sklearn.ensemble import RandomForestClassifier # For Random Forest\n",
    "from sklearn.naive_bayes import GaussianNB # For Gaussian Naive Bayes\n",
    "from sklearn.neighbors import KNeighborsClassifier # For K-nearest neighbors\n",
    "from sklearn.model_selection import train_test_split # For data splitting\n",
    "from sklearn.metrics import accuracy_score, classification_report # For model evaluation\n",
    "from sklearn.linear_model import SGDClassifier, LogisticRegression\n",
    "from sklearn.naive_bayes import GaussianNB\n",
    "from sklearn.metrics import classification_report, accuracy_score\n",
    "from sklearn.model_selection import TimeSeriesSplit\n",
    "from sklearn.utils import shuffle\n",
    "\n",
    "COMMAND_ID = \"4\"\n",
    "\n",
    "# Split the dataset into input features (X) and target variable (y)\n",
    "X = weather_alarms_tfidf_features  # Assuming the target variable is in the last column\n",
    "y = Y  # Assuming the target variable is in the last column\n",
    "\n",
    "X, y = shuffle(X, y, random_state=42)"
   ],
   "metadata": {
    "collapsed": false,
    "ExecuteTime": {
     "start_time": "2023-04-23T17:38:15.011197Z",
     "end_time": "2023-04-23T17:38:16.117514Z"
    }
   }
  },
  {
   "cell_type": "code",
   "execution_count": 19,
   "outputs": [
    {
     "ename": "NameError",
     "evalue": "name 'stop' is not defined",
     "output_type": "error",
     "traceback": [
      "\u001B[1;31m---------------------------------------------------------------------------\u001B[0m",
      "\u001B[1;31mNameError\u001B[0m                                 Traceback (most recent call last)",
      "Cell \u001B[1;32mIn[19], line 1\u001B[0m\n\u001B[1;32m----> 1\u001B[0m \u001B[43mstop\u001B[49m\n",
      "\u001B[1;31mNameError\u001B[0m: name 'stop' is not defined"
     ]
    }
   ],
   "source": [
    "stop"
   ],
   "metadata": {
    "collapsed": false
   }
  },
  {
   "cell_type": "markdown",
   "source": [
    "### Model 1 SGDClassifier"
   ],
   "metadata": {
    "collapsed": false,
    "ExecuteTime": {
     "start_time": "2023-04-19T17:00:40.706929Z",
     "end_time": "2023-04-19T17:00:41.673881Z"
    }
   },
   "outputs": [
    {
     "name": "stdout",
     "output_type": "stream",
     "text": [
      "(7000, 7429)\n",
      "(1500, 7429)\n",
      "(7000, 7429)\n",
      "(1500, 7429)\n"
     ]
    }
   ],
   "execution_count": 38
  },
  {
   "cell_type": "code",
   "execution_count": null,
   "outputs": [],
   "source": [
    "#25000/5000 - train/test data\n",
    "sgd = SGDClassifier()\n",
    "\n",
    "sgd.fit(X_train, y_train)\n",
    "sgd_pred = sgd.predict(X_test)\n",
    "sgd_accuracy = accuracy_score(y_test, sgd_pred)\n",
    "sgd_report = classification_report(y_test, sgd_pred)\n",
    "\n",
    "print(\"SGDClassifier Accuracy:\", sgd_accuracy)\n",
    "print(\"SGDClassifier Report:\\n\", sgd_report)\n",
    "\n",
    "# Save model\n",
    "MODEL_NAME = \"sgd\"\n",
    "VERSION = \"1.4\"\n",
    "with open(f'models/training_models/{COMMAND_ID}_{MODEL_NAME}_{VERSION}.pkl', 'wb') as f:\n",
    "    pickle.dump(sgd, f)"
   ],
   "metadata": {
    "collapsed": false,
    "ExecuteTime": {
     "start_time": "2023-04-22T00:02:09.064231Z",
     "end_time": "2023-04-22T00:08:05.873284Z"
    }
   }
  },
  {
   "cell_type": "markdown",
   "source": [
    "### Model 2 LogisticRegression"
   ],
   "metadata": {
    "collapsed": false,
    "ExecuteTime": {
     "start_time": "2023-04-22T00:09:29.255793Z",
     "end_time": "2023-04-22T00:09:29.297775Z"
    }
   },
   "outputs": [],
   "execution_count": 66
  },
  {
   "cell_type": "code",
   "execution_count": null,
   "outputs": [],
   "source": [
    "#25000/5000 - train/test data\n",
    "lr = LogisticRegression()\n",
    "\n",
    "lr.fit(X_train, y_train)\n",
    "lr_pred = lr.predict(X_test)\n",
    "lr_accuracy = accuracy_score(y_test, lr_pred)\n",
    "lr_report = classification_report(y_test, lr_pred)\n",
    "\n",
    "print(\"LogisticRegression Accuracy:\", lr_accuracy)\n",
    "print(\"LogisticRegression Report:\\n\", lr_report)\n",
    "\n",
    "# Save model\n",
    "MODEL_NAME = \"logreg\"\n",
    "VERSION = \"1.5f\" # f - full data set\n",
    "with open(f'models/training_models/{COMMAND_ID}_{MODEL_NAME}_{VERSION}.pkl', 'wb') as f:\n",
    "    pickle.dump(lr, f)"
   ],
   "metadata": {
    "collapsed": false,
    "ExecuteTime": {
     "start_time": "2023-04-22T00:15:30.905809Z",
     "end_time": "2023-04-22T00:15:44.612995Z"
    }
   }
  },
  {
   "cell_type": "markdown",
   "source": [
    "### Model 3 GaussianNB"
   ],
   "metadata": {
    "collapsed": false,
    "ExecuteTime": {
     "start_time": "2023-04-22T00:19:03.663721Z",
     "end_time": "2023-04-22T00:19:03.691597Z"
    }
   },
   "outputs": [],
   "execution_count": 69
  },
  {
   "cell_type": "code",
   "execution_count": null,
   "outputs": [],
   "source": [
    "tscv = TimeSeriesSplit(n_splits=3)\n",
    "\n",
    "for train_index, test_index in tscv.split(X):\n",
    "\n",
    "    # Access the train and test data for X and y\n",
    "    X_train, X_test = X[train_index].toarray(), X[test_index].toarray()\n",
    "    y_train, y_test = y[train_index], y[test_index]\n",
    "\n",
    "    # show sets size\n",
    "    print(X_train.shape)\n",
    "    print(X_test.shape)\n",
    "\n",
    "    gnb = GaussianNB()\n",
    "\n",
    "    gnb.fit(X_train, y_train)\n",
    "    gnb_pred = gnb.predict(X_test)\n",
    "    gnb_accuracy = accuracy_score(y_test, gnb_pred)\n",
    "    gnb_report = classification_report(y_test, gnb_pred)\n",
    "\n",
    "    print(\"GaussianNB Accuracy:\", gnb_accuracy)\n",
    "    print(\"GaussianNB Report:\\n\",gnb_report)"
   ],
   "metadata": {
    "collapsed": false
   }
  },
  {
   "cell_type": "code",
   "execution_count": null,
   "outputs": [],
   "source": [
    "#Save model\n",
    "MODEL_NAME = \"gnb\"\n",
    "VERSION = \"1.3h\" # h - half data set\n",
    "with open(f'models/training_models/{COMMAND_ID}_{MODEL_NAME}_{VERSION}.pkl', 'wb') as f:\n",
    "    pickle.dump(gnb, f)"
   ],
   "metadata": {
    "collapsed": false,
    "ExecuteTime": {
     "start_time": "2023-04-22T00:53:05.098811Z",
     "end_time": "2023-04-22T00:53:05.138887Z"
    }
   }
  },
  {
   "cell_type": "markdown",
   "source": [
    "### Model 4 RandomForestClassifier"
   ],
   "metadata": {
    "collapsed": false
   },
   "outputs": [
    {
     "ename": "MemoryError",
     "evalue": "Unable to allocate 2.81 GiB for an array with shape (50855, 7429) and data type float64",
     "output_type": "error",
     "traceback": [
      "\u001B[1;31m---------------------------------------------------------------------------\u001B[0m",
      "\u001B[1;31mMemoryError\u001B[0m                               Traceback (most recent call last)",
      "Cell \u001B[1;32mIn[70], line 11\u001B[0m\n\u001B[0;32m      7\u001B[0m y_train, y_test \u001B[38;5;241m=\u001B[39m y[train_index], y[test_index]\n\u001B[0;32m      9\u001B[0m gnb \u001B[38;5;241m=\u001B[39m GaussianNB()\n\u001B[1;32m---> 11\u001B[0m \u001B[43mgnb\u001B[49m\u001B[38;5;241;43m.\u001B[39;49m\u001B[43mfit\u001B[49m\u001B[43m(\u001B[49m\u001B[43mX_train\u001B[49m\u001B[43m,\u001B[49m\u001B[43m \u001B[49m\u001B[43my_train\u001B[49m\u001B[43m)\u001B[49m\n\u001B[0;32m     12\u001B[0m gnb_pred \u001B[38;5;241m=\u001B[39m gnb\u001B[38;5;241m.\u001B[39mpredict(X_test)\n\u001B[0;32m     13\u001B[0m gnb_accuracy \u001B[38;5;241m=\u001B[39m accuracy_score(y_test, gnb_pred)\n",
      "File \u001B[1;32m~\\AppData\\Local\\Programs\\Python\\Python310\\lib\\site-packages\\sklearn\\naive_bayes.py:267\u001B[0m, in \u001B[0;36mGaussianNB.fit\u001B[1;34m(self, X, y, sample_weight)\u001B[0m\n\u001B[0;32m    265\u001B[0m \u001B[38;5;28mself\u001B[39m\u001B[38;5;241m.\u001B[39m_validate_params()\n\u001B[0;32m    266\u001B[0m y \u001B[38;5;241m=\u001B[39m \u001B[38;5;28mself\u001B[39m\u001B[38;5;241m.\u001B[39m_validate_data(y\u001B[38;5;241m=\u001B[39my)\n\u001B[1;32m--> 267\u001B[0m \u001B[38;5;28;01mreturn\u001B[39;00m \u001B[38;5;28;43mself\u001B[39;49m\u001B[38;5;241;43m.\u001B[39;49m\u001B[43m_partial_fit\u001B[49m\u001B[43m(\u001B[49m\n\u001B[0;32m    268\u001B[0m \u001B[43m    \u001B[49m\u001B[43mX\u001B[49m\u001B[43m,\u001B[49m\u001B[43m \u001B[49m\u001B[43my\u001B[49m\u001B[43m,\u001B[49m\u001B[43m \u001B[49m\u001B[43mnp\u001B[49m\u001B[38;5;241;43m.\u001B[39;49m\u001B[43munique\u001B[49m\u001B[43m(\u001B[49m\u001B[43my\u001B[49m\u001B[43m)\u001B[49m\u001B[43m,\u001B[49m\u001B[43m \u001B[49m\u001B[43m_refit\u001B[49m\u001B[38;5;241;43m=\u001B[39;49m\u001B[38;5;28;43;01mTrue\u001B[39;49;00m\u001B[43m,\u001B[49m\u001B[43m \u001B[49m\u001B[43msample_weight\u001B[49m\u001B[38;5;241;43m=\u001B[39;49m\u001B[43msample_weight\u001B[49m\n\u001B[0;32m    269\u001B[0m \u001B[43m\u001B[49m\u001B[43m)\u001B[49m\n",
      "File \u001B[1;32m~\\AppData\\Local\\Programs\\Python\\Python310\\lib\\site-packages\\sklearn\\naive_bayes.py:436\u001B[0m, in \u001B[0;36mGaussianNB._partial_fit\u001B[1;34m(self, X, y, classes, _refit, sample_weight)\u001B[0m\n\u001B[0;32m    430\u001B[0m     sample_weight \u001B[38;5;241m=\u001B[39m _check_sample_weight(sample_weight, X)\n\u001B[0;32m    432\u001B[0m \u001B[38;5;66;03m# If the ratio of data variance between dimensions is too small, it\u001B[39;00m\n\u001B[0;32m    433\u001B[0m \u001B[38;5;66;03m# will cause numerical errors. To address this, we artificially\u001B[39;00m\n\u001B[0;32m    434\u001B[0m \u001B[38;5;66;03m# boost the variance by epsilon, a small fraction of the standard\u001B[39;00m\n\u001B[0;32m    435\u001B[0m \u001B[38;5;66;03m# deviation of the largest dimension.\u001B[39;00m\n\u001B[1;32m--> 436\u001B[0m \u001B[38;5;28mself\u001B[39m\u001B[38;5;241m.\u001B[39mepsilon_ \u001B[38;5;241m=\u001B[39m \u001B[38;5;28mself\u001B[39m\u001B[38;5;241m.\u001B[39mvar_smoothing \u001B[38;5;241m*\u001B[39m \u001B[43mnp\u001B[49m\u001B[38;5;241;43m.\u001B[39;49m\u001B[43mvar\u001B[49m\u001B[43m(\u001B[49m\u001B[43mX\u001B[49m\u001B[43m,\u001B[49m\u001B[43m \u001B[49m\u001B[43maxis\u001B[49m\u001B[38;5;241;43m=\u001B[39;49m\u001B[38;5;241;43m0\u001B[39;49m\u001B[43m)\u001B[49m\u001B[38;5;241m.\u001B[39mmax()\n\u001B[0;32m    438\u001B[0m \u001B[38;5;28;01mif\u001B[39;00m first_call:\n\u001B[0;32m    439\u001B[0m     \u001B[38;5;66;03m# This is the first call to partial_fit:\u001B[39;00m\n\u001B[0;32m    440\u001B[0m     \u001B[38;5;66;03m# initialize various cumulative counters\u001B[39;00m\n\u001B[0;32m    441\u001B[0m     n_features \u001B[38;5;241m=\u001B[39m X\u001B[38;5;241m.\u001B[39mshape[\u001B[38;5;241m1\u001B[39m]\n",
      "File \u001B[1;32m<__array_function__ internals>:200\u001B[0m, in \u001B[0;36mvar\u001B[1;34m(*args, **kwargs)\u001B[0m\n",
      "File \u001B[1;32m~\\AppData\\Local\\Programs\\Python\\Python310\\lib\\site-packages\\numpy\\core\\fromnumeric.py:3747\u001B[0m, in \u001B[0;36mvar\u001B[1;34m(a, axis, dtype, out, ddof, keepdims, where)\u001B[0m\n\u001B[0;32m   3744\u001B[0m     \u001B[38;5;28;01melse\u001B[39;00m:\n\u001B[0;32m   3745\u001B[0m         \u001B[38;5;28;01mreturn\u001B[39;00m var(axis\u001B[38;5;241m=\u001B[39maxis, dtype\u001B[38;5;241m=\u001B[39mdtype, out\u001B[38;5;241m=\u001B[39mout, ddof\u001B[38;5;241m=\u001B[39mddof, \u001B[38;5;241m*\u001B[39m\u001B[38;5;241m*\u001B[39mkwargs)\n\u001B[1;32m-> 3747\u001B[0m \u001B[38;5;28;01mreturn\u001B[39;00m _methods\u001B[38;5;241m.\u001B[39m_var(a, axis\u001B[38;5;241m=\u001B[39maxis, dtype\u001B[38;5;241m=\u001B[39mdtype, out\u001B[38;5;241m=\u001B[39mout, ddof\u001B[38;5;241m=\u001B[39mddof,\n\u001B[0;32m   3748\u001B[0m                      \u001B[38;5;241m*\u001B[39m\u001B[38;5;241m*\u001B[39mkwargs)\n",
      "File \u001B[1;32m~\\AppData\\Local\\Programs\\Python\\Python310\\lib\\site-packages\\numpy\\core\\_methods.py:236\u001B[0m, in \u001B[0;36m_var\u001B[1;34m(a, axis, dtype, out, ddof, keepdims, where)\u001B[0m\n\u001B[0;32m    231\u001B[0m     arrmean \u001B[38;5;241m=\u001B[39m arrmean \u001B[38;5;241m/\u001B[39m rcount\n\u001B[0;32m    233\u001B[0m \u001B[38;5;66;03m# Compute sum of squared deviations from mean\u001B[39;00m\n\u001B[0;32m    234\u001B[0m \u001B[38;5;66;03m# Note that x may not be inexact and that we need it to be an array,\u001B[39;00m\n\u001B[0;32m    235\u001B[0m \u001B[38;5;66;03m# not a scalar.\u001B[39;00m\n\u001B[1;32m--> 236\u001B[0m x \u001B[38;5;241m=\u001B[39m asanyarray(\u001B[43marr\u001B[49m\u001B[43m \u001B[49m\u001B[38;5;241;43m-\u001B[39;49m\u001B[43m \u001B[49m\u001B[43marrmean\u001B[49m)\n\u001B[0;32m    238\u001B[0m \u001B[38;5;28;01mif\u001B[39;00m \u001B[38;5;28missubclass\u001B[39m(arr\u001B[38;5;241m.\u001B[39mdtype\u001B[38;5;241m.\u001B[39mtype, (nt\u001B[38;5;241m.\u001B[39mfloating, nt\u001B[38;5;241m.\u001B[39minteger)):\n\u001B[0;32m    239\u001B[0m     x \u001B[38;5;241m=\u001B[39m um\u001B[38;5;241m.\u001B[39mmultiply(x, x, out\u001B[38;5;241m=\u001B[39mx)\n",
      "\u001B[1;31mMemoryError\u001B[0m: Unable to allocate 2.81 GiB for an array with shape (50855, 7429) and data type float64"
     ]
    }
   ],
   "execution_count": 70
  },
  {
   "cell_type": "code",
   "execution_count": 23,
   "outputs": [
    {
     "name": "stdout",
     "output_type": "stream",
     "text": [
      "(152565, 7429)\n",
      "(50855, 7429)\n",
      "RandomForestClassifier Accuracy: 0.7202438304984761\n",
      "RandomForestClassifier Report:\n",
      "               precision    recall  f1-score   support\n",
      "\n",
      "           0       0.82      0.85      0.83     41633\n",
      "           1       0.18      0.15      0.17      9222\n",
      "\n",
      "    accuracy                           0.72     50855\n",
      "   macro avg       0.50      0.50      0.50     50855\n",
      "weighted avg       0.70      0.72      0.71     50855\n",
      "\n"
     ]
    }
   ],
   "source": [
    "tscv = TimeSeriesSplit(n_splits=3, max_train_size=152565, test_size=50855)\n",
    "\n",
    "for train_index, test_index in tscv.split(X):\n",
    "    # Access the train and test data for X and y\n",
    "    X_train, X_test = X[train_index], X[test_index]\n",
    "    y_train, y_test = y[train_index], y[test_index]\n",
    "\n",
    "print(X_train.shape)\n",
    "print(X_test.shape)\n",
    "\n",
    "rf = RandomForestClassifier()\n",
    "\n",
    "rf.fit(X_train, y_train)\n",
    "rf_pred = rf.predict(X_test)\n",
    "rf_accuracy = accuracy_score(y_test, rf_pred)\n",
    "rf_report = classification_report(y_test, rf_pred)\n",
    "\n",
    "print(\"RandomForestClassifier Accuracy:\", rf_accuracy)\n",
    "print(\"RandomForestClassifier Report:\\n\", rf_report)\n",
    "\n",
    "# Save model\n",
    "MODEL_NAME = \"rf\"\n",
    "VERSION = \"3.0f\"\n",
    "with open(f'models/training_models/{COMMAND_ID}_{MODEL_NAME}_{VERSION}.pkl', 'wb') as f:\n",
    "    pickle.dump(rf, f)\n"
   ],
   "metadata": {
    "collapsed": false,
    "ExecuteTime": {
     "start_time": "2023-04-23T17:41:40.885267Z",
     "end_time": "2023-04-23T22:52:45.502364Z"
    }
   }
  },
  {
   "cell_type": "markdown",
   "source": [
    "### Model 5 SVC"
   ],
   "metadata": {
    "collapsed": false
   },
   "outputs": []
  },
  {
   "cell_type": "code",
   "execution_count": null,
   "outputs": [],
   "source": [
    "tscv = TimeSeriesSplit(n_splits=10)\n",
    "circle = 0\n",
    "\n",
    "for train_index, test_index in tscv.split(X):\n",
    "\n",
    "    # Access the train and test data for X and y\n",
    "    X_train, X_test = X[train_index], X[test_index]\n",
    "    y_train, y_test = y[train_index], y[test_index]\n",
    "\n",
    "    print(X_train.shape)\n",
    "    print(X_test.shape)\n",
    "\n",
    "    svm = SVC()\n",
    "\n",
    "    svm.fit(X_train, y_train)\n",
    "    svm_pred = svm.predict(X_test)\n",
    "    svm_accuracy = accuracy_score(y_test, svm_pred)\n",
    "    svm_report = classification_report(y_test, svm_pred)\n",
    "\n",
    "    print(\"SVC Accuracy:\", svm_accuracy)\n",
    "    print(\"SVC Report:\\n\", svm_report)\n",
    "\n",
    "    # Save model\n",
    "    MODEL_NAME = \"svm\"\n",
    "    VERSION = \"2.\"+str(circle)\n",
    "    with open(f'models/training_models/{COMMAND_ID}_{MODEL_NAME}_{VERSION}.pkl', 'wb') as f:\n",
    "        pickle.dump(svm, f)\n",
    "\n",
    "    circle=circle+1"
   ],
   "metadata": {
    "collapsed": false,
    "ExecuteTime": {
     "start_time": "2023-04-22T14:01:39.922599Z",
     "end_time": "2023-04-22T14:01:45.488602Z"
    }
   }
  },
  {
   "cell_type": "markdown",
   "source": [
    "### Model 6 KNeighborsClassifier"
   ],
   "metadata": {
    "collapsed": false
   },
   "outputs": []
  },
  {
   "cell_type": "code",
   "execution_count": null,
   "outputs": [],
   "source": [
    "#25000/5000 - train/test data\n",
    "tscv = TimeSeriesSplit(n_splits=2, max_train_size=5000, test_size=1000)\n",
    "circle = 0\n",
    "\n",
    "# for train_index, test_index in tscv.split(X):\n",
    "    # # Access the train and test data for X and y\n",
    "    # X_train, X_test = X[train_index], X[test_index]\n",
    "    # y_train, y_test = y[train_index], y[test_index]\n",
    "    #\n",
    "    # print(X_train.shape)\n",
    "    # print(X_test.shape)\n",
    "    #\n",
    "    # knn = KNeighborsClassifier()\n",
    "    #\n",
    "    # knn.fit(X_train, y_train)\n",
    "    # knn_pred = knn.predict(X_test)\n",
    "    # knn_accuracy = accuracy_score(y_test, knn_pred)\n",
    "    # knn_report = classification_report(y_test, knn_pred)\n",
    "    #\n",
    "    # print(\"KNeighborsClassifier Accuracy:\", knn_accuracy)\n",
    "    # print(\"KNeighborsClassifier Report:\\n\", knn_report)\n",
    "    #\n",
    "    # # Save model\n",
    "    # MODEL_NAME = \"knn\"\n",
    "    # VERSION = \"2.\"+str(circle)\n",
    "    # with open(f'models/training_models/{COMMAND_ID}_{MODEL_NAME}_{VERSION}.pkl', 'wb') as f:\n",
    "    #     pickle.dump(knn, f)\n",
    "    # circle=circle+1\n",
    "\n",
    "# Access the train and test data for X and y\n",
    "X_train, X_test = X[train_index], X[test_index]\n",
    "y_train, y_test = y[train_index], y[test_index]\n",
    "\n",
    "print(X_train.shape)\n",
    "print(X_test.shape)\n",
    "\n",
    "knn = KNeighborsClassifier()\n",
    "\n",
    "knn.fit(X_train, y_train)\n",
    "knn_pred = knn.predict(X_test)\n",
    "knn_accuracy = accuracy_score(y_test, knn_pred)\n",
    "knn_report = classification_report(y_test, knn_pred)\n",
    "\n",
    "print(\"KNeighborsClassifier Accuracy:\", knn_accuracy)\n",
    "print(\"KNeighborsClassifier Report:\\n\", knn_report)\n",
    "\n",
    "# Save model\n",
    "MODEL_NAME = \"knn\"\n",
    "VERSION = \"3.\"+str(circle)\n",
    "with open(f'models/training_models/{COMMAND_ID}_{MODEL_NAME}_{VERSION}.pkl', 'wb') as f:\n",
    "    pickle.dump(knn, f)"
   ],
   "metadata": {
    "collapsed": false,
    "ExecuteTime": {
     "start_time": "2023-04-23T17:07:22.625707Z",
     "end_time": "2023-04-23T17:13:50.805383Z"
    }
   }
  },
  {
   "cell_type": "code",
   "execution_count": null,
   "outputs": [],
   "source": [],
   "metadata": {
    "collapsed": false
   }
  }
 ],
 "metadata": {
  "kernelspec": {
   "display_name": "Python 3 (ipykernel)",
   "language": "python",
   "name": "python3"
  },
  "language_info": {
   "codemirror_mode": {
    "name": "ipython",
    "version": 3
   },
   "file_extension": ".py",
   "mimetype": "text/x-python",
   "name": "python",
   "nbconvert_exporter": "python",
   "pygments_lexer": "ipython3",
   "version": "3.9.7"
  }
 },
 "nbformat": 4,
 "nbformat_minor": 5
}
