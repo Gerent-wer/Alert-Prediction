{
 "cells": [
  {
   "cell_type": "markdown",
   "id": "25437673",
   "metadata": {},
   "source": [
    "## Import libraries"
   ]
  },
  {
   "cell_type": "code",
   "execution_count": 31,
   "id": "1b89555a",
   "metadata": {
    "ExecuteTime": {
     "end_time": "2023-05-01T23:59:59.087650Z",
     "start_time": "2023-05-01T23:59:58.874153Z"
    }
   },
   "outputs": [],
   "source": [
    "# import libraries\n",
    "\n",
    "import datetime\n",
    "import pickle\n",
    "import nltk\n",
    "import re\n",
    "import scipy\n",
    "import pytz\n",
    "import pandas as pd\n",
    "from scipy import sparse\n",
    "from bs4 import BeautifulSoup\n",
    "\n",
    "from sklearn.feature_extraction.text import CountVectorizer, TfidfVectorizer\n",
    "from sklearn.feature_extraction.text import TfidfTransformer\n",
    "from utils import get_weather\n",
    "from utils import text_processing"
   ]
  },
  {
   "cell_type": "markdown",
   "id": "fde5b50a",
   "metadata": {},
   "source": [
    "## Get and preprocess ISW files"
   ]
  },
  {
   "cell_type": "code",
   "execution_count": 32,
   "id": "7cb86e69",
   "metadata": {
    "ExecuteTime": {
     "end_time": "2023-05-01T23:59:59.236394Z",
     "start_time": "2023-05-01T23:59:58.887669Z"
    }
   },
   "outputs": [],
   "source": [
    "# get article from yesterday\n",
    "\n",
    "today = datetime.date.today()\n",
    "yesterday = today - datetime.timedelta(days=1)\n",
    "\n",
    "yesterday_day = yesterday.day\n",
    "yesterday_month = yesterday.month\n",
    "yesterday_year = yesterday.year"
   ]
  },
  {
   "cell_type": "code",
   "execution_count": 33,
   "id": "80028a2b",
   "metadata": {
    "ExecuteTime": {
     "end_time": "2023-05-01T23:59:59.601991Z",
     "start_time": "2023-05-01T23:59:58.903387Z"
    }
   },
   "outputs": [],
   "source": [
    "file = text_processing.get_article_from_yesterday(yesterday_day,yesterday_month,yesterday_year)"
   ]
  },
  {
   "cell_type": "code",
   "execution_count": 34,
   "id": "03f1ec1e",
   "metadata": {
    "ExecuteTime": {
     "end_time": "2023-05-01T23:59:59.752002Z",
     "start_time": "2023-05-01T23:59:59.606990Z"
    }
   },
   "outputs": [],
   "source": [
    "data = text_processing.read_html(file)"
   ]
  },
  {
   "cell_type": "code",
   "execution_count": 35,
   "id": "42911601",
   "metadata": {
    "ExecuteTime": {
     "end_time": "2023-05-01T23:59:59.767582Z",
     "start_time": "2023-05-01T23:59:59.745475Z"
    }
   },
   "outputs": [],
   "source": [
    "def preprocess_all_text(data):\n",
    "    pattern = \"\\[(\\d+)\\]\"\n",
    "    data['main_html_v1'] = data['main_html'].apply(lambda x: re.sub(pattern,\"\",str(x)))\n",
    "    data['main_html_v2'] = data['main_html_v1'].apply(lambda x: re.sub(r'http(\\S+.*\\s)',\"\",x))\n",
    "    data['main_html_v3'] = data['main_html_v2'].apply(lambda x: re.sub(r'2022|2023|©2022|©2023|\\xa0|\\n',\"\",x))\n",
    "    data['main_html_v4'] = data['main_html_v3'].apply(lambda x: BeautifulSoup(x).text)\n",
    "    data['main_html_v5'] = data['main_html_v4'].apply(lambda x: text_processing.remove_names_and_dates(x))\n",
    "    \n",
    "    return data"
   ]
  },
  {
   "cell_type": "code",
   "execution_count": 36,
   "id": "f59f0ab2",
   "metadata": {
    "ExecuteTime": {
     "end_time": "2023-05-01T23:59:59.831494Z",
     "start_time": "2023-05-01T23:59:59.763575Z"
    }
   },
   "outputs": [],
   "source": [
    "data_preprocessed = preprocess_all_text(data)"
   ]
  },
  {
   "cell_type": "code",
   "execution_count": 37,
   "id": "2af6b1be",
   "metadata": {
    "ExecuteTime": {
     "end_time": "2023-05-01T23:59:59.848371Z",
     "start_time": "2023-05-01T23:59:59.828044Z"
    }
   },
   "outputs": [],
   "source": [
    "data_preprocessed = data_preprocessed.drop(['main_html_v1','main_html_v2','main_html_v3','main_html_v4'],axis=1)"
   ]
  },
  {
   "cell_type": "code",
   "execution_count": 38,
   "id": "5129a561",
   "metadata": {
    "ExecuteTime": {
     "end_time": "2023-05-01T23:59:59.870152Z",
     "start_time": "2023-05-01T23:59:59.838461Z"
    }
   },
   "outputs": [
    {
     "name": "stderr",
     "output_type": "stream",
     "text": [
      "[nltk_data] Downloading package stopwords to\n",
      "[nltk_data]     C:\\Users\\dimai\\AppData\\Roaming\\nltk_data...\n",
      "[nltk_data]   Package stopwords is already up-to-date!\n"
     ]
    },
    {
     "data": {
      "text/plain": [
       "True"
      ]
     },
     "execution_count": 38,
     "metadata": {},
     "output_type": "execute_result"
    }
   ],
   "source": [
    "# Uncommit for first time download\n",
    "\n",
    "# nltk.download('stopwords')\n",
    "# nltk.download('punkt')\n",
    "# nltk.download('wordnet')"
   ]
  },
  {
   "cell_type": "code",
   "execution_count": 39,
   "id": "3abf9546",
   "metadata": {
    "ExecuteTime": {
     "end_time": "2023-05-02T00:00:00.364678Z",
     "start_time": "2023-05-01T23:59:59.857901Z"
    }
   },
   "outputs": [],
   "source": [
    "# lemmatization and stemming algorithms to get the unique words\n",
    "\n",
    "data_preprocessed['report_text_lemm'] = data_preprocessed['main_html_v5'].apply(lambda x: text_processing.preprocess(x,\"lemm\"))\n",
    "data_preprocessed['report_text_stemm'] = data_preprocessed['main_html_v5'].apply(lambda x: text_processing.preprocess(x,\"stemm\"))"
   ]
  },
  {
   "cell_type": "code",
   "execution_count": 40,
   "id": "92cd8311",
   "metadata": {
    "ExecuteTime": {
     "end_time": "2023-05-02T00:00:00.436090Z",
     "start_time": "2023-05-02T00:00:00.348791Z"
    }
   },
   "outputs": [
    {
     "data": {
      "text/html": [
       "<div>\n",
       "<style scoped>\n",
       "    .dataframe tbody tr th:only-of-type {\n",
       "        vertical-align: middle;\n",
       "    }\n",
       "\n",
       "    .dataframe tbody tr th {\n",
       "        vertical-align: top;\n",
       "    }\n",
       "\n",
       "    .dataframe thead th {\n",
       "        text-align: right;\n",
       "    }\n",
       "</style>\n",
       "<table border=\"1\" class=\"dataframe\">\n",
       "  <thead>\n",
       "    <tr style=\"text-align: right;\">\n",
       "      <th></th>\n",
       "      <th>date</th>\n",
       "      <th>short_url</th>\n",
       "      <th>title</th>\n",
       "      <th>text_title</th>\n",
       "      <th>full_url</th>\n",
       "      <th>main_html</th>\n",
       "      <th>main_html_v5</th>\n",
       "      <th>report_text_lemm</th>\n",
       "      <th>report_text_stemm</th>\n",
       "    </tr>\n",
       "  </thead>\n",
       "  <tbody>\n",
       "    <tr>\n",
       "      <th>0</th>\n",
       "      <td>2023-04-30</td>\n",
       "      <td>russian_offensive_campaign_assessment_April_30...</td>\n",
       "      <td>Russian Offensive Campaign Assessment, April 3...</td>\n",
       "      <td>Russian Offensive Campaign Assessment, April 3...</td>\n",
       "      <td>/backgrounder/russian-offensive-campaign-asses...</td>\n",
       "      <td>[[[ , &lt;p align=\"center\"&gt;&lt;strong&gt;&lt;br/&gt;&lt;/strong&gt;...</td>\n",
       "      <td>Russian Offensive Campaign Assessment, April ...</td>\n",
       "      <td>russian offens campaign ass april thirty rile...</td>\n",
       "      <td>russian offen campaign assess april thirti ri...</td>\n",
       "    </tr>\n",
       "  </tbody>\n",
       "</table>\n",
       "</div>"
      ],
      "text/plain": [
       "        date                                          short_url   \n",
       "0 2023-04-30  russian_offensive_campaign_assessment_April_30...  \\\n",
       "\n",
       "                                               title   \n",
       "0  Russian Offensive Campaign Assessment, April 3...  \\\n",
       "\n",
       "                                          text_title   \n",
       "0  Russian Offensive Campaign Assessment, April 3...  \\\n",
       "\n",
       "                                            full_url   \n",
       "0  /backgrounder/russian-offensive-campaign-asses...  \\\n",
       "\n",
       "                                           main_html   \n",
       "0  [[[ , <p align=\"center\"><strong><br/></strong>...  \\\n",
       "\n",
       "                                        main_html_v5   \n",
       "0   Russian Offensive Campaign Assessment, April ...  \\\n",
       "\n",
       "                                    report_text_lemm   \n",
       "0   russian offens campaign ass april thirty rile...  \\\n",
       "\n",
       "                                   report_text_stemm  \n",
       "0   russian offen campaign assess april thirti ri...  "
      ]
     },
     "execution_count": 40,
     "metadata": {},
     "output_type": "execute_result"
    }
   ],
   "source": [
    "data_preprocessed.head()"
   ]
  },
  {
   "cell_type": "code",
   "execution_count": 41,
   "id": "d21b756c",
   "metadata": {
    "ExecuteTime": {
     "end_time": "2023-05-02T00:00:00.437085Z",
     "start_time": "2023-05-02T00:00:00.421534Z"
    }
   },
   "outputs": [],
   "source": [
    "docs = data_preprocessed['report_text_lemm'].tolist()"
   ]
  },
  {
   "cell_type": "markdown",
   "id": "9f1280d2",
   "metadata": {},
   "source": [
    "## ISW vectorize"
   ]
  },
  {
   "cell_type": "code",
   "execution_count": 42,
   "id": "34b23732",
   "metadata": {
    "ExecuteTime": {
     "end_time": "2023-05-02T00:00:00.490237Z",
     "start_time": "2023-05-02T00:00:00.437085Z"
    }
   },
   "outputs": [],
   "source": [
    "# apply vectorizing and tf-idf algorithm\n",
    "\n",
    "cv = CountVectorizer()\n",
    "word_count_vector = cv.fit_transform(docs)\n",
    "\n",
    "word_count_vector.shape\n",
    "\n",
    "tfidf_transformer = TfidfTransformer(smooth_idf = True, use_idf = True)\n",
    "tfidf_transformer.fit(word_count_vector)\n",
    "\n",
    "tf_idf_vector = tfidf_transformer.transform(word_count_vector)"
   ]
  },
  {
   "cell_type": "code",
   "execution_count": 43,
   "id": "6067ab90",
   "metadata": {
    "ExecuteTime": {
     "end_time": "2023-05-02T00:00:00.609989Z",
     "start_time": "2023-05-02T00:00:00.467548Z"
    }
   },
   "outputs": [
    {
     "data": {
      "text/plain": [
       "<1x664 sparse matrix of type '<class 'numpy.float64'>'\n",
       "\twith 664 stored elements in Compressed Sparse Row format>"
      ]
     },
     "execution_count": 43,
     "metadata": {},
     "output_type": "execute_result"
    }
   ],
   "source": [
    "tf_idf_vector"
   ]
  },
  {
   "cell_type": "code",
   "execution_count": 44,
   "id": "37b6c871",
   "metadata": {
    "ExecuteTime": {
     "end_time": "2023-05-02T00:00:00.610990Z",
     "start_time": "2023-05-02T00:00:00.484247Z"
    }
   },
   "outputs": [],
   "source": [
    "# extract the most valuable words in article\n",
    "\n",
    "feature_names = cv.get_feature_names_out()\n",
    "tf_idf_vector\n",
    "data_preprocessed['keywords'] = data_preprocessed['report_text_stemm'].apply(lambda x: text_processing.convert_doc_to_vector(x,feature_names,tf_idf_vector))"
   ]
  },
  {
   "cell_type": "code",
   "execution_count": 45,
   "id": "95ea033d",
   "metadata": {
    "ExecuteTime": {
     "end_time": "2023-05-02T00:00:00.770509Z",
     "start_time": "2023-05-02T00:00:00.503818Z"
    }
   },
   "outputs": [
    {
     "data": {
      "text/plain": [
       "{'command': 0.497,\n",
       " 'russian': 0.432,\n",
       " 'putin': 0.272,\n",
       " 'gerasimov': 0.243,\n",
       " 'forc': 0.201,\n",
       " 'militari': 0.184,\n",
       " 'like': 0.166,\n",
       " 'wagner': 0.136,\n",
       " 'teplinski': 0.124,\n",
       " 'gener': 0.118}"
      ]
     },
     "execution_count": 45,
     "metadata": {},
     "output_type": "execute_result"
    }
   ],
   "source": [
    "data_preprocessed['keywords'][0]"
   ]
  },
  {
   "cell_type": "code",
   "execution_count": 46,
   "id": "bf547746",
   "metadata": {
    "ExecuteTime": {
     "end_time": "2023-05-02T00:00:00.793304Z",
     "start_time": "2023-05-02T00:00:00.531476Z"
    }
   },
   "outputs": [
    {
     "data": {
      "text/html": [
       "<div>\n",
       "<style scoped>\n",
       "    .dataframe tbody tr th:only-of-type {\n",
       "        vertical-align: middle;\n",
       "    }\n",
       "\n",
       "    .dataframe tbody tr th {\n",
       "        vertical-align: top;\n",
       "    }\n",
       "\n",
       "    .dataframe thead th {\n",
       "        text-align: right;\n",
       "    }\n",
       "</style>\n",
       "<table border=\"1\" class=\"dataframe\">\n",
       "  <thead>\n",
       "    <tr style=\"text-align: right;\">\n",
       "      <th></th>\n",
       "      <th>date</th>\n",
       "      <th>short_url</th>\n",
       "      <th>title</th>\n",
       "      <th>text_title</th>\n",
       "      <th>full_url</th>\n",
       "      <th>main_html</th>\n",
       "      <th>main_html_v5</th>\n",
       "      <th>report_text_lemm</th>\n",
       "      <th>report_text_stemm</th>\n",
       "      <th>keywords</th>\n",
       "    </tr>\n",
       "  </thead>\n",
       "  <tbody>\n",
       "    <tr>\n",
       "      <th>0</th>\n",
       "      <td>2023-04-30</td>\n",
       "      <td>russian_offensive_campaign_assessment_April_30...</td>\n",
       "      <td>Russian Offensive Campaign Assessment, April 3...</td>\n",
       "      <td>Russian Offensive Campaign Assessment, April 3...</td>\n",
       "      <td>/backgrounder/russian-offensive-campaign-asses...</td>\n",
       "      <td>[[[ , &lt;p align=\"center\"&gt;&lt;strong&gt;&lt;br/&gt;&lt;/strong&gt;...</td>\n",
       "      <td>Russian Offensive Campaign Assessment, April ...</td>\n",
       "      <td>russian offens campaign ass april thirty rile...</td>\n",
       "      <td>russian offen campaign assess april thirti ri...</td>\n",
       "      <td>{'command': 0.497, 'russian': 0.432, 'putin': ...</td>\n",
       "    </tr>\n",
       "  </tbody>\n",
       "</table>\n",
       "</div>"
      ],
      "text/plain": [
       "        date                                          short_url   \n",
       "0 2023-04-30  russian_offensive_campaign_assessment_April_30...  \\\n",
       "\n",
       "                                               title   \n",
       "0  Russian Offensive Campaign Assessment, April 3...  \\\n",
       "\n",
       "                                          text_title   \n",
       "0  Russian Offensive Campaign Assessment, April 3...  \\\n",
       "\n",
       "                                            full_url   \n",
       "0  /backgrounder/russian-offensive-campaign-asses...  \\\n",
       "\n",
       "                                           main_html   \n",
       "0  [[[ , <p align=\"center\"><strong><br/></strong>...  \\\n",
       "\n",
       "                                        main_html_v5   \n",
       "0   Russian Offensive Campaign Assessment, April ...  \\\n",
       "\n",
       "                                    report_text_lemm   \n",
       "0   russian offens campaign ass april thirty rile...  \\\n",
       "\n",
       "                                   report_text_stemm   \n",
       "0   russian offen campaign assess april thirti ri...  \\\n",
       "\n",
       "                                            keywords  \n",
       "0  {'command': 0.497, 'russian': 0.432, 'putin': ...  "
      ]
     },
     "execution_count": 46,
     "metadata": {},
     "output_type": "execute_result"
    }
   ],
   "source": [
    "data_preprocessed.head()"
   ]
  },
  {
   "cell_type": "markdown",
   "id": "e2d4c886",
   "metadata": {},
   "source": [
    "## Part of script: Final preprocessing and merging"
   ]
  },
  {
   "cell_type": "code",
   "execution_count": 47,
   "id": "f151948d",
   "metadata": {
    "ExecuteTime": {
     "end_time": "2023-05-02T00:00:00.796313Z",
     "start_time": "2023-05-02T00:00:00.605457Z"
    }
   },
   "outputs": [],
   "source": [
    "data_preprocessed[\"date_datetime\"] = pd.to_datetime(data_preprocessed[\"date\"])\n",
    "data_preprocessed['date_tomorrow_datetime'] = data_preprocessed['date_datetime'].apply(lambda x: x+datetime.timedelta(days=1))\n",
    "data_preprocessed = data_preprocessed.rename(columns = {\"date_datetime\":\"report_date\"})"
   ]
  },
  {
   "cell_type": "code",
   "execution_count": 48,
   "id": "a1a31caa",
   "metadata": {
    "ExecuteTime": {
     "end_time": "2023-05-02T00:00:00.819034Z",
     "start_time": "2023-05-02T00:00:00.664784Z"
    }
   },
   "outputs": [
    {
     "data": {
      "text/html": [
       "<div>\n",
       "<style scoped>\n",
       "    .dataframe tbody tr th:only-of-type {\n",
       "        vertical-align: middle;\n",
       "    }\n",
       "\n",
       "    .dataframe tbody tr th {\n",
       "        vertical-align: top;\n",
       "    }\n",
       "\n",
       "    .dataframe thead th {\n",
       "        text-align: right;\n",
       "    }\n",
       "</style>\n",
       "<table border=\"1\" class=\"dataframe\">\n",
       "  <thead>\n",
       "    <tr style=\"text-align: right;\">\n",
       "      <th></th>\n",
       "      <th>date</th>\n",
       "      <th>short_url</th>\n",
       "      <th>title</th>\n",
       "      <th>text_title</th>\n",
       "      <th>full_url</th>\n",
       "      <th>main_html</th>\n",
       "      <th>main_html_v5</th>\n",
       "      <th>report_text_lemm</th>\n",
       "      <th>report_text_stemm</th>\n",
       "      <th>keywords</th>\n",
       "      <th>report_date</th>\n",
       "      <th>date_tomorrow_datetime</th>\n",
       "    </tr>\n",
       "  </thead>\n",
       "  <tbody>\n",
       "    <tr>\n",
       "      <th>0</th>\n",
       "      <td>2023-04-30</td>\n",
       "      <td>russian_offensive_campaign_assessment_April_30...</td>\n",
       "      <td>Russian Offensive Campaign Assessment, April 3...</td>\n",
       "      <td>Russian Offensive Campaign Assessment, April 3...</td>\n",
       "      <td>/backgrounder/russian-offensive-campaign-asses...</td>\n",
       "      <td>[[[ , &lt;p align=\"center\"&gt;&lt;strong&gt;&lt;br/&gt;&lt;/strong&gt;...</td>\n",
       "      <td>Russian Offensive Campaign Assessment, April ...</td>\n",
       "      <td>russian offens campaign ass april thirty rile...</td>\n",
       "      <td>russian offen campaign assess april thirti ri...</td>\n",
       "      <td>{'command': 0.497, 'russian': 0.432, 'putin': ...</td>\n",
       "      <td>2023-04-30</td>\n",
       "      <td>2023-05-01</td>\n",
       "    </tr>\n",
       "  </tbody>\n",
       "</table>\n",
       "</div>"
      ],
      "text/plain": [
       "        date                                          short_url   \n",
       "0 2023-04-30  russian_offensive_campaign_assessment_April_30...  \\\n",
       "\n",
       "                                               title   \n",
       "0  Russian Offensive Campaign Assessment, April 3...  \\\n",
       "\n",
       "                                          text_title   \n",
       "0  Russian Offensive Campaign Assessment, April 3...  \\\n",
       "\n",
       "                                            full_url   \n",
       "0  /backgrounder/russian-offensive-campaign-asses...  \\\n",
       "\n",
       "                                           main_html   \n",
       "0  [[[ , <p align=\"center\"><strong><br/></strong>...  \\\n",
       "\n",
       "                                        main_html_v5   \n",
       "0   Russian Offensive Campaign Assessment, April ...  \\\n",
       "\n",
       "                                    report_text_lemm   \n",
       "0   russian offens campaign ass april thirty rile...  \\\n",
       "\n",
       "                                   report_text_stemm   \n",
       "0   russian offen campaign assess april thirti ri...  \\\n",
       "\n",
       "                                            keywords report_date   \n",
       "0  {'command': 0.497, 'russian': 0.432, 'putin': ...  2023-04-30  \\\n",
       "\n",
       "  date_tomorrow_datetime  \n",
       "0             2023-05-01  "
      ]
     },
     "execution_count": 48,
     "metadata": {},
     "output_type": "execute_result"
    }
   ],
   "source": [
    "data_preprocessed.head()"
   ]
  },
  {
   "cell_type": "code",
   "execution_count": 49,
   "id": "72ff12f6",
   "metadata": {
    "ExecuteTime": {
     "end_time": "2023-05-02T00:00:00.819034Z",
     "start_time": "2023-05-02T00:00:00.733652Z"
    }
   },
   "outputs": [],
   "source": [
    "data_vectorised = tf_idf_vector.toarray()\n",
    "vectors_df = pd.DataFrame(data_vectorised)\n",
    "vectors_df['date'] = pd.to_datetime(today)\n"
   ]
  },
  {
   "cell_type": "code",
   "execution_count": 50,
   "id": "2e66d70b",
   "metadata": {
    "ExecuteTime": {
     "end_time": "2023-05-02T00:00:00.879224Z",
     "start_time": "2023-05-02T00:00:00.773518Z"
    }
   },
   "outputs": [
    {
     "data": {
      "text/html": [
       "<div>\n",
       "<style scoped>\n",
       "    .dataframe tbody tr th:only-of-type {\n",
       "        vertical-align: middle;\n",
       "    }\n",
       "\n",
       "    .dataframe tbody tr th {\n",
       "        vertical-align: top;\n",
       "    }\n",
       "\n",
       "    .dataframe thead th {\n",
       "        text-align: right;\n",
       "    }\n",
       "</style>\n",
       "<table border=\"1\" class=\"dataframe\">\n",
       "  <thead>\n",
       "    <tr style=\"text-align: right;\">\n",
       "      <th></th>\n",
       "      <th>0</th>\n",
       "      <th>1</th>\n",
       "      <th>2</th>\n",
       "      <th>3</th>\n",
       "      <th>4</th>\n",
       "      <th>5</th>\n",
       "      <th>6</th>\n",
       "      <th>7</th>\n",
       "      <th>8</th>\n",
       "      <th>9</th>\n",
       "      <th>...</th>\n",
       "      <th>655</th>\n",
       "      <th>656</th>\n",
       "      <th>657</th>\n",
       "      <th>658</th>\n",
       "      <th>659</th>\n",
       "      <th>660</th>\n",
       "      <th>661</th>\n",
       "      <th>662</th>\n",
       "      <th>663</th>\n",
       "      <th>date</th>\n",
       "    </tr>\n",
       "  </thead>\n",
       "  <tbody>\n",
       "    <tr>\n",
       "      <th>0</th>\n",
       "      <td>0.023685</td>\n",
       "      <td>0.023685</td>\n",
       "      <td>0.011842</td>\n",
       "      <td>0.005921</td>\n",
       "      <td>0.017764</td>\n",
       "      <td>0.005921</td>\n",
       "      <td>0.005921</td>\n",
       "      <td>0.005921</td>\n",
       "      <td>0.005921</td>\n",
       "      <td>0.005921</td>\n",
       "      <td>...</td>\n",
       "      <td>0.005921</td>\n",
       "      <td>0.005921</td>\n",
       "      <td>0.005921</td>\n",
       "      <td>0.011842</td>\n",
       "      <td>0.011842</td>\n",
       "      <td>0.011842</td>\n",
       "      <td>0.005921</td>\n",
       "      <td>0.011842</td>\n",
       "      <td>0.005921</td>\n",
       "      <td>2023-05-01</td>\n",
       "    </tr>\n",
       "  </tbody>\n",
       "</table>\n",
       "<p>1 rows × 665 columns</p>\n",
       "</div>"
      ],
      "text/plain": [
       "          0         1         2         3         4         5         6   \n",
       "0  0.023685  0.023685  0.011842  0.005921  0.017764  0.005921  0.005921  \\\n",
       "\n",
       "          7         8         9  ...       655       656       657       658   \n",
       "0  0.005921  0.005921  0.005921  ...  0.005921  0.005921  0.005921  0.011842  \\\n",
       "\n",
       "        659       660       661       662       663       date  \n",
       "0  0.011842  0.011842  0.005921  0.011842  0.005921 2023-05-01  \n",
       "\n",
       "[1 rows x 665 columns]"
      ]
     },
     "execution_count": 50,
     "metadata": {},
     "output_type": "execute_result"
    }
   ],
   "source": [
    "vectors_df.head()"
   ]
  },
  {
   "cell_type": "code",
   "execution_count": 51,
   "id": "223b25d3",
   "metadata": {
    "ExecuteTime": {
     "end_time": "2023-05-02T00:00:00.879738Z",
     "start_time": "2023-05-02T00:00:00.807488Z"
    }
   },
   "outputs": [],
   "source": [
    "df_isw_short = data_preprocessed[['date','report_text_lemm','keywords','date_tomorrow_datetime']]"
   ]
  },
  {
   "cell_type": "code",
   "execution_count": 52,
   "id": "bdbd90ee",
   "metadata": {
    "ExecuteTime": {
     "end_time": "2023-05-02T00:00:01.003383Z",
     "start_time": "2023-05-02T00:00:00.824232Z"
    },
    "scrolled": true
   },
   "outputs": [
    {
     "data": {
      "text/html": [
       "<div>\n",
       "<style scoped>\n",
       "    .dataframe tbody tr th:only-of-type {\n",
       "        vertical-align: middle;\n",
       "    }\n",
       "\n",
       "    .dataframe tbody tr th {\n",
       "        vertical-align: top;\n",
       "    }\n",
       "\n",
       "    .dataframe thead th {\n",
       "        text-align: right;\n",
       "    }\n",
       "</style>\n",
       "<table border=\"1\" class=\"dataframe\">\n",
       "  <thead>\n",
       "    <tr style=\"text-align: right;\">\n",
       "      <th></th>\n",
       "      <th>date</th>\n",
       "      <th>report_text_lemm</th>\n",
       "      <th>keywords</th>\n",
       "      <th>date_tomorrow_datetime</th>\n",
       "    </tr>\n",
       "  </thead>\n",
       "  <tbody>\n",
       "    <tr>\n",
       "      <th>0</th>\n",
       "      <td>2023-04-30</td>\n",
       "      <td>russian offens campaign ass april thirty rile...</td>\n",
       "      <td>{'command': 0.497, 'russian': 0.432, 'putin': ...</td>\n",
       "      <td>2023-05-01</td>\n",
       "    </tr>\n",
       "  </tbody>\n",
       "</table>\n",
       "</div>"
      ],
      "text/plain": [
       "        date                                   report_text_lemm   \n",
       "0 2023-04-30   russian offens campaign ass april thirty rile...  \\\n",
       "\n",
       "                                            keywords date_tomorrow_datetime  \n",
       "0  {'command': 0.497, 'russian': 0.432, 'putin': ...             2023-05-01  "
      ]
     },
     "execution_count": 52,
     "metadata": {},
     "output_type": "execute_result"
    }
   ],
   "source": [
    "df_isw_short.head()"
   ]
  },
  {
   "cell_type": "markdown",
   "id": "b92fdd2c",
   "metadata": {},
   "source": [
    "## Get weather and make predictions for all regions"
   ]
  },
  {
   "cell_type": "code",
   "execution_count": 60,
   "id": "5db9d5fe",
   "metadata": {
    "ExecuteTime": {
     "end_time": "2023-05-02T17:08:37.792044Z",
     "start_time": "2023-05-02T17:08:37.688337Z"
    }
   },
   "outputs": [
    {
     "name": "stderr",
     "output_type": "stream",
     "text": [
      "C:\\Users\\dimai\\AppData\\Local\\Temp\\ipykernel_10916\\1188643158.py:1: DeprecationWarning: Please use `csr_matrix` from the `scipy.sparse` namespace, the `scipy.sparse.csr` namespace is deprecated.\n",
      "  tfidf = pickle.load(open(\"models/tfidf_transformer_v1.pkl\",\"rb\"))\n",
      "C:\\Users\\dimai\\AppData\\Local\\Programs\\Python\\Python310\\lib\\site-packages\\sklearn\\base.py:318: UserWarning: Trying to unpickle estimator TfidfTransformer from version 0.24.2 when using version 1.2.2. This might lead to breaking code or invalid results. Use at your own risk. For more info please refer to:\n",
      "https://scikit-learn.org/stable/model_persistence.html#security-maintainability-limitations\n",
      "  warnings.warn(\n",
      "C:\\Users\\dimai\\AppData\\Local\\Programs\\Python\\Python310\\lib\\site-packages\\sklearn\\base.py:318: UserWarning: Trying to unpickle estimator CountVectorizer from version 0.24.2 when using version 1.2.2. This might lead to breaking code or invalid results. Use at your own risk. For more info please refer to:\n",
      "https://scikit-learn.org/stable/model_persistence.html#security-maintainability-limitations\n",
      "  warnings.warn(\n"
     ]
    }
   ],
   "source": [
    "# load necessary models\n",
    "\n",
    "tfidf = pickle.load(open(\"models/tfidf_transformer_v1.pkl\",\"rb\"))\n",
    "cv = pickle.load(open(\"models/count_vectorizer_v1.pkl\",\"rb\"))\n",
    "# model = pickle.load(open(\"models/training_models/4_rf_3.1f.pkl\",\"rb\"))\n",
    "\n",
    "# model for server which weight less\n",
    "model = pickle.load(open(\"models/training_models/4_logreg_1.5f.pkl\",\"rb\"))"
   ]
  },
  {
   "cell_type": "code",
   "execution_count": 62,
   "id": "434a4f1e",
   "metadata": {
    "ExecuteTime": {
     "end_time": "2023-05-02T17:25:15.900875Z",
     "start_time": "2023-05-02T17:25:14.854579Z"
    }
   },
   "outputs": [
    {
     "name": "stderr",
     "output_type": "stream",
     "text": [
      "C:\\Users\\dimai\\Documents\\Study\\Python\\Alert-Prediction\\utils\\get_weather.py:79: UserWarning: Could not infer format, so each element will be parsed individually, falling back to `dateutil`. To ensure parsing is consistent and as-expected, please specify a format.\n",
      "  df_weather_hours['hour_int']=pd.to_datetime(df_weather_hours['hour_datetime']).dt.hour\n",
      "C:\\Users\\dimai\\Documents\\Study\\Python\\Alert-Prediction\\utils\\get_weather.py:79: UserWarning: Could not infer format, so each element will be parsed individually, falling back to `dateutil`. To ensure parsing is consistent and as-expected, please specify a format.\n",
      "  df_weather_hours['hour_int']=pd.to_datetime(df_weather_hours['hour_datetime']).dt.hour\n",
      "C:\\Users\\dimai\\AppData\\Local\\Temp\\ipykernel_10916\\825547940.py:14: SettingWithCopyWarning: \n",
      "A value is trying to be set on a copy of a slice from a DataFrame.\n",
      "Try using .loc[row_indexer,col_indexer] = value instead\n",
      "\n",
      "See the caveats in the documentation: https://pandas.pydata.org/pandas-docs/stable/user_guide/indexing.html#returning-a-view-versus-a-copy\n",
      "  df_isw_short['key']=1\n",
      "C:\\Users\\dimai\\Documents\\Study\\Python\\Alert-Prediction\\utils\\get_weather.py:79: UserWarning: Could not infer format, so each element will be parsed individually, falling back to `dateutil`. To ensure parsing is consistent and as-expected, please specify a format.\n",
      "  df_weather_hours['hour_int']=pd.to_datetime(df_weather_hours['hour_datetime']).dt.hour\n",
      "C:\\Users\\dimai\\Documents\\Study\\Python\\Alert-Prediction\\utils\\get_weather.py:79: UserWarning: Could not infer format, so each element will be parsed individually, falling back to `dateutil`. To ensure parsing is consistent and as-expected, please specify a format.\n",
      "  df_weather_hours['hour_int']=pd.to_datetime(df_weather_hours['hour_datetime']).dt.hour\n",
      "C:\\Users\\dimai\\AppData\\Local\\Temp\\ipykernel_10916\\825547940.py:14: SettingWithCopyWarning: \n",
      "A value is trying to be set on a copy of a slice from a DataFrame.\n",
      "Try using .loc[row_indexer,col_indexer] = value instead\n",
      "\n",
      "See the caveats in the documentation: https://pandas.pydata.org/pandas-docs/stable/user_guide/indexing.html#returning-a-view-versus-a-copy\n",
      "  df_isw_short['key']=1\n",
      "C:\\Users\\dimai\\Documents\\Study\\Python\\Alert-Prediction\\utils\\get_weather.py:79: UserWarning: Could not infer format, so each element will be parsed individually, falling back to `dateutil`. To ensure parsing is consistent and as-expected, please specify a format.\n",
      "  df_weather_hours['hour_int']=pd.to_datetime(df_weather_hours['hour_datetime']).dt.hour\n",
      "C:\\Users\\dimai\\Documents\\Study\\Python\\Alert-Prediction\\utils\\get_weather.py:79: UserWarning: Could not infer format, so each element will be parsed individually, falling back to `dateutil`. To ensure parsing is consistent and as-expected, please specify a format.\n",
      "  df_weather_hours['hour_int']=pd.to_datetime(df_weather_hours['hour_datetime']).dt.hour\n",
      "C:\\Users\\dimai\\AppData\\Local\\Temp\\ipykernel_10916\\825547940.py:14: SettingWithCopyWarning: \n",
      "A value is trying to be set on a copy of a slice from a DataFrame.\n",
      "Try using .loc[row_indexer,col_indexer] = value instead\n",
      "\n",
      "See the caveats in the documentation: https://pandas.pydata.org/pandas-docs/stable/user_guide/indexing.html#returning-a-view-versus-a-copy\n",
      "  df_isw_short['key']=1\n",
      "C:\\Users\\dimai\\Documents\\Study\\Python\\Alert-Prediction\\utils\\get_weather.py:79: UserWarning: Could not infer format, so each element will be parsed individually, falling back to `dateutil`. To ensure parsing is consistent and as-expected, please specify a format.\n",
      "  df_weather_hours['hour_int']=pd.to_datetime(df_weather_hours['hour_datetime']).dt.hour\n",
      "C:\\Users\\dimai\\Documents\\Study\\Python\\Alert-Prediction\\utils\\get_weather.py:79: UserWarning: Could not infer format, so each element will be parsed individually, falling back to `dateutil`. To ensure parsing is consistent and as-expected, please specify a format.\n",
      "  df_weather_hours['hour_int']=pd.to_datetime(df_weather_hours['hour_datetime']).dt.hour\n",
      "C:\\Users\\dimai\\AppData\\Local\\Temp\\ipykernel_10916\\825547940.py:14: SettingWithCopyWarning: \n",
      "A value is trying to be set on a copy of a slice from a DataFrame.\n",
      "Try using .loc[row_indexer,col_indexer] = value instead\n",
      "\n",
      "See the caveats in the documentation: https://pandas.pydata.org/pandas-docs/stable/user_guide/indexing.html#returning-a-view-versus-a-copy\n",
      "  df_isw_short['key']=1\n",
      "C:\\Users\\dimai\\Documents\\Study\\Python\\Alert-Prediction\\utils\\get_weather.py:79: UserWarning: Could not infer format, so each element will be parsed individually, falling back to `dateutil`. To ensure parsing is consistent and as-expected, please specify a format.\n",
      "  df_weather_hours['hour_int']=pd.to_datetime(df_weather_hours['hour_datetime']).dt.hour\n",
      "C:\\Users\\dimai\\Documents\\Study\\Python\\Alert-Prediction\\utils\\get_weather.py:79: UserWarning: Could not infer format, so each element will be parsed individually, falling back to `dateutil`. To ensure parsing is consistent and as-expected, please specify a format.\n",
      "  df_weather_hours['hour_int']=pd.to_datetime(df_weather_hours['hour_datetime']).dt.hour\n",
      "C:\\Users\\dimai\\AppData\\Local\\Temp\\ipykernel_10916\\825547940.py:14: SettingWithCopyWarning: \n",
      "A value is trying to be set on a copy of a slice from a DataFrame.\n",
      "Try using .loc[row_indexer,col_indexer] = value instead\n",
      "\n",
      "See the caveats in the documentation: https://pandas.pydata.org/pandas-docs/stable/user_guide/indexing.html#returning-a-view-versus-a-copy\n",
      "  df_isw_short['key']=1\n",
      "C:\\Users\\dimai\\Documents\\Study\\Python\\Alert-Prediction\\utils\\get_weather.py:79: UserWarning: Could not infer format, so each element will be parsed individually, falling back to `dateutil`. To ensure parsing is consistent and as-expected, please specify a format.\n",
      "  df_weather_hours['hour_int']=pd.to_datetime(df_weather_hours['hour_datetime']).dt.hour\n",
      "C:\\Users\\dimai\\Documents\\Study\\Python\\Alert-Prediction\\utils\\get_weather.py:79: UserWarning: Could not infer format, so each element will be parsed individually, falling back to `dateutil`. To ensure parsing is consistent and as-expected, please specify a format.\n",
      "  df_weather_hours['hour_int']=pd.to_datetime(df_weather_hours['hour_datetime']).dt.hour\n",
      "C:\\Users\\dimai\\AppData\\Local\\Temp\\ipykernel_10916\\825547940.py:14: SettingWithCopyWarning: \n",
      "A value is trying to be set on a copy of a slice from a DataFrame.\n",
      "Try using .loc[row_indexer,col_indexer] = value instead\n",
      "\n",
      "See the caveats in the documentation: https://pandas.pydata.org/pandas-docs/stable/user_guide/indexing.html#returning-a-view-versus-a-copy\n",
      "  df_isw_short['key']=1\n",
      "C:\\Users\\dimai\\Documents\\Study\\Python\\Alert-Prediction\\utils\\get_weather.py:79: UserWarning: Could not infer format, so each element will be parsed individually, falling back to `dateutil`. To ensure parsing is consistent and as-expected, please specify a format.\n",
      "  df_weather_hours['hour_int']=pd.to_datetime(df_weather_hours['hour_datetime']).dt.hour\n",
      "C:\\Users\\dimai\\Documents\\Study\\Python\\Alert-Prediction\\utils\\get_weather.py:79: UserWarning: Could not infer format, so each element will be parsed individually, falling back to `dateutil`. To ensure parsing is consistent and as-expected, please specify a format.\n",
      "  df_weather_hours['hour_int']=pd.to_datetime(df_weather_hours['hour_datetime']).dt.hour\n",
      "C:\\Users\\dimai\\AppData\\Local\\Temp\\ipykernel_10916\\825547940.py:14: SettingWithCopyWarning: \n",
      "A value is trying to be set on a copy of a slice from a DataFrame.\n",
      "Try using .loc[row_indexer,col_indexer] = value instead\n",
      "\n",
      "See the caveats in the documentation: https://pandas.pydata.org/pandas-docs/stable/user_guide/indexing.html#returning-a-view-versus-a-copy\n",
      "  df_isw_short['key']=1\n",
      "C:\\Users\\dimai\\Documents\\Study\\Python\\Alert-Prediction\\utils\\get_weather.py:79: UserWarning: Could not infer format, so each element will be parsed individually, falling back to `dateutil`. To ensure parsing is consistent and as-expected, please specify a format.\n",
      "  df_weather_hours['hour_int']=pd.to_datetime(df_weather_hours['hour_datetime']).dt.hour\n",
      "C:\\Users\\dimai\\Documents\\Study\\Python\\Alert-Prediction\\utils\\get_weather.py:79: UserWarning: Could not infer format, so each element will be parsed individually, falling back to `dateutil`. To ensure parsing is consistent and as-expected, please specify a format.\n",
      "  df_weather_hours['hour_int']=pd.to_datetime(df_weather_hours['hour_datetime']).dt.hour\n",
      "C:\\Users\\dimai\\AppData\\Local\\Temp\\ipykernel_10916\\825547940.py:14: SettingWithCopyWarning: \n",
      "A value is trying to be set on a copy of a slice from a DataFrame.\n",
      "Try using .loc[row_indexer,col_indexer] = value instead\n",
      "\n",
      "See the caveats in the documentation: https://pandas.pydata.org/pandas-docs/stable/user_guide/indexing.html#returning-a-view-versus-a-copy\n",
      "  df_isw_short['key']=1\n",
      "C:\\Users\\dimai\\Documents\\Study\\Python\\Alert-Prediction\\utils\\get_weather.py:79: UserWarning: Could not infer format, so each element will be parsed individually, falling back to `dateutil`. To ensure parsing is consistent and as-expected, please specify a format.\n",
      "  df_weather_hours['hour_int']=pd.to_datetime(df_weather_hours['hour_datetime']).dt.hour\n",
      "C:\\Users\\dimai\\Documents\\Study\\Python\\Alert-Prediction\\utils\\get_weather.py:79: UserWarning: Could not infer format, so each element will be parsed individually, falling back to `dateutil`. To ensure parsing is consistent and as-expected, please specify a format.\n",
      "  df_weather_hours['hour_int']=pd.to_datetime(df_weather_hours['hour_datetime']).dt.hour\n",
      "C:\\Users\\dimai\\AppData\\Local\\Temp\\ipykernel_10916\\825547940.py:14: SettingWithCopyWarning: \n",
      "A value is trying to be set on a copy of a slice from a DataFrame.\n",
      "Try using .loc[row_indexer,col_indexer] = value instead\n",
      "\n",
      "See the caveats in the documentation: https://pandas.pydata.org/pandas-docs/stable/user_guide/indexing.html#returning-a-view-versus-a-copy\n",
      "  df_isw_short['key']=1\n",
      "C:\\Users\\dimai\\Documents\\Study\\Python\\Alert-Prediction\\utils\\get_weather.py:79: UserWarning: Could not infer format, so each element will be parsed individually, falling back to `dateutil`. To ensure parsing is consistent and as-expected, please specify a format.\n",
      "  df_weather_hours['hour_int']=pd.to_datetime(df_weather_hours['hour_datetime']).dt.hour\n",
      "C:\\Users\\dimai\\Documents\\Study\\Python\\Alert-Prediction\\utils\\get_weather.py:79: UserWarning: Could not infer format, so each element will be parsed individually, falling back to `dateutil`. To ensure parsing is consistent and as-expected, please specify a format.\n",
      "  df_weather_hours['hour_int']=pd.to_datetime(df_weather_hours['hour_datetime']).dt.hour\n",
      "C:\\Users\\dimai\\AppData\\Local\\Temp\\ipykernel_10916\\825547940.py:14: SettingWithCopyWarning: \n",
      "A value is trying to be set on a copy of a slice from a DataFrame.\n",
      "Try using .loc[row_indexer,col_indexer] = value instead\n",
      "\n",
      "See the caveats in the documentation: https://pandas.pydata.org/pandas-docs/stable/user_guide/indexing.html#returning-a-view-versus-a-copy\n",
      "  df_isw_short['key']=1\n",
      "C:\\Users\\dimai\\Documents\\Study\\Python\\Alert-Prediction\\utils\\get_weather.py:79: UserWarning: Could not infer format, so each element will be parsed individually, falling back to `dateutil`. To ensure parsing is consistent and as-expected, please specify a format.\n",
      "  df_weather_hours['hour_int']=pd.to_datetime(df_weather_hours['hour_datetime']).dt.hour\n",
      "C:\\Users\\dimai\\Documents\\Study\\Python\\Alert-Prediction\\utils\\get_weather.py:79: UserWarning: Could not infer format, so each element will be parsed individually, falling back to `dateutil`. To ensure parsing is consistent and as-expected, please specify a format.\n",
      "  df_weather_hours['hour_int']=pd.to_datetime(df_weather_hours['hour_datetime']).dt.hour\n",
      "C:\\Users\\dimai\\AppData\\Local\\Temp\\ipykernel_10916\\825547940.py:14: SettingWithCopyWarning: \n",
      "A value is trying to be set on a copy of a slice from a DataFrame.\n",
      "Try using .loc[row_indexer,col_indexer] = value instead\n",
      "\n",
      "See the caveats in the documentation: https://pandas.pydata.org/pandas-docs/stable/user_guide/indexing.html#returning-a-view-versus-a-copy\n",
      "  df_isw_short['key']=1\n",
      "C:\\Users\\dimai\\Documents\\Study\\Python\\Alert-Prediction\\utils\\get_weather.py:79: UserWarning: Could not infer format, so each element will be parsed individually, falling back to `dateutil`. To ensure parsing is consistent and as-expected, please specify a format.\n",
      "  df_weather_hours['hour_int']=pd.to_datetime(df_weather_hours['hour_datetime']).dt.hour\n",
      "C:\\Users\\dimai\\Documents\\Study\\Python\\Alert-Prediction\\utils\\get_weather.py:79: UserWarning: Could not infer format, so each element will be parsed individually, falling back to `dateutil`. To ensure parsing is consistent and as-expected, please specify a format.\n",
      "  df_weather_hours['hour_int']=pd.to_datetime(df_weather_hours['hour_datetime']).dt.hour\n",
      "C:\\Users\\dimai\\AppData\\Local\\Temp\\ipykernel_10916\\825547940.py:14: SettingWithCopyWarning: \n",
      "A value is trying to be set on a copy of a slice from a DataFrame.\n",
      "Try using .loc[row_indexer,col_indexer] = value instead\n",
      "\n",
      "See the caveats in the documentation: https://pandas.pydata.org/pandas-docs/stable/user_guide/indexing.html#returning-a-view-versus-a-copy\n",
      "  df_isw_short['key']=1\n",
      "C:\\Users\\dimai\\Documents\\Study\\Python\\Alert-Prediction\\utils\\get_weather.py:79: UserWarning: Could not infer format, so each element will be parsed individually, falling back to `dateutil`. To ensure parsing is consistent and as-expected, please specify a format.\n",
      "  df_weather_hours['hour_int']=pd.to_datetime(df_weather_hours['hour_datetime']).dt.hour\n",
      "C:\\Users\\dimai\\Documents\\Study\\Python\\Alert-Prediction\\utils\\get_weather.py:79: UserWarning: Could not infer format, so each element will be parsed individually, falling back to `dateutil`. To ensure parsing is consistent and as-expected, please specify a format.\n",
      "  df_weather_hours['hour_int']=pd.to_datetime(df_weather_hours['hour_datetime']).dt.hour\n",
      "C:\\Users\\dimai\\AppData\\Local\\Temp\\ipykernel_10916\\825547940.py:14: SettingWithCopyWarning: \n",
      "A value is trying to be set on a copy of a slice from a DataFrame.\n",
      "Try using .loc[row_indexer,col_indexer] = value instead\n",
      "\n",
      "See the caveats in the documentation: https://pandas.pydata.org/pandas-docs/stable/user_guide/indexing.html#returning-a-view-versus-a-copy\n",
      "  df_isw_short['key']=1\n",
      "C:\\Users\\dimai\\Documents\\Study\\Python\\Alert-Prediction\\utils\\get_weather.py:79: UserWarning: Could not infer format, so each element will be parsed individually, falling back to `dateutil`. To ensure parsing is consistent and as-expected, please specify a format.\n",
      "  df_weather_hours['hour_int']=pd.to_datetime(df_weather_hours['hour_datetime']).dt.hour\n",
      "C:\\Users\\dimai\\Documents\\Study\\Python\\Alert-Prediction\\utils\\get_weather.py:79: UserWarning: Could not infer format, so each element will be parsed individually, falling back to `dateutil`. To ensure parsing is consistent and as-expected, please specify a format.\n",
      "  df_weather_hours['hour_int']=pd.to_datetime(df_weather_hours['hour_datetime']).dt.hour\n",
      "C:\\Users\\dimai\\AppData\\Local\\Temp\\ipykernel_10916\\825547940.py:14: SettingWithCopyWarning: \n",
      "A value is trying to be set on a copy of a slice from a DataFrame.\n",
      "Try using .loc[row_indexer,col_indexer] = value instead\n",
      "\n",
      "See the caveats in the documentation: https://pandas.pydata.org/pandas-docs/stable/user_guide/indexing.html#returning-a-view-versus-a-copy\n",
      "  df_isw_short['key']=1\n",
      "C:\\Users\\dimai\\Documents\\Study\\Python\\Alert-Prediction\\utils\\get_weather.py:79: UserWarning: Could not infer format, so each element will be parsed individually, falling back to `dateutil`. To ensure parsing is consistent and as-expected, please specify a format.\n",
      "  df_weather_hours['hour_int']=pd.to_datetime(df_weather_hours['hour_datetime']).dt.hour\n",
      "C:\\Users\\dimai\\Documents\\Study\\Python\\Alert-Prediction\\utils\\get_weather.py:79: UserWarning: Could not infer format, so each element will be parsed individually, falling back to `dateutil`. To ensure parsing is consistent and as-expected, please specify a format.\n",
      "  df_weather_hours['hour_int']=pd.to_datetime(df_weather_hours['hour_datetime']).dt.hour\n",
      "C:\\Users\\dimai\\AppData\\Local\\Temp\\ipykernel_10916\\825547940.py:14: SettingWithCopyWarning: \n",
      "A value is trying to be set on a copy of a slice from a DataFrame.\n",
      "Try using .loc[row_indexer,col_indexer] = value instead\n",
      "\n",
      "See the caveats in the documentation: https://pandas.pydata.org/pandas-docs/stable/user_guide/indexing.html#returning-a-view-versus-a-copy\n",
      "  df_isw_short['key']=1\n",
      "C:\\Users\\dimai\\Documents\\Study\\Python\\Alert-Prediction\\utils\\get_weather.py:79: UserWarning: Could not infer format, so each element will be parsed individually, falling back to `dateutil`. To ensure parsing is consistent and as-expected, please specify a format.\n",
      "  df_weather_hours['hour_int']=pd.to_datetime(df_weather_hours['hour_datetime']).dt.hour\n",
      "C:\\Users\\dimai\\Documents\\Study\\Python\\Alert-Prediction\\utils\\get_weather.py:79: UserWarning: Could not infer format, so each element will be parsed individually, falling back to `dateutil`. To ensure parsing is consistent and as-expected, please specify a format.\n",
      "  df_weather_hours['hour_int']=pd.to_datetime(df_weather_hours['hour_datetime']).dt.hour\n",
      "C:\\Users\\dimai\\AppData\\Local\\Temp\\ipykernel_10916\\825547940.py:14: SettingWithCopyWarning: \n",
      "A value is trying to be set on a copy of a slice from a DataFrame.\n",
      "Try using .loc[row_indexer,col_indexer] = value instead\n",
      "\n",
      "See the caveats in the documentation: https://pandas.pydata.org/pandas-docs/stable/user_guide/indexing.html#returning-a-view-versus-a-copy\n",
      "  df_isw_short['key']=1\n",
      "C:\\Users\\dimai\\Documents\\Study\\Python\\Alert-Prediction\\utils\\get_weather.py:79: UserWarning: Could not infer format, so each element will be parsed individually, falling back to `dateutil`. To ensure parsing is consistent and as-expected, please specify a format.\n",
      "  df_weather_hours['hour_int']=pd.to_datetime(df_weather_hours['hour_datetime']).dt.hour\n",
      "C:\\Users\\dimai\\Documents\\Study\\Python\\Alert-Prediction\\utils\\get_weather.py:79: UserWarning: Could not infer format, so each element will be parsed individually, falling back to `dateutil`. To ensure parsing is consistent and as-expected, please specify a format.\n",
      "  df_weather_hours['hour_int']=pd.to_datetime(df_weather_hours['hour_datetime']).dt.hour\n",
      "C:\\Users\\dimai\\AppData\\Local\\Temp\\ipykernel_10916\\825547940.py:14: SettingWithCopyWarning: \n",
      "A value is trying to be set on a copy of a slice from a DataFrame.\n",
      "Try using .loc[row_indexer,col_indexer] = value instead\n",
      "\n",
      "See the caveats in the documentation: https://pandas.pydata.org/pandas-docs/stable/user_guide/indexing.html#returning-a-view-versus-a-copy\n",
      "  df_isw_short['key']=1\n",
      "C:\\Users\\dimai\\Documents\\Study\\Python\\Alert-Prediction\\utils\\get_weather.py:79: UserWarning: Could not infer format, so each element will be parsed individually, falling back to `dateutil`. To ensure parsing is consistent and as-expected, please specify a format.\n",
      "  df_weather_hours['hour_int']=pd.to_datetime(df_weather_hours['hour_datetime']).dt.hour\n",
      "C:\\Users\\dimai\\Documents\\Study\\Python\\Alert-Prediction\\utils\\get_weather.py:79: UserWarning: Could not infer format, so each element will be parsed individually, falling back to `dateutil`. To ensure parsing is consistent and as-expected, please specify a format.\n",
      "  df_weather_hours['hour_int']=pd.to_datetime(df_weather_hours['hour_datetime']).dt.hour\n",
      "C:\\Users\\dimai\\AppData\\Local\\Temp\\ipykernel_10916\\825547940.py:14: SettingWithCopyWarning: \n",
      "A value is trying to be set on a copy of a slice from a DataFrame.\n",
      "Try using .loc[row_indexer,col_indexer] = value instead\n",
      "\n",
      "See the caveats in the documentation: https://pandas.pydata.org/pandas-docs/stable/user_guide/indexing.html#returning-a-view-versus-a-copy\n",
      "  df_isw_short['key']=1\n",
      "C:\\Users\\dimai\\Documents\\Study\\Python\\Alert-Prediction\\utils\\get_weather.py:79: UserWarning: Could not infer format, so each element will be parsed individually, falling back to `dateutil`. To ensure parsing is consistent and as-expected, please specify a format.\n",
      "  df_weather_hours['hour_int']=pd.to_datetime(df_weather_hours['hour_datetime']).dt.hour\n",
      "C:\\Users\\dimai\\Documents\\Study\\Python\\Alert-Prediction\\utils\\get_weather.py:79: UserWarning: Could not infer format, so each element will be parsed individually, falling back to `dateutil`. To ensure parsing is consistent and as-expected, please specify a format.\n",
      "  df_weather_hours['hour_int']=pd.to_datetime(df_weather_hours['hour_datetime']).dt.hour\n",
      "C:\\Users\\dimai\\AppData\\Local\\Temp\\ipykernel_10916\\825547940.py:14: SettingWithCopyWarning: \n",
      "A value is trying to be set on a copy of a slice from a DataFrame.\n",
      "Try using .loc[row_indexer,col_indexer] = value instead\n",
      "\n",
      "See the caveats in the documentation: https://pandas.pydata.org/pandas-docs/stable/user_guide/indexing.html#returning-a-view-versus-a-copy\n",
      "  df_isw_short['key']=1\n",
      "C:\\Users\\dimai\\Documents\\Study\\Python\\Alert-Prediction\\utils\\get_weather.py:79: UserWarning: Could not infer format, so each element will be parsed individually, falling back to `dateutil`. To ensure parsing is consistent and as-expected, please specify a format.\n",
      "  df_weather_hours['hour_int']=pd.to_datetime(df_weather_hours['hour_datetime']).dt.hour\n",
      "C:\\Users\\dimai\\Documents\\Study\\Python\\Alert-Prediction\\utils\\get_weather.py:79: UserWarning: Could not infer format, so each element will be parsed individually, falling back to `dateutil`. To ensure parsing is consistent and as-expected, please specify a format.\n",
      "  df_weather_hours['hour_int']=pd.to_datetime(df_weather_hours['hour_datetime']).dt.hour\n",
      "C:\\Users\\dimai\\AppData\\Local\\Temp\\ipykernel_10916\\825547940.py:14: SettingWithCopyWarning: \n",
      "A value is trying to be set on a copy of a slice from a DataFrame.\n",
      "Try using .loc[row_indexer,col_indexer] = value instead\n",
      "\n",
      "See the caveats in the documentation: https://pandas.pydata.org/pandas-docs/stable/user_guide/indexing.html#returning-a-view-versus-a-copy\n",
      "  df_isw_short['key']=1\n",
      "C:\\Users\\dimai\\Documents\\Study\\Python\\Alert-Prediction\\utils\\get_weather.py:79: UserWarning: Could not infer format, so each element will be parsed individually, falling back to `dateutil`. To ensure parsing is consistent and as-expected, please specify a format.\n",
      "  df_weather_hours['hour_int']=pd.to_datetime(df_weather_hours['hour_datetime']).dt.hour\n",
      "C:\\Users\\dimai\\Documents\\Study\\Python\\Alert-Prediction\\utils\\get_weather.py:79: UserWarning: Could not infer format, so each element will be parsed individually, falling back to `dateutil`. To ensure parsing is consistent and as-expected, please specify a format.\n",
      "  df_weather_hours['hour_int']=pd.to_datetime(df_weather_hours['hour_datetime']).dt.hour\n",
      "C:\\Users\\dimai\\AppData\\Local\\Temp\\ipykernel_10916\\825547940.py:14: SettingWithCopyWarning: \n",
      "A value is trying to be set on a copy of a slice from a DataFrame.\n",
      "Try using .loc[row_indexer,col_indexer] = value instead\n",
      "\n",
      "See the caveats in the documentation: https://pandas.pydata.org/pandas-docs/stable/user_guide/indexing.html#returning-a-view-versus-a-copy\n",
      "  df_isw_short['key']=1\n",
      "C:\\Users\\dimai\\Documents\\Study\\Python\\Alert-Prediction\\utils\\get_weather.py:79: UserWarning: Could not infer format, so each element will be parsed individually, falling back to `dateutil`. To ensure parsing is consistent and as-expected, please specify a format.\n",
      "  df_weather_hours['hour_int']=pd.to_datetime(df_weather_hours['hour_datetime']).dt.hour\n",
      "C:\\Users\\dimai\\Documents\\Study\\Python\\Alert-Prediction\\utils\\get_weather.py:79: UserWarning: Could not infer format, so each element will be parsed individually, falling back to `dateutil`. To ensure parsing is consistent and as-expected, please specify a format.\n",
      "  df_weather_hours['hour_int']=pd.to_datetime(df_weather_hours['hour_datetime']).dt.hour\n",
      "C:\\Users\\dimai\\AppData\\Local\\Temp\\ipykernel_10916\\825547940.py:14: SettingWithCopyWarning: \n",
      "A value is trying to be set on a copy of a slice from a DataFrame.\n",
      "Try using .loc[row_indexer,col_indexer] = value instead\n",
      "\n",
      "See the caveats in the documentation: https://pandas.pydata.org/pandas-docs/stable/user_guide/indexing.html#returning-a-view-versus-a-copy\n",
      "  df_isw_short['key']=1\n",
      "C:\\Users\\dimai\\Documents\\Study\\Python\\Alert-Prediction\\utils\\get_weather.py:79: UserWarning: Could not infer format, so each element will be parsed individually, falling back to `dateutil`. To ensure parsing is consistent and as-expected, please specify a format.\n",
      "  df_weather_hours['hour_int']=pd.to_datetime(df_weather_hours['hour_datetime']).dt.hour\n",
      "C:\\Users\\dimai\\Documents\\Study\\Python\\Alert-Prediction\\utils\\get_weather.py:79: UserWarning: Could not infer format, so each element will be parsed individually, falling back to `dateutil`. To ensure parsing is consistent and as-expected, please specify a format.\n",
      "  df_weather_hours['hour_int']=pd.to_datetime(df_weather_hours['hour_datetime']).dt.hour\n",
      "C:\\Users\\dimai\\AppData\\Local\\Temp\\ipykernel_10916\\825547940.py:14: SettingWithCopyWarning: \n",
      "A value is trying to be set on a copy of a slice from a DataFrame.\n",
      "Try using .loc[row_indexer,col_indexer] = value instead\n",
      "\n",
      "See the caveats in the documentation: https://pandas.pydata.org/pandas-docs/stable/user_guide/indexing.html#returning-a-view-versus-a-copy\n",
      "  df_isw_short['key']=1\n",
      "C:\\Users\\dimai\\Documents\\Study\\Python\\Alert-Prediction\\utils\\get_weather.py:79: UserWarning: Could not infer format, so each element will be parsed individually, falling back to `dateutil`. To ensure parsing is consistent and as-expected, please specify a format.\n",
      "  df_weather_hours['hour_int']=pd.to_datetime(df_weather_hours['hour_datetime']).dt.hour\n",
      "C:\\Users\\dimai\\Documents\\Study\\Python\\Alert-Prediction\\utils\\get_weather.py:79: UserWarning: Could not infer format, so each element will be parsed individually, falling back to `dateutil`. To ensure parsing is consistent and as-expected, please specify a format.\n",
      "  df_weather_hours['hour_int']=pd.to_datetime(df_weather_hours['hour_datetime']).dt.hour\n",
      "C:\\Users\\dimai\\AppData\\Local\\Temp\\ipykernel_10916\\825547940.py:14: SettingWithCopyWarning: \n",
      "A value is trying to be set on a copy of a slice from a DataFrame.\n",
      "Try using .loc[row_indexer,col_indexer] = value instead\n",
      "\n",
      "See the caveats in the documentation: https://pandas.pydata.org/pandas-docs/stable/user_guide/indexing.html#returning-a-view-versus-a-copy\n",
      "  df_isw_short['key']=1\n",
      "C:\\Users\\dimai\\Documents\\Study\\Python\\Alert-Prediction\\utils\\get_weather.py:79: UserWarning: Could not infer format, so each element will be parsed individually, falling back to `dateutil`. To ensure parsing is consistent and as-expected, please specify a format.\n",
      "  df_weather_hours['hour_int']=pd.to_datetime(df_weather_hours['hour_datetime']).dt.hour\n",
      "C:\\Users\\dimai\\Documents\\Study\\Python\\Alert-Prediction\\utils\\get_weather.py:79: UserWarning: Could not infer format, so each element will be parsed individually, falling back to `dateutil`. To ensure parsing is consistent and as-expected, please specify a format.\n",
      "  df_weather_hours['hour_int']=pd.to_datetime(df_weather_hours['hour_datetime']).dt.hour\n",
      "C:\\Users\\dimai\\AppData\\Local\\Temp\\ipykernel_10916\\825547940.py:14: SettingWithCopyWarning: \n",
      "A value is trying to be set on a copy of a slice from a DataFrame.\n",
      "Try using .loc[row_indexer,col_indexer] = value instead\n",
      "\n",
      "See the caveats in the documentation: https://pandas.pydata.org/pandas-docs/stable/user_guide/indexing.html#returning-a-view-versus-a-copy\n",
      "  df_isw_short['key']=1\n"
     ]
    },
    {
     "data": {
      "text/plain": [
       "{'Vinnytsia': {'2023-05-02 17:00': 0,\n",
       "  '2023-05-02 18:00': 0,\n",
       "  '2023-05-02 19:00': 0,\n",
       "  '2023-05-02 20:00': 0,\n",
       "  '2023-05-02 21:00': 0,\n",
       "  '2023-05-02 22:00': 0,\n",
       "  '2023-05-02 23:00': 0,\n",
       "  '2023-05-03 00:00': 0,\n",
       "  '2023-05-03 01:00': 0,\n",
       "  '2023-05-03 02:00': 0,\n",
       "  '2023-05-03 03:00': 0,\n",
       "  '2023-05-03 04:00': 0},\n",
       " 'Simferopol': {'2023-05-02 17:00': 0,\n",
       "  '2023-05-02 18:00': 0,\n",
       "  '2023-05-02 19:00': 0,\n",
       "  '2023-05-02 20:00': 0,\n",
       "  '2023-05-02 21:00': 0,\n",
       "  '2023-05-02 22:00': 0,\n",
       "  '2023-05-02 23:00': 0,\n",
       "  '2023-05-03 00:00': 0,\n",
       "  '2023-05-03 01:00': 0,\n",
       "  '2023-05-03 02:00': 0,\n",
       "  '2023-05-03 03:00': 0,\n",
       "  '2023-05-03 04:00': 0},\n",
       " 'Lutsk': {'2023-05-02 17:00': 0,\n",
       "  '2023-05-02 18:00': 0,\n",
       "  '2023-05-02 19:00': 0,\n",
       "  '2023-05-02 20:00': 0,\n",
       "  '2023-05-02 21:00': 0,\n",
       "  '2023-05-02 22:00': 0,\n",
       "  '2023-05-02 23:00': 0,\n",
       "  '2023-05-03 00:00': 0,\n",
       "  '2023-05-03 01:00': 0,\n",
       "  '2023-05-03 02:00': 0,\n",
       "  '2023-05-03 03:00': 0,\n",
       "  '2023-05-03 04:00': 0},\n",
       " 'Dnipro': {'2023-05-02 17:00': 0,\n",
       "  '2023-05-02 18:00': 0,\n",
       "  '2023-05-02 19:00': 0,\n",
       "  '2023-05-02 20:00': 0,\n",
       "  '2023-05-02 21:00': 0,\n",
       "  '2023-05-02 22:00': 0,\n",
       "  '2023-05-02 23:00': 0,\n",
       "  '2023-05-03 00:00': 0,\n",
       "  '2023-05-03 01:00': 0,\n",
       "  '2023-05-03 02:00': 0,\n",
       "  '2023-05-03 03:00': 0,\n",
       "  '2023-05-03 04:00': 0},\n",
       " 'Donetsk': {'2023-05-02 17:00': 0,\n",
       "  '2023-05-02 18:00': 0,\n",
       "  '2023-05-02 19:00': 0,\n",
       "  '2023-05-02 20:00': 0,\n",
       "  '2023-05-02 21:00': 0,\n",
       "  '2023-05-02 22:00': 0,\n",
       "  '2023-05-02 23:00': 0,\n",
       "  '2023-05-03 00:00': 0,\n",
       "  '2023-05-03 01:00': 0,\n",
       "  '2023-05-03 02:00': 0,\n",
       "  '2023-05-03 03:00': 0,\n",
       "  '2023-05-03 04:00': 0},\n",
       " 'Zhytomyr': {'2023-05-02 17:00': 0,\n",
       "  '2023-05-02 18:00': 0,\n",
       "  '2023-05-02 19:00': 0,\n",
       "  '2023-05-02 20:00': 0,\n",
       "  '2023-05-02 21:00': 0,\n",
       "  '2023-05-02 22:00': 0,\n",
       "  '2023-05-02 23:00': 0,\n",
       "  '2023-05-03 00:00': 0,\n",
       "  '2023-05-03 01:00': 0,\n",
       "  '2023-05-03 02:00': 0,\n",
       "  '2023-05-03 03:00': 0,\n",
       "  '2023-05-03 04:00': 0},\n",
       " 'Uzhgorod': {'2023-05-02 17:00': 0,\n",
       "  '2023-05-02 18:00': 0,\n",
       "  '2023-05-02 19:00': 0,\n",
       "  '2023-05-02 20:00': 0,\n",
       "  '2023-05-02 21:00': 0,\n",
       "  '2023-05-02 22:00': 0,\n",
       "  '2023-05-02 23:00': 0,\n",
       "  '2023-05-03 00:00': 0,\n",
       "  '2023-05-03 01:00': 0,\n",
       "  '2023-05-03 02:00': 0,\n",
       "  '2023-05-03 03:00': 0,\n",
       "  '2023-05-03 04:00': 0},\n",
       " 'Zaporozhye': {'2023-05-02 17:00': 0,\n",
       "  '2023-05-02 18:00': 0,\n",
       "  '2023-05-02 19:00': 0,\n",
       "  '2023-05-02 20:00': 0,\n",
       "  '2023-05-02 21:00': 0,\n",
       "  '2023-05-02 22:00': 0,\n",
       "  '2023-05-02 23:00': 0,\n",
       "  '2023-05-03 00:00': 0,\n",
       "  '2023-05-03 01:00': 0,\n",
       "  '2023-05-03 02:00': 0,\n",
       "  '2023-05-03 03:00': 0,\n",
       "  '2023-05-03 04:00': 0},\n",
       " 'Ivano-Frankivsk': {'2023-05-02 17:00': 0,\n",
       "  '2023-05-02 18:00': 0,\n",
       "  '2023-05-02 19:00': 0,\n",
       "  '2023-05-02 20:00': 0,\n",
       "  '2023-05-02 21:00': 0,\n",
       "  '2023-05-02 22:00': 0,\n",
       "  '2023-05-02 23:00': 0,\n",
       "  '2023-05-03 00:00': 0,\n",
       "  '2023-05-03 01:00': 0,\n",
       "  '2023-05-03 02:00': 0,\n",
       "  '2023-05-03 03:00': 0,\n",
       "  '2023-05-03 04:00': 0},\n",
       " 'Kyiv': {'2023-05-02 17:00': 0,\n",
       "  '2023-05-02 18:00': 0,\n",
       "  '2023-05-02 19:00': 0,\n",
       "  '2023-05-02 20:00': 0,\n",
       "  '2023-05-02 21:00': 0,\n",
       "  '2023-05-02 22:00': 0,\n",
       "  '2023-05-02 23:00': 0,\n",
       "  '2023-05-03 00:00': 0,\n",
       "  '2023-05-03 01:00': 0,\n",
       "  '2023-05-03 02:00': 0,\n",
       "  '2023-05-03 03:00': 0,\n",
       "  '2023-05-03 04:00': 0},\n",
       " 'Kropyvnytskyi': {'2023-05-02 17:00': 0,\n",
       "  '2023-05-02 18:00': 0,\n",
       "  '2023-05-02 19:00': 0,\n",
       "  '2023-05-02 20:00': 0,\n",
       "  '2023-05-02 21:00': 0,\n",
       "  '2023-05-02 22:00': 0,\n",
       "  '2023-05-02 23:00': 0,\n",
       "  '2023-05-03 00:00': 0,\n",
       "  '2023-05-03 01:00': 0,\n",
       "  '2023-05-03 02:00': 0,\n",
       "  '2023-05-03 03:00': 0,\n",
       "  '2023-05-03 04:00': 0},\n",
       " 'Luhansk': {'2023-05-02 17:00': 0,\n",
       "  '2023-05-02 18:00': 0,\n",
       "  '2023-05-02 19:00': 0,\n",
       "  '2023-05-02 20:00': 0,\n",
       "  '2023-05-02 21:00': 0,\n",
       "  '2023-05-02 22:00': 0,\n",
       "  '2023-05-02 23:00': 0,\n",
       "  '2023-05-03 00:00': 0,\n",
       "  '2023-05-03 01:00': 0,\n",
       "  '2023-05-03 02:00': 0,\n",
       "  '2023-05-03 03:00': 0,\n",
       "  '2023-05-03 04:00': 0},\n",
       " 'Lviv': {'2023-05-02 17:00': 0,\n",
       "  '2023-05-02 18:00': 0,\n",
       "  '2023-05-02 19:00': 0,\n",
       "  '2023-05-02 20:00': 0,\n",
       "  '2023-05-02 21:00': 0,\n",
       "  '2023-05-02 22:00': 0,\n",
       "  '2023-05-02 23:00': 0,\n",
       "  '2023-05-03 00:00': 0,\n",
       "  '2023-05-03 01:00': 0,\n",
       "  '2023-05-03 02:00': 0,\n",
       "  '2023-05-03 03:00': 0,\n",
       "  '2023-05-03 04:00': 0},\n",
       " 'Mykolaiv': {'2023-05-02 17:00': 0,\n",
       "  '2023-05-02 18:00': 0,\n",
       "  '2023-05-02 19:00': 0,\n",
       "  '2023-05-02 20:00': 0,\n",
       "  '2023-05-02 21:00': 0,\n",
       "  '2023-05-02 22:00': 0,\n",
       "  '2023-05-02 23:00': 0,\n",
       "  '2023-05-03 00:00': 0,\n",
       "  '2023-05-03 01:00': 0,\n",
       "  '2023-05-03 02:00': 0,\n",
       "  '2023-05-03 03:00': 0,\n",
       "  '2023-05-03 04:00': 0},\n",
       " 'Odesa': {'2023-05-02 17:00': 0,\n",
       "  '2023-05-02 18:00': 0,\n",
       "  '2023-05-02 19:00': 0,\n",
       "  '2023-05-02 20:00': 0,\n",
       "  '2023-05-02 21:00': 0,\n",
       "  '2023-05-02 22:00': 0,\n",
       "  '2023-05-02 23:00': 0,\n",
       "  '2023-05-03 00:00': 0,\n",
       "  '2023-05-03 01:00': 0,\n",
       "  '2023-05-03 02:00': 0,\n",
       "  '2023-05-03 03:00': 0,\n",
       "  '2023-05-03 04:00': 0},\n",
       " 'Poltava': {'2023-05-02 17:00': 0,\n",
       "  '2023-05-02 18:00': 0,\n",
       "  '2023-05-02 19:00': 0,\n",
       "  '2023-05-02 20:00': 0,\n",
       "  '2023-05-02 21:00': 0,\n",
       "  '2023-05-02 22:00': 0,\n",
       "  '2023-05-02 23:00': 0,\n",
       "  '2023-05-03 00:00': 0,\n",
       "  '2023-05-03 01:00': 0,\n",
       "  '2023-05-03 02:00': 0,\n",
       "  '2023-05-03 03:00': 0,\n",
       "  '2023-05-03 04:00': 0},\n",
       " 'Rivne': {'2023-05-02 17:00': 0,\n",
       "  '2023-05-02 18:00': 0,\n",
       "  '2023-05-02 19:00': 0,\n",
       "  '2023-05-02 20:00': 0,\n",
       "  '2023-05-02 21:00': 0,\n",
       "  '2023-05-02 22:00': 0,\n",
       "  '2023-05-02 23:00': 0,\n",
       "  '2023-05-03 00:00': 0,\n",
       "  '2023-05-03 01:00': 0,\n",
       "  '2023-05-03 02:00': 0,\n",
       "  '2023-05-03 03:00': 0,\n",
       "  '2023-05-03 04:00': 0},\n",
       " 'Sumy': {'2023-05-02 17:00': 0,\n",
       "  '2023-05-02 18:00': 0,\n",
       "  '2023-05-02 19:00': 0,\n",
       "  '2023-05-02 20:00': 0,\n",
       "  '2023-05-02 21:00': 0,\n",
       "  '2023-05-02 22:00': 0,\n",
       "  '2023-05-02 23:00': 0,\n",
       "  '2023-05-03 00:00': 0,\n",
       "  '2023-05-03 01:00': 0,\n",
       "  '2023-05-03 02:00': 0,\n",
       "  '2023-05-03 03:00': 0,\n",
       "  '2023-05-03 04:00': 0},\n",
       " 'Ternopil': {'2023-05-02 17:00': 0,\n",
       "  '2023-05-02 18:00': 0,\n",
       "  '2023-05-02 19:00': 0,\n",
       "  '2023-05-02 20:00': 0,\n",
       "  '2023-05-02 21:00': 0,\n",
       "  '2023-05-02 22:00': 0,\n",
       "  '2023-05-02 23:00': 0,\n",
       "  '2023-05-03 00:00': 0,\n",
       "  '2023-05-03 01:00': 0,\n",
       "  '2023-05-03 02:00': 0,\n",
       "  '2023-05-03 03:00': 0,\n",
       "  '2023-05-03 04:00': 0},\n",
       " 'Kharkiv': {'2023-05-02 17:00': 0,\n",
       "  '2023-05-02 18:00': 0,\n",
       "  '2023-05-02 19:00': 0,\n",
       "  '2023-05-02 20:00': 0,\n",
       "  '2023-05-02 21:00': 0,\n",
       "  '2023-05-02 22:00': 0,\n",
       "  '2023-05-02 23:00': 0,\n",
       "  '2023-05-03 00:00': 0,\n",
       "  '2023-05-03 01:00': 0,\n",
       "  '2023-05-03 02:00': 0,\n",
       "  '2023-05-03 03:00': 0,\n",
       "  '2023-05-03 04:00': 0},\n",
       " 'Kherson': {'2023-05-02 17:00': 0,\n",
       "  '2023-05-02 18:00': 0,\n",
       "  '2023-05-02 19:00': 0,\n",
       "  '2023-05-02 20:00': 0,\n",
       "  '2023-05-02 21:00': 0,\n",
       "  '2023-05-02 22:00': 0,\n",
       "  '2023-05-02 23:00': 0,\n",
       "  '2023-05-03 00:00': 0,\n",
       "  '2023-05-03 01:00': 0,\n",
       "  '2023-05-03 02:00': 0,\n",
       "  '2023-05-03 03:00': 0,\n",
       "  '2023-05-03 04:00': 0},\n",
       " 'Khmelnytskyi': {'2023-05-02 17:00': 0,\n",
       "  '2023-05-02 18:00': 0,\n",
       "  '2023-05-02 19:00': 0,\n",
       "  '2023-05-02 20:00': 0,\n",
       "  '2023-05-02 21:00': 0,\n",
       "  '2023-05-02 22:00': 0,\n",
       "  '2023-05-02 23:00': 0,\n",
       "  '2023-05-03 00:00': 0,\n",
       "  '2023-05-03 01:00': 0,\n",
       "  '2023-05-03 02:00': 0,\n",
       "  '2023-05-03 03:00': 0,\n",
       "  '2023-05-03 04:00': 0},\n",
       " 'Cherkasy': {'2023-05-02 17:00': 0,\n",
       "  '2023-05-02 18:00': 0,\n",
       "  '2023-05-02 19:00': 0,\n",
       "  '2023-05-02 20:00': 0,\n",
       "  '2023-05-02 21:00': 0,\n",
       "  '2023-05-02 22:00': 0,\n",
       "  '2023-05-02 23:00': 0,\n",
       "  '2023-05-03 00:00': 0,\n",
       "  '2023-05-03 01:00': 0,\n",
       "  '2023-05-03 02:00': 0,\n",
       "  '2023-05-03 03:00': 0,\n",
       "  '2023-05-03 04:00': 0},\n",
       " 'Chernivtsi': {'2023-05-02 17:00': 0,\n",
       "  '2023-05-02 18:00': 0,\n",
       "  '2023-05-02 19:00': 0,\n",
       "  '2023-05-02 20:00': 0,\n",
       "  '2023-05-02 21:00': 0,\n",
       "  '2023-05-02 22:00': 0,\n",
       "  '2023-05-02 23:00': 0,\n",
       "  '2023-05-03 00:00': 0,\n",
       "  '2023-05-03 01:00': 0,\n",
       "  '2023-05-03 02:00': 0,\n",
       "  '2023-05-03 03:00': 0,\n",
       "  '2023-05-03 04:00': 0},\n",
       " 'Chernihiv': {'2023-05-02 17:00': 0,\n",
       "  '2023-05-02 18:00': 0,\n",
       "  '2023-05-02 19:00': 0,\n",
       "  '2023-05-02 20:00': 0,\n",
       "  '2023-05-02 21:00': 0,\n",
       "  '2023-05-02 22:00': 0,\n",
       "  '2023-05-02 23:00': 0,\n",
       "  '2023-05-03 00:00': 0,\n",
       "  '2023-05-03 01:00': 0,\n",
       "  '2023-05-03 02:00': 0,\n",
       "  '2023-05-03 03:00': 0,\n",
       "  '2023-05-03 04:00': 0}}"
      ]
     },
     "execution_count": 62,
     "metadata": {},
     "output_type": "execute_result"
    }
   ],
   "source": [
    "cities = ['Vinnytsia','Simferopol','Lutsk','Dnipro','Donetsk','Zhytomyr','Uzhgorod','Zaporozhye','Ivano-Frankivsk','Kyiv',\n",
    "          'Kropyvnytskyi', 'Luhansk','Lviv','Mykolaiv','Odesa','Poltava','Rivne','Sumy','Ternopil','Kharkiv','Kherson',\n",
    "          'Khmelnytskyi','Cherkasy','Chernivtsi','Chernihiv']\n",
    "\n",
    "date = datetime.datetime.now(pytz.timezone('Europe/Kyiv'))\n",
    "\n",
    "result = {}\n",
    "\n",
    "# for loop generate weather, merged it with isw vector and make a prediction for all regions in list above\n",
    "\n",
    "for city in cities:\n",
    "\n",
    "    df_weather_complete = get_weather.get_weather_for_12_hours(city,date)\n",
    "\n",
    "    # merge\n",
    "    df_weather_complete['key']=1\n",
    "    df_isw_short['key']=1\n",
    "    df_all = df_weather_complete.merge(df_isw_short, how = 'left', left_on = 'key', right_on = 'key')\n",
    "\n",
    "    # drop\n",
    "    to_drop=['key','date','date_tomorrow_datetime','keywords','report_text_lemm']\n",
    "    if 'sunrise' in df_all.columns:\n",
    "        exceptions = ['sunset','sunrise']\n",
    "        to_drop.extend(exceptions)\n",
    "    df_weather_matrix = df_all.drop(to_drop, axis = 1)\n",
    "\n",
    "    # final dataset\n",
    "    df_weather_matrix['Unnamed: 0'] = 0\n",
    "    df_weather_matrix= df_weather_matrix[['Unnamed: 0', 'day_datetimeEpoch', 'day_tempmax', 'day_tempmin', 'day_temp', 'day_dew', 'day_humidity', 'day_precip', 'day_precipcover', 'day_solarradiation', 'day_solarenergy', 'day_uvindex', 'day_moonphase', 'hour_datetimeEpoch', 'hour_temp', 'hour_humidity', 'hour_dew', 'hour_precipprob', 'hour_snow', 'hour_snowdepth', 'hour_windgust', 'hour_windspeed', 'hour_winddir', 'hour_pressure', 'hour_visibility', 'hour_cloudcover', 'hour_severerisk', 'region_id']]\n",
    "\n",
    "    cv_vector_model = cv.transform(df_all['report_text_lemm'].values.astype('U'))\n",
    "    tf_idf_model = tfidf.transform(cv_vector_model)\n",
    "\n",
    "    # merge final dataset with tfidf vector\n",
    "    df_weather_matrix_csr = scipy.sparse.csr_matrix(df_weather_matrix)\n",
    "    df_all_data_csr = scipy.sparse.hstack((df_weather_matrix_csr, tf_idf_model), format='csr')\n",
    "\n",
    "    #predict\n",
    "    predicted = model.predict(df_all_data_csr)\n",
    "    current_time = pd.Timestamp.now()\n",
    "    hours = []\n",
    "    \n",
    "    # store results in dictionary, after extract \n",
    "    for i in range(12):\n",
    "        hour = date + datetime.timedelta(hours=i)\n",
    "        hour_rounded = hour.replace(minute=0, second=0, microsecond=0)\n",
    "        hours.append(hour_rounded.strftime('%Y-%m-%d %H:%M'))\n",
    "\n",
    "    result[city] = dict(zip(hours, predicted))\n",
    "\n",
    "#Show result\n",
    "result"
   ]
  },
  {
   "cell_type": "markdown",
   "id": "7b2f95d5",
   "metadata": {},
   "source": [
    "##     Save results"
   ]
  },
  {
   "cell_type": "code",
   "execution_count": 63,
   "id": "9fe15298",
   "metadata": {
    "ExecuteTime": {
     "end_time": "2023-05-02T17:26:06.560454Z",
     "start_time": "2023-05-02T17:26:06.529933Z"
    }
   },
   "outputs": [],
   "source": [
    "result = pd.DataFrame(result)\n",
    "VERSION = \"2\"\n",
    "result.to_csv(f'data/results/results_{VERSION}.txt', sep='\\t', index=False)"
   ]
  },
  {
   "cell_type": "code",
   "execution_count": null,
   "id": "45c85444",
   "metadata": {},
   "outputs": [],
   "source": []
  }
 ],
 "metadata": {
  "kernelspec": {
   "display_name": "Python 3 (ipykernel)",
   "language": "python",
   "name": "python3"
  },
  "language_info": {
   "codemirror_mode": {
    "name": "ipython",
    "version": 3
   },
   "file_extension": ".py",
   "mimetype": "text/x-python",
   "name": "python",
   "nbconvert_exporter": "python",
   "pygments_lexer": "ipython3",
   "version": "3.9.7"
  }
 },
 "nbformat": 4,
 "nbformat_minor": 5
}
