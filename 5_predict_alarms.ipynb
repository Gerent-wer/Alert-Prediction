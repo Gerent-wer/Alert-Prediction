{
 "cells": [
  {
   "cell_type": "code",
   "execution_count": 1,
   "id": "4ba6fc94",
   "metadata": {},
   "outputs": [],
   "source": [
    "from utils import text_processing\n",
    "from utils import get_weather\n",
    "import datetime\n",
    "\n",
    "import requests\n",
    "\n",
    "import pandas as pd\n",
    "\n",
    "from bs4 import BeautifulSoup\n",
    "\n",
    "import re\n",
    "\n",
    "import nltk\n",
    "import os\n",
    "import string\n",
    "import numpy as np\n",
    "import copy \n",
    "import pickle\n",
    "import re\n",
    "import math\n",
    "\n",
    "from sklearn.feature_extraction.text import CountVectorizer, TfidfVectorizer\n",
    "from sklearn.feature_extraction.text import TfidfTransformer\n",
    "\n",
    "\n",
    "\n",
    "import pandas as pd\n",
    "\n",
    "import scipy\n",
    "from scipy import sparse\n",
    "\n",
    "import numpy as np\n",
    "from sklearn.model_selection import TimeSeriesSplit\n",
    "\n",
    "import pickle\n"
   ]
  },
  {
   "cell_type": "code",
   "execution_count": 2,
   "id": "7cb86e69",
   "metadata": {},
   "outputs": [],
   "source": [
    "# get article from yesterday\n",
    "\n",
    "#https://understandingwar.org/backgrounder/russian-offensive-campaign-assessment-april-23-2023\n",
    "\n",
    "today = datetime.date.today()\n",
    "yesterday = today - datetime.timedelta(days=1)\n",
    "\n",
    "yesterday_day = yesterday.day\n",
    "yesterday_month = yesterday.month\n",
    "yesterday_year = yesterday.year\n"
   ]
  },
  {
   "cell_type": "code",
   "execution_count": 3,
   "id": "80028a2b",
   "metadata": {},
   "outputs": [],
   "source": [
    "file = text_processing.get_article_from_yesterday(yesterday_day,yesterday_month,yesterday_year)"
   ]
  },
  {
   "cell_type": "code",
   "execution_count": 4,
   "id": "03f1ec1e",
   "metadata": {},
   "outputs": [],
   "source": [
    "data = text_processing.read_html(file)"
   ]
  },
  {
   "cell_type": "code",
   "execution_count": 5,
   "id": "41d5933d",
   "metadata": {},
   "outputs": [],
   "source": [
    "#pd.set_option('display.max_colwidth', None)\n",
    "#pd.set_option('display.max_rows', None)"
   ]
  },
  {
   "cell_type": "code",
   "execution_count": 6,
   "id": "42911601",
   "metadata": {},
   "outputs": [],
   "source": [
    "def preprocess_all_text(data):\n",
    "    pattern = \"\\[(\\d+)\\]\"\n",
    "\n",
    "\n",
    "    data['main_html_v1'] = data['main_html'].apply(lambda x: re.sub(pattern,\"\",str(x)))\n",
    "    data['main_html_v2'] = data['main_html_v1'].apply(lambda x: re.sub(r'http(\\S+.*\\s)',\"\",x))\n",
    "    data['main_html_v3'] = data['main_html_v2'].apply(lambda x: re.sub(r'2022|2023|©2022|©2023|\\xa0|\\n',\"\",x))\n",
    "\n",
    "    data['main_html_v4'] = data['main_html_v3'].apply(lambda x: BeautifulSoup(x).text)\n",
    "    \n",
    "    data['main_html_v5'] = data['main_html_v4'].apply(lambda x: text_processing.remove_names_and_dates(x))\n",
    "    \n",
    "    return data"
   ]
  },
  {
   "cell_type": "code",
   "execution_count": 7,
   "id": "f59f0ab2",
   "metadata": {},
   "outputs": [],
   "source": [
    "data_preprocessed = preprocess_all_text(data)"
   ]
  },
  {
   "cell_type": "code",
   "execution_count": 8,
   "id": "d94c9cc9",
   "metadata": {},
   "outputs": [],
   "source": [
    "#data_preprocessed.head()"
   ]
  },
  {
   "cell_type": "code",
   "execution_count": 9,
   "id": "2af6b1be",
   "metadata": {},
   "outputs": [],
   "source": [
    "data_preprocessed = data_preprocessed.drop(['main_html_v1','main_html_v2','main_html_v3','main_html_v4'],axis=1)"
   ]
  },
  {
   "cell_type": "code",
   "execution_count": 10,
   "id": "5129a561",
   "metadata": {},
   "outputs": [
    {
     "name": "stderr",
     "output_type": "stream",
     "text": [
      "[nltk_data] Downloading package stopwords to\n",
      "[nltk_data]     /Users/nikita_voitishyn/nltk_data...\n",
      "[nltk_data]   Package stopwords is already up-to-date!\n"
     ]
    },
    {
     "data": {
      "text/plain": [
       "True"
      ]
     },
     "execution_count": 10,
     "metadata": {},
     "output_type": "execute_result"
    }
   ],
   "source": [
    "nltk.download('stopwords')\n"
   ]
  },
  {
   "cell_type": "code",
   "execution_count": 11,
   "id": "3abf9546",
   "metadata": {},
   "outputs": [],
   "source": [
    "data_preprocessed['report_text_lemm'] = data_preprocessed['main_html_v5'].apply(lambda x: text_processing.preprocess(x,\"lemm\"))\n",
    "data_preprocessed['report_text_stemm'] = data_preprocessed['main_html_v5'].apply(lambda x: text_processing.preprocess(x,\"stemm\"))"
   ]
  },
  {
   "cell_type": "code",
   "execution_count": 12,
   "id": "92cd8311",
   "metadata": {},
   "outputs": [
    {
     "data": {
      "text/html": [
       "<div>\n",
       "<style scoped>\n",
       "    .dataframe tbody tr th:only-of-type {\n",
       "        vertical-align: middle;\n",
       "    }\n",
       "\n",
       "    .dataframe tbody tr th {\n",
       "        vertical-align: top;\n",
       "    }\n",
       "\n",
       "    .dataframe thead th {\n",
       "        text-align: right;\n",
       "    }\n",
       "</style>\n",
       "<table border=\"1\" class=\"dataframe\">\n",
       "  <thead>\n",
       "    <tr style=\"text-align: right;\">\n",
       "      <th></th>\n",
       "      <th>date</th>\n",
       "      <th>short_url</th>\n",
       "      <th>title</th>\n",
       "      <th>text_title</th>\n",
       "      <th>full_url</th>\n",
       "      <th>main_html</th>\n",
       "      <th>main_html_v5</th>\n",
       "      <th>report_text_lemm</th>\n",
       "      <th>report_text_stemm</th>\n",
       "    </tr>\n",
       "  </thead>\n",
       "  <tbody>\n",
       "    <tr>\n",
       "      <th>0</th>\n",
       "      <td>2023-04-24</td>\n",
       "      <td>russian_offensive_campaign_assessment_April_24...</td>\n",
       "      <td>Russian Offensive Campaign Assessment, April 2...</td>\n",
       "      <td>Russian Offensive Campaign Assessment, April 2...</td>\n",
       "      <td>/backgrounder/russian-offensive-campaign-asses...</td>\n",
       "      <td>[[[ , &lt;p align=\"center\" style=\"text-align: lef...</td>\n",
       "      <td>Russian Offensive Campaign Assessment, April ...</td>\n",
       "      <td>russian offens campaign ass april twenty four...</td>\n",
       "      <td>russian offen campaign assess april twenti fo...</td>\n",
       "    </tr>\n",
       "  </tbody>\n",
       "</table>\n",
       "</div>"
      ],
      "text/plain": [
       "        date                                          short_url  \\\n",
       "0 2023-04-24  russian_offensive_campaign_assessment_April_24...   \n",
       "\n",
       "                                               title  \\\n",
       "0  Russian Offensive Campaign Assessment, April 2...   \n",
       "\n",
       "                                          text_title  \\\n",
       "0  Russian Offensive Campaign Assessment, April 2...   \n",
       "\n",
       "                                            full_url  \\\n",
       "0  /backgrounder/russian-offensive-campaign-asses...   \n",
       "\n",
       "                                           main_html  \\\n",
       "0  [[[ , <p align=\"center\" style=\"text-align: lef...   \n",
       "\n",
       "                                        main_html_v5  \\\n",
       "0   Russian Offensive Campaign Assessment, April ...   \n",
       "\n",
       "                                    report_text_lemm  \\\n",
       "0   russian offens campaign ass april twenty four...   \n",
       "\n",
       "                                   report_text_stemm  \n",
       "0   russian offen campaign assess april twenti fo...  "
      ]
     },
     "execution_count": 12,
     "metadata": {},
     "output_type": "execute_result"
    }
   ],
   "source": [
    "data_preprocessed.head()"
   ]
  },
  {
   "cell_type": "code",
   "execution_count": 13,
   "id": "d21b756c",
   "metadata": {},
   "outputs": [],
   "source": [
    "docs = data_preprocessed['report_text_lemm'].tolist()"
   ]
  },
  {
   "cell_type": "code",
   "execution_count": 14,
   "id": "dce417b7",
   "metadata": {},
   "outputs": [],
   "source": [
    "#tfidf = pickle.load(open(\"models/tfidf_transformer_v1.pkl\",\"rb\"))\n",
    "#cv = pickle.load(open(\"models/count_vectorizer_v1.pkl\",\"rb\"))"
   ]
  },
  {
   "cell_type": "code",
   "execution_count": 15,
   "id": "34b23732",
   "metadata": {},
   "outputs": [],
   "source": [
    "cv = CountVectorizer()\n",
    "word_count_vector = cv.fit_transform(docs)\n",
    "\n",
    "word_count_vector.shape\n",
    "\n",
    "tfidf_transformer = TfidfTransformer(smooth_idf = True, use_idf = True)\n",
    "tfidf_transformer.fit(word_count_vector)\n",
    "\n",
    "tf_idf_vector = tfidf_transformer.transform(word_count_vector)"
   ]
  },
  {
   "cell_type": "code",
   "execution_count": 16,
   "id": "6067ab90",
   "metadata": {},
   "outputs": [
    {
     "data": {
      "text/plain": [
       "<1x810 sparse matrix of type '<class 'numpy.float64'>'\n",
       "\twith 810 stored elements in Compressed Sparse Row format>"
      ]
     },
     "execution_count": 16,
     "metadata": {},
     "output_type": "execute_result"
    }
   ],
   "source": [
    "tf_idf_vector"
   ]
  },
  {
   "cell_type": "code",
   "execution_count": 17,
   "id": "37b6c871",
   "metadata": {},
   "outputs": [
    {
     "data": {
      "text/plain": [
       "<1x810 sparse matrix of type '<class 'numpy.float64'>'\n",
       "\twith 810 stored elements in Compressed Sparse Row format>"
      ]
     },
     "execution_count": 17,
     "metadata": {},
     "output_type": "execute_result"
    }
   ],
   "source": [
    "feature_names = cv.get_feature_names()\n",
    "tf_idf_vector"
   ]
  },
  {
   "cell_type": "code",
   "execution_count": 18,
   "id": "fab2fc78",
   "metadata": {},
   "outputs": [],
   "source": [
    "data_preprocessed['keywords'] = data_preprocessed['report_text_stemm'].apply(lambda x: text_processing.convert_doc_to_vector(x,feature_names,tf_idf_vector))"
   ]
  },
  {
   "cell_type": "code",
   "execution_count": 19,
   "id": "95ea033d",
   "metadata": {},
   "outputs": [
    {
     "data": {
      "text/plain": [
       "{'russian': 0.514,\n",
       " 'twenty': 0.308,\n",
       " 'forc': 0.298,\n",
       " 'april': 0.276,\n",
       " 'ukrainian': 0.222,\n",
       " 'four': 0.216,\n",
       " 'claim': 0.168,\n",
       " 'wagner': 0.157,\n",
       " 'oblast': 0.157,\n",
       " 'milblogg': 0.135}"
      ]
     },
     "execution_count": 19,
     "metadata": {},
     "output_type": "execute_result"
    }
   ],
   "source": [
    "data_preprocessed['keywords'][0]"
   ]
  },
  {
   "cell_type": "code",
   "execution_count": 20,
   "id": "f151948d",
   "metadata": {},
   "outputs": [],
   "source": [
    "data_preprocessed[\"date_datetime\"] = pd.to_datetime(data_preprocessed[\"date\"])\n",
    "data_preprocessed['date_tomorrow_datetime'] = data_preprocessed['date_datetime'].apply(lambda x: x+datetime.timedelta(days=1))\n",
    "data_preprocessed = data_preprocessed.rename(columns = {\"date_datetime\":\"report_date\"})"
   ]
  },
  {
   "cell_type": "code",
   "execution_count": 21,
   "id": "6bf4e723",
   "metadata": {},
   "outputs": [
    {
     "name": "stdout",
     "output_type": "stream",
     "text": [
      "Weather data for the \n",
      "region Донеччина; \n",
      "start_date 2023-04-25; \n",
      "end_date 2023-04-25; \n",
      "is ready\n"
     ]
    }
   ],
   "source": [
    "region = \"Донеччина\"\n",
    "today_date = \"2023-04-25\"\n",
    "\n",
    "weather_for_12_hours = get_weather.get_weather_for_12_hours(region,today_date)"
   ]
  },
  {
   "cell_type": "code",
   "execution_count": 22,
   "id": "281b2611",
   "metadata": {},
   "outputs": [
    {
     "data": {
      "text/html": [
       "<div>\n",
       "<style scoped>\n",
       "    .dataframe tbody tr th:only-of-type {\n",
       "        vertical-align: middle;\n",
       "    }\n",
       "\n",
       "    .dataframe tbody tr th {\n",
       "        vertical-align: top;\n",
       "    }\n",
       "\n",
       "    .dataframe thead th {\n",
       "        text-align: right;\n",
       "    }\n",
       "</style>\n",
       "<table border=\"1\" class=\"dataframe\">\n",
       "  <thead>\n",
       "    <tr style=\"text-align: right;\">\n",
       "      <th></th>\n",
       "      <th>datetime</th>\n",
       "      <th>datetimeEpoch</th>\n",
       "      <th>temp</th>\n",
       "      <th>feelslike</th>\n",
       "      <th>humidity</th>\n",
       "      <th>dew</th>\n",
       "      <th>precip</th>\n",
       "      <th>precipprob</th>\n",
       "      <th>snow</th>\n",
       "      <th>snowdepth</th>\n",
       "      <th>...</th>\n",
       "      <th>pressure</th>\n",
       "      <th>visibility</th>\n",
       "      <th>cloudcover</th>\n",
       "      <th>solarradiation</th>\n",
       "      <th>solarenergy</th>\n",
       "      <th>uvindex</th>\n",
       "      <th>conditions</th>\n",
       "      <th>icon</th>\n",
       "      <th>stations</th>\n",
       "      <th>source</th>\n",
       "    </tr>\n",
       "  </thead>\n",
       "  <tbody>\n",
       "    <tr>\n",
       "      <th>0</th>\n",
       "      <td>00:00:00</td>\n",
       "      <td>1682370000</td>\n",
       "      <td>51.7</td>\n",
       "      <td>51.7</td>\n",
       "      <td>96.09</td>\n",
       "      <td>50.6</td>\n",
       "      <td>0.031</td>\n",
       "      <td>100.0</td>\n",
       "      <td>0.0</td>\n",
       "      <td>0.0</td>\n",
       "      <td>...</td>\n",
       "      <td>1014.0</td>\n",
       "      <td>None</td>\n",
       "      <td>100.0</td>\n",
       "      <td>None</td>\n",
       "      <td>None</td>\n",
       "      <td>None</td>\n",
       "      <td>Rain, Overcast</td>\n",
       "      <td>rain</td>\n",
       "      <td>[remote]</td>\n",
       "      <td>obs</td>\n",
       "    </tr>\n",
       "    <tr>\n",
       "      <th>1</th>\n",
       "      <td>01:00:00</td>\n",
       "      <td>1682373600</td>\n",
       "      <td>51.2</td>\n",
       "      <td>51.2</td>\n",
       "      <td>89.84</td>\n",
       "      <td>48.3</td>\n",
       "      <td>0.024</td>\n",
       "      <td>100.0</td>\n",
       "      <td>0.0</td>\n",
       "      <td>0.0</td>\n",
       "      <td>...</td>\n",
       "      <td>1014.0</td>\n",
       "      <td>None</td>\n",
       "      <td>100.0</td>\n",
       "      <td>None</td>\n",
       "      <td>None</td>\n",
       "      <td>None</td>\n",
       "      <td>Rain, Overcast</td>\n",
       "      <td>rain</td>\n",
       "      <td>[remote]</td>\n",
       "      <td>obs</td>\n",
       "    </tr>\n",
       "    <tr>\n",
       "      <th>2</th>\n",
       "      <td>02:00:00</td>\n",
       "      <td>1682377200</td>\n",
       "      <td>50.3</td>\n",
       "      <td>50.3</td>\n",
       "      <td>90.41</td>\n",
       "      <td>47.6</td>\n",
       "      <td>0.020</td>\n",
       "      <td>100.0</td>\n",
       "      <td>0.0</td>\n",
       "      <td>0.0</td>\n",
       "      <td>...</td>\n",
       "      <td>1013.0</td>\n",
       "      <td>None</td>\n",
       "      <td>93.5</td>\n",
       "      <td>None</td>\n",
       "      <td>None</td>\n",
       "      <td>None</td>\n",
       "      <td>Rain, Overcast</td>\n",
       "      <td>rain</td>\n",
       "      <td>[remote]</td>\n",
       "      <td>obs</td>\n",
       "    </tr>\n",
       "    <tr>\n",
       "      <th>3</th>\n",
       "      <td>03:00:00</td>\n",
       "      <td>1682380800</td>\n",
       "      <td>49.5</td>\n",
       "      <td>49.0</td>\n",
       "      <td>91.61</td>\n",
       "      <td>47.2</td>\n",
       "      <td>0.008</td>\n",
       "      <td>100.0</td>\n",
       "      <td>0.0</td>\n",
       "      <td>0.0</td>\n",
       "      <td>...</td>\n",
       "      <td>1012.0</td>\n",
       "      <td>None</td>\n",
       "      <td>98.4</td>\n",
       "      <td>None</td>\n",
       "      <td>None</td>\n",
       "      <td>None</td>\n",
       "      <td>Rain, Overcast</td>\n",
       "      <td>rain</td>\n",
       "      <td>[remote]</td>\n",
       "      <td>obs</td>\n",
       "    </tr>\n",
       "    <tr>\n",
       "      <th>4</th>\n",
       "      <td>04:00:00</td>\n",
       "      <td>1682384400</td>\n",
       "      <td>49.4</td>\n",
       "      <td>48.8</td>\n",
       "      <td>90.99</td>\n",
       "      <td>46.8</td>\n",
       "      <td>0.000</td>\n",
       "      <td>0.0</td>\n",
       "      <td>0.0</td>\n",
       "      <td>0.0</td>\n",
       "      <td>...</td>\n",
       "      <td>1011.0</td>\n",
       "      <td>None</td>\n",
       "      <td>98.7</td>\n",
       "      <td>None</td>\n",
       "      <td>None</td>\n",
       "      <td>None</td>\n",
       "      <td>Overcast</td>\n",
       "      <td>cloudy</td>\n",
       "      <td>[remote]</td>\n",
       "      <td>obs</td>\n",
       "    </tr>\n",
       "  </tbody>\n",
       "</table>\n",
       "<p>5 rows × 24 columns</p>\n",
       "</div>"
      ],
      "text/plain": [
       "   datetime  datetimeEpoch  temp  feelslike  humidity   dew  precip  \\\n",
       "0  00:00:00     1682370000  51.7       51.7     96.09  50.6   0.031   \n",
       "1  01:00:00     1682373600  51.2       51.2     89.84  48.3   0.024   \n",
       "2  02:00:00     1682377200  50.3       50.3     90.41  47.6   0.020   \n",
       "3  03:00:00     1682380800  49.5       49.0     91.61  47.2   0.008   \n",
       "4  04:00:00     1682384400  49.4       48.8     90.99  46.8   0.000   \n",
       "\n",
       "   precipprob  snow  snowdepth  ... pressure  visibility  cloudcover  \\\n",
       "0       100.0   0.0        0.0  ...   1014.0        None       100.0   \n",
       "1       100.0   0.0        0.0  ...   1014.0        None       100.0   \n",
       "2       100.0   0.0        0.0  ...   1013.0        None        93.5   \n",
       "3       100.0   0.0        0.0  ...   1012.0        None        98.4   \n",
       "4         0.0   0.0        0.0  ...   1011.0        None        98.7   \n",
       "\n",
       "   solarradiation  solarenergy uvindex      conditions    icon  stations  \\\n",
       "0            None         None    None  Rain, Overcast    rain  [remote]   \n",
       "1            None         None    None  Rain, Overcast    rain  [remote]   \n",
       "2            None         None    None  Rain, Overcast    rain  [remote]   \n",
       "3            None         None    None  Rain, Overcast    rain  [remote]   \n",
       "4            None         None    None        Overcast  cloudy  [remote]   \n",
       "\n",
       "  source  \n",
       "0    obs  \n",
       "1    obs  \n",
       "2    obs  \n",
       "3    obs  \n",
       "4    obs  \n",
       "\n",
       "[5 rows x 24 columns]"
      ]
     },
     "execution_count": 22,
     "metadata": {},
     "output_type": "execute_result"
    }
   ],
   "source": [
    "weather_for_12_hours.head()"
   ]
  },
  {
   "cell_type": "code",
   "execution_count": 23,
   "id": "d0d77bf6",
   "metadata": {},
   "outputs": [],
   "source": [
    "weather_for_12_hours['date'] = today_date\n",
    "weather_for_12_hours[\"day_datetime\"] = pd.to_datetime(weather_for_12_hours[\"date\"])"
   ]
  },
  {
   "cell_type": "code",
   "execution_count": 24,
   "id": "c34df099",
   "metadata": {},
   "outputs": [
    {
     "data": {
      "text/plain": [
       "Index(['datetime', 'datetimeEpoch', 'temp', 'feelslike', 'humidity', 'dew',\n",
       "       'precip', 'precipprob', 'snow', 'snowdepth', 'preciptype', 'windgust',\n",
       "       'windspeed', 'winddir', 'pressure', 'visibility', 'cloudcover',\n",
       "       'solarradiation', 'solarenergy', 'uvindex', 'conditions', 'icon',\n",
       "       'stations', 'source', 'date', 'day_datetime'],\n",
       "      dtype='object')"
      ]
     },
     "execution_count": 24,
     "metadata": {},
     "output_type": "execute_result"
    }
   ],
   "source": [
    "weather_for_12_hours.columns"
   ]
  },
  {
   "cell_type": "code",
   "execution_count": 25,
   "id": "a1a31caa",
   "metadata": {},
   "outputs": [
    {
     "data": {
      "text/html": [
       "<div>\n",
       "<style scoped>\n",
       "    .dataframe tbody tr th:only-of-type {\n",
       "        vertical-align: middle;\n",
       "    }\n",
       "\n",
       "    .dataframe tbody tr th {\n",
       "        vertical-align: top;\n",
       "    }\n",
       "\n",
       "    .dataframe thead th {\n",
       "        text-align: right;\n",
       "    }\n",
       "</style>\n",
       "<table border=\"1\" class=\"dataframe\">\n",
       "  <thead>\n",
       "    <tr style=\"text-align: right;\">\n",
       "      <th></th>\n",
       "      <th>date</th>\n",
       "      <th>short_url</th>\n",
       "      <th>title</th>\n",
       "      <th>text_title</th>\n",
       "      <th>full_url</th>\n",
       "      <th>main_html</th>\n",
       "      <th>main_html_v5</th>\n",
       "      <th>report_text_lemm</th>\n",
       "      <th>report_text_stemm</th>\n",
       "      <th>keywords</th>\n",
       "      <th>date_datetime</th>\n",
       "      <th>date_tomorrow_datetime</th>\n",
       "    </tr>\n",
       "  </thead>\n",
       "  <tbody>\n",
       "    <tr>\n",
       "      <th>0</th>\n",
       "      <td>2023-04-24</td>\n",
       "      <td>russian_offensive_campaign_assessment_April_24...</td>\n",
       "      <td>Russian Offensive Campaign Assessment, April 2...</td>\n",
       "      <td>Russian Offensive Campaign Assessment, April 2...</td>\n",
       "      <td>/backgrounder/russian-offensive-campaign-asses...</td>\n",
       "      <td>[[[ , &lt;p align=\"center\" style=\"text-align: lef...</td>\n",
       "      <td>Russian Offensive Campaign Assessment, April ...</td>\n",
       "      <td>russian offens campaign ass april twenty four...</td>\n",
       "      <td>russian offen campaign assess april twenti fo...</td>\n",
       "      <td>{'russian': 0.514, 'twenty': 0.308, 'forc': 0....</td>\n",
       "      <td>2023-04-24</td>\n",
       "      <td>2023-04-25</td>\n",
       "    </tr>\n",
       "  </tbody>\n",
       "</table>\n",
       "</div>"
      ],
      "text/plain": [
       "        date                                          short_url  \\\n",
       "0 2023-04-24  russian_offensive_campaign_assessment_April_24...   \n",
       "\n",
       "                                               title  \\\n",
       "0  Russian Offensive Campaign Assessment, April 2...   \n",
       "\n",
       "                                          text_title  \\\n",
       "0  Russian Offensive Campaign Assessment, April 2...   \n",
       "\n",
       "                                            full_url  \\\n",
       "0  /backgrounder/russian-offensive-campaign-asses...   \n",
       "\n",
       "                                           main_html  \\\n",
       "0  [[[ , <p align=\"center\" style=\"text-align: lef...   \n",
       "\n",
       "                                        main_html_v5  \\\n",
       "0   Russian Offensive Campaign Assessment, April ...   \n",
       "\n",
       "                                    report_text_lemm  \\\n",
       "0   russian offens campaign ass april twenty four...   \n",
       "\n",
       "                                   report_text_stemm  \\\n",
       "0   russian offen campaign assess april twenti fo...   \n",
       "\n",
       "                                            keywords date_datetime  \\\n",
       "0  {'russian': 0.514, 'twenty': 0.308, 'forc': 0....    2023-04-24   \n",
       "\n",
       "  date_tomorrow_datetime  \n",
       "0             2023-04-25  "
      ]
     },
     "execution_count": 25,
     "metadata": {},
     "output_type": "execute_result"
    }
   ],
   "source": [
    "data_preprocessed.head()"
   ]
  },
  {
   "cell_type": "code",
   "execution_count": 26,
   "id": "637f2486",
   "metadata": {},
   "outputs": [],
   "source": [
    "data_preprocessed_short = df_isw_short = data_preprocessed[['date','date_tomorrow_datetime','keywords','report_text_lemm']]"
   ]
  },
  {
   "cell_type": "code",
   "execution_count": 27,
   "id": "6c0a8daf",
   "metadata": {},
   "outputs": [
    {
     "data": {
      "text/html": [
       "<div>\n",
       "<style scoped>\n",
       "    .dataframe tbody tr th:only-of-type {\n",
       "        vertical-align: middle;\n",
       "    }\n",
       "\n",
       "    .dataframe tbody tr th {\n",
       "        vertical-align: top;\n",
       "    }\n",
       "\n",
       "    .dataframe thead th {\n",
       "        text-align: right;\n",
       "    }\n",
       "</style>\n",
       "<table border=\"1\" class=\"dataframe\">\n",
       "  <thead>\n",
       "    <tr style=\"text-align: right;\">\n",
       "      <th></th>\n",
       "      <th>date</th>\n",
       "      <th>date_tomorrow_datetime</th>\n",
       "      <th>keywords</th>\n",
       "      <th>report_text_lemm</th>\n",
       "    </tr>\n",
       "  </thead>\n",
       "  <tbody>\n",
       "    <tr>\n",
       "      <th>0</th>\n",
       "      <td>2023-04-24</td>\n",
       "      <td>2023-04-25</td>\n",
       "      <td>{'russian': 0.514, 'twenty': 0.308, 'forc': 0....</td>\n",
       "      <td>russian offens campaign ass april twenty four...</td>\n",
       "    </tr>\n",
       "  </tbody>\n",
       "</table>\n",
       "</div>"
      ],
      "text/plain": [
       "        date date_tomorrow_datetime  \\\n",
       "0 2023-04-24             2023-04-25   \n",
       "\n",
       "                                            keywords  \\\n",
       "0  {'russian': 0.514, 'twenty': 0.308, 'forc': 0....   \n",
       "\n",
       "                                    report_text_lemm  \n",
       "0   russian offens campaign ass april twenty four...  "
      ]
     },
     "execution_count": 27,
     "metadata": {},
     "output_type": "execute_result"
    }
   ],
   "source": [
    "data_preprocessed_short.head()"
   ]
  },
  {
   "cell_type": "code",
   "execution_count": 28,
   "id": "16490d8c",
   "metadata": {},
   "outputs": [],
   "source": [
    "data_merged = weather_for_12_hours.merge(data_preprocessed_short,\n",
    "                         how=\"left\", left_on = \"day_datetime\", right_on = \"date_tomorrow_datetime\")"
   ]
  },
  {
   "cell_type": "code",
   "execution_count": 29,
   "id": "459fdd4e",
   "metadata": {},
   "outputs": [
    {
     "data": {
      "text/plain": [
       "0     None\n",
       "1     None\n",
       "2     None\n",
       "3     None\n",
       "4     None\n",
       "5     None\n",
       "6     None\n",
       "7     None\n",
       "8     None\n",
       "9     None\n",
       "10    None\n",
       "11    None\n",
       "12    None\n",
       "13    None\n",
       "14    None\n",
       "15    None\n",
       "16    None\n",
       "17    None\n",
       "18    None\n",
       "19    None\n",
       "20    None\n",
       "21    None\n",
       "22    None\n",
       "23    None\n",
       "Name: solarradiation, dtype: object"
      ]
     },
     "execution_count": 29,
     "metadata": {},
     "output_type": "execute_result"
    }
   ],
   "source": [
    "data_merged['solarradiation']"
   ]
  },
  {
   "cell_type": "code",
   "execution_count": 30,
   "id": "88a2d3ff",
   "metadata": {},
   "outputs": [
    {
     "data": {
      "text/plain": [
       "<1x810 sparse matrix of type '<class 'numpy.float64'>'\n",
       "\twith 810 stored elements in Compressed Sparse Row format>"
      ]
     },
     "execution_count": 30,
     "metadata": {},
     "output_type": "execute_result"
    }
   ],
   "source": [
    "tf_idf_vector"
   ]
  },
  {
   "cell_type": "code",
   "execution_count": 31,
   "id": "45979da9",
   "metadata": {},
   "outputs": [],
   "source": [
    "data_merged = data_merged[['day_datetime','temp', 'feelslike', 'humidity', 'dew',\n",
    "       'precip', 'precipprob', 'snow', 'snowdepth', 'windgust',\n",
    "       'windspeed', 'winddir', 'pressure', 'cloudcover']]"
   ]
  },
  {
   "cell_type": "code",
   "execution_count": 32,
   "id": "d9a48358",
   "metadata": {},
   "outputs": [
    {
     "data": {
      "text/html": [
       "<div>\n",
       "<style scoped>\n",
       "    .dataframe tbody tr th:only-of-type {\n",
       "        vertical-align: middle;\n",
       "    }\n",
       "\n",
       "    .dataframe tbody tr th {\n",
       "        vertical-align: top;\n",
       "    }\n",
       "\n",
       "    .dataframe thead th {\n",
       "        text-align: right;\n",
       "    }\n",
       "</style>\n",
       "<table border=\"1\" class=\"dataframe\">\n",
       "  <thead>\n",
       "    <tr style=\"text-align: right;\">\n",
       "      <th></th>\n",
       "      <th>day_datetime</th>\n",
       "      <th>temp</th>\n",
       "      <th>feelslike</th>\n",
       "      <th>humidity</th>\n",
       "      <th>dew</th>\n",
       "      <th>precip</th>\n",
       "      <th>precipprob</th>\n",
       "      <th>snow</th>\n",
       "      <th>snowdepth</th>\n",
       "      <th>windgust</th>\n",
       "      <th>windspeed</th>\n",
       "      <th>winddir</th>\n",
       "      <th>pressure</th>\n",
       "      <th>cloudcover</th>\n",
       "    </tr>\n",
       "  </thead>\n",
       "  <tbody>\n",
       "    <tr>\n",
       "      <th>0</th>\n",
       "      <td>2023-04-25</td>\n",
       "      <td>51.7</td>\n",
       "      <td>51.7</td>\n",
       "      <td>96.09</td>\n",
       "      <td>50.6</td>\n",
       "      <td>0.031</td>\n",
       "      <td>100.0</td>\n",
       "      <td>0.0</td>\n",
       "      <td>0.0</td>\n",
       "      <td>10.1</td>\n",
       "      <td>3.8</td>\n",
       "      <td>90.8</td>\n",
       "      <td>1014.0</td>\n",
       "      <td>100.0</td>\n",
       "    </tr>\n",
       "    <tr>\n",
       "      <th>1</th>\n",
       "      <td>2023-04-25</td>\n",
       "      <td>51.2</td>\n",
       "      <td>51.2</td>\n",
       "      <td>89.84</td>\n",
       "      <td>48.3</td>\n",
       "      <td>0.024</td>\n",
       "      <td>100.0</td>\n",
       "      <td>0.0</td>\n",
       "      <td>0.0</td>\n",
       "      <td>10.7</td>\n",
       "      <td>4.7</td>\n",
       "      <td>77.9</td>\n",
       "      <td>1014.0</td>\n",
       "      <td>100.0</td>\n",
       "    </tr>\n",
       "    <tr>\n",
       "      <th>2</th>\n",
       "      <td>2023-04-25</td>\n",
       "      <td>50.3</td>\n",
       "      <td>50.3</td>\n",
       "      <td>90.41</td>\n",
       "      <td>47.6</td>\n",
       "      <td>0.020</td>\n",
       "      <td>100.0</td>\n",
       "      <td>0.0</td>\n",
       "      <td>0.0</td>\n",
       "      <td>10.3</td>\n",
       "      <td>3.1</td>\n",
       "      <td>60.8</td>\n",
       "      <td>1013.0</td>\n",
       "      <td>93.5</td>\n",
       "    </tr>\n",
       "    <tr>\n",
       "      <th>3</th>\n",
       "      <td>2023-04-25</td>\n",
       "      <td>49.5</td>\n",
       "      <td>49.0</td>\n",
       "      <td>91.61</td>\n",
       "      <td>47.2</td>\n",
       "      <td>0.008</td>\n",
       "      <td>100.0</td>\n",
       "      <td>0.0</td>\n",
       "      <td>0.0</td>\n",
       "      <td>6.7</td>\n",
       "      <td>3.1</td>\n",
       "      <td>50.6</td>\n",
       "      <td>1012.0</td>\n",
       "      <td>98.4</td>\n",
       "    </tr>\n",
       "    <tr>\n",
       "      <th>4</th>\n",
       "      <td>2023-04-25</td>\n",
       "      <td>49.4</td>\n",
       "      <td>48.8</td>\n",
       "      <td>90.99</td>\n",
       "      <td>46.8</td>\n",
       "      <td>0.000</td>\n",
       "      <td>0.0</td>\n",
       "      <td>0.0</td>\n",
       "      <td>0.0</td>\n",
       "      <td>6.7</td>\n",
       "      <td>3.1</td>\n",
       "      <td>30.9</td>\n",
       "      <td>1011.0</td>\n",
       "      <td>98.7</td>\n",
       "    </tr>\n",
       "  </tbody>\n",
       "</table>\n",
       "</div>"
      ],
      "text/plain": [
       "  day_datetime  temp  feelslike  humidity   dew  precip  precipprob  snow  \\\n",
       "0   2023-04-25  51.7       51.7     96.09  50.6   0.031       100.0   0.0   \n",
       "1   2023-04-25  51.2       51.2     89.84  48.3   0.024       100.0   0.0   \n",
       "2   2023-04-25  50.3       50.3     90.41  47.6   0.020       100.0   0.0   \n",
       "3   2023-04-25  49.5       49.0     91.61  47.2   0.008       100.0   0.0   \n",
       "4   2023-04-25  49.4       48.8     90.99  46.8   0.000         0.0   0.0   \n",
       "\n",
       "   snowdepth  windgust  windspeed  winddir  pressure  cloudcover  \n",
       "0        0.0      10.1        3.8     90.8    1014.0       100.0  \n",
       "1        0.0      10.7        4.7     77.9    1014.0       100.0  \n",
       "2        0.0      10.3        3.1     60.8    1013.0        93.5  \n",
       "3        0.0       6.7        3.1     50.6    1012.0        98.4  \n",
       "4        0.0       6.7        3.1     30.9    1011.0        98.7  "
      ]
     },
     "execution_count": 32,
     "metadata": {},
     "output_type": "execute_result"
    }
   ],
   "source": [
    "data_merged.head()"
   ]
  },
  {
   "cell_type": "code",
   "execution_count": 33,
   "id": "73ed877b",
   "metadata": {},
   "outputs": [
    {
     "name": "stdout",
     "output_type": "stream",
     "text": [
      "<class 'pandas.core.frame.DataFrame'>\n",
      "Int64Index: 24 entries, 0 to 23\n",
      "Data columns (total 14 columns):\n",
      " #   Column        Non-Null Count  Dtype         \n",
      "---  ------        --------------  -----         \n",
      " 0   day_datetime  24 non-null     datetime64[ns]\n",
      " 1   temp          24 non-null     float64       \n",
      " 2   feelslike     24 non-null     float64       \n",
      " 3   humidity      24 non-null     float64       \n",
      " 4   dew           24 non-null     float64       \n",
      " 5   precip        24 non-null     float64       \n",
      " 6   precipprob    24 non-null     float64       \n",
      " 7   snow          24 non-null     float64       \n",
      " 8   snowdepth     24 non-null     float64       \n",
      " 9   windgust      24 non-null     float64       \n",
      " 10  windspeed     24 non-null     float64       \n",
      " 11  winddir       24 non-null     float64       \n",
      " 12  pressure      24 non-null     float64       \n",
      " 13  cloudcover    24 non-null     float64       \n",
      "dtypes: datetime64[ns](1), float64(13)\n",
      "memory usage: 2.8 KB\n"
     ]
    }
   ],
   "source": [
    "data_merged.info()"
   ]
  },
  {
   "cell_type": "code",
   "execution_count": 34,
   "id": "b513d725",
   "metadata": {},
   "outputs": [
    {
     "data": {
      "text/plain": [
       "day_datetime    0\n",
       "temp            0\n",
       "feelslike       0\n",
       "humidity        0\n",
       "dew             0\n",
       "precip          0\n",
       "precipprob      0\n",
       "snow            0\n",
       "snowdepth       0\n",
       "windgust        0\n",
       "windspeed       0\n",
       "winddir         0\n",
       "pressure        0\n",
       "cloudcover      0\n",
       "dtype: int64"
      ]
     },
     "execution_count": 34,
     "metadata": {},
     "output_type": "execute_result"
    }
   ],
   "source": [
    "data_merged.isnull().sum()"
   ]
  },
  {
   "cell_type": "code",
   "execution_count": 35,
   "id": "4c686215",
   "metadata": {},
   "outputs": [],
   "source": [
    "#weather_alarms_tfidf_csr = scipy.sparse.csr_matrix(data_merged)\n",
    "#weather_alarms_tfidf_features = scipy.sparse.hstack((weather_alarms_tfidf_csr, tf_idf_vector), format=\"csr\")"
   ]
  },
  {
   "cell_type": "code",
   "execution_count": 36,
   "id": "72ff12f6",
   "metadata": {},
   "outputs": [],
   "source": [
    "data_vectorised = tf_idf_vector.toarray()\n",
    "vectors_df = pd.DataFrame(data_vectorised)\n",
    "vectors_df['date'] = pd.to_datetime(today)\n"
   ]
  },
  {
   "cell_type": "code",
   "execution_count": 37,
   "id": "2e66d70b",
   "metadata": {},
   "outputs": [
    {
     "data": {
      "text/html": [
       "<div>\n",
       "<style scoped>\n",
       "    .dataframe tbody tr th:only-of-type {\n",
       "        vertical-align: middle;\n",
       "    }\n",
       "\n",
       "    .dataframe tbody tr th {\n",
       "        vertical-align: top;\n",
       "    }\n",
       "\n",
       "    .dataframe thead th {\n",
       "        text-align: right;\n",
       "    }\n",
       "</style>\n",
       "<table border=\"1\" class=\"dataframe\">\n",
       "  <thead>\n",
       "    <tr style=\"text-align: right;\">\n",
       "      <th></th>\n",
       "      <th>0</th>\n",
       "      <th>1</th>\n",
       "      <th>2</th>\n",
       "      <th>3</th>\n",
       "      <th>4</th>\n",
       "      <th>5</th>\n",
       "      <th>6</th>\n",
       "      <th>7</th>\n",
       "      <th>8</th>\n",
       "      <th>9</th>\n",
       "      <th>...</th>\n",
       "      <th>801</th>\n",
       "      <th>802</th>\n",
       "      <th>803</th>\n",
       "      <th>804</th>\n",
       "      <th>805</th>\n",
       "      <th>806</th>\n",
       "      <th>807</th>\n",
       "      <th>808</th>\n",
       "      <th>809</th>\n",
       "      <th>date</th>\n",
       "    </tr>\n",
       "  </thead>\n",
       "  <tbody>\n",
       "    <tr>\n",
       "      <th>0</th>\n",
       "      <td>0.00541</td>\n",
       "      <td>0.00541</td>\n",
       "      <td>0.01082</td>\n",
       "      <td>0.00541</td>\n",
       "      <td>0.00541</td>\n",
       "      <td>0.01082</td>\n",
       "      <td>0.00541</td>\n",
       "      <td>0.00541</td>\n",
       "      <td>0.00541</td>\n",
       "      <td>0.00541</td>\n",
       "      <td>...</td>\n",
       "      <td>0.021641</td>\n",
       "      <td>0.01082</td>\n",
       "      <td>0.00541</td>\n",
       "      <td>0.00541</td>\n",
       "      <td>0.043282</td>\n",
       "      <td>0.01082</td>\n",
       "      <td>0.027051</td>\n",
       "      <td>0.00541</td>\n",
       "      <td>0.00541</td>\n",
       "      <td>2023-04-25</td>\n",
       "    </tr>\n",
       "  </tbody>\n",
       "</table>\n",
       "<p>1 rows × 811 columns</p>\n",
       "</div>"
      ],
      "text/plain": [
       "         0        1        2        3        4        5        6        7  \\\n",
       "0  0.00541  0.00541  0.01082  0.00541  0.00541  0.01082  0.00541  0.00541   \n",
       "\n",
       "         8        9  ...       801      802      803      804       805  \\\n",
       "0  0.00541  0.00541  ...  0.021641  0.01082  0.00541  0.00541  0.043282   \n",
       "\n",
       "       806       807      808      809       date  \n",
       "0  0.01082  0.027051  0.00541  0.00541 2023-04-25  \n",
       "\n",
       "[1 rows x 811 columns]"
      ]
     },
     "execution_count": 37,
     "metadata": {},
     "output_type": "execute_result"
    }
   ],
   "source": [
    "vectors_df.head()"
   ]
  },
  {
   "cell_type": "code",
   "execution_count": 44,
   "id": "eda232cd",
   "metadata": {},
   "outputs": [
    {
     "data": {
      "text/html": [
       "<div>\n",
       "<style scoped>\n",
       "    .dataframe tbody tr th:only-of-type {\n",
       "        vertical-align: middle;\n",
       "    }\n",
       "\n",
       "    .dataframe tbody tr th {\n",
       "        vertical-align: top;\n",
       "    }\n",
       "\n",
       "    .dataframe thead th {\n",
       "        text-align: right;\n",
       "    }\n",
       "</style>\n",
       "<table border=\"1\" class=\"dataframe\">\n",
       "  <thead>\n",
       "    <tr style=\"text-align: right;\">\n",
       "      <th></th>\n",
       "      <th>date</th>\n",
       "      <th>temp</th>\n",
       "      <th>feelslike</th>\n",
       "      <th>humidity</th>\n",
       "      <th>dew</th>\n",
       "      <th>precip</th>\n",
       "      <th>precipprob</th>\n",
       "      <th>snow</th>\n",
       "      <th>snowdepth</th>\n",
       "      <th>windgust</th>\n",
       "      <th>windspeed</th>\n",
       "      <th>winddir</th>\n",
       "      <th>pressure</th>\n",
       "      <th>cloudcover</th>\n",
       "    </tr>\n",
       "  </thead>\n",
       "  <tbody>\n",
       "    <tr>\n",
       "      <th>0</th>\n",
       "      <td>2023-04-25</td>\n",
       "      <td>51.7</td>\n",
       "      <td>51.7</td>\n",
       "      <td>96.09</td>\n",
       "      <td>50.6</td>\n",
       "      <td>0.031</td>\n",
       "      <td>100.0</td>\n",
       "      <td>0.0</td>\n",
       "      <td>0.0</td>\n",
       "      <td>10.1</td>\n",
       "      <td>3.8</td>\n",
       "      <td>90.8</td>\n",
       "      <td>1014.0</td>\n",
       "      <td>100.0</td>\n",
       "    </tr>\n",
       "    <tr>\n",
       "      <th>1</th>\n",
       "      <td>2023-04-25</td>\n",
       "      <td>51.2</td>\n",
       "      <td>51.2</td>\n",
       "      <td>89.84</td>\n",
       "      <td>48.3</td>\n",
       "      <td>0.024</td>\n",
       "      <td>100.0</td>\n",
       "      <td>0.0</td>\n",
       "      <td>0.0</td>\n",
       "      <td>10.7</td>\n",
       "      <td>4.7</td>\n",
       "      <td>77.9</td>\n",
       "      <td>1014.0</td>\n",
       "      <td>100.0</td>\n",
       "    </tr>\n",
       "    <tr>\n",
       "      <th>2</th>\n",
       "      <td>2023-04-25</td>\n",
       "      <td>50.3</td>\n",
       "      <td>50.3</td>\n",
       "      <td>90.41</td>\n",
       "      <td>47.6</td>\n",
       "      <td>0.020</td>\n",
       "      <td>100.0</td>\n",
       "      <td>0.0</td>\n",
       "      <td>0.0</td>\n",
       "      <td>10.3</td>\n",
       "      <td>3.1</td>\n",
       "      <td>60.8</td>\n",
       "      <td>1013.0</td>\n",
       "      <td>93.5</td>\n",
       "    </tr>\n",
       "    <tr>\n",
       "      <th>3</th>\n",
       "      <td>2023-04-25</td>\n",
       "      <td>49.5</td>\n",
       "      <td>49.0</td>\n",
       "      <td>91.61</td>\n",
       "      <td>47.2</td>\n",
       "      <td>0.008</td>\n",
       "      <td>100.0</td>\n",
       "      <td>0.0</td>\n",
       "      <td>0.0</td>\n",
       "      <td>6.7</td>\n",
       "      <td>3.1</td>\n",
       "      <td>50.6</td>\n",
       "      <td>1012.0</td>\n",
       "      <td>98.4</td>\n",
       "    </tr>\n",
       "    <tr>\n",
       "      <th>4</th>\n",
       "      <td>2023-04-25</td>\n",
       "      <td>49.4</td>\n",
       "      <td>48.8</td>\n",
       "      <td>90.99</td>\n",
       "      <td>46.8</td>\n",
       "      <td>0.000</td>\n",
       "      <td>0.0</td>\n",
       "      <td>0.0</td>\n",
       "      <td>0.0</td>\n",
       "      <td>6.7</td>\n",
       "      <td>3.1</td>\n",
       "      <td>30.9</td>\n",
       "      <td>1011.0</td>\n",
       "      <td>98.7</td>\n",
       "    </tr>\n",
       "  </tbody>\n",
       "</table>\n",
       "</div>"
      ],
      "text/plain": [
       "        date  temp  feelslike  humidity   dew  precip  precipprob  snow  \\\n",
       "0 2023-04-25  51.7       51.7     96.09  50.6   0.031       100.0   0.0   \n",
       "1 2023-04-25  51.2       51.2     89.84  48.3   0.024       100.0   0.0   \n",
       "2 2023-04-25  50.3       50.3     90.41  47.6   0.020       100.0   0.0   \n",
       "3 2023-04-25  49.5       49.0     91.61  47.2   0.008       100.0   0.0   \n",
       "4 2023-04-25  49.4       48.8     90.99  46.8   0.000         0.0   0.0   \n",
       "\n",
       "   snowdepth  windgust  windspeed  winddir  pressure  cloudcover  \n",
       "0        0.0      10.1        3.8     90.8    1014.0       100.0  \n",
       "1        0.0      10.7        4.7     77.9    1014.0       100.0  \n",
       "2        0.0      10.3        3.1     60.8    1013.0        93.5  \n",
       "3        0.0       6.7        3.1     50.6    1012.0        98.4  \n",
       "4        0.0       6.7        3.1     30.9    1011.0        98.7  "
      ]
     },
     "execution_count": 44,
     "metadata": {},
     "output_type": "execute_result"
    }
   ],
   "source": [
    "data_merged = data_merged.rename(columns = {\"day_datetime\":\"date\"})\n",
    "data_merged.head()"
   ]
  },
  {
   "cell_type": "code",
   "execution_count": 46,
   "id": "173f2dc5",
   "metadata": {},
   "outputs": [],
   "source": [
    "merged_df = pd.merge(data_merged, vectors_df,on='date')"
   ]
  },
  {
   "cell_type": "code",
   "execution_count": 47,
   "id": "ac2ce1c2",
   "metadata": {},
   "outputs": [
    {
     "data": {
      "text/html": [
       "<div>\n",
       "<style scoped>\n",
       "    .dataframe tbody tr th:only-of-type {\n",
       "        vertical-align: middle;\n",
       "    }\n",
       "\n",
       "    .dataframe tbody tr th {\n",
       "        vertical-align: top;\n",
       "    }\n",
       "\n",
       "    .dataframe thead th {\n",
       "        text-align: right;\n",
       "    }\n",
       "</style>\n",
       "<table border=\"1\" class=\"dataframe\">\n",
       "  <thead>\n",
       "    <tr style=\"text-align: right;\">\n",
       "      <th></th>\n",
       "      <th>date</th>\n",
       "      <th>temp</th>\n",
       "      <th>feelslike</th>\n",
       "      <th>humidity</th>\n",
       "      <th>dew</th>\n",
       "      <th>precip</th>\n",
       "      <th>precipprob</th>\n",
       "      <th>snow</th>\n",
       "      <th>snowdepth</th>\n",
       "      <th>windgust</th>\n",
       "      <th>...</th>\n",
       "      <th>800</th>\n",
       "      <th>801</th>\n",
       "      <th>802</th>\n",
       "      <th>803</th>\n",
       "      <th>804</th>\n",
       "      <th>805</th>\n",
       "      <th>806</th>\n",
       "      <th>807</th>\n",
       "      <th>808</th>\n",
       "      <th>809</th>\n",
       "    </tr>\n",
       "  </thead>\n",
       "  <tbody>\n",
       "    <tr>\n",
       "      <th>0</th>\n",
       "      <td>2023-04-25</td>\n",
       "      <td>51.7</td>\n",
       "      <td>51.7</td>\n",
       "      <td>96.09</td>\n",
       "      <td>50.6</td>\n",
       "      <td>0.031</td>\n",
       "      <td>100.0</td>\n",
       "      <td>0.0</td>\n",
       "      <td>0.0</td>\n",
       "      <td>10.1</td>\n",
       "      <td>...</td>\n",
       "      <td>0.00541</td>\n",
       "      <td>0.021641</td>\n",
       "      <td>0.01082</td>\n",
       "      <td>0.00541</td>\n",
       "      <td>0.00541</td>\n",
       "      <td>0.043282</td>\n",
       "      <td>0.01082</td>\n",
       "      <td>0.027051</td>\n",
       "      <td>0.00541</td>\n",
       "      <td>0.00541</td>\n",
       "    </tr>\n",
       "    <tr>\n",
       "      <th>1</th>\n",
       "      <td>2023-04-25</td>\n",
       "      <td>51.2</td>\n",
       "      <td>51.2</td>\n",
       "      <td>89.84</td>\n",
       "      <td>48.3</td>\n",
       "      <td>0.024</td>\n",
       "      <td>100.0</td>\n",
       "      <td>0.0</td>\n",
       "      <td>0.0</td>\n",
       "      <td>10.7</td>\n",
       "      <td>...</td>\n",
       "      <td>0.00541</td>\n",
       "      <td>0.021641</td>\n",
       "      <td>0.01082</td>\n",
       "      <td>0.00541</td>\n",
       "      <td>0.00541</td>\n",
       "      <td>0.043282</td>\n",
       "      <td>0.01082</td>\n",
       "      <td>0.027051</td>\n",
       "      <td>0.00541</td>\n",
       "      <td>0.00541</td>\n",
       "    </tr>\n",
       "    <tr>\n",
       "      <th>2</th>\n",
       "      <td>2023-04-25</td>\n",
       "      <td>50.3</td>\n",
       "      <td>50.3</td>\n",
       "      <td>90.41</td>\n",
       "      <td>47.6</td>\n",
       "      <td>0.020</td>\n",
       "      <td>100.0</td>\n",
       "      <td>0.0</td>\n",
       "      <td>0.0</td>\n",
       "      <td>10.3</td>\n",
       "      <td>...</td>\n",
       "      <td>0.00541</td>\n",
       "      <td>0.021641</td>\n",
       "      <td>0.01082</td>\n",
       "      <td>0.00541</td>\n",
       "      <td>0.00541</td>\n",
       "      <td>0.043282</td>\n",
       "      <td>0.01082</td>\n",
       "      <td>0.027051</td>\n",
       "      <td>0.00541</td>\n",
       "      <td>0.00541</td>\n",
       "    </tr>\n",
       "    <tr>\n",
       "      <th>3</th>\n",
       "      <td>2023-04-25</td>\n",
       "      <td>49.5</td>\n",
       "      <td>49.0</td>\n",
       "      <td>91.61</td>\n",
       "      <td>47.2</td>\n",
       "      <td>0.008</td>\n",
       "      <td>100.0</td>\n",
       "      <td>0.0</td>\n",
       "      <td>0.0</td>\n",
       "      <td>6.7</td>\n",
       "      <td>...</td>\n",
       "      <td>0.00541</td>\n",
       "      <td>0.021641</td>\n",
       "      <td>0.01082</td>\n",
       "      <td>0.00541</td>\n",
       "      <td>0.00541</td>\n",
       "      <td>0.043282</td>\n",
       "      <td>0.01082</td>\n",
       "      <td>0.027051</td>\n",
       "      <td>0.00541</td>\n",
       "      <td>0.00541</td>\n",
       "    </tr>\n",
       "    <tr>\n",
       "      <th>4</th>\n",
       "      <td>2023-04-25</td>\n",
       "      <td>49.4</td>\n",
       "      <td>48.8</td>\n",
       "      <td>90.99</td>\n",
       "      <td>46.8</td>\n",
       "      <td>0.000</td>\n",
       "      <td>0.0</td>\n",
       "      <td>0.0</td>\n",
       "      <td>0.0</td>\n",
       "      <td>6.7</td>\n",
       "      <td>...</td>\n",
       "      <td>0.00541</td>\n",
       "      <td>0.021641</td>\n",
       "      <td>0.01082</td>\n",
       "      <td>0.00541</td>\n",
       "      <td>0.00541</td>\n",
       "      <td>0.043282</td>\n",
       "      <td>0.01082</td>\n",
       "      <td>0.027051</td>\n",
       "      <td>0.00541</td>\n",
       "      <td>0.00541</td>\n",
       "    </tr>\n",
       "  </tbody>\n",
       "</table>\n",
       "<p>5 rows × 824 columns</p>\n",
       "</div>"
      ],
      "text/plain": [
       "        date  temp  feelslike  humidity   dew  precip  precipprob  snow  \\\n",
       "0 2023-04-25  51.7       51.7     96.09  50.6   0.031       100.0   0.0   \n",
       "1 2023-04-25  51.2       51.2     89.84  48.3   0.024       100.0   0.0   \n",
       "2 2023-04-25  50.3       50.3     90.41  47.6   0.020       100.0   0.0   \n",
       "3 2023-04-25  49.5       49.0     91.61  47.2   0.008       100.0   0.0   \n",
       "4 2023-04-25  49.4       48.8     90.99  46.8   0.000         0.0   0.0   \n",
       "\n",
       "   snowdepth  windgust  ...      800       801      802      803      804  \\\n",
       "0        0.0      10.1  ...  0.00541  0.021641  0.01082  0.00541  0.00541   \n",
       "1        0.0      10.7  ...  0.00541  0.021641  0.01082  0.00541  0.00541   \n",
       "2        0.0      10.3  ...  0.00541  0.021641  0.01082  0.00541  0.00541   \n",
       "3        0.0       6.7  ...  0.00541  0.021641  0.01082  0.00541  0.00541   \n",
       "4        0.0       6.7  ...  0.00541  0.021641  0.01082  0.00541  0.00541   \n",
       "\n",
       "        805      806       807      808      809  \n",
       "0  0.043282  0.01082  0.027051  0.00541  0.00541  \n",
       "1  0.043282  0.01082  0.027051  0.00541  0.00541  \n",
       "2  0.043282  0.01082  0.027051  0.00541  0.00541  \n",
       "3  0.043282  0.01082  0.027051  0.00541  0.00541  \n",
       "4  0.043282  0.01082  0.027051  0.00541  0.00541  \n",
       "\n",
       "[5 rows x 824 columns]"
      ]
     },
     "execution_count": 47,
     "metadata": {},
     "output_type": "execute_result"
    }
   ],
   "source": [
    "merged_df.head()"
   ]
  },
  {
   "cell_type": "code",
   "execution_count": 48,
   "id": "b0030021",
   "metadata": {},
   "outputs": [],
   "source": [
    "merged_df = merged_df.drop(columns=['date'])"
   ]
  },
  {
   "cell_type": "code",
   "execution_count": 49,
   "id": "2c727209",
   "metadata": {
    "scrolled": true
   },
   "outputs": [
    {
     "name": "stderr",
     "output_type": "stream",
     "text": [
      "/Users/nikita_voitishyn/opt/anaconda3/lib/python3.9/site-packages/sklearn/base.py:310: UserWarning: Trying to unpickle estimator DecisionTreeClassifier from version 1.2.2 when using version 0.24.2. This might lead to breaking code or invalid results. Use at your own risk.\n",
      "  warnings.warn(\n",
      "/Users/nikita_voitishyn/opt/anaconda3/lib/python3.9/site-packages/sklearn/base.py:310: UserWarning: Trying to unpickle estimator RandomForestClassifier from version 1.2.2 when using version 0.24.2. This might lead to breaking code or invalid results. Use at your own risk.\n",
      "  warnings.warn(\n"
     ]
    }
   ],
   "source": [
    "model = pickle.load(open(\"models/4_rf_3.1f.pkl\",\"rb\"))"
   ]
  },
  {
   "cell_type": "code",
   "execution_count": 50,
   "id": "0dcf5acb",
   "metadata": {},
   "outputs": [
    {
     "name": "stdout",
     "output_type": "stream",
     "text": [
      "<class 'pandas.core.frame.DataFrame'>\n",
      "Int64Index: 24 entries, 0 to 23\n",
      "Columns: 823 entries, temp to 809\n",
      "dtypes: float64(823)\n",
      "memory usage: 154.5 KB\n"
     ]
    }
   ],
   "source": [
    "merged_df.info()"
   ]
  },
  {
   "cell_type": "code",
   "execution_count": null,
   "id": "9c3b44a3",
   "metadata": {},
   "outputs": [],
   "source": [
    "pd.set_option('display.max_colwidth', None)\n",
    "pd.set_option('display.max_rows', None)"
   ]
  },
  {
   "cell_type": "code",
   "execution_count": null,
   "id": "4db9888e",
   "metadata": {},
   "outputs": [],
   "source": [
    "print(data_merged.columns)\n",
    "\n",
    "for column in data_merged.columns:\n",
    "    print(column)"
   ]
  },
  {
   "cell_type": "code",
   "execution_count": 52,
   "id": "8e662cef",
   "metadata": {},
   "outputs": [
    {
     "ename": "ValueError",
     "evalue": "X has 823 features, but DecisionTreeClassifier is expecting 7429 features as input.",
     "output_type": "error",
     "traceback": [
      "\u001b[0;31m---------------------------------------------------------------------------\u001b[0m",
      "\u001b[0;31mValueError\u001b[0m                                Traceback (most recent call last)",
      "\u001b[0;32m/var/folders/5y/jfstwx3n6x5bg_8mdp2wq81w0000gn/T/ipykernel_63279/1816091745.py\u001b[0m in \u001b[0;36m<module>\u001b[0;34m\u001b[0m\n\u001b[0;32m----> 1\u001b[0;31m \u001b[0mmodel\u001b[0m\u001b[0;34m.\u001b[0m\u001b[0mpredict\u001b[0m\u001b[0;34m(\u001b[0m\u001b[0mmerged_df\u001b[0m\u001b[0;34m)\u001b[0m\u001b[0;34m\u001b[0m\u001b[0;34m\u001b[0m\u001b[0m\n\u001b[0m",
      "\u001b[0;32m~/opt/anaconda3/lib/python3.9/site-packages/sklearn/ensemble/_forest.py\u001b[0m in \u001b[0;36mpredict\u001b[0;34m(self, X)\u001b[0m\n\u001b[1;32m    628\u001b[0m             \u001b[0mThe\u001b[0m \u001b[0mpredicted\u001b[0m \u001b[0mclasses\u001b[0m\u001b[0;34m.\u001b[0m\u001b[0;34m\u001b[0m\u001b[0;34m\u001b[0m\u001b[0m\n\u001b[1;32m    629\u001b[0m         \"\"\"\n\u001b[0;32m--> 630\u001b[0;31m         \u001b[0mproba\u001b[0m \u001b[0;34m=\u001b[0m \u001b[0mself\u001b[0m\u001b[0;34m.\u001b[0m\u001b[0mpredict_proba\u001b[0m\u001b[0;34m(\u001b[0m\u001b[0mX\u001b[0m\u001b[0;34m)\u001b[0m\u001b[0;34m\u001b[0m\u001b[0;34m\u001b[0m\u001b[0m\n\u001b[0m\u001b[1;32m    631\u001b[0m \u001b[0;34m\u001b[0m\u001b[0m\n\u001b[1;32m    632\u001b[0m         \u001b[0;32mif\u001b[0m \u001b[0mself\u001b[0m\u001b[0;34m.\u001b[0m\u001b[0mn_outputs_\u001b[0m \u001b[0;34m==\u001b[0m \u001b[0;36m1\u001b[0m\u001b[0;34m:\u001b[0m\u001b[0;34m\u001b[0m\u001b[0;34m\u001b[0m\u001b[0m\n",
      "\u001b[0;32m~/opt/anaconda3/lib/python3.9/site-packages/sklearn/ensemble/_forest.py\u001b[0m in \u001b[0;36mpredict_proba\u001b[0;34m(self, X)\u001b[0m\n\u001b[1;32m    672\u001b[0m         \u001b[0mcheck_is_fitted\u001b[0m\u001b[0;34m(\u001b[0m\u001b[0mself\u001b[0m\u001b[0;34m)\u001b[0m\u001b[0;34m\u001b[0m\u001b[0;34m\u001b[0m\u001b[0m\n\u001b[1;32m    673\u001b[0m         \u001b[0;31m# Check data\u001b[0m\u001b[0;34m\u001b[0m\u001b[0;34m\u001b[0m\u001b[0m\n\u001b[0;32m--> 674\u001b[0;31m         \u001b[0mX\u001b[0m \u001b[0;34m=\u001b[0m \u001b[0mself\u001b[0m\u001b[0;34m.\u001b[0m\u001b[0m_validate_X_predict\u001b[0m\u001b[0;34m(\u001b[0m\u001b[0mX\u001b[0m\u001b[0;34m)\u001b[0m\u001b[0;34m\u001b[0m\u001b[0;34m\u001b[0m\u001b[0m\n\u001b[0m\u001b[1;32m    675\u001b[0m \u001b[0;34m\u001b[0m\u001b[0m\n\u001b[1;32m    676\u001b[0m         \u001b[0;31m# Assign chunk of trees to jobs\u001b[0m\u001b[0;34m\u001b[0m\u001b[0;34m\u001b[0m\u001b[0m\n",
      "\u001b[0;32m~/opt/anaconda3/lib/python3.9/site-packages/sklearn/ensemble/_forest.py\u001b[0m in \u001b[0;36m_validate_X_predict\u001b[0;34m(self, X)\u001b[0m\n\u001b[1;32m    420\u001b[0m         \u001b[0mcheck_is_fitted\u001b[0m\u001b[0;34m(\u001b[0m\u001b[0mself\u001b[0m\u001b[0;34m)\u001b[0m\u001b[0;34m\u001b[0m\u001b[0;34m\u001b[0m\u001b[0m\n\u001b[1;32m    421\u001b[0m \u001b[0;34m\u001b[0m\u001b[0m\n\u001b[0;32m--> 422\u001b[0;31m         \u001b[0;32mreturn\u001b[0m \u001b[0mself\u001b[0m\u001b[0;34m.\u001b[0m\u001b[0mestimators_\u001b[0m\u001b[0;34m[\u001b[0m\u001b[0;36m0\u001b[0m\u001b[0;34m]\u001b[0m\u001b[0;34m.\u001b[0m\u001b[0m_validate_X_predict\u001b[0m\u001b[0;34m(\u001b[0m\u001b[0mX\u001b[0m\u001b[0;34m,\u001b[0m \u001b[0mcheck_input\u001b[0m\u001b[0;34m=\u001b[0m\u001b[0;32mTrue\u001b[0m\u001b[0;34m)\u001b[0m\u001b[0;34m\u001b[0m\u001b[0;34m\u001b[0m\u001b[0m\n\u001b[0m\u001b[1;32m    423\u001b[0m \u001b[0;34m\u001b[0m\u001b[0m\n\u001b[1;32m    424\u001b[0m     \u001b[0;34m@\u001b[0m\u001b[0mproperty\u001b[0m\u001b[0;34m\u001b[0m\u001b[0;34m\u001b[0m\u001b[0m\n",
      "\u001b[0;32m~/opt/anaconda3/lib/python3.9/site-packages/sklearn/tree/_classes.py\u001b[0m in \u001b[0;36m_validate_X_predict\u001b[0;34m(self, X, check_input)\u001b[0m\n\u001b[1;32m    405\u001b[0m         \u001b[0;34m\"\"\"Validate the training data on predict (probabilities).\"\"\"\u001b[0m\u001b[0;34m\u001b[0m\u001b[0;34m\u001b[0m\u001b[0m\n\u001b[1;32m    406\u001b[0m         \u001b[0;32mif\u001b[0m \u001b[0mcheck_input\u001b[0m\u001b[0;34m:\u001b[0m\u001b[0;34m\u001b[0m\u001b[0;34m\u001b[0m\u001b[0m\n\u001b[0;32m--> 407\u001b[0;31m             X = self._validate_data(X, dtype=DTYPE, accept_sparse=\"csr\",\n\u001b[0m\u001b[1;32m    408\u001b[0m                                     reset=False)\n\u001b[1;32m    409\u001b[0m             if issparse(X) and (X.indices.dtype != np.intc or\n",
      "\u001b[0;32m~/opt/anaconda3/lib/python3.9/site-packages/sklearn/base.py\u001b[0m in \u001b[0;36m_validate_data\u001b[0;34m(self, X, y, reset, validate_separately, **check_params)\u001b[0m\n\u001b[1;32m    435\u001b[0m \u001b[0;34m\u001b[0m\u001b[0m\n\u001b[1;32m    436\u001b[0m         \u001b[0;32mif\u001b[0m \u001b[0mcheck_params\u001b[0m\u001b[0;34m.\u001b[0m\u001b[0mget\u001b[0m\u001b[0;34m(\u001b[0m\u001b[0;34m'ensure_2d'\u001b[0m\u001b[0;34m,\u001b[0m \u001b[0;32mTrue\u001b[0m\u001b[0;34m)\u001b[0m\u001b[0;34m:\u001b[0m\u001b[0;34m\u001b[0m\u001b[0;34m\u001b[0m\u001b[0m\n\u001b[0;32m--> 437\u001b[0;31m             \u001b[0mself\u001b[0m\u001b[0;34m.\u001b[0m\u001b[0m_check_n_features\u001b[0m\u001b[0;34m(\u001b[0m\u001b[0mX\u001b[0m\u001b[0;34m,\u001b[0m \u001b[0mreset\u001b[0m\u001b[0;34m=\u001b[0m\u001b[0mreset\u001b[0m\u001b[0;34m)\u001b[0m\u001b[0;34m\u001b[0m\u001b[0;34m\u001b[0m\u001b[0m\n\u001b[0m\u001b[1;32m    438\u001b[0m \u001b[0;34m\u001b[0m\u001b[0m\n\u001b[1;32m    439\u001b[0m         \u001b[0;32mreturn\u001b[0m \u001b[0mout\u001b[0m\u001b[0;34m\u001b[0m\u001b[0;34m\u001b[0m\u001b[0m\n",
      "\u001b[0;32m~/opt/anaconda3/lib/python3.9/site-packages/sklearn/base.py\u001b[0m in \u001b[0;36m_check_n_features\u001b[0;34m(self, X, reset)\u001b[0m\n\u001b[1;32m    363\u001b[0m \u001b[0;34m\u001b[0m\u001b[0m\n\u001b[1;32m    364\u001b[0m         \u001b[0;32mif\u001b[0m \u001b[0mn_features\u001b[0m \u001b[0;34m!=\u001b[0m \u001b[0mself\u001b[0m\u001b[0;34m.\u001b[0m\u001b[0mn_features_in_\u001b[0m\u001b[0;34m:\u001b[0m\u001b[0;34m\u001b[0m\u001b[0;34m\u001b[0m\u001b[0m\n\u001b[0;32m--> 365\u001b[0;31m             raise ValueError(\n\u001b[0m\u001b[1;32m    366\u001b[0m                 \u001b[0;34mf\"X has {n_features} features, but {self.__class__.__name__} \"\u001b[0m\u001b[0;34m\u001b[0m\u001b[0;34m\u001b[0m\u001b[0m\n\u001b[1;32m    367\u001b[0m                 f\"is expecting {self.n_features_in_} features as input.\")\n",
      "\u001b[0;31mValueError\u001b[0m: X has 823 features, but DecisionTreeClassifier is expecting 7429 features as input."
     ]
    }
   ],
   "source": [
    "model.predict(merged_df)"
   ]
  }
 ],
 "metadata": {
  "kernelspec": {
   "display_name": "Python 3 (ipykernel)",
   "language": "python",
   "name": "python3"
  },
  "language_info": {
   "codemirror_mode": {
    "name": "ipython",
    "version": 3
   },
   "file_extension": ".py",
   "mimetype": "text/x-python",
   "name": "python",
   "nbconvert_exporter": "python",
   "pygments_lexer": "ipython3",
   "version": "3.9.7"
  }
 },
 "nbformat": 4,
 "nbformat_minor": 5
}
