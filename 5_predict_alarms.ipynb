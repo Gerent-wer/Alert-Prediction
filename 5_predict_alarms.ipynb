{
 "cells": [
  {
   "cell_type": "code",
   "execution_count": 1,
   "id": "1b89555a",
   "metadata": {},
   "outputs": [],
   "source": [
    "# import libraries\n",
    "\n",
    "from utils import text_processing\n",
    "from utils import get_weather\n",
    "import datetime\n",
    "\n",
    "import requests\n",
    "\n",
    "import pandas as pd\n",
    "\n",
    "from bs4 import BeautifulSoup\n",
    "\n",
    "import re\n",
    "\n",
    "import nltk\n",
    "import os\n",
    "import string\n",
    "import numpy as np\n",
    "import copy \n",
    "import pickle\n",
    "import re\n",
    "import math\n",
    "\n",
    "from sklearn.feature_extraction.text import CountVectorizer, TfidfVectorizer\n",
    "from sklearn.feature_extraction.text import TfidfTransformer\n",
    "\n",
    "\n",
    "\n",
    "import pandas as pd\n",
    "\n",
    "import scipy\n",
    "from scipy import sparse\n",
    "\n",
    "import numpy as np\n",
    "from sklearn.model_selection import TimeSeriesSplit\n",
    "\n",
    "import pickle"
   ]
  },
  {
   "cell_type": "code",
   "execution_count": 2,
   "id": "7cb86e69",
   "metadata": {},
   "outputs": [],
   "source": [
    "# get article from yesterday\n",
    "\n",
    "#https://understandingwar.org/backgrounder/russian-offensive-campaign-assessment-april-23-2023\n",
    "\n",
    "today = datetime.date.today()\n",
    "yesterday = today - datetime.timedelta(days=1)\n",
    "\n",
    "yesterday_day = yesterday.day\n",
    "yesterday_month = yesterday.month\n",
    "yesterday_year = yesterday.year\n"
   ]
  },
  {
   "cell_type": "code",
   "execution_count": 3,
   "id": "80028a2b",
   "metadata": {},
   "outputs": [],
   "source": [
    "file = text_processing.get_article_from_yesterday(yesterday_day,yesterday_month,yesterday_year)"
   ]
  },
  {
   "cell_type": "code",
   "execution_count": 4,
   "id": "03f1ec1e",
   "metadata": {},
   "outputs": [],
   "source": [
    "data = text_processing.read_html(file)"
   ]
  },
  {
   "cell_type": "code",
   "execution_count": 5,
   "id": "41d5933d",
   "metadata": {},
   "outputs": [],
   "source": [
    "#pd.set_option('display.max_colwidth', None)\n",
    "#pd.set_option('display.max_rows', None)"
   ]
  },
  {
   "cell_type": "code",
   "execution_count": 6,
   "id": "42911601",
   "metadata": {},
   "outputs": [],
   "source": [
    "def preprocess_all_text(data):\n",
    "    pattern = \"\\[(\\d+)\\]\"\n",
    "\n",
    "\n",
    "    data['main_html_v1'] = data['main_html'].apply(lambda x: re.sub(pattern,\"\",str(x)))\n",
    "    data['main_html_v2'] = data['main_html_v1'].apply(lambda x: re.sub(r'http(\\S+.*\\s)',\"\",x))\n",
    "    data['main_html_v3'] = data['main_html_v2'].apply(lambda x: re.sub(r'2022|2023|©2022|©2023|\\xa0|\\n',\"\",x))\n",
    "\n",
    "    data['main_html_v4'] = data['main_html_v3'].apply(lambda x: BeautifulSoup(x).text)\n",
    "    \n",
    "    data['main_html_v5'] = data['main_html_v4'].apply(lambda x: text_processing.remove_names_and_dates(x))\n",
    "    \n",
    "    return data"
   ]
  },
  {
   "cell_type": "code",
   "execution_count": 7,
   "id": "f59f0ab2",
   "metadata": {},
   "outputs": [],
   "source": [
    "data_preprocessed = preprocess_all_text(data)"
   ]
  },
  {
   "cell_type": "code",
   "execution_count": 8,
   "id": "d94c9cc9",
   "metadata": {},
   "outputs": [],
   "source": [
    "#data_preprocessed.head()"
   ]
  },
  {
   "cell_type": "code",
   "execution_count": 9,
   "id": "2af6b1be",
   "metadata": {},
   "outputs": [],
   "source": [
    "data_preprocessed = data_preprocessed.drop(['main_html_v1','main_html_v2','main_html_v3','main_html_v4'],axis=1)"
   ]
  },
  {
   "cell_type": "code",
   "execution_count": 10,
   "id": "5129a561",
   "metadata": {},
   "outputs": [
    {
     "name": "stderr",
     "output_type": "stream",
     "text": [
      "[nltk_data] Downloading package stopwords to\n",
      "[nltk_data]     /Users/nikita_voitishyn/nltk_data...\n",
      "[nltk_data]   Package stopwords is already up-to-date!\n"
     ]
    },
    {
     "data": {
      "text/plain": [
       "True"
      ]
     },
     "execution_count": 10,
     "metadata": {},
     "output_type": "execute_result"
    }
   ],
   "source": [
    "nltk.download('stopwords')\n"
   ]
  },
  {
   "cell_type": "code",
   "execution_count": 11,
   "id": "3abf9546",
   "metadata": {},
   "outputs": [],
   "source": [
    "data_preprocessed['report_text_lemm'] = data_preprocessed['main_html_v5'].apply(lambda x: text_processing.preprocess(x,\"lemm\"))\n",
    "data_preprocessed['report_text_stemm'] = data_preprocessed['main_html_v5'].apply(lambda x: text_processing.preprocess(x,\"stemm\"))"
   ]
  },
  {
   "cell_type": "code",
   "execution_count": 12,
   "id": "92cd8311",
   "metadata": {},
   "outputs": [
    {
     "data": {
      "text/html": [
       "<div>\n",
       "<style scoped>\n",
       "    .dataframe tbody tr th:only-of-type {\n",
       "        vertical-align: middle;\n",
       "    }\n",
       "\n",
       "    .dataframe tbody tr th {\n",
       "        vertical-align: top;\n",
       "    }\n",
       "\n",
       "    .dataframe thead th {\n",
       "        text-align: right;\n",
       "    }\n",
       "</style>\n",
       "<table border=\"1\" class=\"dataframe\">\n",
       "  <thead>\n",
       "    <tr style=\"text-align: right;\">\n",
       "      <th></th>\n",
       "      <th>date</th>\n",
       "      <th>short_url</th>\n",
       "      <th>title</th>\n",
       "      <th>text_title</th>\n",
       "      <th>full_url</th>\n",
       "      <th>main_html</th>\n",
       "      <th>main_html_v5</th>\n",
       "      <th>report_text_lemm</th>\n",
       "      <th>report_text_stemm</th>\n",
       "    </tr>\n",
       "  </thead>\n",
       "  <tbody>\n",
       "    <tr>\n",
       "      <th>0</th>\n",
       "      <td>2023-04-25</td>\n",
       "      <td>russian_offensive_campaign_assessment_April_25...</td>\n",
       "      <td>Russian Offensive Campaign Assessment, April 2...</td>\n",
       "      <td>Russian Offensive Campaign Assessment, April 2...</td>\n",
       "      <td>/backgrounder/russian-offensive-campaign-asses...</td>\n",
       "      <td>[[[ , &lt;p align=\"center\" style=\"text-align: lef...</td>\n",
       "      <td>Russian Offensive Campaign Assessment, April ...</td>\n",
       "      <td>russian offens campaign ass april twenty five...</td>\n",
       "      <td>russian offen campaign assess april twenti fi...</td>\n",
       "    </tr>\n",
       "  </tbody>\n",
       "</table>\n",
       "</div>"
      ],
      "text/plain": [
       "        date                                          short_url  \\\n",
       "0 2023-04-25  russian_offensive_campaign_assessment_April_25...   \n",
       "\n",
       "                                               title  \\\n",
       "0  Russian Offensive Campaign Assessment, April 2...   \n",
       "\n",
       "                                          text_title  \\\n",
       "0  Russian Offensive Campaign Assessment, April 2...   \n",
       "\n",
       "                                            full_url  \\\n",
       "0  /backgrounder/russian-offensive-campaign-asses...   \n",
       "\n",
       "                                           main_html  \\\n",
       "0  [[[ , <p align=\"center\" style=\"text-align: lef...   \n",
       "\n",
       "                                        main_html_v5  \\\n",
       "0   Russian Offensive Campaign Assessment, April ...   \n",
       "\n",
       "                                    report_text_lemm  \\\n",
       "0   russian offens campaign ass april twenty five...   \n",
       "\n",
       "                                   report_text_stemm  \n",
       "0   russian offen campaign assess april twenti fi...  "
      ]
     },
     "execution_count": 12,
     "metadata": {},
     "output_type": "execute_result"
    }
   ],
   "source": [
    "data_preprocessed.head()"
   ]
  },
  {
   "cell_type": "code",
   "execution_count": 13,
   "id": "d21b756c",
   "metadata": {},
   "outputs": [],
   "source": [
    "docs = data_preprocessed['report_text_lemm'].tolist()"
   ]
  },
  {
   "cell_type": "code",
   "execution_count": 14,
   "id": "dce417b7",
   "metadata": {},
   "outputs": [],
   "source": [
    "#tfidf = pickle.load(open(\"models/tfidf_transformer_v1.pkl\",\"rb\"))\n",
    "#cv = pickle.load(open(\"models/count_vectorizer_v1.pkl\",\"rb\"))"
   ]
  },
  {
   "cell_type": "code",
   "execution_count": 15,
   "id": "34b23732",
   "metadata": {},
   "outputs": [],
   "source": [
    "# CountVectorizer + tfidf:create a vecror with numbers\n",
    "\n",
    "cv = CountVectorizer()\n",
    "word_count_vector = cv.fit_transform(docs)\n",
    "\n",
    "word_count_vector.shape\n",
    "\n",
    "tfidf_transformer = TfidfTransformer(smooth_idf = True, use_idf = True)\n",
    "tfidf_transformer.fit(word_count_vector)\n",
    "\n",
    "tf_idf_vector = tfidf_transformer.transform(word_count_vector)\n",
    "\n",
    "#<340x7401 sparse matrix of type '<class 'numpy.float64'>'\n",
    "#\twith 213470 stored elements in Compressed Sparse Row format>"
   ]
  },
  {
   "cell_type": "code",
   "execution_count": 16,
   "id": "6067ab90",
   "metadata": {},
   "outputs": [
    {
     "data": {
      "text/plain": [
       "<1x840 sparse matrix of type '<class 'numpy.float64'>'\n",
       "\twith 840 stored elements in Compressed Sparse Row format>"
      ]
     },
     "execution_count": 16,
     "metadata": {},
     "output_type": "execute_result"
    }
   ],
   "source": [
    "tf_idf_vector"
   ]
  },
  {
   "cell_type": "code",
   "execution_count": 17,
   "id": "37b6c871",
   "metadata": {},
   "outputs": [
    {
     "data": {
      "text/plain": [
       "<1x840 sparse matrix of type '<class 'numpy.float64'>'\n",
       "\twith 840 stored elements in Compressed Sparse Row format>"
      ]
     },
     "execution_count": 17,
     "metadata": {},
     "output_type": "execute_result"
    }
   ],
   "source": [
    "feature_names = cv.get_feature_names()\n",
    "tf_idf_vector"
   ]
  },
  {
   "cell_type": "code",
   "execution_count": 18,
   "id": "fab2fc78",
   "metadata": {},
   "outputs": [],
   "source": [
    "data_preprocessed['keywords'] = data_preprocessed['report_text_stemm'].apply(lambda x: text_processing.convert_doc_to_vector(x,feature_names,tf_idf_vector))"
   ]
  },
  {
   "cell_type": "code",
   "execution_count": 19,
   "id": "95ea033d",
   "metadata": {},
   "outputs": [
    {
     "data": {
      "text/plain": [
       "{'russian': 0.708,\n",
       " 'forc': 0.275,\n",
       " 'ukrainian': 0.245,\n",
       " 'twenty': 0.168,\n",
       " 'april': 0.153,\n",
       " 'claim': 0.132,\n",
       " 'militari': 0.127,\n",
       " 'five': 0.122,\n",
       " 'report': 0.107,\n",
       " 'two': 0.092}"
      ]
     },
     "execution_count": 19,
     "metadata": {},
     "output_type": "execute_result"
    }
   ],
   "source": [
    "data_preprocessed['keywords'][0]"
   ]
  },
  {
   "cell_type": "code",
   "execution_count": 20,
   "id": "bf547746",
   "metadata": {},
   "outputs": [
    {
     "data": {
      "text/html": [
       "<div>\n",
       "<style scoped>\n",
       "    .dataframe tbody tr th:only-of-type {\n",
       "        vertical-align: middle;\n",
       "    }\n",
       "\n",
       "    .dataframe tbody tr th {\n",
       "        vertical-align: top;\n",
       "    }\n",
       "\n",
       "    .dataframe thead th {\n",
       "        text-align: right;\n",
       "    }\n",
       "</style>\n",
       "<table border=\"1\" class=\"dataframe\">\n",
       "  <thead>\n",
       "    <tr style=\"text-align: right;\">\n",
       "      <th></th>\n",
       "      <th>date</th>\n",
       "      <th>short_url</th>\n",
       "      <th>title</th>\n",
       "      <th>text_title</th>\n",
       "      <th>full_url</th>\n",
       "      <th>main_html</th>\n",
       "      <th>main_html_v5</th>\n",
       "      <th>report_text_lemm</th>\n",
       "      <th>report_text_stemm</th>\n",
       "      <th>keywords</th>\n",
       "    </tr>\n",
       "  </thead>\n",
       "  <tbody>\n",
       "    <tr>\n",
       "      <th>0</th>\n",
       "      <td>2023-04-25</td>\n",
       "      <td>russian_offensive_campaign_assessment_April_25...</td>\n",
       "      <td>Russian Offensive Campaign Assessment, April 2...</td>\n",
       "      <td>Russian Offensive Campaign Assessment, April 2...</td>\n",
       "      <td>/backgrounder/russian-offensive-campaign-asses...</td>\n",
       "      <td>[[[ , &lt;p align=\"center\" style=\"text-align: lef...</td>\n",
       "      <td>Russian Offensive Campaign Assessment, April ...</td>\n",
       "      <td>russian offens campaign ass april twenty five...</td>\n",
       "      <td>russian offen campaign assess april twenti fi...</td>\n",
       "      <td>{'russian': 0.708, 'forc': 0.275, 'ukrainian':...</td>\n",
       "    </tr>\n",
       "  </tbody>\n",
       "</table>\n",
       "</div>"
      ],
      "text/plain": [
       "        date                                          short_url  \\\n",
       "0 2023-04-25  russian_offensive_campaign_assessment_April_25...   \n",
       "\n",
       "                                               title  \\\n",
       "0  Russian Offensive Campaign Assessment, April 2...   \n",
       "\n",
       "                                          text_title  \\\n",
       "0  Russian Offensive Campaign Assessment, April 2...   \n",
       "\n",
       "                                            full_url  \\\n",
       "0  /backgrounder/russian-offensive-campaign-asses...   \n",
       "\n",
       "                                           main_html  \\\n",
       "0  [[[ , <p align=\"center\" style=\"text-align: lef...   \n",
       "\n",
       "                                        main_html_v5  \\\n",
       "0   Russian Offensive Campaign Assessment, April ...   \n",
       "\n",
       "                                    report_text_lemm  \\\n",
       "0   russian offens campaign ass april twenty five...   \n",
       "\n",
       "                                   report_text_stemm  \\\n",
       "0   russian offen campaign assess april twenti fi...   \n",
       "\n",
       "                                            keywords  \n",
       "0  {'russian': 0.708, 'forc': 0.275, 'ukrainian':...  "
      ]
     },
     "execution_count": 20,
     "metadata": {},
     "output_type": "execute_result"
    }
   ],
   "source": [
    "data_preprocessed.head()"
   ]
  },
  {
   "cell_type": "markdown",
   "id": "e2d4c886",
   "metadata": {},
   "source": [
    "#### Part of scropt: 3_final_preprocess"
   ]
  },
  {
   "cell_type": "code",
   "execution_count": 21,
   "id": "f151948d",
   "metadata": {},
   "outputs": [],
   "source": [
    "data_preprocessed[\"date_datetime\"] = pd.to_datetime(data_preprocessed[\"date\"])\n",
    "data_preprocessed['date_tomorrow_datetime'] = data_preprocessed['date_datetime'].apply(lambda x: x+datetime.timedelta(days=1))\n",
    "data_preprocessed = data_preprocessed.rename(columns = {\"date_datetime\":\"report_date\"})"
   ]
  },
  {
   "cell_type": "code",
   "execution_count": 22,
   "id": "6bf4e723",
   "metadata": {},
   "outputs": [
    {
     "name": "stdout",
     "output_type": "stream",
     "text": [
      "Weather data for the \n",
      "region Дніпропетровщина; \n",
      "start_date 2023-04-27; \n",
      "end_date 2023-04-27; \n",
      "is ready\n"
     ]
    }
   ],
   "source": [
    "# погода на всі регіони треба: модифікувати скрипт get_weather?\n",
    "\n",
    "region = \"Дніпропетровщина\"\n",
    "today_date = \"2023-04-27\"\n",
    "\n",
    "weather_for_12_hours = get_weather.get_weather_for_12_hours(region,today_date)"
   ]
  },
  {
   "cell_type": "code",
   "execution_count": 23,
   "id": "281b2611",
   "metadata": {},
   "outputs": [
    {
     "data": {
      "text/html": [
       "<div>\n",
       "<style scoped>\n",
       "    .dataframe tbody tr th:only-of-type {\n",
       "        vertical-align: middle;\n",
       "    }\n",
       "\n",
       "    .dataframe tbody tr th {\n",
       "        vertical-align: top;\n",
       "    }\n",
       "\n",
       "    .dataframe thead th {\n",
       "        text-align: right;\n",
       "    }\n",
       "</style>\n",
       "<table border=\"1\" class=\"dataframe\">\n",
       "  <thead>\n",
       "    <tr style=\"text-align: right;\">\n",
       "      <th></th>\n",
       "      <th>datetime</th>\n",
       "      <th>datetimeEpoch</th>\n",
       "      <th>temp</th>\n",
       "      <th>feelslike</th>\n",
       "      <th>humidity</th>\n",
       "      <th>dew</th>\n",
       "      <th>precip</th>\n",
       "      <th>precipprob</th>\n",
       "      <th>snow</th>\n",
       "      <th>snowdepth</th>\n",
       "      <th>...</th>\n",
       "      <th>visibility</th>\n",
       "      <th>cloudcover</th>\n",
       "      <th>solarradiation</th>\n",
       "      <th>solarenergy</th>\n",
       "      <th>uvindex</th>\n",
       "      <th>severerisk</th>\n",
       "      <th>conditions</th>\n",
       "      <th>icon</th>\n",
       "      <th>stations</th>\n",
       "      <th>source</th>\n",
       "    </tr>\n",
       "  </thead>\n",
       "  <tbody>\n",
       "    <tr>\n",
       "      <th>0</th>\n",
       "      <td>00:00:00</td>\n",
       "      <td>1682542800</td>\n",
       "      <td>55.1</td>\n",
       "      <td>55.1</td>\n",
       "      <td>63.76</td>\n",
       "      <td>43.1</td>\n",
       "      <td>0.000</td>\n",
       "      <td>9.5</td>\n",
       "      <td>0.0</td>\n",
       "      <td>0.0</td>\n",
       "      <td>...</td>\n",
       "      <td>15.0</td>\n",
       "      <td>91.2</td>\n",
       "      <td>0.0</td>\n",
       "      <td>NaN</td>\n",
       "      <td>0.0</td>\n",
       "      <td>10.0</td>\n",
       "      <td>Overcast</td>\n",
       "      <td>cloudy</td>\n",
       "      <td>None</td>\n",
       "      <td>fcst</td>\n",
       "    </tr>\n",
       "    <tr>\n",
       "      <th>1</th>\n",
       "      <td>01:00:00</td>\n",
       "      <td>1682546400</td>\n",
       "      <td>54.9</td>\n",
       "      <td>54.9</td>\n",
       "      <td>66.88</td>\n",
       "      <td>44.1</td>\n",
       "      <td>0.000</td>\n",
       "      <td>9.5</td>\n",
       "      <td>0.0</td>\n",
       "      <td>0.0</td>\n",
       "      <td>...</td>\n",
       "      <td>15.0</td>\n",
       "      <td>89.2</td>\n",
       "      <td>0.0</td>\n",
       "      <td>NaN</td>\n",
       "      <td>0.0</td>\n",
       "      <td>10.0</td>\n",
       "      <td>Partially cloudy</td>\n",
       "      <td>partly-cloudy-night</td>\n",
       "      <td>None</td>\n",
       "      <td>fcst</td>\n",
       "    </tr>\n",
       "    <tr>\n",
       "      <th>2</th>\n",
       "      <td>02:00:00</td>\n",
       "      <td>1682550000</td>\n",
       "      <td>54.6</td>\n",
       "      <td>54.6</td>\n",
       "      <td>71.58</td>\n",
       "      <td>45.6</td>\n",
       "      <td>0.000</td>\n",
       "      <td>9.5</td>\n",
       "      <td>0.0</td>\n",
       "      <td>0.0</td>\n",
       "      <td>...</td>\n",
       "      <td>6.9</td>\n",
       "      <td>80.0</td>\n",
       "      <td>0.0</td>\n",
       "      <td>NaN</td>\n",
       "      <td>0.0</td>\n",
       "      <td>10.0</td>\n",
       "      <td>Partially cloudy</td>\n",
       "      <td>partly-cloudy-night</td>\n",
       "      <td>None</td>\n",
       "      <td>fcst</td>\n",
       "    </tr>\n",
       "    <tr>\n",
       "      <th>3</th>\n",
       "      <td>03:00:00</td>\n",
       "      <td>1682553600</td>\n",
       "      <td>53.7</td>\n",
       "      <td>53.7</td>\n",
       "      <td>76.53</td>\n",
       "      <td>46.5</td>\n",
       "      <td>0.000</td>\n",
       "      <td>9.5</td>\n",
       "      <td>0.0</td>\n",
       "      <td>0.0</td>\n",
       "      <td>...</td>\n",
       "      <td>15.0</td>\n",
       "      <td>100.0</td>\n",
       "      <td>0.0</td>\n",
       "      <td>NaN</td>\n",
       "      <td>0.0</td>\n",
       "      <td>10.0</td>\n",
       "      <td>Overcast</td>\n",
       "      <td>cloudy</td>\n",
       "      <td>None</td>\n",
       "      <td>fcst</td>\n",
       "    </tr>\n",
       "    <tr>\n",
       "      <th>4</th>\n",
       "      <td>04:00:00</td>\n",
       "      <td>1682557200</td>\n",
       "      <td>53.5</td>\n",
       "      <td>53.5</td>\n",
       "      <td>76.51</td>\n",
       "      <td>46.3</td>\n",
       "      <td>0.004</td>\n",
       "      <td>14.3</td>\n",
       "      <td>0.0</td>\n",
       "      <td>0.0</td>\n",
       "      <td>...</td>\n",
       "      <td>14.5</td>\n",
       "      <td>100.0</td>\n",
       "      <td>0.0</td>\n",
       "      <td>NaN</td>\n",
       "      <td>0.0</td>\n",
       "      <td>10.0</td>\n",
       "      <td>Overcast</td>\n",
       "      <td>cloudy</td>\n",
       "      <td>None</td>\n",
       "      <td>fcst</td>\n",
       "    </tr>\n",
       "  </tbody>\n",
       "</table>\n",
       "<p>5 rows × 25 columns</p>\n",
       "</div>"
      ],
      "text/plain": [
       "   datetime  datetimeEpoch  temp  feelslike  humidity   dew  precip  \\\n",
       "0  00:00:00     1682542800  55.1       55.1     63.76  43.1   0.000   \n",
       "1  01:00:00     1682546400  54.9       54.9     66.88  44.1   0.000   \n",
       "2  02:00:00     1682550000  54.6       54.6     71.58  45.6   0.000   \n",
       "3  03:00:00     1682553600  53.7       53.7     76.53  46.5   0.000   \n",
       "4  04:00:00     1682557200  53.5       53.5     76.51  46.3   0.004   \n",
       "\n",
       "   precipprob  snow  snowdepth  ... visibility  cloudcover  solarradiation  \\\n",
       "0         9.5   0.0        0.0  ...       15.0        91.2             0.0   \n",
       "1         9.5   0.0        0.0  ...       15.0        89.2             0.0   \n",
       "2         9.5   0.0        0.0  ...        6.9        80.0             0.0   \n",
       "3         9.5   0.0        0.0  ...       15.0       100.0             0.0   \n",
       "4        14.3   0.0        0.0  ...       14.5       100.0             0.0   \n",
       "\n",
       "   solarenergy  uvindex  severerisk        conditions                 icon  \\\n",
       "0          NaN      0.0        10.0          Overcast               cloudy   \n",
       "1          NaN      0.0        10.0  Partially cloudy  partly-cloudy-night   \n",
       "2          NaN      0.0        10.0  Partially cloudy  partly-cloudy-night   \n",
       "3          NaN      0.0        10.0          Overcast               cloudy   \n",
       "4          NaN      0.0        10.0          Overcast               cloudy   \n",
       "\n",
       "   stations  source  \n",
       "0      None    fcst  \n",
       "1      None    fcst  \n",
       "2      None    fcst  \n",
       "3      None    fcst  \n",
       "4      None    fcst  \n",
       "\n",
       "[5 rows x 25 columns]"
      ]
     },
     "execution_count": 23,
     "metadata": {},
     "output_type": "execute_result"
    }
   ],
   "source": [
    "weather_for_12_hours.head()"
   ]
  },
  {
   "cell_type": "code",
   "execution_count": 24,
   "id": "d0d77bf6",
   "metadata": {},
   "outputs": [],
   "source": [
    "weather_for_12_hours['date'] = today_date\n",
    "weather_for_12_hours[\"day_datetime\"] = pd.to_datetime(weather_for_12_hours[\"date\"])"
   ]
  },
  {
   "cell_type": "code",
   "execution_count": 25,
   "id": "c34df099",
   "metadata": {},
   "outputs": [
    {
     "data": {
      "text/plain": [
       "Index(['datetime', 'datetimeEpoch', 'temp', 'feelslike', 'humidity', 'dew',\n",
       "       'precip', 'precipprob', 'snow', 'snowdepth', 'preciptype', 'windgust',\n",
       "       'windspeed', 'winddir', 'pressure', 'visibility', 'cloudcover',\n",
       "       'solarradiation', 'solarenergy', 'uvindex', 'severerisk', 'conditions',\n",
       "       'icon', 'stations', 'source', 'date', 'day_datetime'],\n",
       "      dtype='object')"
      ]
     },
     "execution_count": 25,
     "metadata": {},
     "output_type": "execute_result"
    }
   ],
   "source": [
    "weather_for_12_hours.columns"
   ]
  },
  {
   "cell_type": "code",
   "execution_count": 26,
   "id": "a1a31caa",
   "metadata": {},
   "outputs": [
    {
     "data": {
      "text/html": [
       "<div>\n",
       "<style scoped>\n",
       "    .dataframe tbody tr th:only-of-type {\n",
       "        vertical-align: middle;\n",
       "    }\n",
       "\n",
       "    .dataframe tbody tr th {\n",
       "        vertical-align: top;\n",
       "    }\n",
       "\n",
       "    .dataframe thead th {\n",
       "        text-align: right;\n",
       "    }\n",
       "</style>\n",
       "<table border=\"1\" class=\"dataframe\">\n",
       "  <thead>\n",
       "    <tr style=\"text-align: right;\">\n",
       "      <th></th>\n",
       "      <th>date</th>\n",
       "      <th>short_url</th>\n",
       "      <th>title</th>\n",
       "      <th>text_title</th>\n",
       "      <th>full_url</th>\n",
       "      <th>main_html</th>\n",
       "      <th>main_html_v5</th>\n",
       "      <th>report_text_lemm</th>\n",
       "      <th>report_text_stemm</th>\n",
       "      <th>keywords</th>\n",
       "      <th>report_date</th>\n",
       "      <th>date_tomorrow_datetime</th>\n",
       "    </tr>\n",
       "  </thead>\n",
       "  <tbody>\n",
       "    <tr>\n",
       "      <th>0</th>\n",
       "      <td>2023-04-25</td>\n",
       "      <td>russian_offensive_campaign_assessment_April_25...</td>\n",
       "      <td>Russian Offensive Campaign Assessment, April 2...</td>\n",
       "      <td>Russian Offensive Campaign Assessment, April 2...</td>\n",
       "      <td>/backgrounder/russian-offensive-campaign-asses...</td>\n",
       "      <td>[[[ , &lt;p align=\"center\" style=\"text-align: lef...</td>\n",
       "      <td>Russian Offensive Campaign Assessment, April ...</td>\n",
       "      <td>russian offens campaign ass april twenty five...</td>\n",
       "      <td>russian offen campaign assess april twenti fi...</td>\n",
       "      <td>{'russian': 0.708, 'forc': 0.275, 'ukrainian':...</td>\n",
       "      <td>2023-04-25</td>\n",
       "      <td>2023-04-26</td>\n",
       "    </tr>\n",
       "  </tbody>\n",
       "</table>\n",
       "</div>"
      ],
      "text/plain": [
       "        date                                          short_url  \\\n",
       "0 2023-04-25  russian_offensive_campaign_assessment_April_25...   \n",
       "\n",
       "                                               title  \\\n",
       "0  Russian Offensive Campaign Assessment, April 2...   \n",
       "\n",
       "                                          text_title  \\\n",
       "0  Russian Offensive Campaign Assessment, April 2...   \n",
       "\n",
       "                                            full_url  \\\n",
       "0  /backgrounder/russian-offensive-campaign-asses...   \n",
       "\n",
       "                                           main_html  \\\n",
       "0  [[[ , <p align=\"center\" style=\"text-align: lef...   \n",
       "\n",
       "                                        main_html_v5  \\\n",
       "0   Russian Offensive Campaign Assessment, April ...   \n",
       "\n",
       "                                    report_text_lemm  \\\n",
       "0   russian offens campaign ass april twenty five...   \n",
       "\n",
       "                                   report_text_stemm  \\\n",
       "0   russian offen campaign assess april twenti fi...   \n",
       "\n",
       "                                            keywords report_date  \\\n",
       "0  {'russian': 0.708, 'forc': 0.275, 'ukrainian':...  2023-04-25   \n",
       "\n",
       "  date_tomorrow_datetime  \n",
       "0             2023-04-26  "
      ]
     },
     "execution_count": 26,
     "metadata": {},
     "output_type": "execute_result"
    }
   ],
   "source": [
    "data_preprocessed.head()"
   ]
  },
  {
   "cell_type": "code",
   "execution_count": 27,
   "id": "637f2486",
   "metadata": {},
   "outputs": [],
   "source": [
    "#data_preprocesdf_isw_short = data_preprocessed[['date','date_tomorrow_datetime','keywords','report_text_lemm']]"
   ]
  },
  {
   "cell_type": "code",
   "execution_count": 28,
   "id": "72ff12f6",
   "metadata": {},
   "outputs": [],
   "source": [
    "data_vectorised = tf_idf_vector.toarray()\n",
    "vectors_df = pd.DataFrame(data_vectorised)\n",
    "vectors_df['date'] = pd.to_datetime(today)\n"
   ]
  },
  {
   "cell_type": "code",
   "execution_count": 29,
   "id": "2e66d70b",
   "metadata": {},
   "outputs": [
    {
     "data": {
      "text/html": [
       "<div>\n",
       "<style scoped>\n",
       "    .dataframe tbody tr th:only-of-type {\n",
       "        vertical-align: middle;\n",
       "    }\n",
       "\n",
       "    .dataframe tbody tr th {\n",
       "        vertical-align: top;\n",
       "    }\n",
       "\n",
       "    .dataframe thead th {\n",
       "        text-align: right;\n",
       "    }\n",
       "</style>\n",
       "<table border=\"1\" class=\"dataframe\">\n",
       "  <thead>\n",
       "    <tr style=\"text-align: right;\">\n",
       "      <th></th>\n",
       "      <th>0</th>\n",
       "      <th>1</th>\n",
       "      <th>2</th>\n",
       "      <th>3</th>\n",
       "      <th>4</th>\n",
       "      <th>5</th>\n",
       "      <th>6</th>\n",
       "      <th>7</th>\n",
       "      <th>8</th>\n",
       "      <th>9</th>\n",
       "      <th>...</th>\n",
       "      <th>831</th>\n",
       "      <th>832</th>\n",
       "      <th>833</th>\n",
       "      <th>834</th>\n",
       "      <th>835</th>\n",
       "      <th>836</th>\n",
       "      <th>837</th>\n",
       "      <th>838</th>\n",
       "      <th>839</th>\n",
       "      <th>date</th>\n",
       "    </tr>\n",
       "  </thead>\n",
       "  <tbody>\n",
       "    <tr>\n",
       "      <th>0</th>\n",
       "      <td>0.005094</td>\n",
       "      <td>0.005094</td>\n",
       "      <td>0.015281</td>\n",
       "      <td>0.005094</td>\n",
       "      <td>0.005094</td>\n",
       "      <td>0.005094</td>\n",
       "      <td>0.010188</td>\n",
       "      <td>0.005094</td>\n",
       "      <td>0.010188</td>\n",
       "      <td>0.005094</td>\n",
       "      <td>...</td>\n",
       "      <td>0.005094</td>\n",
       "      <td>0.030563</td>\n",
       "      <td>0.005094</td>\n",
       "      <td>0.015281</td>\n",
       "      <td>0.015281</td>\n",
       "      <td>0.005094</td>\n",
       "      <td>0.010188</td>\n",
       "      <td>0.005094</td>\n",
       "      <td>0.025469</td>\n",
       "      <td>2023-04-26</td>\n",
       "    </tr>\n",
       "  </tbody>\n",
       "</table>\n",
       "<p>1 rows × 841 columns</p>\n",
       "</div>"
      ],
      "text/plain": [
       "          0         1         2         3         4         5         6  \\\n",
       "0  0.005094  0.005094  0.015281  0.005094  0.005094  0.005094  0.010188   \n",
       "\n",
       "          7         8         9  ...       831       832       833       834  \\\n",
       "0  0.005094  0.010188  0.005094  ...  0.005094  0.030563  0.005094  0.015281   \n",
       "\n",
       "        835       836       837       838       839       date  \n",
       "0  0.015281  0.005094  0.010188  0.005094  0.025469 2023-04-26  \n",
       "\n",
       "[1 rows x 841 columns]"
      ]
     },
     "execution_count": 29,
     "metadata": {},
     "output_type": "execute_result"
    }
   ],
   "source": [
    "vectors_df.head()"
   ]
  },
  {
   "cell_type": "code",
   "execution_count": 39,
   "id": "1f894c9b",
   "metadata": {},
   "outputs": [],
   "source": []
  },
  {
   "cell_type": "code",
   "execution_count": 42,
   "id": "223b25d3",
   "metadata": {},
   "outputs": [],
   "source": [
    "df_isw_short = data_preprocessed[['date','report_text_lemm','keywords','date_tomorrow_datetime']]"
   ]
  },
  {
   "cell_type": "code",
   "execution_count": 43,
   "id": "f24b0e6c",
   "metadata": {},
   "outputs": [
    {
     "data": {
      "text/html": [
       "<div>\n",
       "<style scoped>\n",
       "    .dataframe tbody tr th:only-of-type {\n",
       "        vertical-align: middle;\n",
       "    }\n",
       "\n",
       "    .dataframe tbody tr th {\n",
       "        vertical-align: top;\n",
       "    }\n",
       "\n",
       "    .dataframe thead th {\n",
       "        text-align: right;\n",
       "    }\n",
       "</style>\n",
       "<table border=\"1\" class=\"dataframe\">\n",
       "  <thead>\n",
       "    <tr style=\"text-align: right;\">\n",
       "      <th></th>\n",
       "      <th>date</th>\n",
       "      <th>report_text_lemm</th>\n",
       "      <th>keywords</th>\n",
       "      <th>date_tomorrow_datetime</th>\n",
       "    </tr>\n",
       "  </thead>\n",
       "  <tbody>\n",
       "    <tr>\n",
       "      <th>0</th>\n",
       "      <td>2023-04-25</td>\n",
       "      <td>russian offens campaign ass april twenty five...</td>\n",
       "      <td>{'russian': 0.708, 'forc': 0.275, 'ukrainian':...</td>\n",
       "      <td>2023-04-26</td>\n",
       "    </tr>\n",
       "  </tbody>\n",
       "</table>\n",
       "</div>"
      ],
      "text/plain": [
       "        date                                   report_text_lemm  \\\n",
       "0 2023-04-25   russian offens campaign ass april twenty five...   \n",
       "\n",
       "                                            keywords date_tomorrow_datetime  \n",
       "0  {'russian': 0.708, 'forc': 0.275, 'ukrainian':...             2023-04-26  "
      ]
     },
     "execution_count": 43,
     "metadata": {},
     "output_type": "execute_result"
    }
   ],
   "source": [
    "df_isw_short.head()"
   ]
  },
  {
   "cell_type": "code",
   "execution_count": 44,
   "id": "5db9d5fe",
   "metadata": {},
   "outputs": [],
   "source": [
    "tfidf = pickle.load(open(\"models/tfidf_transformer_v1.pkl\",\"rb\"))\n",
    "cv = pickle.load(open(\"models/count_vectorizer_v1.pkl\",\"rb\"))\n",
    "\n",
    "#Uncommit if you want to load exist matrix\n",
    "tfidf_vector = scipy.sparse.load_npz('data/matrix/tfidf_vector_train.npz')"
   ]
  },
  {
   "cell_type": "code",
   "execution_count": 32,
   "id": "4b66c3cd",
   "metadata": {},
   "outputs": [],
   "source": [
    "import pytz"
   ]
  },
  {
   "cell_type": "code",
   "execution_count": 33,
   "id": "926f851c",
   "metadata": {},
   "outputs": [
    {
     "name": "stderr",
     "output_type": "stream",
     "text": [
      "/Users/nikita_voitishyn/opt/anaconda3/lib/python3.9/site-packages/sklearn/base.py:310: UserWarning: Trying to unpickle estimator DecisionTreeClassifier from version 1.2.2 when using version 0.24.2. This might lead to breaking code or invalid results. Use at your own risk.\n",
      "  warnings.warn(\n",
      "/Users/nikita_voitishyn/opt/anaconda3/lib/python3.9/site-packages/sklearn/base.py:310: UserWarning: Trying to unpickle estimator RandomForestClassifier from version 1.2.2 when using version 0.24.2. This might lead to breaking code or invalid results. Use at your own risk.\n",
      "  warnings.warn(\n"
     ]
    }
   ],
   "source": [
    "model = pickle.load(open(\"models/4_rf_3.1f.pkl\",\"rb\"))"
   ]
  },
  {
   "cell_type": "code",
   "execution_count": 51,
   "id": "d909983e",
   "metadata": {},
   "outputs": [
    {
     "name": "stdout",
     "output_type": "stream",
     "text": [
      "Weather data for the \n",
      "region Крим; \n",
      "start_date 2023-04-26; \n",
      "end_date 2023-04-26; \n",
      "is ready\n",
      "Weather data for the \n",
      "region Вінниччина; \n",
      "start_date 2023-04-26; \n",
      "end_date 2023-04-26; \n",
      "is ready\n"
     ]
    },
    {
     "name": "stderr",
     "output_type": "stream",
     "text": [
      "/var/folders/5y/jfstwx3n6x5bg_8mdp2wq81w0000gn/T/ipykernel_84184/3468653587.py:15: SettingWithCopyWarning: \n",
      "A value is trying to be set on a copy of a slice from a DataFrame.\n",
      "Try using .loc[row_indexer,col_indexer] = value instead\n",
      "\n",
      "See the caveats in the documentation: https://pandas.pydata.org/pandas-docs/stable/user_guide/indexing.html#returning-a-view-versus-a-copy\n",
      "  df_isw_short['key']=1\n"
     ]
    },
    {
     "ename": "KeyError",
     "evalue": "\"['sunrise' 'sunset'] not found in axis\"",
     "output_type": "error",
     "traceback": [
      "\u001b[0;31m---------------------------------------------------------------------------\u001b[0m",
      "\u001b[0;31mKeyError\u001b[0m                                  Traceback (most recent call last)",
      "\u001b[0;32m/var/folders/5y/jfstwx3n6x5bg_8mdp2wq81w0000gn/T/ipykernel_84184/3468653587.py\u001b[0m in \u001b[0;36m<module>\u001b[0;34m\u001b[0m\n\u001b[1;32m     18\u001b[0m     to_drop=['key','date','date_tomorrow_datetime','keywords','report_text_lemm','datetime','preciptype','conditions',\n\u001b[1;32m     19\u001b[0m        'icon', 'stations', 'source','sunrise','sunset']\n\u001b[0;32m---> 20\u001b[0;31m     \u001b[0mdf_weather_matrix_v1\u001b[0m \u001b[0;34m=\u001b[0m \u001b[0mdf_all\u001b[0m\u001b[0;34m.\u001b[0m\u001b[0mdrop\u001b[0m\u001b[0;34m(\u001b[0m\u001b[0mto_drop\u001b[0m\u001b[0;34m,\u001b[0m \u001b[0maxis\u001b[0m \u001b[0;34m=\u001b[0m \u001b[0;36m1\u001b[0m\u001b[0;34m)\u001b[0m\u001b[0;34m\u001b[0m\u001b[0;34m\u001b[0m\u001b[0m\n\u001b[0m\u001b[1;32m     21\u001b[0m \u001b[0;34m\u001b[0m\u001b[0m\n\u001b[1;32m     22\u001b[0m     \u001b[0mcv_vector_model\u001b[0m \u001b[0;34m=\u001b[0m \u001b[0mcv\u001b[0m\u001b[0;34m.\u001b[0m\u001b[0mtransform\u001b[0m\u001b[0;34m(\u001b[0m\u001b[0mdf_all\u001b[0m\u001b[0;34m[\u001b[0m\u001b[0;34m'report_text_lemm'\u001b[0m\u001b[0;34m]\u001b[0m\u001b[0;34m.\u001b[0m\u001b[0mvalues\u001b[0m\u001b[0;34m.\u001b[0m\u001b[0mastype\u001b[0m\u001b[0;34m(\u001b[0m\u001b[0;34m'U'\u001b[0m\u001b[0;34m)\u001b[0m\u001b[0;34m)\u001b[0m\u001b[0;34m\u001b[0m\u001b[0;34m\u001b[0m\u001b[0m\n",
      "\u001b[0;32m~/opt/anaconda3/lib/python3.9/site-packages/pandas/util/_decorators.py\u001b[0m in \u001b[0;36mwrapper\u001b[0;34m(*args, **kwargs)\u001b[0m\n\u001b[1;32m    309\u001b[0m                     \u001b[0mstacklevel\u001b[0m\u001b[0;34m=\u001b[0m\u001b[0mstacklevel\u001b[0m\u001b[0;34m,\u001b[0m\u001b[0;34m\u001b[0m\u001b[0;34m\u001b[0m\u001b[0m\n\u001b[1;32m    310\u001b[0m                 )\n\u001b[0;32m--> 311\u001b[0;31m             \u001b[0;32mreturn\u001b[0m \u001b[0mfunc\u001b[0m\u001b[0;34m(\u001b[0m\u001b[0;34m*\u001b[0m\u001b[0margs\u001b[0m\u001b[0;34m,\u001b[0m \u001b[0;34m**\u001b[0m\u001b[0mkwargs\u001b[0m\u001b[0;34m)\u001b[0m\u001b[0;34m\u001b[0m\u001b[0;34m\u001b[0m\u001b[0m\n\u001b[0m\u001b[1;32m    312\u001b[0m \u001b[0;34m\u001b[0m\u001b[0m\n\u001b[1;32m    313\u001b[0m         \u001b[0;32mreturn\u001b[0m \u001b[0mwrapper\u001b[0m\u001b[0;34m\u001b[0m\u001b[0;34m\u001b[0m\u001b[0m\n",
      "\u001b[0;32m~/opt/anaconda3/lib/python3.9/site-packages/pandas/core/frame.py\u001b[0m in \u001b[0;36mdrop\u001b[0;34m(self, labels, axis, index, columns, level, inplace, errors)\u001b[0m\n\u001b[1;32m   4904\u001b[0m                 \u001b[0mweight\u001b[0m  \u001b[0;36m1.0\u001b[0m     \u001b[0;36m0.8\u001b[0m\u001b[0;34m\u001b[0m\u001b[0;34m\u001b[0m\u001b[0m\n\u001b[1;32m   4905\u001b[0m         \"\"\"\n\u001b[0;32m-> 4906\u001b[0;31m         return super().drop(\n\u001b[0m\u001b[1;32m   4907\u001b[0m             \u001b[0mlabels\u001b[0m\u001b[0;34m=\u001b[0m\u001b[0mlabels\u001b[0m\u001b[0;34m,\u001b[0m\u001b[0;34m\u001b[0m\u001b[0;34m\u001b[0m\u001b[0m\n\u001b[1;32m   4908\u001b[0m             \u001b[0maxis\u001b[0m\u001b[0;34m=\u001b[0m\u001b[0maxis\u001b[0m\u001b[0;34m,\u001b[0m\u001b[0;34m\u001b[0m\u001b[0;34m\u001b[0m\u001b[0m\n",
      "\u001b[0;32m~/opt/anaconda3/lib/python3.9/site-packages/pandas/core/generic.py\u001b[0m in \u001b[0;36mdrop\u001b[0;34m(self, labels, axis, index, columns, level, inplace, errors)\u001b[0m\n\u001b[1;32m   4148\u001b[0m         \u001b[0;32mfor\u001b[0m \u001b[0maxis\u001b[0m\u001b[0;34m,\u001b[0m \u001b[0mlabels\u001b[0m \u001b[0;32min\u001b[0m \u001b[0maxes\u001b[0m\u001b[0;34m.\u001b[0m\u001b[0mitems\u001b[0m\u001b[0;34m(\u001b[0m\u001b[0;34m)\u001b[0m\u001b[0;34m:\u001b[0m\u001b[0;34m\u001b[0m\u001b[0;34m\u001b[0m\u001b[0m\n\u001b[1;32m   4149\u001b[0m             \u001b[0;32mif\u001b[0m \u001b[0mlabels\u001b[0m \u001b[0;32mis\u001b[0m \u001b[0;32mnot\u001b[0m \u001b[0;32mNone\u001b[0m\u001b[0;34m:\u001b[0m\u001b[0;34m\u001b[0m\u001b[0;34m\u001b[0m\u001b[0m\n\u001b[0;32m-> 4150\u001b[0;31m                 \u001b[0mobj\u001b[0m \u001b[0;34m=\u001b[0m \u001b[0mobj\u001b[0m\u001b[0;34m.\u001b[0m\u001b[0m_drop_axis\u001b[0m\u001b[0;34m(\u001b[0m\u001b[0mlabels\u001b[0m\u001b[0;34m,\u001b[0m \u001b[0maxis\u001b[0m\u001b[0;34m,\u001b[0m \u001b[0mlevel\u001b[0m\u001b[0;34m=\u001b[0m\u001b[0mlevel\u001b[0m\u001b[0;34m,\u001b[0m \u001b[0merrors\u001b[0m\u001b[0;34m=\u001b[0m\u001b[0merrors\u001b[0m\u001b[0;34m)\u001b[0m\u001b[0;34m\u001b[0m\u001b[0;34m\u001b[0m\u001b[0m\n\u001b[0m\u001b[1;32m   4151\u001b[0m \u001b[0;34m\u001b[0m\u001b[0m\n\u001b[1;32m   4152\u001b[0m         \u001b[0;32mif\u001b[0m \u001b[0minplace\u001b[0m\u001b[0;34m:\u001b[0m\u001b[0;34m\u001b[0m\u001b[0;34m\u001b[0m\u001b[0m\n",
      "\u001b[0;32m~/opt/anaconda3/lib/python3.9/site-packages/pandas/core/generic.py\u001b[0m in \u001b[0;36m_drop_axis\u001b[0;34m(self, labels, axis, level, errors)\u001b[0m\n\u001b[1;32m   4183\u001b[0m                 \u001b[0mnew_axis\u001b[0m \u001b[0;34m=\u001b[0m \u001b[0maxis\u001b[0m\u001b[0;34m.\u001b[0m\u001b[0mdrop\u001b[0m\u001b[0;34m(\u001b[0m\u001b[0mlabels\u001b[0m\u001b[0;34m,\u001b[0m \u001b[0mlevel\u001b[0m\u001b[0;34m=\u001b[0m\u001b[0mlevel\u001b[0m\u001b[0;34m,\u001b[0m \u001b[0merrors\u001b[0m\u001b[0;34m=\u001b[0m\u001b[0merrors\u001b[0m\u001b[0;34m)\u001b[0m\u001b[0;34m\u001b[0m\u001b[0;34m\u001b[0m\u001b[0m\n\u001b[1;32m   4184\u001b[0m             \u001b[0;32melse\u001b[0m\u001b[0;34m:\u001b[0m\u001b[0;34m\u001b[0m\u001b[0;34m\u001b[0m\u001b[0m\n\u001b[0;32m-> 4185\u001b[0;31m                 \u001b[0mnew_axis\u001b[0m \u001b[0;34m=\u001b[0m \u001b[0maxis\u001b[0m\u001b[0;34m.\u001b[0m\u001b[0mdrop\u001b[0m\u001b[0;34m(\u001b[0m\u001b[0mlabels\u001b[0m\u001b[0;34m,\u001b[0m \u001b[0merrors\u001b[0m\u001b[0;34m=\u001b[0m\u001b[0merrors\u001b[0m\u001b[0;34m)\u001b[0m\u001b[0;34m\u001b[0m\u001b[0;34m\u001b[0m\u001b[0m\n\u001b[0m\u001b[1;32m   4186\u001b[0m             \u001b[0mresult\u001b[0m \u001b[0;34m=\u001b[0m \u001b[0mself\u001b[0m\u001b[0;34m.\u001b[0m\u001b[0mreindex\u001b[0m\u001b[0;34m(\u001b[0m\u001b[0;34m**\u001b[0m\u001b[0;34m{\u001b[0m\u001b[0maxis_name\u001b[0m\u001b[0;34m:\u001b[0m \u001b[0mnew_axis\u001b[0m\u001b[0;34m}\u001b[0m\u001b[0;34m)\u001b[0m\u001b[0;34m\u001b[0m\u001b[0;34m\u001b[0m\u001b[0m\n\u001b[1;32m   4187\u001b[0m \u001b[0;34m\u001b[0m\u001b[0m\n",
      "\u001b[0;32m~/opt/anaconda3/lib/python3.9/site-packages/pandas/core/indexes/base.py\u001b[0m in \u001b[0;36mdrop\u001b[0;34m(self, labels, errors)\u001b[0m\n\u001b[1;32m   6015\u001b[0m         \u001b[0;32mif\u001b[0m \u001b[0mmask\u001b[0m\u001b[0;34m.\u001b[0m\u001b[0many\u001b[0m\u001b[0;34m(\u001b[0m\u001b[0;34m)\u001b[0m\u001b[0;34m:\u001b[0m\u001b[0;34m\u001b[0m\u001b[0;34m\u001b[0m\u001b[0m\n\u001b[1;32m   6016\u001b[0m             \u001b[0;32mif\u001b[0m \u001b[0merrors\u001b[0m \u001b[0;34m!=\u001b[0m \u001b[0;34m\"ignore\"\u001b[0m\u001b[0;34m:\u001b[0m\u001b[0;34m\u001b[0m\u001b[0;34m\u001b[0m\u001b[0m\n\u001b[0;32m-> 6017\u001b[0;31m                 \u001b[0;32mraise\u001b[0m \u001b[0mKeyError\u001b[0m\u001b[0;34m(\u001b[0m\u001b[0;34mf\"{labels[mask]} not found in axis\"\u001b[0m\u001b[0;34m)\u001b[0m\u001b[0;34m\u001b[0m\u001b[0;34m\u001b[0m\u001b[0m\n\u001b[0m\u001b[1;32m   6018\u001b[0m             \u001b[0mindexer\u001b[0m \u001b[0;34m=\u001b[0m \u001b[0mindexer\u001b[0m\u001b[0;34m[\u001b[0m\u001b[0;34m~\u001b[0m\u001b[0mmask\u001b[0m\u001b[0;34m]\u001b[0m\u001b[0;34m\u001b[0m\u001b[0;34m\u001b[0m\u001b[0m\n\u001b[1;32m   6019\u001b[0m         \u001b[0;32mreturn\u001b[0m \u001b[0mself\u001b[0m\u001b[0;34m.\u001b[0m\u001b[0mdelete\u001b[0m\u001b[0;34m(\u001b[0m\u001b[0mindexer\u001b[0m\u001b[0;34m)\u001b[0m\u001b[0;34m\u001b[0m\u001b[0;34m\u001b[0m\u001b[0m\n",
      "\u001b[0;31mKeyError\u001b[0m: \"['sunrise' 'sunset'] not found in axis\""
     ]
    }
   ],
   "source": [
    "# predict for each region with merging and matrix inside\n",
    "\n",
    "cities = ['Крим','Вінниччина','Волинь','Дніпропетровщина','Донеччина','Житомирщина','Закарпаття', 'Запоріжжя',\n",
    "          'Івано-Франківщина','Київщина','Кіровоградщина','Луганщина','Львівщина','Миколаївщина','Одещина','Полтавщина',\n",
    "          'Рівненщина','Сумщина','Тернопільщина','Харківщина','Херсонщина','Хмельниччина','Черкащина',\n",
    "          'Буковина','Чернігівщина']\n",
    "\n",
    "date = datetime.date.today()\n",
    "result = {}\n",
    "for city in cities:\n",
    "    \n",
    "    df_weather_final = get_weather.get_weather_for_12_hours(city,date)\n",
    "    \n",
    "    df_weather_final['key']=1\n",
    "    df_isw_short['key']=1\n",
    "    \n",
    "    df_all = df_weather_final.merge(df_isw_short, how = 'left', left_on = 'key', right_on = 'key')\n",
    "    to_drop=['key','date','date_tomorrow_datetime','keywords','report_text_lemm','datetime','preciptype','conditions',\n",
    "       'icon', 'stations', 'source','sunrise','sunset']\n",
    "    df_weather_matrix_v1 = df_all.drop(to_drop, axis = 1)\n",
    "    \n",
    "    cv_vector_model = cv.transform(df_all['report_text_lemm'].values.astype('U'))\n",
    "    \n",
    "    TF_IDF_MODEL = tfidf.transform(cv_vector_model)\n",
    "    \n",
    "    df_weather_matrix_v1_csr = scipy.sparse.csr_matrix(df_weather_matrix_v1)\n",
    "#     df_all_data_csr = scipy.sparse.hstack((df_weather_matrix_v1_csr, TF_IDF_MODEL), format='csr')\n",
    "    \n",
    "    \n",
    "#     #predict \n",
    "#     predicted = model.predict(df_all_data_csr)\n",
    "#     current_time = datetime.datetime.now()\n",
    "#     hours = []\n",
    "#     for i in range(12):\n",
    "#         hour = date + datetime.timedelta(hours=i)\n",
    "#         hour_rounded = hour.replace(minute=0, second=0, microsecond=0)\n",
    "#         hours.append(hour_rounded.strftime('%Y-%m-%d %H:%M'))\n",
    "\n",
    "#     result[city] = dict(zip(hours, predicted))\n"
   ]
  },
  {
   "cell_type": "code",
   "execution_count": 49,
   "id": "51e782bd",
   "metadata": {},
   "outputs": [],
   "source": [
    "to_drop=['key','date','date_tomorrow_datetime','keywords','report_text_lemm','datetime','preciptype','conditions',\n",
    "       'icon', 'stations', 'source','sunrise','sunset']\n",
    "df_weather_matrix_v1 = df_all.drop(to_drop, axis = 1)"
   ]
  },
  {
   "cell_type": "code",
   "execution_count": 50,
   "id": "c52fcea0",
   "metadata": {},
   "outputs": [
    {
     "name": "stdout",
     "output_type": "stream",
     "text": [
      "<class 'pandas.core.frame.DataFrame'>\n",
      "Int64Index: 24 entries, 0 to 23\n",
      "Data columns (total 22 columns):\n",
      " #   Column          Non-Null Count  Dtype  \n",
      "---  ------          --------------  -----  \n",
      " 0   datetimeEpoch   24 non-null     int64  \n",
      " 1   temp            24 non-null     float64\n",
      " 2   feelslike       24 non-null     float64\n",
      " 3   humidity        24 non-null     float64\n",
      " 4   dew             24 non-null     float64\n",
      " 5   precip          24 non-null     float64\n",
      " 6   precipprob      24 non-null     float64\n",
      " 7   snow            24 non-null     float64\n",
      " 8   snowdepth       24 non-null     float64\n",
      " 9   windgust        24 non-null     float64\n",
      " 10  windspeed       24 non-null     float64\n",
      " 11  winddir         24 non-null     float64\n",
      " 12  pressure        24 non-null     float64\n",
      " 13  visibility      24 non-null     float64\n",
      " 14  cloudcover      24 non-null     float64\n",
      " 15  solarradiation  24 non-null     float64\n",
      " 16  solarenergy     15 non-null     float64\n",
      " 17  uvindex         24 non-null     float64\n",
      " 18  severerisk      24 non-null     float64\n",
      " 19  sunriseEpoch    1 non-null      float64\n",
      " 20  sunsetEpoch     1 non-null      float64\n",
      " 21  moonphase       1 non-null      float64\n",
      "dtypes: float64(21), int64(1)\n",
      "memory usage: 4.3 KB\n"
     ]
    }
   ],
   "source": [
    "df_weather_matrix_v1.info()"
   ]
  },
  {
   "cell_type": "code",
   "execution_count": null,
   "id": "a1cb9977",
   "metadata": {},
   "outputs": [],
   "source": [
    "df_weather_matrix_v1.values"
   ]
  },
  {
   "cell_type": "code",
   "execution_count": null,
   "id": "74126825",
   "metadata": {},
   "outputs": [],
   "source": [
    "df_weather_matrix_v1.columns"
   ]
  },
  {
   "cell_type": "code",
   "execution_count": 47,
   "id": "ab9136d0",
   "metadata": {},
   "outputs": [
    {
     "name": "stdout",
     "output_type": "stream",
     "text": [
      "<class 'pandas.core.frame.DataFrame'>\n",
      "Int64Index: 24 entries, 0 to 23\n",
      "Data columns (total 24 columns):\n",
      " #   Column          Non-Null Count  Dtype  \n",
      "---  ------          --------------  -----  \n",
      " 0   datetimeEpoch   24 non-null     int64  \n",
      " 1   temp            24 non-null     float64\n",
      " 2   feelslike       24 non-null     float64\n",
      " 3   humidity        24 non-null     float64\n",
      " 4   dew             24 non-null     float64\n",
      " 5   precip          24 non-null     float64\n",
      " 6   precipprob      24 non-null     float64\n",
      " 7   snow            24 non-null     float64\n",
      " 8   snowdepth       24 non-null     float64\n",
      " 9   windgust        24 non-null     float64\n",
      " 10  windspeed       24 non-null     float64\n",
      " 11  winddir         24 non-null     float64\n",
      " 12  pressure        24 non-null     float64\n",
      " 13  visibility      24 non-null     float64\n",
      " 14  cloudcover      24 non-null     float64\n",
      " 15  solarradiation  24 non-null     float64\n",
      " 16  solarenergy     15 non-null     float64\n",
      " 17  uvindex         24 non-null     float64\n",
      " 18  severerisk      24 non-null     float64\n",
      " 19  sunrise         1 non-null      object \n",
      " 20  sunriseEpoch    1 non-null      float64\n",
      " 21  sunset          1 non-null      object \n",
      " 22  sunsetEpoch     1 non-null      float64\n",
      " 23  moonphase       1 non-null      float64\n",
      "dtypes: float64(21), int64(1), object(2)\n",
      "memory usage: 4.7+ KB\n"
     ]
    }
   ],
   "source": [
    "df_weather_matrix_v1.info()"
   ]
  },
  {
   "cell_type": "code",
   "execution_count": 48,
   "id": "a5f4d9c1",
   "metadata": {},
   "outputs": [
    {
     "name": "stdout",
     "output_type": "stream",
     "text": [
      "<class 'pandas.core.frame.DataFrame'>\n",
      "Int64Index: 24 entries, 0 to 23\n",
      "Data columns (total 35 columns):\n",
      " #   Column                  Non-Null Count  Dtype         \n",
      "---  ------                  --------------  -----         \n",
      " 0   datetime                24 non-null     object        \n",
      " 1   datetimeEpoch           24 non-null     int64         \n",
      " 2   temp                    24 non-null     float64       \n",
      " 3   feelslike               24 non-null     float64       \n",
      " 4   humidity                24 non-null     float64       \n",
      " 5   dew                     24 non-null     float64       \n",
      " 6   precip                  24 non-null     float64       \n",
      " 7   precipprob              24 non-null     float64       \n",
      " 8   snow                    24 non-null     float64       \n",
      " 9   snowdepth               24 non-null     float64       \n",
      " 10  preciptype              0 non-null      object        \n",
      " 11  windgust                24 non-null     float64       \n",
      " 12  windspeed               24 non-null     float64       \n",
      " 13  winddir                 24 non-null     float64       \n",
      " 14  pressure                24 non-null     float64       \n",
      " 15  visibility              24 non-null     float64       \n",
      " 16  cloudcover              24 non-null     float64       \n",
      " 17  solarradiation          24 non-null     float64       \n",
      " 18  solarenergy             15 non-null     float64       \n",
      " 19  uvindex                 24 non-null     float64       \n",
      " 20  severerisk              24 non-null     float64       \n",
      " 21  conditions              24 non-null     object        \n",
      " 22  icon                    24 non-null     object        \n",
      " 23  stations                19 non-null     object        \n",
      " 24  source                  24 non-null     object        \n",
      " 25  sunrise                 1 non-null      object        \n",
      " 26  sunriseEpoch            1 non-null      float64       \n",
      " 27  sunset                  1 non-null      object        \n",
      " 28  sunsetEpoch             1 non-null      float64       \n",
      " 29  moonphase               1 non-null      float64       \n",
      " 30  key                     24 non-null     int64         \n",
      " 31  date                    24 non-null     datetime64[ns]\n",
      " 32  report_text_lemm        24 non-null     object        \n",
      " 33  keywords                24 non-null     object        \n",
      " 34  date_tomorrow_datetime  24 non-null     datetime64[ns]\n",
      "dtypes: datetime64[ns](2), float64(21), int64(2), object(10)\n",
      "memory usage: 6.8+ KB\n"
     ]
    }
   ],
   "source": [
    "df_all.info()"
   ]
  },
  {
   "cell_type": "code",
   "execution_count": null,
   "id": "74c7d2bd",
   "metadata": {},
   "outputs": [],
   "source": [
    "df_weather_matrix_v1.shape"
   ]
  },
  {
   "cell_type": "code",
   "execution_count": null,
   "id": "3d127978",
   "metadata": {},
   "outputs": [],
   "source": [
    "    \n",
    "   "
   ]
  },
  {
   "cell_type": "markdown",
   "id": "5a49e103",
   "metadata": {},
   "source": [
    "### PREDICT"
   ]
  },
  {
   "cell_type": "code",
   "execution_count": null,
   "id": "2c727209",
   "metadata": {
    "scrolled": true
   },
   "outputs": [],
   "source": []
  },
  {
   "cell_type": "code",
   "execution_count": null,
   "id": "0dcf5acb",
   "metadata": {},
   "outputs": [],
   "source": [
    "merged_df.info()"
   ]
  },
  {
   "cell_type": "code",
   "execution_count": null,
   "id": "9c3b44a3",
   "metadata": {},
   "outputs": [],
   "source": [
    "pd.set_option('display.max_colwidth', None)\n",
    "pd.set_option('display.max_rows', None)"
   ]
  },
  {
   "cell_type": "code",
   "execution_count": null,
   "id": "4db9888e",
   "metadata": {},
   "outputs": [],
   "source": [
    "print(data_merged.columns)\n",
    "\n",
    "for column in data_merged.columns:\n",
    "    print(column)"
   ]
  },
  {
   "cell_type": "code",
   "execution_count": null,
   "id": "8e662cef",
   "metadata": {},
   "outputs": [],
   "source": [
    "ʼ"
   ]
  }
 ],
 "metadata": {
  "kernelspec": {
   "display_name": "Python 3 (ipykernel)",
   "language": "python",
   "name": "python3"
  },
  "language_info": {
   "codemirror_mode": {
    "name": "ipython",
    "version": 3
   },
   "file_extension": ".py",
   "mimetype": "text/x-python",
   "name": "python",
   "nbconvert_exporter": "python",
   "pygments_lexer": "ipython3",
   "version": "3.9.7"
  }
 },
 "nbformat": 4,
 "nbformat_minor": 5
}
