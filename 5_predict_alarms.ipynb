{
 "cells": [
  {
   "cell_type": "markdown",
   "id": "25437673",
   "metadata": {},
   "source": [
    "## Import libraries"
   ]
  },
  {
   "cell_type": "code",
   "execution_count": 187,
   "id": "1b89555a",
   "metadata": {
    "ExecuteTime": {
     "start_time": "2023-05-03T15:35:39.307242Z",
     "end_time": "2023-05-03T15:35:39.379476Z"
    }
   },
   "outputs": [],
   "source": [
    "# import libraries\n",
    "\n",
    "import datetime\n",
    "import pickle\n",
    "import nltk\n",
    "import re\n",
    "import scipy\n",
    "import pytz\n",
    "import pandas as pd\n",
    "from scipy import sparse\n",
    "from bs4 import BeautifulSoup\n",
    "\n",
    "from sklearn.feature_extraction.text import CountVectorizer, TfidfVectorizer\n",
    "from sklearn.feature_extraction.text import TfidfTransformer\n",
    "from utils import get_weather\n",
    "from utils import text_processing"
   ]
  },
  {
   "cell_type": "markdown",
   "id": "fde5b50a",
   "metadata": {},
   "source": [
    "## Get and preprocess ISW files"
   ]
  },
  {
   "cell_type": "code",
   "execution_count": 188,
   "id": "7cb86e69",
   "metadata": {
    "ExecuteTime": {
     "start_time": "2023-05-03T15:35:39.321987Z",
     "end_time": "2023-05-03T15:35:39.464472Z"
    }
   },
   "outputs": [],
   "source": [
    "# get article from yesterday\n",
    "\n",
    "today = datetime.date.today()\n",
    "yesterday = today - datetime.timedelta(days=1)\n",
    "\n",
    "yesterday_day = yesterday.day\n",
    "yesterday_month = yesterday.month\n",
    "yesterday_year = yesterday.year"
   ]
  },
  {
   "cell_type": "code",
   "execution_count": 189,
   "id": "80028a2b",
   "metadata": {
    "ExecuteTime": {
     "start_time": "2023-05-03T15:35:39.336079Z",
     "end_time": "2023-05-03T15:35:40.038156Z"
    }
   },
   "outputs": [],
   "source": [
    "file = text_processing.get_article_from_yesterday(yesterday_day,yesterday_month,yesterday_year)"
   ]
  },
  {
   "cell_type": "code",
   "execution_count": 190,
   "id": "03f1ec1e",
   "metadata": {
    "ExecuteTime": {
     "start_time": "2023-05-03T15:35:40.042125Z",
     "end_time": "2023-05-03T15:35:40.150527Z"
    }
   },
   "outputs": [],
   "source": [
    "data = text_processing.read_html(file)"
   ]
  },
  {
   "cell_type": "code",
   "execution_count": 191,
   "id": "42911601",
   "metadata": {
    "ExecuteTime": {
     "start_time": "2023-05-03T15:35:40.157082Z",
     "end_time": "2023-05-03T15:35:40.167609Z"
    }
   },
   "outputs": [],
   "source": [
    "def preprocess_all_text(data):\n",
    "    pattern = \"\\[(\\d+)\\]\"\n",
    "    data['main_html_v1'] = data['main_html'].apply(lambda x: re.sub(pattern,\"\",str(x)))\n",
    "    data['main_html_v2'] = data['main_html_v1'].apply(lambda x: re.sub(r'http(\\S+.*\\s)',\"\",x))\n",
    "    data['main_html_v3'] = data['main_html_v2'].apply(lambda x: re.sub(r'2022|2023|©2022|©2023|\\xa0|\\n',\"\",x))\n",
    "    data['main_html_v4'] = data['main_html_v3'].apply(lambda x: BeautifulSoup(x).text)\n",
    "    data['main_html_v5'] = data['main_html_v4'].apply(lambda x: text_processing.remove_names_and_dates(x))\n",
    "    \n",
    "    return data"
   ]
  },
  {
   "cell_type": "code",
   "execution_count": 192,
   "id": "f59f0ab2",
   "metadata": {
    "ExecuteTime": {
     "start_time": "2023-05-03T15:35:40.169610Z",
     "end_time": "2023-05-03T15:35:40.217231Z"
    }
   },
   "outputs": [],
   "source": [
    "data_preprocessed = preprocess_all_text(data)"
   ]
  },
  {
   "cell_type": "code",
   "execution_count": 193,
   "id": "2af6b1be",
   "metadata": {
    "ExecuteTime": {
     "start_time": "2023-05-03T15:35:40.224780Z",
     "end_time": "2023-05-03T15:35:40.229766Z"
    }
   },
   "outputs": [],
   "source": [
    "data_preprocessed = data_preprocessed.drop(['main_html_v1','main_html_v2','main_html_v3','main_html_v4'],axis=1)"
   ]
  },
  {
   "cell_type": "code",
   "execution_count": 194,
   "id": "5129a561",
   "metadata": {
    "ExecuteTime": {
     "start_time": "2023-05-03T15:35:40.232279Z",
     "end_time": "2023-05-03T15:35:40.258325Z"
    }
   },
   "outputs": [],
   "source": [
    "# Uncommit for first time download\n",
    "\n",
    "# nltk.download('stopwords')\n",
    "# nltk.download('punkt')\n",
    "# nltk.download('wordnet')"
   ]
  },
  {
   "cell_type": "code",
   "execution_count": 195,
   "id": "3abf9546",
   "metadata": {
    "ExecuteTime": {
     "start_time": "2023-05-03T15:35:40.251795Z",
     "end_time": "2023-05-03T15:35:40.527644Z"
    }
   },
   "outputs": [],
   "source": [
    "# lemmatization and stemming algorithms to get the unique words\n",
    "\n",
    "data_preprocessed['report_text_lemm'] = data_preprocessed['main_html_v5'].apply(lambda x: text_processing.preprocess(x,\"lemm\"))\n",
    "data_preprocessed['report_text_stemm'] = data_preprocessed['main_html_v5'].apply(lambda x: text_processing.preprocess(x,\"stemm\"))"
   ]
  },
  {
   "cell_type": "code",
   "execution_count": 196,
   "id": "92cd8311",
   "metadata": {
    "ExecuteTime": {
     "start_time": "2023-05-03T15:35:40.538760Z",
     "end_time": "2023-05-03T15:35:40.571004Z"
    }
   },
   "outputs": [
    {
     "data": {
      "text/plain": "        date                                         short_url   \n0 2023-05-02  russian_offensive_campaign_assessment_May_2_2023  \\\n\n                                               title   \n0  Russian Offensive Campaign Assessment, May 2, ...  \\\n\n                                          text_title   \n0  Russian Offensive Campaign Assessment, May 2, ...  \\\n\n                                            full_url   \n0  /backgrounder/russian-offensive-campaign-asses...  \\\n\n                                           main_html   \n0  [[[ , <p align=\"center\" style=\"text-align: lef...  \\\n\n                                        main_html_v5   \n0   Russian Offensive Campaign Assessment, May 2,...  \\\n\n                                    report_text_lemm   \n0   russian offens campaign ass may riley bailey ...  \\\n\n                                   report_text_stemm  \n0   russian offen campaign assess may riley baile...  ",
      "text/html": "<div>\n<style scoped>\n    .dataframe tbody tr th:only-of-type {\n        vertical-align: middle;\n    }\n\n    .dataframe tbody tr th {\n        vertical-align: top;\n    }\n\n    .dataframe thead th {\n        text-align: right;\n    }\n</style>\n<table border=\"1\" class=\"dataframe\">\n  <thead>\n    <tr style=\"text-align: right;\">\n      <th></th>\n      <th>date</th>\n      <th>short_url</th>\n      <th>title</th>\n      <th>text_title</th>\n      <th>full_url</th>\n      <th>main_html</th>\n      <th>main_html_v5</th>\n      <th>report_text_lemm</th>\n      <th>report_text_stemm</th>\n    </tr>\n  </thead>\n  <tbody>\n    <tr>\n      <th>0</th>\n      <td>2023-05-02</td>\n      <td>russian_offensive_campaign_assessment_May_2_2023</td>\n      <td>Russian Offensive Campaign Assessment, May 2, ...</td>\n      <td>Russian Offensive Campaign Assessment, May 2, ...</td>\n      <td>/backgrounder/russian-offensive-campaign-asses...</td>\n      <td>[[[ , &lt;p align=\"center\" style=\"text-align: lef...</td>\n      <td>Russian Offensive Campaign Assessment, May 2,...</td>\n      <td>russian offens campaign ass may riley bailey ...</td>\n      <td>russian offen campaign assess may riley baile...</td>\n    </tr>\n  </tbody>\n</table>\n</div>"
     },
     "execution_count": 196,
     "metadata": {},
     "output_type": "execute_result"
    }
   ],
   "source": [
    "data_preprocessed.head()"
   ]
  },
  {
   "cell_type": "code",
   "execution_count": 197,
   "id": "d21b756c",
   "metadata": {
    "ExecuteTime": {
     "start_time": "2023-05-03T15:35:40.574539Z",
     "end_time": "2023-05-03T15:35:40.598038Z"
    }
   },
   "outputs": [],
   "source": [
    "docs = data_preprocessed['report_text_lemm'].tolist()"
   ]
  },
  {
   "cell_type": "markdown",
   "id": "9f1280d2",
   "metadata": {},
   "source": [
    "## ISW vectorize"
   ]
  },
  {
   "cell_type": "code",
   "execution_count": 198,
   "id": "34b23732",
   "metadata": {
    "ExecuteTime": {
     "start_time": "2023-05-03T15:35:40.595043Z",
     "end_time": "2023-05-03T15:35:40.661734Z"
    }
   },
   "outputs": [],
   "source": [
    "# apply vectorizing and tf-idf algorithm\n",
    "\n",
    "cv = CountVectorizer()\n",
    "word_count_vector = cv.fit_transform(docs)\n",
    "\n",
    "word_count_vector.shape\n",
    "\n",
    "tfidf_transformer = TfidfTransformer(smooth_idf = True, use_idf = True)\n",
    "tfidf_transformer.fit(word_count_vector)\n",
    "\n",
    "tf_idf_vector = tfidf_transformer.transform(word_count_vector)"
   ]
  },
  {
   "cell_type": "code",
   "execution_count": 199,
   "id": "6067ab90",
   "metadata": {
    "ExecuteTime": {
     "start_time": "2023-05-03T15:35:40.605636Z",
     "end_time": "2023-05-03T15:35:40.693281Z"
    }
   },
   "outputs": [
    {
     "data": {
      "text/plain": "<1x714 sparse matrix of type '<class 'numpy.float64'>'\n\twith 714 stored elements in Compressed Sparse Row format>"
     },
     "execution_count": 199,
     "metadata": {},
     "output_type": "execute_result"
    }
   ],
   "source": [
    "tf_idf_vector"
   ]
  },
  {
   "cell_type": "code",
   "execution_count": 200,
   "id": "37b6c871",
   "metadata": {
    "ExecuteTime": {
     "start_time": "2023-05-03T15:35:40.620094Z",
     "end_time": "2023-05-03T15:35:40.753125Z"
    }
   },
   "outputs": [],
   "source": [
    "# extract the most valuable words in article\n",
    "\n",
    "feature_names = cv.get_feature_names_out()\n",
    "tf_idf_vector\n",
    "data_preprocessed['keywords'] = data_preprocessed['report_text_stemm'].apply(lambda x: text_processing.convert_doc_to_vector(x,feature_names,tf_idf_vector))"
   ]
  },
  {
   "cell_type": "code",
   "execution_count": 201,
   "id": "95ea033d",
   "metadata": {
    "ExecuteTime": {
     "start_time": "2023-05-03T15:35:40.638003Z",
     "end_time": "2023-05-03T15:35:40.753125Z"
    }
   },
   "outputs": [
    {
     "data": {
      "text/plain": "{'russian': 0.686,\n 'ukrainian': 0.332,\n 'forc': 0.26,\n 'claim': 0.188,\n 'may': 0.144,\n 'not': 0.116,\n 'oblast': 0.111,\n 'conduct': 0.111,\n 'report': 0.105,\n 'defens': 0.094}"
     },
     "execution_count": 201,
     "metadata": {},
     "output_type": "execute_result"
    }
   ],
   "source": [
    "data_preprocessed['keywords'][0]"
   ]
  },
  {
   "cell_type": "code",
   "execution_count": 202,
   "id": "bf547746",
   "metadata": {
    "ExecuteTime": {
     "start_time": "2023-05-03T15:35:40.679222Z",
     "end_time": "2023-05-03T15:35:40.754133Z"
    }
   },
   "outputs": [
    {
     "data": {
      "text/plain": "        date                                         short_url   \n0 2023-05-02  russian_offensive_campaign_assessment_May_2_2023  \\\n\n                                               title   \n0  Russian Offensive Campaign Assessment, May 2, ...  \\\n\n                                          text_title   \n0  Russian Offensive Campaign Assessment, May 2, ...  \\\n\n                                            full_url   \n0  /backgrounder/russian-offensive-campaign-asses...  \\\n\n                                           main_html   \n0  [[[ , <p align=\"center\" style=\"text-align: lef...  \\\n\n                                        main_html_v5   \n0   Russian Offensive Campaign Assessment, May 2,...  \\\n\n                                    report_text_lemm   \n0   russian offens campaign ass may riley bailey ...  \\\n\n                                   report_text_stemm   \n0   russian offen campaign assess may riley baile...  \\\n\n                                            keywords  \n0  {'russian': 0.686, 'ukrainian': 0.332, 'forc':...  ",
      "text/html": "<div>\n<style scoped>\n    .dataframe tbody tr th:only-of-type {\n        vertical-align: middle;\n    }\n\n    .dataframe tbody tr th {\n        vertical-align: top;\n    }\n\n    .dataframe thead th {\n        text-align: right;\n    }\n</style>\n<table border=\"1\" class=\"dataframe\">\n  <thead>\n    <tr style=\"text-align: right;\">\n      <th></th>\n      <th>date</th>\n      <th>short_url</th>\n      <th>title</th>\n      <th>text_title</th>\n      <th>full_url</th>\n      <th>main_html</th>\n      <th>main_html_v5</th>\n      <th>report_text_lemm</th>\n      <th>report_text_stemm</th>\n      <th>keywords</th>\n    </tr>\n  </thead>\n  <tbody>\n    <tr>\n      <th>0</th>\n      <td>2023-05-02</td>\n      <td>russian_offensive_campaign_assessment_May_2_2023</td>\n      <td>Russian Offensive Campaign Assessment, May 2, ...</td>\n      <td>Russian Offensive Campaign Assessment, May 2, ...</td>\n      <td>/backgrounder/russian-offensive-campaign-asses...</td>\n      <td>[[[ , &lt;p align=\"center\" style=\"text-align: lef...</td>\n      <td>Russian Offensive Campaign Assessment, May 2,...</td>\n      <td>russian offens campaign ass may riley bailey ...</td>\n      <td>russian offen campaign assess may riley baile...</td>\n      <td>{'russian': 0.686, 'ukrainian': 0.332, 'forc':...</td>\n    </tr>\n  </tbody>\n</table>\n</div>"
     },
     "execution_count": 202,
     "metadata": {},
     "output_type": "execute_result"
    }
   ],
   "source": [
    "data_preprocessed.head()"
   ]
  },
  {
   "cell_type": "markdown",
   "id": "e2d4c886",
   "metadata": {},
   "source": [
    "## Part of script: Final preprocessing and merging"
   ]
  },
  {
   "cell_type": "code",
   "execution_count": 203,
   "id": "f151948d",
   "metadata": {
    "ExecuteTime": {
     "start_time": "2023-05-03T15:35:40.705812Z",
     "end_time": "2023-05-03T15:35:40.754133Z"
    }
   },
   "outputs": [],
   "source": [
    "data_preprocessed[\"date_datetime\"] = pd.to_datetime(data_preprocessed[\"date\"])\n",
    "data_preprocessed['date_tomorrow_datetime'] = data_preprocessed['date_datetime'].apply(lambda x: x+datetime.timedelta(days=1))\n",
    "data_preprocessed = data_preprocessed.rename(columns = {\"date_datetime\":\"report_date\"})"
   ]
  },
  {
   "cell_type": "code",
   "execution_count": 204,
   "id": "a1a31caa",
   "metadata": {
    "ExecuteTime": {
     "start_time": "2023-05-03T15:35:40.713990Z",
     "end_time": "2023-05-03T15:35:40.755134Z"
    }
   },
   "outputs": [
    {
     "data": {
      "text/plain": "        date                                         short_url   \n0 2023-05-02  russian_offensive_campaign_assessment_May_2_2023  \\\n\n                                               title   \n0  Russian Offensive Campaign Assessment, May 2, ...  \\\n\n                                          text_title   \n0  Russian Offensive Campaign Assessment, May 2, ...  \\\n\n                                            full_url   \n0  /backgrounder/russian-offensive-campaign-asses...  \\\n\n                                           main_html   \n0  [[[ , <p align=\"center\" style=\"text-align: lef...  \\\n\n                                        main_html_v5   \n0   Russian Offensive Campaign Assessment, May 2,...  \\\n\n                                    report_text_lemm   \n0   russian offens campaign ass may riley bailey ...  \\\n\n                                   report_text_stemm   \n0   russian offen campaign assess may riley baile...  \\\n\n                                            keywords report_date   \n0  {'russian': 0.686, 'ukrainian': 0.332, 'forc':...  2023-05-02  \\\n\n  date_tomorrow_datetime  \n0             2023-05-03  ",
      "text/html": "<div>\n<style scoped>\n    .dataframe tbody tr th:only-of-type {\n        vertical-align: middle;\n    }\n\n    .dataframe tbody tr th {\n        vertical-align: top;\n    }\n\n    .dataframe thead th {\n        text-align: right;\n    }\n</style>\n<table border=\"1\" class=\"dataframe\">\n  <thead>\n    <tr style=\"text-align: right;\">\n      <th></th>\n      <th>date</th>\n      <th>short_url</th>\n      <th>title</th>\n      <th>text_title</th>\n      <th>full_url</th>\n      <th>main_html</th>\n      <th>main_html_v5</th>\n      <th>report_text_lemm</th>\n      <th>report_text_stemm</th>\n      <th>keywords</th>\n      <th>report_date</th>\n      <th>date_tomorrow_datetime</th>\n    </tr>\n  </thead>\n  <tbody>\n    <tr>\n      <th>0</th>\n      <td>2023-05-02</td>\n      <td>russian_offensive_campaign_assessment_May_2_2023</td>\n      <td>Russian Offensive Campaign Assessment, May 2, ...</td>\n      <td>Russian Offensive Campaign Assessment, May 2, ...</td>\n      <td>/backgrounder/russian-offensive-campaign-asses...</td>\n      <td>[[[ , &lt;p align=\"center\" style=\"text-align: lef...</td>\n      <td>Russian Offensive Campaign Assessment, May 2,...</td>\n      <td>russian offens campaign ass may riley bailey ...</td>\n      <td>russian offen campaign assess may riley baile...</td>\n      <td>{'russian': 0.686, 'ukrainian': 0.332, 'forc':...</td>\n      <td>2023-05-02</td>\n      <td>2023-05-03</td>\n    </tr>\n  </tbody>\n</table>\n</div>"
     },
     "execution_count": 204,
     "metadata": {},
     "output_type": "execute_result"
    }
   ],
   "source": [
    "data_preprocessed.head()"
   ]
  },
  {
   "cell_type": "code",
   "execution_count": 205,
   "id": "72ff12f6",
   "metadata": {
    "ExecuteTime": {
     "start_time": "2023-05-03T15:35:40.748611Z",
     "end_time": "2023-05-03T15:35:40.818039Z"
    }
   },
   "outputs": [],
   "source": [
    "data_vectorised = tf_idf_vector.toarray()\n",
    "vectors_df = pd.DataFrame(data_vectorised)\n",
    "vectors_df['date'] = pd.to_datetime(today)\n"
   ]
  },
  {
   "cell_type": "code",
   "execution_count": 206,
   "id": "2e66d70b",
   "metadata": {
    "ExecuteTime": {
     "start_time": "2023-05-03T15:35:40.774242Z",
     "end_time": "2023-05-03T15:35:40.880087Z"
    }
   },
   "outputs": [
    {
     "data": {
      "text/plain": "          0         1         2         3         4         5         6   \n0  0.005536  0.005536  0.011072  0.005536  0.011072  0.011072  0.005536  \\\n\n          7         8         9  ...       705       706       707       708   \n0  0.011072  0.005536  0.016608  ...  0.005536  0.005536  0.011072  0.005536  \\\n\n        709      710       711       712       713       date  \n0  0.005536  0.02768  0.005536  0.022144  0.005536 2023-05-03  \n\n[1 rows x 715 columns]",
      "text/html": "<div>\n<style scoped>\n    .dataframe tbody tr th:only-of-type {\n        vertical-align: middle;\n    }\n\n    .dataframe tbody tr th {\n        vertical-align: top;\n    }\n\n    .dataframe thead th {\n        text-align: right;\n    }\n</style>\n<table border=\"1\" class=\"dataframe\">\n  <thead>\n    <tr style=\"text-align: right;\">\n      <th></th>\n      <th>0</th>\n      <th>1</th>\n      <th>2</th>\n      <th>3</th>\n      <th>4</th>\n      <th>5</th>\n      <th>6</th>\n      <th>7</th>\n      <th>8</th>\n      <th>9</th>\n      <th>...</th>\n      <th>705</th>\n      <th>706</th>\n      <th>707</th>\n      <th>708</th>\n      <th>709</th>\n      <th>710</th>\n      <th>711</th>\n      <th>712</th>\n      <th>713</th>\n      <th>date</th>\n    </tr>\n  </thead>\n  <tbody>\n    <tr>\n      <th>0</th>\n      <td>0.005536</td>\n      <td>0.005536</td>\n      <td>0.011072</td>\n      <td>0.005536</td>\n      <td>0.011072</td>\n      <td>0.011072</td>\n      <td>0.005536</td>\n      <td>0.011072</td>\n      <td>0.005536</td>\n      <td>0.016608</td>\n      <td>...</td>\n      <td>0.005536</td>\n      <td>0.005536</td>\n      <td>0.011072</td>\n      <td>0.005536</td>\n      <td>0.005536</td>\n      <td>0.02768</td>\n      <td>0.005536</td>\n      <td>0.022144</td>\n      <td>0.005536</td>\n      <td>2023-05-03</td>\n    </tr>\n  </tbody>\n</table>\n<p>1 rows × 715 columns</p>\n</div>"
     },
     "execution_count": 206,
     "metadata": {},
     "output_type": "execute_result"
    }
   ],
   "source": [
    "vectors_df.head()"
   ]
  },
  {
   "cell_type": "code",
   "execution_count": 207,
   "id": "223b25d3",
   "metadata": {
    "ExecuteTime": {
     "start_time": "2023-05-03T15:35:40.789809Z",
     "end_time": "2023-05-03T15:35:40.880087Z"
    }
   },
   "outputs": [],
   "source": [
    "df_isw_short = data_preprocessed[['date','report_text_lemm','keywords','date_tomorrow_datetime']]"
   ]
  },
  {
   "cell_type": "code",
   "execution_count": 208,
   "id": "bdbd90ee",
   "metadata": {
    "ExecuteTime": {
     "start_time": "2023-05-03T15:35:40.815006Z",
     "end_time": "2023-05-03T15:35:40.881619Z"
    },
    "scrolled": true
   },
   "outputs": [
    {
     "data": {
      "text/plain": "        date                                   report_text_lemm   \n0 2023-05-02   russian offens campaign ass may riley bailey ...  \\\n\n                                            keywords date_tomorrow_datetime  \n0  {'russian': 0.686, 'ukrainian': 0.332, 'forc':...             2023-05-03  ",
      "text/html": "<div>\n<style scoped>\n    .dataframe tbody tr th:only-of-type {\n        vertical-align: middle;\n    }\n\n    .dataframe tbody tr th {\n        vertical-align: top;\n    }\n\n    .dataframe thead th {\n        text-align: right;\n    }\n</style>\n<table border=\"1\" class=\"dataframe\">\n  <thead>\n    <tr style=\"text-align: right;\">\n      <th></th>\n      <th>date</th>\n      <th>report_text_lemm</th>\n      <th>keywords</th>\n      <th>date_tomorrow_datetime</th>\n    </tr>\n  </thead>\n  <tbody>\n    <tr>\n      <th>0</th>\n      <td>2023-05-02</td>\n      <td>russian offens campaign ass may riley bailey ...</td>\n      <td>{'russian': 0.686, 'ukrainian': 0.332, 'forc':...</td>\n      <td>2023-05-03</td>\n    </tr>\n  </tbody>\n</table>\n</div>"
     },
     "execution_count": 208,
     "metadata": {},
     "output_type": "execute_result"
    }
   ],
   "source": [
    "df_isw_short.head()"
   ]
  },
  {
   "cell_type": "markdown",
   "id": "b92fdd2c",
   "metadata": {},
   "source": [
    "## Get weather and make predictions for all regions"
   ]
  },
  {
   "cell_type": "code",
   "execution_count": 209,
   "id": "5db9d5fe",
   "metadata": {
    "ExecuteTime": {
     "start_time": "2023-05-03T15:35:40.824313Z",
     "end_time": "2023-05-03T15:35:41.734484Z"
    }
   },
   "outputs": [
    {
     "name": "stderr",
     "output_type": "stream",
     "text": [
      "C:\\Users\\dimai\\AppData\\Local\\Temp\\ipykernel_12068\\660841987.py:3: DeprecationWarning: Please use `csr_matrix` from the `scipy.sparse` namespace, the `scipy.sparse.csr` namespace is deprecated.\n",
      "  tfidf = pickle.load(open(\"models/tfidf_transformer_v1.pkl\",\"rb\"))\n",
      "C:\\Users\\dimai\\AppData\\Local\\Programs\\Python\\Python310\\lib\\site-packages\\sklearn\\base.py:318: UserWarning: Trying to unpickle estimator TfidfTransformer from version 0.24.2 when using version 1.2.2. This might lead to breaking code or invalid results. Use at your own risk. For more info please refer to:\n",
      "https://scikit-learn.org/stable/model_persistence.html#security-maintainability-limitations\n",
      "  warnings.warn(\n",
      "C:\\Users\\dimai\\AppData\\Local\\Programs\\Python\\Python310\\lib\\site-packages\\sklearn\\base.py:318: UserWarning: Trying to unpickle estimator CountVectorizer from version 0.24.2 when using version 1.2.2. This might lead to breaking code or invalid results. Use at your own risk. For more info please refer to:\n",
      "https://scikit-learn.org/stable/model_persistence.html#security-maintainability-limitations\n",
      "  warnings.warn(\n"
     ]
    }
   ],
   "source": [
    "# load necessary models\n",
    "\n",
    "tfidf = pickle.load(open(\"models/tfidf_transformer_v1.pkl\",\"rb\"))\n",
    "cv = pickle.load(open(\"models/count_vectorizer_v1.pkl\",\"rb\"))\n",
    "model = pickle.load(open(\"models/training_models/4_rf_3.1f.pkl\",\"rb\"))"
   ]
  },
  {
   "cell_type": "code",
   "execution_count": 210,
   "id": "434a4f1e",
   "metadata": {
    "ExecuteTime": {
     "start_time": "2023-05-03T15:35:41.735482Z",
     "end_time": "2023-05-03T15:35:43.073402Z"
    }
   },
   "outputs": [
    {
     "name": "stderr",
     "output_type": "stream",
     "text": [
      "C:\\Users\\dimai\\Documents\\Study\\Python\\Alert-Prediction\\utils\\get_weather.py:79: UserWarning: Could not infer format, so each element will be parsed individually, falling back to `dateutil`. To ensure parsing is consistent and as-expected, please specify a format.\n",
      "  df_weather_hours['hour_int']=pd.to_datetime(df_weather_hours['hour_datetime']).dt.hour\n",
      "C:\\Users\\dimai\\Documents\\Study\\Python\\Alert-Prediction\\utils\\get_weather.py:79: UserWarning: Could not infer format, so each element will be parsed individually, falling back to `dateutil`. To ensure parsing is consistent and as-expected, please specify a format.\n",
      "  df_weather_hours['hour_int']=pd.to_datetime(df_weather_hours['hour_datetime']).dt.hour\n",
      "C:\\Users\\dimai\\AppData\\Local\\Temp\\ipykernel_12068\\2919423775.py:14: SettingWithCopyWarning: \n",
      "A value is trying to be set on a copy of a slice from a DataFrame.\n",
      "Try using .loc[row_indexer,col_indexer] = value instead\n",
      "\n",
      "See the caveats in the documentation: https://pandas.pydata.org/pandas-docs/stable/user_guide/indexing.html#returning-a-view-versus-a-copy\n",
      "  df_isw_short['key']=1\n",
      "C:\\Users\\dimai\\Documents\\Study\\Python\\Alert-Prediction\\utils\\get_weather.py:79: UserWarning: Could not infer format, so each element will be parsed individually, falling back to `dateutil`. To ensure parsing is consistent and as-expected, please specify a format.\n",
      "  df_weather_hours['hour_int']=pd.to_datetime(df_weather_hours['hour_datetime']).dt.hour\n",
      "C:\\Users\\dimai\\Documents\\Study\\Python\\Alert-Prediction\\utils\\get_weather.py:79: UserWarning: Could not infer format, so each element will be parsed individually, falling back to `dateutil`. To ensure parsing is consistent and as-expected, please specify a format.\n",
      "  df_weather_hours['hour_int']=pd.to_datetime(df_weather_hours['hour_datetime']).dt.hour\n",
      "C:\\Users\\dimai\\AppData\\Local\\Temp\\ipykernel_12068\\2919423775.py:14: SettingWithCopyWarning: \n",
      "A value is trying to be set on a copy of a slice from a DataFrame.\n",
      "Try using .loc[row_indexer,col_indexer] = value instead\n",
      "\n",
      "See the caveats in the documentation: https://pandas.pydata.org/pandas-docs/stable/user_guide/indexing.html#returning-a-view-versus-a-copy\n",
      "  df_isw_short['key']=1\n",
      "C:\\Users\\dimai\\Documents\\Study\\Python\\Alert-Prediction\\utils\\get_weather.py:79: UserWarning: Could not infer format, so each element will be parsed individually, falling back to `dateutil`. To ensure parsing is consistent and as-expected, please specify a format.\n",
      "  df_weather_hours['hour_int']=pd.to_datetime(df_weather_hours['hour_datetime']).dt.hour\n",
      "C:\\Users\\dimai\\Documents\\Study\\Python\\Alert-Prediction\\utils\\get_weather.py:79: UserWarning: Could not infer format, so each element will be parsed individually, falling back to `dateutil`. To ensure parsing is consistent and as-expected, please specify a format.\n",
      "  df_weather_hours['hour_int']=pd.to_datetime(df_weather_hours['hour_datetime']).dt.hour\n",
      "C:\\Users\\dimai\\AppData\\Local\\Temp\\ipykernel_12068\\2919423775.py:14: SettingWithCopyWarning: \n",
      "A value is trying to be set on a copy of a slice from a DataFrame.\n",
      "Try using .loc[row_indexer,col_indexer] = value instead\n",
      "\n",
      "See the caveats in the documentation: https://pandas.pydata.org/pandas-docs/stable/user_guide/indexing.html#returning-a-view-versus-a-copy\n",
      "  df_isw_short['key']=1\n",
      "C:\\Users\\dimai\\Documents\\Study\\Python\\Alert-Prediction\\utils\\get_weather.py:79: UserWarning: Could not infer format, so each element will be parsed individually, falling back to `dateutil`. To ensure parsing is consistent and as-expected, please specify a format.\n",
      "  df_weather_hours['hour_int']=pd.to_datetime(df_weather_hours['hour_datetime']).dt.hour\n",
      "C:\\Users\\dimai\\Documents\\Study\\Python\\Alert-Prediction\\utils\\get_weather.py:79: UserWarning: Could not infer format, so each element will be parsed individually, falling back to `dateutil`. To ensure parsing is consistent and as-expected, please specify a format.\n",
      "  df_weather_hours['hour_int']=pd.to_datetime(df_weather_hours['hour_datetime']).dt.hour\n",
      "C:\\Users\\dimai\\AppData\\Local\\Temp\\ipykernel_12068\\2919423775.py:14: SettingWithCopyWarning: \n",
      "A value is trying to be set on a copy of a slice from a DataFrame.\n",
      "Try using .loc[row_indexer,col_indexer] = value instead\n",
      "\n",
      "See the caveats in the documentation: https://pandas.pydata.org/pandas-docs/stable/user_guide/indexing.html#returning-a-view-versus-a-copy\n",
      "  df_isw_short['key']=1\n",
      "C:\\Users\\dimai\\Documents\\Study\\Python\\Alert-Prediction\\utils\\get_weather.py:79: UserWarning: Could not infer format, so each element will be parsed individually, falling back to `dateutil`. To ensure parsing is consistent and as-expected, please specify a format.\n",
      "  df_weather_hours['hour_int']=pd.to_datetime(df_weather_hours['hour_datetime']).dt.hour\n",
      "C:\\Users\\dimai\\Documents\\Study\\Python\\Alert-Prediction\\utils\\get_weather.py:79: UserWarning: Could not infer format, so each element will be parsed individually, falling back to `dateutil`. To ensure parsing is consistent and as-expected, please specify a format.\n",
      "  df_weather_hours['hour_int']=pd.to_datetime(df_weather_hours['hour_datetime']).dt.hour\n",
      "C:\\Users\\dimai\\AppData\\Local\\Temp\\ipykernel_12068\\2919423775.py:14: SettingWithCopyWarning: \n",
      "A value is trying to be set on a copy of a slice from a DataFrame.\n",
      "Try using .loc[row_indexer,col_indexer] = value instead\n",
      "\n",
      "See the caveats in the documentation: https://pandas.pydata.org/pandas-docs/stable/user_guide/indexing.html#returning-a-view-versus-a-copy\n",
      "  df_isw_short['key']=1\n",
      "C:\\Users\\dimai\\Documents\\Study\\Python\\Alert-Prediction\\utils\\get_weather.py:79: UserWarning: Could not infer format, so each element will be parsed individually, falling back to `dateutil`. To ensure parsing is consistent and as-expected, please specify a format.\n",
      "  df_weather_hours['hour_int']=pd.to_datetime(df_weather_hours['hour_datetime']).dt.hour\n",
      "C:\\Users\\dimai\\Documents\\Study\\Python\\Alert-Prediction\\utils\\get_weather.py:79: UserWarning: Could not infer format, so each element will be parsed individually, falling back to `dateutil`. To ensure parsing is consistent and as-expected, please specify a format.\n",
      "  df_weather_hours['hour_int']=pd.to_datetime(df_weather_hours['hour_datetime']).dt.hour\n",
      "C:\\Users\\dimai\\AppData\\Local\\Temp\\ipykernel_12068\\2919423775.py:14: SettingWithCopyWarning: \n",
      "A value is trying to be set on a copy of a slice from a DataFrame.\n",
      "Try using .loc[row_indexer,col_indexer] = value instead\n",
      "\n",
      "See the caveats in the documentation: https://pandas.pydata.org/pandas-docs/stable/user_guide/indexing.html#returning-a-view-versus-a-copy\n",
      "  df_isw_short['key']=1\n",
      "C:\\Users\\dimai\\Documents\\Study\\Python\\Alert-Prediction\\utils\\get_weather.py:79: UserWarning: Could not infer format, so each element will be parsed individually, falling back to `dateutil`. To ensure parsing is consistent and as-expected, please specify a format.\n",
      "  df_weather_hours['hour_int']=pd.to_datetime(df_weather_hours['hour_datetime']).dt.hour\n",
      "C:\\Users\\dimai\\Documents\\Study\\Python\\Alert-Prediction\\utils\\get_weather.py:79: UserWarning: Could not infer format, so each element will be parsed individually, falling back to `dateutil`. To ensure parsing is consistent and as-expected, please specify a format.\n",
      "  df_weather_hours['hour_int']=pd.to_datetime(df_weather_hours['hour_datetime']).dt.hour\n",
      "C:\\Users\\dimai\\AppData\\Local\\Temp\\ipykernel_12068\\2919423775.py:14: SettingWithCopyWarning: \n",
      "A value is trying to be set on a copy of a slice from a DataFrame.\n",
      "Try using .loc[row_indexer,col_indexer] = value instead\n",
      "\n",
      "See the caveats in the documentation: https://pandas.pydata.org/pandas-docs/stable/user_guide/indexing.html#returning-a-view-versus-a-copy\n",
      "  df_isw_short['key']=1\n",
      "C:\\Users\\dimai\\Documents\\Study\\Python\\Alert-Prediction\\utils\\get_weather.py:79: UserWarning: Could not infer format, so each element will be parsed individually, falling back to `dateutil`. To ensure parsing is consistent and as-expected, please specify a format.\n",
      "  df_weather_hours['hour_int']=pd.to_datetime(df_weather_hours['hour_datetime']).dt.hour\n",
      "C:\\Users\\dimai\\Documents\\Study\\Python\\Alert-Prediction\\utils\\get_weather.py:79: UserWarning: Could not infer format, so each element will be parsed individually, falling back to `dateutil`. To ensure parsing is consistent and as-expected, please specify a format.\n",
      "  df_weather_hours['hour_int']=pd.to_datetime(df_weather_hours['hour_datetime']).dt.hour\n",
      "C:\\Users\\dimai\\AppData\\Local\\Temp\\ipykernel_12068\\2919423775.py:14: SettingWithCopyWarning: \n",
      "A value is trying to be set on a copy of a slice from a DataFrame.\n",
      "Try using .loc[row_indexer,col_indexer] = value instead\n",
      "\n",
      "See the caveats in the documentation: https://pandas.pydata.org/pandas-docs/stable/user_guide/indexing.html#returning-a-view-versus-a-copy\n",
      "  df_isw_short['key']=1\n",
      "C:\\Users\\dimai\\Documents\\Study\\Python\\Alert-Prediction\\utils\\get_weather.py:79: UserWarning: Could not infer format, so each element will be parsed individually, falling back to `dateutil`. To ensure parsing is consistent and as-expected, please specify a format.\n",
      "  df_weather_hours['hour_int']=pd.to_datetime(df_weather_hours['hour_datetime']).dt.hour\n",
      "C:\\Users\\dimai\\Documents\\Study\\Python\\Alert-Prediction\\utils\\get_weather.py:79: UserWarning: Could not infer format, so each element will be parsed individually, falling back to `dateutil`. To ensure parsing is consistent and as-expected, please specify a format.\n",
      "  df_weather_hours['hour_int']=pd.to_datetime(df_weather_hours['hour_datetime']).dt.hour\n",
      "C:\\Users\\dimai\\AppData\\Local\\Temp\\ipykernel_12068\\2919423775.py:14: SettingWithCopyWarning: \n",
      "A value is trying to be set on a copy of a slice from a DataFrame.\n",
      "Try using .loc[row_indexer,col_indexer] = value instead\n",
      "\n",
      "See the caveats in the documentation: https://pandas.pydata.org/pandas-docs/stable/user_guide/indexing.html#returning-a-view-versus-a-copy\n",
      "  df_isw_short['key']=1\n",
      "C:\\Users\\dimai\\Documents\\Study\\Python\\Alert-Prediction\\utils\\get_weather.py:79: UserWarning: Could not infer format, so each element will be parsed individually, falling back to `dateutil`. To ensure parsing is consistent and as-expected, please specify a format.\n",
      "  df_weather_hours['hour_int']=pd.to_datetime(df_weather_hours['hour_datetime']).dt.hour\n",
      "C:\\Users\\dimai\\Documents\\Study\\Python\\Alert-Prediction\\utils\\get_weather.py:79: UserWarning: Could not infer format, so each element will be parsed individually, falling back to `dateutil`. To ensure parsing is consistent and as-expected, please specify a format.\n",
      "  df_weather_hours['hour_int']=pd.to_datetime(df_weather_hours['hour_datetime']).dt.hour\n",
      "C:\\Users\\dimai\\AppData\\Local\\Temp\\ipykernel_12068\\2919423775.py:14: SettingWithCopyWarning: \n",
      "A value is trying to be set on a copy of a slice from a DataFrame.\n",
      "Try using .loc[row_indexer,col_indexer] = value instead\n",
      "\n",
      "See the caveats in the documentation: https://pandas.pydata.org/pandas-docs/stable/user_guide/indexing.html#returning-a-view-versus-a-copy\n",
      "  df_isw_short['key']=1\n",
      "C:\\Users\\dimai\\Documents\\Study\\Python\\Alert-Prediction\\utils\\get_weather.py:79: UserWarning: Could not infer format, so each element will be parsed individually, falling back to `dateutil`. To ensure parsing is consistent and as-expected, please specify a format.\n",
      "  df_weather_hours['hour_int']=pd.to_datetime(df_weather_hours['hour_datetime']).dt.hour\n",
      "C:\\Users\\dimai\\Documents\\Study\\Python\\Alert-Prediction\\utils\\get_weather.py:79: UserWarning: Could not infer format, so each element will be parsed individually, falling back to `dateutil`. To ensure parsing is consistent and as-expected, please specify a format.\n",
      "  df_weather_hours['hour_int']=pd.to_datetime(df_weather_hours['hour_datetime']).dt.hour\n",
      "C:\\Users\\dimai\\AppData\\Local\\Temp\\ipykernel_12068\\2919423775.py:14: SettingWithCopyWarning: \n",
      "A value is trying to be set on a copy of a slice from a DataFrame.\n",
      "Try using .loc[row_indexer,col_indexer] = value instead\n",
      "\n",
      "See the caveats in the documentation: https://pandas.pydata.org/pandas-docs/stable/user_guide/indexing.html#returning-a-view-versus-a-copy\n",
      "  df_isw_short['key']=1\n",
      "C:\\Users\\dimai\\Documents\\Study\\Python\\Alert-Prediction\\utils\\get_weather.py:79: UserWarning: Could not infer format, so each element will be parsed individually, falling back to `dateutil`. To ensure parsing is consistent and as-expected, please specify a format.\n",
      "  df_weather_hours['hour_int']=pd.to_datetime(df_weather_hours['hour_datetime']).dt.hour\n",
      "C:\\Users\\dimai\\Documents\\Study\\Python\\Alert-Prediction\\utils\\get_weather.py:79: UserWarning: Could not infer format, so each element will be parsed individually, falling back to `dateutil`. To ensure parsing is consistent and as-expected, please specify a format.\n",
      "  df_weather_hours['hour_int']=pd.to_datetime(df_weather_hours['hour_datetime']).dt.hour\n",
      "C:\\Users\\dimai\\AppData\\Local\\Temp\\ipykernel_12068\\2919423775.py:14: SettingWithCopyWarning: \n",
      "A value is trying to be set on a copy of a slice from a DataFrame.\n",
      "Try using .loc[row_indexer,col_indexer] = value instead\n",
      "\n",
      "See the caveats in the documentation: https://pandas.pydata.org/pandas-docs/stable/user_guide/indexing.html#returning-a-view-versus-a-copy\n",
      "  df_isw_short['key']=1\n",
      "C:\\Users\\dimai\\Documents\\Study\\Python\\Alert-Prediction\\utils\\get_weather.py:79: UserWarning: Could not infer format, so each element will be parsed individually, falling back to `dateutil`. To ensure parsing is consistent and as-expected, please specify a format.\n",
      "  df_weather_hours['hour_int']=pd.to_datetime(df_weather_hours['hour_datetime']).dt.hour\n",
      "C:\\Users\\dimai\\Documents\\Study\\Python\\Alert-Prediction\\utils\\get_weather.py:79: UserWarning: Could not infer format, so each element will be parsed individually, falling back to `dateutil`. To ensure parsing is consistent and as-expected, please specify a format.\n",
      "  df_weather_hours['hour_int']=pd.to_datetime(df_weather_hours['hour_datetime']).dt.hour\n",
      "C:\\Users\\dimai\\AppData\\Local\\Temp\\ipykernel_12068\\2919423775.py:14: SettingWithCopyWarning: \n",
      "A value is trying to be set on a copy of a slice from a DataFrame.\n",
      "Try using .loc[row_indexer,col_indexer] = value instead\n",
      "\n",
      "See the caveats in the documentation: https://pandas.pydata.org/pandas-docs/stable/user_guide/indexing.html#returning-a-view-versus-a-copy\n",
      "  df_isw_short['key']=1\n",
      "C:\\Users\\dimai\\Documents\\Study\\Python\\Alert-Prediction\\utils\\get_weather.py:79: UserWarning: Could not infer format, so each element will be parsed individually, falling back to `dateutil`. To ensure parsing is consistent and as-expected, please specify a format.\n",
      "  df_weather_hours['hour_int']=pd.to_datetime(df_weather_hours['hour_datetime']).dt.hour\n",
      "C:\\Users\\dimai\\Documents\\Study\\Python\\Alert-Prediction\\utils\\get_weather.py:79: UserWarning: Could not infer format, so each element will be parsed individually, falling back to `dateutil`. To ensure parsing is consistent and as-expected, please specify a format.\n",
      "  df_weather_hours['hour_int']=pd.to_datetime(df_weather_hours['hour_datetime']).dt.hour\n",
      "C:\\Users\\dimai\\AppData\\Local\\Temp\\ipykernel_12068\\2919423775.py:14: SettingWithCopyWarning: \n",
      "A value is trying to be set on a copy of a slice from a DataFrame.\n",
      "Try using .loc[row_indexer,col_indexer] = value instead\n",
      "\n",
      "See the caveats in the documentation: https://pandas.pydata.org/pandas-docs/stable/user_guide/indexing.html#returning-a-view-versus-a-copy\n",
      "  df_isw_short['key']=1\n",
      "C:\\Users\\dimai\\Documents\\Study\\Python\\Alert-Prediction\\utils\\get_weather.py:79: UserWarning: Could not infer format, so each element will be parsed individually, falling back to `dateutil`. To ensure parsing is consistent and as-expected, please specify a format.\n",
      "  df_weather_hours['hour_int']=pd.to_datetime(df_weather_hours['hour_datetime']).dt.hour\n",
      "C:\\Users\\dimai\\Documents\\Study\\Python\\Alert-Prediction\\utils\\get_weather.py:79: UserWarning: Could not infer format, so each element will be parsed individually, falling back to `dateutil`. To ensure parsing is consistent and as-expected, please specify a format.\n",
      "  df_weather_hours['hour_int']=pd.to_datetime(df_weather_hours['hour_datetime']).dt.hour\n",
      "C:\\Users\\dimai\\AppData\\Local\\Temp\\ipykernel_12068\\2919423775.py:14: SettingWithCopyWarning: \n",
      "A value is trying to be set on a copy of a slice from a DataFrame.\n",
      "Try using .loc[row_indexer,col_indexer] = value instead\n",
      "\n",
      "See the caveats in the documentation: https://pandas.pydata.org/pandas-docs/stable/user_guide/indexing.html#returning-a-view-versus-a-copy\n",
      "  df_isw_short['key']=1\n",
      "C:\\Users\\dimai\\Documents\\Study\\Python\\Alert-Prediction\\utils\\get_weather.py:79: UserWarning: Could not infer format, so each element will be parsed individually, falling back to `dateutil`. To ensure parsing is consistent and as-expected, please specify a format.\n",
      "  df_weather_hours['hour_int']=pd.to_datetime(df_weather_hours['hour_datetime']).dt.hour\n",
      "C:\\Users\\dimai\\Documents\\Study\\Python\\Alert-Prediction\\utils\\get_weather.py:79: UserWarning: Could not infer format, so each element will be parsed individually, falling back to `dateutil`. To ensure parsing is consistent and as-expected, please specify a format.\n",
      "  df_weather_hours['hour_int']=pd.to_datetime(df_weather_hours['hour_datetime']).dt.hour\n",
      "C:\\Users\\dimai\\AppData\\Local\\Temp\\ipykernel_12068\\2919423775.py:14: SettingWithCopyWarning: \n",
      "A value is trying to be set on a copy of a slice from a DataFrame.\n",
      "Try using .loc[row_indexer,col_indexer] = value instead\n",
      "\n",
      "See the caveats in the documentation: https://pandas.pydata.org/pandas-docs/stable/user_guide/indexing.html#returning-a-view-versus-a-copy\n",
      "  df_isw_short['key']=1\n",
      "C:\\Users\\dimai\\Documents\\Study\\Python\\Alert-Prediction\\utils\\get_weather.py:79: UserWarning: Could not infer format, so each element will be parsed individually, falling back to `dateutil`. To ensure parsing is consistent and as-expected, please specify a format.\n",
      "  df_weather_hours['hour_int']=pd.to_datetime(df_weather_hours['hour_datetime']).dt.hour\n",
      "C:\\Users\\dimai\\Documents\\Study\\Python\\Alert-Prediction\\utils\\get_weather.py:79: UserWarning: Could not infer format, so each element will be parsed individually, falling back to `dateutil`. To ensure parsing is consistent and as-expected, please specify a format.\n",
      "  df_weather_hours['hour_int']=pd.to_datetime(df_weather_hours['hour_datetime']).dt.hour\n",
      "C:\\Users\\dimai\\AppData\\Local\\Temp\\ipykernel_12068\\2919423775.py:14: SettingWithCopyWarning: \n",
      "A value is trying to be set on a copy of a slice from a DataFrame.\n",
      "Try using .loc[row_indexer,col_indexer] = value instead\n",
      "\n",
      "See the caveats in the documentation: https://pandas.pydata.org/pandas-docs/stable/user_guide/indexing.html#returning-a-view-versus-a-copy\n",
      "  df_isw_short['key']=1\n",
      "C:\\Users\\dimai\\Documents\\Study\\Python\\Alert-Prediction\\utils\\get_weather.py:79: UserWarning: Could not infer format, so each element will be parsed individually, falling back to `dateutil`. To ensure parsing is consistent and as-expected, please specify a format.\n",
      "  df_weather_hours['hour_int']=pd.to_datetime(df_weather_hours['hour_datetime']).dt.hour\n",
      "C:\\Users\\dimai\\Documents\\Study\\Python\\Alert-Prediction\\utils\\get_weather.py:79: UserWarning: Could not infer format, so each element will be parsed individually, falling back to `dateutil`. To ensure parsing is consistent and as-expected, please specify a format.\n",
      "  df_weather_hours['hour_int']=pd.to_datetime(df_weather_hours['hour_datetime']).dt.hour\n",
      "C:\\Users\\dimai\\AppData\\Local\\Temp\\ipykernel_12068\\2919423775.py:14: SettingWithCopyWarning: \n",
      "A value is trying to be set on a copy of a slice from a DataFrame.\n",
      "Try using .loc[row_indexer,col_indexer] = value instead\n",
      "\n",
      "See the caveats in the documentation: https://pandas.pydata.org/pandas-docs/stable/user_guide/indexing.html#returning-a-view-versus-a-copy\n",
      "  df_isw_short['key']=1\n",
      "C:\\Users\\dimai\\Documents\\Study\\Python\\Alert-Prediction\\utils\\get_weather.py:79: UserWarning: Could not infer format, so each element will be parsed individually, falling back to `dateutil`. To ensure parsing is consistent and as-expected, please specify a format.\n",
      "  df_weather_hours['hour_int']=pd.to_datetime(df_weather_hours['hour_datetime']).dt.hour\n",
      "C:\\Users\\dimai\\Documents\\Study\\Python\\Alert-Prediction\\utils\\get_weather.py:79: UserWarning: Could not infer format, so each element will be parsed individually, falling back to `dateutil`. To ensure parsing is consistent and as-expected, please specify a format.\n",
      "  df_weather_hours['hour_int']=pd.to_datetime(df_weather_hours['hour_datetime']).dt.hour\n",
      "C:\\Users\\dimai\\AppData\\Local\\Temp\\ipykernel_12068\\2919423775.py:14: SettingWithCopyWarning: \n",
      "A value is trying to be set on a copy of a slice from a DataFrame.\n",
      "Try using .loc[row_indexer,col_indexer] = value instead\n",
      "\n",
      "See the caveats in the documentation: https://pandas.pydata.org/pandas-docs/stable/user_guide/indexing.html#returning-a-view-versus-a-copy\n",
      "  df_isw_short['key']=1\n",
      "C:\\Users\\dimai\\Documents\\Study\\Python\\Alert-Prediction\\utils\\get_weather.py:79: UserWarning: Could not infer format, so each element will be parsed individually, falling back to `dateutil`. To ensure parsing is consistent and as-expected, please specify a format.\n",
      "  df_weather_hours['hour_int']=pd.to_datetime(df_weather_hours['hour_datetime']).dt.hour\n",
      "C:\\Users\\dimai\\Documents\\Study\\Python\\Alert-Prediction\\utils\\get_weather.py:79: UserWarning: Could not infer format, so each element will be parsed individually, falling back to `dateutil`. To ensure parsing is consistent and as-expected, please specify a format.\n",
      "  df_weather_hours['hour_int']=pd.to_datetime(df_weather_hours['hour_datetime']).dt.hour\n",
      "C:\\Users\\dimai\\AppData\\Local\\Temp\\ipykernel_12068\\2919423775.py:14: SettingWithCopyWarning: \n",
      "A value is trying to be set on a copy of a slice from a DataFrame.\n",
      "Try using .loc[row_indexer,col_indexer] = value instead\n",
      "\n",
      "See the caveats in the documentation: https://pandas.pydata.org/pandas-docs/stable/user_guide/indexing.html#returning-a-view-versus-a-copy\n",
      "  df_isw_short['key']=1\n",
      "C:\\Users\\dimai\\Documents\\Study\\Python\\Alert-Prediction\\utils\\get_weather.py:79: UserWarning: Could not infer format, so each element will be parsed individually, falling back to `dateutil`. To ensure parsing is consistent and as-expected, please specify a format.\n",
      "  df_weather_hours['hour_int']=pd.to_datetime(df_weather_hours['hour_datetime']).dt.hour\n",
      "C:\\Users\\dimai\\Documents\\Study\\Python\\Alert-Prediction\\utils\\get_weather.py:79: UserWarning: Could not infer format, so each element will be parsed individually, falling back to `dateutil`. To ensure parsing is consistent and as-expected, please specify a format.\n",
      "  df_weather_hours['hour_int']=pd.to_datetime(df_weather_hours['hour_datetime']).dt.hour\n",
      "C:\\Users\\dimai\\AppData\\Local\\Temp\\ipykernel_12068\\2919423775.py:14: SettingWithCopyWarning: \n",
      "A value is trying to be set on a copy of a slice from a DataFrame.\n",
      "Try using .loc[row_indexer,col_indexer] = value instead\n",
      "\n",
      "See the caveats in the documentation: https://pandas.pydata.org/pandas-docs/stable/user_guide/indexing.html#returning-a-view-versus-a-copy\n",
      "  df_isw_short['key']=1\n",
      "C:\\Users\\dimai\\Documents\\Study\\Python\\Alert-Prediction\\utils\\get_weather.py:79: UserWarning: Could not infer format, so each element will be parsed individually, falling back to `dateutil`. To ensure parsing is consistent and as-expected, please specify a format.\n",
      "  df_weather_hours['hour_int']=pd.to_datetime(df_weather_hours['hour_datetime']).dt.hour\n",
      "C:\\Users\\dimai\\Documents\\Study\\Python\\Alert-Prediction\\utils\\get_weather.py:79: UserWarning: Could not infer format, so each element will be parsed individually, falling back to `dateutil`. To ensure parsing is consistent and as-expected, please specify a format.\n",
      "  df_weather_hours['hour_int']=pd.to_datetime(df_weather_hours['hour_datetime']).dt.hour\n",
      "C:\\Users\\dimai\\AppData\\Local\\Temp\\ipykernel_12068\\2919423775.py:14: SettingWithCopyWarning: \n",
      "A value is trying to be set on a copy of a slice from a DataFrame.\n",
      "Try using .loc[row_indexer,col_indexer] = value instead\n",
      "\n",
      "See the caveats in the documentation: https://pandas.pydata.org/pandas-docs/stable/user_guide/indexing.html#returning-a-view-versus-a-copy\n",
      "  df_isw_short['key']=1\n",
      "C:\\Users\\dimai\\Documents\\Study\\Python\\Alert-Prediction\\utils\\get_weather.py:79: UserWarning: Could not infer format, so each element will be parsed individually, falling back to `dateutil`. To ensure parsing is consistent and as-expected, please specify a format.\n",
      "  df_weather_hours['hour_int']=pd.to_datetime(df_weather_hours['hour_datetime']).dt.hour\n",
      "C:\\Users\\dimai\\Documents\\Study\\Python\\Alert-Prediction\\utils\\get_weather.py:79: UserWarning: Could not infer format, so each element will be parsed individually, falling back to `dateutil`. To ensure parsing is consistent and as-expected, please specify a format.\n",
      "  df_weather_hours['hour_int']=pd.to_datetime(df_weather_hours['hour_datetime']).dt.hour\n",
      "C:\\Users\\dimai\\AppData\\Local\\Temp\\ipykernel_12068\\2919423775.py:14: SettingWithCopyWarning: \n",
      "A value is trying to be set on a copy of a slice from a DataFrame.\n",
      "Try using .loc[row_indexer,col_indexer] = value instead\n",
      "\n",
      "See the caveats in the documentation: https://pandas.pydata.org/pandas-docs/stable/user_guide/indexing.html#returning-a-view-versus-a-copy\n",
      "  df_isw_short['key']=1\n",
      "C:\\Users\\dimai\\Documents\\Study\\Python\\Alert-Prediction\\utils\\get_weather.py:79: UserWarning: Could not infer format, so each element will be parsed individually, falling back to `dateutil`. To ensure parsing is consistent and as-expected, please specify a format.\n",
      "  df_weather_hours['hour_int']=pd.to_datetime(df_weather_hours['hour_datetime']).dt.hour\n",
      "C:\\Users\\dimai\\Documents\\Study\\Python\\Alert-Prediction\\utils\\get_weather.py:79: UserWarning: Could not infer format, so each element will be parsed individually, falling back to `dateutil`. To ensure parsing is consistent and as-expected, please specify a format.\n",
      "  df_weather_hours['hour_int']=pd.to_datetime(df_weather_hours['hour_datetime']).dt.hour\n",
      "C:\\Users\\dimai\\AppData\\Local\\Temp\\ipykernel_12068\\2919423775.py:14: SettingWithCopyWarning: \n",
      "A value is trying to be set on a copy of a slice from a DataFrame.\n",
      "Try using .loc[row_indexer,col_indexer] = value instead\n",
      "\n",
      "See the caveats in the documentation: https://pandas.pydata.org/pandas-docs/stable/user_guide/indexing.html#returning-a-view-versus-a-copy\n",
      "  df_isw_short['key']=1\n",
      "C:\\Users\\dimai\\Documents\\Study\\Python\\Alert-Prediction\\utils\\get_weather.py:79: UserWarning: Could not infer format, so each element will be parsed individually, falling back to `dateutil`. To ensure parsing is consistent and as-expected, please specify a format.\n",
      "  df_weather_hours['hour_int']=pd.to_datetime(df_weather_hours['hour_datetime']).dt.hour\n",
      "C:\\Users\\dimai\\Documents\\Study\\Python\\Alert-Prediction\\utils\\get_weather.py:79: UserWarning: Could not infer format, so each element will be parsed individually, falling back to `dateutil`. To ensure parsing is consistent and as-expected, please specify a format.\n",
      "  df_weather_hours['hour_int']=pd.to_datetime(df_weather_hours['hour_datetime']).dt.hour\n",
      "C:\\Users\\dimai\\AppData\\Local\\Temp\\ipykernel_12068\\2919423775.py:14: SettingWithCopyWarning: \n",
      "A value is trying to be set on a copy of a slice from a DataFrame.\n",
      "Try using .loc[row_indexer,col_indexer] = value instead\n",
      "\n",
      "See the caveats in the documentation: https://pandas.pydata.org/pandas-docs/stable/user_guide/indexing.html#returning-a-view-versus-a-copy\n",
      "  df_isw_short['key']=1\n"
     ]
    },
    {
     "data": {
      "text/plain": "{'Kyiv': {'2023-05-03 15:00': 0,\n  '2023-05-03 16:00': 0,\n  '2023-05-03 17:00': 0,\n  '2023-05-03 18:00': 0,\n  '2023-05-03 19:00': 0,\n  '2023-05-03 20:00': 0,\n  '2023-05-03 21:00': 0,\n  '2023-05-03 22:00': 0,\n  '2023-05-03 23:00': 0,\n  '2023-05-04 00:00': 0,\n  '2023-05-04 01:00': 0,\n  '2023-05-04 02:00': 0},\n 'Kharkiv': {'2023-05-03 15:00': 0,\n  '2023-05-03 16:00': 0,\n  '2023-05-03 17:00': 0,\n  '2023-05-03 18:00': 0,\n  '2023-05-03 19:00': 0,\n  '2023-05-03 20:00': 0,\n  '2023-05-03 21:00': 0,\n  '2023-05-03 22:00': 0,\n  '2023-05-03 23:00': 0,\n  '2023-05-04 00:00': 0,\n  '2023-05-04 01:00': 0,\n  '2023-05-04 02:00': 0},\n 'Lviv': {'2023-05-03 15:00': 0,\n  '2023-05-03 16:00': 0,\n  '2023-05-03 17:00': 0,\n  '2023-05-03 18:00': 0,\n  '2023-05-03 19:00': 0,\n  '2023-05-03 20:00': 0,\n  '2023-05-03 21:00': 0,\n  '2023-05-03 22:00': 0,\n  '2023-05-03 23:00': 0,\n  '2023-05-04 00:00': 0,\n  '2023-05-04 01:00': 0,\n  '2023-05-04 02:00': 0},\n 'Odesa': {'2023-05-03 15:00': 0,\n  '2023-05-03 16:00': 0,\n  '2023-05-03 17:00': 0,\n  '2023-05-03 18:00': 0,\n  '2023-05-03 19:00': 0,\n  '2023-05-03 20:00': 0,\n  '2023-05-03 21:00': 0,\n  '2023-05-03 22:00': 0,\n  '2023-05-03 23:00': 0,\n  '2023-05-04 00:00': 0,\n  '2023-05-04 01:00': 0,\n  '2023-05-04 02:00': 0},\n 'Donetsk': {'2023-05-03 15:00': 0,\n  '2023-05-03 16:00': 0,\n  '2023-05-03 17:00': 0,\n  '2023-05-03 18:00': 0,\n  '2023-05-03 19:00': 0,\n  '2023-05-03 20:00': 0,\n  '2023-05-03 21:00': 0,\n  '2023-05-03 22:00': 0,\n  '2023-05-03 23:00': 0,\n  '2023-05-04 00:00': 0,\n  '2023-05-04 01:00': 0,\n  '2023-05-04 02:00': 0},\n 'Luhansk': {'2023-05-03 15:00': 0,\n  '2023-05-03 16:00': 0,\n  '2023-05-03 17:00': 0,\n  '2023-05-03 18:00': 0,\n  '2023-05-03 19:00': 0,\n  '2023-05-03 20:00': 0,\n  '2023-05-03 21:00': 0,\n  '2023-05-03 22:00': 0,\n  '2023-05-03 23:00': 0,\n  '2023-05-04 00:00': 0,\n  '2023-05-04 01:00': 0,\n  '2023-05-04 02:00': 0},\n 'Kherson': {'2023-05-03 15:00': 0,\n  '2023-05-03 16:00': 0,\n  '2023-05-03 17:00': 0,\n  '2023-05-03 18:00': 0,\n  '2023-05-03 19:00': 0,\n  '2023-05-03 20:00': 0,\n  '2023-05-03 21:00': 0,\n  '2023-05-03 22:00': 0,\n  '2023-05-03 23:00': 0,\n  '2023-05-04 00:00': 0,\n  '2023-05-04 01:00': 0,\n  '2023-05-04 02:00': 0},\n 'Simferopol': {'2023-05-03 15:00': 0,\n  '2023-05-03 16:00': 0,\n  '2023-05-03 17:00': 0,\n  '2023-05-03 18:00': 0,\n  '2023-05-03 19:00': 0,\n  '2023-05-03 20:00': 0,\n  '2023-05-03 21:00': 0,\n  '2023-05-03 22:00': 0,\n  '2023-05-03 23:00': 0,\n  '2023-05-04 00:00': 0,\n  '2023-05-04 01:00': 0,\n  '2023-05-04 02:00': 0},\n 'Mykolaiv': {'2023-05-03 15:00': 0,\n  '2023-05-03 16:00': 0,\n  '2023-05-03 17:00': 0,\n  '2023-05-03 18:00': 0,\n  '2023-05-03 19:00': 0,\n  '2023-05-03 20:00': 0,\n  '2023-05-03 21:00': 0,\n  '2023-05-03 22:00': 0,\n  '2023-05-03 23:00': 0,\n  '2023-05-04 00:00': 0,\n  '2023-05-04 01:00': 0,\n  '2023-05-04 02:00': 0},\n 'Lutsk': {'2023-05-03 15:00': 0,\n  '2023-05-03 16:00': 0,\n  '2023-05-03 17:00': 0,\n  '2023-05-03 18:00': 0,\n  '2023-05-03 19:00': 0,\n  '2023-05-03 20:00': 0,\n  '2023-05-03 21:00': 0,\n  '2023-05-03 22:00': 0,\n  '2023-05-03 23:00': 0,\n  '2023-05-04 00:00': 0,\n  '2023-05-04 01:00': 0,\n  '2023-05-04 02:00': 0},\n 'Chernihiv': {'2023-05-03 15:00': 0,\n  '2023-05-03 16:00': 0,\n  '2023-05-03 17:00': 0,\n  '2023-05-03 18:00': 0,\n  '2023-05-03 19:00': 0,\n  '2023-05-03 20:00': 0,\n  '2023-05-03 21:00': 0,\n  '2023-05-03 22:00': 0,\n  '2023-05-03 23:00': 0,\n  '2023-05-04 00:00': 0,\n  '2023-05-04 01:00': 0,\n  '2023-05-04 02:00': 0},\n 'Dnipro': {'2023-05-03 15:00': 0,\n  '2023-05-03 16:00': 0,\n  '2023-05-03 17:00': 0,\n  '2023-05-03 18:00': 0,\n  '2023-05-03 19:00': 0,\n  '2023-05-03 20:00': 0,\n  '2023-05-03 21:00': 0,\n  '2023-05-03 22:00': 0,\n  '2023-05-03 23:00': 0,\n  '2023-05-04 00:00': 0,\n  '2023-05-04 01:00': 0,\n  '2023-05-04 02:00': 0},\n 'Vinnytsia': {'2023-05-03 15:00': 0,\n  '2023-05-03 16:00': 0,\n  '2023-05-03 17:00': 0,\n  '2023-05-03 18:00': 0,\n  '2023-05-03 19:00': 0,\n  '2023-05-03 20:00': 0,\n  '2023-05-03 21:00': 0,\n  '2023-05-03 22:00': 0,\n  '2023-05-03 23:00': 0,\n  '2023-05-04 00:00': 0,\n  '2023-05-04 01:00': 0,\n  '2023-05-04 02:00': 0},\n 'Zhytomyr': {'2023-05-03 15:00': 0,\n  '2023-05-03 16:00': 0,\n  '2023-05-03 17:00': 0,\n  '2023-05-03 18:00': 0,\n  '2023-05-03 19:00': 0,\n  '2023-05-03 20:00': 0,\n  '2023-05-03 21:00': 0,\n  '2023-05-03 22:00': 0,\n  '2023-05-03 23:00': 0,\n  '2023-05-04 00:00': 0,\n  '2023-05-04 01:00': 0,\n  '2023-05-04 02:00': 0},\n 'Kropyvnytskyi': {'2023-05-03 15:00': 0,\n  '2023-05-03 16:00': 0,\n  '2023-05-03 17:00': 0,\n  '2023-05-03 18:00': 0,\n  '2023-05-03 19:00': 0,\n  '2023-05-03 20:00': 0,\n  '2023-05-03 21:00': 0,\n  '2023-05-03 22:00': 0,\n  '2023-05-03 23:00': 0,\n  '2023-05-04 00:00': 0,\n  '2023-05-04 01:00': 0,\n  '2023-05-04 02:00': 0},\n 'Poltava': {'2023-05-03 15:00': 0,\n  '2023-05-03 16:00': 0,\n  '2023-05-03 17:00': 0,\n  '2023-05-03 18:00': 0,\n  '2023-05-03 19:00': 0,\n  '2023-05-03 20:00': 0,\n  '2023-05-03 21:00': 0,\n  '2023-05-03 22:00': 0,\n  '2023-05-03 23:00': 0,\n  '2023-05-04 00:00': 0,\n  '2023-05-04 01:00': 0,\n  '2023-05-04 02:00': 0},\n 'Sumy': {'2023-05-03 15:00': 0,\n  '2023-05-03 16:00': 0,\n  '2023-05-03 17:00': 0,\n  '2023-05-03 18:00': 0,\n  '2023-05-03 19:00': 0,\n  '2023-05-03 20:00': 0,\n  '2023-05-03 21:00': 0,\n  '2023-05-03 22:00': 0,\n  '2023-05-03 23:00': 0,\n  '2023-05-04 00:00': 0,\n  '2023-05-04 01:00': 0,\n  '2023-05-04 02:00': 0},\n 'Rivne': {'2023-05-03 15:00': 0,\n  '2023-05-03 16:00': 0,\n  '2023-05-03 17:00': 0,\n  '2023-05-03 18:00': 0,\n  '2023-05-03 19:00': 0,\n  '2023-05-03 20:00': 0,\n  '2023-05-03 21:00': 0,\n  '2023-05-03 22:00': 0,\n  '2023-05-03 23:00': 0,\n  '2023-05-04 00:00': 0,\n  '2023-05-04 01:00': 0,\n  '2023-05-04 02:00': 0},\n 'Khmelnytskyi': {'2023-05-03 15:00': 0,\n  '2023-05-03 16:00': 0,\n  '2023-05-03 17:00': 0,\n  '2023-05-03 18:00': 0,\n  '2023-05-03 19:00': 0,\n  '2023-05-03 20:00': 0,\n  '2023-05-03 21:00': 0,\n  '2023-05-03 22:00': 0,\n  '2023-05-03 23:00': 0,\n  '2023-05-04 00:00': 0,\n  '2023-05-04 01:00': 0,\n  '2023-05-04 02:00': 0},\n 'Chernivtsi': {'2023-05-03 15:00': 0,\n  '2023-05-03 16:00': 0,\n  '2023-05-03 17:00': 0,\n  '2023-05-03 18:00': 0,\n  '2023-05-03 19:00': 0,\n  '2023-05-03 20:00': 0,\n  '2023-05-03 21:00': 0,\n  '2023-05-03 22:00': 0,\n  '2023-05-03 23:00': 0,\n  '2023-05-04 00:00': 0,\n  '2023-05-04 01:00': 0,\n  '2023-05-04 02:00': 0},\n 'Ternopil': {'2023-05-03 15:00': 0,\n  '2023-05-03 16:00': 0,\n  '2023-05-03 17:00': 0,\n  '2023-05-03 18:00': 0,\n  '2023-05-03 19:00': 0,\n  '2023-05-03 20:00': 0,\n  '2023-05-03 21:00': 0,\n  '2023-05-03 22:00': 0,\n  '2023-05-03 23:00': 0,\n  '2023-05-04 00:00': 0,\n  '2023-05-04 01:00': 0,\n  '2023-05-04 02:00': 0},\n 'Cherkasy': {'2023-05-03 15:00': 0,\n  '2023-05-03 16:00': 0,\n  '2023-05-03 17:00': 0,\n  '2023-05-03 18:00': 0,\n  '2023-05-03 19:00': 0,\n  '2023-05-03 20:00': 0,\n  '2023-05-03 21:00': 0,\n  '2023-05-03 22:00': 0,\n  '2023-05-03 23:00': 0,\n  '2023-05-04 00:00': 0,\n  '2023-05-04 01:00': 0,\n  '2023-05-04 02:00': 0},\n 'Uzhgorod': {'2023-05-03 15:00': 0,\n  '2023-05-03 16:00': 0,\n  '2023-05-03 17:00': 0,\n  '2023-05-03 18:00': 0,\n  '2023-05-03 19:00': 0,\n  '2023-05-03 20:00': 0,\n  '2023-05-03 21:00': 0,\n  '2023-05-03 22:00': 0,\n  '2023-05-03 23:00': 0,\n  '2023-05-04 00:00': 0,\n  '2023-05-04 01:00': 0,\n  '2023-05-04 02:00': 0},\n 'Zaporozhye': {'2023-05-03 15:00': 0,\n  '2023-05-03 16:00': 0,\n  '2023-05-03 17:00': 0,\n  '2023-05-03 18:00': 0,\n  '2023-05-03 19:00': 0,\n  '2023-05-03 20:00': 0,\n  '2023-05-03 21:00': 0,\n  '2023-05-03 22:00': 0,\n  '2023-05-03 23:00': 0,\n  '2023-05-04 00:00': 0,\n  '2023-05-04 01:00': 0,\n  '2023-05-04 02:00': 0},\n 'Ivano-Frankivsk': {'2023-05-03 15:00': 0,\n  '2023-05-03 16:00': 0,\n  '2023-05-03 17:00': 0,\n  '2023-05-03 18:00': 0,\n  '2023-05-03 19:00': 0,\n  '2023-05-03 20:00': 0,\n  '2023-05-03 21:00': 0,\n  '2023-05-03 22:00': 0,\n  '2023-05-03 23:00': 0,\n  '2023-05-04 00:00': 0,\n  '2023-05-04 01:00': 0,\n  '2023-05-04 02:00': 0}}"
     },
     "execution_count": 210,
     "metadata": {},
     "output_type": "execute_result"
    }
   ],
   "source": [
    "cities = ['Kyiv', 'Kharkiv', 'Lviv', 'Odesa', 'Donetsk', 'Luhansk', 'Kherson', 'Simferopol', 'Mykolaiv', 'Lutsk', 'Chernihiv', 'Dnipro', 'Vinnytsia', 'Zhytomyr', 'Kropyvnytskyi', 'Poltava', 'Sumy', 'Rivne', 'Khmelnytskyi', 'Chernivtsi', 'Ternopil', 'Cherkasy', 'Uzhgorod', 'Zaporozhye', 'Ivano-Frankivsk']\n",
    "\n",
    "date = datetime.datetime.now(pytz.timezone('Europe/Kyiv'))\n",
    "result = {}\n",
    "\n",
    "# for loop generate weather, merged it with isw vector and make a prediction for all regions in list above\n",
    "\n",
    "for city in cities:\n",
    "\n",
    "    df_weather_complete = get_weather.get_weather_for_12_hours(city,date)\n",
    "\n",
    "    # merge\n",
    "    df_weather_complete['key']=1\n",
    "    df_isw_short['key']=1\n",
    "    df_all = df_weather_complete.merge(df_isw_short, how = 'left', left_on = 'key', right_on = 'key')\n",
    "\n",
    "    # drop\n",
    "    to_drop=['key','date','date_tomorrow_datetime','keywords','report_text_lemm']\n",
    "    if 'sunrise' in df_all.columns:\n",
    "        exceptions = ['sunset','sunrise']\n",
    "        to_drop.extend(exceptions)\n",
    "    df_weather_matrix = df_all.drop(to_drop, axis = 1)\n",
    "\n",
    "    # final dataset\n",
    "    df_weather_matrix['Unnamed: 0'] = 0\n",
    "    df_weather_matrix= df_weather_matrix[['Unnamed: 0', 'day_datetimeEpoch', 'day_tempmax', 'day_tempmin', 'day_temp', 'day_dew', 'day_humidity', 'day_precip', 'day_precipcover', 'day_solarradiation', 'day_solarenergy', 'day_uvindex', 'day_moonphase', 'hour_datetimeEpoch', 'hour_temp', 'hour_humidity', 'hour_dew', 'hour_precipprob', 'hour_snow', 'hour_snowdepth', 'hour_windgust', 'hour_windspeed', 'hour_winddir', 'hour_pressure', 'hour_visibility', 'hour_cloudcover', 'hour_severerisk', 'region_id']]\n",
    "\n",
    "    cv_vector_model = cv.transform(df_all['report_text_lemm'].values.astype('U'))\n",
    "    tf_idf_model = tfidf.transform(cv_vector_model)\n",
    "\n",
    "    # merge final dataset with tfidf vector\n",
    "    df_weather_matrix_csr = scipy.sparse.csr_matrix(df_weather_matrix)\n",
    "    df_all_data_csr = scipy.sparse.hstack((df_weather_matrix_csr, tf_idf_model), format='csr')\n",
    "\n",
    "    #predict\n",
    "    predicted = model.predict(df_all_data_csr)\n",
    "    hours = []\n",
    "    \n",
    "    # store results in dictionary, after extract \n",
    "    for i in range(12):\n",
    "        hour = date + datetime.timedelta(hours=i)\n",
    "        hour_rounded = hour.replace(minute=0, second=0, microsecond=0)\n",
    "        hours.append(hour_rounded.strftime('%Y-%m-%d %H:%M'))\n",
    "\n",
    "    result[city] = dict(zip(hours, predicted))\n",
    "\n",
    "#Show result\n",
    "result"
   ]
  },
  {
   "cell_type": "markdown",
   "id": "7b2f95d5",
   "metadata": {},
   "source": [
    "##     Save results"
   ]
  },
  {
   "cell_type": "code",
   "execution_count": 211,
   "id": "9fe15298",
   "metadata": {
    "ExecuteTime": {
     "start_time": "2023-05-03T15:35:43.060197Z",
     "end_time": "2023-05-03T15:35:43.131383Z"
    }
   },
   "outputs": [],
   "source": [
    "result = pd.DataFrame(result)\n",
    "VERSION = \"3\"\n",
    "result.to_csv(f'data/results/results_{VERSION}.txt', sep='\\t', index=False)"
   ]
  }
 ],
 "metadata": {
  "kernelspec": {
   "display_name": "Python 3 (ipykernel)",
   "language": "python",
   "name": "python3"
  },
  "language_info": {
   "codemirror_mode": {
    "name": "ipython",
    "version": 3
   },
   "file_extension": ".py",
   "mimetype": "text/x-python",
   "name": "python",
   "nbconvert_exporter": "python",
   "pygments_lexer": "ipython3",
   "version": "3.9.7"
  }
 },
 "nbformat": 4,
 "nbformat_minor": 5
}
