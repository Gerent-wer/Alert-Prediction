{
 "cells": [
  {
   "cell_type": "code",
   "execution_count": null,
   "id": "4ba6fc94",
   "metadata": {},
   "outputs": [],
   "source": [
    "# upload top-3 models\n",
    "# make predictions\n",
    "# re-use get_weather for next 12 hours function(should be added into utils package ) - half-half\n",
    "# re-use get_isw_from_yesterday - not done yet at all I would say"
   ]
  }
 ],
 "metadata": {
  "kernelspec": {
   "display_name": "Python 3 (ipykernel)",
   "language": "python",
   "name": "python3"
  },
  "language_info": {
   "codemirror_mode": {
    "name": "ipython",
    "version": 3
   },
   "file_extension": ".py",
   "mimetype": "text/x-python",
   "name": "python",
   "nbconvert_exporter": "python",
   "pygments_lexer": "ipython3",
   "version": "3.8.0"
  }
 },
 "nbformat": 4,
 "nbformat_minor": 5
}
