{
 "cells": [
  {
   "cell_type": "code",
   "execution_count": 48,
   "id": "1b89555a",
   "metadata": {},
   "outputs": [],
   "source": [
    "# import libraries\n",
    "\n",
    "from utils import text_processing\n",
    "from utils import get_weather\n",
    "import datetime\n",
    "\n",
    "import requests\n",
    "\n",
    "import pandas as pd\n",
    "\n",
    "from bs4 import BeautifulSoup\n",
    "\n",
    "import re\n",
    "\n",
    "import nltk\n",
    "import os\n",
    "import string\n",
    "import numpy as np\n",
    "import copy \n",
    "import pickle\n",
    "import re\n",
    "import math\n",
    "\n",
    "from sklearn.feature_extraction.text import CountVectorizer, TfidfVectorizer\n",
    "from sklearn.feature_extraction.text import TfidfTransformer\n",
    "\n",
    "\n",
    "\n",
    "import pandas as pd\n",
    "\n",
    "import scipy\n",
    "from scipy import sparse\n",
    "\n",
    "import numpy as np\n",
    "from sklearn.model_selection import TimeSeriesSplit\n",
    "\n",
    "import pickle"
   ]
  },
  {
   "cell_type": "code",
   "execution_count": 3,
   "id": "7cb86e69",
   "metadata": {},
   "outputs": [],
   "source": [
    "# get article from yesterday\n",
    "\n",
    "#https://understandingwar.org/backgrounder/russian-offensive-campaign-assessment-april-23-2023\n",
    "\n",
    "today = datetime.date.today()\n",
    "yesterday = today - datetime.timedelta(days=1)\n",
    "\n",
    "yesterday_day = yesterday.day\n",
    "yesterday_month = yesterday.month\n",
    "yesterday_year = yesterday.year\n"
   ]
  },
  {
   "cell_type": "code",
   "execution_count": 4,
   "id": "80028a2b",
   "metadata": {},
   "outputs": [],
   "source": [
    "file = text_processing.get_article_from_yesterday(yesterday_day,yesterday_month,yesterday_year)"
   ]
  },
  {
   "cell_type": "code",
   "execution_count": 5,
   "id": "03f1ec1e",
   "metadata": {},
   "outputs": [],
   "source": [
    "data = text_processing.read_html(file)"
   ]
  },
  {
   "cell_type": "code",
   "execution_count": 6,
   "id": "41d5933d",
   "metadata": {},
   "outputs": [],
   "source": [
    "#pd.set_option('display.max_colwidth', None)\n",
    "#pd.set_option('display.max_rows', None)"
   ]
  },
  {
   "cell_type": "code",
   "execution_count": 7,
   "id": "42911601",
   "metadata": {},
   "outputs": [],
   "source": [
    "def preprocess_all_text(data):\n",
    "    pattern = \"\\[(\\d+)\\]\"\n",
    "\n",
    "\n",
    "    data['main_html_v1'] = data['main_html'].apply(lambda x: re.sub(pattern,\"\",str(x)))\n",
    "    data['main_html_v2'] = data['main_html_v1'].apply(lambda x: re.sub(r'http(\\S+.*\\s)',\"\",x))\n",
    "    data['main_html_v3'] = data['main_html_v2'].apply(lambda x: re.sub(r'2022|2023|©2022|©2023|\\xa0|\\n',\"\",x))\n",
    "\n",
    "    data['main_html_v4'] = data['main_html_v3'].apply(lambda x: BeautifulSoup(x).text)\n",
    "    \n",
    "    data['main_html_v5'] = data['main_html_v4'].apply(lambda x: text_processing.remove_names_and_dates(x))\n",
    "    \n",
    "    return data"
   ]
  },
  {
   "cell_type": "code",
   "execution_count": 8,
   "id": "f59f0ab2",
   "metadata": {},
   "outputs": [],
   "source": [
    "data_preprocessed = preprocess_all_text(data)"
   ]
  },
  {
   "cell_type": "code",
   "execution_count": 9,
   "id": "d94c9cc9",
   "metadata": {},
   "outputs": [],
   "source": [
    "#data_preprocessed.head()"
   ]
  },
  {
   "cell_type": "code",
   "execution_count": 10,
   "id": "2af6b1be",
   "metadata": {},
   "outputs": [],
   "source": [
    "data_preprocessed = data_preprocessed.drop(['main_html_v1','main_html_v2','main_html_v3','main_html_v4'],axis=1)"
   ]
  },
  {
   "cell_type": "code",
   "execution_count": 11,
   "id": "5129a561",
   "metadata": {},
   "outputs": [
    {
     "name": "stderr",
     "output_type": "stream",
     "text": [
      "[nltk_data] Downloading package stopwords to\n",
      "[nltk_data]     /Users/nikita_voitishyn/nltk_data...\n",
      "[nltk_data]   Package stopwords is already up-to-date!\n"
     ]
    },
    {
     "data": {
      "text/plain": [
       "True"
      ]
     },
     "execution_count": 11,
     "metadata": {},
     "output_type": "execute_result"
    }
   ],
   "source": [
    "nltk.download('stopwords')\n"
   ]
  },
  {
   "cell_type": "code",
   "execution_count": 12,
   "id": "3abf9546",
   "metadata": {},
   "outputs": [],
   "source": [
    "data_preprocessed['report_text_lemm'] = data_preprocessed['main_html_v5'].apply(lambda x: text_processing.preprocess(x,\"lemm\"))\n",
    "data_preprocessed['report_text_stemm'] = data_preprocessed['main_html_v5'].apply(lambda x: text_processing.preprocess(x,\"stemm\"))"
   ]
  },
  {
   "cell_type": "code",
   "execution_count": 13,
   "id": "92cd8311",
   "metadata": {},
   "outputs": [
    {
     "data": {
      "text/html": [
       "<div>\n",
       "<style scoped>\n",
       "    .dataframe tbody tr th:only-of-type {\n",
       "        vertical-align: middle;\n",
       "    }\n",
       "\n",
       "    .dataframe tbody tr th {\n",
       "        vertical-align: top;\n",
       "    }\n",
       "\n",
       "    .dataframe thead th {\n",
       "        text-align: right;\n",
       "    }\n",
       "</style>\n",
       "<table border=\"1\" class=\"dataframe\">\n",
       "  <thead>\n",
       "    <tr style=\"text-align: right;\">\n",
       "      <th></th>\n",
       "      <th>date</th>\n",
       "      <th>short_url</th>\n",
       "      <th>title</th>\n",
       "      <th>text_title</th>\n",
       "      <th>full_url</th>\n",
       "      <th>main_html</th>\n",
       "      <th>main_html_v5</th>\n",
       "      <th>report_text_lemm</th>\n",
       "      <th>report_text_stemm</th>\n",
       "    </tr>\n",
       "  </thead>\n",
       "  <tbody>\n",
       "    <tr>\n",
       "      <th>0</th>\n",
       "      <td>2023-04-25</td>\n",
       "      <td>russian_offensive_campaign_assessment_April_25...</td>\n",
       "      <td>Russian Offensive Campaign Assessment, April 2...</td>\n",
       "      <td>Russian Offensive Campaign Assessment, April 2...</td>\n",
       "      <td>/backgrounder/russian-offensive-campaign-asses...</td>\n",
       "      <td>[[[ , &lt;p align=\"center\" style=\"text-align: lef...</td>\n",
       "      <td>Russian Offensive Campaign Assessment, April ...</td>\n",
       "      <td>russian offens campaign ass april twenty five...</td>\n",
       "      <td>russian offen campaign assess april twenti fi...</td>\n",
       "    </tr>\n",
       "  </tbody>\n",
       "</table>\n",
       "</div>"
      ],
      "text/plain": [
       "        date                                          short_url  \\\n",
       "0 2023-04-25  russian_offensive_campaign_assessment_April_25...   \n",
       "\n",
       "                                               title  \\\n",
       "0  Russian Offensive Campaign Assessment, April 2...   \n",
       "\n",
       "                                          text_title  \\\n",
       "0  Russian Offensive Campaign Assessment, April 2...   \n",
       "\n",
       "                                            full_url  \\\n",
       "0  /backgrounder/russian-offensive-campaign-asses...   \n",
       "\n",
       "                                           main_html  \\\n",
       "0  [[[ , <p align=\"center\" style=\"text-align: lef...   \n",
       "\n",
       "                                        main_html_v5  \\\n",
       "0   Russian Offensive Campaign Assessment, April ...   \n",
       "\n",
       "                                    report_text_lemm  \\\n",
       "0   russian offens campaign ass april twenty five...   \n",
       "\n",
       "                                   report_text_stemm  \n",
       "0   russian offen campaign assess april twenti fi...  "
      ]
     },
     "execution_count": 13,
     "metadata": {},
     "output_type": "execute_result"
    }
   ],
   "source": [
    "data_preprocessed.head()"
   ]
  },
  {
   "cell_type": "code",
   "execution_count": 14,
   "id": "d21b756c",
   "metadata": {},
   "outputs": [],
   "source": [
    "docs = data_preprocessed['report_text_lemm'].tolist()"
   ]
  },
  {
   "cell_type": "code",
   "execution_count": 15,
   "id": "dce417b7",
   "metadata": {},
   "outputs": [],
   "source": [
    "#tfidf = pickle.load(open(\"models/tfidf_transformer_v1.pkl\",\"rb\"))\n",
    "#cv = pickle.load(open(\"models/count_vectorizer_v1.pkl\",\"rb\"))"
   ]
  },
  {
   "cell_type": "code",
   "execution_count": 49,
   "id": "34b23732",
   "metadata": {},
   "outputs": [],
   "source": [
    "# CountVectorizer + tfidf:create a vecror with numbers\n",
    "\n",
    "cv = CountVectorizer()\n",
    "word_count_vector = cv.fit_transform(docs)\n",
    "\n",
    "word_count_vector.shape\n",
    "\n",
    "tfidf_transformer = TfidfTransformer(smooth_idf = True, use_idf = True)\n",
    "tfidf_transformer.fit(word_count_vector)\n",
    "\n",
    "tf_idf_vector = tfidf_transformer.transform(word_count_vector)\n",
    "\n",
    "#<340x7401 sparse matrix of type '<class 'numpy.float64'>'\n",
    "#\twith 213470 stored elements in Compressed Sparse Row format>"
   ]
  },
  {
   "cell_type": "code",
   "execution_count": 17,
   "id": "6067ab90",
   "metadata": {},
   "outputs": [
    {
     "data": {
      "text/plain": [
       "<1x840 sparse matrix of type '<class 'numpy.float64'>'\n",
       "\twith 840 stored elements in Compressed Sparse Row format>"
      ]
     },
     "execution_count": 17,
     "metadata": {},
     "output_type": "execute_result"
    }
   ],
   "source": [
    "tf_idf_vector"
   ]
  },
  {
   "cell_type": "code",
   "execution_count": 18,
   "id": "37b6c871",
   "metadata": {},
   "outputs": [
    {
     "data": {
      "text/plain": [
       "<1x840 sparse matrix of type '<class 'numpy.float64'>'\n",
       "\twith 840 stored elements in Compressed Sparse Row format>"
      ]
     },
     "execution_count": 18,
     "metadata": {},
     "output_type": "execute_result"
    }
   ],
   "source": [
    "feature_names = cv.get_feature_names()\n",
    "tf_idf_vector"
   ]
  },
  {
   "cell_type": "code",
   "execution_count": 19,
   "id": "fab2fc78",
   "metadata": {},
   "outputs": [],
   "source": [
    "data_preprocessed['keywords'] = data_preprocessed['report_text_stemm'].apply(lambda x: text_processing.convert_doc_to_vector(x,feature_names,tf_idf_vector))"
   ]
  },
  {
   "cell_type": "code",
   "execution_count": 20,
   "id": "95ea033d",
   "metadata": {},
   "outputs": [
    {
     "data": {
      "text/plain": [
       "{'russian': 0.708,\n",
       " 'forc': 0.275,\n",
       " 'ukrainian': 0.245,\n",
       " 'twenty': 0.168,\n",
       " 'april': 0.153,\n",
       " 'claim': 0.132,\n",
       " 'militari': 0.127,\n",
       " 'five': 0.122,\n",
       " 'report': 0.107,\n",
       " 'two': 0.092}"
      ]
     },
     "execution_count": 20,
     "metadata": {},
     "output_type": "execute_result"
    }
   ],
   "source": [
    "data_preprocessed['keywords'][0]"
   ]
  },
  {
   "cell_type": "code",
   "execution_count": 50,
   "id": "bf547746",
   "metadata": {},
   "outputs": [
    {
     "data": {
      "text/html": [
       "<div>\n",
       "<style scoped>\n",
       "    .dataframe tbody tr th:only-of-type {\n",
       "        vertical-align: middle;\n",
       "    }\n",
       "\n",
       "    .dataframe tbody tr th {\n",
       "        vertical-align: top;\n",
       "    }\n",
       "\n",
       "    .dataframe thead th {\n",
       "        text-align: right;\n",
       "    }\n",
       "</style>\n",
       "<table border=\"1\" class=\"dataframe\">\n",
       "  <thead>\n",
       "    <tr style=\"text-align: right;\">\n",
       "      <th></th>\n",
       "      <th>date</th>\n",
       "      <th>short_url</th>\n",
       "      <th>title</th>\n",
       "      <th>text_title</th>\n",
       "      <th>full_url</th>\n",
       "      <th>main_html</th>\n",
       "      <th>main_html_v5</th>\n",
       "      <th>report_text_lemm</th>\n",
       "      <th>report_text_stemm</th>\n",
       "      <th>keywords</th>\n",
       "      <th>report_date</th>\n",
       "      <th>date_tomorrow_datetime</th>\n",
       "    </tr>\n",
       "  </thead>\n",
       "  <tbody>\n",
       "    <tr>\n",
       "      <th>0</th>\n",
       "      <td>2023-04-25</td>\n",
       "      <td>russian_offensive_campaign_assessment_April_25_2023</td>\n",
       "      <td>Russian Offensive Campaign Assessment, April 25, 2023 | Institute for the Study of War</td>\n",
       "      <td>Russian Offensive Campaign Assessment, April 25, 2023</td>\n",
       "      <td>/backgrounder/russian-offensive-campaign-assessment-april-25-2023</td>\n",
       "      <td>[[[ , &lt;p align=\"center\" style=\"text-align: left;\"&gt;&lt;strong&gt;&lt;br/&gt;&lt;/strong&gt;&lt;/p&gt;, \\n, &lt;p align=\"center\" style=\"text-align: left;\"&gt;&lt;strong&gt;Russian Offensive Campaign Assessment, April 25, 2023&lt;/strong&gt;&lt;br/&gt;&lt;strong&gt;Kateryna Stepanenko, Grace Mappes, Nicole Wolkov, and Frederick W. Kagan&lt;/strong&gt;&lt;br/&gt;&lt;strong&gt;April 25, 7pm ET&lt;/strong&gt;&lt;/p&gt;, \\n, &lt;p&gt;&lt;strong&gt;Click &lt;/strong&gt;&lt;a href=\"https://storymaps.arcgis.com/stories/36a7f6a6f5a9448496de641cf64bd375\"&gt;&lt;strong&gt;here&lt;/strong&gt;&lt;/a&gt;&lt;strong&gt; to see ISW’s interactive map of the Russian invasion of Ukraine. This map is updated daily alongside the static maps present in this report.&lt;/strong&gt;&lt;/p&gt;, \\n, &lt;p&gt;&lt;strong&gt;Click &lt;/strong&gt;&lt;a href=\"https://storymaps.arcgis.com/stories/733fe90805894bfc8562d90b106aa895\"&gt;&lt;strong&gt;here&lt;/strong&gt;&lt;/a&gt;&lt;strong&gt; to access ISW’s archive of interactive time-lapse maps of the Russian invasion of Ukraine. These maps complement the static control-of-terrain map that ISW produces daily by showing a dynamic frontline. ISW will update this time-lapse map archive monthly.&lt;/strong&gt;&lt;/p&gt;, \\n, &lt;p&gt;&lt;strong&gt;Senior US and EU officials assess that Russian President Vladimir Putin would remain unwilling to negotiate in response to a successful Ukrainian counteroffensive. &lt;/strong&gt;The &lt;em&gt;New York Times&lt;/em&gt; (&lt;em&gt;NYT&lt;/em&gt;) reported on April 24 that a senior European official stated that the chances of Putin “backing down” in response to a successful Ukrainian counteroffensive are “less than zero.”[1] The official stated that Putin would likely mobilize more soldiers to fight in Ukraine. US Assistant Secretary of Defense for International Security Affairs Celeste Wallander said that there is “very little evidence” to suggest that Putin would alter his strategic goal of subjugating Ukraine “politically, if not fully militarily.” US National Security Council Spokesperson John Kirby told &lt;em&gt;Voice of America&lt;/em&gt; on April 25 that the US is increasing security assistance to Ukraine because the US expects that Russia will attempt to go on the offensive as the weather improves.[2]&lt;/p&gt;, \\n, &lt;p&gt;&lt;strong&gt;A Ukrainian military official claimed on April 25 that Ukrainian forces are achieving “impressive results” in counter-battery combat against Russian forces on the Russian-occupied eastern (left) bank of the Dnipro River.&lt;/strong&gt;&lt;strong&gt;[3]&lt;/strong&gt;&lt;strong&gt; &lt;/strong&gt;Spokesperson for the Ukrainian Southern Operational Forces Nataliya Humenyuk stated that Ukrainian forces hit and destroyed Russian artillery systems, tanks, armored vehicles, and air defense systems. Humenyuk added that Ukrainian forces are working to clear the frontline on the east bank in a “counter-battery mode.” Humenyuk added that Russian forces are evacuating civilians from the Dnipro River bank area to move in Russian units, which is simplifying Ukrainian operations.&lt;/p&gt;, \\n, &lt;p&gt;&lt;strong&gt;Wagner Group financier Yevgeny Prigozhin denied ISW’s April 22 assessment about limited improvements in Wagner’s relations with the Russian military command ahead of the planned Ukrainian counteroffensive. &lt;/strong&gt;ISW previously assessed that the Russian military command may have partially repaired its strained relationship with Prigozhin to persuade Russian President Vladimir Putin to halt offensive operations ahead of the planned Ukrainian counteroffensive.[4] ISW had also observed a dramatic change in the nature of Prigozhin’s public interactions with the Russian Ministry of Defense (MoD) and the Kremlin as early as beginning of April.[5] Prigozhin stated that ISW’s assessment is a “fake,” noting that he would not “exchange ammunition for [his] guys even for friendship with God.”[6]&lt;/p&gt;, \\n, &lt;p&gt;Prigozhin’s continued instance on his distaste for the Russian military leadership contradicts the change in Prigozhin’s rhetoric as well as the sudden influx of artillery ammunition after months of reported shell hunger in Bakhmut.[7] Russian independent outlet &lt;em&gt;Mozhem Obyasnit &lt;/em&gt;(We Can Explain) also reported that Prigozhin’s companies earned a record amount of income in 2022 from their contracts with the Russian MoD despite his feud with Russian Defense Minister Sergey Shoigu.[8] Prigozhin has repeatedly acknowledged cooperation with troops subordinated to the Russian MoD and is receiving mobilized personnel to reinforce his flanks. Kremlin Spokesperson Dmitry Peskov confirmed that his eldest son fought in the war with Wagner, which ISW assessed to be an information operation to mend the relationship and possibly increase or demonstrate Prigozhin’s loyalty to the Kremlin.[9] All these factors indicate that Prigozhin – despite his claimed independence and pride – needs to retain the favor and support of the Kremlin and the Russian MoD to sustain his operations.&lt;/p&gt;, \\n, &lt;p&gt;&lt;strong&gt;Russian ultranationalists are continuing to advocate for the Kremlin to adopt Stalinist repression measures.&lt;/strong&gt; Russian State Duma Parliamentarian Andrey Gurulyov – a prominent Russian ultranationalist figure within the ruling United Russia Party – stated that Russia needs to reintroduce the concept of the “enemy of the people.”[10] This concept designated all the late Soviet leader Joseph Stalin’s opposition figures as the enemies of society. Gurulyov frequently shares extreme opinions on Russian state television but the rhetoric among the ultranationalists is increasingly emphasizing the need for the targeting and elimination of Russia’s internal enemies. Former Russian officer Igor Girkin and Wagner Group financier Yevgeny Prigozhin often echo similar calls to prosecute Russian officials who are hoping to end the war via negotiations with the West. Such attitudes indicate that the ultranationalist communities are expecting Russian President Vladimir Putin to expand repression and fully commit to the war.&lt;/p&gt;, \\n, &lt;p&gt;&lt;strong&gt;The Kremlin continues to avoid adopting overtly repressive measures likely out of concern for the stability of Putin’s regime. &lt;/strong&gt;The Russian government withdrew a bill from the Russian State Duma that would have increased taxes from 13 to 30 percent for Russians who have fled the country.[11] Russian ultranationalists have repeatedly called on the Kremlin to nationalize property belonging to Russians who had “betrayed” the country by fleeing, but the Kremlin appears to remain hesitant to introduce such unpopular measures. Unnamed sources told Russian independent outlet &lt;em&gt;Verska&lt;/em&gt; that the Russian presidential administration does not support the return of capital punishments in Russia – another issue that recently reemerged in Russian policy discussions.[12] The Kremlin could use the threat of the death penalty to scare Russians into supporting the war effort (or remaining passively resistant to it), but Putin likely remains hesitant to destroy his image as a diplomatic and tolerant tsar. ISW previously assessed that Putin relies on controlling the information space to safeguard his regime much more than the kind of massive oppression apparatus of the Soviet Union and that Putin has never rebuilt an internal repression apparatus equivalent to the KGB, Interior Ministry forces, and the Red Army.[13]&lt;/p&gt;, \\n, &lt;p&gt;&lt;strong&gt;Russian civil rights groups OVD-Info, Memorial, and Rus Sidyashchaya (Russia Behind Bars) issued a legal challenge to the Russian censorship law against discrediting the Russian military on April 25. &lt;/strong&gt;OVD-Info announced that its lawyers filed 10 of 20 planned complaints against the law to the Russian Constitutional Court in hopes that the court will rule the law unconstitutional.[14] The complaints centered around individual cases of alleged discreditation, including one case wherein authorities fined a man 50,000 rubles (about $612) for holding a sign calling for peace.[15] A fringe group of at least 20, mostly smaller, pro-war Russian milbloggers amplified a call for the Russian government to repeal the censorship laws on April 11 following the prosecution of a Russian medic for telling battlefield truths.[16] OVD-Info and other human rights organizations are most likely to face prosecution under Russian censorship laws. The Russian government is unlikely to repeal or strike down these laws without direction from the Kremlin, but challenges like OVD-Info's demonstrate continued resistance to domestic censorship and repression.&lt;/p&gt;, \\n, &lt;p&gt; &lt;strong&gt;Key Takeaways&lt;/strong&gt;&lt;/p&gt;, \\n, &lt;ul&gt;&lt;li&gt;&lt;strong&gt;Senior US and EU officials assess that Russian President Vladimir Putin would remain unwilling to negotiate in response to a successful Ukrainian counteroffensive.&lt;/strong&gt;&lt;/li&gt;\\n&lt;li&gt;&lt;strong&gt;A Ukrainian military official claimed on April 25 that Ukrainian forces are achieving “impressive results” in counter-battery combat against Russian forces on the Russian-occupied eastern (left) bank of the Dnipro River.&lt;/strong&gt;&lt;/li&gt;\\n&lt;li&gt;&lt;strong&gt;Wagner Group financier Yevgeny Prigozhin denied ISW’s April 22 assessment about limited improvements in Wagner’s relations with the Russian military command ahead of the planned Ukrainian counteroffensive.&lt;/strong&gt;&lt;/li&gt;\\n&lt;li&gt;&lt;strong&gt;Russian ultranationalists continue to advocate for the Kremlin to adopt Stalinist repression measures.&lt;/strong&gt;&lt;/li&gt;\\n&lt;li&gt;&lt;strong&gt;The Kremlin continues to avoid adopting overtly repressive measures likely out of concern for the stability of Putin’s regime.&lt;/strong&gt;&lt;/li&gt;\\n&lt;li&gt;&lt;strong&gt;Russian civil rights groups OVD-Info, Memorial, and Rus Sidyashchaya (Russia Behind Bars) issued a legal challenge to the Russian censorship law against discrediting the Russian military on April 25.&lt;/strong&gt;&lt;/li&gt;\\n&lt;li&gt;&lt;strong&gt;Russian sources claimed that Russian forces conducted limited ground attacks on the Svatove-Kremmina line.&lt;/strong&gt;&lt;/li&gt;\\n&lt;li&gt;&lt;strong&gt;Russian forces continued to conduct ground attacks in and around Bakhmut and along the Avdiivka-Donetsk City frontline.&lt;/strong&gt;&lt;/li&gt;\\n&lt;li&gt;&lt;strong&gt;Russian milbloggers continued to issue vehement denials that Ukrainian forces established sustained positions on east (left) bank Kherson Oblast.&lt;/strong&gt;&lt;/li&gt;\\n&lt;li&gt;&lt;strong&gt;The Russian Ministry of Defense (MoD) is attempting to financially incentivize Russian prisoners to fight in Ukraine, offering them compensation equivalent to that of Russian volunteers.&lt;/strong&gt;&lt;/li&gt;\\n&lt;li&gt;&lt;strong&gt;The Ukrainian Resistance Center reported that Ukrainian partisans detonated a Russian military checkpoint near Oleshky.&lt;/strong&gt;&lt;/li&gt;\\n&lt;/ul&gt;, &lt;div&gt;&lt;strong&gt;&lt;br/&gt;&lt;/strong&gt;&lt;/div&gt;, \\n, &lt;div&gt;&lt;a href=\"https://www.understandingwar.org/sites/default/files/DraftUkraineCoTApril25%2C2023.png\"&gt;&lt;strong&gt;&lt;img height=\"706\" src=\"https://www.understandingwar.org/sites/default/files/DraftUkraineCoTApril25%2C2023.png\" width=\"500\"/&gt;&lt;/strong&gt;&lt;/a&gt;&lt;/div&gt;, \\n, &lt;p&gt;&lt;strong&gt;&lt;em&gt;We do not report in detail on Russian war crimes because these activities are well-covered in Western media and do not directly affect the military operations we are assessing and forecasting. We will continue to evaluate and report on the effects of these criminal activities on the Ukrainian military and the Ukrainian population and specifically on combat in Ukrainian urban areas. We utterly condemn these Russian violations of the laws of armed conflict, Geneva Conventions, and humanity even though we do not describe them in these reports.&lt;/em&gt;&lt;/strong&gt;&lt;/p&gt;, \\n, &lt;ul&gt;&lt;li&gt;Russian Main Effort – Eastern Ukraine (comprised of two subordinate main efforts)&lt;/li&gt;\\n&lt;li&gt;Russian Subordinate Main Effort #1 – Capture the remainder of Luhansk Oblast and push westward into eastern Kharkiv Oblast and encircle northern Donetsk Oblast&lt;/li&gt;\\n&lt;li&gt;Russian Subordinate Main Effort #2 – Capture the entirety of Donetsk Oblast&lt;/li&gt;\\n&lt;li&gt;Russian Supporting Effort – Southern Axis&lt;/li&gt;\\n&lt;li&gt;Russian Mobilization and Force Generation Efforts&lt;/li&gt;\\n&lt;li&gt;Activities in Russian-occupied areas&lt;/li&gt;\\n&lt;/ul&gt;, &lt;p&gt;&lt;strong&gt;&lt;span style=\"text-decoration: underline;\"&gt;Russian Main Effort – Eastern Ukraine&lt;/span&gt;&lt;/strong&gt;&lt;/p&gt;, \\n, &lt;p&gt;&lt;strong&gt;&lt;span style=\"text-decoration: underline;\"&gt;Russian Subordinate Main Effort #1 – Luhansk Oblast&lt;/span&gt;&lt;/strong&gt;&lt;strong&gt; (Russian objective: Capture the remainder of Luhansk Oblast and push westward into eastern Kharkiv Oblast and northern Donetsk Oblast)&lt;/strong&gt;&lt;/p&gt;, \\n, &lt;p&gt;Russian sources claimed that Russian forces conducted limited ground attacks on the Svatove-Kreminna line on April 25. Russian milbloggers claimed on April 24 that Russian forces advanced toward Nevske (17km northwest of Kreminna), Makiivka (22km northwest of Kreminna) and east of Spirne (25km south of Kreminna).[17] The Ukrainian General Staff reported that Russian forces continue to fortify positions in the Kupyansk direction and did not conduct ground attacks in the Lyman direction.[18] Geolocated footage published on April 25 indicates that Russian forces likely captured Karmazynivka (13km southwest of Svatove) on an unspecified date.[19] Ukrainian Eastern Group of Forces Commander Colonel General Oleksandr Syrskyi reported on April 25 that Russian forces are attempting to push Ukrainians forces out of their positions in the Serebrianska forest area (11km south of Kreminna) in order to set conditions for further attacks in the Lyman direction.[20] Syrskyi also reported that Russian forces in eastern Ukraine formed “Storm” infantry units from each brigade or regiment reinforced with tanks, thermobaric artillery, and mortars and anti-tank units.[21]&lt;/p&gt;, \\n, &lt;p&gt;&lt;a href=\"https://www.understandingwar.org/sites/default/files/Kharkiv%20Battle%20Map%20Draft%20April%2025%2C2023%20.png\"&gt;&lt;img height=\"835\" src=\"https://www.understandingwar.org/sites/default/files/Kharkiv%20Battle%20Map%20Draft%20April%2025%2C2023%20.png\" width=\"500\"/&gt;&lt;/a&gt;&lt;/p&gt;, \\n, &lt;p&gt;&lt;strong&gt;&lt;span style=\"text-decoration: underline;\"&gt;Russian Subordinate Main Effort #2 – Donetsk Oblast&lt;/span&gt;&lt;/strong&gt;&lt;strong&gt; (Russian Objective: Capture the entirety of Donetsk Oblast, the claimed territory of Russia’s proxies in Donbas)&lt;/strong&gt;&lt;/p&gt;, \\n, &lt;p&gt;Russian forces continued to conduct ground attacks in and around Bakhmut on April 24. Geolocated footage posted on April 24 shows that Wagner Group forces made marginal advances southwest of the Bakhmut-2 rail station in western Bakhmut.[22] Russian milbloggers claimed that Wagner forces advanced in southern and western Bakhmut, where the fighting is heaviest.[23] Some milbloggers claimed that Wagner forces advanced further west from the Bakhmut-2 rail station.[24] One milblogger claimed that fighting is intensifying northwest of Bakhmut near Orikhovo-Vasylivka (11km northwest) and Novomarkove (12km northwest).[25] The Ukrainian General Staff reported continued fighting in Bakhmut, and that Ukrainian forces repelled Russian ground attacks near Bohdanivka (5km northwest of Bakhmut), Novomarkove, Khromove (immediately northwest of Bakhmut) and Klishchiivka (5km south of Bakhmut).[26] Ukrainian Eastern Group of Forces Spokesperson Colonel Serhiy Cherevaty stated that Wagner Group forces can no longer conduct combat operations without support from Russian Airborne (VDV) and special purposes units, which Cherevaty characterized as becoming increasingly active in the Bakhmut area.[27]&lt;/p&gt;, \\n, &lt;p&gt;Ukrainian forces conducted a localized counterattack northwest of Bakhmut, likely to alleviate pressure against the logistics line passing through Khromove. Geolocated footage posted on April 25 shows Ukrainian forces overtaking Russian positions north of the O0504 Khromove-Chasiv Yar highway.[28] A Russian milblogger claimed that the Ukrainian counterattack was unsuccessful, however.[29]&lt;/p&gt;, \\n, &lt;p&gt;Russian forces continued to conduct ground attacks along the Avdiivka-Donetsk City line on April 25. Geolocated footage from the Donetsk People’s Republic (DNR) People’s Militia on April 21 shows that Russian forces advanced east towards Nevelske (14km southwest of Avdiivka).[30] The Ukrainian General Staff reported that Ukrainian forces repelled Russian ground attacks near Novokalynove (9km north of Avdiivka), Stepove (3km northwest of Avdiivka), Sieverne (6km west of Avdiivka, Pervomaiske (11km southwest of Avdiivka), Marinka (immediately west of Donetsk City), and Novomykhailivka (10km southwest of Donetsk City).[31] A Russian milblogger’s battle map claimed that Russian forces advanced west of Kamianka (4km north of Avdiivka) and south of Vesele (5km north of Avdiivka) as of April 25.[32] Geolocated footage from the DNR People’s Militia shows the DNR 1st Slavic and 110th Motorized Rifle brigades (1st Army Corps) operating south of Sieverne and near Nevelske, respectively.[33]&lt;/p&gt;, \\n, &lt;p&gt;Russian forces did not conduct any confirmed or claimed ground attacks in western Donetsk Oblast on April 25.[34] Ukrainian Tavriisk Direction Defense Forces Spokesperson Colonel Oleksiy Dmytrashkivskyi stated that the Russian 155th Naval Infantry Brigade (Pacific Fleet) reappeared in the Vuhledar area, implying that the brigade left the front line on an unspecified date to rest and reconstitute.[35] Dmytrashkivskyi assessed that the 155th is likely not at full combat strength.&lt;/p&gt;, \\n, &lt;p&gt;&lt;a href=\"https://www.understandingwar.org/sites/default/files/Donetsk%20Battle%20Map%20Draft%20April%2025%2C2023.png\"&gt;&lt;img height=\"759\" src=\"https://www.understandingwar.org/sites/default/files/Donetsk%20Battle%20Map%20Draft%20April%2025%2C2023.png\" width=\"500\"/&gt;&lt;/a&gt;&lt;/p&gt;, \\n, &lt;p&gt;&lt;a href=\"https://www.understandingwar.org/sites/default/files/Bakhmut%20Battle%20Map%20Draft%20April%2025%2C2023.png\"&gt;&lt;img height=\"650\" src=\"https://www.understandingwar.org/sites/default/files/Bakhmut%20Battle%20Map%20Draft%20April%2025%2C2023.png\" width=\"500\"/&gt;&lt;/a&gt;&lt;/p&gt;, \\n, &lt;p&gt;&lt;strong&gt;&lt;span style=\"text-decoration: underline;\"&gt;Russian Supporting Effort – Southern Axis&lt;/span&gt;&lt;/strong&gt;&lt;strong&gt; (Russian objective: Maintain frontline positions and secure rear areas against Ukrainian strikes)&lt;/strong&gt;&lt;/p&gt;, \\n, &lt;p&gt;Russian milbloggers continued to issue vehement denials on April 25 that Ukrainian forces established sustained positions on east (left) bank Kherson Oblast. The milbloggers amplified textual reports and video claims from Russian military personnel claiming that Ukrainian forces are not on east bank Kherson Oblast and that the situation is under control.[36] One such video features personnel from the Union of Donbas Volunteers, which is affiliated with Crimean occupation head Sergey Aksyonov.[37] One milblogger claimed that Ukrainian forces seized many of the Dnipro River delta islands, however.[38] Russian milbloggers also seized the chance to amplify claimed Russian military successes, including that Russian forces shot down a Ukrainian Su-25 that had supported Ukrainian raids across the Dnipro River.[39] The milbloggers also claimed that Russian air strikes, particularly with modified guided FAB-500 bombs, improved Russian forces’ ability to repel Ukrainian forces from east bank Kherson Oblast.[40]&lt;/p&gt;, \\n, &lt;p&gt;A Russian occupation official claimed that Ukrainian forces are operating a Hrim-2 short-range ballistic missile system in Zaporizhia Oblast. Zaporizhia Oblast occupation official Vladimir Rogov claimed on April 25 that Ukrainian forces deployed a new Hrim-2 missile system to Zaporizhzhia City.[41] The Hrim-2 reportedly has a maximum range of 400-500 kilometers.[42] A Russian milblogger claimed that Ukrainian forces targeted the Kerch Strait Bridge with a Hrim-2 missile on April 22.[43]&lt;/p&gt;, \\n, &lt;p&gt;&lt;a href=\"https://www.understandingwar.org/sites/default/files/Kherson-Mykolaiv%20Battle%20Map%20Draft%20April%2025%2C2023.png\"&gt;&lt;img height=\"797\" src=\"https://www.understandingwar.org/sites/default/files/Kherson-Mykolaiv%20Battle%20Map%20Draft%20April%2025%2C2023.png\" width=\"500\"/&gt;&lt;/a&gt;&lt;/p&gt;, \\n, &lt;p&gt;&lt;a href=\"https://www.understandingwar.org/sites/default/files/Zaporizhia%20Battle%20Map%20April%2025%2C2023.png\"&gt;&lt;img height=\"661\" src=\"https://www.understandingwar.org/sites/default/files/Zaporizhia%20Battle%20Map%20April%2025%2C2023.png\" width=\"500\"/&gt;&lt;/a&gt;&lt;/p&gt;, \\n, &lt;p&gt;&lt;strong&gt;&lt;span style=\"text-decoration: underline;\"&gt;Russian Mobilization and Force Generation Efforts&lt;/span&gt;&lt;/strong&gt;&lt;strong&gt; (Russian objective: Expand combat power without conducting general mobilization)&lt;/strong&gt;&lt;/p&gt;, \\n, &lt;p&gt;The Russian Ministry of Defense (MoD) is attempting to financially incentivize Russian prisoners to fight in Ukraine by offering them compensation equivalent to that of Russian volunteers. Perm Oblast human rights activist Oksana Asaulenko reported that the Russian MoD representatives visited a prison in Gubakha, Perm Oblast, and offered prisoners the option to serve in Ukraine for a six-month term.[44] The Russian MoD reportedly offered prisoners a monthly salary of 205,000 rubles (about $2,510). The Russian MoD is also reportedly offering prisoners compensation of three million rubles (about $36,720) if they are injured or five million rubles (about $61,200) to prisoners’ families if they are killed on the battlefield. Wagner Group servicemen revealed to a Russian opposition outlet that many Wagner convicts died within the first three weeks on the frontline and that it is unclear if their families ever received compensation for their deaths.[45] The MoD’s efforts to financially incentivize prisoner recruitment indicates that the Russian MoD cannot lure prisoners to war solely with pardon promises. ISW previously reported that pay discrepancies among Russian volunteers and mobilized servicemen have sparked conflicts, and payments to convicts serving on the frontlines may further aggravate the tensions among the members of Russian conventional and irregular forces.[46]&lt;/p&gt;, \\n, &lt;p&gt;A Wagner Group convict told the&lt;em&gt; New York Times&lt;/em&gt; that Wagner recruited prisoners by offering them HIV treatments. An HIV-positive Wagner mercenary revealed to the &lt;em&gt;New York Times&lt;/em&gt; that Russian prisons treat HIV-positive prisoners with ineffective drugs, which prompted him to sign up for military service with Wagner in December 2022.[47] The convict claimed that Wagner promised him a pardon and effective HIV treatments and claimed that quick death on the battlefield was more appealing than a slow death in prison. He added that he did not have prior military experience and witnessed most of his unit die during an attack near Bakhmut. Head of the independent Russian human rights organization “Rus Sidyashchaya” (Russia Behind Bars) Olga Romanova claimed that approximately 10 percent of all Russian prisoners have HIV – and that Russian recruitment officials likely use the promise of medical treatment as a recruitment incentive.&lt;/p&gt;, \\n, &lt;p&gt;Russian federal subjects, private military companies (PMCs), and proxy military formations are continuing to advertise contract service and form new military units. Bashkortostan Administration official Maxim Zabelin announced that the republic formed a new medical company that will support regional volunteer battalions.[48] The company is currently training in Patriot Park in Kubinka, Moscow Oblast before deploying to Ukraine. A Russian milblogger amplified a series of recruitment ads including: Wagner recruiting men for a six-month contract in Ukraine or a 9 to 14-month service in Africa; Moscow City recruitment of contract servicemen; and the 60th “Veterany” Separate Air Assault Brigade recruiting volunteers to fill its fourth volunteer battalion.[49] The Republic of Tatarstan is allocating approximately 18 million rubles (about $220,300) to organize military-patriotic camps to train children ages 11 to 16 on basic military and survival skills.[50]&lt;/p&gt;, \\n, &lt;p&gt;The UK Ministry of Defense (MoD) assessed that Russian daily casualty rates decreased by over 30 percent in April after Russian forces suffered heavy casualties between January and March.[51] The UK MoD analyzed casualty rates from Ukrainian General Staff’s calculations, which ISW cannot independently confirm. The UK MoD assessed that Russian forces are preparing for Ukrainian counteroffensives, which is likely leading to fewer casualties.&lt;/p&gt;, \\n, &lt;p&gt;&lt;strong&gt;&lt;span style=\"text-decoration: underline;\"&gt;Activities in Russian-occupied areas&lt;/span&gt;&lt;/strong&gt;&lt;strong&gt; (Russian objective: Consolidate administrative control of annexed areas; forcibly integrate Ukrainian civilians into Russian sociocultural, economic, military, and governance systems)&lt;/strong&gt;&lt;/p&gt;, \\n, &lt;p&gt;The Ukrainian Resistance Center reported on April 24 that Ukrainian partisans targeted a Russian military checkpoint in an improvised explosive device (IED) attack near Oleshky, Kherson Oblast. The center reported that partisans from the Atesh movement blew up a Russian military checkpoint located near military infrastructure, killing an unspecified number of Rosgvardia servicemen and destroying military equipment on the evening of April 23.[52]&lt;/p&gt;, \\n, &lt;p&gt;The Kremlin continues to integrate Russian-occupied regions of Ukraine into the Russian healthcare system. Russian Heath Minster Mikhail Murashko claimed that Russian authorities are restoring 172 healthcare facilities in occupied Ukraine – 80 of which are already operating – and that Russian doctors will complete performing “preventative examinations” of children in Russian occupied Ukraine in the coming weeks.[53] Russian Prime Minister Mikhail Mishustin claimed that that Russian doctors have already examined over 200,000 children.[54] ISW has previously reported on Russian efforts to integrate occupied regions of Ukraine through health care initiatives.[55]&lt;/p&gt;, \\n, &lt;p&gt;Russian forces continue to use children’s facilities for military purposes. The Ukrainian General Staff reported on April 25 that Russian forces continue to establish military facilities in educational facilities turning children and teachers into “human shields.”[56] The Ukrainian General staff reported that up to 200 Russian mobilized personnel occupy a children’s camp in Urzuf in Mariupol Raion.&lt;/p&gt;, \\n, &lt;p&gt;&lt;strong&gt;&lt;span style=\"text-decoration: underline;\"&gt;Significant activity in Belarus&lt;/span&gt;&lt;/strong&gt;&lt;strong&gt; (ISW assesses that a Russian or Belarusian attack into northern Ukraine in early 2023 is extraordinarily unlikely and has thus restructured this section of the update. It will no longer include counter-indicators for such an offensive.)&lt;/strong&gt;&lt;/p&gt;, \\n, &lt;p&gt;&lt;strong&gt;ISW will continue to report daily observed Russian and Belarusian military activity in Belarus, but these are not indicators that Russian and Belarusian forces are preparing for an imminent attack on Ukraine from Belarus. ISW will revise this text and its assessment if it observes any unambiguous indicators that Russia or Belarus is preparing to attack northern Ukraine.&lt;/strong&gt;&lt;/p&gt;, \\n, &lt;p&gt;Russian forces maintain a presence along Ukraine’s northern border in Belarus and Russia. Ukrainian Commander of the Joint Forces Lieutenant General Serhiy Nayev stated on April 25 that 17,000 Russian forces divided into two formations are deployed along the southern border of Belarus and along the border in Bryansk and Kursk oblasts.[57] Nayev reported that about 2,800 Russian forces are at unspecified training grounds in Belarus.&lt;/p&gt;, \\n, &lt;p&gt;&lt;strong&gt;Note: ISW does not receive any classified material from any source, uses only publicly available information, and draws extensively on Russian, Ukrainian, and Western reporting and social media as well as commercially available satellite imagery and other geospatial data as the basis for these reports. References to all sources used are provided in the endnotes of each update.&lt;/strong&gt;&lt;/p&gt;, \\n, &lt;div&gt;\\n&lt;hr align=\"left\" size=\"1\" width=\"33%\"/&gt;&lt;/div&gt;, \\n, &lt;p&gt;[1] &lt;a href=\"https://www.nytimes.com/2023/04/24/us/politics/ukraine-russia-war-spring-offensive.html\"&gt;https://www.nytimes.com/2023/04/24/us/politics/ukraine-russia-war-spring...&lt;/a&gt;&lt;/p&gt;, \\n, &lt;p&gt;[2] &lt;a href=\"https://ukrainian.voanews.com/a/rosiya-ukraina-kontrnastup/7063822.html\"&gt;https://ukrainian.voanews.com/a/rosiya-ukraina-kontrnastup/7063822.html&lt;/a&gt;&lt;/p&gt;, \\n, &lt;p&gt;[3] &lt;a href=\"https://edition.cnn.com/europe/live-news/russia-ukraine-war-news-04-25-23/h_8558eb736e3eac7ac037a5092f6631ed\"&gt;https://edition.cnn.com/europe/live-news/russia-ukraine-war-news-04-25-2...&lt;/a&gt;&lt;/p&gt;, \\n, &lt;p&gt;[4] &lt;a href=\"https://understandingwar.org/backgrounder/russian-offensive-campaign-assessment-april-22-2023\"&gt;https://understandingwar.org/backgrounder/russian-offensive-campaign-ass...&lt;/a&gt;&lt;/p&gt;, ...]]]</td>\n",
       "      <td>Russian Offensive Campaign Assessment, April 25, Kateryna Stepanenko, Grace Mappes, Nicole Wolkov, and Frederick W. KaganApril 25, 7pm ETClickSenior US and EU officials assess that Russian President Vladimir Putin would remain unwilling to negotiate in response to a successful Ukrainian counteroffensive.TheNew York Times(NYT) reported on April 24 that a senior European official stated that the chances of Putin “backing down” in response to a successful Ukrainian counteroffensive are “less than zero.”The official stated that Putin would likely mobilize more soldiers to fight in Ukraine. US Assistant Secretary of Defense for International Security Affairs Celeste Wallander said that there is “very little evidence” to suggest that Putin would alter his strategic goal of subjugating Ukraine “politically, if not fully militarily.” US National Security Council Spokesperson John Kirby toldVoice of Americaon April 25 that the US is increasing security assistance to Ukraine because the US expects that Russia will attempt to go on the offensive as the weather improves.A Ukrainian military official claimed on April 25 that Ukrainian forces are achieving “impressive results” in counter-battery combat against Russian forces on the Russian-occupied eastern (left) bank of the Dnipro River.Spokesperson for the Ukrainian Southern Operational Forces Nataliya Humenyuk stated that Ukrainian forces hit and destroyed Russian artillery systems, tanks, armored vehicles, and air defense systems. Humenyuk added that Ukrainian forces are working to clear the frontline on the east bank in a “counter-battery mode.” Humenyuk added that Russian forces are evacuating civilians from the Dnipro River bank area to move in Russian units, which is simplifying Ukrainian operations.Wagner Group financier Yevgeny Prigozhin denied ISW’s April 22 assessment about limited improvements in Wagner’s relations with the Russian military command ahead of the planned Ukrainian counteroffensive.ISW previously assessed that the Russian military command may have partially repaired its strained relationship with Prigozhin to persuade Russian President Vladimir Putin to halt offensive operations ahead of the planned Ukrainian counteroffensive.ISW had also observed a dramatic change in the nature of Prigozhin’s public interactions with the Russian Ministry of Defense (MoD) and the Kremlin as early as beginning of April.Prigozhin stated that ISW’s assessment is a “fake,” noting that he would not “exchange ammunition for [his] guys even for friendship with God.”Prigozhin’s continued instance on his distaste for the Russian military leadership contradicts the change in Prigozhin’s rhetoric as well as the sudden influx of artillery ammunition after months of reported shell hunger in Bakhmut.Russian independent outletMozhem Obyasnit(We Can Explain) also reported that Prigozhin’s companies earned a record amount of income in  from their contracts with the Russian MoD despite his feud with Russian Defense Minister Sergey Shoigu.Prigozhin has repeatedly acknowledged cooperation with troops subordinated to the Russian MoD and is receiving mobilized personnel to reinforce his flanks. Kremlin Spokesperson Dmitry Peskov confirmed that his eldest son fought in the war with Wagner, which ISW assessed to be an information operation to mend the relationship and possibly increase or demonstrate Prigozhin’s loyalty to the Kremlin.All these factors indicate that Prigozhin – despite his claimed independence and pride – needs to retain the favor and support of the Kremlin and the Russian MoD to sustain his operations.Russian ultranationalists are continuing to advocate for the Kremlin to adopt Stalinist repression measures.Russian State Duma Parliamentarian Andrey Gurulyov – a prominent Russian ultranationalist figure within the ruling United Russia Party – stated that Russia needs to reintroduce the concept of the “enemy of the people.”This concept designated all the late Soviet leader Joseph Stalin’s opposition figures as the enemies of society. Gurulyov frequently shares extreme opinions on Russian state television but the rhetoric among the ultranationalists is increasingly emphasizing the need for the targeting and elimination of Russia’s internal enemies. Former Russian officer Igor Girkin and Wagner Group financier Yevgeny Prigozhin often echo similar calls to prosecute Russian officials who are hoping to end the war via negotiations with the West. Such attitudes indicate that the ultranationalist communities are expecting Russian President Vladimir Putin to expand repression and fully commit to the war.The Kremlin continues to avoid adopting overtly repressive measures likely out of concern for the stability of Putin’s regime.The Russian government withdrew a bill from the Russian State Duma that would have increased taxes from 13 to 30 percent for Russians who have fled the country.Russian ultranationalists have repeatedly called on the Kremlin to nationalize property belonging to Russians who had “betrayed” the country by fleeing, but the Kremlin appears to remain hesitant to introduce such unpopular measures. Unnamed sources told Russian independent outletVerskathat the Russian presidential administration does not support the return of capital punishments in Russia – another issue that recently reemerged in Russian policy discussions.The Kremlin could use the threat of the death penalty to scare Russians into supporting the war effort (or remaining passively resistant to it), but Putin likely remains hesitant to destroy his image as a diplomatic and tolerant tsar. ISW previously assessed that Putin relies on controlling the information space to safeguard his regime much more than the kind of massive oppression apparatus of the Soviet Union and that Putin has never rebuilt an internal repression apparatus equivalent to the KGB, Interior Ministry forces, and the Red Army.Russian civil rights groups OVD-Info, Memorial, and Rus Sidyashchaya (Russia Behind Bars) issued a legal challenge to the Russian censorship law against discrediting the Russian military on April 25.OVD-Info announced that its lawyers filed 10 of 20 planned complaints against the law to the Russian Constitutional Court in hopes that the court will rule the law unconstitutional.The complaints centered around individual cases of alleged discreditation, including one case wherein authorities fined a man 50,000 rubles (about $612) for holding a sign calling for peace.A fringe group of at least 20, mostly smaller, pro-war Russian milbloggers amplified a call for the Russian government to repeal the censorship laws on April 11 following the prosecution of a Russian medic for telling battlefield truths.OVD-Info and other human rights organizations are most likely to face prosecution under Russian censorship laws. The Russian government is unlikely to repeal or strike down these laws without direction from the Kremlin, but challenges like OVD-Info's demonstrate continued resistance to domestic censorship and repression. Key TakeawaysSenior US and EU officials assess that Russian President Vladimir Putin would remain unwilling to negotiate in response to a successful Ukrainian counteroffensive.A Ukrainian military official claimed on April 25 that Ukrainian forces are achieving “impressive results” in counter-battery combat against Russian forces on the Russian-occupied eastern (left) bank of the Dnipro River.Wagner Group financier Yevgeny Prigozhin denied ISW’s April 22 assessment about limited improvements in Wagner’s relations with the Russian military command ahead of the planned Ukrainian counteroffensive.Russian ultranationalists continue to advocate for the Kremlin to adopt Stalinist repression measures.The Kremlin continues to avoid adopting overtly repressive measures likely out of concern for the stability of Putin’s regime.Russian civil rights groups OVD-Info, Memorial, and Rus Sidyashchaya (Russia Behind Bars) issued a legal challenge to the Russian censorship law against discrediting the Russian military on April 25.Russian sources claimed that Russian forces conducted limited ground attacks on the Svatove-Kremmina line.Russian forces continued to conduct ground attacks in and around Bakhmut and along the Avdiivka-Donetsk City frontline.Russian milbloggers continued to issue vehement denials that Ukrainian forces established sustained positions on east (left) bank Kherson Oblast.The Russian Ministry of Defense (MoD) is attempting to financially incentivize Russian prisoners to fight in Ukraine, offering them compensation equivalent to that of Russian volunteers.The Ukrainian Resistance Center reported that Ukrainian partisans detonated a Russian military checkpoint near Oleshky.Russian Main Effort – Eastern UkraineRussian Subordinate Main Effort #1 – Luhansk Oblast(Russian objective: Capture the remainder of Luhansk Oblast and push westward into eastern Kharkiv Oblast and northern Donetsk Oblast)Russian sources claimed that Russian forces conducted limited ground attacks on the Svatove-Kreminna line on April 25. Russian milbloggers claimed on April 24 that Russian forces advanced toward Nevske (17km northwest of Kreminna), Makiivka (22km northwest of Kreminna) and east of Spirne (25km south of Kreminna).The Ukrainian General Staff reported that Russian forces continue to fortify positions in the Kupyansk direction and did not conduct ground attacks in the Lyman direction.Geolocated footage published on April 25 indicates that Russian forces likely captured Karmazynivka (13km southwest of Svatove) on an unspecified date.Ukrainian Eastern Group of Forces Commander Colonel General Oleksandr Syrskyi reported on April 25 that Russian forces are attempting to push Ukrainians forces out of their positions in the Serebrianska forest area (11km south of Kreminna) in order to set conditions for further attacks in the Lyman direction.Syrskyi also reported that Russian forces in eastern Ukraine formed “Storm” infantry units from each brigade or regiment reinforced with tanks, thermobaric artillery, and mortars and anti-tank units.Russian Subordinate Main Effort #2 – Donetsk Oblast(Russian Objective: Capture the entirety of Donetsk Oblast, the claimed territory of Russia’s proxies in Donbas)Russian forces continued to conduct ground attacks in and around Bakhmut on April 24. Geolocated footage posted on April 24 shows that Wagner Group forces made marginal advances southwest of the Bakhmut-2 rail station in western Bakhmut.Russian milbloggers claimed that Wagner forces advanced in southern and western Bakhmut, where the fighting is heaviest.Some milbloggers claimed that Wagner forces advanced further west from the Bakhmut-2 rail station.One milblogger claimed that fighting is intensifying northwest of Bakhmut near Orikhovo-Vasylivka (11km northwest) and Novomarkove (12km northwest).The Ukrainian General Staff reported continued fighting in Bakhmut, and that Ukrainian forces repelled Russian ground attacks near Bohdanivka (5km northwest of Bakhmut), Novomarkove, Khromove (immediately northwest of Bakhmut) and Klishchiivka (5km south of Bakhmut).Ukrainian Eastern Group of Forces Spokesperson Colonel Serhiy Cherevaty stated that Wagner Group forces can no longer conduct combat operations without support from Russian Airborne (VDV) and special purposes units, which Cherevaty characterized as becoming increasingly active in the Bakhmut area.Ukrainian forces conducted a localized counterattack northwest of Bakhmut, likely to alleviate pressure against the logistics line passing through Khromove. Geolocated footage posted on April 25 shows Ukrainian forces overtaking Russian positions north of the O0504 Khromove-Chasiv Yar highway.A Russian milblogger claimed that the Ukrainian counterattack was unsuccessful, however.Russian forces continued to conduct ground attacks along the Avdiivka-Donetsk City line on April 25. Geolocated footage from the Donetsk People’s Republic (DNR) People’s Militia on April 21 shows that Russian forces advanced east towards Nevelske (14km southwest of Avdiivka).The Ukrainian General Staff reported that Ukrainian forces repelled Russian ground attacks near Novokalynove (9km north of Avdiivka), Stepove (3km northwest of Avdiivka), Sieverne (6km west of Avdiivka, Pervomaiske (11km southwest of Avdiivka), Marinka (immediately west of Donetsk City), and Novomykhailivka (10km southwest of Donetsk City).A Russian milblogger’s battle map claimed that Russian forces advanced west of Kamianka (4km north of Avdiivka) and south of Vesele (5km north of Avdiivka) as of April 25.Geolocated footage from the DNR People’s Militia shows the DNR 1st Slavic and 110th Motorized Rifle brigades (1st Army Corps) operating south of Sieverne and near Nevelske, respectively.Russian forces did not conduct any confirmed or claimed ground attacks in western Donetsk Oblast on April 25.Ukrainian Tavriisk Direction Defense Forces Spokesperson Colonel Oleksiy Dmytrashkivskyi stated that the Russian 155th Naval Infantry Brigade (Pacific Fleet) reappeared in the Vuhledar area, implying that the brigade left the front line on an unspecified date to rest and reconstitute.Dmytrashkivskyi assessed that the 155th is likely not at full combat strength.Russian Supporting Effort – Southern Axis(Russian objective: Maintain frontline positions and secure rear areas against Ukrainian strikes)Russian milbloggers continued to issue vehement denials on April 25 that Ukrainian forces established sustained positions on east (left) bank Kherson Oblast. The milbloggers amplified textual reports and video claims from Russian military personnel claiming that Ukrainian forces are not on east bank Kherson Oblast and that the situation is under control.One such video features personnel from the Union of Donbas Volunteers, which is affiliated with Crimean occupation head Sergey Aksyonov.One milblogger claimed that Ukrainian forces seized many of the Dnipro River delta islands, however.Russian milbloggers also seized the chance to amplify claimed Russian military successes, including that Russian forces shot down a Ukrainian Su-25 that had supported Ukrainian raids across the Dnipro River.The milbloggers also claimed that Russian air strikes, particularly with modified guided FAB-500 bombs, improved Russian forces’ ability to repel Ukrainian forces from east bank Kherson Oblast.A Russian occupation official claimed that Ukrainian forces are operating a Hrim-2 short-range ballistic missile system in Zaporizhia Oblast. Zaporizhia Oblast occupation official Vladimir Rogov claimed on April 25 that Ukrainian forces deployed a new Hrim-2 missile system to Zaporizhzhia City.The Hrim-2 reportedly has a maximum range of 400-500 kilometers.A Russian milblogger claimed that Ukrainian forces targeted the Kerch Strait Bridge with a Hrim-2 missile on April 22.Russian Mobilization and Force Generation Efforts(Russian objective: Expand combat power without conducting general mobilization)The Russian Ministry of Defense (MoD) is attempting to financially incentivize Russian prisoners to fight in Ukraine by offering them compensation equivalent to that of Russian volunteers. Perm Oblast human rights activist Oksana Asaulenko reported that the Russian MoD representatives visited a prison in Gubakha, Perm Oblast, and offered prisoners the option to serve in Ukraine for a six-month term.The Russian MoD reportedly offered prisoners a monthly salary of 205,000 rubles (about $2,510). The Russian MoD is also reportedly offering prisoners compensation of three million rubles (about $36,720) if they are injured or five million rubles (about $61,200) to prisoners’ families if they are killed on the battlefield. Wagner Group servicemen revealed to a Russian opposition outlet that many Wagner convicts died within the first three weeks on the frontline and that it is unclear if their families ever received compensation for their deaths.The MoD’s efforts to financially incentivize prisoner recruitment indicates that the Russian MoD cannot lure prisoners to war solely with pardon promises. ISW previously reported that pay discrepancies among Russian volunteers and mobilized servicemen have sparked conflicts, and payments to convicts serving on the frontlines may further aggravate the tensions among the members of Russian conventional and irregular forces.A Wagner Group convict told theNew York Timesthat Wagner recruited prisoners by offering them HIV treatments. An HIV-positive Wagner mercenary revealed to theNew York Timesthat Russian prisons treat HIV-positive prisoners with ineffective drugs, which prompted him to sign up for military service with Wagner in December .The convict claimed that Wagner promised him a pardon and effective HIV treatments and claimed that quick death on the battlefield was more appealing than a slow death in prison. He added that he did not have prior military experience and witnessed most of his unit die during an attack near Bakhmut. Head of the independent Russian human rights organization “Rus Sidyashchaya” (Russia Behind Bars) Olga Romanova claimed that approximately 10 percent of all Russian prisoners have HIV – and that Russian recruitment officials likely use the promise of medical treatment as a recruitment incentive.Russian federal subjects, private military companies (PMCs), and proxy military formations are continuing to advertise contract service and form new military units. Bashkortostan Administration official Maxim Zabelin announced that the republic formed a new medical company that will support regional volunteer battalions.The company is currently training in Patriot Park in Kubinka, Moscow Oblast before deploying to Ukraine. A Russian milblogger amplified a series of recruitment ads including: Wagner recruiting men for a six-month contract in Ukraine or a 9 to 14-month service in Africa; Moscow City recruitment of contract servicemen; and the 60th “Veterany” Separate Air Assault Brigade recruiting volunteers to fill its fourth volunteer battalion.The Republic of Tatarstan is allocating approximately 18 million rubles (about $220,300) to organize military-patriotic camps to train children ages 11 to 16 on basic military and survival skills.The UK Ministry of Defense (MoD) assessed that Russian daily casualty rates decreased by over 30 percent in April after Russian forces suffered heavy casualties between January and March.The UK MoD analyzed casualty rates from Ukrainian General Staff’s calculations, which ISW cannot independently confirm. The UK MoD assessed that Russian forces are preparing for Ukrainian counteroffensives, which is likely leading to fewer casualties.Activities in Russian-occupied areas(Russian objective: Consolidate administrative control of annexed areas; forcibly integrate Ukrainian civilians into Russian sociocultural, economic, military, and governance systems)The Ukrainian Resistance Center reported on April 24 that Ukrainian partisans targeted a Russian military checkpoint in an improvised explosive device (IED) attack near Oleshky, Kherson Oblast. The center reported that partisans from the Atesh movement blew up a Russian military checkpoint located near military infrastructure, killing an unspecified number of Rosgvardia servicemen and destroying military equipment on the evening of April 23.The Kremlin continues to integrate Russian-occupied regions of Ukraine into the Russian healthcare system. Russian Heath Minster Mikhail Murashko claimed that Russian authorities are restoring 172 healthcare facilities in occupied Ukraine – 80 of which are already operating – and that Russian doctors will complete performing “preventative examinations” of children in Russian occupied Ukraine in the coming weeks.Russian Prime Minister Mikhail Mishustin claimed that that Russian doctors have already examined over 200,000 children.ISW has previously reported on Russian efforts to integrate occupied regions of Ukraine through health care initiatives.Russian forces continue to use children’s facilities for military purposes. The Ukrainian General Staff reported on April 25 that Russian forces continue to establish military facilities in educational facilities turning children and teachers into “human shields.”The Ukrainian General staff reported that up to 200 Russian mobilized personnel occupy a children’s camp in Urzuf in Mariupol Raion.Significant activity in Belarus(ISW assesses that a Russian or Belarusian attack into northern Ukraine in early  is extraordinarily unlikely and has thus restructured this section of the update. It will no longer include counter-indicators for such an offensive.)ISW will continue to report daily observed Russian and Belarusian military activity in Belarus, but these are not indicators that Russian and Belarusian forces are preparing for an imminent attack on Ukraine from Belarus. ISW will revise this text and its assessment if it observes any unambiguous indicators that Russia or Belarus is preparing to attack northern Ukraine.Russian forces maintain a presence along Ukraine’s northern border in Belarus and Russia. Ukrainian Commander of the Joint Forces Lieutenant General Serhiy Nayev stated on April 25 that 17,000 Russian forces divided into two formations are deployed along the southern border of Belarus and along the border in Bryansk and Kursk oblasts.Nayev reported that about 2,800 Russian forces are at unspecified training grounds in Belarus.Note: ISW does not receive any classified material from any source, uses only publicly available information, and draws extensively on Russian, Ukrainian, and Western reporting and social media as well as commercially available satellite imagery and other geospatial data as the basis for these reports. References to all sources used are provided in the endnotes of each update.</td>\n",
       "      <td>russian offens campaign ass april twenty five kateryna stepanenko grace mapp nicol wolkov frederick kaganapril twenty five 7pm etclicksenior eu offici ass russian presid vladimir putin would remain unwil negoti respons success ukrainian counteroffensive thenew york time nyt report april twenty four senior european offici state chanc putin back respons success ukrainian counteroffens le zero offici state putin would like mobil soldier fight ukrain assist secretari defens intern secur affair celest walland said littl evid suggest putin would alter strateg goal subjug ukrain polit not fulli militarili nation secur council spokesperson john kirbi toldvoic americaon april twenty five increas secur assist ukrain expect russia attempt go offens weather improves ukrainian militari offici claim april twenty five ukrainian forc achiev impress result counter batteri combat russian forc russian occupi eastern left bank dnipro river spokesperson ukrainian southern oper forc nataliya humenyuk state ukrainian forc hit destroy russian artilleri system tank armor vehicl air defens system humenyuk ad ukrainian forc work clear frontlin east bank counter batteri mode humenyuk ad russian forc evacu civilian dnipro river bank area move russian unit simplifi ukrainian operation wagn group financi yevgeni prigozhin deni isw april twenty two ass limit improv wagner relat russian militari command ahead plan ukrainian counteroffensive isw previous ass russian militari command may partial repair strain relationship prigozhin persuad russian presid vladimir putin halt offens oper ahead plan ukrainian counteroffensive isw also observ dramat chang natur prigozhin public interact russian ministri defens mod kremlin earli begin april prigozhin state isw ass fake note would not exchang ammunit guy even friendship god prigozhin continu instanc distast russian militari leadership contradict chang prigozhin rhetor well sudden influx artilleri ammunit month report shell hunger bakhmut russian independ outletmozhem obyasnit explain also report prigozhin compani earn record amount incom contract russian mod despit feud russian defens minist sergey shoigu prigozhin repeatedli acknowledg cooper troop subordin russian mod receiv mobil personnel reinforc flank kremlin spokesperson dmitri peskov confirm eldest son fought war wagner isw ass inform oper mend relationship possibl increas demonstr prigozhin loyalti kremlin al factor indic prigozhin despit claim independ pride need retain favor support kremlin russian mod sustain operation russian ultranationalist continu advoc kremlin adopt stalinist repress measure russian state duma parliamentarian andrey gurulyov promin russian ultranationalist figur within rule unit russia parti state russia need reintroduc concept enemi peopl concept design late soviet leader joseph stalin opposit figur enemi societi gurulyov frequent share extrem opinion russian state televis rhetor among ultranationalist increasingli emphas need target elimin russia intern enemi former russian offic igor girkin wagner group financi yevgeni prigozhin often echo similar call prosecut russian offici hope end war via negoti west attitud indic ultranationalist commun expect russian presid vladimir putin expand repress fulli commit war th kremlin continu avoid adopt overtli repress measur like concern stabil putin regime th russian govern withdrew bill russian state duma would increas tax thirteen thirty percent russian fled country russian ultranationalist repeatedli call kremlin nation properti belong russian betray countri flee kremlin appear remain hesit introduc unpopular measur unnam sourc told russian independ outletverskathat russian presidenti administr not support return capit punish russia anoth issu recent reemerg russian polici discussion th kremlin could use threat death penalti scare russian support war effort remain passiv resist putin like remain hesit destroy imag diplomat toler tsar isw previous ass putin reli control inform space safeguard regim much kind massiv oppress apparatu soviet union putin never rebuilt intern repress apparatu equival kgb interior ministri forc red army russian civil right group ovd info memori ru sidyashchaya russia behind bar issu legal challeng russian censorship law discredit russian militari april twenty five ovd info announc lawyer file ten twenty plan complaint law russian constitut court hope court rule law unconstitutional th complaint center around individu case alleg discredit includ one case wherein author fine man fifty zero rubl six hundred twelve hold sign call peace fring group least twenty mostli smaller pro war russian milblogg amplifi call russian govern repeal censorship law april eleven follow prosecut russian medic tell battlefield truth ovd info human right organ like face prosecut russian censorship law russian govern unlik repeal strike law without direct kremlin challeng like ovd info demonstr continu resist domest censorship repress key takeawayssenior eu offici ass russian presid vladimir putin would remain unwil negoti respons success ukrainian counteroffensive ukrainian militari offici claim april twenty five ukrainian forc achiev impress result counter batteri combat russian forc russian occupi eastern left bank dnipro river wagn group financi yevgeni prigozhin deni isw april twenty two ass limit improv wagner relat russian militari command ahead plan ukrainian counteroffensive russian ultranationalist continu advoc kremlin adopt stalinist repress measure th kremlin continu avoid adopt overtli repress measur like concern stabil putin regime russian civil right group ovd info memori ru sidyashchaya russia behind bar issu legal challeng russian censorship law discredit russian militari april twenty five russian sourc claim russian forc conduct limit ground attack svatove kremmina line russian forc continu conduct ground attack around bakhmut along avdiivka donetsk citi frontline russian milblogg continu issu vehement denial ukrainian forc establish sustain posit east left bank kherson oblast th russian ministri defens mod attempt financi incentiv russian prison fight ukrain offer compens equival russian volunteer th ukrainian resist center report ukrainian partisan deton russian militari checkpoint near oleshky russian main effort eastern ukrainerussian subordin main effort luhansk oblast russian object captur remaind luhansk oblast push westward eastern kharkiv oblast northern donetsk oblast russian sourc claim russian forc conduct limit ground attack svatove kreminna line april twenty five russian milblogg claim april twenty four russian forc advanc toward nevsk 17km northwest kreminna makiivka 22km northwest kreminna east spirn 25km south kreminna ukrainian gener staff report russian forc continu fortifi posit kupyansk direct not conduct ground attack lyman direction geoloc footag publish april twenty five indic russian forc like captur karmazynivka 13km southwest svatov unspecifi date ukrainian eastern group forc command colonel gener oleksandr syrskyi report april twenty five russian forc attempt push ukrainian forc posit serebrianska forest area 11km south kreminna order set condit attack lyman direction syrskyi also report russian forc eastern ukrain form storm infantri unit brigad regiment reinforc tank thermobar artilleri mortar anti tank unit russian subordin main effort donetsk oblast russian object captur entireti donetsk oblast claim territori russia proxi donba russian forc continu conduct ground attack around bakhmut april twenty four geoloc footag post april twenty four show wagner group forc made margin advanc southwest bakhmut two rail station western bakhmut russian milblogg claim wagner forc advanc southern western bakhmut fight heaviest som milblogg claim wagner forc advanc west bakhmut two rail station milblogg claim fight intensifi northwest bakhmut near orikhovo vasylivka 11km northwest novomarkov 12km northwest ukrainian gener staff report continu fight bakhmut ukrainian forc repel russian ground attack near bohdanivka 5km northwest bakhmut novomarkov khromov immedi northwest bakhmut klishchiivka 5km south bakhmut ukrainian eastern group forc spokesperson colonel serhiy cherevati state wagner group forc no longer conduct combat oper without support russian airborn vdv special purpos unit cherevati character becom increasingli activ bakhmut area ukrainian forc conduct local counterattack northwest bakhmut like allevi pressur logist line pas khromov geoloc footag post april twenty five show ukrainian forc overtak russian posit north o0504 khromove chasiv yar highway russian milblogg claim ukrainian counterattack unsuccess however russian forc continu conduct ground attack along avdiivka donetsk citi line april twenty five geoloc footag donetsk peopl republ dnr peopl militia april twenty one show russian forc advanc east toward nevelsk 14km southwest avdiivka ukrainian gener staff report ukrainian forc repel russian ground attack near novokalynov 9km north avdiivka stepov 3km northwest avdiivka sievern 6km west avdiivka pervomaisk 11km southwest avdiivka marinka immedi west donetsk citi novomykhailivka 10km southwest donetsk citi russian milblogg battl map claim russian forc advanc west kamianka 4km north avdiivka south vesel 5km north avdiivka april twenty five geoloc footag dnr peopl militia show dnr 1st slavic 110th motor rifl brigad 1st armi corp oper south sievern near nevelsk respectively russian forc not conduct confirm claim ground attack western donetsk oblast april twenty five ukrainian tavriisk direct defens forc spokesperson colonel oleksiy dmytrashkivskyi state russian 155th naval infantri brigad pacif fleet reappear vuhledar area impli brigad left front line unspecifi date rest reconstitute dmytrashkivskyi ass 155th like not full combat strength russian support effort southern axi russian object maintain frontlin posit secur rear area ukrainian strike russian milblogg continu issu vehement denial april twenty five ukrainian forc establish sustain posit east left bank kherson oblast milblogg amplifi textual report video claim russian militari personnel claim ukrainian forc not east bank kherson oblast situat control video featur personnel union donba volunt affili crimean occup head sergey aksyonov milblogg claim ukrainian forc seiz mani dnipro river delta island however russian milblogg also seiz chanc amplifi claim russian militari success includ russian forc shot ukrainian su twenty five support ukrainian raid across dnipro river th milblogg also claim russian air strike particularli modifi guid fab five hundred bomb improv russian forc abil repel ukrainian forc east bank kherson oblast russian occup offici claim ukrainian forc oper hrim two short rang ballist missil system zaporizhia oblast zaporizhia oblast occup offici vladimir rogov claim april twenty five ukrainian forc deploy new hrim two missil system zaporizhzhia city th hrim two reportedli maximum rang four hundred five hundred kilometer russian milblogg claim ukrainian forc target kerch strait bridg hrim two missil april twenty two russian mobil forc gener effort russian object expand combat power without conduct gener mobil russian ministri defens mod attempt financi incentiv russian prison fight ukrain offer compens equival russian volunt perm oblast human right activist oksana asaulenko report russian mod repres visit prison gubakha perm oblast offer prison option serv ukrain six month term th russian mod reportedli offer prison monthli salari two hundred five zero rubl two five hundred ten russian mod also reportedli offer prison compens three million rubl thirty six seven hundred twenty injur five million rubl sixty one two hundred prison famili kill battlefield wagner group serviceman reveal russian opposit outlet mani wagner convict die within first three week frontlin unclear famili ever receiv compens death th mod effort financi incentiv prison recruit indic russian mod not lure prison war sole pardon promis isw previous report pay discrep among russian volunt mobil serviceman spark conflict payment convict serv frontlin may aggrav tension among member russian convent irregular force wagner group convict told thenew york timesthat wagner recruit prison offer hiv treatment hiv posit wagner mercenari reveal thenew york timesthat russian prison treat hiv posit prison ineffect drug prompt sign militari servic wagner decemb convict claim wagner promis pardon effect hiv treatment claim quick death battlefield appeal slow death prison ad not prior militari experi wit unit die attack near bakhmut head independ russian human right organ ru sidyashchaya russia behind bar olga romanova claim approxim ten percent russian prison hiv russian recruit offici like use promis medic treatment recruit incentive russian feder subject privat militari compani pmc proxi militari format continu advertis contract servic form new militari unit bashkortostan administr offici maxim zabelin announc republ form new medic compani support region volunt battalion th compani current train patriot park kubinka moscow oblast deploy ukrain russian milblogg amplifi seri recruit ad includ wagner recruit men six month contract ukrain fourteen month servic africa moscow citi recruit contract serviceman 60th veterani separ air assault brigad recruit volunt fill fourth volunt battalion th republ tatarstan alloc approxim eighteen million rubl two hundred twenty three hundred organ military patriot camp train child age eleven sixteen basic militari surviv skill th uk ministri defens mod ass russian daili casualti rate decreas thirty percent april russian forc suffer heavi casualti januari march th uk mod analyz casualti rate ukrainian gener staff calcul isw not independ confirm uk mod ass russian forc prepar ukrainian counteroffens like lead fewer casualty act russian occupi area russian object consolid administr control annex area forcibl integr ukrainian civilian russian sociocultur econom militari govern system ukrainian resist center report april twenty four ukrainian partisan target russian militari checkpoint improvis explos devic attack near oleshki kherson oblast center report partisan atesh movement blew russian militari checkpoint locat near militari infrastructur kill unspecifi number rosgvardia serviceman destroy militari equip even april twenty three kremlin continu integr russian occupi region ukrain russian healthcar system russian heath minster mikhail murashko claim russian author restor one hundred seventy two healthcar facil occupi ukrain eighty alreadi oper russian doctor complet perform prevent examin child russian occupi ukrain come week russian prime minist mikhail mishustin claim russian doctor alreadi examin two hundred zero child isw previous report russian effort integr occupi region ukrain health care initiative russian forc continu use child facil militari purpos ukrainian gener staff report april twenty five russian forc continu establish militari facil educ facil turn child teacher human shield ukrainian gener staff report two hundred russian mobil personnel occupi child camp urzuf mariupol raion signific activ belaru isw ass russian belarusian attack northern ukrain earli extraordinarili unlik thu restructur section updat no longer includ counter ind offens isw continu report daili observ russian belarusian militari activ belaru not indic russian belarusian forc prepar immin attack ukrain belaru isw revis text ass observ unambigu indic russia belaru prepar attack northern ukraine russian forc maintain presenc along ukrain northern border belaru russia ukrainian command joint forc lieuten gener serhiy nayev state april twenty five seventeen zero russian forc divid two format deploy along southern border belaru along border bryansk kursk oblasts nayev report two eight hundred russian forc unspecifi train ground belarus not isw not receiv classifi materi sourc use publicli avail inform draw extens russian ukrainian western report social medium well commerci avail satellit imageri geospati data basi report refer sourc use provid endnot updat</td>\n",
       "      <td>russian offen campaign assess april twenti five kateryna stepanenko grace mapp nicol wolkov frederick kaganapril twenti five 7pm etclicksenior us eu offici assess russian presid vladimir putin would remain unwil negoti respon success ukrainian counteroffens thenew york time nyt report april twenti four senior european offici state chanc putin back respon success ukrainian counteroffen less zero offici state putin would like mobil soldier fight ukrain us assist secretari defen intern secur affair celest walland said littl evid suggest putin would alter strateg goal subjug ukrain polit not fulli militarili us nation secur council spokesperson john kirbi toldvoic americaon april twenti five us increa secur assist ukrain us expect russia attempt go offen weather improv ukrainian militari offici claim april twenti five ukrainian forc achiev impress result counter batteri combat russian forc russian occupi eastern left bank dnipro river spokesperson ukrainian southern oper forc nataliya humenyuk state ukrainian forc hit destroy russian artilleri system tank armor vehicl air defen system humenyuk ad ukrainian forc work clear frontlin east bank counter batteri mode humenyuk ad russian forc evacu civilian dnipro river bank area move russian unit simplifi ukrainian oper wagn group financ yevgeni prigozhin deni isw april twenti two assess limit improv wagner relat russian militari command ahead plan ukrainian counteroffens isw previou assess russian militari command may partial repair strain relationship prigozhin persuad russian presid vladimir putin halt offen oper ahead plan ukrainian counteroffens isw also observ dramat chang natur prigozhin public interact russian ministri defen mod kremlin earli begin april prigozhin state isw assess fake note would not exchang ammunit guy even friendship god prigozhin continu instanc distast russian militari leadership contradict chang prigozhin rhetor well sudden influx artilleri ammunit month report shell hunger bakhmut russian independ outletmozhem obyasnit explain also report prigozhin compani earn record amount incom contract russian mod despit feud russian defen minist sergey shoigu prigozhin repeatedli acknowledg cooper troop subordin russian mod receiv mobil personnel reinforc flank kremlin spokesperson dmitri peskov confirm eldest son fought war wagner isw assess inform oper mend relationship possibl increa demonstr prigozhin loyalti kremlin al factor indic prigozhin despit claim independ pride need retain favor support kremlin russian mod sustain oper russian ultranationalist continu advoc kremlin adopt stalinist repress measur russian state duma parliamentarian andrey gurulyov promin russian ultranationalist figur within rule unit russia parti state russia need reintroduc concept enemi peopl concept design late soviet leader joseph stalin opposit figur enemi societi gurulyov frequent share extrem opinion russian state televi rhetor among ultranationalist increasingli empha need target elimin russia intern enemi former russian offic igor girkin wagner group financ yevgeni prigozhin often echo similar call prosecut russian offici hope end war via negoti west attitud indic ultranationalist commun expect russian presid vladimir putin expand repress fulli commit war th kremlin continu avoid adopt overtli repress measur like concern stabil putin regim th russian govern withdrew bill russian state duma would increa tax thirteen thirti percent russian fled countri russian ultranationalist repeatedli call kremlin nation properti belong russian betray countri flee kremlin appear remain hesit introduc unpopular measur unnam sourc told russian independ outletverskathat russian presidenti administr not support return capit punish russia anoth issu recent reemerg russian polici discuss th kremlin could use threat death penalti scare russian support war effort remain passiv resist putin like remain hesit destroy imag diplomat toler tsar isw previou assess putin reli control inform space safeguard regim much kind massiv oppress apparatu soviet union putin never rebuilt intern repress apparatu equiv kgb interior ministri forc red armi russian civil right group ovd info memori ru sidyashchaya russia behind bar issu legal challeng russian censorship law discredit russian militari april twenti five ovd info announc lawyer file ten twenti plan complaint law russian constitut court hope court rule law unconstitut th complaint center around individu case alleg discredit includ one case wherein author fine man fifti zero rubl six hundr twelv hold sign call peac fring group least twenti mostli smaller pro war russian milblogg amplifi call russian govern repeal censorship law april eleven follow prosecut russian medic tell battlefield truth ovd info human right organ like face prosecut russian censorship law russian govern unlik repeal strike law without direct kremlin challeng like ovd info demonstr continu resist domest censorship repress key takeawayssenior us eu offici assess russian presid vladimir putin would remain unwil negoti respon success ukrainian counteroffens ukrainian militari offici claim april twenti five ukrainian forc achiev impress result counter batteri combat russian forc russian occupi eastern left bank dnipro river wagn group financ yevgeni prigozhin deni isw april twenti two assess limit improv wagner relat russian militari command ahead plan ukrainian counteroffens russian ultranationalist continu advoc kremlin adopt stalinist repress measur th kremlin continu avoid adopt overtli repress measur like concern stabil putin regim russian civil right group ovd info memori ru sidyashchaya russia behind bar issu legal challeng russian censorship law discredit russian militari april twenti five russian sourc claim russian forc conduct limit ground attack svatov kremmina line russian forc continu conduct ground attack around bakhmut along avdiivka donetsk citi frontlin russian milblogg continu issu vehement denial ukrainian forc establish sustain posit east left bank kherson oblast th russian ministri defen mod attempt financ incentiv russian prison fight ukrain offer compen equiv russian volunt th ukrainian resist center report ukrainian partisan deton russian militari checkpoint near oleshki russian main effort eastern ukrainerussian subordin main effort luhansk oblast russian object captur remaind luhansk oblast push westward eastern kharkiv oblast northern donetsk oblast russian sourc claim russian forc conduct limit ground attack svatov kreminna line april twenti five russian milblogg claim april twenti four russian forc advanc toward nevsk 17km northwest kreminna makiivka 22km northwest kreminna east spirn 25km south kreminna ukrainian gener staff report russian forc continu fortifi posit kupyansk direct not conduct ground attack lyman direct geoloc footag publish april twenti five indic russian forc like captur karmazynivka 13km southwest svatov unspecifi date ukrainian eastern group forc command colonel gener oleksandr syrskyi report april twenti five russian forc attempt push ukrainian forc posit serebrianska forest area 11km south kreminna order set condit attack lyman direct syrskyi also report russian forc eastern ukrain form storm infantri unit brigad regiment reinforc tank thermobar artilleri mortar anti tank unit russian subordin main effort donetsk oblast russian object captur entireti donetsk oblast claim territori russia proxi donba russian forc continu conduct ground attack around bakhmut april twenti four geoloc footag post april twenti four show wagner group forc made margin advanc southwest bakhmut two rail station western bakhmut russian milblogg claim wagner forc advanc southern western bakhmut fight heaviest som milblogg claim wagner forc advanc west bakhmut two rail station milblogg claim fight intensifi northwest bakhmut near orikhovo vasylivka 11km northwest novomarkov 12km northwest ukrainian gener staff report continu fight bakhmut ukrainian forc repel russian ground attack near bohdanivka 5km northwest bakhmut novomarkov khromov immedi northwest bakhmut klishchiivka 5km south bakhmut ukrainian eastern group forc spokesperson colonel serhiy cherevati state wagner group forc no longer conduct combat oper without support russian airborn vdv special purpo unit cherevati charact becom increasingli activ bakhmut area ukrainian forc conduct local counterattack northwest bakhmut like allevi pressur logist line pass khromov geoloc footag post april twenti five show ukrainian forc overtak russian posit north o0504 khromov chasiv yar highway russian milblogg claim ukrainian counterattack unsuccess howev russian forc continu conduct ground attack along avdiivka donetsk citi line april twenti five geoloc footag donetsk peopl republ dnr peopl militia april twenti one show russian forc advanc east toward nevelsk 14km southwest avdiivka ukrainian gener staff report ukrainian forc repel russian ground attack near novokalynov 9km north avdiivka stepov 3km northwest avdiivka sievern 6km west avdiivka pervomaisk 11km southwest avdiivka marinka immedi west donetsk citi novomykhailivka 10km southwest donetsk citi russian milblogg battl map claim russian forc advanc west kamianka 4km north avdiivka south vesel 5km north avdiivka april twenti five geoloc footag dnr peopl militia show dnr 1st slavic 110th motor rifl brigad 1st armi corp oper south sievern near nevelsk respect russian forc not conduct confirm claim ground attack western donetsk oblast april twenti five ukrainian tavriisk direct defen forc spokesperson colonel oleksiy dmytrashkivskyi state russian 155th naval infantri brigad pacif fleet reappear vuhledar area impli brigad left front line unspecifi date rest reconstitut dmytrashkivskyi assess 155th like not full combat strength russian support effort southern axi russian object maintain frontlin posit secur rear area ukrainian strike russian milblogg continu issu vehement denial april twenti five ukrainian forc establish sustain posit east left bank kherson oblast milblogg amplifi textual report video claim russian militari personnel claim ukrainian forc not east bank kherson oblast situat control video featur personnel union donba volunt affili crimean occup head sergey aksyonov milblogg claim ukrainian forc seiz mani dnipro river delta island howev russian milblogg also seiz chanc amplifi claim russian militari success includ russian forc shot ukrainian su twenti five support ukrainian raid across dnipro river th milblogg also claim russian air strike particularli modifi guid fab five hundr bomb improv russian forc abil repel ukrainian forc east bank kherson oblast russian occup offici claim ukrainian forc oper hrim two short rang ballist missil system zaporizhia oblast zaporizhia oblast occup offici vladimir rogov claim april twenti five ukrainian forc deploy new hrim two missil system zaporizhzhia citi th hrim two reportedli maximum rang four hundr five hundr kilomet russian milblogg claim ukrainian forc target kerch strait bridg hrim two missil april twenti two russian mobil forc gener effort russian object expand combat power without conduct gener mobil russian ministri defen mod attempt financ incentiv russian prison fight ukrain offer compen equiv russian volunt perm oblast human right activist oksana asaulenko report russian mod repr visit prison gubakha perm oblast offer prison option serv ukrain six month term th russian mod reportedli offer prison monthli salari two hundr five zero rubl two five hundr ten russian mod also reportedli offer prison compen three million rubl thirti six seven hundr twenti injur five million rubl sixti one two hundr prison famili kill battlefield wagner group servicemen reveal russian opposit outlet mani wagner convict die within first three week frontlin unclear famili ever receiv compen death th mod effort financ incentiv prison recruit indic russian mod not lure prison war sole pardon promi isw previou report pay discrep among russian volunt mobil servicemen spark conflict payment convict serv frontlin may aggrav tension among member russian convent irregular forc wagner group convict told thenew york timesthat wagner recruit prison offer hiv treatment hiv posit wagner mercenari reveal thenew york timesthat russian prison treat hiv posit prison ineffect drug prompt sign militari servic wagner decemb convict claim wagner promi pardon effect hiv treatment claim quick death battlefield appeal slow death prison ad not prior militari experi wit unit die attack near bakhmut head independ russian human right organ ru sidyashchaya russia behind bar olga romanova claim approxim ten percent russian prison hiv russian recruit offici like use promi medic treatment recruit incent russian feder subject privat militari compani pmc proxi militari format continu adverti contract servic form new militari unit bashkortostan administr offici maxim zabelin announc republ form new medic compani support region volunt battalion th compani current train patriot park kubinka moscow oblast deploy ukrain russian milblogg amplifi seri recruit ad includ wagner recruit men six month contract ukrain fourteen month servic africa moscow citi recruit contract servicemen 60th veterani separ air assault brigad recruit volunt fill fourth volunt battalion th republ tatarstan alloc approxim eighteen million rubl two hundr twenti three hundr organ militari patriot camp train children age eleven sixteen basic militari surviv skill th uk ministri defen mod assess russian daili casualti rate decrea thirti percent april russian forc suffer heavi casualti januari march th uk mod analyz casualti rate ukrainian gener staff calcul isw not independ confirm uk mod assess russian forc prepar ukrainian counteroffen like lead fewer casualti act russian occupi area russian object consolid administr control annex area forcibl integr ukrainian civilian russian sociocultur econom militari govern system ukrainian resist center report april twenti four ukrainian partisan target russian militari checkpoint improvi explo devic attack near oleshki kherson oblast center report partisan atesh movement blew russian militari checkpoint locat near militari infrastructur kill unspecifi number rosgvardia servicemen destroy militari equip even april twenti three kremlin continu integr russian occupi region ukrain russian healthcar system russian heath minster mikhail murashko claim russian author restor one hundr seventi two healthcar facil occupi ukrain eighti alreadi oper russian doctor complet perform prevent examin children russian occupi ukrain come week russian prime minist mikhail mishustin claim russian doctor alreadi examin two hundr zero children isw previou report russian effort integr occupi region ukrain health care initi russian forc continu use children facil militari purpo ukrainian gener staff report april twenti five russian forc continu establish militari facil educ facil turn children teacher human shield ukrainian gener staff report two hundr russian mobil personnel occupi children camp urzuf mariupol raion signif activ belaru isw assess russian belarusian attack northern ukrain earli extraordinarili unlik thu restructur section updat no longer includ counter ind offen isw continu report daili observ russian belarusian militari activ belaru not indic russian belarusian forc prepar immin attack ukrain belaru isw revi text assess observ unambigu indic russia belaru prepar attack northern ukrain russian forc maintain presenc along ukrain northern border belaru russia ukrainian command joint forc lieuten gener serhiy nayev state april twenti five seventeen zero russian forc divid two format deploy along southern border belaru along border bryansk kursk oblast nayev report two eight hundr russian forc unspecifi train ground belaru not isw not receiv classifi materi sourc use publicli avail inform draw exten russian ukrainian western report social media well commerci avail satellit imageri geospati data basi report refer sourc use provid endnot updat</td>\n",
       "      <td>{'russian': 0.708, 'forc': 0.275, 'ukrainian': 0.245, 'twenty': 0.168, 'april': 0.153, 'claim': 0.132, 'militari': 0.127, 'five': 0.122, 'report': 0.107, 'two': 0.092}</td>\n",
       "      <td>2023-04-25</td>\n",
       "      <td>2023-04-26</td>\n",
       "    </tr>\n",
       "  </tbody>\n",
       "</table>\n",
       "</div>"
      ],
      "text/plain": [
       "        date                                            short_url  \\\n",
       "0 2023-04-25  russian_offensive_campaign_assessment_April_25_2023   \n",
       "\n",
       "                                                                                    title  \\\n",
       "0  Russian Offensive Campaign Assessment, April 25, 2023 | Institute for the Study of War   \n",
       "\n",
       "                                              text_title  \\\n",
       "0  Russian Offensive Campaign Assessment, April 25, 2023   \n",
       "\n",
       "                                                            full_url  \\\n",
       "0  /backgrounder/russian-offensive-campaign-assessment-april-25-2023   \n",
       "\n",
       "                                                                                                                                                                                                                                                                                                                                                                                                                                                                                                                                                                                                                                                                                                                                                                                                                                                                                                                                                                                                                                                                                                                                                                                                                                                                                                                                                                                                                                                                                                                                                                                                                                                                                                                                                                                                                                                                                                                                                                                                                                                                                                                                                                                                                                                                                                                                                                                                                                                                                                                                                                                                                                                                                                                                                                                                                                                                                                                                                                                                                                                                                                                                                                                                                                                                                                                                                                                                                                                                                                                                                                                                                                                                                                                                                                                                                                                                                                                                                                                                                                                                                                                                                                                                                                                                                                                                                                                                                                                                                                                                                                                                                                                                                                                                                                                                                                                                                                                                                                                                                                                                                                                                                                                                                                                                                                                                                                                                                                                                                                                                                                                                                                                                                                                                                                                                                                                                                                                                                                                                                                                                                                                                                                                                                                                                                                                                                                                                                                                                                                                                                                                                                                                                                                                                                                                                                                                                                                                                                                                                                                                                                                                                                                                                                                                                                                                                                                                                                                                                                                                                                                                                                                                                                                                                                                                                                                                                                                                                                                                                                                                                                                                                                                                                                                                                                                                                                                                                                                                                                                                                                                                                                                                                                                                                                                                                                                                                                                                                                                                                                                                                                                                                                                                                                                                                                                                                                                                                                                                                                                                                                                                                                                                                                                                                                                                                                                                                                                                                                                                                                                                                                                                                                                                                                                                                                                                                                                                                                                                                                                                                                                                                                                                                                                                                                                                                                                                                                                                                                                                                                                                                                                                                                                                                                                                                                                                                                                                                                                                                                                                                                                                                                                                                                                                                                                                                                                                                                                                                                                                                                                                                                                                                                                                                                                                                                                                                                                                                                                                                                                                                                                                                                                                                                                                                                                                                                                                                                                                                                                                                                                                                                                                                                                                                                                                                                                                                                                                                                                                                                                                                                                                                                                                                                                                                                                                                                                                                                                                                                                                                                                                                                                                                                                                                                                                                                                                                                                                                                                                                                                                                                                                                                                                                                                                                                                                                                                                                                                                                                                                                                                                                                                                                                                                                                                                                                                                                                                                                                                                                                                                                                                                                                                                                                                                                                                                                                                                                                                                                                                                                                                                                                                                                                                                                                                                                                                                                                                                                                                                                                                                                                                                                                                                                                                                                                                                                                                                                                                                                                                                                                                                                                                                                                                                                                                                                                                                                                                                                                                                                                                                                                                                                                                                                                                                                                                                                                                                                                                                                                                                                                                                                                                                                                                                                                                                                                                                                                                                                                                                                                                                                                                                                                                                                                                                                                                                                                                                                                                                                                                                                                                                                                                                                                                                                                                                                                                                                                                                                                                                                                                                                                                                                                                                                                                                                                                                                                                                                                                                                                                                                                                                                                                                                                                                                                                                                                                                                                                                                                                                                                                                                                                                                                                                                                                                                                                                                                                                                                                                                                                                                                                                                                                                                                                                                                                                                                                                                                                                                                                                                                                                                                                                                                                                                                                                                                                                                                                                                                                                                                                                                                                                                                                                                                                                                                                                                                                                                                                                                                                                                                                                                                                                                                                                                                                                                                                                                                                                                                                                                                                                                                                                                                                                                                                                                                                                                                                                                                                                                                                                                                                                                                                                                                                                                                                                                                                                                                                                                                                                                                                                                                                                                                                                                                                                                                                                                                                                                                                                                                                                                                                                                                                                                                                                                                                                                                                                                                                                                                                                                                                                                                                                                                                                                                                                                                                                                                                                                                                                                                                                                                                                                                                                                                                                                                                                                                                                                                                                                                                                                                                                                                                                                                                                                                                                                                                                                                                                                                                                                                                                                                                                                                                                                                                                                                                                                                                                                                                                                                                                                                                                                                                                                                                                                                                                                                                                                                                                                                                                                                                                                                                                                                                                                                                                                                                                                                                                                                                                                                                                                                                                                                                                                                                                                                                                                                                                                                                                                                                                                                                                                                                                                                                                                                                                                                                                                                                                                                                                                                                                                                                                                                                                                                                                                                                                                                                                                                                                                                                                                                                       main_html  \\\n",
       "0  [[[ , <p align=\"center\" style=\"text-align: left;\"><strong><br/></strong></p>, \\n, <p align=\"center\" style=\"text-align: left;\"><strong>Russian Offensive Campaign Assessment, April 25, 2023</strong><br/><strong>Kateryna Stepanenko, Grace Mappes, Nicole Wolkov, and Frederick W. Kagan</strong><br/><strong>April 25, 7pm ET</strong></p>, \\n, <p><strong>Click </strong><a href=\"https://storymaps.arcgis.com/stories/36a7f6a6f5a9448496de641cf64bd375\"><strong>here</strong></a><strong> to see ISW’s interactive map of the Russian invasion of Ukraine. This map is updated daily alongside the static maps present in this report.</strong></p>, \\n, <p><strong>Click </strong><a href=\"https://storymaps.arcgis.com/stories/733fe90805894bfc8562d90b106aa895\"><strong>here</strong></a><strong> to access ISW’s archive of interactive time-lapse maps of the Russian invasion of Ukraine. These maps complement the static control-of-terrain map that ISW produces daily by showing a dynamic frontline. ISW will update this time-lapse map archive monthly.</strong></p>, \\n, <p><strong>Senior US and EU officials assess that Russian President Vladimir Putin would remain unwilling to negotiate in response to a successful Ukrainian counteroffensive. </strong>The <em>New York Times</em> (<em>NYT</em>) reported on April 24 that a senior European official stated that the chances of Putin “backing down” in response to a successful Ukrainian counteroffensive are “less than zero.”[1] The official stated that Putin would likely mobilize more soldiers to fight in Ukraine. US Assistant Secretary of Defense for International Security Affairs Celeste Wallander said that there is “very little evidence” to suggest that Putin would alter his strategic goal of subjugating Ukraine “politically, if not fully militarily.” US National Security Council Spokesperson John Kirby told <em>Voice of America</em> on April 25 that the US is increasing security assistance to Ukraine because the US expects that Russia will attempt to go on the offensive as the weather improves.[2]</p>, \\n, <p><strong>A Ukrainian military official claimed on April 25 that Ukrainian forces are achieving “impressive results” in counter-battery combat against Russian forces on the Russian-occupied eastern (left) bank of the Dnipro River.</strong><strong>[3]</strong><strong> </strong>Spokesperson for the Ukrainian Southern Operational Forces Nataliya Humenyuk stated that Ukrainian forces hit and destroyed Russian artillery systems, tanks, armored vehicles, and air defense systems. Humenyuk added that Ukrainian forces are working to clear the frontline on the east bank in a “counter-battery mode.” Humenyuk added that Russian forces are evacuating civilians from the Dnipro River bank area to move in Russian units, which is simplifying Ukrainian operations.</p>, \\n, <p><strong>Wagner Group financier Yevgeny Prigozhin denied ISW’s April 22 assessment about limited improvements in Wagner’s relations with the Russian military command ahead of the planned Ukrainian counteroffensive. </strong>ISW previously assessed that the Russian military command may have partially repaired its strained relationship with Prigozhin to persuade Russian President Vladimir Putin to halt offensive operations ahead of the planned Ukrainian counteroffensive.[4] ISW had also observed a dramatic change in the nature of Prigozhin’s public interactions with the Russian Ministry of Defense (MoD) and the Kremlin as early as beginning of April.[5] Prigozhin stated that ISW’s assessment is a “fake,” noting that he would not “exchange ammunition for [his] guys even for friendship with God.”[6]</p>, \\n, <p>Prigozhin’s continued instance on his distaste for the Russian military leadership contradicts the change in Prigozhin’s rhetoric as well as the sudden influx of artillery ammunition after months of reported shell hunger in Bakhmut.[7] Russian independent outlet <em>Mozhem Obyasnit </em>(We Can Explain) also reported that Prigozhin’s companies earned a record amount of income in 2022 from their contracts with the Russian MoD despite his feud with Russian Defense Minister Sergey Shoigu.[8] Prigozhin has repeatedly acknowledged cooperation with troops subordinated to the Russian MoD and is receiving mobilized personnel to reinforce his flanks. Kremlin Spokesperson Dmitry Peskov confirmed that his eldest son fought in the war with Wagner, which ISW assessed to be an information operation to mend the relationship and possibly increase or demonstrate Prigozhin’s loyalty to the Kremlin.[9] All these factors indicate that Prigozhin – despite his claimed independence and pride – needs to retain the favor and support of the Kremlin and the Russian MoD to sustain his operations.</p>, \\n, <p><strong>Russian ultranationalists are continuing to advocate for the Kremlin to adopt Stalinist repression measures.</strong> Russian State Duma Parliamentarian Andrey Gurulyov – a prominent Russian ultranationalist figure within the ruling United Russia Party – stated that Russia needs to reintroduce the concept of the “enemy of the people.”[10] This concept designated all the late Soviet leader Joseph Stalin’s opposition figures as the enemies of society. Gurulyov frequently shares extreme opinions on Russian state television but the rhetoric among the ultranationalists is increasingly emphasizing the need for the targeting and elimination of Russia’s internal enemies. Former Russian officer Igor Girkin and Wagner Group financier Yevgeny Prigozhin often echo similar calls to prosecute Russian officials who are hoping to end the war via negotiations with the West. Such attitudes indicate that the ultranationalist communities are expecting Russian President Vladimir Putin to expand repression and fully commit to the war.</p>, \\n, <p><strong>The Kremlin continues to avoid adopting overtly repressive measures likely out of concern for the stability of Putin’s regime. </strong>The Russian government withdrew a bill from the Russian State Duma that would have increased taxes from 13 to 30 percent for Russians who have fled the country.[11] Russian ultranationalists have repeatedly called on the Kremlin to nationalize property belonging to Russians who had “betrayed” the country by fleeing, but the Kremlin appears to remain hesitant to introduce such unpopular measures. Unnamed sources told Russian independent outlet <em>Verska</em> that the Russian presidential administration does not support the return of capital punishments in Russia – another issue that recently reemerged in Russian policy discussions.[12] The Kremlin could use the threat of the death penalty to scare Russians into supporting the war effort (or remaining passively resistant to it), but Putin likely remains hesitant to destroy his image as a diplomatic and tolerant tsar. ISW previously assessed that Putin relies on controlling the information space to safeguard his regime much more than the kind of massive oppression apparatus of the Soviet Union and that Putin has never rebuilt an internal repression apparatus equivalent to the KGB, Interior Ministry forces, and the Red Army.[13]</p>, \\n, <p><strong>Russian civil rights groups OVD-Info, Memorial, and Rus Sidyashchaya (Russia Behind Bars) issued a legal challenge to the Russian censorship law against discrediting the Russian military on April 25. </strong>OVD-Info announced that its lawyers filed 10 of 20 planned complaints against the law to the Russian Constitutional Court in hopes that the court will rule the law unconstitutional.[14] The complaints centered around individual cases of alleged discreditation, including one case wherein authorities fined a man 50,000 rubles (about $612) for holding a sign calling for peace.[15] A fringe group of at least 20, mostly smaller, pro-war Russian milbloggers amplified a call for the Russian government to repeal the censorship laws on April 11 following the prosecution of a Russian medic for telling battlefield truths.[16] OVD-Info and other human rights organizations are most likely to face prosecution under Russian censorship laws. The Russian government is unlikely to repeal or strike down these laws without direction from the Kremlin, but challenges like OVD-Info's demonstrate continued resistance to domestic censorship and repression.</p>, \\n, <p> <strong>Key Takeaways</strong></p>, \\n, <ul><li><strong>Senior US and EU officials assess that Russian President Vladimir Putin would remain unwilling to negotiate in response to a successful Ukrainian counteroffensive.</strong></li>\\n<li><strong>A Ukrainian military official claimed on April 25 that Ukrainian forces are achieving “impressive results” in counter-battery combat against Russian forces on the Russian-occupied eastern (left) bank of the Dnipro River.</strong></li>\\n<li><strong>Wagner Group financier Yevgeny Prigozhin denied ISW’s April 22 assessment about limited improvements in Wagner’s relations with the Russian military command ahead of the planned Ukrainian counteroffensive.</strong></li>\\n<li><strong>Russian ultranationalists continue to advocate for the Kremlin to adopt Stalinist repression measures.</strong></li>\\n<li><strong>The Kremlin continues to avoid adopting overtly repressive measures likely out of concern for the stability of Putin’s regime.</strong></li>\\n<li><strong>Russian civil rights groups OVD-Info, Memorial, and Rus Sidyashchaya (Russia Behind Bars) issued a legal challenge to the Russian censorship law against discrediting the Russian military on April 25.</strong></li>\\n<li><strong>Russian sources claimed that Russian forces conducted limited ground attacks on the Svatove-Kremmina line.</strong></li>\\n<li><strong>Russian forces continued to conduct ground attacks in and around Bakhmut and along the Avdiivka-Donetsk City frontline.</strong></li>\\n<li><strong>Russian milbloggers continued to issue vehement denials that Ukrainian forces established sustained positions on east (left) bank Kherson Oblast.</strong></li>\\n<li><strong>The Russian Ministry of Defense (MoD) is attempting to financially incentivize Russian prisoners to fight in Ukraine, offering them compensation equivalent to that of Russian volunteers.</strong></li>\\n<li><strong>The Ukrainian Resistance Center reported that Ukrainian partisans detonated a Russian military checkpoint near Oleshky.</strong></li>\\n</ul>, <div><strong><br/></strong></div>, \\n, <div><a href=\"https://www.understandingwar.org/sites/default/files/DraftUkraineCoTApril25%2C2023.png\"><strong><img height=\"706\" src=\"https://www.understandingwar.org/sites/default/files/DraftUkraineCoTApril25%2C2023.png\" width=\"500\"/></strong></a></div>, \\n, <p><strong><em>We do not report in detail on Russian war crimes because these activities are well-covered in Western media and do not directly affect the military operations we are assessing and forecasting. We will continue to evaluate and report on the effects of these criminal activities on the Ukrainian military and the Ukrainian population and specifically on combat in Ukrainian urban areas. We utterly condemn these Russian violations of the laws of armed conflict, Geneva Conventions, and humanity even though we do not describe them in these reports.</em></strong></p>, \\n, <ul><li>Russian Main Effort – Eastern Ukraine (comprised of two subordinate main efforts)</li>\\n<li>Russian Subordinate Main Effort #1 – Capture the remainder of Luhansk Oblast and push westward into eastern Kharkiv Oblast and encircle northern Donetsk Oblast</li>\\n<li>Russian Subordinate Main Effort #2 – Capture the entirety of Donetsk Oblast</li>\\n<li>Russian Supporting Effort – Southern Axis</li>\\n<li>Russian Mobilization and Force Generation Efforts</li>\\n<li>Activities in Russian-occupied areas</li>\\n</ul>, <p><strong><span style=\"text-decoration: underline;\">Russian Main Effort – Eastern Ukraine</span></strong></p>, \\n, <p><strong><span style=\"text-decoration: underline;\">Russian Subordinate Main Effort #1 – Luhansk Oblast</span></strong><strong> (Russian objective: Capture the remainder of Luhansk Oblast and push westward into eastern Kharkiv Oblast and northern Donetsk Oblast)</strong></p>, \\n, <p>Russian sources claimed that Russian forces conducted limited ground attacks on the Svatove-Kreminna line on April 25. Russian milbloggers claimed on April 24 that Russian forces advanced toward Nevske (17km northwest of Kreminna), Makiivka (22km northwest of Kreminna) and east of Spirne (25km south of Kreminna).[17] The Ukrainian General Staff reported that Russian forces continue to fortify positions in the Kupyansk direction and did not conduct ground attacks in the Lyman direction.[18] Geolocated footage published on April 25 indicates that Russian forces likely captured Karmazynivka (13km southwest of Svatove) on an unspecified date.[19] Ukrainian Eastern Group of Forces Commander Colonel General Oleksandr Syrskyi reported on April 25 that Russian forces are attempting to push Ukrainians forces out of their positions in the Serebrianska forest area (11km south of Kreminna) in order to set conditions for further attacks in the Lyman direction.[20] Syrskyi also reported that Russian forces in eastern Ukraine formed “Storm” infantry units from each brigade or regiment reinforced with tanks, thermobaric artillery, and mortars and anti-tank units.[21]</p>, \\n, <p><a href=\"https://www.understandingwar.org/sites/default/files/Kharkiv%20Battle%20Map%20Draft%20April%2025%2C2023%20.png\"><img height=\"835\" src=\"https://www.understandingwar.org/sites/default/files/Kharkiv%20Battle%20Map%20Draft%20April%2025%2C2023%20.png\" width=\"500\"/></a></p>, \\n, <p><strong><span style=\"text-decoration: underline;\">Russian Subordinate Main Effort #2 – Donetsk Oblast</span></strong><strong> (Russian Objective: Capture the entirety of Donetsk Oblast, the claimed territory of Russia’s proxies in Donbas)</strong></p>, \\n, <p>Russian forces continued to conduct ground attacks in and around Bakhmut on April 24. Geolocated footage posted on April 24 shows that Wagner Group forces made marginal advances southwest of the Bakhmut-2 rail station in western Bakhmut.[22] Russian milbloggers claimed that Wagner forces advanced in southern and western Bakhmut, where the fighting is heaviest.[23] Some milbloggers claimed that Wagner forces advanced further west from the Bakhmut-2 rail station.[24] One milblogger claimed that fighting is intensifying northwest of Bakhmut near Orikhovo-Vasylivka (11km northwest) and Novomarkove (12km northwest).[25] The Ukrainian General Staff reported continued fighting in Bakhmut, and that Ukrainian forces repelled Russian ground attacks near Bohdanivka (5km northwest of Bakhmut), Novomarkove, Khromove (immediately northwest of Bakhmut) and Klishchiivka (5km south of Bakhmut).[26] Ukrainian Eastern Group of Forces Spokesperson Colonel Serhiy Cherevaty stated that Wagner Group forces can no longer conduct combat operations without support from Russian Airborne (VDV) and special purposes units, which Cherevaty characterized as becoming increasingly active in the Bakhmut area.[27]</p>, \\n, <p>Ukrainian forces conducted a localized counterattack northwest of Bakhmut, likely to alleviate pressure against the logistics line passing through Khromove. Geolocated footage posted on April 25 shows Ukrainian forces overtaking Russian positions north of the O0504 Khromove-Chasiv Yar highway.[28] A Russian milblogger claimed that the Ukrainian counterattack was unsuccessful, however.[29]</p>, \\n, <p>Russian forces continued to conduct ground attacks along the Avdiivka-Donetsk City line on April 25. Geolocated footage from the Donetsk People’s Republic (DNR) People’s Militia on April 21 shows that Russian forces advanced east towards Nevelske (14km southwest of Avdiivka).[30] The Ukrainian General Staff reported that Ukrainian forces repelled Russian ground attacks near Novokalynove (9km north of Avdiivka), Stepove (3km northwest of Avdiivka), Sieverne (6km west of Avdiivka, Pervomaiske (11km southwest of Avdiivka), Marinka (immediately west of Donetsk City), and Novomykhailivka (10km southwest of Donetsk City).[31] A Russian milblogger’s battle map claimed that Russian forces advanced west of Kamianka (4km north of Avdiivka) and south of Vesele (5km north of Avdiivka) as of April 25.[32] Geolocated footage from the DNR People’s Militia shows the DNR 1st Slavic and 110th Motorized Rifle brigades (1st Army Corps) operating south of Sieverne and near Nevelske, respectively.[33]</p>, \\n, <p>Russian forces did not conduct any confirmed or claimed ground attacks in western Donetsk Oblast on April 25.[34] Ukrainian Tavriisk Direction Defense Forces Spokesperson Colonel Oleksiy Dmytrashkivskyi stated that the Russian 155th Naval Infantry Brigade (Pacific Fleet) reappeared in the Vuhledar area, implying that the brigade left the front line on an unspecified date to rest and reconstitute.[35] Dmytrashkivskyi assessed that the 155th is likely not at full combat strength.</p>, \\n, <p><a href=\"https://www.understandingwar.org/sites/default/files/Donetsk%20Battle%20Map%20Draft%20April%2025%2C2023.png\"><img height=\"759\" src=\"https://www.understandingwar.org/sites/default/files/Donetsk%20Battle%20Map%20Draft%20April%2025%2C2023.png\" width=\"500\"/></a></p>, \\n, <p><a href=\"https://www.understandingwar.org/sites/default/files/Bakhmut%20Battle%20Map%20Draft%20April%2025%2C2023.png\"><img height=\"650\" src=\"https://www.understandingwar.org/sites/default/files/Bakhmut%20Battle%20Map%20Draft%20April%2025%2C2023.png\" width=\"500\"/></a></p>, \\n, <p><strong><span style=\"text-decoration: underline;\">Russian Supporting Effort – Southern Axis</span></strong><strong> (Russian objective: Maintain frontline positions and secure rear areas against Ukrainian strikes)</strong></p>, \\n, <p>Russian milbloggers continued to issue vehement denials on April 25 that Ukrainian forces established sustained positions on east (left) bank Kherson Oblast. The milbloggers amplified textual reports and video claims from Russian military personnel claiming that Ukrainian forces are not on east bank Kherson Oblast and that the situation is under control.[36] One such video features personnel from the Union of Donbas Volunteers, which is affiliated with Crimean occupation head Sergey Aksyonov.[37] One milblogger claimed that Ukrainian forces seized many of the Dnipro River delta islands, however.[38] Russian milbloggers also seized the chance to amplify claimed Russian military successes, including that Russian forces shot down a Ukrainian Su-25 that had supported Ukrainian raids across the Dnipro River.[39] The milbloggers also claimed that Russian air strikes, particularly with modified guided FAB-500 bombs, improved Russian forces’ ability to repel Ukrainian forces from east bank Kherson Oblast.[40]</p>, \\n, <p>A Russian occupation official claimed that Ukrainian forces are operating a Hrim-2 short-range ballistic missile system in Zaporizhia Oblast. Zaporizhia Oblast occupation official Vladimir Rogov claimed on April 25 that Ukrainian forces deployed a new Hrim-2 missile system to Zaporizhzhia City.[41] The Hrim-2 reportedly has a maximum range of 400-500 kilometers.[42] A Russian milblogger claimed that Ukrainian forces targeted the Kerch Strait Bridge with a Hrim-2 missile on April 22.[43]</p>, \\n, <p><a href=\"https://www.understandingwar.org/sites/default/files/Kherson-Mykolaiv%20Battle%20Map%20Draft%20April%2025%2C2023.png\"><img height=\"797\" src=\"https://www.understandingwar.org/sites/default/files/Kherson-Mykolaiv%20Battle%20Map%20Draft%20April%2025%2C2023.png\" width=\"500\"/></a></p>, \\n, <p><a href=\"https://www.understandingwar.org/sites/default/files/Zaporizhia%20Battle%20Map%20April%2025%2C2023.png\"><img height=\"661\" src=\"https://www.understandingwar.org/sites/default/files/Zaporizhia%20Battle%20Map%20April%2025%2C2023.png\" width=\"500\"/></a></p>, \\n, <p><strong><span style=\"text-decoration: underline;\">Russian Mobilization and Force Generation Efforts</span></strong><strong> (Russian objective: Expand combat power without conducting general mobilization)</strong></p>, \\n, <p>The Russian Ministry of Defense (MoD) is attempting to financially incentivize Russian prisoners to fight in Ukraine by offering them compensation equivalent to that of Russian volunteers. Perm Oblast human rights activist Oksana Asaulenko reported that the Russian MoD representatives visited a prison in Gubakha, Perm Oblast, and offered prisoners the option to serve in Ukraine for a six-month term.[44] The Russian MoD reportedly offered prisoners a monthly salary of 205,000 rubles (about $2,510). The Russian MoD is also reportedly offering prisoners compensation of three million rubles (about $36,720) if they are injured or five million rubles (about $61,200) to prisoners’ families if they are killed on the battlefield. Wagner Group servicemen revealed to a Russian opposition outlet that many Wagner convicts died within the first three weeks on the frontline and that it is unclear if their families ever received compensation for their deaths.[45] The MoD’s efforts to financially incentivize prisoner recruitment indicates that the Russian MoD cannot lure prisoners to war solely with pardon promises. ISW previously reported that pay discrepancies among Russian volunteers and mobilized servicemen have sparked conflicts, and payments to convicts serving on the frontlines may further aggravate the tensions among the members of Russian conventional and irregular forces.[46]</p>, \\n, <p>A Wagner Group convict told the<em> New York Times</em> that Wagner recruited prisoners by offering them HIV treatments. An HIV-positive Wagner mercenary revealed to the <em>New York Times</em> that Russian prisons treat HIV-positive prisoners with ineffective drugs, which prompted him to sign up for military service with Wagner in December 2022.[47] The convict claimed that Wagner promised him a pardon and effective HIV treatments and claimed that quick death on the battlefield was more appealing than a slow death in prison. He added that he did not have prior military experience and witnessed most of his unit die during an attack near Bakhmut. Head of the independent Russian human rights organization “Rus Sidyashchaya” (Russia Behind Bars) Olga Romanova claimed that approximately 10 percent of all Russian prisoners have HIV – and that Russian recruitment officials likely use the promise of medical treatment as a recruitment incentive.</p>, \\n, <p>Russian federal subjects, private military companies (PMCs), and proxy military formations are continuing to advertise contract service and form new military units. Bashkortostan Administration official Maxim Zabelin announced that the republic formed a new medical company that will support regional volunteer battalions.[48] The company is currently training in Patriot Park in Kubinka, Moscow Oblast before deploying to Ukraine. A Russian milblogger amplified a series of recruitment ads including: Wagner recruiting men for a six-month contract in Ukraine or a 9 to 14-month service in Africa; Moscow City recruitment of contract servicemen; and the 60th “Veterany” Separate Air Assault Brigade recruiting volunteers to fill its fourth volunteer battalion.[49] The Republic of Tatarstan is allocating approximately 18 million rubles (about $220,300) to organize military-patriotic camps to train children ages 11 to 16 on basic military and survival skills.[50]</p>, \\n, <p>The UK Ministry of Defense (MoD) assessed that Russian daily casualty rates decreased by over 30 percent in April after Russian forces suffered heavy casualties between January and March.[51] The UK MoD analyzed casualty rates from Ukrainian General Staff’s calculations, which ISW cannot independently confirm. The UK MoD assessed that Russian forces are preparing for Ukrainian counteroffensives, which is likely leading to fewer casualties.</p>, \\n, <p><strong><span style=\"text-decoration: underline;\">Activities in Russian-occupied areas</span></strong><strong> (Russian objective: Consolidate administrative control of annexed areas; forcibly integrate Ukrainian civilians into Russian sociocultural, economic, military, and governance systems)</strong></p>, \\n, <p>The Ukrainian Resistance Center reported on April 24 that Ukrainian partisans targeted a Russian military checkpoint in an improvised explosive device (IED) attack near Oleshky, Kherson Oblast. The center reported that partisans from the Atesh movement blew up a Russian military checkpoint located near military infrastructure, killing an unspecified number of Rosgvardia servicemen and destroying military equipment on the evening of April 23.[52]</p>, \\n, <p>The Kremlin continues to integrate Russian-occupied regions of Ukraine into the Russian healthcare system. Russian Heath Minster Mikhail Murashko claimed that Russian authorities are restoring 172 healthcare facilities in occupied Ukraine – 80 of which are already operating – and that Russian doctors will complete performing “preventative examinations” of children in Russian occupied Ukraine in the coming weeks.[53] Russian Prime Minister Mikhail Mishustin claimed that that Russian doctors have already examined over 200,000 children.[54] ISW has previously reported on Russian efforts to integrate occupied regions of Ukraine through health care initiatives.[55]</p>, \\n, <p>Russian forces continue to use children’s facilities for military purposes. The Ukrainian General Staff reported on April 25 that Russian forces continue to establish military facilities in educational facilities turning children and teachers into “human shields.”[56] The Ukrainian General staff reported that up to 200 Russian mobilized personnel occupy a children’s camp in Urzuf in Mariupol Raion.</p>, \\n, <p><strong><span style=\"text-decoration: underline;\">Significant activity in Belarus</span></strong><strong> (ISW assesses that a Russian or Belarusian attack into northern Ukraine in early 2023 is extraordinarily unlikely and has thus restructured this section of the update. It will no longer include counter-indicators for such an offensive.)</strong></p>, \\n, <p><strong>ISW will continue to report daily observed Russian and Belarusian military activity in Belarus, but these are not indicators that Russian and Belarusian forces are preparing for an imminent attack on Ukraine from Belarus. ISW will revise this text and its assessment if it observes any unambiguous indicators that Russia or Belarus is preparing to attack northern Ukraine.</strong></p>, \\n, <p>Russian forces maintain a presence along Ukraine’s northern border in Belarus and Russia. Ukrainian Commander of the Joint Forces Lieutenant General Serhiy Nayev stated on April 25 that 17,000 Russian forces divided into two formations are deployed along the southern border of Belarus and along the border in Bryansk and Kursk oblasts.[57] Nayev reported that about 2,800 Russian forces are at unspecified training grounds in Belarus.</p>, \\n, <p><strong>Note: ISW does not receive any classified material from any source, uses only publicly available information, and draws extensively on Russian, Ukrainian, and Western reporting and social media as well as commercially available satellite imagery and other geospatial data as the basis for these reports. References to all sources used are provided in the endnotes of each update.</strong></p>, \\n, <div>\\n<hr align=\"left\" size=\"1\" width=\"33%\"/></div>, \\n, <p>[1] <a href=\"https://www.nytimes.com/2023/04/24/us/politics/ukraine-russia-war-spring-offensive.html\">https://www.nytimes.com/2023/04/24/us/politics/ukraine-russia-war-spring...</a></p>, \\n, <p>[2] <a href=\"https://ukrainian.voanews.com/a/rosiya-ukraina-kontrnastup/7063822.html\">https://ukrainian.voanews.com/a/rosiya-ukraina-kontrnastup/7063822.html</a></p>, \\n, <p>[3] <a href=\"https://edition.cnn.com/europe/live-news/russia-ukraine-war-news-04-25-23/h_8558eb736e3eac7ac037a5092f6631ed\">https://edition.cnn.com/europe/live-news/russia-ukraine-war-news-04-25-2...</a></p>, \\n, <p>[4] <a href=\"https://understandingwar.org/backgrounder/russian-offensive-campaign-assessment-april-22-2023\">https://understandingwar.org/backgrounder/russian-offensive-campaign-ass...</a></p>, ...]]]   \n",
       "\n",
       "                                                                                                                                                                                                                                                                                                                                                                                                                                                                                                                                                                                                                                                                                                                                                                                                                                                                                                                                                                                                                                                                                                                                                                                                                                                                                                                                                                                                                                                                                                                                                                                                                                                                                                                                                                                                                                                                                                                                                                                                                                                                                                                                                                                                                                                                                                                                                                                                                                                                                                                                                                                                                                                                                                                                                                                                                                                                                                                                                                                                                                                                                                                                                                                                                                                                                                                                                                                                                                                                                                                                                                                                                                                                                                                                                                                                                                                                                                                                                                                                                                                                                                                                                                                                                                                                                                                                                                                                                                                                                                                                                                                                                                                                                                                                                                                                                                                                                                                                                                                                                                                                                                                                                                                                                                                                                                                                                                                                                                                                                                                                                                                                                                                                                                                                                                                                                                                                                                                                                                                                                                                                                                                                                                                                                                                                                                                                                                                                                                                                                                                                                                                                                                                                                                                                                                                                                                                                                                                                                                                                                                                                                                                                                                                                                                                                                                                                                                                                                                                                                                                                                                                                                                                                                                                                                                                                                                                                                                                                                                                                                                                                                                                                                                                                                                                                                                                                                                                                                                                                                                                                                                                                                                                                                                                                                                                                                                                                                                                                                                                                                                                                                                                                                                                                                                                                                                                                                                                                                                                                                                                                                                                                                                                                                                                                                                                                                                                                                                                                                                                                                                                                                                                                                                                                                                                                                                                                                                                                                                                                                                                                                                                                                                                                                                                                                                                                                                                                                                                                                                                                                                                                                                                                                                                                                                                                                                                                                                                                                                                                                                                                                                                                                                                                                                                                                                                                                                                                                                                                                                                                                                                                                                                                                                                                                                                                                                                                                                                                                                                                                                                                                                                                                                                                                                                                                                                                                                                                                                                                                                                                                                                                                                                                                                                                                                                                                                                                                                                                                                                                                                                                                                                                                                                                                                                                                                                                                                                                                                                                                                                                                                                                                                                                                                                                                                                                                                                                                                                                                                                                                                                                                                                                                                                                                                                                                                                                                                                                                                                                                                                                                                                                                                                                                                                                                                                                                                                                                                                                                                                                                                                                                                                                                                                                                                                                                                                                                                                                                                                                                                                                                                                                                                                                                                                                                                                                                                                                                                                                                                                                                                                                                                                                                                                                                                                                                                                                                                                                                                                                                                                                                                                                                                                                                                                                                                                                                                                                                                                                                                                                                                                                                                                                                                                                                                                                                                                                                                                                                                                                                                                                                                                                                                                                                                                                                                                                                                                                                                                                                                                                                                                                                                                                                                                                                                                                                                                                                                                                                                                                                                                                                                                                                                                                                                                                                                                                                                                                                                                                                                                                                                                                                                                                                                                                                                                                                                                                                                                                                                                                                                                                                                                                                                                                                                                                                                                                                                                                                                                                                                                                                                                                                                                                                                                                                                                                                                                                                                                                                                                                                                                                                                                                                                                                                                                                                                                                                                                                                                                                                                                                                                                                                                                                                                                                                                                                                                                                                                                                                                                                                                                                                                                                                                                                                                                                                                                                                                                                                                                                                                                                                                                                                                                                                                                                                                                                                       main_html_v5  \\\n",
       "0   Russian Offensive Campaign Assessment, April 25, Kateryna Stepanenko, Grace Mappes, Nicole Wolkov, and Frederick W. KaganApril 25, 7pm ETClickSenior US and EU officials assess that Russian President Vladimir Putin would remain unwilling to negotiate in response to a successful Ukrainian counteroffensive.TheNew York Times(NYT) reported on April 24 that a senior European official stated that the chances of Putin “backing down” in response to a successful Ukrainian counteroffensive are “less than zero.”The official stated that Putin would likely mobilize more soldiers to fight in Ukraine. US Assistant Secretary of Defense for International Security Affairs Celeste Wallander said that there is “very little evidence” to suggest that Putin would alter his strategic goal of subjugating Ukraine “politically, if not fully militarily.” US National Security Council Spokesperson John Kirby toldVoice of Americaon April 25 that the US is increasing security assistance to Ukraine because the US expects that Russia will attempt to go on the offensive as the weather improves.A Ukrainian military official claimed on April 25 that Ukrainian forces are achieving “impressive results” in counter-battery combat against Russian forces on the Russian-occupied eastern (left) bank of the Dnipro River.Spokesperson for the Ukrainian Southern Operational Forces Nataliya Humenyuk stated that Ukrainian forces hit and destroyed Russian artillery systems, tanks, armored vehicles, and air defense systems. Humenyuk added that Ukrainian forces are working to clear the frontline on the east bank in a “counter-battery mode.” Humenyuk added that Russian forces are evacuating civilians from the Dnipro River bank area to move in Russian units, which is simplifying Ukrainian operations.Wagner Group financier Yevgeny Prigozhin denied ISW’s April 22 assessment about limited improvements in Wagner’s relations with the Russian military command ahead of the planned Ukrainian counteroffensive.ISW previously assessed that the Russian military command may have partially repaired its strained relationship with Prigozhin to persuade Russian President Vladimir Putin to halt offensive operations ahead of the planned Ukrainian counteroffensive.ISW had also observed a dramatic change in the nature of Prigozhin’s public interactions with the Russian Ministry of Defense (MoD) and the Kremlin as early as beginning of April.Prigozhin stated that ISW’s assessment is a “fake,” noting that he would not “exchange ammunition for [his] guys even for friendship with God.”Prigozhin’s continued instance on his distaste for the Russian military leadership contradicts the change in Prigozhin’s rhetoric as well as the sudden influx of artillery ammunition after months of reported shell hunger in Bakhmut.Russian independent outletMozhem Obyasnit(We Can Explain) also reported that Prigozhin’s companies earned a record amount of income in  from their contracts with the Russian MoD despite his feud with Russian Defense Minister Sergey Shoigu.Prigozhin has repeatedly acknowledged cooperation with troops subordinated to the Russian MoD and is receiving mobilized personnel to reinforce his flanks. Kremlin Spokesperson Dmitry Peskov confirmed that his eldest son fought in the war with Wagner, which ISW assessed to be an information operation to mend the relationship and possibly increase or demonstrate Prigozhin’s loyalty to the Kremlin.All these factors indicate that Prigozhin – despite his claimed independence and pride – needs to retain the favor and support of the Kremlin and the Russian MoD to sustain his operations.Russian ultranationalists are continuing to advocate for the Kremlin to adopt Stalinist repression measures.Russian State Duma Parliamentarian Andrey Gurulyov – a prominent Russian ultranationalist figure within the ruling United Russia Party – stated that Russia needs to reintroduce the concept of the “enemy of the people.”This concept designated all the late Soviet leader Joseph Stalin’s opposition figures as the enemies of society. Gurulyov frequently shares extreme opinions on Russian state television but the rhetoric among the ultranationalists is increasingly emphasizing the need for the targeting and elimination of Russia’s internal enemies. Former Russian officer Igor Girkin and Wagner Group financier Yevgeny Prigozhin often echo similar calls to prosecute Russian officials who are hoping to end the war via negotiations with the West. Such attitudes indicate that the ultranationalist communities are expecting Russian President Vladimir Putin to expand repression and fully commit to the war.The Kremlin continues to avoid adopting overtly repressive measures likely out of concern for the stability of Putin’s regime.The Russian government withdrew a bill from the Russian State Duma that would have increased taxes from 13 to 30 percent for Russians who have fled the country.Russian ultranationalists have repeatedly called on the Kremlin to nationalize property belonging to Russians who had “betrayed” the country by fleeing, but the Kremlin appears to remain hesitant to introduce such unpopular measures. Unnamed sources told Russian independent outletVerskathat the Russian presidential administration does not support the return of capital punishments in Russia – another issue that recently reemerged in Russian policy discussions.The Kremlin could use the threat of the death penalty to scare Russians into supporting the war effort (or remaining passively resistant to it), but Putin likely remains hesitant to destroy his image as a diplomatic and tolerant tsar. ISW previously assessed that Putin relies on controlling the information space to safeguard his regime much more than the kind of massive oppression apparatus of the Soviet Union and that Putin has never rebuilt an internal repression apparatus equivalent to the KGB, Interior Ministry forces, and the Red Army.Russian civil rights groups OVD-Info, Memorial, and Rus Sidyashchaya (Russia Behind Bars) issued a legal challenge to the Russian censorship law against discrediting the Russian military on April 25.OVD-Info announced that its lawyers filed 10 of 20 planned complaints against the law to the Russian Constitutional Court in hopes that the court will rule the law unconstitutional.The complaints centered around individual cases of alleged discreditation, including one case wherein authorities fined a man 50,000 rubles (about $612) for holding a sign calling for peace.A fringe group of at least 20, mostly smaller, pro-war Russian milbloggers amplified a call for the Russian government to repeal the censorship laws on April 11 following the prosecution of a Russian medic for telling battlefield truths.OVD-Info and other human rights organizations are most likely to face prosecution under Russian censorship laws. The Russian government is unlikely to repeal or strike down these laws without direction from the Kremlin, but challenges like OVD-Info's demonstrate continued resistance to domestic censorship and repression. Key TakeawaysSenior US and EU officials assess that Russian President Vladimir Putin would remain unwilling to negotiate in response to a successful Ukrainian counteroffensive.A Ukrainian military official claimed on April 25 that Ukrainian forces are achieving “impressive results” in counter-battery combat against Russian forces on the Russian-occupied eastern (left) bank of the Dnipro River.Wagner Group financier Yevgeny Prigozhin denied ISW’s April 22 assessment about limited improvements in Wagner’s relations with the Russian military command ahead of the planned Ukrainian counteroffensive.Russian ultranationalists continue to advocate for the Kremlin to adopt Stalinist repression measures.The Kremlin continues to avoid adopting overtly repressive measures likely out of concern for the stability of Putin’s regime.Russian civil rights groups OVD-Info, Memorial, and Rus Sidyashchaya (Russia Behind Bars) issued a legal challenge to the Russian censorship law against discrediting the Russian military on April 25.Russian sources claimed that Russian forces conducted limited ground attacks on the Svatove-Kremmina line.Russian forces continued to conduct ground attacks in and around Bakhmut and along the Avdiivka-Donetsk City frontline.Russian milbloggers continued to issue vehement denials that Ukrainian forces established sustained positions on east (left) bank Kherson Oblast.The Russian Ministry of Defense (MoD) is attempting to financially incentivize Russian prisoners to fight in Ukraine, offering them compensation equivalent to that of Russian volunteers.The Ukrainian Resistance Center reported that Ukrainian partisans detonated a Russian military checkpoint near Oleshky.Russian Main Effort – Eastern UkraineRussian Subordinate Main Effort #1 – Luhansk Oblast(Russian objective: Capture the remainder of Luhansk Oblast and push westward into eastern Kharkiv Oblast and northern Donetsk Oblast)Russian sources claimed that Russian forces conducted limited ground attacks on the Svatove-Kreminna line on April 25. Russian milbloggers claimed on April 24 that Russian forces advanced toward Nevske (17km northwest of Kreminna), Makiivka (22km northwest of Kreminna) and east of Spirne (25km south of Kreminna).The Ukrainian General Staff reported that Russian forces continue to fortify positions in the Kupyansk direction and did not conduct ground attacks in the Lyman direction.Geolocated footage published on April 25 indicates that Russian forces likely captured Karmazynivka (13km southwest of Svatove) on an unspecified date.Ukrainian Eastern Group of Forces Commander Colonel General Oleksandr Syrskyi reported on April 25 that Russian forces are attempting to push Ukrainians forces out of their positions in the Serebrianska forest area (11km south of Kreminna) in order to set conditions for further attacks in the Lyman direction.Syrskyi also reported that Russian forces in eastern Ukraine formed “Storm” infantry units from each brigade or regiment reinforced with tanks, thermobaric artillery, and mortars and anti-tank units.Russian Subordinate Main Effort #2 – Donetsk Oblast(Russian Objective: Capture the entirety of Donetsk Oblast, the claimed territory of Russia’s proxies in Donbas)Russian forces continued to conduct ground attacks in and around Bakhmut on April 24. Geolocated footage posted on April 24 shows that Wagner Group forces made marginal advances southwest of the Bakhmut-2 rail station in western Bakhmut.Russian milbloggers claimed that Wagner forces advanced in southern and western Bakhmut, where the fighting is heaviest.Some milbloggers claimed that Wagner forces advanced further west from the Bakhmut-2 rail station.One milblogger claimed that fighting is intensifying northwest of Bakhmut near Orikhovo-Vasylivka (11km northwest) and Novomarkove (12km northwest).The Ukrainian General Staff reported continued fighting in Bakhmut, and that Ukrainian forces repelled Russian ground attacks near Bohdanivka (5km northwest of Bakhmut), Novomarkove, Khromove (immediately northwest of Bakhmut) and Klishchiivka (5km south of Bakhmut).Ukrainian Eastern Group of Forces Spokesperson Colonel Serhiy Cherevaty stated that Wagner Group forces can no longer conduct combat operations without support from Russian Airborne (VDV) and special purposes units, which Cherevaty characterized as becoming increasingly active in the Bakhmut area.Ukrainian forces conducted a localized counterattack northwest of Bakhmut, likely to alleviate pressure against the logistics line passing through Khromove. Geolocated footage posted on April 25 shows Ukrainian forces overtaking Russian positions north of the O0504 Khromove-Chasiv Yar highway.A Russian milblogger claimed that the Ukrainian counterattack was unsuccessful, however.Russian forces continued to conduct ground attacks along the Avdiivka-Donetsk City line on April 25. Geolocated footage from the Donetsk People’s Republic (DNR) People’s Militia on April 21 shows that Russian forces advanced east towards Nevelske (14km southwest of Avdiivka).The Ukrainian General Staff reported that Ukrainian forces repelled Russian ground attacks near Novokalynove (9km north of Avdiivka), Stepove (3km northwest of Avdiivka), Sieverne (6km west of Avdiivka, Pervomaiske (11km southwest of Avdiivka), Marinka (immediately west of Donetsk City), and Novomykhailivka (10km southwest of Donetsk City).A Russian milblogger’s battle map claimed that Russian forces advanced west of Kamianka (4km north of Avdiivka) and south of Vesele (5km north of Avdiivka) as of April 25.Geolocated footage from the DNR People’s Militia shows the DNR 1st Slavic and 110th Motorized Rifle brigades (1st Army Corps) operating south of Sieverne and near Nevelske, respectively.Russian forces did not conduct any confirmed or claimed ground attacks in western Donetsk Oblast on April 25.Ukrainian Tavriisk Direction Defense Forces Spokesperson Colonel Oleksiy Dmytrashkivskyi stated that the Russian 155th Naval Infantry Brigade (Pacific Fleet) reappeared in the Vuhledar area, implying that the brigade left the front line on an unspecified date to rest and reconstitute.Dmytrashkivskyi assessed that the 155th is likely not at full combat strength.Russian Supporting Effort – Southern Axis(Russian objective: Maintain frontline positions and secure rear areas against Ukrainian strikes)Russian milbloggers continued to issue vehement denials on April 25 that Ukrainian forces established sustained positions on east (left) bank Kherson Oblast. The milbloggers amplified textual reports and video claims from Russian military personnel claiming that Ukrainian forces are not on east bank Kherson Oblast and that the situation is under control.One such video features personnel from the Union of Donbas Volunteers, which is affiliated with Crimean occupation head Sergey Aksyonov.One milblogger claimed that Ukrainian forces seized many of the Dnipro River delta islands, however.Russian milbloggers also seized the chance to amplify claimed Russian military successes, including that Russian forces shot down a Ukrainian Su-25 that had supported Ukrainian raids across the Dnipro River.The milbloggers also claimed that Russian air strikes, particularly with modified guided FAB-500 bombs, improved Russian forces’ ability to repel Ukrainian forces from east bank Kherson Oblast.A Russian occupation official claimed that Ukrainian forces are operating a Hrim-2 short-range ballistic missile system in Zaporizhia Oblast. Zaporizhia Oblast occupation official Vladimir Rogov claimed on April 25 that Ukrainian forces deployed a new Hrim-2 missile system to Zaporizhzhia City.The Hrim-2 reportedly has a maximum range of 400-500 kilometers.A Russian milblogger claimed that Ukrainian forces targeted the Kerch Strait Bridge with a Hrim-2 missile on April 22.Russian Mobilization and Force Generation Efforts(Russian objective: Expand combat power without conducting general mobilization)The Russian Ministry of Defense (MoD) is attempting to financially incentivize Russian prisoners to fight in Ukraine by offering them compensation equivalent to that of Russian volunteers. Perm Oblast human rights activist Oksana Asaulenko reported that the Russian MoD representatives visited a prison in Gubakha, Perm Oblast, and offered prisoners the option to serve in Ukraine for a six-month term.The Russian MoD reportedly offered prisoners a monthly salary of 205,000 rubles (about $2,510). The Russian MoD is also reportedly offering prisoners compensation of three million rubles (about $36,720) if they are injured or five million rubles (about $61,200) to prisoners’ families if they are killed on the battlefield. Wagner Group servicemen revealed to a Russian opposition outlet that many Wagner convicts died within the first three weeks on the frontline and that it is unclear if their families ever received compensation for their deaths.The MoD’s efforts to financially incentivize prisoner recruitment indicates that the Russian MoD cannot lure prisoners to war solely with pardon promises. ISW previously reported that pay discrepancies among Russian volunteers and mobilized servicemen have sparked conflicts, and payments to convicts serving on the frontlines may further aggravate the tensions among the members of Russian conventional and irregular forces.A Wagner Group convict told theNew York Timesthat Wagner recruited prisoners by offering them HIV treatments. An HIV-positive Wagner mercenary revealed to theNew York Timesthat Russian prisons treat HIV-positive prisoners with ineffective drugs, which prompted him to sign up for military service with Wagner in December .The convict claimed that Wagner promised him a pardon and effective HIV treatments and claimed that quick death on the battlefield was more appealing than a slow death in prison. He added that he did not have prior military experience and witnessed most of his unit die during an attack near Bakhmut. Head of the independent Russian human rights organization “Rus Sidyashchaya” (Russia Behind Bars) Olga Romanova claimed that approximately 10 percent of all Russian prisoners have HIV – and that Russian recruitment officials likely use the promise of medical treatment as a recruitment incentive.Russian federal subjects, private military companies (PMCs), and proxy military formations are continuing to advertise contract service and form new military units. Bashkortostan Administration official Maxim Zabelin announced that the republic formed a new medical company that will support regional volunteer battalions.The company is currently training in Patriot Park in Kubinka, Moscow Oblast before deploying to Ukraine. A Russian milblogger amplified a series of recruitment ads including: Wagner recruiting men for a six-month contract in Ukraine or a 9 to 14-month service in Africa; Moscow City recruitment of contract servicemen; and the 60th “Veterany” Separate Air Assault Brigade recruiting volunteers to fill its fourth volunteer battalion.The Republic of Tatarstan is allocating approximately 18 million rubles (about $220,300) to organize military-patriotic camps to train children ages 11 to 16 on basic military and survival skills.The UK Ministry of Defense (MoD) assessed that Russian daily casualty rates decreased by over 30 percent in April after Russian forces suffered heavy casualties between January and March.The UK MoD analyzed casualty rates from Ukrainian General Staff’s calculations, which ISW cannot independently confirm. The UK MoD assessed that Russian forces are preparing for Ukrainian counteroffensives, which is likely leading to fewer casualties.Activities in Russian-occupied areas(Russian objective: Consolidate administrative control of annexed areas; forcibly integrate Ukrainian civilians into Russian sociocultural, economic, military, and governance systems)The Ukrainian Resistance Center reported on April 24 that Ukrainian partisans targeted a Russian military checkpoint in an improvised explosive device (IED) attack near Oleshky, Kherson Oblast. The center reported that partisans from the Atesh movement blew up a Russian military checkpoint located near military infrastructure, killing an unspecified number of Rosgvardia servicemen and destroying military equipment on the evening of April 23.The Kremlin continues to integrate Russian-occupied regions of Ukraine into the Russian healthcare system. Russian Heath Minster Mikhail Murashko claimed that Russian authorities are restoring 172 healthcare facilities in occupied Ukraine – 80 of which are already operating – and that Russian doctors will complete performing “preventative examinations” of children in Russian occupied Ukraine in the coming weeks.Russian Prime Minister Mikhail Mishustin claimed that that Russian doctors have already examined over 200,000 children.ISW has previously reported on Russian efforts to integrate occupied regions of Ukraine through health care initiatives.Russian forces continue to use children’s facilities for military purposes. The Ukrainian General Staff reported on April 25 that Russian forces continue to establish military facilities in educational facilities turning children and teachers into “human shields.”The Ukrainian General staff reported that up to 200 Russian mobilized personnel occupy a children’s camp in Urzuf in Mariupol Raion.Significant activity in Belarus(ISW assesses that a Russian or Belarusian attack into northern Ukraine in early  is extraordinarily unlikely and has thus restructured this section of the update. It will no longer include counter-indicators for such an offensive.)ISW will continue to report daily observed Russian and Belarusian military activity in Belarus, but these are not indicators that Russian and Belarusian forces are preparing for an imminent attack on Ukraine from Belarus. ISW will revise this text and its assessment if it observes any unambiguous indicators that Russia or Belarus is preparing to attack northern Ukraine.Russian forces maintain a presence along Ukraine’s northern border in Belarus and Russia. Ukrainian Commander of the Joint Forces Lieutenant General Serhiy Nayev stated on April 25 that 17,000 Russian forces divided into two formations are deployed along the southern border of Belarus and along the border in Bryansk and Kursk oblasts.Nayev reported that about 2,800 Russian forces are at unspecified training grounds in Belarus.Note: ISW does not receive any classified material from any source, uses only publicly available information, and draws extensively on Russian, Ukrainian, and Western reporting and social media as well as commercially available satellite imagery and other geospatial data as the basis for these reports. References to all sources used are provided in the endnotes of each update.   \n",
       "\n",
       "                                                                                                                                                                                                                                                                                                                                                                                                                                                                                                                                                                                                                                                                                                                                                                                                                                                                                                                                                                                                                                                                                                                                                                                                                                                                                                                                                                                                                                                                                                                                                                                                                                                                                                                                                                                                                                                                                                                                                                                                                                                                                                                                                                                                                                                                                                                                                                                                                                                                                                                                                                                                                                                                                                                                                                                                                                                                                                                                                                                                                                                                                                                                                                                                                                                                                                                                                                                                                                                                                                                                                                                                                                                                                                                                                                                                                                                                                                                                                                                                                                                                                                                                                                                                                                                                                                                                                                                                                                                                                                                                                                                                                                                                                                                                                                                                                                                                                                                                                                                                                                                                                                                                                                                                                                                                                                                                                                                                                                                                                                                                                                                                                                                                                                                                                                                                                                                                                                                                                                                                                                                                                                                                                                                                                                                                                                                                                                                                                                                                                                                                                                                                                                                                                                                                                                                                                                                                                                                                                                                                                                                                                                                                                                                                                                                                                                                                                                                                                                                                                                                                                                                                                                                                                                                                                                                                                                                                                                                                                                                                                                                                                                                                                                                                                                                                                                                                                                                                                                                                                                                                                                                                                                                                                                                                                                                                                                                                                                                                                                                                                                                                                                                                                                                                                                                                                                                                                                                                                                                                                                                                                                                                                                                                                                                                                                                                                                                                                                                                                                                                                                                                                                                                                                                                                                                                                                                                                                                                                                                                                                                                                                                                                                                                                                                                                                                                                                                                                                                                                                                                                                                                                                                                                                                                                                                                                                                                                                                                                                                                                                                                                                                                                                                                                                                                                                                                                                                                                                                                                                                                                                                                                                                                                                                                                                                                                                                                                                                                                                                                                                                                                                                                                                                                                                                                                                                                                                                                                                                                                                                                                                                                                                                                                                                                                                                                                                                                                                                                                                                                                                                                                                                                                                                                                                                                                                                                                                                                                                                                                                                                                                                                                                                                                                                                                                                                                                                                                                                                                                                                                                                                                                                                                                                                                                                                                                                                                                                                                                                                                                                                                                                                                                                                                                                                                                                                                                                                                                                                                                                                                                                                                                                                                                                                                                                                                                                                                                                                                                                                                                                                                                                                                                                                                                                                                                                                                                                                                                                                                                                                                                                                                                                                                                                                                                                                      report_text_lemm  \\\n",
       "0   russian offens campaign ass april twenty five kateryna stepanenko grace mapp nicol wolkov frederick kaganapril twenty five 7pm etclicksenior eu offici ass russian presid vladimir putin would remain unwil negoti respons success ukrainian counteroffensive thenew york time nyt report april twenty four senior european offici state chanc putin back respons success ukrainian counteroffens le zero offici state putin would like mobil soldier fight ukrain assist secretari defens intern secur affair celest walland said littl evid suggest putin would alter strateg goal subjug ukrain polit not fulli militarili nation secur council spokesperson john kirbi toldvoic americaon april twenty five increas secur assist ukrain expect russia attempt go offens weather improves ukrainian militari offici claim april twenty five ukrainian forc achiev impress result counter batteri combat russian forc russian occupi eastern left bank dnipro river spokesperson ukrainian southern oper forc nataliya humenyuk state ukrainian forc hit destroy russian artilleri system tank armor vehicl air defens system humenyuk ad ukrainian forc work clear frontlin east bank counter batteri mode humenyuk ad russian forc evacu civilian dnipro river bank area move russian unit simplifi ukrainian operation wagn group financi yevgeni prigozhin deni isw april twenty two ass limit improv wagner relat russian militari command ahead plan ukrainian counteroffensive isw previous ass russian militari command may partial repair strain relationship prigozhin persuad russian presid vladimir putin halt offens oper ahead plan ukrainian counteroffensive isw also observ dramat chang natur prigozhin public interact russian ministri defens mod kremlin earli begin april prigozhin state isw ass fake note would not exchang ammunit guy even friendship god prigozhin continu instanc distast russian militari leadership contradict chang prigozhin rhetor well sudden influx artilleri ammunit month report shell hunger bakhmut russian independ outletmozhem obyasnit explain also report prigozhin compani earn record amount incom contract russian mod despit feud russian defens minist sergey shoigu prigozhin repeatedli acknowledg cooper troop subordin russian mod receiv mobil personnel reinforc flank kremlin spokesperson dmitri peskov confirm eldest son fought war wagner isw ass inform oper mend relationship possibl increas demonstr prigozhin loyalti kremlin al factor indic prigozhin despit claim independ pride need retain favor support kremlin russian mod sustain operation russian ultranationalist continu advoc kremlin adopt stalinist repress measure russian state duma parliamentarian andrey gurulyov promin russian ultranationalist figur within rule unit russia parti state russia need reintroduc concept enemi peopl concept design late soviet leader joseph stalin opposit figur enemi societi gurulyov frequent share extrem opinion russian state televis rhetor among ultranationalist increasingli emphas need target elimin russia intern enemi former russian offic igor girkin wagner group financi yevgeni prigozhin often echo similar call prosecut russian offici hope end war via negoti west attitud indic ultranationalist commun expect russian presid vladimir putin expand repress fulli commit war th kremlin continu avoid adopt overtli repress measur like concern stabil putin regime th russian govern withdrew bill russian state duma would increas tax thirteen thirty percent russian fled country russian ultranationalist repeatedli call kremlin nation properti belong russian betray countri flee kremlin appear remain hesit introduc unpopular measur unnam sourc told russian independ outletverskathat russian presidenti administr not support return capit punish russia anoth issu recent reemerg russian polici discussion th kremlin could use threat death penalti scare russian support war effort remain passiv resist putin like remain hesit destroy imag diplomat toler tsar isw previous ass putin reli control inform space safeguard regim much kind massiv oppress apparatu soviet union putin never rebuilt intern repress apparatu equival kgb interior ministri forc red army russian civil right group ovd info memori ru sidyashchaya russia behind bar issu legal challeng russian censorship law discredit russian militari april twenty five ovd info announc lawyer file ten twenty plan complaint law russian constitut court hope court rule law unconstitutional th complaint center around individu case alleg discredit includ one case wherein author fine man fifty zero rubl six hundred twelve hold sign call peace fring group least twenty mostli smaller pro war russian milblogg amplifi call russian govern repeal censorship law april eleven follow prosecut russian medic tell battlefield truth ovd info human right organ like face prosecut russian censorship law russian govern unlik repeal strike law without direct kremlin challeng like ovd info demonstr continu resist domest censorship repress key takeawayssenior eu offici ass russian presid vladimir putin would remain unwil negoti respons success ukrainian counteroffensive ukrainian militari offici claim april twenty five ukrainian forc achiev impress result counter batteri combat russian forc russian occupi eastern left bank dnipro river wagn group financi yevgeni prigozhin deni isw april twenty two ass limit improv wagner relat russian militari command ahead plan ukrainian counteroffensive russian ultranationalist continu advoc kremlin adopt stalinist repress measure th kremlin continu avoid adopt overtli repress measur like concern stabil putin regime russian civil right group ovd info memori ru sidyashchaya russia behind bar issu legal challeng russian censorship law discredit russian militari april twenty five russian sourc claim russian forc conduct limit ground attack svatove kremmina line russian forc continu conduct ground attack around bakhmut along avdiivka donetsk citi frontline russian milblogg continu issu vehement denial ukrainian forc establish sustain posit east left bank kherson oblast th russian ministri defens mod attempt financi incentiv russian prison fight ukrain offer compens equival russian volunteer th ukrainian resist center report ukrainian partisan deton russian militari checkpoint near oleshky russian main effort eastern ukrainerussian subordin main effort luhansk oblast russian object captur remaind luhansk oblast push westward eastern kharkiv oblast northern donetsk oblast russian sourc claim russian forc conduct limit ground attack svatove kreminna line april twenty five russian milblogg claim april twenty four russian forc advanc toward nevsk 17km northwest kreminna makiivka 22km northwest kreminna east spirn 25km south kreminna ukrainian gener staff report russian forc continu fortifi posit kupyansk direct not conduct ground attack lyman direction geoloc footag publish april twenty five indic russian forc like captur karmazynivka 13km southwest svatov unspecifi date ukrainian eastern group forc command colonel gener oleksandr syrskyi report april twenty five russian forc attempt push ukrainian forc posit serebrianska forest area 11km south kreminna order set condit attack lyman direction syrskyi also report russian forc eastern ukrain form storm infantri unit brigad regiment reinforc tank thermobar artilleri mortar anti tank unit russian subordin main effort donetsk oblast russian object captur entireti donetsk oblast claim territori russia proxi donba russian forc continu conduct ground attack around bakhmut april twenty four geoloc footag post april twenty four show wagner group forc made margin advanc southwest bakhmut two rail station western bakhmut russian milblogg claim wagner forc advanc southern western bakhmut fight heaviest som milblogg claim wagner forc advanc west bakhmut two rail station milblogg claim fight intensifi northwest bakhmut near orikhovo vasylivka 11km northwest novomarkov 12km northwest ukrainian gener staff report continu fight bakhmut ukrainian forc repel russian ground attack near bohdanivka 5km northwest bakhmut novomarkov khromov immedi northwest bakhmut klishchiivka 5km south bakhmut ukrainian eastern group forc spokesperson colonel serhiy cherevati state wagner group forc no longer conduct combat oper without support russian airborn vdv special purpos unit cherevati character becom increasingli activ bakhmut area ukrainian forc conduct local counterattack northwest bakhmut like allevi pressur logist line pas khromov geoloc footag post april twenty five show ukrainian forc overtak russian posit north o0504 khromove chasiv yar highway russian milblogg claim ukrainian counterattack unsuccess however russian forc continu conduct ground attack along avdiivka donetsk citi line april twenty five geoloc footag donetsk peopl republ dnr peopl militia april twenty one show russian forc advanc east toward nevelsk 14km southwest avdiivka ukrainian gener staff report ukrainian forc repel russian ground attack near novokalynov 9km north avdiivka stepov 3km northwest avdiivka sievern 6km west avdiivka pervomaisk 11km southwest avdiivka marinka immedi west donetsk citi novomykhailivka 10km southwest donetsk citi russian milblogg battl map claim russian forc advanc west kamianka 4km north avdiivka south vesel 5km north avdiivka april twenty five geoloc footag dnr peopl militia show dnr 1st slavic 110th motor rifl brigad 1st armi corp oper south sievern near nevelsk respectively russian forc not conduct confirm claim ground attack western donetsk oblast april twenty five ukrainian tavriisk direct defens forc spokesperson colonel oleksiy dmytrashkivskyi state russian 155th naval infantri brigad pacif fleet reappear vuhledar area impli brigad left front line unspecifi date rest reconstitute dmytrashkivskyi ass 155th like not full combat strength russian support effort southern axi russian object maintain frontlin posit secur rear area ukrainian strike russian milblogg continu issu vehement denial april twenty five ukrainian forc establish sustain posit east left bank kherson oblast milblogg amplifi textual report video claim russian militari personnel claim ukrainian forc not east bank kherson oblast situat control video featur personnel union donba volunt affili crimean occup head sergey aksyonov milblogg claim ukrainian forc seiz mani dnipro river delta island however russian milblogg also seiz chanc amplifi claim russian militari success includ russian forc shot ukrainian su twenty five support ukrainian raid across dnipro river th milblogg also claim russian air strike particularli modifi guid fab five hundred bomb improv russian forc abil repel ukrainian forc east bank kherson oblast russian occup offici claim ukrainian forc oper hrim two short rang ballist missil system zaporizhia oblast zaporizhia oblast occup offici vladimir rogov claim april twenty five ukrainian forc deploy new hrim two missil system zaporizhzhia city th hrim two reportedli maximum rang four hundred five hundred kilometer russian milblogg claim ukrainian forc target kerch strait bridg hrim two missil april twenty two russian mobil forc gener effort russian object expand combat power without conduct gener mobil russian ministri defens mod attempt financi incentiv russian prison fight ukrain offer compens equival russian volunt perm oblast human right activist oksana asaulenko report russian mod repres visit prison gubakha perm oblast offer prison option serv ukrain six month term th russian mod reportedli offer prison monthli salari two hundred five zero rubl two five hundred ten russian mod also reportedli offer prison compens three million rubl thirty six seven hundred twenty injur five million rubl sixty one two hundred prison famili kill battlefield wagner group serviceman reveal russian opposit outlet mani wagner convict die within first three week frontlin unclear famili ever receiv compens death th mod effort financi incentiv prison recruit indic russian mod not lure prison war sole pardon promis isw previous report pay discrep among russian volunt mobil serviceman spark conflict payment convict serv frontlin may aggrav tension among member russian convent irregular force wagner group convict told thenew york timesthat wagner recruit prison offer hiv treatment hiv posit wagner mercenari reveal thenew york timesthat russian prison treat hiv posit prison ineffect drug prompt sign militari servic wagner decemb convict claim wagner promis pardon effect hiv treatment claim quick death battlefield appeal slow death prison ad not prior militari experi wit unit die attack near bakhmut head independ russian human right organ ru sidyashchaya russia behind bar olga romanova claim approxim ten percent russian prison hiv russian recruit offici like use promis medic treatment recruit incentive russian feder subject privat militari compani pmc proxi militari format continu advertis contract servic form new militari unit bashkortostan administr offici maxim zabelin announc republ form new medic compani support region volunt battalion th compani current train patriot park kubinka moscow oblast deploy ukrain russian milblogg amplifi seri recruit ad includ wagner recruit men six month contract ukrain fourteen month servic africa moscow citi recruit contract serviceman 60th veterani separ air assault brigad recruit volunt fill fourth volunt battalion th republ tatarstan alloc approxim eighteen million rubl two hundred twenty three hundred organ military patriot camp train child age eleven sixteen basic militari surviv skill th uk ministri defens mod ass russian daili casualti rate decreas thirty percent april russian forc suffer heavi casualti januari march th uk mod analyz casualti rate ukrainian gener staff calcul isw not independ confirm uk mod ass russian forc prepar ukrainian counteroffens like lead fewer casualty act russian occupi area russian object consolid administr control annex area forcibl integr ukrainian civilian russian sociocultur econom militari govern system ukrainian resist center report april twenty four ukrainian partisan target russian militari checkpoint improvis explos devic attack near oleshki kherson oblast center report partisan atesh movement blew russian militari checkpoint locat near militari infrastructur kill unspecifi number rosgvardia serviceman destroy militari equip even april twenty three kremlin continu integr russian occupi region ukrain russian healthcar system russian heath minster mikhail murashko claim russian author restor one hundred seventy two healthcar facil occupi ukrain eighty alreadi oper russian doctor complet perform prevent examin child russian occupi ukrain come week russian prime minist mikhail mishustin claim russian doctor alreadi examin two hundred zero child isw previous report russian effort integr occupi region ukrain health care initiative russian forc continu use child facil militari purpos ukrainian gener staff report april twenty five russian forc continu establish militari facil educ facil turn child teacher human shield ukrainian gener staff report two hundred russian mobil personnel occupi child camp urzuf mariupol raion signific activ belaru isw ass russian belarusian attack northern ukrain earli extraordinarili unlik thu restructur section updat no longer includ counter ind offens isw continu report daili observ russian belarusian militari activ belaru not indic russian belarusian forc prepar immin attack ukrain belaru isw revis text ass observ unambigu indic russia belaru prepar attack northern ukraine russian forc maintain presenc along ukrain northern border belaru russia ukrainian command joint forc lieuten gener serhiy nayev state april twenty five seventeen zero russian forc divid two format deploy along southern border belaru along border bryansk kursk oblasts nayev report two eight hundred russian forc unspecifi train ground belarus not isw not receiv classifi materi sourc use publicli avail inform draw extens russian ukrainian western report social medium well commerci avail satellit imageri geospati data basi report refer sourc use provid endnot updat   \n",
       "\n",
       "                                                                                                                                                                                                                                                                                                                                                                                                                                                                                                                                                                                                                                                                                                                                                                                                                                                                                                                                                                                                                                                                                                                                                                                                                                                                                                                                                                                                                                                                                                                                                                                                                                                                                                                                                                                                                                                                                                                                                                                                                                                                                                                                                                                                                                                                                                                                                                                                                                                                                                                                                                                                                                                                                                                                                                                                                                                                                                                                                                                                                                                                                                                                                                                                                                                                                                                                                                                                                                                                                                                                                                                                                                                                                                                                                                                                                                                                                                                                                                                                                                                                                                                                                                                                                                                                                                                                                                                                                                                                                                                                                                                                                                                                                                                                                                                                                                                                                                                                                                                                                                                                                                                                                                                                                                                                                                                                                                                                                                                                                                                                                                                                                                                                                                                                                                                                                                                                                                                                                                                                                                                                                                                                                                                                                                                                                                                                                                                                                                                                                                                                                                                                                                                                                                                                                                                                                                                                                                                                                                                                                                                                                                                                                                                                                                                                                                                                                                                                                                                                                                                                                                                                                                                                                                                                                                                                                                                                                                                                                                                                                                                                                                                                                                                                                                                                                                                                                                                                                                                                                                                                                                                                                                                                                                                                                                                                                                                                                                                                                                                                                                                                                                                                                                                                                                                                                                                                                                                                                                                                                                                                                                                                                                                                                                                                                                                                                                                                                                                                                                                                                                                                                                                                                                                                                                                                                                                                                                                                                                                                                                                                                                                                                                                                                                                                                                                                                                                                                                                                                                                                                                                                                                                                                                                                                                                                                                                                                                                                                                                                                                                                                                                                                                                                                                                                                                                                                                                                                                                                                                                                                                                                                                                                                                                                                                                                                                                                                                                                                                                                                                                                                                                                                                                                                                                                                                                                                                                                                                                                                                                                                                                                                                                                                                                                                                                                                                                                                                                                                                                                                                                                                                                                                                                                                                                                                                                                                                                                                                                                                                                                                                                                                                                                                                                                                                                                                                                                                                                                                                                                                                                                                                                                                                                                                                                                                                                                                                                                                                                                                                                                                                                                                                                                                                                                                                                                                                                                                                                                                                                                                                                                                                                                                                                                                                                                                                                                                                                                                                                                                                                                                                                                                                                                                                                                                                                                                                                                                                                                                                                                                                                                                                                                                                                report_text_stemm  \\\n",
       "0   russian offen campaign assess april twenti five kateryna stepanenko grace mapp nicol wolkov frederick kaganapril twenti five 7pm etclicksenior us eu offici assess russian presid vladimir putin would remain unwil negoti respon success ukrainian counteroffens thenew york time nyt report april twenti four senior european offici state chanc putin back respon success ukrainian counteroffen less zero offici state putin would like mobil soldier fight ukrain us assist secretari defen intern secur affair celest walland said littl evid suggest putin would alter strateg goal subjug ukrain polit not fulli militarili us nation secur council spokesperson john kirbi toldvoic americaon april twenti five us increa secur assist ukrain us expect russia attempt go offen weather improv ukrainian militari offici claim april twenti five ukrainian forc achiev impress result counter batteri combat russian forc russian occupi eastern left bank dnipro river spokesperson ukrainian southern oper forc nataliya humenyuk state ukrainian forc hit destroy russian artilleri system tank armor vehicl air defen system humenyuk ad ukrainian forc work clear frontlin east bank counter batteri mode humenyuk ad russian forc evacu civilian dnipro river bank area move russian unit simplifi ukrainian oper wagn group financ yevgeni prigozhin deni isw april twenti two assess limit improv wagner relat russian militari command ahead plan ukrainian counteroffens isw previou assess russian militari command may partial repair strain relationship prigozhin persuad russian presid vladimir putin halt offen oper ahead plan ukrainian counteroffens isw also observ dramat chang natur prigozhin public interact russian ministri defen mod kremlin earli begin april prigozhin state isw assess fake note would not exchang ammunit guy even friendship god prigozhin continu instanc distast russian militari leadership contradict chang prigozhin rhetor well sudden influx artilleri ammunit month report shell hunger bakhmut russian independ outletmozhem obyasnit explain also report prigozhin compani earn record amount incom contract russian mod despit feud russian defen minist sergey shoigu prigozhin repeatedli acknowledg cooper troop subordin russian mod receiv mobil personnel reinforc flank kremlin spokesperson dmitri peskov confirm eldest son fought war wagner isw assess inform oper mend relationship possibl increa demonstr prigozhin loyalti kremlin al factor indic prigozhin despit claim independ pride need retain favor support kremlin russian mod sustain oper russian ultranationalist continu advoc kremlin adopt stalinist repress measur russian state duma parliamentarian andrey gurulyov promin russian ultranationalist figur within rule unit russia parti state russia need reintroduc concept enemi peopl concept design late soviet leader joseph stalin opposit figur enemi societi gurulyov frequent share extrem opinion russian state televi rhetor among ultranationalist increasingli empha need target elimin russia intern enemi former russian offic igor girkin wagner group financ yevgeni prigozhin often echo similar call prosecut russian offici hope end war via negoti west attitud indic ultranationalist commun expect russian presid vladimir putin expand repress fulli commit war th kremlin continu avoid adopt overtli repress measur like concern stabil putin regim th russian govern withdrew bill russian state duma would increa tax thirteen thirti percent russian fled countri russian ultranationalist repeatedli call kremlin nation properti belong russian betray countri flee kremlin appear remain hesit introduc unpopular measur unnam sourc told russian independ outletverskathat russian presidenti administr not support return capit punish russia anoth issu recent reemerg russian polici discuss th kremlin could use threat death penalti scare russian support war effort remain passiv resist putin like remain hesit destroy imag diplomat toler tsar isw previou assess putin reli control inform space safeguard regim much kind massiv oppress apparatu soviet union putin never rebuilt intern repress apparatu equiv kgb interior ministri forc red armi russian civil right group ovd info memori ru sidyashchaya russia behind bar issu legal challeng russian censorship law discredit russian militari april twenti five ovd info announc lawyer file ten twenti plan complaint law russian constitut court hope court rule law unconstitut th complaint center around individu case alleg discredit includ one case wherein author fine man fifti zero rubl six hundr twelv hold sign call peac fring group least twenti mostli smaller pro war russian milblogg amplifi call russian govern repeal censorship law april eleven follow prosecut russian medic tell battlefield truth ovd info human right organ like face prosecut russian censorship law russian govern unlik repeal strike law without direct kremlin challeng like ovd info demonstr continu resist domest censorship repress key takeawayssenior us eu offici assess russian presid vladimir putin would remain unwil negoti respon success ukrainian counteroffens ukrainian militari offici claim april twenti five ukrainian forc achiev impress result counter batteri combat russian forc russian occupi eastern left bank dnipro river wagn group financ yevgeni prigozhin deni isw april twenti two assess limit improv wagner relat russian militari command ahead plan ukrainian counteroffens russian ultranationalist continu advoc kremlin adopt stalinist repress measur th kremlin continu avoid adopt overtli repress measur like concern stabil putin regim russian civil right group ovd info memori ru sidyashchaya russia behind bar issu legal challeng russian censorship law discredit russian militari april twenti five russian sourc claim russian forc conduct limit ground attack svatov kremmina line russian forc continu conduct ground attack around bakhmut along avdiivka donetsk citi frontlin russian milblogg continu issu vehement denial ukrainian forc establish sustain posit east left bank kherson oblast th russian ministri defen mod attempt financ incentiv russian prison fight ukrain offer compen equiv russian volunt th ukrainian resist center report ukrainian partisan deton russian militari checkpoint near oleshki russian main effort eastern ukrainerussian subordin main effort luhansk oblast russian object captur remaind luhansk oblast push westward eastern kharkiv oblast northern donetsk oblast russian sourc claim russian forc conduct limit ground attack svatov kreminna line april twenti five russian milblogg claim april twenti four russian forc advanc toward nevsk 17km northwest kreminna makiivka 22km northwest kreminna east spirn 25km south kreminna ukrainian gener staff report russian forc continu fortifi posit kupyansk direct not conduct ground attack lyman direct geoloc footag publish april twenti five indic russian forc like captur karmazynivka 13km southwest svatov unspecifi date ukrainian eastern group forc command colonel gener oleksandr syrskyi report april twenti five russian forc attempt push ukrainian forc posit serebrianska forest area 11km south kreminna order set condit attack lyman direct syrskyi also report russian forc eastern ukrain form storm infantri unit brigad regiment reinforc tank thermobar artilleri mortar anti tank unit russian subordin main effort donetsk oblast russian object captur entireti donetsk oblast claim territori russia proxi donba russian forc continu conduct ground attack around bakhmut april twenti four geoloc footag post april twenti four show wagner group forc made margin advanc southwest bakhmut two rail station western bakhmut russian milblogg claim wagner forc advanc southern western bakhmut fight heaviest som milblogg claim wagner forc advanc west bakhmut two rail station milblogg claim fight intensifi northwest bakhmut near orikhovo vasylivka 11km northwest novomarkov 12km northwest ukrainian gener staff report continu fight bakhmut ukrainian forc repel russian ground attack near bohdanivka 5km northwest bakhmut novomarkov khromov immedi northwest bakhmut klishchiivka 5km south bakhmut ukrainian eastern group forc spokesperson colonel serhiy cherevati state wagner group forc no longer conduct combat oper without support russian airborn vdv special purpo unit cherevati charact becom increasingli activ bakhmut area ukrainian forc conduct local counterattack northwest bakhmut like allevi pressur logist line pass khromov geoloc footag post april twenti five show ukrainian forc overtak russian posit north o0504 khromov chasiv yar highway russian milblogg claim ukrainian counterattack unsuccess howev russian forc continu conduct ground attack along avdiivka donetsk citi line april twenti five geoloc footag donetsk peopl republ dnr peopl militia april twenti one show russian forc advanc east toward nevelsk 14km southwest avdiivka ukrainian gener staff report ukrainian forc repel russian ground attack near novokalynov 9km north avdiivka stepov 3km northwest avdiivka sievern 6km west avdiivka pervomaisk 11km southwest avdiivka marinka immedi west donetsk citi novomykhailivka 10km southwest donetsk citi russian milblogg battl map claim russian forc advanc west kamianka 4km north avdiivka south vesel 5km north avdiivka april twenti five geoloc footag dnr peopl militia show dnr 1st slavic 110th motor rifl brigad 1st armi corp oper south sievern near nevelsk respect russian forc not conduct confirm claim ground attack western donetsk oblast april twenti five ukrainian tavriisk direct defen forc spokesperson colonel oleksiy dmytrashkivskyi state russian 155th naval infantri brigad pacif fleet reappear vuhledar area impli brigad left front line unspecifi date rest reconstitut dmytrashkivskyi assess 155th like not full combat strength russian support effort southern axi russian object maintain frontlin posit secur rear area ukrainian strike russian milblogg continu issu vehement denial april twenti five ukrainian forc establish sustain posit east left bank kherson oblast milblogg amplifi textual report video claim russian militari personnel claim ukrainian forc not east bank kherson oblast situat control video featur personnel union donba volunt affili crimean occup head sergey aksyonov milblogg claim ukrainian forc seiz mani dnipro river delta island howev russian milblogg also seiz chanc amplifi claim russian militari success includ russian forc shot ukrainian su twenti five support ukrainian raid across dnipro river th milblogg also claim russian air strike particularli modifi guid fab five hundr bomb improv russian forc abil repel ukrainian forc east bank kherson oblast russian occup offici claim ukrainian forc oper hrim two short rang ballist missil system zaporizhia oblast zaporizhia oblast occup offici vladimir rogov claim april twenti five ukrainian forc deploy new hrim two missil system zaporizhzhia citi th hrim two reportedli maximum rang four hundr five hundr kilomet russian milblogg claim ukrainian forc target kerch strait bridg hrim two missil april twenti two russian mobil forc gener effort russian object expand combat power without conduct gener mobil russian ministri defen mod attempt financ incentiv russian prison fight ukrain offer compen equiv russian volunt perm oblast human right activist oksana asaulenko report russian mod repr visit prison gubakha perm oblast offer prison option serv ukrain six month term th russian mod reportedli offer prison monthli salari two hundr five zero rubl two five hundr ten russian mod also reportedli offer prison compen three million rubl thirti six seven hundr twenti injur five million rubl sixti one two hundr prison famili kill battlefield wagner group servicemen reveal russian opposit outlet mani wagner convict die within first three week frontlin unclear famili ever receiv compen death th mod effort financ incentiv prison recruit indic russian mod not lure prison war sole pardon promi isw previou report pay discrep among russian volunt mobil servicemen spark conflict payment convict serv frontlin may aggrav tension among member russian convent irregular forc wagner group convict told thenew york timesthat wagner recruit prison offer hiv treatment hiv posit wagner mercenari reveal thenew york timesthat russian prison treat hiv posit prison ineffect drug prompt sign militari servic wagner decemb convict claim wagner promi pardon effect hiv treatment claim quick death battlefield appeal slow death prison ad not prior militari experi wit unit die attack near bakhmut head independ russian human right organ ru sidyashchaya russia behind bar olga romanova claim approxim ten percent russian prison hiv russian recruit offici like use promi medic treatment recruit incent russian feder subject privat militari compani pmc proxi militari format continu adverti contract servic form new militari unit bashkortostan administr offici maxim zabelin announc republ form new medic compani support region volunt battalion th compani current train patriot park kubinka moscow oblast deploy ukrain russian milblogg amplifi seri recruit ad includ wagner recruit men six month contract ukrain fourteen month servic africa moscow citi recruit contract servicemen 60th veterani separ air assault brigad recruit volunt fill fourth volunt battalion th republ tatarstan alloc approxim eighteen million rubl two hundr twenti three hundr organ militari patriot camp train children age eleven sixteen basic militari surviv skill th uk ministri defen mod assess russian daili casualti rate decrea thirti percent april russian forc suffer heavi casualti januari march th uk mod analyz casualti rate ukrainian gener staff calcul isw not independ confirm uk mod assess russian forc prepar ukrainian counteroffen like lead fewer casualti act russian occupi area russian object consolid administr control annex area forcibl integr ukrainian civilian russian sociocultur econom militari govern system ukrainian resist center report april twenti four ukrainian partisan target russian militari checkpoint improvi explo devic attack near oleshki kherson oblast center report partisan atesh movement blew russian militari checkpoint locat near militari infrastructur kill unspecifi number rosgvardia servicemen destroy militari equip even april twenti three kremlin continu integr russian occupi region ukrain russian healthcar system russian heath minster mikhail murashko claim russian author restor one hundr seventi two healthcar facil occupi ukrain eighti alreadi oper russian doctor complet perform prevent examin children russian occupi ukrain come week russian prime minist mikhail mishustin claim russian doctor alreadi examin two hundr zero children isw previou report russian effort integr occupi region ukrain health care initi russian forc continu use children facil militari purpo ukrainian gener staff report april twenti five russian forc continu establish militari facil educ facil turn children teacher human shield ukrainian gener staff report two hundr russian mobil personnel occupi children camp urzuf mariupol raion signif activ belaru isw assess russian belarusian attack northern ukrain earli extraordinarili unlik thu restructur section updat no longer includ counter ind offen isw continu report daili observ russian belarusian militari activ belaru not indic russian belarusian forc prepar immin attack ukrain belaru isw revi text assess observ unambigu indic russia belaru prepar attack northern ukrain russian forc maintain presenc along ukrain northern border belaru russia ukrainian command joint forc lieuten gener serhiy nayev state april twenti five seventeen zero russian forc divid two format deploy along southern border belaru along border bryansk kursk oblast nayev report two eight hundr russian forc unspecifi train ground belaru not isw not receiv classifi materi sourc use publicli avail inform draw exten russian ukrainian western report social media well commerci avail satellit imageri geospati data basi report refer sourc use provid endnot updat   \n",
       "\n",
       "                                                                                                                                                                  keywords  \\\n",
       "0  {'russian': 0.708, 'forc': 0.275, 'ukrainian': 0.245, 'twenty': 0.168, 'april': 0.153, 'claim': 0.132, 'militari': 0.127, 'five': 0.122, 'report': 0.107, 'two': 0.092}   \n",
       "\n",
       "  report_date date_tomorrow_datetime  \n",
       "0  2023-04-25             2023-04-26  "
      ]
     },
     "execution_count": 50,
     "metadata": {},
     "output_type": "execute_result"
    }
   ],
   "source": [
    "data_preprocessed.head()"
   ]
  },
  {
   "cell_type": "markdown",
   "id": "e2d4c886",
   "metadata": {},
   "source": [
    "#### Part of scropt: 3_final_preprocess"
   ]
  },
  {
   "cell_type": "code",
   "execution_count": 21,
   "id": "f151948d",
   "metadata": {},
   "outputs": [],
   "source": [
    "data_preprocessed[\"date_datetime\"] = pd.to_datetime(data_preprocessed[\"date\"])\n",
    "data_preprocessed['date_tomorrow_datetime'] = data_preprocessed['date_datetime'].apply(lambda x: x+datetime.timedelta(days=1))\n",
    "data_preprocessed = data_preprocessed.rename(columns = {\"date_datetime\":\"report_date\"})"
   ]
  },
  {
   "cell_type": "code",
   "execution_count": 51,
   "id": "6bf4e723",
   "metadata": {},
   "outputs": [
    {
     "name": "stdout",
     "output_type": "stream",
     "text": [
      "Weather data for the \n",
      "region Донеччина; \n",
      "start_date 2023-04-25; \n",
      "end_date 2023-04-25; \n",
      "is ready\n"
     ]
    }
   ],
   "source": [
    "# погода на всі регіони треба: модифікувати скрипт get_weather?\n",
    "\n",
    "region = \"Донеччина\"\n",
    "today_date = \"2023-04-25\"\n",
    "\n",
    "weather_for_12_hours = get_weather.get_weather_for_12_hours(region,today_date)"
   ]
  },
  {
   "cell_type": "code",
   "execution_count": 23,
   "id": "281b2611",
   "metadata": {},
   "outputs": [
    {
     "data": {
      "text/html": [
       "<div>\n",
       "<style scoped>\n",
       "    .dataframe tbody tr th:only-of-type {\n",
       "        vertical-align: middle;\n",
       "    }\n",
       "\n",
       "    .dataframe tbody tr th {\n",
       "        vertical-align: top;\n",
       "    }\n",
       "\n",
       "    .dataframe thead th {\n",
       "        text-align: right;\n",
       "    }\n",
       "</style>\n",
       "<table border=\"1\" class=\"dataframe\">\n",
       "  <thead>\n",
       "    <tr style=\"text-align: right;\">\n",
       "      <th></th>\n",
       "      <th>datetime</th>\n",
       "      <th>datetimeEpoch</th>\n",
       "      <th>temp</th>\n",
       "      <th>feelslike</th>\n",
       "      <th>humidity</th>\n",
       "      <th>dew</th>\n",
       "      <th>precip</th>\n",
       "      <th>precipprob</th>\n",
       "      <th>snow</th>\n",
       "      <th>snowdepth</th>\n",
       "      <th>...</th>\n",
       "      <th>pressure</th>\n",
       "      <th>visibility</th>\n",
       "      <th>cloudcover</th>\n",
       "      <th>solarradiation</th>\n",
       "      <th>solarenergy</th>\n",
       "      <th>uvindex</th>\n",
       "      <th>conditions</th>\n",
       "      <th>icon</th>\n",
       "      <th>stations</th>\n",
       "      <th>source</th>\n",
       "    </tr>\n",
       "  </thead>\n",
       "  <tbody>\n",
       "    <tr>\n",
       "      <th>0</th>\n",
       "      <td>00:00:00</td>\n",
       "      <td>1682370000</td>\n",
       "      <td>51.7</td>\n",
       "      <td>51.7</td>\n",
       "      <td>96.09</td>\n",
       "      <td>50.6</td>\n",
       "      <td>0.031</td>\n",
       "      <td>100.0</td>\n",
       "      <td>0.0</td>\n",
       "      <td>0.0</td>\n",
       "      <td>...</td>\n",
       "      <td>1014.0</td>\n",
       "      <td>None</td>\n",
       "      <td>100.0</td>\n",
       "      <td>None</td>\n",
       "      <td>None</td>\n",
       "      <td>None</td>\n",
       "      <td>Rain, Overcast</td>\n",
       "      <td>rain</td>\n",
       "      <td>[remote]</td>\n",
       "      <td>obs</td>\n",
       "    </tr>\n",
       "    <tr>\n",
       "      <th>1</th>\n",
       "      <td>01:00:00</td>\n",
       "      <td>1682373600</td>\n",
       "      <td>51.2</td>\n",
       "      <td>51.2</td>\n",
       "      <td>89.84</td>\n",
       "      <td>48.3</td>\n",
       "      <td>0.024</td>\n",
       "      <td>100.0</td>\n",
       "      <td>0.0</td>\n",
       "      <td>0.0</td>\n",
       "      <td>...</td>\n",
       "      <td>1014.0</td>\n",
       "      <td>None</td>\n",
       "      <td>100.0</td>\n",
       "      <td>None</td>\n",
       "      <td>None</td>\n",
       "      <td>None</td>\n",
       "      <td>Rain, Overcast</td>\n",
       "      <td>rain</td>\n",
       "      <td>[remote]</td>\n",
       "      <td>obs</td>\n",
       "    </tr>\n",
       "    <tr>\n",
       "      <th>2</th>\n",
       "      <td>02:00:00</td>\n",
       "      <td>1682377200</td>\n",
       "      <td>50.3</td>\n",
       "      <td>50.3</td>\n",
       "      <td>90.41</td>\n",
       "      <td>47.6</td>\n",
       "      <td>0.020</td>\n",
       "      <td>100.0</td>\n",
       "      <td>0.0</td>\n",
       "      <td>0.0</td>\n",
       "      <td>...</td>\n",
       "      <td>1013.0</td>\n",
       "      <td>None</td>\n",
       "      <td>93.5</td>\n",
       "      <td>None</td>\n",
       "      <td>None</td>\n",
       "      <td>None</td>\n",
       "      <td>Rain, Overcast</td>\n",
       "      <td>rain</td>\n",
       "      <td>[remote]</td>\n",
       "      <td>obs</td>\n",
       "    </tr>\n",
       "    <tr>\n",
       "      <th>3</th>\n",
       "      <td>03:00:00</td>\n",
       "      <td>1682380800</td>\n",
       "      <td>49.5</td>\n",
       "      <td>49.0</td>\n",
       "      <td>91.61</td>\n",
       "      <td>47.2</td>\n",
       "      <td>0.008</td>\n",
       "      <td>100.0</td>\n",
       "      <td>0.0</td>\n",
       "      <td>0.0</td>\n",
       "      <td>...</td>\n",
       "      <td>1012.0</td>\n",
       "      <td>None</td>\n",
       "      <td>98.4</td>\n",
       "      <td>None</td>\n",
       "      <td>None</td>\n",
       "      <td>None</td>\n",
       "      <td>Rain, Overcast</td>\n",
       "      <td>rain</td>\n",
       "      <td>[remote]</td>\n",
       "      <td>obs</td>\n",
       "    </tr>\n",
       "    <tr>\n",
       "      <th>4</th>\n",
       "      <td>04:00:00</td>\n",
       "      <td>1682384400</td>\n",
       "      <td>49.4</td>\n",
       "      <td>48.8</td>\n",
       "      <td>90.99</td>\n",
       "      <td>46.8</td>\n",
       "      <td>0.000</td>\n",
       "      <td>0.0</td>\n",
       "      <td>0.0</td>\n",
       "      <td>0.0</td>\n",
       "      <td>...</td>\n",
       "      <td>1011.0</td>\n",
       "      <td>None</td>\n",
       "      <td>98.7</td>\n",
       "      <td>None</td>\n",
       "      <td>None</td>\n",
       "      <td>None</td>\n",
       "      <td>Overcast</td>\n",
       "      <td>cloudy</td>\n",
       "      <td>[remote]</td>\n",
       "      <td>obs</td>\n",
       "    </tr>\n",
       "  </tbody>\n",
       "</table>\n",
       "<p>5 rows × 24 columns</p>\n",
       "</div>"
      ],
      "text/plain": [
       "   datetime  datetimeEpoch  temp  feelslike  humidity   dew  precip  \\\n",
       "0  00:00:00     1682370000  51.7       51.7     96.09  50.6   0.031   \n",
       "1  01:00:00     1682373600  51.2       51.2     89.84  48.3   0.024   \n",
       "2  02:00:00     1682377200  50.3       50.3     90.41  47.6   0.020   \n",
       "3  03:00:00     1682380800  49.5       49.0     91.61  47.2   0.008   \n",
       "4  04:00:00     1682384400  49.4       48.8     90.99  46.8   0.000   \n",
       "\n",
       "   precipprob  snow  snowdepth  ... pressure  visibility  cloudcover  \\\n",
       "0       100.0   0.0        0.0  ...   1014.0        None       100.0   \n",
       "1       100.0   0.0        0.0  ...   1014.0        None       100.0   \n",
       "2       100.0   0.0        0.0  ...   1013.0        None        93.5   \n",
       "3       100.0   0.0        0.0  ...   1012.0        None        98.4   \n",
       "4         0.0   0.0        0.0  ...   1011.0        None        98.7   \n",
       "\n",
       "   solarradiation  solarenergy uvindex      conditions    icon  stations  \\\n",
       "0            None         None    None  Rain, Overcast    rain  [remote]   \n",
       "1            None         None    None  Rain, Overcast    rain  [remote]   \n",
       "2            None         None    None  Rain, Overcast    rain  [remote]   \n",
       "3            None         None    None  Rain, Overcast    rain  [remote]   \n",
       "4            None         None    None        Overcast  cloudy  [remote]   \n",
       "\n",
       "  source  \n",
       "0    obs  \n",
       "1    obs  \n",
       "2    obs  \n",
       "3    obs  \n",
       "4    obs  \n",
       "\n",
       "[5 rows x 24 columns]"
      ]
     },
     "execution_count": 23,
     "metadata": {},
     "output_type": "execute_result"
    }
   ],
   "source": [
    "weather_for_12_hours.head()"
   ]
  },
  {
   "cell_type": "code",
   "execution_count": 24,
   "id": "d0d77bf6",
   "metadata": {},
   "outputs": [],
   "source": [
    "weather_for_12_hours['date'] = today_date\n",
    "weather_for_12_hours[\"day_datetime\"] = pd.to_datetime(weather_for_12_hours[\"date\"])"
   ]
  },
  {
   "cell_type": "code",
   "execution_count": 25,
   "id": "c34df099",
   "metadata": {},
   "outputs": [
    {
     "data": {
      "text/plain": [
       "Index(['datetime', 'datetimeEpoch', 'temp', 'feelslike', 'humidity', 'dew',\n",
       "       'precip', 'precipprob', 'snow', 'snowdepth', 'preciptype', 'windgust',\n",
       "       'windspeed', 'winddir', 'pressure', 'visibility', 'cloudcover',\n",
       "       'solarradiation', 'solarenergy', 'uvindex', 'conditions', 'icon',\n",
       "       'stations', 'source', 'date', 'day_datetime'],\n",
       "      dtype='object')"
      ]
     },
     "execution_count": 25,
     "metadata": {},
     "output_type": "execute_result"
    }
   ],
   "source": [
    "weather_for_12_hours.columns"
   ]
  },
  {
   "cell_type": "code",
   "execution_count": 26,
   "id": "a1a31caa",
   "metadata": {},
   "outputs": [
    {
     "data": {
      "text/html": [
       "<div>\n",
       "<style scoped>\n",
       "    .dataframe tbody tr th:only-of-type {\n",
       "        vertical-align: middle;\n",
       "    }\n",
       "\n",
       "    .dataframe tbody tr th {\n",
       "        vertical-align: top;\n",
       "    }\n",
       "\n",
       "    .dataframe thead th {\n",
       "        text-align: right;\n",
       "    }\n",
       "</style>\n",
       "<table border=\"1\" class=\"dataframe\">\n",
       "  <thead>\n",
       "    <tr style=\"text-align: right;\">\n",
       "      <th></th>\n",
       "      <th>date</th>\n",
       "      <th>short_url</th>\n",
       "      <th>title</th>\n",
       "      <th>text_title</th>\n",
       "      <th>full_url</th>\n",
       "      <th>main_html</th>\n",
       "      <th>main_html_v5</th>\n",
       "      <th>report_text_lemm</th>\n",
       "      <th>report_text_stemm</th>\n",
       "      <th>keywords</th>\n",
       "      <th>report_date</th>\n",
       "      <th>date_tomorrow_datetime</th>\n",
       "    </tr>\n",
       "  </thead>\n",
       "  <tbody>\n",
       "    <tr>\n",
       "      <th>0</th>\n",
       "      <td>2023-04-25</td>\n",
       "      <td>russian_offensive_campaign_assessment_April_25...</td>\n",
       "      <td>Russian Offensive Campaign Assessment, April 2...</td>\n",
       "      <td>Russian Offensive Campaign Assessment, April 2...</td>\n",
       "      <td>/backgrounder/russian-offensive-campaign-asses...</td>\n",
       "      <td>[[[ , &lt;p align=\"center\" style=\"text-align: lef...</td>\n",
       "      <td>Russian Offensive Campaign Assessment, April ...</td>\n",
       "      <td>russian offens campaign ass april twenty five...</td>\n",
       "      <td>russian offen campaign assess april twenti fi...</td>\n",
       "      <td>{'russian': 0.708, 'forc': 0.275, 'ukrainian':...</td>\n",
       "      <td>2023-04-25</td>\n",
       "      <td>2023-04-26</td>\n",
       "    </tr>\n",
       "  </tbody>\n",
       "</table>\n",
       "</div>"
      ],
      "text/plain": [
       "        date                                          short_url  \\\n",
       "0 2023-04-25  russian_offensive_campaign_assessment_April_25...   \n",
       "\n",
       "                                               title  \\\n",
       "0  Russian Offensive Campaign Assessment, April 2...   \n",
       "\n",
       "                                          text_title  \\\n",
       "0  Russian Offensive Campaign Assessment, April 2...   \n",
       "\n",
       "                                            full_url  \\\n",
       "0  /backgrounder/russian-offensive-campaign-asses...   \n",
       "\n",
       "                                           main_html  \\\n",
       "0  [[[ , <p align=\"center\" style=\"text-align: lef...   \n",
       "\n",
       "                                        main_html_v5  \\\n",
       "0   Russian Offensive Campaign Assessment, April ...   \n",
       "\n",
       "                                    report_text_lemm  \\\n",
       "0   russian offens campaign ass april twenty five...   \n",
       "\n",
       "                                   report_text_stemm  \\\n",
       "0   russian offen campaign assess april twenti fi...   \n",
       "\n",
       "                                            keywords report_date  \\\n",
       "0  {'russian': 0.708, 'forc': 0.275, 'ukrainian':...  2023-04-25   \n",
       "\n",
       "  date_tomorrow_datetime  \n",
       "0             2023-04-26  "
      ]
     },
     "execution_count": 26,
     "metadata": {},
     "output_type": "execute_result"
    }
   ],
   "source": [
    "data_preprocessed.head()"
   ]
  },
  {
   "cell_type": "code",
   "execution_count": 27,
   "id": "637f2486",
   "metadata": {},
   "outputs": [],
   "source": [
    "data_preprocessed_short = df_isw_short = data_preprocessed[['date','date_tomorrow_datetime','keywords','report_text_lemm']]"
   ]
  },
  {
   "cell_type": "code",
   "execution_count": 28,
   "id": "6c0a8daf",
   "metadata": {},
   "outputs": [
    {
     "data": {
      "text/html": [
       "<div>\n",
       "<style scoped>\n",
       "    .dataframe tbody tr th:only-of-type {\n",
       "        vertical-align: middle;\n",
       "    }\n",
       "\n",
       "    .dataframe tbody tr th {\n",
       "        vertical-align: top;\n",
       "    }\n",
       "\n",
       "    .dataframe thead th {\n",
       "        text-align: right;\n",
       "    }\n",
       "</style>\n",
       "<table border=\"1\" class=\"dataframe\">\n",
       "  <thead>\n",
       "    <tr style=\"text-align: right;\">\n",
       "      <th></th>\n",
       "      <th>date</th>\n",
       "      <th>date_tomorrow_datetime</th>\n",
       "      <th>keywords</th>\n",
       "      <th>report_text_lemm</th>\n",
       "    </tr>\n",
       "  </thead>\n",
       "  <tbody>\n",
       "    <tr>\n",
       "      <th>0</th>\n",
       "      <td>2023-04-25</td>\n",
       "      <td>2023-04-26</td>\n",
       "      <td>{'russian': 0.708, 'forc': 0.275, 'ukrainian':...</td>\n",
       "      <td>russian offens campaign ass april twenty five...</td>\n",
       "    </tr>\n",
       "  </tbody>\n",
       "</table>\n",
       "</div>"
      ],
      "text/plain": [
       "        date date_tomorrow_datetime  \\\n",
       "0 2023-04-25             2023-04-26   \n",
       "\n",
       "                                            keywords  \\\n",
       "0  {'russian': 0.708, 'forc': 0.275, 'ukrainian':...   \n",
       "\n",
       "                                    report_text_lemm  \n",
       "0   russian offens campaign ass april twenty five...  "
      ]
     },
     "execution_count": 28,
     "metadata": {},
     "output_type": "execute_result"
    }
   ],
   "source": [
    "data_preprocessed_short.head()"
   ]
  },
  {
   "cell_type": "code",
   "execution_count": 29,
   "id": "16490d8c",
   "metadata": {},
   "outputs": [],
   "source": [
    "data_merged = weather_for_12_hours.merge(data_preprocessed_short,\n",
    "                         how=\"left\", left_on = \"day_datetime\", right_on = \"date_tomorrow_datetime\")"
   ]
  },
  {
   "cell_type": "code",
   "execution_count": 30,
   "id": "459fdd4e",
   "metadata": {},
   "outputs": [
    {
     "data": {
      "text/plain": [
       "0     None\n",
       "1     None\n",
       "2     None\n",
       "3     None\n",
       "4     None\n",
       "5     None\n",
       "6     None\n",
       "7     None\n",
       "8     None\n",
       "9     None\n",
       "10    None\n",
       "11    None\n",
       "12    None\n",
       "13    None\n",
       "14    None\n",
       "15    None\n",
       "16    None\n",
       "17    None\n",
       "18    None\n",
       "19    None\n",
       "20    None\n",
       "21    None\n",
       "22    None\n",
       "23    None\n",
       "Name: solarradiation, dtype: object"
      ]
     },
     "execution_count": 30,
     "metadata": {},
     "output_type": "execute_result"
    }
   ],
   "source": [
    "data_merged['solarradiation']"
   ]
  },
  {
   "cell_type": "code",
   "execution_count": 31,
   "id": "88a2d3ff",
   "metadata": {},
   "outputs": [
    {
     "data": {
      "text/plain": [
       "<1x840 sparse matrix of type '<class 'numpy.float64'>'\n",
       "\twith 840 stored elements in Compressed Sparse Row format>"
      ]
     },
     "execution_count": 31,
     "metadata": {},
     "output_type": "execute_result"
    }
   ],
   "source": [
    "tf_idf_vector"
   ]
  },
  {
   "cell_type": "code",
   "execution_count": 32,
   "id": "45979da9",
   "metadata": {},
   "outputs": [],
   "source": [
    "data_merged = data_merged[['day_datetime','temp', 'feelslike', 'humidity', 'dew',\n",
    "       'precip', 'precipprob', 'snow', 'snowdepth', 'windgust',\n",
    "       'windspeed', 'winddir', 'pressure', 'cloudcover']]"
   ]
  },
  {
   "cell_type": "code",
   "execution_count": 33,
   "id": "d9a48358",
   "metadata": {},
   "outputs": [
    {
     "data": {
      "text/html": [
       "<div>\n",
       "<style scoped>\n",
       "    .dataframe tbody tr th:only-of-type {\n",
       "        vertical-align: middle;\n",
       "    }\n",
       "\n",
       "    .dataframe tbody tr th {\n",
       "        vertical-align: top;\n",
       "    }\n",
       "\n",
       "    .dataframe thead th {\n",
       "        text-align: right;\n",
       "    }\n",
       "</style>\n",
       "<table border=\"1\" class=\"dataframe\">\n",
       "  <thead>\n",
       "    <tr style=\"text-align: right;\">\n",
       "      <th></th>\n",
       "      <th>day_datetime</th>\n",
       "      <th>temp</th>\n",
       "      <th>feelslike</th>\n",
       "      <th>humidity</th>\n",
       "      <th>dew</th>\n",
       "      <th>precip</th>\n",
       "      <th>precipprob</th>\n",
       "      <th>snow</th>\n",
       "      <th>snowdepth</th>\n",
       "      <th>windgust</th>\n",
       "      <th>windspeed</th>\n",
       "      <th>winddir</th>\n",
       "      <th>pressure</th>\n",
       "      <th>cloudcover</th>\n",
       "    </tr>\n",
       "  </thead>\n",
       "  <tbody>\n",
       "    <tr>\n",
       "      <th>0</th>\n",
       "      <td>2023-04-25</td>\n",
       "      <td>51.7</td>\n",
       "      <td>51.7</td>\n",
       "      <td>96.09</td>\n",
       "      <td>50.6</td>\n",
       "      <td>0.031</td>\n",
       "      <td>100.0</td>\n",
       "      <td>0.0</td>\n",
       "      <td>0.0</td>\n",
       "      <td>10.1</td>\n",
       "      <td>3.8</td>\n",
       "      <td>90.8</td>\n",
       "      <td>1014.0</td>\n",
       "      <td>100.0</td>\n",
       "    </tr>\n",
       "    <tr>\n",
       "      <th>1</th>\n",
       "      <td>2023-04-25</td>\n",
       "      <td>51.2</td>\n",
       "      <td>51.2</td>\n",
       "      <td>89.84</td>\n",
       "      <td>48.3</td>\n",
       "      <td>0.024</td>\n",
       "      <td>100.0</td>\n",
       "      <td>0.0</td>\n",
       "      <td>0.0</td>\n",
       "      <td>10.7</td>\n",
       "      <td>4.7</td>\n",
       "      <td>77.9</td>\n",
       "      <td>1014.0</td>\n",
       "      <td>100.0</td>\n",
       "    </tr>\n",
       "    <tr>\n",
       "      <th>2</th>\n",
       "      <td>2023-04-25</td>\n",
       "      <td>50.3</td>\n",
       "      <td>50.3</td>\n",
       "      <td>90.41</td>\n",
       "      <td>47.6</td>\n",
       "      <td>0.020</td>\n",
       "      <td>100.0</td>\n",
       "      <td>0.0</td>\n",
       "      <td>0.0</td>\n",
       "      <td>10.3</td>\n",
       "      <td>3.1</td>\n",
       "      <td>60.8</td>\n",
       "      <td>1013.0</td>\n",
       "      <td>93.5</td>\n",
       "    </tr>\n",
       "    <tr>\n",
       "      <th>3</th>\n",
       "      <td>2023-04-25</td>\n",
       "      <td>49.5</td>\n",
       "      <td>49.0</td>\n",
       "      <td>91.61</td>\n",
       "      <td>47.2</td>\n",
       "      <td>0.008</td>\n",
       "      <td>100.0</td>\n",
       "      <td>0.0</td>\n",
       "      <td>0.0</td>\n",
       "      <td>6.7</td>\n",
       "      <td>3.1</td>\n",
       "      <td>50.6</td>\n",
       "      <td>1012.0</td>\n",
       "      <td>98.4</td>\n",
       "    </tr>\n",
       "    <tr>\n",
       "      <th>4</th>\n",
       "      <td>2023-04-25</td>\n",
       "      <td>49.4</td>\n",
       "      <td>48.8</td>\n",
       "      <td>90.99</td>\n",
       "      <td>46.8</td>\n",
       "      <td>0.000</td>\n",
       "      <td>0.0</td>\n",
       "      <td>0.0</td>\n",
       "      <td>0.0</td>\n",
       "      <td>6.7</td>\n",
       "      <td>3.1</td>\n",
       "      <td>30.9</td>\n",
       "      <td>1011.0</td>\n",
       "      <td>98.7</td>\n",
       "    </tr>\n",
       "  </tbody>\n",
       "</table>\n",
       "</div>"
      ],
      "text/plain": [
       "  day_datetime  temp  feelslike  humidity   dew  precip  precipprob  snow  \\\n",
       "0   2023-04-25  51.7       51.7     96.09  50.6   0.031       100.0   0.0   \n",
       "1   2023-04-25  51.2       51.2     89.84  48.3   0.024       100.0   0.0   \n",
       "2   2023-04-25  50.3       50.3     90.41  47.6   0.020       100.0   0.0   \n",
       "3   2023-04-25  49.5       49.0     91.61  47.2   0.008       100.0   0.0   \n",
       "4   2023-04-25  49.4       48.8     90.99  46.8   0.000         0.0   0.0   \n",
       "\n",
       "   snowdepth  windgust  windspeed  winddir  pressure  cloudcover  \n",
       "0        0.0      10.1        3.8     90.8    1014.0       100.0  \n",
       "1        0.0      10.7        4.7     77.9    1014.0       100.0  \n",
       "2        0.0      10.3        3.1     60.8    1013.0        93.5  \n",
       "3        0.0       6.7        3.1     50.6    1012.0        98.4  \n",
       "4        0.0       6.7        3.1     30.9    1011.0        98.7  "
      ]
     },
     "execution_count": 33,
     "metadata": {},
     "output_type": "execute_result"
    }
   ],
   "source": [
    "data_merged.head()"
   ]
  },
  {
   "cell_type": "code",
   "execution_count": 34,
   "id": "73ed877b",
   "metadata": {},
   "outputs": [
    {
     "name": "stdout",
     "output_type": "stream",
     "text": [
      "<class 'pandas.core.frame.DataFrame'>\n",
      "Int64Index: 24 entries, 0 to 23\n",
      "Data columns (total 14 columns):\n",
      " #   Column        Non-Null Count  Dtype         \n",
      "---  ------        --------------  -----         \n",
      " 0   day_datetime  24 non-null     datetime64[ns]\n",
      " 1   temp          24 non-null     float64       \n",
      " 2   feelslike     24 non-null     float64       \n",
      " 3   humidity      24 non-null     float64       \n",
      " 4   dew           24 non-null     float64       \n",
      " 5   precip        24 non-null     float64       \n",
      " 6   precipprob    24 non-null     float64       \n",
      " 7   snow          24 non-null     float64       \n",
      " 8   snowdepth     24 non-null     float64       \n",
      " 9   windgust      24 non-null     float64       \n",
      " 10  windspeed     24 non-null     float64       \n",
      " 11  winddir       24 non-null     float64       \n",
      " 12  pressure      24 non-null     float64       \n",
      " 13  cloudcover    24 non-null     float64       \n",
      "dtypes: datetime64[ns](1), float64(13)\n",
      "memory usage: 2.8 KB\n"
     ]
    }
   ],
   "source": [
    "data_merged.info()"
   ]
  },
  {
   "cell_type": "code",
   "execution_count": 35,
   "id": "b513d725",
   "metadata": {},
   "outputs": [
    {
     "data": {
      "text/plain": [
       "day_datetime    0\n",
       "temp            0\n",
       "feelslike       0\n",
       "humidity        0\n",
       "dew             0\n",
       "precip          0\n",
       "precipprob      0\n",
       "snow            0\n",
       "snowdepth       0\n",
       "windgust        0\n",
       "windspeed       0\n",
       "winddir         0\n",
       "pressure        0\n",
       "cloudcover      0\n",
       "dtype: int64"
      ]
     },
     "execution_count": 35,
     "metadata": {},
     "output_type": "execute_result"
    }
   ],
   "source": [
    "#data_merged.isnull().sum()"
   ]
  },
  {
   "cell_type": "code",
   "execution_count": 36,
   "id": "4c686215",
   "metadata": {},
   "outputs": [],
   "source": [
    "# треба доробити матрицю!!!\n",
    "\n",
    "#weather_alarms_tfidf_csr = scipy.sparse.csr_matrix(data_merged)\n",
    "#weather_alarms_tfidf_features = scipy.sparse.hstack((weather_alarms_tfidf_csr, tf_idf_vector), format=\"csr\")"
   ]
  },
  {
   "cell_type": "code",
   "execution_count": 37,
   "id": "72ff12f6",
   "metadata": {},
   "outputs": [],
   "source": [
    "data_vectorised = tf_idf_vector.toarray()\n",
    "vectors_df = pd.DataFrame(data_vectorised)\n",
    "vectors_df['date'] = pd.to_datetime(today)\n"
   ]
  },
  {
   "cell_type": "code",
   "execution_count": 38,
   "id": "2e66d70b",
   "metadata": {},
   "outputs": [
    {
     "data": {
      "text/html": [
       "<div>\n",
       "<style scoped>\n",
       "    .dataframe tbody tr th:only-of-type {\n",
       "        vertical-align: middle;\n",
       "    }\n",
       "\n",
       "    .dataframe tbody tr th {\n",
       "        vertical-align: top;\n",
       "    }\n",
       "\n",
       "    .dataframe thead th {\n",
       "        text-align: right;\n",
       "    }\n",
       "</style>\n",
       "<table border=\"1\" class=\"dataframe\">\n",
       "  <thead>\n",
       "    <tr style=\"text-align: right;\">\n",
       "      <th></th>\n",
       "      <th>0</th>\n",
       "      <th>1</th>\n",
       "      <th>2</th>\n",
       "      <th>3</th>\n",
       "      <th>4</th>\n",
       "      <th>5</th>\n",
       "      <th>6</th>\n",
       "      <th>7</th>\n",
       "      <th>8</th>\n",
       "      <th>9</th>\n",
       "      <th>...</th>\n",
       "      <th>831</th>\n",
       "      <th>832</th>\n",
       "      <th>833</th>\n",
       "      <th>834</th>\n",
       "      <th>835</th>\n",
       "      <th>836</th>\n",
       "      <th>837</th>\n",
       "      <th>838</th>\n",
       "      <th>839</th>\n",
       "      <th>date</th>\n",
       "    </tr>\n",
       "  </thead>\n",
       "  <tbody>\n",
       "    <tr>\n",
       "      <th>0</th>\n",
       "      <td>0.005094</td>\n",
       "      <td>0.005094</td>\n",
       "      <td>0.015281</td>\n",
       "      <td>0.005094</td>\n",
       "      <td>0.005094</td>\n",
       "      <td>0.005094</td>\n",
       "      <td>0.010188</td>\n",
       "      <td>0.005094</td>\n",
       "      <td>0.010188</td>\n",
       "      <td>0.005094</td>\n",
       "      <td>...</td>\n",
       "      <td>0.005094</td>\n",
       "      <td>0.030563</td>\n",
       "      <td>0.005094</td>\n",
       "      <td>0.015281</td>\n",
       "      <td>0.015281</td>\n",
       "      <td>0.005094</td>\n",
       "      <td>0.010188</td>\n",
       "      <td>0.005094</td>\n",
       "      <td>0.025469</td>\n",
       "      <td>2023-04-26</td>\n",
       "    </tr>\n",
       "  </tbody>\n",
       "</table>\n",
       "<p>1 rows × 841 columns</p>\n",
       "</div>"
      ],
      "text/plain": [
       "          0         1         2         3         4         5         6  \\\n",
       "0  0.005094  0.005094  0.015281  0.005094  0.005094  0.005094  0.010188   \n",
       "\n",
       "          7         8         9  ...       831       832       833       834  \\\n",
       "0  0.005094  0.010188  0.005094  ...  0.005094  0.030563  0.005094  0.015281   \n",
       "\n",
       "        835       836       837       838       839       date  \n",
       "0  0.015281  0.005094  0.010188  0.005094  0.025469 2023-04-26  \n",
       "\n",
       "[1 rows x 841 columns]"
      ]
     },
     "execution_count": 38,
     "metadata": {},
     "output_type": "execute_result"
    }
   ],
   "source": [
    "vectors_df.head()"
   ]
  },
  {
   "cell_type": "code",
   "execution_count": 39,
   "id": "eda232cd",
   "metadata": {},
   "outputs": [
    {
     "data": {
      "text/html": [
       "<div>\n",
       "<style scoped>\n",
       "    .dataframe tbody tr th:only-of-type {\n",
       "        vertical-align: middle;\n",
       "    }\n",
       "\n",
       "    .dataframe tbody tr th {\n",
       "        vertical-align: top;\n",
       "    }\n",
       "\n",
       "    .dataframe thead th {\n",
       "        text-align: right;\n",
       "    }\n",
       "</style>\n",
       "<table border=\"1\" class=\"dataframe\">\n",
       "  <thead>\n",
       "    <tr style=\"text-align: right;\">\n",
       "      <th></th>\n",
       "      <th>date</th>\n",
       "      <th>temp</th>\n",
       "      <th>feelslike</th>\n",
       "      <th>humidity</th>\n",
       "      <th>dew</th>\n",
       "      <th>precip</th>\n",
       "      <th>precipprob</th>\n",
       "      <th>snow</th>\n",
       "      <th>snowdepth</th>\n",
       "      <th>windgust</th>\n",
       "      <th>windspeed</th>\n",
       "      <th>winddir</th>\n",
       "      <th>pressure</th>\n",
       "      <th>cloudcover</th>\n",
       "    </tr>\n",
       "  </thead>\n",
       "  <tbody>\n",
       "    <tr>\n",
       "      <th>0</th>\n",
       "      <td>2023-04-25</td>\n",
       "      <td>51.7</td>\n",
       "      <td>51.7</td>\n",
       "      <td>96.09</td>\n",
       "      <td>50.6</td>\n",
       "      <td>0.031</td>\n",
       "      <td>100.0</td>\n",
       "      <td>0.0</td>\n",
       "      <td>0.0</td>\n",
       "      <td>10.1</td>\n",
       "      <td>3.8</td>\n",
       "      <td>90.8</td>\n",
       "      <td>1014.0</td>\n",
       "      <td>100.0</td>\n",
       "    </tr>\n",
       "    <tr>\n",
       "      <th>1</th>\n",
       "      <td>2023-04-25</td>\n",
       "      <td>51.2</td>\n",
       "      <td>51.2</td>\n",
       "      <td>89.84</td>\n",
       "      <td>48.3</td>\n",
       "      <td>0.024</td>\n",
       "      <td>100.0</td>\n",
       "      <td>0.0</td>\n",
       "      <td>0.0</td>\n",
       "      <td>10.7</td>\n",
       "      <td>4.7</td>\n",
       "      <td>77.9</td>\n",
       "      <td>1014.0</td>\n",
       "      <td>100.0</td>\n",
       "    </tr>\n",
       "    <tr>\n",
       "      <th>2</th>\n",
       "      <td>2023-04-25</td>\n",
       "      <td>50.3</td>\n",
       "      <td>50.3</td>\n",
       "      <td>90.41</td>\n",
       "      <td>47.6</td>\n",
       "      <td>0.020</td>\n",
       "      <td>100.0</td>\n",
       "      <td>0.0</td>\n",
       "      <td>0.0</td>\n",
       "      <td>10.3</td>\n",
       "      <td>3.1</td>\n",
       "      <td>60.8</td>\n",
       "      <td>1013.0</td>\n",
       "      <td>93.5</td>\n",
       "    </tr>\n",
       "    <tr>\n",
       "      <th>3</th>\n",
       "      <td>2023-04-25</td>\n",
       "      <td>49.5</td>\n",
       "      <td>49.0</td>\n",
       "      <td>91.61</td>\n",
       "      <td>47.2</td>\n",
       "      <td>0.008</td>\n",
       "      <td>100.0</td>\n",
       "      <td>0.0</td>\n",
       "      <td>0.0</td>\n",
       "      <td>6.7</td>\n",
       "      <td>3.1</td>\n",
       "      <td>50.6</td>\n",
       "      <td>1012.0</td>\n",
       "      <td>98.4</td>\n",
       "    </tr>\n",
       "    <tr>\n",
       "      <th>4</th>\n",
       "      <td>2023-04-25</td>\n",
       "      <td>49.4</td>\n",
       "      <td>48.8</td>\n",
       "      <td>90.99</td>\n",
       "      <td>46.8</td>\n",
       "      <td>0.000</td>\n",
       "      <td>0.0</td>\n",
       "      <td>0.0</td>\n",
       "      <td>0.0</td>\n",
       "      <td>6.7</td>\n",
       "      <td>3.1</td>\n",
       "      <td>30.9</td>\n",
       "      <td>1011.0</td>\n",
       "      <td>98.7</td>\n",
       "    </tr>\n",
       "  </tbody>\n",
       "</table>\n",
       "</div>"
      ],
      "text/plain": [
       "        date  temp  feelslike  humidity   dew  precip  precipprob  snow  \\\n",
       "0 2023-04-25  51.7       51.7     96.09  50.6   0.031       100.0   0.0   \n",
       "1 2023-04-25  51.2       51.2     89.84  48.3   0.024       100.0   0.0   \n",
       "2 2023-04-25  50.3       50.3     90.41  47.6   0.020       100.0   0.0   \n",
       "3 2023-04-25  49.5       49.0     91.61  47.2   0.008       100.0   0.0   \n",
       "4 2023-04-25  49.4       48.8     90.99  46.8   0.000         0.0   0.0   \n",
       "\n",
       "   snowdepth  windgust  windspeed  winddir  pressure  cloudcover  \n",
       "0        0.0      10.1        3.8     90.8    1014.0       100.0  \n",
       "1        0.0      10.7        4.7     77.9    1014.0       100.0  \n",
       "2        0.0      10.3        3.1     60.8    1013.0        93.5  \n",
       "3        0.0       6.7        3.1     50.6    1012.0        98.4  \n",
       "4        0.0       6.7        3.1     30.9    1011.0        98.7  "
      ]
     },
     "execution_count": 39,
     "metadata": {},
     "output_type": "execute_result"
    }
   ],
   "source": [
    "data_merged = data_merged.rename(columns = {\"day_datetime\":\"date\"})\n",
    "data_merged.head()"
   ]
  },
  {
   "cell_type": "code",
   "execution_count": 40,
   "id": "173f2dc5",
   "metadata": {},
   "outputs": [],
   "source": [
    "merged_df = pd.merge(data_merged, vectors_df,on='date')"
   ]
  },
  {
   "cell_type": "code",
   "execution_count": 41,
   "id": "ac2ce1c2",
   "metadata": {
    "scrolled": true
   },
   "outputs": [
    {
     "data": {
      "text/html": [
       "<div>\n",
       "<style scoped>\n",
       "    .dataframe tbody tr th:only-of-type {\n",
       "        vertical-align: middle;\n",
       "    }\n",
       "\n",
       "    .dataframe tbody tr th {\n",
       "        vertical-align: top;\n",
       "    }\n",
       "\n",
       "    .dataframe thead th {\n",
       "        text-align: right;\n",
       "    }\n",
       "</style>\n",
       "<table border=\"1\" class=\"dataframe\">\n",
       "  <thead>\n",
       "    <tr style=\"text-align: right;\">\n",
       "      <th></th>\n",
       "      <th>date</th>\n",
       "      <th>temp</th>\n",
       "      <th>feelslike</th>\n",
       "      <th>humidity</th>\n",
       "      <th>dew</th>\n",
       "      <th>precip</th>\n",
       "      <th>precipprob</th>\n",
       "      <th>snow</th>\n",
       "      <th>snowdepth</th>\n",
       "      <th>windgust</th>\n",
       "      <th>...</th>\n",
       "      <th>830</th>\n",
       "      <th>831</th>\n",
       "      <th>832</th>\n",
       "      <th>833</th>\n",
       "      <th>834</th>\n",
       "      <th>835</th>\n",
       "      <th>836</th>\n",
       "      <th>837</th>\n",
       "      <th>838</th>\n",
       "      <th>839</th>\n",
       "    </tr>\n",
       "  </thead>\n",
       "  <tbody>\n",
       "  </tbody>\n",
       "</table>\n",
       "<p>0 rows × 854 columns</p>\n",
       "</div>"
      ],
      "text/plain": [
       "Empty DataFrame\n",
       "Columns: [date, temp, feelslike, humidity, dew, precip, precipprob, snow, snowdepth, windgust, windspeed, winddir, pressure, cloudcover, 0, 1, 2, 3, 4, 5, 6, 7, 8, 9, 10, 11, 12, 13, 14, 15, 16, 17, 18, 19, 20, 21, 22, 23, 24, 25, 26, 27, 28, 29, 30, 31, 32, 33, 34, 35, 36, 37, 38, 39, 40, 41, 42, 43, 44, 45, 46, 47, 48, 49, 50, 51, 52, 53, 54, 55, 56, 57, 58, 59, 60, 61, 62, 63, 64, 65, 66, 67, 68, 69, 70, 71, 72, 73, 74, 75, 76, 77, 78, 79, 80, 81, 82, 83, 84, 85, ...]\n",
       "Index: []\n",
       "\n",
       "[0 rows x 854 columns]"
      ]
     },
     "execution_count": 41,
     "metadata": {},
     "output_type": "execute_result"
    }
   ],
   "source": [
    "merged_df.head()"
   ]
  },
  {
   "cell_type": "markdown",
   "id": "5a49e103",
   "metadata": {},
   "source": [
    "### PREDICT"
   ]
  },
  {
   "cell_type": "code",
   "execution_count": 42,
   "id": "b0030021",
   "metadata": {},
   "outputs": [],
   "source": [
    "merged_df = merged_df.drop(columns=['date'])"
   ]
  },
  {
   "cell_type": "code",
   "execution_count": 43,
   "id": "2c727209",
   "metadata": {
    "scrolled": true
   },
   "outputs": [
    {
     "name": "stderr",
     "output_type": "stream",
     "text": [
      "/Users/nikita_voitishyn/opt/anaconda3/lib/python3.9/site-packages/sklearn/base.py:310: UserWarning: Trying to unpickle estimator DecisionTreeClassifier from version 1.2.2 when using version 0.24.2. This might lead to breaking code or invalid results. Use at your own risk.\n",
      "  warnings.warn(\n",
      "/Users/nikita_voitishyn/opt/anaconda3/lib/python3.9/site-packages/sklearn/base.py:310: UserWarning: Trying to unpickle estimator RandomForestClassifier from version 1.2.2 when using version 0.24.2. This might lead to breaking code or invalid results. Use at your own risk.\n",
      "  warnings.warn(\n"
     ]
    }
   ],
   "source": [
    "model = pickle.load(open(\"models/4_rf_3.1f.pkl\",\"rb\"))"
   ]
  },
  {
   "cell_type": "code",
   "execution_count": 44,
   "id": "0dcf5acb",
   "metadata": {},
   "outputs": [
    {
     "name": "stdout",
     "output_type": "stream",
     "text": [
      "<class 'pandas.core.frame.DataFrame'>\n",
      "Index: 0 entries\n",
      "Columns: 853 entries, temp to 839\n",
      "dtypes: float64(853)\n",
      "memory usage: 0.0+ bytes\n"
     ]
    }
   ],
   "source": [
    "merged_df.info()"
   ]
  },
  {
   "cell_type": "code",
   "execution_count": 45,
   "id": "9c3b44a3",
   "metadata": {},
   "outputs": [],
   "source": [
    "pd.set_option('display.max_colwidth', None)\n",
    "pd.set_option('display.max_rows', None)"
   ]
  },
  {
   "cell_type": "code",
   "execution_count": 46,
   "id": "4db9888e",
   "metadata": {},
   "outputs": [
    {
     "name": "stdout",
     "output_type": "stream",
     "text": [
      "Index(['date', 'temp', 'feelslike', 'humidity', 'dew', 'precip', 'precipprob',\n",
      "       'snow', 'snowdepth', 'windgust', 'windspeed', 'winddir', 'pressure',\n",
      "       'cloudcover'],\n",
      "      dtype='object')\n",
      "date\n",
      "temp\n",
      "feelslike\n",
      "humidity\n",
      "dew\n",
      "precip\n",
      "precipprob\n",
      "snow\n",
      "snowdepth\n",
      "windgust\n",
      "windspeed\n",
      "winddir\n",
      "pressure\n",
      "cloudcover\n"
     ]
    }
   ],
   "source": [
    "print(data_merged.columns)\n",
    "\n",
    "for column in data_merged.columns:\n",
    "    print(column)"
   ]
  },
  {
   "cell_type": "code",
   "execution_count": 47,
   "id": "8e662cef",
   "metadata": {},
   "outputs": [
    {
     "ename": "ValueError",
     "evalue": "Found array with 0 sample(s) (shape=(0, 853)) while a minimum of 1 is required.",
     "output_type": "error",
     "traceback": [
      "\u001b[0;31m---------------------------------------------------------------------------\u001b[0m",
      "\u001b[0;31mValueError\u001b[0m                                Traceback (most recent call last)",
      "\u001b[0;32m/var/folders/5y/jfstwx3n6x5bg_8mdp2wq81w0000gn/T/ipykernel_68856/1816091745.py\u001b[0m in \u001b[0;36m<module>\u001b[0;34m\u001b[0m\n\u001b[0;32m----> 1\u001b[0;31m \u001b[0mmodel\u001b[0m\u001b[0;34m.\u001b[0m\u001b[0mpredict\u001b[0m\u001b[0;34m(\u001b[0m\u001b[0mmerged_df\u001b[0m\u001b[0;34m)\u001b[0m\u001b[0;34m\u001b[0m\u001b[0;34m\u001b[0m\u001b[0m\n\u001b[0m",
      "\u001b[0;32m~/opt/anaconda3/lib/python3.9/site-packages/sklearn/ensemble/_forest.py\u001b[0m in \u001b[0;36mpredict\u001b[0;34m(self, X)\u001b[0m\n\u001b[1;32m    628\u001b[0m             \u001b[0mThe\u001b[0m \u001b[0mpredicted\u001b[0m \u001b[0mclasses\u001b[0m\u001b[0;34m.\u001b[0m\u001b[0;34m\u001b[0m\u001b[0;34m\u001b[0m\u001b[0m\n\u001b[1;32m    629\u001b[0m         \"\"\"\n\u001b[0;32m--> 630\u001b[0;31m         \u001b[0mproba\u001b[0m \u001b[0;34m=\u001b[0m \u001b[0mself\u001b[0m\u001b[0;34m.\u001b[0m\u001b[0mpredict_proba\u001b[0m\u001b[0;34m(\u001b[0m\u001b[0mX\u001b[0m\u001b[0;34m)\u001b[0m\u001b[0;34m\u001b[0m\u001b[0;34m\u001b[0m\u001b[0m\n\u001b[0m\u001b[1;32m    631\u001b[0m \u001b[0;34m\u001b[0m\u001b[0m\n\u001b[1;32m    632\u001b[0m         \u001b[0;32mif\u001b[0m \u001b[0mself\u001b[0m\u001b[0;34m.\u001b[0m\u001b[0mn_outputs_\u001b[0m \u001b[0;34m==\u001b[0m \u001b[0;36m1\u001b[0m\u001b[0;34m:\u001b[0m\u001b[0;34m\u001b[0m\u001b[0;34m\u001b[0m\u001b[0m\n",
      "\u001b[0;32m~/opt/anaconda3/lib/python3.9/site-packages/sklearn/ensemble/_forest.py\u001b[0m in \u001b[0;36mpredict_proba\u001b[0;34m(self, X)\u001b[0m\n\u001b[1;32m    672\u001b[0m         \u001b[0mcheck_is_fitted\u001b[0m\u001b[0;34m(\u001b[0m\u001b[0mself\u001b[0m\u001b[0;34m)\u001b[0m\u001b[0;34m\u001b[0m\u001b[0;34m\u001b[0m\u001b[0m\n\u001b[1;32m    673\u001b[0m         \u001b[0;31m# Check data\u001b[0m\u001b[0;34m\u001b[0m\u001b[0;34m\u001b[0m\u001b[0m\n\u001b[0;32m--> 674\u001b[0;31m         \u001b[0mX\u001b[0m \u001b[0;34m=\u001b[0m \u001b[0mself\u001b[0m\u001b[0;34m.\u001b[0m\u001b[0m_validate_X_predict\u001b[0m\u001b[0;34m(\u001b[0m\u001b[0mX\u001b[0m\u001b[0;34m)\u001b[0m\u001b[0;34m\u001b[0m\u001b[0;34m\u001b[0m\u001b[0m\n\u001b[0m\u001b[1;32m    675\u001b[0m \u001b[0;34m\u001b[0m\u001b[0m\n\u001b[1;32m    676\u001b[0m         \u001b[0;31m# Assign chunk of trees to jobs\u001b[0m\u001b[0;34m\u001b[0m\u001b[0;34m\u001b[0m\u001b[0m\n",
      "\u001b[0;32m~/opt/anaconda3/lib/python3.9/site-packages/sklearn/ensemble/_forest.py\u001b[0m in \u001b[0;36m_validate_X_predict\u001b[0;34m(self, X)\u001b[0m\n\u001b[1;32m    420\u001b[0m         \u001b[0mcheck_is_fitted\u001b[0m\u001b[0;34m(\u001b[0m\u001b[0mself\u001b[0m\u001b[0;34m)\u001b[0m\u001b[0;34m\u001b[0m\u001b[0;34m\u001b[0m\u001b[0m\n\u001b[1;32m    421\u001b[0m \u001b[0;34m\u001b[0m\u001b[0m\n\u001b[0;32m--> 422\u001b[0;31m         \u001b[0;32mreturn\u001b[0m \u001b[0mself\u001b[0m\u001b[0;34m.\u001b[0m\u001b[0mestimators_\u001b[0m\u001b[0;34m[\u001b[0m\u001b[0;36m0\u001b[0m\u001b[0;34m]\u001b[0m\u001b[0;34m.\u001b[0m\u001b[0m_validate_X_predict\u001b[0m\u001b[0;34m(\u001b[0m\u001b[0mX\u001b[0m\u001b[0;34m,\u001b[0m \u001b[0mcheck_input\u001b[0m\u001b[0;34m=\u001b[0m\u001b[0;32mTrue\u001b[0m\u001b[0;34m)\u001b[0m\u001b[0;34m\u001b[0m\u001b[0;34m\u001b[0m\u001b[0m\n\u001b[0m\u001b[1;32m    423\u001b[0m \u001b[0;34m\u001b[0m\u001b[0m\n\u001b[1;32m    424\u001b[0m     \u001b[0;34m@\u001b[0m\u001b[0mproperty\u001b[0m\u001b[0;34m\u001b[0m\u001b[0;34m\u001b[0m\u001b[0m\n",
      "\u001b[0;32m~/opt/anaconda3/lib/python3.9/site-packages/sklearn/tree/_classes.py\u001b[0m in \u001b[0;36m_validate_X_predict\u001b[0;34m(self, X, check_input)\u001b[0m\n\u001b[1;32m    405\u001b[0m         \u001b[0;34m\"\"\"Validate the training data on predict (probabilities).\"\"\"\u001b[0m\u001b[0;34m\u001b[0m\u001b[0;34m\u001b[0m\u001b[0m\n\u001b[1;32m    406\u001b[0m         \u001b[0;32mif\u001b[0m \u001b[0mcheck_input\u001b[0m\u001b[0;34m:\u001b[0m\u001b[0;34m\u001b[0m\u001b[0;34m\u001b[0m\u001b[0m\n\u001b[0;32m--> 407\u001b[0;31m             X = self._validate_data(X, dtype=DTYPE, accept_sparse=\"csr\",\n\u001b[0m\u001b[1;32m    408\u001b[0m                                     reset=False)\n\u001b[1;32m    409\u001b[0m             if issparse(X) and (X.indices.dtype != np.intc or\n",
      "\u001b[0;32m~/opt/anaconda3/lib/python3.9/site-packages/sklearn/base.py\u001b[0m in \u001b[0;36m_validate_data\u001b[0;34m(self, X, y, reset, validate_separately, **check_params)\u001b[0m\n\u001b[1;32m    419\u001b[0m             \u001b[0mout\u001b[0m \u001b[0;34m=\u001b[0m \u001b[0mX\u001b[0m\u001b[0;34m\u001b[0m\u001b[0;34m\u001b[0m\u001b[0m\n\u001b[1;32m    420\u001b[0m         \u001b[0;32melif\u001b[0m \u001b[0misinstance\u001b[0m\u001b[0;34m(\u001b[0m\u001b[0my\u001b[0m\u001b[0;34m,\u001b[0m \u001b[0mstr\u001b[0m\u001b[0;34m)\u001b[0m \u001b[0;32mand\u001b[0m \u001b[0my\u001b[0m \u001b[0;34m==\u001b[0m \u001b[0;34m'no_validation'\u001b[0m\u001b[0;34m:\u001b[0m\u001b[0;34m\u001b[0m\u001b[0;34m\u001b[0m\u001b[0m\n\u001b[0;32m--> 421\u001b[0;31m             \u001b[0mX\u001b[0m \u001b[0;34m=\u001b[0m \u001b[0mcheck_array\u001b[0m\u001b[0;34m(\u001b[0m\u001b[0mX\u001b[0m\u001b[0;34m,\u001b[0m \u001b[0;34m**\u001b[0m\u001b[0mcheck_params\u001b[0m\u001b[0;34m)\u001b[0m\u001b[0;34m\u001b[0m\u001b[0;34m\u001b[0m\u001b[0m\n\u001b[0m\u001b[1;32m    422\u001b[0m             \u001b[0mout\u001b[0m \u001b[0;34m=\u001b[0m \u001b[0mX\u001b[0m\u001b[0;34m\u001b[0m\u001b[0;34m\u001b[0m\u001b[0m\n\u001b[1;32m    423\u001b[0m         \u001b[0;32melse\u001b[0m\u001b[0;34m:\u001b[0m\u001b[0;34m\u001b[0m\u001b[0;34m\u001b[0m\u001b[0m\n",
      "\u001b[0;32m~/opt/anaconda3/lib/python3.9/site-packages/sklearn/utils/validation.py\u001b[0m in \u001b[0;36minner_f\u001b[0;34m(*args, **kwargs)\u001b[0m\n\u001b[1;32m     61\u001b[0m             \u001b[0mextra_args\u001b[0m \u001b[0;34m=\u001b[0m \u001b[0mlen\u001b[0m\u001b[0;34m(\u001b[0m\u001b[0margs\u001b[0m\u001b[0;34m)\u001b[0m \u001b[0;34m-\u001b[0m \u001b[0mlen\u001b[0m\u001b[0;34m(\u001b[0m\u001b[0mall_args\u001b[0m\u001b[0;34m)\u001b[0m\u001b[0;34m\u001b[0m\u001b[0;34m\u001b[0m\u001b[0m\n\u001b[1;32m     62\u001b[0m             \u001b[0;32mif\u001b[0m \u001b[0mextra_args\u001b[0m \u001b[0;34m<=\u001b[0m \u001b[0;36m0\u001b[0m\u001b[0;34m:\u001b[0m\u001b[0;34m\u001b[0m\u001b[0;34m\u001b[0m\u001b[0m\n\u001b[0;32m---> 63\u001b[0;31m                 \u001b[0;32mreturn\u001b[0m \u001b[0mf\u001b[0m\u001b[0;34m(\u001b[0m\u001b[0;34m*\u001b[0m\u001b[0margs\u001b[0m\u001b[0;34m,\u001b[0m \u001b[0;34m**\u001b[0m\u001b[0mkwargs\u001b[0m\u001b[0;34m)\u001b[0m\u001b[0;34m\u001b[0m\u001b[0;34m\u001b[0m\u001b[0m\n\u001b[0m\u001b[1;32m     64\u001b[0m \u001b[0;34m\u001b[0m\u001b[0m\n\u001b[1;32m     65\u001b[0m             \u001b[0;31m# extra_args > 0\u001b[0m\u001b[0;34m\u001b[0m\u001b[0;34m\u001b[0m\u001b[0m\n",
      "\u001b[0;32m~/opt/anaconda3/lib/python3.9/site-packages/sklearn/utils/validation.py\u001b[0m in \u001b[0;36mcheck_array\u001b[0;34m(array, accept_sparse, accept_large_sparse, dtype, order, copy, force_all_finite, ensure_2d, allow_nd, ensure_min_samples, ensure_min_features, estimator)\u001b[0m\n\u001b[1;32m    724\u001b[0m         \u001b[0mn_samples\u001b[0m \u001b[0;34m=\u001b[0m \u001b[0m_num_samples\u001b[0m\u001b[0;34m(\u001b[0m\u001b[0marray\u001b[0m\u001b[0;34m)\u001b[0m\u001b[0;34m\u001b[0m\u001b[0;34m\u001b[0m\u001b[0m\n\u001b[1;32m    725\u001b[0m         \u001b[0;32mif\u001b[0m \u001b[0mn_samples\u001b[0m \u001b[0;34m<\u001b[0m \u001b[0mensure_min_samples\u001b[0m\u001b[0;34m:\u001b[0m\u001b[0;34m\u001b[0m\u001b[0;34m\u001b[0m\u001b[0m\n\u001b[0;32m--> 726\u001b[0;31m             raise ValueError(\"Found array with %d sample(s) (shape=%s) while a\"\n\u001b[0m\u001b[1;32m    727\u001b[0m                              \u001b[0;34m\" minimum of %d is required%s.\"\u001b[0m\u001b[0;34m\u001b[0m\u001b[0;34m\u001b[0m\u001b[0m\n\u001b[1;32m    728\u001b[0m                              % (n_samples, array.shape, ensure_min_samples,\n",
      "\u001b[0;31mValueError\u001b[0m: Found array with 0 sample(s) (shape=(0, 853)) while a minimum of 1 is required."
     ]
    }
   ],
   "source": [
    "model.predict(merged_df)"
   ]
  }
 ],
 "metadata": {
  "kernelspec": {
   "display_name": "Python 3 (ipykernel)",
   "language": "python",
   "name": "python3"
  },
  "language_info": {
   "codemirror_mode": {
    "name": "ipython",
    "version": 3
   },
   "file_extension": ".py",
   "mimetype": "text/x-python",
   "name": "python",
   "nbconvert_exporter": "python",
   "pygments_lexer": "ipython3",
   "version": "3.9.7"
  }
 },
 "nbformat": 4,
 "nbformat_minor": 5
}
