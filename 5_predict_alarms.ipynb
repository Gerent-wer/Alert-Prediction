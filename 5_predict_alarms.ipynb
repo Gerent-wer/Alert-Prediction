{
 "cells": [
  {
   "cell_type": "code",
   "execution_count": 28,
   "id": "1b89555a",
   "metadata": {
    "ExecuteTime": {
     "start_time": "2023-04-27T00:02:01.988970Z",
     "end_time": "2023-04-27T00:02:02.219471Z"
    }
   },
   "outputs": [],
   "source": [
    "# import libraries\n",
    "\n",
    "import datetime\n",
    "import pickle\n",
    "import nltk\n",
    "import re\n",
    "import scipy\n",
    "import pandas as pd\n",
    "from scipy import sparse\n",
    "from bs4 import BeautifulSoup\n",
    "from sklearn.feature_extraction.text import CountVectorizer, TfidfVectorizer\n",
    "from sklearn.feature_extraction.text import TfidfTransformer\n",
    "from utils import get_weather\n",
    "from utils import text_processing"
   ]
  },
  {
   "cell_type": "markdown",
   "source": [
    "### Get and preprocess ISW files"
   ],
   "metadata": {
    "collapsed": false
   }
  },
  {
   "cell_type": "code",
   "execution_count": 29,
   "id": "7cb86e69",
   "metadata": {
    "ExecuteTime": {
     "start_time": "2023-04-27T00:02:02.013027Z",
     "end_time": "2023-04-27T00:02:02.270587Z"
    }
   },
   "outputs": [],
   "source": [
    "# get article from yesterday\n",
    "today = datetime.date.today()\n",
    "yesterday = today - datetime.timedelta(days=1)\n",
    "\n",
    "yesterday_day = yesterday.day\n",
    "yesterday_month = yesterday.month\n",
    "yesterday_year = yesterday.year"
   ]
  },
  {
   "cell_type": "code",
   "execution_count": 30,
   "id": "80028a2b",
   "metadata": {
    "ExecuteTime": {
     "start_time": "2023-04-27T00:02:02.024624Z",
     "end_time": "2023-04-27T00:02:02.703454Z"
    }
   },
   "outputs": [],
   "source": [
    "file = text_processing.get_article_from_yesterday(yesterday_day,yesterday_month,yesterday_year)"
   ]
  },
  {
   "cell_type": "code",
   "execution_count": 31,
   "id": "03f1ec1e",
   "metadata": {
    "ExecuteTime": {
     "start_time": "2023-04-27T00:02:02.700032Z",
     "end_time": "2023-04-27T00:02:02.785070Z"
    }
   },
   "outputs": [],
   "source": [
    "data = text_processing.read_html(file)"
   ]
  },
  {
   "cell_type": "code",
   "execution_count": 32,
   "id": "42911601",
   "metadata": {
    "ExecuteTime": {
     "start_time": "2023-04-27T00:02:02.792591Z",
     "end_time": "2023-04-27T00:02:02.803150Z"
    }
   },
   "outputs": [],
   "source": [
    "def preprocess_all_text(data):\n",
    "    pattern = \"\\[(\\d+)\\]\"\n",
    "    data['main_html_v1'] = data['main_html'].apply(lambda x: re.sub(pattern,\"\",str(x)))\n",
    "    data['main_html_v2'] = data['main_html_v1'].apply(lambda x: re.sub(r'http(\\S+.*\\s)',\"\",x))\n",
    "    data['main_html_v3'] = data['main_html_v2'].apply(lambda x: re.sub(r'2022|2023|©2022|©2023|\\xa0|\\n',\"\",x))\n",
    "    data['main_html_v4'] = data['main_html_v3'].apply(lambda x: BeautifulSoup(x).text)\n",
    "    data['main_html_v5'] = data['main_html_v4'].apply(lambda x: text_processing.remove_names_and_dates(x))\n",
    "    \n",
    "    return data"
   ]
  },
  {
   "cell_type": "code",
   "execution_count": 33,
   "id": "f59f0ab2",
   "metadata": {
    "ExecuteTime": {
     "start_time": "2023-04-27T00:02:02.807155Z",
     "end_time": "2023-04-27T00:02:02.849377Z"
    }
   },
   "outputs": [],
   "source": [
    "data_preprocessed = preprocess_all_text(data)"
   ]
  },
  {
   "cell_type": "code",
   "execution_count": 34,
   "id": "2af6b1be",
   "metadata": {
    "ExecuteTime": {
     "start_time": "2023-04-27T00:02:02.839071Z",
     "end_time": "2023-04-27T00:02:02.850378Z"
    }
   },
   "outputs": [],
   "source": [
    "data_preprocessed = data_preprocessed.drop(['main_html_v1','main_html_v2','main_html_v3','main_html_v4'],axis=1)"
   ]
  },
  {
   "cell_type": "code",
   "execution_count": 35,
   "id": "5129a561",
   "metadata": {
    "ExecuteTime": {
     "start_time": "2023-04-27T00:02:02.853381Z",
     "end_time": "2023-04-27T00:02:02.878686Z"
    }
   },
   "outputs": [
    {
     "name": "stderr",
     "output_type": "stream",
     "text": [
      "[nltk_data] Downloading package stopwords to\n",
      "[nltk_data]     C:\\Users\\dimai\\AppData\\Roaming\\nltk_data...\n",
      "[nltk_data]   Package stopwords is already up-to-date!\n"
     ]
    },
    {
     "data": {
      "text/plain": "True"
     },
     "execution_count": 35,
     "metadata": {},
     "output_type": "execute_result"
    }
   ],
   "source": [
    "nltk.download('stopwords')"
   ]
  },
  {
   "cell_type": "code",
   "execution_count": 36,
   "id": "3abf9546",
   "metadata": {
    "ExecuteTime": {
     "start_time": "2023-04-27T00:02:02.876749Z",
     "end_time": "2023-04-27T00:02:02.937936Z"
    }
   },
   "outputs": [],
   "source": [
    "data_preprocessed['report_text_lemm'] = data_preprocessed['main_html_v5'].apply(lambda x: text_processing.preprocess(x,\"lemm\"))\n",
    "data_preprocessed['report_text_stemm'] = data_preprocessed['main_html_v5'].apply(lambda x: text_processing.preprocess(x,\"stemm\"))"
   ]
  },
  {
   "cell_type": "code",
   "execution_count": 37,
   "id": "92cd8311",
   "metadata": {
    "ExecuteTime": {
     "start_time": "2023-04-27T00:02:02.905803Z",
     "end_time": "2023-04-27T00:02:02.969716Z"
    }
   },
   "outputs": [
    {
     "data": {
      "text/plain": "        date                                          short_url   \n0 2023-04-26  russian_offensive_campaign_assessment_April_26...  \\\n\n                                  title text_title full_url   \n0  404 | Institute for the Study of War        404     /404  \\\n\n                                           main_html   \n0  [[[<h2>We're Sorry. The page you're looking fo...  \\\n\n                                        main_html_v5   \n0  We're Sorry. The page you're looking for wasn'...  \\\n\n                           report_text_lemm   \n0   sorri page look found search formsearch  \\\n\n                          report_text_stemm  \n0   sorri page look found search formsearch  ",
      "text/html": "<div>\n<style scoped>\n    .dataframe tbody tr th:only-of-type {\n        vertical-align: middle;\n    }\n\n    .dataframe tbody tr th {\n        vertical-align: top;\n    }\n\n    .dataframe thead th {\n        text-align: right;\n    }\n</style>\n<table border=\"1\" class=\"dataframe\">\n  <thead>\n    <tr style=\"text-align: right;\">\n      <th></th>\n      <th>date</th>\n      <th>short_url</th>\n      <th>title</th>\n      <th>text_title</th>\n      <th>full_url</th>\n      <th>main_html</th>\n      <th>main_html_v5</th>\n      <th>report_text_lemm</th>\n      <th>report_text_stemm</th>\n    </tr>\n  </thead>\n  <tbody>\n    <tr>\n      <th>0</th>\n      <td>2023-04-26</td>\n      <td>russian_offensive_campaign_assessment_April_26...</td>\n      <td>404 | Institute for the Study of War</td>\n      <td>404</td>\n      <td>/404</td>\n      <td>[[[&lt;h2&gt;We're Sorry. The page you're looking fo...</td>\n      <td>We're Sorry. The page you're looking for wasn'...</td>\n      <td>sorri page look found search formsearch</td>\n      <td>sorri page look found search formsearch</td>\n    </tr>\n  </tbody>\n</table>\n</div>"
     },
     "execution_count": 37,
     "metadata": {},
     "output_type": "execute_result"
    }
   ],
   "source": [
    "data_preprocessed.head()"
   ]
  },
  {
   "cell_type": "code",
   "execution_count": 38,
   "id": "d21b756c",
   "metadata": {
    "ExecuteTime": {
     "start_time": "2023-04-27T00:02:02.943945Z",
     "end_time": "2023-04-27T00:02:02.970712Z"
    }
   },
   "outputs": [],
   "source": [
    "docs = data_preprocessed['report_text_lemm'].tolist()"
   ]
  },
  {
   "cell_type": "markdown",
   "source": [
    "### ISW vectorize"
   ],
   "metadata": {
    "collapsed": false
   }
  },
  {
   "cell_type": "code",
   "execution_count": 39,
   "id": "34b23732",
   "metadata": {
    "ExecuteTime": {
     "start_time": "2023-04-27T00:02:02.971714Z",
     "end_time": "2023-04-27T00:02:03.078124Z"
    }
   },
   "outputs": [],
   "source": [
    "cv = CountVectorizer()\n",
    "word_count_vector = cv.fit_transform(docs)\n",
    "\n",
    "word_count_vector.shape\n",
    "\n",
    "tfidf_transformer = TfidfTransformer(smooth_idf = True, use_idf = True)\n",
    "tfidf_transformer.fit(word_count_vector)\n",
    "\n",
    "tf_idf_vector = tfidf_transformer.transform(word_count_vector)"
   ]
  },
  {
   "cell_type": "code",
   "execution_count": 40,
   "id": "6067ab90",
   "metadata": {
    "ExecuteTime": {
     "start_time": "2023-04-27T00:02:02.990328Z",
     "end_time": "2023-04-27T00:02:03.078124Z"
    }
   },
   "outputs": [
    {
     "data": {
      "text/plain": "<1x6 sparse matrix of type '<class 'numpy.float64'>'\n\twith 6 stored elements in Compressed Sparse Row format>"
     },
     "execution_count": 40,
     "metadata": {},
     "output_type": "execute_result"
    }
   ],
   "source": [
    "tf_idf_vector"
   ]
  },
  {
   "cell_type": "code",
   "execution_count": 41,
   "id": "37b6c871",
   "metadata": {
    "ExecuteTime": {
     "start_time": "2023-04-27T00:02:03.011303Z",
     "end_time": "2023-04-27T00:02:03.079129Z"
    }
   },
   "outputs": [
    {
     "data": {
      "text/plain": "<1x6 sparse matrix of type '<class 'numpy.float64'>'\n\twith 6 stored elements in Compressed Sparse Row format>"
     },
     "execution_count": 41,
     "metadata": {},
     "output_type": "execute_result"
    }
   ],
   "source": [
    "feature_names = cv.get_feature_names_out()\n",
    "tf_idf_vector"
   ]
  },
  {
   "cell_type": "code",
   "execution_count": 42,
   "id": "fab2fc78",
   "metadata": {
    "ExecuteTime": {
     "start_time": "2023-04-27T00:02:03.038990Z",
     "end_time": "2023-04-27T00:02:03.124569Z"
    }
   },
   "outputs": [],
   "source": [
    "data_preprocessed['keywords'] = data_preprocessed['report_text_stemm'].apply(lambda x: text_processing.convert_doc_to_vector(x,feature_names,tf_idf_vector))"
   ]
  },
  {
   "cell_type": "code",
   "execution_count": 43,
   "id": "95ea033d",
   "metadata": {
    "ExecuteTime": {
     "start_time": "2023-04-27T00:02:03.052544Z",
     "end_time": "2023-04-27T00:02:03.141662Z"
    }
   },
   "outputs": [
    {
     "data": {
      "text/plain": "{'sorri': 0.408,\n 'search': 0.408,\n 'page': 0.408,\n 'look': 0.408,\n 'found': 0.408,\n 'formsearch': 0.408}"
     },
     "execution_count": 43,
     "metadata": {},
     "output_type": "execute_result"
    }
   ],
   "source": [
    "data_preprocessed['keywords'][0]"
   ]
  },
  {
   "cell_type": "code",
   "execution_count": 44,
   "id": "bf547746",
   "metadata": {
    "ExecuteTime": {
     "start_time": "2023-04-27T00:02:03.071612Z",
     "end_time": "2023-04-27T00:02:03.282386Z"
    }
   },
   "outputs": [
    {
     "data": {
      "text/plain": "        date                                          short_url   \n0 2023-04-26  russian_offensive_campaign_assessment_April_26...  \\\n\n                                  title text_title full_url   \n0  404 | Institute for the Study of War        404     /404  \\\n\n                                           main_html   \n0  [[[<h2>We're Sorry. The page you're looking fo...  \\\n\n                                        main_html_v5   \n0  We're Sorry. The page you're looking for wasn'...  \\\n\n                           report_text_lemm   \n0   sorri page look found search formsearch  \\\n\n                          report_text_stemm   \n0   sorri page look found search formsearch  \\\n\n                                            keywords  \n0  {'sorri': 0.408, 'search': 0.408, 'page': 0.40...  ",
      "text/html": "<div>\n<style scoped>\n    .dataframe tbody tr th:only-of-type {\n        vertical-align: middle;\n    }\n\n    .dataframe tbody tr th {\n        vertical-align: top;\n    }\n\n    .dataframe thead th {\n        text-align: right;\n    }\n</style>\n<table border=\"1\" class=\"dataframe\">\n  <thead>\n    <tr style=\"text-align: right;\">\n      <th></th>\n      <th>date</th>\n      <th>short_url</th>\n      <th>title</th>\n      <th>text_title</th>\n      <th>full_url</th>\n      <th>main_html</th>\n      <th>main_html_v5</th>\n      <th>report_text_lemm</th>\n      <th>report_text_stemm</th>\n      <th>keywords</th>\n    </tr>\n  </thead>\n  <tbody>\n    <tr>\n      <th>0</th>\n      <td>2023-04-26</td>\n      <td>russian_offensive_campaign_assessment_April_26...</td>\n      <td>404 | Institute for the Study of War</td>\n      <td>404</td>\n      <td>/404</td>\n      <td>[[[&lt;h2&gt;We're Sorry. The page you're looking fo...</td>\n      <td>We're Sorry. The page you're looking for wasn'...</td>\n      <td>sorri page look found search formsearch</td>\n      <td>sorri page look found search formsearch</td>\n      <td>{'sorri': 0.408, 'search': 0.408, 'page': 0.40...</td>\n    </tr>\n  </tbody>\n</table>\n</div>"
     },
     "execution_count": 44,
     "metadata": {},
     "output_type": "execute_result"
    }
   ],
   "source": [
    "data_preprocessed.head()"
   ]
  },
  {
   "cell_type": "markdown",
   "id": "e2d4c886",
   "metadata": {},
   "source": [
    "#### Part of script: Final preprocessing"
   ]
  },
  {
   "cell_type": "code",
   "execution_count": 45,
   "id": "f151948d",
   "metadata": {
    "ExecuteTime": {
     "start_time": "2023-04-27T00:02:03.117553Z",
     "end_time": "2023-04-27T00:02:03.314008Z"
    }
   },
   "outputs": [],
   "source": [
    "data_preprocessed[\"date_datetime\"] = pd.to_datetime(data_preprocessed[\"date\"])\n",
    "data_preprocessed['date_tomorrow_datetime'] = data_preprocessed['date_datetime'].apply(lambda x: x+datetime.timedelta(days=1))\n",
    "data_preprocessed = data_preprocessed.rename(columns = {\"date_datetime\":\"report_date\"})"
   ]
  },
  {
   "cell_type": "code",
   "execution_count": 46,
   "id": "a1a31caa",
   "metadata": {
    "ExecuteTime": {
     "start_time": "2023-04-27T00:02:03.153272Z",
     "end_time": "2023-04-27T00:02:03.316011Z"
    }
   },
   "outputs": [
    {
     "data": {
      "text/plain": "        date                                          short_url   \n0 2023-04-26  russian_offensive_campaign_assessment_April_26...  \\\n\n                                  title text_title full_url   \n0  404 | Institute for the Study of War        404     /404  \\\n\n                                           main_html   \n0  [[[<h2>We're Sorry. The page you're looking fo...  \\\n\n                                        main_html_v5   \n0  We're Sorry. The page you're looking for wasn'...  \\\n\n                           report_text_lemm   \n0   sorri page look found search formsearch  \\\n\n                          report_text_stemm   \n0   sorri page look found search formsearch  \\\n\n                                            keywords report_date   \n0  {'sorri': 0.408, 'search': 0.408, 'page': 0.40...  2023-04-26  \\\n\n  date_tomorrow_datetime  \n0             2023-04-27  ",
      "text/html": "<div>\n<style scoped>\n    .dataframe tbody tr th:only-of-type {\n        vertical-align: middle;\n    }\n\n    .dataframe tbody tr th {\n        vertical-align: top;\n    }\n\n    .dataframe thead th {\n        text-align: right;\n    }\n</style>\n<table border=\"1\" class=\"dataframe\">\n  <thead>\n    <tr style=\"text-align: right;\">\n      <th></th>\n      <th>date</th>\n      <th>short_url</th>\n      <th>title</th>\n      <th>text_title</th>\n      <th>full_url</th>\n      <th>main_html</th>\n      <th>main_html_v5</th>\n      <th>report_text_lemm</th>\n      <th>report_text_stemm</th>\n      <th>keywords</th>\n      <th>report_date</th>\n      <th>date_tomorrow_datetime</th>\n    </tr>\n  </thead>\n  <tbody>\n    <tr>\n      <th>0</th>\n      <td>2023-04-26</td>\n      <td>russian_offensive_campaign_assessment_April_26...</td>\n      <td>404 | Institute for the Study of War</td>\n      <td>404</td>\n      <td>/404</td>\n      <td>[[[&lt;h2&gt;We're Sorry. The page you're looking fo...</td>\n      <td>We're Sorry. The page you're looking for wasn'...</td>\n      <td>sorri page look found search formsearch</td>\n      <td>sorri page look found search formsearch</td>\n      <td>{'sorri': 0.408, 'search': 0.408, 'page': 0.40...</td>\n      <td>2023-04-26</td>\n      <td>2023-04-27</td>\n    </tr>\n  </tbody>\n</table>\n</div>"
     },
     "execution_count": 46,
     "metadata": {},
     "output_type": "execute_result"
    }
   ],
   "source": [
    "data_preprocessed.head()"
   ]
  },
  {
   "cell_type": "code",
   "execution_count": 47,
   "id": "72ff12f6",
   "metadata": {
    "ExecuteTime": {
     "start_time": "2023-04-27T00:02:03.180940Z",
     "end_time": "2023-04-27T00:02:03.317010Z"
    }
   },
   "outputs": [],
   "source": [
    "data_vectorised = tf_idf_vector.toarray()\n",
    "vectors_df = pd.DataFrame(data_vectorised)\n",
    "vectors_df['date'] = pd.to_datetime(today)\n"
   ]
  },
  {
   "cell_type": "code",
   "execution_count": 48,
   "id": "2e66d70b",
   "metadata": {
    "ExecuteTime": {
     "start_time": "2023-04-27T00:02:03.196991Z",
     "end_time": "2023-04-27T00:02:03.317521Z"
    }
   },
   "outputs": [
    {
     "data": {
      "text/plain": "          0         1         2         3         4         5       date\n0  0.408248  0.408248  0.408248  0.408248  0.408248  0.408248 2023-04-27",
      "text/html": "<div>\n<style scoped>\n    .dataframe tbody tr th:only-of-type {\n        vertical-align: middle;\n    }\n\n    .dataframe tbody tr th {\n        vertical-align: top;\n    }\n\n    .dataframe thead th {\n        text-align: right;\n    }\n</style>\n<table border=\"1\" class=\"dataframe\">\n  <thead>\n    <tr style=\"text-align: right;\">\n      <th></th>\n      <th>0</th>\n      <th>1</th>\n      <th>2</th>\n      <th>3</th>\n      <th>4</th>\n      <th>5</th>\n      <th>date</th>\n    </tr>\n  </thead>\n  <tbody>\n    <tr>\n      <th>0</th>\n      <td>0.408248</td>\n      <td>0.408248</td>\n      <td>0.408248</td>\n      <td>0.408248</td>\n      <td>0.408248</td>\n      <td>0.408248</td>\n      <td>2023-04-27</td>\n    </tr>\n  </tbody>\n</table>\n</div>"
     },
     "execution_count": 48,
     "metadata": {},
     "output_type": "execute_result"
    }
   ],
   "source": [
    "vectors_df.head()"
   ]
  },
  {
   "cell_type": "code",
   "execution_count": 49,
   "id": "223b25d3",
   "metadata": {
    "ExecuteTime": {
     "start_time": "2023-04-27T00:02:03.233697Z",
     "end_time": "2023-04-27T00:02:03.317521Z"
    }
   },
   "outputs": [],
   "source": [
    "df_isw_short = data_preprocessed[['date','report_text_lemm','keywords','date_tomorrow_datetime']]"
   ]
  },
  {
   "cell_type": "code",
   "execution_count": 50,
   "outputs": [
    {
     "data": {
      "text/plain": "        date                          report_text_lemm   \n0 2023-04-26   sorri page look found search formsearch  \\\n\n                                            keywords date_tomorrow_datetime  \n0  {'sorri': 0.408, 'search': 0.408, 'page': 0.40...             2023-04-27  ",
      "text/html": "<div>\n<style scoped>\n    .dataframe tbody tr th:only-of-type {\n        vertical-align: middle;\n    }\n\n    .dataframe tbody tr th {\n        vertical-align: top;\n    }\n\n    .dataframe thead th {\n        text-align: right;\n    }\n</style>\n<table border=\"1\" class=\"dataframe\">\n  <thead>\n    <tr style=\"text-align: right;\">\n      <th></th>\n      <th>date</th>\n      <th>report_text_lemm</th>\n      <th>keywords</th>\n      <th>date_tomorrow_datetime</th>\n    </tr>\n  </thead>\n  <tbody>\n    <tr>\n      <th>0</th>\n      <td>2023-04-26</td>\n      <td>sorri page look found search formsearch</td>\n      <td>{'sorri': 0.408, 'search': 0.408, 'page': 0.40...</td>\n      <td>2023-04-27</td>\n    </tr>\n  </tbody>\n</table>\n</div>"
     },
     "execution_count": 50,
     "metadata": {},
     "output_type": "execute_result"
    }
   ],
   "source": [
    "df_isw_short.head()"
   ],
   "metadata": {
    "collapsed": false,
    "ExecuteTime": {
     "start_time": "2023-04-27T00:02:03.257261Z",
     "end_time": "2023-04-27T00:02:03.319545Z"
    }
   }
  },
  {
   "cell_type": "markdown",
   "source": [
    "### Predict"
   ],
   "metadata": {
    "collapsed": false
   }
  },
  {
   "cell_type": "code",
   "execution_count": null,
   "id": "5db9d5fe",
   "metadata": {
    "ExecuteTime": {
     "start_time": "2023-04-27T00:01:18.004795Z",
     "end_time": "2023-04-27T00:01:25.754636Z"
    }
   },
   "outputs": [],
   "source": [
    "tfidf = pickle.load(open(\"models/tfidf_transformer_v1.pkl\",\"rb\"))\n",
    "cv = pickle.load(open(\"models/count_vectorizer_v1.pkl\",\"rb\"))\n",
    "model = pickle.load(open(\"models/training_models/4_rf_3.1f.pkl\",\"rb\"))\n",
    "\n",
    "tfidf_vector = scipy.sparse.load_npz('data/matrix/tfidf_vector_train.npz')"
   ]
  },
  {
   "cell_type": "code",
   "execution_count": null,
   "id": "434a4f1e",
   "metadata": {},
   "outputs": [],
   "source": [
    "cities = ['Крим','Вінниччина','Волинь','Дніпропетровщина','Донеччина','Житомирщина','Закарпаття', 'Запоріжжя',\n",
    "          'Івано-Франківщина','Київщина','Кіровоградщина','Луганщина','Львівщина','Миколаївщина','Одещина','Полтавщина',\n",
    "          'Рівненщина','Сумщина','Тернопільщина','Харківщина','Херсонщина','Хмельниччина','Черкащина',\n",
    "          'Буковина','Чернігівщина']\n",
    "\n",
    "date = today = datetime.date.today()\n",
    "result = {}\n",
    "for city in cities:\n",
    "\n",
    "    df_weather_final = get_weather.get_weather_for_12_hours(city,date)\n",
    "\n",
    "    # merge\n",
    "    df_weather_final['key']=1\n",
    "    df_isw_short['key']=1\n",
    "    df_all = df_weather_final.merge(df_isw_short, how = 'left', left_on = 'key', right_on = 'key')\n",
    "\n",
    "    # drop\n",
    "    to_drop=['key','date','date_tomorrow_datetime','keywords','report_text_lemm']\n",
    "    if 'sunrise' in df_all.columns:\n",
    "        exceptions = ['sunset','sunrise']\n",
    "        to_drop.extend(exceptions)\n",
    "    df_weather_matrix_v1 = df_all.drop(to_drop, axis = 1)\n",
    "\n",
    "    # final dataset\n",
    "    df_weather_matrix_v1= df_weather_matrix_v1[['day_tempmax', 'day_tempmin', 'day_temp', 'day_dew', 'day_humidity',\n",
    "           'day_precip', 'day_precipcover', 'day_solarradiation',\n",
    "           'day_solarenergy', 'day_uvindex', 'hour_temp', 'hour_humidity',\n",
    "           'hour_dew', 'hour_precip', 'hour_precipprob', 'hour_snow',\n",
    "           'hour_snowdepth', 'hour_windgust', 'hour_windspeed', 'hour_winddir',\n",
    "           'hour_pressure', 'hour_visibility', 'hour_cloudcover',\n",
    "           'hour_solarradiation', 'hour_uvindex', 'hour_severerisk','region_id','hour_datetimeEpoch']]\n",
    "\n",
    "    cv_vector_model = cv.transform(df_all['report_text_lemm'].values.astype('U'))\n",
    "    #TF_IDF_MODEL = tfidf.transform(cv_vector_model)\n",
    "\n",
    "    df_weather_matrix_v1_csr = scipy.sparse.csr_matrix(df_weather_matrix_v1)\n",
    "    df_all_data_csr = scipy.sparse.hstack((df_weather_matrix_v1_csr, tfidf_vector), format='csr')\n",
    "\n",
    "    #predict\n",
    "    predicted = model.predict(df_all_data_csr)\n",
    "    current_time = pd.Timestamp.now()\n",
    "\n",
    "    hours = []\n",
    "    for i in range(12):\n",
    "        hour = current_time + datetime.timedelta(hours=i)\n",
    "        hours.append(hour) \n",
    "\n",
    "    result[city] = dict(zip(hours, predicted))\n",
    "    "
   ]
  },
  {
   "cell_type": "code",
   "execution_count": null,
   "id": "9fe15298",
   "metadata": {},
   "outputs": [],
   "source": [
    "result"
   ]
  },
  {
   "cell_type": "code",
   "execution_count": null,
   "id": "aeb3219e",
   "metadata": {},
   "outputs": [],
   "source": [
    "result = pd.DataFrame(result)\n",
    "result.to_csv('results.txt', sep='\\t', index=False)"
   ]
  }
 ],
 "metadata": {
  "kernelspec": {
   "display_name": "Python 3 (ipykernel)",
   "language": "python",
   "name": "python3"
  },
  "language_info": {
   "codemirror_mode": {
    "name": "ipython",
    "version": 3
   },
   "file_extension": ".py",
   "mimetype": "text/x-python",
   "name": "python",
   "nbconvert_exporter": "python",
   "pygments_lexer": "ipython3",
   "version": "3.9.7"
  }
 },
 "nbformat": 4,
 "nbformat_minor": 5
}
