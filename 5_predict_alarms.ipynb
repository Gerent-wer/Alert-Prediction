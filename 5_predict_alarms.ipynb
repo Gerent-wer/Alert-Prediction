{
 "cells": [
  {
   "cell_type": "code",
   "execution_count": 1,
   "id": "1b89555a",
   "metadata": {
    "ExecuteTime": {
     "end_time": "2023-04-26T22:18:58.106753Z",
     "start_time": "2023-04-26T22:18:55.280091Z"
    }
   },
   "outputs": [],
   "source": [
    "# import libraries\n",
    "\n",
    "from utils import text_processing\n",
    "from utils import get_weather\n",
    "import datetime\n",
    "\n",
    "import requests\n",
    "\n",
    "import pandas as pd\n",
    "\n",
    "from bs4 import BeautifulSoup\n",
    "\n",
    "import re\n",
    "\n",
    "import nltk\n",
    "import os\n",
    "import string\n",
    "import numpy as np\n",
    "import copy \n",
    "import pickle\n",
    "import re\n",
    "import math\n",
    "\n",
    "from sklearn.feature_extraction.text import CountVectorizer, TfidfVectorizer\n",
    "from sklearn.feature_extraction.text import TfidfTransformer\n",
    "\n",
    "\n",
    "\n",
    "import pandas as pd\n",
    "\n",
    "import scipy\n",
    "from scipy import sparse\n",
    "\n",
    "import numpy as np\n",
    "from sklearn.model_selection import TimeSeriesSplit\n",
    "\n",
    "import pickle"
   ]
  },
  {
   "cell_type": "code",
   "execution_count": 2,
   "id": "7cb86e69",
   "metadata": {
    "ExecuteTime": {
     "end_time": "2023-04-26T22:18:58.122849Z",
     "start_time": "2023-04-26T22:18:58.114323Z"
    }
   },
   "outputs": [],
   "source": [
    "# get article from yesterday\n",
    "\n",
    "#https://understandingwar.org/backgrounder/russian-offensive-campaign-assessment-april-23-2023\n",
    "\n",
    "today = datetime.date.today()\n",
    "yesterday = today - datetime.timedelta(days=1)\n",
    "\n",
    "yesterday_day = yesterday.day\n",
    "yesterday_month = yesterday.month\n",
    "yesterday_year = yesterday.year\n"
   ]
  },
  {
   "cell_type": "code",
   "execution_count": 3,
   "id": "80028a2b",
   "metadata": {
    "ExecuteTime": {
     "end_time": "2023-04-26T22:18:58.843528Z",
     "start_time": "2023-04-26T22:18:58.126862Z"
    }
   },
   "outputs": [],
   "source": [
    "file = text_processing.get_article_from_yesterday(yesterday_day,yesterday_month,yesterday_year)"
   ]
  },
  {
   "cell_type": "code",
   "execution_count": 4,
   "id": "03f1ec1e",
   "metadata": {
    "ExecuteTime": {
     "end_time": "2023-04-26T22:18:58.949011Z",
     "start_time": "2023-04-26T22:18:58.844986Z"
    }
   },
   "outputs": [],
   "source": [
    "data = text_processing.read_html(file)"
   ]
  },
  {
   "cell_type": "code",
   "execution_count": 5,
   "id": "41d5933d",
   "metadata": {
    "ExecuteTime": {
     "end_time": "2023-04-26T22:18:58.965065Z",
     "start_time": "2023-04-26T22:18:58.954020Z"
    }
   },
   "outputs": [],
   "source": [
    "#pd.set_option('display.max_colwidth', None)\n",
    "#pd.set_option('display.max_rows', None)"
   ]
  },
  {
   "cell_type": "code",
   "execution_count": 6,
   "id": "42911601",
   "metadata": {
    "ExecuteTime": {
     "end_time": "2023-04-26T22:18:59.008567Z",
     "start_time": "2023-04-26T22:18:58.970581Z"
    }
   },
   "outputs": [],
   "source": [
    "def preprocess_all_text(data):\n",
    "    pattern = \"\\[(\\d+)\\]\"\n",
    "\n",
    "\n",
    "    data['main_html_v1'] = data['main_html'].apply(lambda x: re.sub(pattern,\"\",str(x)))\n",
    "    data['main_html_v2'] = data['main_html_v1'].apply(lambda x: re.sub(r'http(\\S+.*\\s)',\"\",x))\n",
    "    data['main_html_v3'] = data['main_html_v2'].apply(lambda x: re.sub(r'2022|2023|©2022|©2023|\\xa0|\\n',\"\",x))\n",
    "\n",
    "    data['main_html_v4'] = data['main_html_v3'].apply(lambda x: BeautifulSoup(x).text)\n",
    "    \n",
    "    data['main_html_v5'] = data['main_html_v4'].apply(lambda x: text_processing.remove_names_and_dates(x))\n",
    "    \n",
    "    return data"
   ]
  },
  {
   "cell_type": "code",
   "execution_count": 7,
   "id": "f59f0ab2",
   "metadata": {
    "ExecuteTime": {
     "end_time": "2023-04-26T22:18:59.105291Z",
     "start_time": "2023-04-26T22:18:58.984961Z"
    }
   },
   "outputs": [],
   "source": [
    "data_preprocessed = preprocess_all_text(data)"
   ]
  },
  {
   "cell_type": "code",
   "execution_count": 8,
   "id": "d94c9cc9",
   "metadata": {
    "ExecuteTime": {
     "end_time": "2023-04-26T22:18:59.128880Z",
     "start_time": "2023-04-26T22:18:59.112817Z"
    }
   },
   "outputs": [],
   "source": [
    "#data_preprocessed.head()"
   ]
  },
  {
   "cell_type": "code",
   "execution_count": 9,
   "id": "2af6b1be",
   "metadata": {
    "ExecuteTime": {
     "end_time": "2023-04-26T22:18:59.161055Z",
     "start_time": "2023-04-26T22:18:59.126359Z"
    }
   },
   "outputs": [],
   "source": [
    "data_preprocessed = data_preprocessed.drop(['main_html_v1','main_html_v2','main_html_v3','main_html_v4'],axis=1)"
   ]
  },
  {
   "cell_type": "code",
   "execution_count": 10,
   "id": "5129a561",
   "metadata": {
    "ExecuteTime": {
     "end_time": "2023-04-26T22:18:59.440834Z",
     "start_time": "2023-04-26T22:18:59.136878Z"
    }
   },
   "outputs": [
    {
     "name": "stderr",
     "output_type": "stream",
     "text": [
      "[nltk_data] Downloading package stopwords to\n",
      "[nltk_data]     /Users/nikita_voitishyn/nltk_data...\n",
      "[nltk_data]   Package stopwords is already up-to-date!\n"
     ]
    },
    {
     "data": {
      "text/plain": [
       "True"
      ]
     },
     "execution_count": 10,
     "metadata": {},
     "output_type": "execute_result"
    }
   ],
   "source": [
    "nltk.download('stopwords')\n"
   ]
  },
  {
   "cell_type": "code",
   "execution_count": 11,
   "id": "3abf9546",
   "metadata": {
    "ExecuteTime": {
     "end_time": "2023-04-26T22:19:02.182949Z",
     "start_time": "2023-04-26T22:18:59.442827Z"
    }
   },
   "outputs": [],
   "source": [
    "data_preprocessed['report_text_lemm'] = data_preprocessed['main_html_v5'].apply(lambda x: text_processing.preprocess(x,\"lemm\"))\n",
    "data_preprocessed['report_text_stemm'] = data_preprocessed['main_html_v5'].apply(lambda x: text_processing.preprocess(x,\"stemm\"))"
   ]
  },
  {
   "cell_type": "code",
   "execution_count": 12,
   "id": "92cd8311",
   "metadata": {
    "ExecuteTime": {
     "end_time": "2023-04-26T22:19:02.285621Z",
     "start_time": "2023-04-26T22:19:02.188482Z"
    }
   },
   "outputs": [
    {
     "data": {
      "text/html": [
       "<div>\n",
       "<style scoped>\n",
       "    .dataframe tbody tr th:only-of-type {\n",
       "        vertical-align: middle;\n",
       "    }\n",
       "\n",
       "    .dataframe tbody tr th {\n",
       "        vertical-align: top;\n",
       "    }\n",
       "\n",
       "    .dataframe thead th {\n",
       "        text-align: right;\n",
       "    }\n",
       "</style>\n",
       "<table border=\"1\" class=\"dataframe\">\n",
       "  <thead>\n",
       "    <tr style=\"text-align: right;\">\n",
       "      <th></th>\n",
       "      <th>date</th>\n",
       "      <th>short_url</th>\n",
       "      <th>title</th>\n",
       "      <th>text_title</th>\n",
       "      <th>full_url</th>\n",
       "      <th>main_html</th>\n",
       "      <th>main_html_v5</th>\n",
       "      <th>report_text_lemm</th>\n",
       "      <th>report_text_stemm</th>\n",
       "    </tr>\n",
       "  </thead>\n",
       "  <tbody>\n",
       "    <tr>\n",
       "      <th>0</th>\n",
       "      <td>2023-04-25</td>\n",
       "      <td>russian_offensive_campaign_assessment_April_25...</td>\n",
       "      <td>Russian Offensive Campaign Assessment, April 2...</td>\n",
       "      <td>Russian Offensive Campaign Assessment, April 2...</td>\n",
       "      <td>/backgrounder/russian-offensive-campaign-asses...</td>\n",
       "      <td>[[[ , &lt;p align=\"center\" style=\"text-align: lef...</td>\n",
       "      <td>Russian Offensive Campaign Assessment, April ...</td>\n",
       "      <td>russian offens campaign ass april twenty five...</td>\n",
       "      <td>russian offen campaign assess april twenti fi...</td>\n",
       "    </tr>\n",
       "  </tbody>\n",
       "</table>\n",
       "</div>"
      ],
      "text/plain": [
       "        date                                          short_url  \\\n",
       "0 2023-04-25  russian_offensive_campaign_assessment_April_25...   \n",
       "\n",
       "                                               title  \\\n",
       "0  Russian Offensive Campaign Assessment, April 2...   \n",
       "\n",
       "                                          text_title  \\\n",
       "0  Russian Offensive Campaign Assessment, April 2...   \n",
       "\n",
       "                                            full_url  \\\n",
       "0  /backgrounder/russian-offensive-campaign-asses...   \n",
       "\n",
       "                                           main_html  \\\n",
       "0  [[[ , <p align=\"center\" style=\"text-align: lef...   \n",
       "\n",
       "                                        main_html_v5  \\\n",
       "0   Russian Offensive Campaign Assessment, April ...   \n",
       "\n",
       "                                    report_text_lemm  \\\n",
       "0   russian offens campaign ass april twenty five...   \n",
       "\n",
       "                                   report_text_stemm  \n",
       "0   russian offen campaign assess april twenti fi...  "
      ]
     },
     "execution_count": 12,
     "metadata": {},
     "output_type": "execute_result"
    }
   ],
   "source": [
    "data_preprocessed.head()"
   ]
  },
  {
   "cell_type": "code",
   "execution_count": 13,
   "id": "d21b756c",
   "metadata": {
    "ExecuteTime": {
     "end_time": "2023-04-26T22:19:02.455042Z",
     "start_time": "2023-04-26T22:19:02.289162Z"
    }
   },
   "outputs": [],
   "source": [
    "docs = data_preprocessed['report_text_lemm'].tolist()"
   ]
  },
  {
   "cell_type": "code",
   "execution_count": 14,
   "id": "dce417b7",
   "metadata": {
    "ExecuteTime": {
     "end_time": "2023-04-26T22:19:02.511058Z",
     "start_time": "2023-04-26T22:19:02.336643Z"
    }
   },
   "outputs": [],
   "source": [
    "#tfidf = pickle.load(open(\"models/tfidf_transformer_v1.pkl\",\"rb\"))\n",
    "#cv = pickle.load(open(\"models/count_vectorizer_v1.pkl\",\"rb\"))"
   ]
  },
  {
   "cell_type": "code",
   "execution_count": 15,
   "id": "34b23732",
   "metadata": {
    "ExecuteTime": {
     "end_time": "2023-04-26T22:19:02.576256Z",
     "start_time": "2023-04-26T22:19:02.374376Z"
    }
   },
   "outputs": [],
   "source": [
    "# CountVectorizer + tfidf:create a vecror with numbers\n",
    "\n",
    "cv = CountVectorizer()\n",
    "word_count_vector = cv.fit_transform(docs)\n",
    "\n",
    "word_count_vector.shape\n",
    "\n",
    "tfidf_transformer = TfidfTransformer(smooth_idf = True, use_idf = True)\n",
    "tfidf_transformer.fit(word_count_vector)\n",
    "\n",
    "tf_idf_vector = tfidf_transformer.transform(word_count_vector)\n",
    "\n",
    "#<340x7401 sparse matrix of type '<class 'numpy.float64'>'\n",
    "#\twith 213470 stored elements in Compressed Sparse Row format>"
   ]
  },
  {
   "cell_type": "code",
   "execution_count": 16,
   "id": "6067ab90",
   "metadata": {
    "ExecuteTime": {
     "end_time": "2023-04-26T22:19:02.597953Z",
     "start_time": "2023-04-26T22:19:02.401007Z"
    }
   },
   "outputs": [
    {
     "data": {
      "text/plain": [
       "<1x840 sparse matrix of type '<class 'numpy.float64'>'\n",
       "\twith 840 stored elements in Compressed Sparse Row format>"
      ]
     },
     "execution_count": 16,
     "metadata": {},
     "output_type": "execute_result"
    }
   ],
   "source": [
    "tf_idf_vector"
   ]
  },
  {
   "cell_type": "code",
   "execution_count": 17,
   "id": "37b6c871",
   "metadata": {
    "ExecuteTime": {
     "end_time": "2023-04-26T22:19:02.600890Z",
     "start_time": "2023-04-26T22:19:02.430309Z"
    }
   },
   "outputs": [
    {
     "data": {
      "text/plain": [
       "<1x840 sparse matrix of type '<class 'numpy.float64'>'\n",
       "\twith 840 stored elements in Compressed Sparse Row format>"
      ]
     },
     "execution_count": 17,
     "metadata": {},
     "output_type": "execute_result"
    }
   ],
   "source": [
    "feature_names = cv.get_feature_names()\n",
    "tf_idf_vector"
   ]
  },
  {
   "cell_type": "code",
   "execution_count": 18,
   "id": "fab2fc78",
   "metadata": {
    "ExecuteTime": {
     "end_time": "2023-04-26T22:19:02.869840Z",
     "start_time": "2023-04-26T22:19:02.463467Z"
    }
   },
   "outputs": [],
   "source": [
    "data_preprocessed['keywords'] = data_preprocessed['report_text_stemm'].apply(lambda x: text_processing.convert_doc_to_vector(x,feature_names,tf_idf_vector))"
   ]
  },
  {
   "cell_type": "code",
   "execution_count": 19,
   "id": "95ea033d",
   "metadata": {
    "ExecuteTime": {
     "end_time": "2023-04-26T22:19:02.884493Z",
     "start_time": "2023-04-26T22:19:02.498502Z"
    }
   },
   "outputs": [
    {
     "data": {
      "text/plain": [
       "{'russian': 0.708,\n",
       " 'forc': 0.275,\n",
       " 'ukrainian': 0.245,\n",
       " 'twenty': 0.168,\n",
       " 'april': 0.153,\n",
       " 'claim': 0.132,\n",
       " 'militari': 0.127,\n",
       " 'five': 0.122,\n",
       " 'report': 0.107,\n",
       " 'two': 0.092}"
      ]
     },
     "execution_count": 19,
     "metadata": {},
     "output_type": "execute_result"
    }
   ],
   "source": [
    "data_preprocessed['keywords'][0]"
   ]
  },
  {
   "cell_type": "code",
   "execution_count": 20,
   "id": "bf547746",
   "metadata": {
    "ExecuteTime": {
     "end_time": "2023-04-26T22:19:02.915859Z",
     "start_time": "2023-04-26T22:19:02.539881Z"
    }
   },
   "outputs": [
    {
     "data": {
      "text/html": [
       "<div>\n",
       "<style scoped>\n",
       "    .dataframe tbody tr th:only-of-type {\n",
       "        vertical-align: middle;\n",
       "    }\n",
       "\n",
       "    .dataframe tbody tr th {\n",
       "        vertical-align: top;\n",
       "    }\n",
       "\n",
       "    .dataframe thead th {\n",
       "        text-align: right;\n",
       "    }\n",
       "</style>\n",
       "<table border=\"1\" class=\"dataframe\">\n",
       "  <thead>\n",
       "    <tr style=\"text-align: right;\">\n",
       "      <th></th>\n",
       "      <th>date</th>\n",
       "      <th>short_url</th>\n",
       "      <th>title</th>\n",
       "      <th>text_title</th>\n",
       "      <th>full_url</th>\n",
       "      <th>main_html</th>\n",
       "      <th>main_html_v5</th>\n",
       "      <th>report_text_lemm</th>\n",
       "      <th>report_text_stemm</th>\n",
       "      <th>keywords</th>\n",
       "    </tr>\n",
       "  </thead>\n",
       "  <tbody>\n",
       "    <tr>\n",
       "      <th>0</th>\n",
       "      <td>2023-04-25</td>\n",
       "      <td>russian_offensive_campaign_assessment_April_25...</td>\n",
       "      <td>Russian Offensive Campaign Assessment, April 2...</td>\n",
       "      <td>Russian Offensive Campaign Assessment, April 2...</td>\n",
       "      <td>/backgrounder/russian-offensive-campaign-asses...</td>\n",
       "      <td>[[[ , &lt;p align=\"center\" style=\"text-align: lef...</td>\n",
       "      <td>Russian Offensive Campaign Assessment, April ...</td>\n",
       "      <td>russian offens campaign ass april twenty five...</td>\n",
       "      <td>russian offen campaign assess april twenti fi...</td>\n",
       "      <td>{'russian': 0.708, 'forc': 0.275, 'ukrainian':...</td>\n",
       "    </tr>\n",
       "  </tbody>\n",
       "</table>\n",
       "</div>"
      ],
      "text/plain": [
       "        date                                          short_url  \\\n",
       "0 2023-04-25  russian_offensive_campaign_assessment_April_25...   \n",
       "\n",
       "                                               title  \\\n",
       "0  Russian Offensive Campaign Assessment, April 2...   \n",
       "\n",
       "                                          text_title  \\\n",
       "0  Russian Offensive Campaign Assessment, April 2...   \n",
       "\n",
       "                                            full_url  \\\n",
       "0  /backgrounder/russian-offensive-campaign-asses...   \n",
       "\n",
       "                                           main_html  \\\n",
       "0  [[[ , <p align=\"center\" style=\"text-align: lef...   \n",
       "\n",
       "                                        main_html_v5  \\\n",
       "0   Russian Offensive Campaign Assessment, April ...   \n",
       "\n",
       "                                    report_text_lemm  \\\n",
       "0   russian offens campaign ass april twenty five...   \n",
       "\n",
       "                                   report_text_stemm  \\\n",
       "0   russian offen campaign assess april twenti fi...   \n",
       "\n",
       "                                            keywords  \n",
       "0  {'russian': 0.708, 'forc': 0.275, 'ukrainian':...  "
      ]
     },
     "execution_count": 20,
     "metadata": {},
     "output_type": "execute_result"
    }
   ],
   "source": [
    "data_preprocessed.head()"
   ]
  },
  {
   "cell_type": "markdown",
   "id": "e2d4c886",
   "metadata": {},
   "source": [
    "#### Part of scropt: 3_final_preprocess"
   ]
  },
  {
   "cell_type": "code",
   "execution_count": 21,
   "id": "f151948d",
   "metadata": {
    "ExecuteTime": {
     "end_time": "2023-04-26T22:19:02.916858Z",
     "start_time": "2023-04-26T22:19:02.629573Z"
    }
   },
   "outputs": [],
   "source": [
    "data_preprocessed[\"date_datetime\"] = pd.to_datetime(data_preprocessed[\"date\"])\n",
    "data_preprocessed['date_tomorrow_datetime'] = data_preprocessed['date_datetime'].apply(lambda x: x+datetime.timedelta(days=1))\n",
    "data_preprocessed = data_preprocessed.rename(columns = {\"date_datetime\":\"report_date\"})"
   ]
  },
  {
   "cell_type": "code",
   "execution_count": 22,
   "id": "a1a31caa",
   "metadata": {
    "ExecuteTime": {
     "end_time": "2023-04-26T22:19:02.919939Z",
     "start_time": "2023-04-26T22:19:02.676327Z"
    }
   },
   "outputs": [
    {
     "data": {
      "text/html": [
       "<div>\n",
       "<style scoped>\n",
       "    .dataframe tbody tr th:only-of-type {\n",
       "        vertical-align: middle;\n",
       "    }\n",
       "\n",
       "    .dataframe tbody tr th {\n",
       "        vertical-align: top;\n",
       "    }\n",
       "\n",
       "    .dataframe thead th {\n",
       "        text-align: right;\n",
       "    }\n",
       "</style>\n",
       "<table border=\"1\" class=\"dataframe\">\n",
       "  <thead>\n",
       "    <tr style=\"text-align: right;\">\n",
       "      <th></th>\n",
       "      <th>date</th>\n",
       "      <th>short_url</th>\n",
       "      <th>title</th>\n",
       "      <th>text_title</th>\n",
       "      <th>full_url</th>\n",
       "      <th>main_html</th>\n",
       "      <th>main_html_v5</th>\n",
       "      <th>report_text_lemm</th>\n",
       "      <th>report_text_stemm</th>\n",
       "      <th>keywords</th>\n",
       "      <th>report_date</th>\n",
       "      <th>date_tomorrow_datetime</th>\n",
       "    </tr>\n",
       "  </thead>\n",
       "  <tbody>\n",
       "    <tr>\n",
       "      <th>0</th>\n",
       "      <td>2023-04-25</td>\n",
       "      <td>russian_offensive_campaign_assessment_April_25...</td>\n",
       "      <td>Russian Offensive Campaign Assessment, April 2...</td>\n",
       "      <td>Russian Offensive Campaign Assessment, April 2...</td>\n",
       "      <td>/backgrounder/russian-offensive-campaign-asses...</td>\n",
       "      <td>[[[ , &lt;p align=\"center\" style=\"text-align: lef...</td>\n",
       "      <td>Russian Offensive Campaign Assessment, April ...</td>\n",
       "      <td>russian offens campaign ass april twenty five...</td>\n",
       "      <td>russian offen campaign assess april twenti fi...</td>\n",
       "      <td>{'russian': 0.708, 'forc': 0.275, 'ukrainian':...</td>\n",
       "      <td>2023-04-25</td>\n",
       "      <td>2023-04-26</td>\n",
       "    </tr>\n",
       "  </tbody>\n",
       "</table>\n",
       "</div>"
      ],
      "text/plain": [
       "        date                                          short_url  \\\n",
       "0 2023-04-25  russian_offensive_campaign_assessment_April_25...   \n",
       "\n",
       "                                               title  \\\n",
       "0  Russian Offensive Campaign Assessment, April 2...   \n",
       "\n",
       "                                          text_title  \\\n",
       "0  Russian Offensive Campaign Assessment, April 2...   \n",
       "\n",
       "                                            full_url  \\\n",
       "0  /backgrounder/russian-offensive-campaign-asses...   \n",
       "\n",
       "                                           main_html  \\\n",
       "0  [[[ , <p align=\"center\" style=\"text-align: lef...   \n",
       "\n",
       "                                        main_html_v5  \\\n",
       "0   Russian Offensive Campaign Assessment, April ...   \n",
       "\n",
       "                                    report_text_lemm  \\\n",
       "0   russian offens campaign ass april twenty five...   \n",
       "\n",
       "                                   report_text_stemm  \\\n",
       "0   russian offen campaign assess april twenti fi...   \n",
       "\n",
       "                                            keywords report_date  \\\n",
       "0  {'russian': 0.708, 'forc': 0.275, 'ukrainian':...  2023-04-25   \n",
       "\n",
       "  date_tomorrow_datetime  \n",
       "0             2023-04-26  "
      ]
     },
     "execution_count": 22,
     "metadata": {},
     "output_type": "execute_result"
    }
   ],
   "source": [
    "data_preprocessed.head()"
   ]
  },
  {
   "cell_type": "code",
   "execution_count": 23,
   "id": "637f2486",
   "metadata": {
    "ExecuteTime": {
     "end_time": "2023-04-26T22:19:02.921963Z",
     "start_time": "2023-04-26T22:19:02.770134Z"
    }
   },
   "outputs": [],
   "source": [
    "#data_preprocesdf_isw_short = data_preprocessed[['date','date_tomorrow_datetime','keywords','report_text_lemm']]"
   ]
  },
  {
   "cell_type": "code",
   "execution_count": 24,
   "id": "72ff12f6",
   "metadata": {
    "ExecuteTime": {
     "end_time": "2023-04-26T22:19:03.004350Z",
     "start_time": "2023-04-26T22:19:02.792261Z"
    }
   },
   "outputs": [],
   "source": [
    "data_vectorised = tf_idf_vector.toarray()\n",
    "vectors_df = pd.DataFrame(data_vectorised)\n",
    "vectors_df['date'] = pd.to_datetime(today)\n"
   ]
  },
  {
   "cell_type": "code",
   "execution_count": 25,
   "id": "2e66d70b",
   "metadata": {
    "ExecuteTime": {
     "end_time": "2023-04-26T22:19:03.307667Z",
     "start_time": "2023-04-26T22:19:02.833643Z"
    }
   },
   "outputs": [
    {
     "data": {
      "text/html": [
       "<div>\n",
       "<style scoped>\n",
       "    .dataframe tbody tr th:only-of-type {\n",
       "        vertical-align: middle;\n",
       "    }\n",
       "\n",
       "    .dataframe tbody tr th {\n",
       "        vertical-align: top;\n",
       "    }\n",
       "\n",
       "    .dataframe thead th {\n",
       "        text-align: right;\n",
       "    }\n",
       "</style>\n",
       "<table border=\"1\" class=\"dataframe\">\n",
       "  <thead>\n",
       "    <tr style=\"text-align: right;\">\n",
       "      <th></th>\n",
       "      <th>0</th>\n",
       "      <th>1</th>\n",
       "      <th>2</th>\n",
       "      <th>3</th>\n",
       "      <th>4</th>\n",
       "      <th>5</th>\n",
       "      <th>6</th>\n",
       "      <th>7</th>\n",
       "      <th>8</th>\n",
       "      <th>9</th>\n",
       "      <th>...</th>\n",
       "      <th>831</th>\n",
       "      <th>832</th>\n",
       "      <th>833</th>\n",
       "      <th>834</th>\n",
       "      <th>835</th>\n",
       "      <th>836</th>\n",
       "      <th>837</th>\n",
       "      <th>838</th>\n",
       "      <th>839</th>\n",
       "      <th>date</th>\n",
       "    </tr>\n",
       "  </thead>\n",
       "  <tbody>\n",
       "    <tr>\n",
       "      <th>0</th>\n",
       "      <td>0.005094</td>\n",
       "      <td>0.005094</td>\n",
       "      <td>0.015281</td>\n",
       "      <td>0.005094</td>\n",
       "      <td>0.005094</td>\n",
       "      <td>0.005094</td>\n",
       "      <td>0.010188</td>\n",
       "      <td>0.005094</td>\n",
       "      <td>0.010188</td>\n",
       "      <td>0.005094</td>\n",
       "      <td>...</td>\n",
       "      <td>0.005094</td>\n",
       "      <td>0.030563</td>\n",
       "      <td>0.005094</td>\n",
       "      <td>0.015281</td>\n",
       "      <td>0.015281</td>\n",
       "      <td>0.005094</td>\n",
       "      <td>0.010188</td>\n",
       "      <td>0.005094</td>\n",
       "      <td>0.025469</td>\n",
       "      <td>2023-04-26</td>\n",
       "    </tr>\n",
       "  </tbody>\n",
       "</table>\n",
       "<p>1 rows × 841 columns</p>\n",
       "</div>"
      ],
      "text/plain": [
       "          0         1         2         3         4         5         6  \\\n",
       "0  0.005094  0.005094  0.015281  0.005094  0.005094  0.005094  0.010188   \n",
       "\n",
       "          7         8         9  ...       831       832       833       834  \\\n",
       "0  0.005094  0.010188  0.005094  ...  0.005094  0.030563  0.005094  0.015281   \n",
       "\n",
       "        835       836       837       838       839       date  \n",
       "0  0.015281  0.005094  0.010188  0.005094  0.025469 2023-04-26  \n",
       "\n",
       "[1 rows x 841 columns]"
      ]
     },
     "execution_count": 25,
     "metadata": {},
     "output_type": "execute_result"
    }
   ],
   "source": [
    "vectors_df.head()"
   ]
  },
  {
   "cell_type": "code",
   "execution_count": null,
   "id": "1f894c9b",
   "metadata": {
    "ExecuteTime": {
     "end_time": "2023-04-26T22:19:03.307667Z",
     "start_time": "2023-04-26T22:19:02.926959Z"
    }
   },
   "outputs": [],
   "source": []
  },
  {
   "cell_type": "code",
   "execution_count": 26,
   "id": "223b25d3",
   "metadata": {
    "ExecuteTime": {
     "end_time": "2023-04-26T22:19:03.308688Z",
     "start_time": "2023-04-26T22:19:02.943055Z"
    }
   },
   "outputs": [],
   "source": [
    "df_isw_short = data_preprocessed[['date','report_text_lemm','keywords','date_tomorrow_datetime']]"
   ]
  },
  {
   "cell_type": "code",
   "execution_count": 27,
   "id": "f24b0e6c",
   "metadata": {
    "ExecuteTime": {
     "end_time": "2023-04-26T22:19:03.312712Z",
     "start_time": "2023-04-26T22:19:03.008905Z"
    }
   },
   "outputs": [
    {
     "data": {
      "text/html": [
       "<div>\n",
       "<style scoped>\n",
       "    .dataframe tbody tr th:only-of-type {\n",
       "        vertical-align: middle;\n",
       "    }\n",
       "\n",
       "    .dataframe tbody tr th {\n",
       "        vertical-align: top;\n",
       "    }\n",
       "\n",
       "    .dataframe thead th {\n",
       "        text-align: right;\n",
       "    }\n",
       "</style>\n",
       "<table border=\"1\" class=\"dataframe\">\n",
       "  <thead>\n",
       "    <tr style=\"text-align: right;\">\n",
       "      <th></th>\n",
       "      <th>date</th>\n",
       "      <th>report_text_lemm</th>\n",
       "      <th>keywords</th>\n",
       "      <th>date_tomorrow_datetime</th>\n",
       "    </tr>\n",
       "  </thead>\n",
       "  <tbody>\n",
       "    <tr>\n",
       "      <th>0</th>\n",
       "      <td>2023-04-25</td>\n",
       "      <td>russian offens campaign ass april twenty five...</td>\n",
       "      <td>{'russian': 0.708, 'forc': 0.275, 'ukrainian':...</td>\n",
       "      <td>2023-04-26</td>\n",
       "    </tr>\n",
       "  </tbody>\n",
       "</table>\n",
       "</div>"
      ],
      "text/plain": [
       "        date                                   report_text_lemm  \\\n",
       "0 2023-04-25   russian offens campaign ass april twenty five...   \n",
       "\n",
       "                                            keywords date_tomorrow_datetime  \n",
       "0  {'russian': 0.708, 'forc': 0.275, 'ukrainian':...             2023-04-26  "
      ]
     },
     "execution_count": 27,
     "metadata": {},
     "output_type": "execute_result"
    }
   ],
   "source": [
    "df_isw_short.head()"
   ]
  },
  {
   "cell_type": "code",
   "execution_count": 28,
   "id": "5db9d5fe",
   "metadata": {
    "ExecuteTime": {
     "end_time": "2023-04-26T22:19:17.720806Z",
     "start_time": "2023-04-26T22:19:03.070999Z"
    }
   },
   "outputs": [],
   "source": [
    "tfidf = pickle.load(open(\"models/tfidf_transformer_v1.pkl\",\"rb\"))\n",
    "cv = pickle.load(open(\"models/count_vectorizer_v1.pkl\",\"rb\"))\n",
    "\n",
    "#Uncommit if you want to load exist matrix\n",
    "tfidf_vector = scipy.sparse.load_npz('data/matrix/tfidf_vector_train.npz')"
   ]
  },
  {
   "cell_type": "code",
   "execution_count": 29,
   "id": "4b66c3cd",
   "metadata": {
    "ExecuteTime": {
     "end_time": "2023-04-26T22:19:17.816512Z",
     "start_time": "2023-04-26T22:19:17.733567Z"
    }
   },
   "outputs": [],
   "source": [
    "import pytz"
   ]
  },
  {
   "cell_type": "code",
   "execution_count": 30,
   "id": "926f851c",
   "metadata": {
    "ExecuteTime": {
     "end_time": "2023-04-26T22:19:20.090699Z",
     "start_time": "2023-04-26T22:19:17.763632Z"
    },
    "scrolled": true
   },
   "outputs": [
    {
     "name": "stderr",
     "output_type": "stream",
     "text": [
      "/Users/nikita_voitishyn/opt/anaconda3/lib/python3.9/site-packages/sklearn/base.py:310: UserWarning: Trying to unpickle estimator DecisionTreeClassifier from version 1.2.2 when using version 0.24.2. This might lead to breaking code or invalid results. Use at your own risk.\n",
      "  warnings.warn(\n",
      "/Users/nikita_voitishyn/opt/anaconda3/lib/python3.9/site-packages/sklearn/base.py:310: UserWarning: Trying to unpickle estimator RandomForestClassifier from version 1.2.2 when using version 0.24.2. This might lead to breaking code or invalid results. Use at your own risk.\n",
      "  warnings.warn(\n"
     ]
    }
   ],
   "source": [
    "model = pickle.load(open(\"models/4_rf_3.1f.pkl\",\"rb\"))"
   ]
  },
  {
   "cell_type": "code",
   "execution_count": 31,
   "id": "2375d3f6",
   "metadata": {},
   "outputs": [
    {
     "data": {
      "text/plain": [
       "<1x840 sparse matrix of type '<class 'numpy.float64'>'\n",
       "\twith 840 stored elements in Compressed Sparse Row format>"
      ]
     },
     "execution_count": 31,
     "metadata": {},
     "output_type": "execute_result"
    }
   ],
   "source": [
    "tf_idf_vector"
   ]
  },
  {
   "cell_type": "code",
   "execution_count": 37,
   "id": "434a4f1e",
   "metadata": {},
   "outputs": [
    {
     "name": "stdout",
     "output_type": "stream",
     "text": [
      "Weather data for the \n",
      "region Крим; \n",
      "start_date 2023-04-26; \n",
      "end_date 2023-04-26; \n",
      "is ready\n"
     ]
    },
    {
     "name": "stderr",
     "output_type": "stream",
     "text": [
      "/var/folders/5y/jfstwx3n6x5bg_8mdp2wq81w0000gn/T/ipykernel_99197/3939247321.py:17: SettingWithCopyWarning: \n",
      "A value is trying to be set on a copy of a slice from a DataFrame.\n",
      "Try using .loc[row_indexer,col_indexer] = value instead\n",
      "\n",
      "See the caveats in the documentation: https://pandas.pydata.org/pandas-docs/stable/user_guide/indexing.html#returning-a-view-versus-a-copy\n",
      "  df_isw_short['key']=1\n"
     ]
    },
    {
     "name": "stdout",
     "output_type": "stream",
     "text": [
      "Weather data for the \n",
      "region Вінниччина; \n",
      "start_date 2023-04-26; \n",
      "end_date 2023-04-26; \n",
      "is ready\n",
      "Weather data for the \n",
      "region Волинь; \n",
      "start_date 2023-04-26; \n",
      "end_date 2023-04-26; \n",
      "is ready\n",
      "Weather data for the \n",
      "region Дніпропетровщина; \n",
      "start_date 2023-04-26; \n",
      "end_date 2023-04-26; \n",
      "is ready\n",
      "Weather data for the \n",
      "region Донеччина; \n",
      "start_date 2023-04-26; \n",
      "end_date 2023-04-26; \n",
      "is ready\n",
      "Weather data for the \n",
      "region Житомирщина; \n",
      "start_date 2023-04-26; \n",
      "end_date 2023-04-26; \n",
      "is ready\n",
      "Weather data for the \n",
      "region Закарпаття; \n",
      "start_date 2023-04-26; \n",
      "end_date 2023-04-26; \n",
      "is ready\n",
      "Weather data for the \n",
      "region Запоріжжя; \n",
      "start_date 2023-04-26; \n",
      "end_date 2023-04-26; \n",
      "is ready\n",
      "Weather data for the \n",
      "region Івано-Франківщина; \n",
      "start_date 2023-04-26; \n",
      "end_date 2023-04-26; \n",
      "is ready\n",
      "Weather data for the \n",
      "region Київщина; \n",
      "start_date 2023-04-26; \n",
      "end_date 2023-04-26; \n",
      "is ready\n",
      "Weather data for the \n",
      "region Кіровоградщина; \n",
      "start_date 2023-04-26; \n",
      "end_date 2023-04-26; \n",
      "is ready\n",
      "Weather data for the \n",
      "region Луганщина; \n",
      "start_date 2023-04-26; \n",
      "end_date 2023-04-26; \n",
      "is ready\n",
      "Weather data for the \n",
      "region Львівщина; \n",
      "start_date 2023-04-26; \n",
      "end_date 2023-04-26; \n",
      "is ready\n",
      "Weather data for the \n",
      "region Миколаївщина; \n",
      "start_date 2023-04-26; \n",
      "end_date 2023-04-26; \n",
      "is ready\n",
      "Weather data for the \n",
      "region Одещина; \n",
      "start_date 2023-04-26; \n",
      "end_date 2023-04-26; \n",
      "is ready\n",
      "Weather data for the \n",
      "region Полтавщина; \n",
      "start_date 2023-04-26; \n",
      "end_date 2023-04-26; \n",
      "is ready\n",
      "Weather data for the \n",
      "region Рівненщина; \n",
      "start_date 2023-04-26; \n",
      "end_date 2023-04-26; \n",
      "is ready\n",
      "Weather data for the \n",
      "region Сумщина; \n",
      "start_date 2023-04-26; \n",
      "end_date 2023-04-26; \n",
      "is ready\n",
      "Weather data for the \n",
      "region Тернопільщина; \n",
      "start_date 2023-04-26; \n",
      "end_date 2023-04-26; \n",
      "is ready\n",
      "Weather data for the \n",
      "region Харківщина; \n",
      "start_date 2023-04-26; \n",
      "end_date 2023-04-26; \n",
      "is ready\n",
      "Weather data for the \n",
      "region Херсонщина; \n",
      "start_date 2023-04-26; \n",
      "end_date 2023-04-26; \n",
      "is ready\n",
      "Weather data for the \n",
      "region Хмельниччина; \n",
      "start_date 2023-04-26; \n",
      "end_date 2023-04-26; \n",
      "is ready\n",
      "Weather data for the \n",
      "region Черкащина; \n",
      "start_date 2023-04-26; \n",
      "end_date 2023-04-26; \n",
      "is ready\n",
      "Weather data for the \n",
      "region Буковина; \n",
      "start_date 2023-04-26; \n",
      "end_date 2023-04-26; \n",
      "is ready\n",
      "Weather data for the \n",
      "region Чернігівщина; \n",
      "start_date 2023-04-26; \n",
      "end_date 2023-04-26; \n",
      "is ready\n"
     ]
    }
   ],
   "source": [
    "cities = ['Крим','Вінниччина','Волинь','Дніпропетровщина','Донеччина','Житомирщина','Закарпаття', 'Запоріжжя',\n",
    "          'Івано-Франківщина','Київщина','Кіровоградщина','Луганщина','Львівщина','Миколаївщина','Одещина','Полтавщина',\n",
    "          'Рівненщина','Сумщина','Тернопільщина','Харківщина','Херсонщина','Хмельниччина','Черкащина',\n",
    "          'Буковина','Чернігівщина']\n",
    "\n",
    "# date = datetime.date.today()\n",
    "date = today = datetime.date.today()\n",
    "result = {}\n",
    "for city in cities:\n",
    "\n",
    "    \n",
    "    df_weather_final = get_weather.get_weather_for_12_hours(city,date)\n",
    "    \n",
    "    \n",
    "\n",
    "    df_weather_final['key']=1\n",
    "    df_isw_short['key']=1\n",
    "    \n",
    "    df_all = df_weather_final.merge(df_isw_short, how = 'left', left_on = 'key', right_on = 'key')\n",
    "\n",
    "    to_drop=['key','date','date_tomorrow_datetime','keywords','report_text_lemm']\n",
    "\n",
    "    if 'sunrise' in df_all.columns:\n",
    "        exceptions = ['sunset','sunrise']\n",
    "        to_drop.extend(exceptions)\n",
    "\n",
    "    df_weather_matrix_v1 = df_all.drop(to_drop, axis = 1)\n",
    "    df_weather_matrix_v1= df_weather_matrix_v1[['day_tempmax', 'day_tempmin', 'day_temp', 'day_dew', 'day_humidity',\n",
    "           'day_precip', 'day_precipcover', 'day_solarradiation',\n",
    "           'day_solarenergy', 'day_uvindex', 'hour_temp', 'hour_humidity',\n",
    "           'hour_dew', 'hour_precip', 'hour_precipprob', 'hour_snow',\n",
    "           'hour_snowdepth', 'hour_windgust', 'hour_windspeed', 'hour_winddir',\n",
    "           'hour_pressure', 'hour_visibility', 'hour_cloudcover',\n",
    "           'hour_solarradiation', 'hour_uvindex', 'hour_severerisk','region_id','hour_datetimeEpoch']]\n",
    "    #df_weather_matrix_v1.fillna(0, inplace=True)\n",
    "    \n",
    "    cv_vector_model = cv.transform(df_all['report_text_lemm'].values.astype('U'))\n",
    "    #TF_IDF_MODEL = tfidf.transform(cv_vector_model)\n",
    "\n",
    "    df_weather_matrix_v1_csr = scipy.sparse.csr_matrix(df_weather_matrix_v1)\n",
    "    df_all_data_csr = scipy.sparse.hstack((df_weather_matrix_v1_csr, tfidf_vector), format='csr')\n",
    "    \n",
    "    \n",
    "    #predict\n",
    "    predicted = model.predict(df_all_data_csr)\n",
    "    \n",
    "    current_time = pd.Timestamp.now()\n",
    "\n",
    "    hours = []\n",
    "    for i in range(12):\n",
    "        hour = current_time + datetime.timedelta(hours=i)\n",
    "        hours.append(hour) \n",
    "    \n",
    "        \n",
    "    result[city] = dict(zip(hours, predicted))\n",
    "    \n",
    "    \n",
    "    "
   ]
  },
  {
   "cell_type": "code",
   "execution_count": 38,
   "id": "9fe15298",
   "metadata": {},
   "outputs": [
    {
     "data": {
      "text/plain": [
       "{'Крим': {Timestamp('2023-04-26 22:25:31.526357'): 0,\n",
       "  Timestamp('2023-04-26 23:25:31.526357'): 0,\n",
       "  Timestamp('2023-04-27 00:25:31.526357'): 0,\n",
       "  Timestamp('2023-04-27 01:25:31.526357'): 0,\n",
       "  Timestamp('2023-04-27 02:25:31.526357'): 0,\n",
       "  Timestamp('2023-04-27 03:25:31.526357'): 0,\n",
       "  Timestamp('2023-04-27 04:25:31.526357'): 0,\n",
       "  Timestamp('2023-04-27 05:25:31.526357'): 0,\n",
       "  Timestamp('2023-04-27 06:25:31.526357'): 0,\n",
       "  Timestamp('2023-04-27 07:25:31.526357'): 0,\n",
       "  Timestamp('2023-04-27 08:25:31.526357'): 0,\n",
       "  Timestamp('2023-04-27 09:25:31.526357'): 0},\n",
       " 'Вінниччина': {Timestamp('2023-04-26 22:25:53.597775'): 0,\n",
       "  Timestamp('2023-04-26 23:25:53.597775'): 0,\n",
       "  Timestamp('2023-04-27 00:25:53.597775'): 0,\n",
       "  Timestamp('2023-04-27 01:25:53.597775'): 0,\n",
       "  Timestamp('2023-04-27 02:25:53.597775'): 0,\n",
       "  Timestamp('2023-04-27 03:25:53.597775'): 0,\n",
       "  Timestamp('2023-04-27 04:25:53.597775'): 0,\n",
       "  Timestamp('2023-04-27 05:25:53.597775'): 0,\n",
       "  Timestamp('2023-04-27 06:25:53.597775'): 0,\n",
       "  Timestamp('2023-04-27 07:25:53.597775'): 0,\n",
       "  Timestamp('2023-04-27 08:25:53.597775'): 0,\n",
       "  Timestamp('2023-04-27 09:25:53.597775'): 0},\n",
       " 'Волинь': {Timestamp('2023-04-26 22:26:14.844578'): 0,\n",
       "  Timestamp('2023-04-26 23:26:14.844578'): 0,\n",
       "  Timestamp('2023-04-27 00:26:14.844578'): 0,\n",
       "  Timestamp('2023-04-27 01:26:14.844578'): 0,\n",
       "  Timestamp('2023-04-27 02:26:14.844578'): 0,\n",
       "  Timestamp('2023-04-27 03:26:14.844578'): 0,\n",
       "  Timestamp('2023-04-27 04:26:14.844578'): 0,\n",
       "  Timestamp('2023-04-27 05:26:14.844578'): 0,\n",
       "  Timestamp('2023-04-27 06:26:14.844578'): 0,\n",
       "  Timestamp('2023-04-27 07:26:14.844578'): 0,\n",
       "  Timestamp('2023-04-27 08:26:14.844578'): 0,\n",
       "  Timestamp('2023-04-27 09:26:14.844578'): 0},\n",
       " 'Дніпропетровщина': {Timestamp('2023-04-26 22:26:37.029631'): 0,\n",
       "  Timestamp('2023-04-26 23:26:37.029631'): 0,\n",
       "  Timestamp('2023-04-27 00:26:37.029631'): 0,\n",
       "  Timestamp('2023-04-27 01:26:37.029631'): 0,\n",
       "  Timestamp('2023-04-27 02:26:37.029631'): 0,\n",
       "  Timestamp('2023-04-27 03:26:37.029631'): 0,\n",
       "  Timestamp('2023-04-27 04:26:37.029631'): 0,\n",
       "  Timestamp('2023-04-27 05:26:37.029631'): 0,\n",
       "  Timestamp('2023-04-27 06:26:37.029631'): 0,\n",
       "  Timestamp('2023-04-27 07:26:37.029631'): 0,\n",
       "  Timestamp('2023-04-27 08:26:37.029631'): 0,\n",
       "  Timestamp('2023-04-27 09:26:37.029631'): 0},\n",
       " 'Донеччина': {Timestamp('2023-04-26 22:26:59.366145'): 0,\n",
       "  Timestamp('2023-04-26 23:26:59.366145'): 0,\n",
       "  Timestamp('2023-04-27 00:26:59.366145'): 0,\n",
       "  Timestamp('2023-04-27 01:26:59.366145'): 0,\n",
       "  Timestamp('2023-04-27 02:26:59.366145'): 0,\n",
       "  Timestamp('2023-04-27 03:26:59.366145'): 0,\n",
       "  Timestamp('2023-04-27 04:26:59.366145'): 0,\n",
       "  Timestamp('2023-04-27 05:26:59.366145'): 0,\n",
       "  Timestamp('2023-04-27 06:26:59.366145'): 0,\n",
       "  Timestamp('2023-04-27 07:26:59.366145'): 0,\n",
       "  Timestamp('2023-04-27 08:26:59.366145'): 0,\n",
       "  Timestamp('2023-04-27 09:26:59.366145'): 0},\n",
       " 'Житомирщина': {Timestamp('2023-04-26 22:27:21.782981'): 0,\n",
       "  Timestamp('2023-04-26 23:27:21.782981'): 0,\n",
       "  Timestamp('2023-04-27 00:27:21.782981'): 0,\n",
       "  Timestamp('2023-04-27 01:27:21.782981'): 0,\n",
       "  Timestamp('2023-04-27 02:27:21.782981'): 0,\n",
       "  Timestamp('2023-04-27 03:27:21.782981'): 0,\n",
       "  Timestamp('2023-04-27 04:27:21.782981'): 0,\n",
       "  Timestamp('2023-04-27 05:27:21.782981'): 0,\n",
       "  Timestamp('2023-04-27 06:27:21.782981'): 0,\n",
       "  Timestamp('2023-04-27 07:27:21.782981'): 0,\n",
       "  Timestamp('2023-04-27 08:27:21.782981'): 0,\n",
       "  Timestamp('2023-04-27 09:27:21.782981'): 0},\n",
       " 'Закарпаття': {Timestamp('2023-04-26 22:27:43.598384'): 0,\n",
       "  Timestamp('2023-04-26 23:27:43.598384'): 0,\n",
       "  Timestamp('2023-04-27 00:27:43.598384'): 0,\n",
       "  Timestamp('2023-04-27 01:27:43.598384'): 0,\n",
       "  Timestamp('2023-04-27 02:27:43.598384'): 0,\n",
       "  Timestamp('2023-04-27 03:27:43.598384'): 0,\n",
       "  Timestamp('2023-04-27 04:27:43.598384'): 0,\n",
       "  Timestamp('2023-04-27 05:27:43.598384'): 0,\n",
       "  Timestamp('2023-04-27 06:27:43.598384'): 0,\n",
       "  Timestamp('2023-04-27 07:27:43.598384'): 0,\n",
       "  Timestamp('2023-04-27 08:27:43.598384'): 0,\n",
       "  Timestamp('2023-04-27 09:27:43.598384'): 0},\n",
       " 'Запоріжжя': {Timestamp('2023-04-26 22:28:05.774592'): 0,\n",
       "  Timestamp('2023-04-26 23:28:05.774592'): 0,\n",
       "  Timestamp('2023-04-27 00:28:05.774592'): 0,\n",
       "  Timestamp('2023-04-27 01:28:05.774592'): 0,\n",
       "  Timestamp('2023-04-27 02:28:05.774592'): 0,\n",
       "  Timestamp('2023-04-27 03:28:05.774592'): 0,\n",
       "  Timestamp('2023-04-27 04:28:05.774592'): 0,\n",
       "  Timestamp('2023-04-27 05:28:05.774592'): 0,\n",
       "  Timestamp('2023-04-27 06:28:05.774592'): 0,\n",
       "  Timestamp('2023-04-27 07:28:05.774592'): 0,\n",
       "  Timestamp('2023-04-27 08:28:05.774592'): 0,\n",
       "  Timestamp('2023-04-27 09:28:05.774592'): 0},\n",
       " 'Івано-Франківщина': {Timestamp('2023-04-26 22:28:28.328775'): 0,\n",
       "  Timestamp('2023-04-26 23:28:28.328775'): 0,\n",
       "  Timestamp('2023-04-27 00:28:28.328775'): 0,\n",
       "  Timestamp('2023-04-27 01:28:28.328775'): 0,\n",
       "  Timestamp('2023-04-27 02:28:28.328775'): 0,\n",
       "  Timestamp('2023-04-27 03:28:28.328775'): 0,\n",
       "  Timestamp('2023-04-27 04:28:28.328775'): 0,\n",
       "  Timestamp('2023-04-27 05:28:28.328775'): 0,\n",
       "  Timestamp('2023-04-27 06:28:28.328775'): 0,\n",
       "  Timestamp('2023-04-27 07:28:28.328775'): 0,\n",
       "  Timestamp('2023-04-27 08:28:28.328775'): 0,\n",
       "  Timestamp('2023-04-27 09:28:28.328775'): 0},\n",
       " 'Київщина': {Timestamp('2023-04-26 22:28:50.469908'): 0,\n",
       "  Timestamp('2023-04-26 23:28:50.469908'): 0,\n",
       "  Timestamp('2023-04-27 00:28:50.469908'): 0,\n",
       "  Timestamp('2023-04-27 01:28:50.469908'): 0,\n",
       "  Timestamp('2023-04-27 02:28:50.469908'): 0,\n",
       "  Timestamp('2023-04-27 03:28:50.469908'): 0,\n",
       "  Timestamp('2023-04-27 04:28:50.469908'): 0,\n",
       "  Timestamp('2023-04-27 05:28:50.469908'): 0,\n",
       "  Timestamp('2023-04-27 06:28:50.469908'): 0,\n",
       "  Timestamp('2023-04-27 07:28:50.469908'): 0,\n",
       "  Timestamp('2023-04-27 08:28:50.469908'): 0,\n",
       "  Timestamp('2023-04-27 09:28:50.469908'): 0},\n",
       " 'Кіровоградщина': {Timestamp('2023-04-26 22:29:12.009069'): 0,\n",
       "  Timestamp('2023-04-26 23:29:12.009069'): 0,\n",
       "  Timestamp('2023-04-27 00:29:12.009069'): 0,\n",
       "  Timestamp('2023-04-27 01:29:12.009069'): 0,\n",
       "  Timestamp('2023-04-27 02:29:12.009069'): 0,\n",
       "  Timestamp('2023-04-27 03:29:12.009069'): 0,\n",
       "  Timestamp('2023-04-27 04:29:12.009069'): 0,\n",
       "  Timestamp('2023-04-27 05:29:12.009069'): 0,\n",
       "  Timestamp('2023-04-27 06:29:12.009069'): 0,\n",
       "  Timestamp('2023-04-27 07:29:12.009069'): 0,\n",
       "  Timestamp('2023-04-27 08:29:12.009069'): 0,\n",
       "  Timestamp('2023-04-27 09:29:12.009069'): 0},\n",
       " 'Луганщина': {Timestamp('2023-04-26 22:29:34.566815'): 0,\n",
       "  Timestamp('2023-04-26 23:29:34.566815'): 0,\n",
       "  Timestamp('2023-04-27 00:29:34.566815'): 0,\n",
       "  Timestamp('2023-04-27 01:29:34.566815'): 0,\n",
       "  Timestamp('2023-04-27 02:29:34.566815'): 0,\n",
       "  Timestamp('2023-04-27 03:29:34.566815'): 0,\n",
       "  Timestamp('2023-04-27 04:29:34.566815'): 0,\n",
       "  Timestamp('2023-04-27 05:29:34.566815'): 0,\n",
       "  Timestamp('2023-04-27 06:29:34.566815'): 0,\n",
       "  Timestamp('2023-04-27 07:29:34.566815'): 0,\n",
       "  Timestamp('2023-04-27 08:29:34.566815'): 0,\n",
       "  Timestamp('2023-04-27 09:29:34.566815'): 0},\n",
       " 'Львівщина': {Timestamp('2023-04-26 22:29:57.021860'): 0,\n",
       "  Timestamp('2023-04-26 23:29:57.021860'): 0,\n",
       "  Timestamp('2023-04-27 00:29:57.021860'): 0,\n",
       "  Timestamp('2023-04-27 01:29:57.021860'): 0,\n",
       "  Timestamp('2023-04-27 02:29:57.021860'): 0,\n",
       "  Timestamp('2023-04-27 03:29:57.021860'): 0,\n",
       "  Timestamp('2023-04-27 04:29:57.021860'): 0,\n",
       "  Timestamp('2023-04-27 05:29:57.021860'): 0,\n",
       "  Timestamp('2023-04-27 06:29:57.021860'): 0,\n",
       "  Timestamp('2023-04-27 07:29:57.021860'): 0,\n",
       "  Timestamp('2023-04-27 08:29:57.021860'): 0,\n",
       "  Timestamp('2023-04-27 09:29:57.021860'): 0},\n",
       " 'Миколаївщина': {Timestamp('2023-04-26 22:30:18.925476'): 0,\n",
       "  Timestamp('2023-04-26 23:30:18.925476'): 0,\n",
       "  Timestamp('2023-04-27 00:30:18.925476'): 0,\n",
       "  Timestamp('2023-04-27 01:30:18.925476'): 0,\n",
       "  Timestamp('2023-04-27 02:30:18.925476'): 0,\n",
       "  Timestamp('2023-04-27 03:30:18.925476'): 0,\n",
       "  Timestamp('2023-04-27 04:30:18.925476'): 0,\n",
       "  Timestamp('2023-04-27 05:30:18.925476'): 0,\n",
       "  Timestamp('2023-04-27 06:30:18.925476'): 0,\n",
       "  Timestamp('2023-04-27 07:30:18.925476'): 0,\n",
       "  Timestamp('2023-04-27 08:30:18.925476'): 0,\n",
       "  Timestamp('2023-04-27 09:30:18.925476'): 0},\n",
       " 'Одещина': {Timestamp('2023-04-26 22:30:40.237633'): 0,\n",
       "  Timestamp('2023-04-26 23:30:40.237633'): 0,\n",
       "  Timestamp('2023-04-27 00:30:40.237633'): 0,\n",
       "  Timestamp('2023-04-27 01:30:40.237633'): 0,\n",
       "  Timestamp('2023-04-27 02:30:40.237633'): 0,\n",
       "  Timestamp('2023-04-27 03:30:40.237633'): 0,\n",
       "  Timestamp('2023-04-27 04:30:40.237633'): 0,\n",
       "  Timestamp('2023-04-27 05:30:40.237633'): 0,\n",
       "  Timestamp('2023-04-27 06:30:40.237633'): 0,\n",
       "  Timestamp('2023-04-27 07:30:40.237633'): 0,\n",
       "  Timestamp('2023-04-27 08:30:40.237633'): 0,\n",
       "  Timestamp('2023-04-27 09:30:40.237633'): 0},\n",
       " 'Полтавщина': {Timestamp('2023-04-26 22:31:02.692878'): 0,\n",
       "  Timestamp('2023-04-26 23:31:02.692878'): 0,\n",
       "  Timestamp('2023-04-27 00:31:02.692878'): 0,\n",
       "  Timestamp('2023-04-27 01:31:02.692878'): 0,\n",
       "  Timestamp('2023-04-27 02:31:02.692878'): 0,\n",
       "  Timestamp('2023-04-27 03:31:02.692878'): 0,\n",
       "  Timestamp('2023-04-27 04:31:02.692878'): 0,\n",
       "  Timestamp('2023-04-27 05:31:02.692878'): 0,\n",
       "  Timestamp('2023-04-27 06:31:02.692878'): 0,\n",
       "  Timestamp('2023-04-27 07:31:02.692878'): 0,\n",
       "  Timestamp('2023-04-27 08:31:02.692878'): 0,\n",
       "  Timestamp('2023-04-27 09:31:02.692878'): 0},\n",
       " 'Рівненщина': {Timestamp('2023-04-26 22:31:24.551198'): 0,\n",
       "  Timestamp('2023-04-26 23:31:24.551198'): 0,\n",
       "  Timestamp('2023-04-27 00:31:24.551198'): 0,\n",
       "  Timestamp('2023-04-27 01:31:24.551198'): 0,\n",
       "  Timestamp('2023-04-27 02:31:24.551198'): 0,\n",
       "  Timestamp('2023-04-27 03:31:24.551198'): 0,\n",
       "  Timestamp('2023-04-27 04:31:24.551198'): 0,\n",
       "  Timestamp('2023-04-27 05:31:24.551198'): 0,\n",
       "  Timestamp('2023-04-27 06:31:24.551198'): 0,\n",
       "  Timestamp('2023-04-27 07:31:24.551198'): 0,\n",
       "  Timestamp('2023-04-27 08:31:24.551198'): 0,\n",
       "  Timestamp('2023-04-27 09:31:24.551198'): 0},\n",
       " 'Сумщина': {Timestamp('2023-04-26 22:31:46.580082'): 0,\n",
       "  Timestamp('2023-04-26 23:31:46.580082'): 0,\n",
       "  Timestamp('2023-04-27 00:31:46.580082'): 0,\n",
       "  Timestamp('2023-04-27 01:31:46.580082'): 0,\n",
       "  Timestamp('2023-04-27 02:31:46.580082'): 0,\n",
       "  Timestamp('2023-04-27 03:31:46.580082'): 0,\n",
       "  Timestamp('2023-04-27 04:31:46.580082'): 0,\n",
       "  Timestamp('2023-04-27 05:31:46.580082'): 0,\n",
       "  Timestamp('2023-04-27 06:31:46.580082'): 0,\n",
       "  Timestamp('2023-04-27 07:31:46.580082'): 0,\n",
       "  Timestamp('2023-04-27 08:31:46.580082'): 0,\n",
       "  Timestamp('2023-04-27 09:31:46.580082'): 0},\n",
       " 'Тернопільщина': {Timestamp('2023-04-26 22:32:09.405919'): 0,\n",
       "  Timestamp('2023-04-26 23:32:09.405919'): 0,\n",
       "  Timestamp('2023-04-27 00:32:09.405919'): 0,\n",
       "  Timestamp('2023-04-27 01:32:09.405919'): 0,\n",
       "  Timestamp('2023-04-27 02:32:09.405919'): 0,\n",
       "  Timestamp('2023-04-27 03:32:09.405919'): 0,\n",
       "  Timestamp('2023-04-27 04:32:09.405919'): 0,\n",
       "  Timestamp('2023-04-27 05:32:09.405919'): 0,\n",
       "  Timestamp('2023-04-27 06:32:09.405919'): 0,\n",
       "  Timestamp('2023-04-27 07:32:09.405919'): 0,\n",
       "  Timestamp('2023-04-27 08:32:09.405919'): 0,\n",
       "  Timestamp('2023-04-27 09:32:09.405919'): 0},\n",
       " 'Харківщина': {Timestamp('2023-04-26 22:32:32.166054'): 0,\n",
       "  Timestamp('2023-04-26 23:32:32.166054'): 0,\n",
       "  Timestamp('2023-04-27 00:32:32.166054'): 0,\n",
       "  Timestamp('2023-04-27 01:32:32.166054'): 0,\n",
       "  Timestamp('2023-04-27 02:32:32.166054'): 0,\n",
       "  Timestamp('2023-04-27 03:32:32.166054'): 0,\n",
       "  Timestamp('2023-04-27 04:32:32.166054'): 0,\n",
       "  Timestamp('2023-04-27 05:32:32.166054'): 0,\n",
       "  Timestamp('2023-04-27 06:32:32.166054'): 0,\n",
       "  Timestamp('2023-04-27 07:32:32.166054'): 0,\n",
       "  Timestamp('2023-04-27 08:32:32.166054'): 0,\n",
       "  Timestamp('2023-04-27 09:32:32.166054'): 0},\n",
       " 'Херсонщина': {Timestamp('2023-04-26 22:32:55.518584'): 0,\n",
       "  Timestamp('2023-04-26 23:32:55.518584'): 0,\n",
       "  Timestamp('2023-04-27 00:32:55.518584'): 0,\n",
       "  Timestamp('2023-04-27 01:32:55.518584'): 0,\n",
       "  Timestamp('2023-04-27 02:32:55.518584'): 0,\n",
       "  Timestamp('2023-04-27 03:32:55.518584'): 0,\n",
       "  Timestamp('2023-04-27 04:32:55.518584'): 0,\n",
       "  Timestamp('2023-04-27 05:32:55.518584'): 0,\n",
       "  Timestamp('2023-04-27 06:32:55.518584'): 0,\n",
       "  Timestamp('2023-04-27 07:32:55.518584'): 0,\n",
       "  Timestamp('2023-04-27 08:32:55.518584'): 0,\n",
       "  Timestamp('2023-04-27 09:32:55.518584'): 0},\n",
       " 'Хмельниччина': {Timestamp('2023-04-26 22:33:17.521155'): 0,\n",
       "  Timestamp('2023-04-26 23:33:17.521155'): 0,\n",
       "  Timestamp('2023-04-27 00:33:17.521155'): 0,\n",
       "  Timestamp('2023-04-27 01:33:17.521155'): 0,\n",
       "  Timestamp('2023-04-27 02:33:17.521155'): 0,\n",
       "  Timestamp('2023-04-27 03:33:17.521155'): 0,\n",
       "  Timestamp('2023-04-27 04:33:17.521155'): 0,\n",
       "  Timestamp('2023-04-27 05:33:17.521155'): 0,\n",
       "  Timestamp('2023-04-27 06:33:17.521155'): 0,\n",
       "  Timestamp('2023-04-27 07:33:17.521155'): 0,\n",
       "  Timestamp('2023-04-27 08:33:17.521155'): 0,\n",
       "  Timestamp('2023-04-27 09:33:17.521155'): 0},\n",
       " 'Черкащина': {Timestamp('2023-04-26 22:33:39.597743'): 0,\n",
       "  Timestamp('2023-04-26 23:33:39.597743'): 0,\n",
       "  Timestamp('2023-04-27 00:33:39.597743'): 0,\n",
       "  Timestamp('2023-04-27 01:33:39.597743'): 0,\n",
       "  Timestamp('2023-04-27 02:33:39.597743'): 0,\n",
       "  Timestamp('2023-04-27 03:33:39.597743'): 0,\n",
       "  Timestamp('2023-04-27 04:33:39.597743'): 0,\n",
       "  Timestamp('2023-04-27 05:33:39.597743'): 0,\n",
       "  Timestamp('2023-04-27 06:33:39.597743'): 0,\n",
       "  Timestamp('2023-04-27 07:33:39.597743'): 0,\n",
       "  Timestamp('2023-04-27 08:33:39.597743'): 0,\n",
       "  Timestamp('2023-04-27 09:33:39.597743'): 0},\n",
       " 'Буковина': {Timestamp('2023-04-26 22:34:02.994242'): 0,\n",
       "  Timestamp('2023-04-26 23:34:02.994242'): 0,\n",
       "  Timestamp('2023-04-27 00:34:02.994242'): 0,\n",
       "  Timestamp('2023-04-27 01:34:02.994242'): 0,\n",
       "  Timestamp('2023-04-27 02:34:02.994242'): 0,\n",
       "  Timestamp('2023-04-27 03:34:02.994242'): 0,\n",
       "  Timestamp('2023-04-27 04:34:02.994242'): 0,\n",
       "  Timestamp('2023-04-27 05:34:02.994242'): 0,\n",
       "  Timestamp('2023-04-27 06:34:02.994242'): 0,\n",
       "  Timestamp('2023-04-27 07:34:02.994242'): 0,\n",
       "  Timestamp('2023-04-27 08:34:02.994242'): 0,\n",
       "  Timestamp('2023-04-27 09:34:02.994242'): 0},\n",
       " 'Чернігівщина': {Timestamp('2023-04-26 22:34:25.853995'): 0,\n",
       "  Timestamp('2023-04-26 23:34:25.853995'): 0,\n",
       "  Timestamp('2023-04-27 00:34:25.853995'): 0,\n",
       "  Timestamp('2023-04-27 01:34:25.853995'): 0,\n",
       "  Timestamp('2023-04-27 02:34:25.853995'): 0,\n",
       "  Timestamp('2023-04-27 03:34:25.853995'): 0,\n",
       "  Timestamp('2023-04-27 04:34:25.853995'): 0,\n",
       "  Timestamp('2023-04-27 05:34:25.853995'): 0,\n",
       "  Timestamp('2023-04-27 06:34:25.853995'): 0,\n",
       "  Timestamp('2023-04-27 07:34:25.853995'): 0,\n",
       "  Timestamp('2023-04-27 08:34:25.853995'): 0,\n",
       "  Timestamp('2023-04-27 09:34:25.853995'): 0}}"
      ]
     },
     "execution_count": 38,
     "metadata": {},
     "output_type": "execute_result"
    }
   ],
   "source": [
    "result"
   ]
  },
  {
   "cell_type": "code",
   "execution_count": 39,
   "id": "aeb3219e",
   "metadata": {},
   "outputs": [],
   "source": [
    "result = pd.DataFrame(result)\n",
    "result.to_csv('results.txt', sep='\\t', index=False)"
   ]
  }
 ],
 "metadata": {
  "kernelspec": {
   "display_name": "Python 3 (ipykernel)",
   "language": "python",
   "name": "python3"
  },
  "language_info": {
   "codemirror_mode": {
    "name": "ipython",
    "version": 3
   },
   "file_extension": ".py",
   "mimetype": "text/x-python",
   "name": "python",
   "nbconvert_exporter": "python",
   "pygments_lexer": "ipython3",
   "version": "3.9.7"
  }
 },
 "nbformat": 4,
 "nbformat_minor": 5
}
