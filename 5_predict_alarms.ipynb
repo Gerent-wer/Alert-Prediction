{
 "cells": [
  {
   "cell_type": "code",
   "execution_count": 2,
   "id": "1b89555a",
   "metadata": {
    "ExecuteTime": {
     "end_time": "2023-04-27T00:02:02.219471Z",
     "start_time": "2023-04-27T00:02:01.988970Z"
    }
   },
   "outputs": [],
   "source": [
    "# import libraries\n",
    "\n",
    "import datetime\n",
    "import pickle\n",
    "import nltk\n",
    "import re\n",
    "import scipy\n",
    "import pandas as pd\n",
    "from scipy import sparse\n",
    "from bs4 import BeautifulSoup\n",
    "from sklearn.feature_extraction.text import CountVectorizer, TfidfVectorizer\n",
    "from sklearn.feature_extraction.text import TfidfTransformer\n",
    "from utils import get_weather\n",
    "from utils import text_processing"
   ]
  },
  {
   "cell_type": "code",
   "execution_count": null,
   "id": "3dea7ea3",
   "metadata": {},
   "outputs": [],
   "source": []
  },
  {
   "cell_type": "markdown",
   "id": "23404e10",
   "metadata": {},
   "source": [
    "### Get and preprocess ISW files"
   ]
  },
  {
   "cell_type": "code",
   "execution_count": 3,
   "id": "7cb86e69",
   "metadata": {
    "ExecuteTime": {
     "end_time": "2023-04-27T00:02:02.270587Z",
     "start_time": "2023-04-27T00:02:02.013027Z"
    }
   },
   "outputs": [],
   "source": [
    "# get article from yesterday\n",
    "today = datetime.date.today()\n",
    "yesterday = today - datetime.timedelta(days=1)\n",
    "\n",
    "yesterday_day = yesterday.day\n",
    "yesterday_month = yesterday.month\n",
    "yesterday_year = yesterday.year"
   ]
  },
  {
   "cell_type": "code",
   "execution_count": 4,
   "id": "80028a2b",
   "metadata": {
    "ExecuteTime": {
     "end_time": "2023-04-27T00:02:02.703454Z",
     "start_time": "2023-04-27T00:02:02.024624Z"
    }
   },
   "outputs": [],
   "source": [
    "file = text_processing.get_article_from_yesterday(yesterday_day,yesterday_month,yesterday_year)"
   ]
  },
  {
   "cell_type": "code",
   "execution_count": 5,
   "id": "03f1ec1e",
   "metadata": {
    "ExecuteTime": {
     "end_time": "2023-04-27T00:02:02.785070Z",
     "start_time": "2023-04-27T00:02:02.700032Z"
    }
   },
   "outputs": [],
   "source": [
    "data = text_processing.read_html(file)"
   ]
  },
  {
   "cell_type": "code",
   "execution_count": 6,
   "id": "42911601",
   "metadata": {
    "ExecuteTime": {
     "end_time": "2023-04-27T00:02:02.803150Z",
     "start_time": "2023-04-27T00:02:02.792591Z"
    }
   },
   "outputs": [],
   "source": [
    "def preprocess_all_text(data):\n",
    "    pattern = \"\\[(\\d+)\\]\"\n",
    "    data['main_html_v1'] = data['main_html'].apply(lambda x: re.sub(pattern,\"\",str(x)))\n",
    "    data['main_html_v2'] = data['main_html_v1'].apply(lambda x: re.sub(r'http(\\S+.*\\s)',\"\",x))\n",
    "    data['main_html_v3'] = data['main_html_v2'].apply(lambda x: re.sub(r'2022|2023|©2022|©2023|\\xa0|\\n',\"\",x))\n",
    "    data['main_html_v4'] = data['main_html_v3'].apply(lambda x: BeautifulSoup(x).text)\n",
    "    data['main_html_v5'] = data['main_html_v4'].apply(lambda x: text_processing.remove_names_and_dates(x))\n",
    "    \n",
    "    return data"
   ]
  },
  {
   "cell_type": "code",
   "execution_count": 7,
   "id": "f59f0ab2",
   "metadata": {
    "ExecuteTime": {
     "end_time": "2023-04-27T00:02:02.849377Z",
     "start_time": "2023-04-27T00:02:02.807155Z"
    }
   },
   "outputs": [],
   "source": [
    "data_preprocessed = preprocess_all_text(data)"
   ]
  },
  {
   "cell_type": "code",
   "execution_count": 8,
   "id": "2af6b1be",
   "metadata": {
    "ExecuteTime": {
     "end_time": "2023-04-27T00:02:02.850378Z",
     "start_time": "2023-04-27T00:02:02.839071Z"
    }
   },
   "outputs": [],
   "source": [
    "data_preprocessed = data_preprocessed.drop(['main_html_v1','main_html_v2','main_html_v3','main_html_v4'],axis=1)"
   ]
  },
  {
   "cell_type": "code",
   "execution_count": 9,
   "id": "5129a561",
   "metadata": {
    "ExecuteTime": {
     "end_time": "2023-04-27T00:02:02.878686Z",
     "start_time": "2023-04-27T00:02:02.853381Z"
    }
   },
   "outputs": [],
   "source": [
    "# nltk.download('stopwords')\n",
    "# nltk.download('punkt')\n",
    "# nltk.download('wordnet')"
   ]
  },
  {
   "cell_type": "code",
   "execution_count": 10,
   "id": "3abf9546",
   "metadata": {
    "ExecuteTime": {
     "end_time": "2023-04-27T00:02:02.937936Z",
     "start_time": "2023-04-27T00:02:02.876749Z"
    }
   },
   "outputs": [],
   "source": [
    "data_preprocessed['report_text_lemm'] = data_preprocessed['main_html_v5'].apply(lambda x: text_processing.preprocess(x,\"lemm\"))\n",
    "data_preprocessed['report_text_stemm'] = data_preprocessed['main_html_v5'].apply(lambda x: text_processing.preprocess(x,\"stemm\"))"
   ]
  },
  {
   "cell_type": "code",
   "execution_count": 11,
   "id": "92cd8311",
   "metadata": {
    "ExecuteTime": {
     "end_time": "2023-04-27T00:02:02.969716Z",
     "start_time": "2023-04-27T00:02:02.905803Z"
    }
   },
   "outputs": [
    {
     "data": {
      "text/html": [
       "<div>\n",
       "<style scoped>\n",
       "    .dataframe tbody tr th:only-of-type {\n",
       "        vertical-align: middle;\n",
       "    }\n",
       "\n",
       "    .dataframe tbody tr th {\n",
       "        vertical-align: top;\n",
       "    }\n",
       "\n",
       "    .dataframe thead th {\n",
       "        text-align: right;\n",
       "    }\n",
       "</style>\n",
       "<table border=\"1\" class=\"dataframe\">\n",
       "  <thead>\n",
       "    <tr style=\"text-align: right;\">\n",
       "      <th></th>\n",
       "      <th>date</th>\n",
       "      <th>short_url</th>\n",
       "      <th>title</th>\n",
       "      <th>text_title</th>\n",
       "      <th>full_url</th>\n",
       "      <th>main_html</th>\n",
       "      <th>main_html_v5</th>\n",
       "      <th>report_text_lemm</th>\n",
       "      <th>report_text_stemm</th>\n",
       "    </tr>\n",
       "  </thead>\n",
       "  <tbody>\n",
       "    <tr>\n",
       "      <th>0</th>\n",
       "      <td>2023-04-28</td>\n",
       "      <td>russian_offensive_campaign_assessment_April_28...</td>\n",
       "      <td>Russian Offensive Campaign Assessment, April 2...</td>\n",
       "      <td>Russian Offensive Campaign Assessment, April 2...</td>\n",
       "      <td>/backgrounder/russian-offensive-campaign-asses...</td>\n",
       "      <td>[[[ , &lt;p align=\"center\"&gt;&lt;strong&gt;&lt;br/&gt;&lt;/strong&gt;...</td>\n",
       "      <td>Russian Offensive Campaign Assessment, April ...</td>\n",
       "      <td>russian offens campaign ass april twenty eigh...</td>\n",
       "      <td>russian offen campaign assess april twenti ei...</td>\n",
       "    </tr>\n",
       "  </tbody>\n",
       "</table>\n",
       "</div>"
      ],
      "text/plain": [
       "        date                                          short_url   \n",
       "0 2023-04-28  russian_offensive_campaign_assessment_April_28...  \\\n",
       "\n",
       "                                               title   \n",
       "0  Russian Offensive Campaign Assessment, April 2...  \\\n",
       "\n",
       "                                          text_title   \n",
       "0  Russian Offensive Campaign Assessment, April 2...  \\\n",
       "\n",
       "                                            full_url   \n",
       "0  /backgrounder/russian-offensive-campaign-asses...  \\\n",
       "\n",
       "                                           main_html   \n",
       "0  [[[ , <p align=\"center\"><strong><br/></strong>...  \\\n",
       "\n",
       "                                        main_html_v5   \n",
       "0   Russian Offensive Campaign Assessment, April ...  \\\n",
       "\n",
       "                                    report_text_lemm   \n",
       "0   russian offens campaign ass april twenty eigh...  \\\n",
       "\n",
       "                                   report_text_stemm  \n",
       "0   russian offen campaign assess april twenti ei...  "
      ]
     },
     "execution_count": 11,
     "metadata": {},
     "output_type": "execute_result"
    }
   ],
   "source": [
    "data_preprocessed.head()"
   ]
  },
  {
   "cell_type": "code",
   "execution_count": 12,
   "id": "d21b756c",
   "metadata": {
    "ExecuteTime": {
     "end_time": "2023-04-27T00:02:02.970712Z",
     "start_time": "2023-04-27T00:02:02.943945Z"
    }
   },
   "outputs": [],
   "source": [
    "docs = data_preprocessed['report_text_lemm'].tolist()"
   ]
  },
  {
   "cell_type": "markdown",
   "id": "1547b14a",
   "metadata": {},
   "source": [
    "### ISW vectorize"
   ]
  },
  {
   "cell_type": "code",
   "execution_count": 13,
   "id": "34b23732",
   "metadata": {
    "ExecuteTime": {
     "end_time": "2023-04-27T00:02:03.078124Z",
     "start_time": "2023-04-27T00:02:02.971714Z"
    }
   },
   "outputs": [],
   "source": [
    "cv = CountVectorizer()\n",
    "word_count_vector = cv.fit_transform(docs)\n",
    "\n",
    "word_count_vector.shape\n",
    "\n",
    "tfidf_transformer = TfidfTransformer(smooth_idf = True, use_idf = True)\n",
    "tfidf_transformer.fit(word_count_vector)\n",
    "\n",
    "tf_idf_vector = tfidf_transformer.transform(word_count_vector)"
   ]
  },
  {
   "cell_type": "code",
   "execution_count": 14,
   "id": "6067ab90",
   "metadata": {
    "ExecuteTime": {
     "end_time": "2023-04-27T00:02:03.078124Z",
     "start_time": "2023-04-27T00:02:02.990328Z"
    }
   },
   "outputs": [
    {
     "data": {
      "text/plain": [
       "<1x697 sparse matrix of type '<class 'numpy.float64'>'\n",
       "\twith 697 stored elements in Compressed Sparse Row format>"
      ]
     },
     "execution_count": 14,
     "metadata": {},
     "output_type": "execute_result"
    }
   ],
   "source": [
    "tf_idf_vector"
   ]
  },
  {
   "cell_type": "code",
   "execution_count": 15,
   "id": "37b6c871",
   "metadata": {
    "ExecuteTime": {
     "end_time": "2023-04-27T00:02:03.079129Z",
     "start_time": "2023-04-27T00:02:03.011303Z"
    }
   },
   "outputs": [
    {
     "data": {
      "text/plain": [
       "<1x697 sparse matrix of type '<class 'numpy.float64'>'\n",
       "\twith 697 stored elements in Compressed Sparse Row format>"
      ]
     },
     "execution_count": 15,
     "metadata": {},
     "output_type": "execute_result"
    }
   ],
   "source": [
    "feature_names = cv.get_feature_names_out()\n",
    "tf_idf_vector"
   ]
  },
  {
   "cell_type": "code",
   "execution_count": 16,
   "id": "fab2fc78",
   "metadata": {
    "ExecuteTime": {
     "end_time": "2023-04-27T00:02:03.124569Z",
     "start_time": "2023-04-27T00:02:03.038990Z"
    }
   },
   "outputs": [],
   "source": [
    "data_preprocessed['keywords'] = data_preprocessed['report_text_stemm'].apply(lambda x: text_processing.convert_doc_to_vector(x,feature_names,tf_idf_vector))"
   ]
  },
  {
   "cell_type": "code",
   "execution_count": 17,
   "id": "95ea033d",
   "metadata": {
    "ExecuteTime": {
     "end_time": "2023-04-27T00:02:03.141662Z",
     "start_time": "2023-04-27T00:02:03.052544Z"
    }
   },
   "outputs": [
    {
     "data": {
      "text/plain": [
       "{'russian': 0.66,\n",
       " 'forc': 0.242,\n",
       " 'twenty': 0.23,\n",
       " 'ukrainian': 0.2,\n",
       " 'april': 0.177,\n",
       " 'russia': 0.165,\n",
       " 'eight': 0.136,\n",
       " 'drone': 0.118,\n",
       " 'continu': 0.118,\n",
       " 'oblast': 0.112}"
      ]
     },
     "execution_count": 17,
     "metadata": {},
     "output_type": "execute_result"
    }
   ],
   "source": [
    "data_preprocessed['keywords'][0]"
   ]
  },
  {
   "cell_type": "code",
   "execution_count": 18,
   "id": "bf547746",
   "metadata": {
    "ExecuteTime": {
     "end_time": "2023-04-27T00:02:03.282386Z",
     "start_time": "2023-04-27T00:02:03.071612Z"
    }
   },
   "outputs": [
    {
     "data": {
      "text/html": [
       "<div>\n",
       "<style scoped>\n",
       "    .dataframe tbody tr th:only-of-type {\n",
       "        vertical-align: middle;\n",
       "    }\n",
       "\n",
       "    .dataframe tbody tr th {\n",
       "        vertical-align: top;\n",
       "    }\n",
       "\n",
       "    .dataframe thead th {\n",
       "        text-align: right;\n",
       "    }\n",
       "</style>\n",
       "<table border=\"1\" class=\"dataframe\">\n",
       "  <thead>\n",
       "    <tr style=\"text-align: right;\">\n",
       "      <th></th>\n",
       "      <th>date</th>\n",
       "      <th>short_url</th>\n",
       "      <th>title</th>\n",
       "      <th>text_title</th>\n",
       "      <th>full_url</th>\n",
       "      <th>main_html</th>\n",
       "      <th>main_html_v5</th>\n",
       "      <th>report_text_lemm</th>\n",
       "      <th>report_text_stemm</th>\n",
       "      <th>keywords</th>\n",
       "    </tr>\n",
       "  </thead>\n",
       "  <tbody>\n",
       "    <tr>\n",
       "      <th>0</th>\n",
       "      <td>2023-04-28</td>\n",
       "      <td>russian_offensive_campaign_assessment_April_28...</td>\n",
       "      <td>Russian Offensive Campaign Assessment, April 2...</td>\n",
       "      <td>Russian Offensive Campaign Assessment, April 2...</td>\n",
       "      <td>/backgrounder/russian-offensive-campaign-asses...</td>\n",
       "      <td>[[[ , &lt;p align=\"center\"&gt;&lt;strong&gt;&lt;br/&gt;&lt;/strong&gt;...</td>\n",
       "      <td>Russian Offensive Campaign Assessment, April ...</td>\n",
       "      <td>russian offens campaign ass april twenty eigh...</td>\n",
       "      <td>russian offen campaign assess april twenti ei...</td>\n",
       "      <td>{'russian': 0.66, 'forc': 0.242, 'twenty': 0.2...</td>\n",
       "    </tr>\n",
       "  </tbody>\n",
       "</table>\n",
       "</div>"
      ],
      "text/plain": [
       "        date                                          short_url   \n",
       "0 2023-04-28  russian_offensive_campaign_assessment_April_28...  \\\n",
       "\n",
       "                                               title   \n",
       "0  Russian Offensive Campaign Assessment, April 2...  \\\n",
       "\n",
       "                                          text_title   \n",
       "0  Russian Offensive Campaign Assessment, April 2...  \\\n",
       "\n",
       "                                            full_url   \n",
       "0  /backgrounder/russian-offensive-campaign-asses...  \\\n",
       "\n",
       "                                           main_html   \n",
       "0  [[[ , <p align=\"center\"><strong><br/></strong>...  \\\n",
       "\n",
       "                                        main_html_v5   \n",
       "0   Russian Offensive Campaign Assessment, April ...  \\\n",
       "\n",
       "                                    report_text_lemm   \n",
       "0   russian offens campaign ass april twenty eigh...  \\\n",
       "\n",
       "                                   report_text_stemm   \n",
       "0   russian offen campaign assess april twenti ei...  \\\n",
       "\n",
       "                                            keywords  \n",
       "0  {'russian': 0.66, 'forc': 0.242, 'twenty': 0.2...  "
      ]
     },
     "execution_count": 18,
     "metadata": {},
     "output_type": "execute_result"
    }
   ],
   "source": [
    "data_preprocessed.head()"
   ]
  },
  {
   "cell_type": "markdown",
   "id": "e2d4c886",
   "metadata": {},
   "source": [
    "#### Part of script: Final preprocessing"
   ]
  },
  {
   "cell_type": "code",
   "execution_count": 19,
   "id": "f151948d",
   "metadata": {
    "ExecuteTime": {
     "end_time": "2023-04-27T00:02:03.314008Z",
     "start_time": "2023-04-27T00:02:03.117553Z"
    }
   },
   "outputs": [],
   "source": [
    "data_preprocessed[\"date_datetime\"] = pd.to_datetime(data_preprocessed[\"date\"])\n",
    "data_preprocessed['date_tomorrow_datetime'] = data_preprocessed['date_datetime'].apply(lambda x: x+datetime.timedelta(days=1))\n",
    "data_preprocessed = data_preprocessed.rename(columns = {\"date_datetime\":\"report_date\"})"
   ]
  },
  {
   "cell_type": "code",
   "execution_count": 20,
   "id": "a1a31caa",
   "metadata": {
    "ExecuteTime": {
     "end_time": "2023-04-27T00:02:03.316011Z",
     "start_time": "2023-04-27T00:02:03.153272Z"
    }
   },
   "outputs": [
    {
     "data": {
      "text/html": [
       "<div>\n",
       "<style scoped>\n",
       "    .dataframe tbody tr th:only-of-type {\n",
       "        vertical-align: middle;\n",
       "    }\n",
       "\n",
       "    .dataframe tbody tr th {\n",
       "        vertical-align: top;\n",
       "    }\n",
       "\n",
       "    .dataframe thead th {\n",
       "        text-align: right;\n",
       "    }\n",
       "</style>\n",
       "<table border=\"1\" class=\"dataframe\">\n",
       "  <thead>\n",
       "    <tr style=\"text-align: right;\">\n",
       "      <th></th>\n",
       "      <th>date</th>\n",
       "      <th>short_url</th>\n",
       "      <th>title</th>\n",
       "      <th>text_title</th>\n",
       "      <th>full_url</th>\n",
       "      <th>main_html</th>\n",
       "      <th>main_html_v5</th>\n",
       "      <th>report_text_lemm</th>\n",
       "      <th>report_text_stemm</th>\n",
       "      <th>keywords</th>\n",
       "      <th>report_date</th>\n",
       "      <th>date_tomorrow_datetime</th>\n",
       "    </tr>\n",
       "  </thead>\n",
       "  <tbody>\n",
       "    <tr>\n",
       "      <th>0</th>\n",
       "      <td>2023-04-28</td>\n",
       "      <td>russian_offensive_campaign_assessment_April_28...</td>\n",
       "      <td>Russian Offensive Campaign Assessment, April 2...</td>\n",
       "      <td>Russian Offensive Campaign Assessment, April 2...</td>\n",
       "      <td>/backgrounder/russian-offensive-campaign-asses...</td>\n",
       "      <td>[[[ , &lt;p align=\"center\"&gt;&lt;strong&gt;&lt;br/&gt;&lt;/strong&gt;...</td>\n",
       "      <td>Russian Offensive Campaign Assessment, April ...</td>\n",
       "      <td>russian offens campaign ass april twenty eigh...</td>\n",
       "      <td>russian offen campaign assess april twenti ei...</td>\n",
       "      <td>{'russian': 0.66, 'forc': 0.242, 'twenty': 0.2...</td>\n",
       "      <td>2023-04-28</td>\n",
       "      <td>2023-04-29</td>\n",
       "    </tr>\n",
       "  </tbody>\n",
       "</table>\n",
       "</div>"
      ],
      "text/plain": [
       "        date                                          short_url   \n",
       "0 2023-04-28  russian_offensive_campaign_assessment_April_28...  \\\n",
       "\n",
       "                                               title   \n",
       "0  Russian Offensive Campaign Assessment, April 2...  \\\n",
       "\n",
       "                                          text_title   \n",
       "0  Russian Offensive Campaign Assessment, April 2...  \\\n",
       "\n",
       "                                            full_url   \n",
       "0  /backgrounder/russian-offensive-campaign-asses...  \\\n",
       "\n",
       "                                           main_html   \n",
       "0  [[[ , <p align=\"center\"><strong><br/></strong>...  \\\n",
       "\n",
       "                                        main_html_v5   \n",
       "0   Russian Offensive Campaign Assessment, April ...  \\\n",
       "\n",
       "                                    report_text_lemm   \n",
       "0   russian offens campaign ass april twenty eigh...  \\\n",
       "\n",
       "                                   report_text_stemm   \n",
       "0   russian offen campaign assess april twenti ei...  \\\n",
       "\n",
       "                                            keywords report_date   \n",
       "0  {'russian': 0.66, 'forc': 0.242, 'twenty': 0.2...  2023-04-28  \\\n",
       "\n",
       "  date_tomorrow_datetime  \n",
       "0             2023-04-29  "
      ]
     },
     "execution_count": 20,
     "metadata": {},
     "output_type": "execute_result"
    }
   ],
   "source": [
    "data_preprocessed.head()"
   ]
  },
  {
   "cell_type": "code",
   "execution_count": 21,
   "id": "72ff12f6",
   "metadata": {
    "ExecuteTime": {
     "end_time": "2023-04-27T00:02:03.317010Z",
     "start_time": "2023-04-27T00:02:03.180940Z"
    }
   },
   "outputs": [],
   "source": [
    "data_vectorised = tf_idf_vector.toarray()\n",
    "vectors_df = pd.DataFrame(data_vectorised)\n",
    "vectors_df['date'] = pd.to_datetime(today)\n"
   ]
  },
  {
   "cell_type": "code",
   "execution_count": 22,
   "id": "2e66d70b",
   "metadata": {
    "ExecuteTime": {
     "end_time": "2023-04-27T00:02:03.317521Z",
     "start_time": "2023-04-27T00:02:03.196991Z"
    }
   },
   "outputs": [
    {
     "data": {
      "text/html": [
       "<div>\n",
       "<style scoped>\n",
       "    .dataframe tbody tr th:only-of-type {\n",
       "        vertical-align: middle;\n",
       "    }\n",
       "\n",
       "    .dataframe tbody tr th {\n",
       "        vertical-align: top;\n",
       "    }\n",
       "\n",
       "    .dataframe thead th {\n",
       "        text-align: right;\n",
       "    }\n",
       "</style>\n",
       "<table border=\"1\" class=\"dataframe\">\n",
       "  <thead>\n",
       "    <tr style=\"text-align: right;\">\n",
       "      <th></th>\n",
       "      <th>0</th>\n",
       "      <th>1</th>\n",
       "      <th>2</th>\n",
       "      <th>3</th>\n",
       "      <th>4</th>\n",
       "      <th>5</th>\n",
       "      <th>6</th>\n",
       "      <th>7</th>\n",
       "      <th>8</th>\n",
       "      <th>9</th>\n",
       "      <th>...</th>\n",
       "      <th>688</th>\n",
       "      <th>689</th>\n",
       "      <th>690</th>\n",
       "      <th>691</th>\n",
       "      <th>692</th>\n",
       "      <th>693</th>\n",
       "      <th>694</th>\n",
       "      <th>695</th>\n",
       "      <th>696</th>\n",
       "      <th>date</th>\n",
       "    </tr>\n",
       "  </thead>\n",
       "  <tbody>\n",
       "    <tr>\n",
       "      <th>0</th>\n",
       "      <td>0.023585</td>\n",
       "      <td>0.011793</td>\n",
       "      <td>0.005896</td>\n",
       "      <td>0.005896</td>\n",
       "      <td>0.017689</td>\n",
       "      <td>0.005896</td>\n",
       "      <td>0.005896</td>\n",
       "      <td>0.005896</td>\n",
       "      <td>0.005896</td>\n",
       "      <td>0.017689</td>\n",
       "      <td>...</td>\n",
       "      <td>0.005896</td>\n",
       "      <td>0.011793</td>\n",
       "      <td>0.011793</td>\n",
       "      <td>0.005896</td>\n",
       "      <td>0.017689</td>\n",
       "      <td>0.017689</td>\n",
       "      <td>0.005896</td>\n",
       "      <td>0.023585</td>\n",
       "      <td>0.029482</td>\n",
       "      <td>2023-04-29</td>\n",
       "    </tr>\n",
       "  </tbody>\n",
       "</table>\n",
       "<p>1 rows × 698 columns</p>\n",
       "</div>"
      ],
      "text/plain": [
       "          0         1         2         3         4         5         6   \n",
       "0  0.023585  0.011793  0.005896  0.005896  0.017689  0.005896  0.005896  \\\n",
       "\n",
       "          7         8         9  ...       688       689       690       691   \n",
       "0  0.005896  0.005896  0.017689  ...  0.005896  0.011793  0.011793  0.005896  \\\n",
       "\n",
       "        692       693       694       695       696       date  \n",
       "0  0.017689  0.017689  0.005896  0.023585  0.029482 2023-04-29  \n",
       "\n",
       "[1 rows x 698 columns]"
      ]
     },
     "execution_count": 22,
     "metadata": {},
     "output_type": "execute_result"
    }
   ],
   "source": [
    "vectors_df.head()"
   ]
  },
  {
   "cell_type": "code",
   "execution_count": 23,
   "id": "223b25d3",
   "metadata": {
    "ExecuteTime": {
     "end_time": "2023-04-27T00:02:03.317521Z",
     "start_time": "2023-04-27T00:02:03.233697Z"
    }
   },
   "outputs": [],
   "source": [
    "df_isw_short = data_preprocessed[['date','report_text_lemm','keywords','date_tomorrow_datetime']]"
   ]
  },
  {
   "cell_type": "code",
   "execution_count": 24,
   "id": "16b33679",
   "metadata": {
    "ExecuteTime": {
     "end_time": "2023-04-27T00:02:03.319545Z",
     "start_time": "2023-04-27T00:02:03.257261Z"
    }
   },
   "outputs": [
    {
     "data": {
      "text/html": [
       "<div>\n",
       "<style scoped>\n",
       "    .dataframe tbody tr th:only-of-type {\n",
       "        vertical-align: middle;\n",
       "    }\n",
       "\n",
       "    .dataframe tbody tr th {\n",
       "        vertical-align: top;\n",
       "    }\n",
       "\n",
       "    .dataframe thead th {\n",
       "        text-align: right;\n",
       "    }\n",
       "</style>\n",
       "<table border=\"1\" class=\"dataframe\">\n",
       "  <thead>\n",
       "    <tr style=\"text-align: right;\">\n",
       "      <th></th>\n",
       "      <th>date</th>\n",
       "      <th>report_text_lemm</th>\n",
       "      <th>keywords</th>\n",
       "      <th>date_tomorrow_datetime</th>\n",
       "    </tr>\n",
       "  </thead>\n",
       "  <tbody>\n",
       "    <tr>\n",
       "      <th>0</th>\n",
       "      <td>2023-04-28</td>\n",
       "      <td>russian offens campaign ass april twenty eigh...</td>\n",
       "      <td>{'russian': 0.66, 'forc': 0.242, 'twenty': 0.2...</td>\n",
       "      <td>2023-04-29</td>\n",
       "    </tr>\n",
       "  </tbody>\n",
       "</table>\n",
       "</div>"
      ],
      "text/plain": [
       "        date                                   report_text_lemm   \n",
       "0 2023-04-28   russian offens campaign ass april twenty eigh...  \\\n",
       "\n",
       "                                            keywords date_tomorrow_datetime  \n",
       "0  {'russian': 0.66, 'forc': 0.242, 'twenty': 0.2...             2023-04-29  "
      ]
     },
     "execution_count": 24,
     "metadata": {},
     "output_type": "execute_result"
    }
   ],
   "source": [
    "df_isw_short.head()"
   ]
  },
  {
   "cell_type": "markdown",
   "id": "16e51cbe",
   "metadata": {},
   "source": [
    "### Predict"
   ]
  },
  {
   "cell_type": "code",
   "execution_count": null,
   "id": "5db9d5fe",
   "metadata": {
    "ExecuteTime": {
     "end_time": "2023-04-27T00:01:25.754636Z",
     "start_time": "2023-04-27T00:01:18.004795Z"
    }
   },
   "outputs": [
    {
     "name": "stderr",
     "output_type": "stream",
     "text": [
      "/tmp/ipykernel_141036/3535089574.py:1: DeprecationWarning: Please use `csr_matrix` from the `scipy.sparse` namespace, the `scipy.sparse.csr` namespace is deprecated.\n",
      "  tfidf = pickle.load(open(\"models/tfidf_transformer_v1.pkl\",\"rb\"))\n",
      "/home/ubuntu/.pyenv/versions/3.10.6/lib/python3.10/site-packages/sklearn/base.py:318: UserWarning: Trying to unpickle estimator TfidfTransformer from version 0.24.2 when using version 1.2.2. This might lead to breaking code or invalid results. Use at your own risk. For more info please refer to:\n",
      "https://scikit-learn.org/stable/model_persistence.html#security-maintainability-limitations\n",
      "  warnings.warn(\n",
      "/home/ubuntu/.pyenv/versions/3.10.6/lib/python3.10/site-packages/sklearn/base.py:318: UserWarning: Trying to unpickle estimator CountVectorizer from version 0.24.2 when using version 1.2.2. This might lead to breaking code or invalid results. Use at your own risk. For more info please refer to:\n",
      "https://scikit-learn.org/stable/model_persistence.html#security-maintainability-limitations\n",
      "  warnings.warn(\n"
     ]
    }
   ],
   "source": [
    "tfidf = pickle.load(open(\"models/tfidf_transformer_v1.pkl\",\"rb\"))\n",
    "cv = pickle.load(open(\"models/count_vectorizer_v1.pkl\",\"rb\"))\n",
    "model = pickle.load(open(\"models/training_models/4_rf_3.1f.pkl\",\"rb\"))\n",
    "\n",
    "tfidf_vector = scipy.sparse.load_npz('data/matrix/tfidf_vector_train.npz')"
   ]
  },
  {
   "cell_type": "code",
   "execution_count": null,
   "id": "434a4f1e",
   "metadata": {},
   "outputs": [],
   "source": [
    "cities = ['Крим','Вінниччина','Волинь','Дніпропетровщина','Донеччина','Житомирщина','Закарпаття', 'Запоріжжя',\n",
    "          'Івано-Франківщина','Київщина','Кіровоградщина','Луганщина','Львівщина','Миколаївщина','Одещина','Полтавщина',\n",
    "          'Рівненщина','Сумщина','Тернопільщина','Харківщина','Херсонщина','Хмельниччина','Черкащина',\n",
    "          'Буковина','Чернігівщина']\n",
    "\n",
    "date = today = datetime.date.today()\n",
    "result = {}\n",
    "for city in cities:\n",
    "\n",
    "    df_weather_final = get_weather.get_weather_for_12_hours(city,date)\n",
    "\n",
    "    # merge\n",
    "    df_weather_final['key']=1\n",
    "    df_isw_short['key']=1\n",
    "    df_all = df_weather_final.merge(df_isw_short, how = 'left', left_on = 'key', right_on = 'key')\n",
    "\n",
    "    # drop\n",
    "    to_drop=['key','date','date_tomorrow_datetime','keywords','report_text_lemm']\n",
    "    if 'sunrise' in df_all.columns:\n",
    "        exceptions = ['sunset','sunrise']\n",
    "        to_drop.extend(exceptions)\n",
    "    df_weather_matrix_v1 = df_all.drop(to_drop, axis = 1)\n",
    "\n",
    "    # final dataset\n",
    "    df_weather_matrix_v1= df_weather_matrix_v1[['day_tempmax', 'day_tempmin', 'day_temp', 'day_dew', 'day_humidity',\n",
    "           'day_precip', 'day_precipcover', 'day_solarradiation',\n",
    "           'day_solarenergy', 'day_uvindex', 'hour_temp', 'hour_humidity',\n",
    "           'hour_dew', 'hour_precip', 'hour_precipprob', 'hour_snow',\n",
    "           'hour_snowdepth', 'hour_windgust', 'hour_windspeed', 'hour_winddir',\n",
    "           'hour_pressure', 'hour_visibility', 'hour_cloudcover',\n",
    "           'hour_solarradiation', 'hour_uvindex', 'hour_severerisk','region_id','hour_datetimeEpoch']]\n",
    "\n",
    "    cv_vector_model = cv.transform(df_all['report_text_lemm'].values.astype('U'))\n",
    "    #TF_IDF_MODEL = tfidf.transform(cv_vector_model)\n",
    "\n",
    "    df_weather_matrix_v1_csr = scipy.sparse.csr_matrix(df_weather_matrix_v1)\n",
    "    df_all_data_csr = scipy.sparse.hstack((df_weather_matrix_v1_csr, tfidf_vector), format='csr')\n",
    "\n",
    "    #predict\n",
    "    predicted = model.predict(df_all_data_csr)\n",
    "    current_time = pd.Timestamp.now()\n",
    "\n",
    "    hours = []\n",
    "    for i in range(12):\n",
    "        hour = current_time + datetime.timedelta(hours=i)\n",
    "        hours.append(hour) \n",
    "\n",
    "    result[city] = dict(zip(hours, predicted))\n",
    "    "
   ]
  },
  {
   "cell_type": "code",
   "execution_count": null,
   "id": "9fe15298",
   "metadata": {},
   "outputs": [],
   "source": [
    "result"
   ]
  },
  {
   "cell_type": "code",
   "execution_count": null,
   "id": "aeb3219e",
   "metadata": {},
   "outputs": [],
   "source": [
    "result = pd.DataFrame(result)\n",
    "result.to_csv('results.txt', sep='\\t', index=False)"
   ]
  }
 ],
 "metadata": {
  "kernelspec": {
   "display_name": "Python 3 (ipykernel)",
   "language": "python",
   "name": "python3"
  },
  "language_info": {
   "codemirror_mode": {
    "name": "ipython",
    "version": 3
   },
   "file_extension": ".py",
   "mimetype": "text/x-python",
   "name": "python",
   "nbconvert_exporter": "python",
   "pygments_lexer": "ipython3",
   "version": "3.10.6"
  }
 },
 "nbformat": 4,
 "nbformat_minor": 5
}
