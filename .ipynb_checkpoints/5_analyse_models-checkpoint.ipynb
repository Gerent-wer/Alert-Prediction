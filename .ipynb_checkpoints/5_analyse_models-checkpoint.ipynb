{
 "cells": [
  {
   "cell_type": "code",
   "execution_count": 1,
   "id": "aed1dad4",
   "metadata": {},
   "outputs": [],
   "source": [
    "#1 load all 6 models\n",
    "#2 Calculate confusion matrices for each model\n",
    "#3 Choose the top 3 models. Motivate your decision on how did you define “top” models?\n",
    "#4 Tune hyperparameters for the top 3 models you choose\n",
    "# Calculate confusion matrices for the 3 final tuned models. Explain what do metrics mean?\n",
    "# What are the top 20 features for each of your top-3 models? Draw them and their weights."
   ]
  },
  {
   "cell_type": "code",
   "execution_count": null,
   "id": "e9b509f0",
   "metadata": {},
   "outputs": [],
   "source": []
  }
 ],
 "metadata": {
  "kernelspec": {
   "display_name": "Python 3 (ipykernel)",
   "language": "python",
   "name": "python3"
  },
  "language_info": {
   "codemirror_mode": {
    "name": "ipython",
    "version": 3
   },
   "file_extension": ".py",
   "mimetype": "text/x-python",
   "name": "python",
   "nbconvert_exporter": "python",
   "pygments_lexer": "ipython3",
   "version": "3.8.0"
  }
 },
 "nbformat": 4,
 "nbformat_minor": 5
}
