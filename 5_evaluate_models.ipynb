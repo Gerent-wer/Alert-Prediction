{
 "cells": [
  {
   "cell_type": "code",
   "execution_count": 36,
   "id": "8677efa8",
   "metadata": {
    "ExecuteTime": {
     "start_time": "2023-04-12T23:32:36.537683Z",
     "end_time": "2023-04-12T23:32:43.438876Z"
    }
   },
   "outputs": [],
   "source": [
    "import pickle\n",
    "import numpy as np\n",
    "import pandas as pd\n",
    "\n",
    "knn = pickle.load(open(\"models/training_models/4_knn_1.1.pkl\",\"rb\"))\n",
    "rf = pickle.load(open(\"models/training_models/4_rf_1.1.pkl\",\"rb\"))"
   ]
  },
  {
   "cell_type": "code",
   "execution_count": 40,
   "outputs": [
    {
     "name": "stdout",
     "output_type": "stream",
     "text": [
      "0.07056355847478037 day_datetimeEpoch\n",
      "0.06315651241432549 hour_dew\n",
      "0.06192005341819136 hour_pressure\n",
      "0.06135555793062799 hour_humidity\n",
      "0.06062265469245814 hour_windspeed\n",
      "0.059016038625131884 hour_precipprob\n",
      "0.05779101646456585 hour_temp\n",
      "0.057750866882785336 hour_winddir\n",
      "0.04892916520458762 hour_visibility\n",
      "0.04758592836946624 hour_severerisk\n",
      "0.03355601202311686 day_solarenergy\n",
      "0.03352069441012746 day_precip\n"
     ]
    },
    {
     "ename": "IndexError",
     "evalue": "index 27 is out of bounds for axis 0 with size 27",
     "output_type": "error",
     "traceback": [
      "\u001B[1;31m---------------------------------------------------------------------------\u001B[0m",
      "\u001B[1;31mIndexError\u001B[0m                                Traceback (most recent call last)",
      "Cell \u001B[1;32mIn[40], line 10\u001B[0m\n\u001B[0;32m      7\u001B[0m sorted_idx \u001B[38;5;241m=\u001B[39m np\u001B[38;5;241m.\u001B[39margsort(feature_importances)[::\u001B[38;5;241m-\u001B[39m\u001B[38;5;241m1\u001B[39m]\n\u001B[0;32m      9\u001B[0m \u001B[38;5;28;01mfor\u001B[39;00m i \u001B[38;5;129;01min\u001B[39;00m \u001B[38;5;28mrange\u001B[39m(\u001B[38;5;241m20\u001B[39m):\n\u001B[1;32m---> 10\u001B[0m     \u001B[38;5;28mprint\u001B[39m(feature_importances[sorted_idx[i]], \u001B[43mX\u001B[49m\u001B[38;5;241;43m.\u001B[39;49m\u001B[43mcolumns\u001B[49m\u001B[43m[\u001B[49m\u001B[43msorted_idx\u001B[49m\u001B[43m[\u001B[49m\u001B[43mi\u001B[49m\u001B[43m]\u001B[49m\u001B[43m]\u001B[49m)\n",
      "File \u001B[1;32m~\\AppData\\Local\\Programs\\Python\\Python310\\lib\\site-packages\\pandas\\core\\indexes\\base.py:5174\u001B[0m, in \u001B[0;36mIndex.__getitem__\u001B[1;34m(self, key)\u001B[0m\n\u001B[0;32m   5171\u001B[0m \u001B[38;5;28;01mif\u001B[39;00m is_integer(key) \u001B[38;5;129;01mor\u001B[39;00m is_float(key):\n\u001B[0;32m   5172\u001B[0m     \u001B[38;5;66;03m# GH#44051 exclude bool, which would return a 2d ndarray\u001B[39;00m\n\u001B[0;32m   5173\u001B[0m     key \u001B[38;5;241m=\u001B[39m com\u001B[38;5;241m.\u001B[39mcast_scalar_indexer(key)\n\u001B[1;32m-> 5174\u001B[0m     \u001B[38;5;28;01mreturn\u001B[39;00m \u001B[43mgetitem\u001B[49m\u001B[43m(\u001B[49m\u001B[43mkey\u001B[49m\u001B[43m)\u001B[49m\n\u001B[0;32m   5176\u001B[0m \u001B[38;5;28;01mif\u001B[39;00m \u001B[38;5;28misinstance\u001B[39m(key, \u001B[38;5;28mslice\u001B[39m):\n\u001B[0;32m   5177\u001B[0m     \u001B[38;5;66;03m# This case is separated from the conditional above to avoid\u001B[39;00m\n\u001B[0;32m   5178\u001B[0m     \u001B[38;5;66;03m# pessimization com.is_bool_indexer and ndim checks.\u001B[39;00m\n\u001B[0;32m   5179\u001B[0m     result \u001B[38;5;241m=\u001B[39m getitem(key)\n",
      "\u001B[1;31mIndexError\u001B[0m: index 27 is out of bounds for axis 0 with size 27"
     ]
    }
   ],
   "source": [
    "X = pd.read_csv('data/weather_alarms_tfidf_features_clear.csv')\n",
    "X = X.drop(columns=['Unnamed: 0.1', 'Unnamed: 0'], axis=1)\n",
    "\n",
    "feature_importances = rf.feature_importances_\n",
    "\n",
    "# Sort the feature importances in descending order\n",
    "sorted_idx = np.argsort(feature_importances)[::-1]\n",
    "\n",
    "for i in range(20):\n",
    "    print(feature_importances[sorted_idx[i]], X.columns[sorted_idx[i]])"
   ],
   "metadata": {
    "collapsed": false,
    "ExecuteTime": {
     "start_time": "2023-04-12T23:30:48.243449Z",
     "end_time": "2023-04-12T23:30:48.326493Z"
    }
   }
  },
  {
   "cell_type": "code",
   "execution_count": null,
   "outputs": [],
   "source": [],
   "metadata": {
    "collapsed": false
   }
  }
 ],
 "metadata": {
  "kernelspec": {
   "display_name": "Python 3 (ipykernel)",
   "language": "python",
   "name": "python3"
  },
  "language_info": {
   "codemirror_mode": {
    "name": "ipython",
    "version": 3
   },
   "file_extension": ".py",
   "mimetype": "text/x-python",
   "name": "python",
   "nbconvert_exporter": "python",
   "pygments_lexer": "ipython3",
   "version": "3.9.7"
  }
 },
 "nbformat": 4,
 "nbformat_minor": 5
}
