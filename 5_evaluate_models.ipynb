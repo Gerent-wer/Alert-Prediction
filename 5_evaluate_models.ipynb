{
 "cells": [
  {
   "cell_type": "code",
   "execution_count": 1,
   "id": "220a794d",
   "metadata": {},
   "outputs": [],
   "source": [
    "#1 Calculate confusion matrices for the 3 final tuned models. Explain what do metrics mean?\n",
    "#2 What are the top 20 features for each of your top-3 models? Draw them and their weights."
   ]
  },
  {
   "cell_type": "code",
   "execution_count": null,
   "id": "8677efa8",
   "metadata": {},
   "outputs": [],
   "source": []
  }
 ],
 "metadata": {
  "kernelspec": {
   "display_name": "Python 3 (ipykernel)",
   "language": "python",
   "name": "python3"
  },
  "language_info": {
   "codemirror_mode": {
    "name": "ipython",
    "version": 3
   },
   "file_extension": ".py",
   "mimetype": "text/x-python",
   "name": "python",
   "nbconvert_exporter": "python",
   "pygments_lexer": "ipython3",
   "version": "3.9.7"
  }
 },
 "nbformat": 4,
 "nbformat_minor": 5
}
