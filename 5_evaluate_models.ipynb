{
 "cells": [
  {
   "cell_type": "markdown",
   "id": "8e11aee2",
   "metadata": {},
   "source": [
    "## Import necessary libraries and models"
   ]
  },
  {
   "cell_type": "code",
   "execution_count": 5,
   "id": "8677efa8",
   "metadata": {
    "ExecuteTime": {
     "end_time": "2023-04-12T23:32:43.438876Z",
     "start_time": "2023-04-12T23:32:36.537683Z"
    }
   },
   "outputs": [],
   "source": [
    "import pickle\n",
    "import numpy as np\n",
    "import pandas as pd\n",
    "\n",
    "knn = pickle.load(open(\"models/training_models/4_knn_1.1.pkl\",\"rb\"))\n",
    "rf = pickle.load(open(\"models/training_models/4_rf_1.1.pkl\",\"rb\"))"
   ]
  },
  {
   "cell_type": "markdown",
   "id": "f9f79e14",
   "metadata": {},
   "source": [
    "## Extract feature importance"
   ]
  },
  {
   "cell_type": "code",
   "execution_count": 6,
   "id": "3dc45bd8",
   "metadata": {
    "ExecuteTime": {
     "end_time": "2023-04-12T23:30:48.326493Z",
     "start_time": "2023-04-12T23:30:48.243449Z"
    }
   },
   "outputs": [],
   "source": [
    "X = pd.read_csv('data/weather_alarms_tfidf_features_clear.csv')\n",
    "X = X.drop(columns=['Unnamed: 0.1', 'Unnamed: 0'], axis=1)\n",
    "\n",
    "feature_importances = rf.feature_importances_\n",
    "\n",
    "# Sort the feature importances in descending order\n",
    "sorted_idx = np.argsort(feature_importances)[::-1]\n",
    "\n",
    "for i in range(20):\n",
    "    print(feature_importances[sorted_idx[i]], X.columns[sorted_idx[i]])"
   ]
  },
  {
   "cell_type": "code",
   "execution_count": 7,
   "id": "af2412eb",
   "metadata": {},
   "outputs": [],
   "source": [
    "# 0.07056355847478037 day_datetimeEpoch\n",
    "# 0.06315651241432549 hour_dew\n",
    "# 0.06192005341819136 hour_pressure\n",
    "# 0.06135555793062799 hour_humidity\n",
    "# 0.06062265469245814 hour_windspeed\n",
    "# 0.059016038625131884 hour_precipprob\n",
    "# 0.05779101646456585 hour_temp\n",
    "# 0.057750866882785336 hour_winddir\n",
    "# 0.04892916520458762 hour_visibility\n",
    "# 0.04758592836946624 hour_severerisk\n",
    "# 0.03355601202311686 day_solarenergy\n",
    "# 0.03352069441012746 day_precip"
   ]
  },
  {
   "cell_type": "code",
   "execution_count": null,
   "id": "a9139ddb",
   "metadata": {},
   "outputs": [],
   "source": []
  }
 ],
 "metadata": {
  "kernelspec": {
   "display_name": "Python 3 (ipykernel)",
   "language": "python",
   "name": "python3"
  },
  "language_info": {
   "codemirror_mode": {
    "name": "ipython",
    "version": 3
   },
   "file_extension": ".py",
   "mimetype": "text/x-python",
   "name": "python",
   "nbconvert_exporter": "python",
   "pygments_lexer": "ipython3",
   "version": "3.9.7"
  }
 },
 "nbformat": 4,
 "nbformat_minor": 5
}
