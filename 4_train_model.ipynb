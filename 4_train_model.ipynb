{
 "cells": [
  {
   "cell_type": "code",
   "execution_count": 2,
   "id": "65ab26b6",
   "metadata": {},
   "outputs": [],
   "source": [
    "#1. import necessary libraries and modules\n",
    "#2. upload all necessary data\n",
    "#3. define X and y. y - our target. X- predictors. We have X but how we represent y - ?????\n",
    "#4. devide data into train and test: X_test, Y_test, x_train, y_train\n",
    "    #use https://scikit-learn.org/stable/modules/generated/sklearn.model_selection.TimeSeriesSplit.html\n",
    "#5. to_csv function with two datasets()\n",
    "#6. train 6 models:\n",
    "    # 1. LogisticRegression\n",
    "    # 2. Support Vector Machines\n",
    "    # 3. Stochastic Gradient Descent\n",
    "    # 4. Random Forest\n",
    "    # 5. Nearest Neighbors Classification\n",
    "    # 6. Bayesian Regression\n",
    "#7. save them\n",
    "#8. move to the next file - 5_analyse_models"
   ]
  },
  {
   "cell_type": "code",
   "execution_count": null,
   "id": "12772d47",
   "metadata": {},
   "outputs": [],
   "source": []
  }
 ],
 "metadata": {
  "kernelspec": {
   "display_name": "Python 3 (ipykernel)",
   "language": "python",
   "name": "python3"
  },
  "language_info": {
   "codemirror_mode": {
    "name": "ipython",
    "version": 3
   },
   "file_extension": ".py",
   "mimetype": "text/x-python",
   "name": "python",
   "nbconvert_exporter": "python",
   "pygments_lexer": "ipython3",
   "version": "3.9.7"
  }
 },
 "nbformat": 4,
 "nbformat_minor": 5
}
