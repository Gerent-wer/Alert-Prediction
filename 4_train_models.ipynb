{
 "cells": [
  {
   "cell_type": "markdown",
   "id": "ee1ea2ce",
   "metadata": {},
   "source": [
    "## Import necessary libraries"
   ]
  },
  {
   "cell_type": "code",
   "execution_count": 25,
   "id": "d6c33ed8",
   "metadata": {
    "ExecuteTime": {
     "end_time": "2023-04-25T14:01:55.016918Z",
     "start_time": "2023-04-25T14:01:55.001284Z"
    }
   },
   "outputs": [],
   "source": [
    "import pandas as pd\n",
    "import pickle\n",
    "import scipy\n",
    "from scipy import sparse"
   ]
  },
  {
   "cell_type": "markdown",
   "id": "e762e0c2",
   "metadata": {},
   "source": [
    "## Read data and quick EDA"
   ]
  },
  {
   "cell_type": "code",
   "execution_count": 26,
   "id": "ed8f3542",
   "metadata": {
    "ExecuteTime": {
     "end_time": "2023-04-25T14:02:42.608728Z",
     "start_time": "2023-04-25T14:01:55.032543Z"
    }
   },
   "outputs": [],
   "source": [
    "weather_alarms_tfidf = pd.read_csv('data/df_weather+alarms_merged.csv')"
   ]
  },
  {
   "cell_type": "code",
   "execution_count": 27,
   "id": "3e72f651",
   "metadata": {
    "ExecuteTime": {
     "end_time": "2023-04-25T14:02:42.718102Z",
     "start_time": "2023-04-25T14:02:42.608728Z"
    }
   },
   "outputs": [
    {
     "data": {
      "text/plain": [
       "(203420, 70)"
      ]
     },
     "execution_count": 27,
     "metadata": {},
     "output_type": "execute_result"
    }
   ],
   "source": [
    "weather_alarms_tfidf.shape"
   ]
  },
  {
   "cell_type": "code",
   "execution_count": 28,
   "id": "dbe53dc4",
   "metadata": {
    "ExecuteTime": {
     "end_time": "2023-04-25T14:02:42.749357Z",
     "start_time": "2023-04-25T14:02:42.655607Z"
    }
   },
   "outputs": [
    {
     "data": {
      "text/html": [
       "<div>\n",
       "<style scoped>\n",
       "    .dataframe tbody tr th:only-of-type {\n",
       "        vertical-align: middle;\n",
       "    }\n",
       "\n",
       "    .dataframe tbody tr th {\n",
       "        vertical-align: top;\n",
       "    }\n",
       "\n",
       "    .dataframe thead th {\n",
       "        text-align: right;\n",
       "    }\n",
       "</style>\n",
       "<table border=\"1\" class=\"dataframe\">\n",
       "  <thead>\n",
       "    <tr style=\"text-align: right;\">\n",
       "      <th></th>\n",
       "      <th>Unnamed: 0</th>\n",
       "      <th>city_resolvedAddress</th>\n",
       "      <th>day_datetime</th>\n",
       "      <th>day_datetimeEpoch</th>\n",
       "      <th>day_tempmax</th>\n",
       "      <th>day_tempmin</th>\n",
       "      <th>day_temp</th>\n",
       "      <th>day_dew</th>\n",
       "      <th>day_humidity</th>\n",
       "      <th>day_precip</th>\n",
       "      <th>...</th>\n",
       "      <th>event_day_date</th>\n",
       "      <th>event_start_hour_datetimeEpoch</th>\n",
       "      <th>event_end_hour_datetimeEpoch</th>\n",
       "      <th>event_hour_level_event_time</th>\n",
       "      <th>event_hour_level_event_datetimeEpoch</th>\n",
       "      <th>isw_report_date</th>\n",
       "      <th>isw_date_tomorrow_datetime</th>\n",
       "      <th>isw_keywords</th>\n",
       "      <th>isw_main_html_v6</th>\n",
       "      <th>isw_report_text_lemm</th>\n",
       "    </tr>\n",
       "  </thead>\n",
       "  <tbody>\n",
       "    <tr>\n",
       "      <th>0</th>\n",
       "      <td>0</td>\n",
       "      <td>Черкаси, Україна</td>\n",
       "      <td>2022-02-24</td>\n",
       "      <td>1645653600</td>\n",
       "      <td>4.9</td>\n",
       "      <td>-0.1</td>\n",
       "      <td>1.9</td>\n",
       "      <td>-0.6</td>\n",
       "      <td>83.4</td>\n",
       "      <td>0.0</td>\n",
       "      <td>...</td>\n",
       "      <td>NaN</td>\n",
       "      <td>NaN</td>\n",
       "      <td>NaN</td>\n",
       "      <td>NaN</td>\n",
       "      <td>NaN</td>\n",
       "      <td>NaN</td>\n",
       "      <td>NaN</td>\n",
       "      <td>NaN</td>\n",
       "      <td>NaN</td>\n",
       "      <td>NaN</td>\n",
       "    </tr>\n",
       "    <tr>\n",
       "      <th>1</th>\n",
       "      <td>1</td>\n",
       "      <td>Черкаси, Україна</td>\n",
       "      <td>2022-02-24</td>\n",
       "      <td>1645653600</td>\n",
       "      <td>4.9</td>\n",
       "      <td>-0.1</td>\n",
       "      <td>1.9</td>\n",
       "      <td>-0.6</td>\n",
       "      <td>83.4</td>\n",
       "      <td>0.0</td>\n",
       "      <td>...</td>\n",
       "      <td>NaN</td>\n",
       "      <td>NaN</td>\n",
       "      <td>NaN</td>\n",
       "      <td>NaN</td>\n",
       "      <td>NaN</td>\n",
       "      <td>NaN</td>\n",
       "      <td>NaN</td>\n",
       "      <td>NaN</td>\n",
       "      <td>NaN</td>\n",
       "      <td>NaN</td>\n",
       "    </tr>\n",
       "    <tr>\n",
       "      <th>2</th>\n",
       "      <td>2</td>\n",
       "      <td>Черкаси, Україна</td>\n",
       "      <td>2022-02-24</td>\n",
       "      <td>1645653600</td>\n",
       "      <td>4.9</td>\n",
       "      <td>-0.1</td>\n",
       "      <td>1.9</td>\n",
       "      <td>-0.6</td>\n",
       "      <td>83.4</td>\n",
       "      <td>0.0</td>\n",
       "      <td>...</td>\n",
       "      <td>NaN</td>\n",
       "      <td>NaN</td>\n",
       "      <td>NaN</td>\n",
       "      <td>NaN</td>\n",
       "      <td>NaN</td>\n",
       "      <td>NaN</td>\n",
       "      <td>NaN</td>\n",
       "      <td>NaN</td>\n",
       "      <td>NaN</td>\n",
       "      <td>NaN</td>\n",
       "    </tr>\n",
       "    <tr>\n",
       "      <th>3</th>\n",
       "      <td>3</td>\n",
       "      <td>Черкаси, Україна</td>\n",
       "      <td>2022-02-24</td>\n",
       "      <td>1645653600</td>\n",
       "      <td>4.9</td>\n",
       "      <td>-0.1</td>\n",
       "      <td>1.9</td>\n",
       "      <td>-0.6</td>\n",
       "      <td>83.4</td>\n",
       "      <td>0.0</td>\n",
       "      <td>...</td>\n",
       "      <td>NaN</td>\n",
       "      <td>NaN</td>\n",
       "      <td>NaN</td>\n",
       "      <td>NaN</td>\n",
       "      <td>NaN</td>\n",
       "      <td>NaN</td>\n",
       "      <td>NaN</td>\n",
       "      <td>NaN</td>\n",
       "      <td>NaN</td>\n",
       "      <td>NaN</td>\n",
       "    </tr>\n",
       "    <tr>\n",
       "      <th>4</th>\n",
       "      <td>4</td>\n",
       "      <td>Черкаси, Україна</td>\n",
       "      <td>2022-02-24</td>\n",
       "      <td>1645653600</td>\n",
       "      <td>4.9</td>\n",
       "      <td>-0.1</td>\n",
       "      <td>1.9</td>\n",
       "      <td>-0.6</td>\n",
       "      <td>83.4</td>\n",
       "      <td>0.0</td>\n",
       "      <td>...</td>\n",
       "      <td>NaN</td>\n",
       "      <td>NaN</td>\n",
       "      <td>NaN</td>\n",
       "      <td>NaN</td>\n",
       "      <td>NaN</td>\n",
       "      <td>NaN</td>\n",
       "      <td>NaN</td>\n",
       "      <td>NaN</td>\n",
       "      <td>NaN</td>\n",
       "      <td>NaN</td>\n",
       "    </tr>\n",
       "  </tbody>\n",
       "</table>\n",
       "<p>5 rows × 70 columns</p>\n",
       "</div>"
      ],
      "text/plain": [
       "   Unnamed: 0 city_resolvedAddress day_datetime  day_datetimeEpoch   \n",
       "0           0     Черкаси, Україна   2022-02-24         1645653600  \\\n",
       "1           1     Черкаси, Україна   2022-02-24         1645653600   \n",
       "2           2     Черкаси, Україна   2022-02-24         1645653600   \n",
       "3           3     Черкаси, Україна   2022-02-24         1645653600   \n",
       "4           4     Черкаси, Україна   2022-02-24         1645653600   \n",
       "\n",
       "   day_tempmax  day_tempmin  day_temp  day_dew  day_humidity  day_precip  ...   \n",
       "0          4.9         -0.1       1.9     -0.6          83.4         0.0  ...  \\\n",
       "1          4.9         -0.1       1.9     -0.6          83.4         0.0  ...   \n",
       "2          4.9         -0.1       1.9     -0.6          83.4         0.0  ...   \n",
       "3          4.9         -0.1       1.9     -0.6          83.4         0.0  ...   \n",
       "4          4.9         -0.1       1.9     -0.6          83.4         0.0  ...   \n",
       "\n",
       "   event_day_date  event_start_hour_datetimeEpoch   \n",
       "0             NaN                             NaN  \\\n",
       "1             NaN                             NaN   \n",
       "2             NaN                             NaN   \n",
       "3             NaN                             NaN   \n",
       "4             NaN                             NaN   \n",
       "\n",
       "   event_end_hour_datetimeEpoch  event_hour_level_event_time   \n",
       "0                           NaN                          NaN  \\\n",
       "1                           NaN                          NaN   \n",
       "2                           NaN                          NaN   \n",
       "3                           NaN                          NaN   \n",
       "4                           NaN                          NaN   \n",
       "\n",
       "  event_hour_level_event_datetimeEpoch isw_report_date   \n",
       "0                                  NaN             NaN  \\\n",
       "1                                  NaN             NaN   \n",
       "2                                  NaN             NaN   \n",
       "3                                  NaN             NaN   \n",
       "4                                  NaN             NaN   \n",
       "\n",
       "   isw_date_tomorrow_datetime isw_keywords  isw_main_html_v6   \n",
       "0                         NaN          NaN               NaN  \\\n",
       "1                         NaN          NaN               NaN   \n",
       "2                         NaN          NaN               NaN   \n",
       "3                         NaN          NaN               NaN   \n",
       "4                         NaN          NaN               NaN   \n",
       "\n",
       "   isw_report_text_lemm  \n",
       "0                   NaN  \n",
       "1                   NaN  \n",
       "2                   NaN  \n",
       "3                   NaN  \n",
       "4                   NaN  \n",
       "\n",
       "[5 rows x 70 columns]"
      ]
     },
     "execution_count": 28,
     "metadata": {},
     "output_type": "execute_result"
    }
   ],
   "source": [
    "weather_alarms_tfidf.head()"
   ]
  },
  {
   "cell_type": "code",
   "execution_count": 29,
   "id": "f638660c",
   "metadata": {
    "ExecuteTime": {
     "end_time": "2023-04-25T14:02:42.749357Z",
     "start_time": "2023-04-25T14:02:42.702479Z"
    },
    "scrolled": true
   },
   "outputs": [
    {
     "data": {
      "text/plain": [
       "Index(['Unnamed: 0', 'city_resolvedAddress', 'day_datetime',\n",
       "       'day_datetimeEpoch', 'day_tempmax', 'day_tempmin', 'day_temp',\n",
       "       'day_dew', 'day_humidity', 'day_precip', 'day_precipcover',\n",
       "       'day_solarradiation', 'day_solarenergy', 'day_uvindex', 'day_sunrise',\n",
       "       'day_sunset', 'day_moonphase', 'hour_datetime', 'hour_datetimeEpoch',\n",
       "       'hour_temp', 'hour_humidity', 'hour_dew', 'hour_precip',\n",
       "       'hour_precipprob', 'hour_snow', 'hour_snowdepth', 'hour_preciptype',\n",
       "       'hour_windgust', 'hour_windspeed', 'hour_winddir', 'hour_pressure',\n",
       "       'hour_visibility', 'hour_cloudcover', 'hour_solarradiation',\n",
       "       'hour_solarenergy', 'hour_uvindex', 'hour_severerisk',\n",
       "       'hour_conditions', 'city', 'region', 'center_city_ua', 'center_city_en',\n",
       "       'region_alt', 'region_id', 'event_Unnamed: 0', 'event_region_title',\n",
       "       'event_region_city', 'event_all_region', 'event_start', 'event_end',\n",
       "       'event_clean_end', 'event_intersection_alarm_id', 'event_start_time',\n",
       "       'event_end_time', 'event_day', 'event_feature_number_of_region',\n",
       "       'event_within_24_hours',\n",
       "       'event_feature_number_of_alarms_within_24_hours', 'event_start_hour',\n",
       "       'event_end_hour', 'event_day_date', 'event_start_hour_datetimeEpoch',\n",
       "       'event_end_hour_datetimeEpoch', 'event_hour_level_event_time',\n",
       "       'event_hour_level_event_datetimeEpoch', 'isw_report_date',\n",
       "       'isw_date_tomorrow_datetime', 'isw_keywords', 'isw_main_html_v6',\n",
       "       'isw_report_text_lemm'],\n",
       "      dtype='object')"
      ]
     },
     "execution_count": 29,
     "metadata": {},
     "output_type": "execute_result"
    }
   ],
   "source": [
    "weather_alarms_tfidf.columns"
   ]
  },
  {
   "cell_type": "code",
   "execution_count": 30,
   "id": "f67b66ad",
   "metadata": {
    "ExecuteTime": {
     "end_time": "2023-04-25T14:02:42.749357Z",
     "start_time": "2023-04-25T14:02:42.718102Z"
    }
   },
   "outputs": [
    {
     "data": {
      "text/plain": [
       "(203420, 70)"
      ]
     },
     "execution_count": 30,
     "metadata": {},
     "output_type": "execute_result"
    }
   ],
   "source": [
    "weather_alarms_tfidf.shape"
   ]
  },
  {
   "cell_type": "markdown",
   "id": "34470577",
   "metadata": {},
   "source": [
    "## TF_IDF + CV with isw_report_text_lemm preprocessed"
   ]
  },
  {
   "cell_type": "code",
   "execution_count": 31,
   "id": "f55ac22f",
   "metadata": {
    "ExecuteTime": {
     "end_time": "2023-04-25T14:02:47.578843Z",
     "start_time": "2023-04-25T14:02:42.749357Z"
    }
   },
   "outputs": [
    {
     "name": "stderr",
     "output_type": "stream",
     "text": [
      "C:\\Users\\dimai\\AppData\\Local\\Temp\\ipykernel_10612\\3783398272.py:1: DeprecationWarning: Please use `csr_matrix` from the `scipy.sparse` namespace, the `scipy.sparse.csr` namespace is deprecated.\n",
      "  tfidf = pickle.load(open(\"models/tfidf_transformer_v1.pkl\",\"rb\"))\n",
      "C:\\Users\\dimai\\AppData\\Local\\Programs\\Python\\Python310\\lib\\site-packages\\sklearn\\base.py:318: UserWarning: Trying to unpickle estimator TfidfTransformer from version 0.24.2 when using version 1.2.2. This might lead to breaking code or invalid results. Use at your own risk. For more info please refer to:\n",
      "https://scikit-learn.org/stable/model_persistence.html#security-maintainability-limitations\n",
      "  warnings.warn(\n",
      "C:\\Users\\dimai\\AppData\\Local\\Programs\\Python\\Python310\\lib\\site-packages\\sklearn\\base.py:318: UserWarning: Trying to unpickle estimator CountVectorizer from version 0.24.2 when using version 1.2.2. This might lead to breaking code or invalid results. Use at your own risk. For more info please refer to:\n",
      "https://scikit-learn.org/stable/model_persistence.html#security-maintainability-limitations\n",
      "  warnings.warn(\n"
     ]
    }
   ],
   "source": [
    "tfidf = pickle.load(open(\"models/tfidf_transformer_v1.pkl\",\"rb\"))\n",
    "cv = pickle.load(open(\"models/count_vectorizer_v1.pkl\",\"rb\"))\n",
    "\n",
    "#Uncommit if you want to load exist matrix\n",
    "tfidf_vector = scipy.sparse.load_npz('data/matrix/tfidf_vector_train.npz')\n",
    "\n",
    "# #Uncommit if you want to create new one\n",
    "# word_count_vector = cv.transform(weather_alarms_tfidf['isw_report_text_lemm'].values.astype('U'))\n",
    "# tfidf_vector = tfidf.transform(word_count_vector)"
   ]
  },
  {
   "cell_type": "code",
   "execution_count": 32,
   "id": "8c29be78",
   "metadata": {
    "ExecuteTime": {
     "end_time": "2023-04-25T14:02:47.594596Z",
     "start_time": "2023-04-25T14:02:47.578843Z"
    }
   },
   "outputs": [],
   "source": [
    "# #Save created model and matrix\n",
    "# with open(\"models/tfidf_vector_calculated.pkl\", \"wb\") as handle:\n",
    "#    pickle.dump(tfidf_vector, handle)\n",
    "# scipy.sparse.save_npz('data/matrix/tfidf_vector_train.npz', tfidf_vector)"
   ]
  },
  {
   "cell_type": "code",
   "execution_count": 33,
   "id": "8dba941a",
   "metadata": {
    "ExecuteTime": {
     "end_time": "2023-04-25T14:02:47.656912Z",
     "start_time": "2023-04-25T14:02:47.594596Z"
    }
   },
   "outputs": [
    {
     "data": {
      "text/plain": [
       "<203420x7401 sparse matrix of type '<class 'numpy.float64'>'\n",
       "\twith 123370706 stored elements in Compressed Sparse Row format>"
      ]
     },
     "execution_count": 33,
     "metadata": {},
     "output_type": "execute_result"
    }
   ],
   "source": [
    "tfidf_vector"
   ]
  },
  {
   "cell_type": "markdown",
   "id": "8975f47b",
   "metadata": {},
   "source": [
    "## Dataset Preprocesing"
   ]
  },
  {
   "cell_type": "code",
   "execution_count": 34,
   "id": "84f5ab6e",
   "metadata": {
    "ExecuteTime": {
     "end_time": "2023-04-25T14:02:47.938163Z",
     "start_time": "2023-04-25T14:02:47.610164Z"
    }
   },
   "outputs": [
    {
     "name": "stdout",
     "output_type": "stream",
     "text": [
      "<class 'pandas.core.frame.DataFrame'>\n",
      "RangeIndex: 203420 entries, 0 to 203419\n",
      "Data columns (total 71 columns):\n",
      " #   Column                                          Non-Null Count   Dtype  \n",
      "---  ------                                          --------------   -----  \n",
      " 0   Unnamed: 0                                      203420 non-null  int64  \n",
      " 1   city_resolvedAddress                            203420 non-null  object \n",
      " 2   day_datetime                                    203420 non-null  object \n",
      " 3   day_datetimeEpoch                               203420 non-null  int64  \n",
      " 4   day_tempmax                                     203420 non-null  float64\n",
      " 5   day_tempmin                                     203420 non-null  float64\n",
      " 6   day_temp                                        203420 non-null  float64\n",
      " 7   day_dew                                         203420 non-null  float64\n",
      " 8   day_humidity                                    203420 non-null  float64\n",
      " 9   day_precip                                      203420 non-null  float64\n",
      " 10  day_precipcover                                 203420 non-null  float64\n",
      " 11  day_solarradiation                              203420 non-null  float64\n",
      " 12  day_solarenergy                                 203420 non-null  float64\n",
      " 13  day_uvindex                                     203420 non-null  float64\n",
      " 14  day_sunrise                                     203420 non-null  object \n",
      " 15  day_sunset                                      203420 non-null  object \n",
      " 16  day_moonphase                                   203420 non-null  float64\n",
      " 17  hour_datetime                                   203420 non-null  object \n",
      " 18  hour_datetimeEpoch                              203420 non-null  int64  \n",
      " 19  hour_temp                                       203420 non-null  float64\n",
      " 20  hour_humidity                                   203420 non-null  float64\n",
      " 21  hour_dew                                        203420 non-null  float64\n",
      " 22  hour_precip                                     203310 non-null  float64\n",
      " 23  hour_precipprob                                 203420 non-null  float64\n",
      " 24  hour_snow                                       203420 non-null  float64\n",
      " 25  hour_snowdepth                                  203420 non-null  float64\n",
      " 26  hour_preciptype                                 33433 non-null   object \n",
      " 27  hour_windgust                                   203420 non-null  float64\n",
      " 28  hour_windspeed                                  203420 non-null  float64\n",
      " 29  hour_winddir                                    203420 non-null  float64\n",
      " 30  hour_pressure                                   203420 non-null  float64\n",
      " 31  hour_visibility                                 203420 non-null  float64\n",
      " 32  hour_cloudcover                                 203420 non-null  float64\n",
      " 33  hour_solarradiation                             202636 non-null  float64\n",
      " 34  hour_solarenergy                                111221 non-null  float64\n",
      " 35  hour_uvindex                                    202636 non-null  float64\n",
      " 36  hour_severerisk                                 203420 non-null  float64\n",
      " 37  hour_conditions                                 203420 non-null  object \n",
      " 38  city                                            203420 non-null  object \n",
      " 39  region                                          203420 non-null  object \n",
      " 40  center_city_ua                                  203420 non-null  object \n",
      " 41  center_city_en                                  203420 non-null  object \n",
      " 42  region_alt                                      203420 non-null  object \n",
      " 43  region_id                                       203420 non-null  int64  \n",
      " 44  event_Unnamed: 0                                51594 non-null   float64\n",
      " 45  event_region_title                              51594 non-null   object \n",
      " 46  event_region_city                               51594 non-null   object \n",
      " 47  event_all_region                                51594 non-null   float64\n",
      " 48  event_start                                     51594 non-null   object \n",
      " 49  event_end                                       51594 non-null   object \n",
      " 50  event_clean_end                                 51593 non-null   object \n",
      " 51  event_intersection_alarm_id                     4997 non-null    float64\n",
      " 52  event_start_time                                51594 non-null   object \n",
      " 53  event_end_time                                  51594 non-null   object \n",
      " 54  event_day                                       51594 non-null   float64\n",
      " 55  event_feature_number_of_region                  51594 non-null   float64\n",
      " 56  event_within_24_hours                           51594 non-null   object \n",
      " 57  event_feature_number_of_alarms_within_24_hours  51594 non-null   float64\n",
      " 58  event_start_hour                                51594 non-null   object \n",
      " 59  event_end_hour                                  51594 non-null   object \n",
      " 60  event_day_date                                  51594 non-null   object \n",
      " 61  event_start_hour_datetimeEpoch                  51594 non-null   float64\n",
      " 62  event_end_hour_datetimeEpoch                    51594 non-null   float64\n",
      " 63  event_hour_level_event_time                     51594 non-null   object \n",
      " 64  event_hour_level_event_datetimeEpoch            51594 non-null   float64\n",
      " 65  isw_report_date                                 201669 non-null  object \n",
      " 66  isw_date_tomorrow_datetime                      201669 non-null  object \n",
      " 67  isw_keywords                                    201669 non-null  object \n",
      " 68  isw_main_html_v6                                195000 non-null  object \n",
      " 69  isw_report_text_lemm                            201669 non-null  object \n",
      " 70  isAlarm                                         203420 non-null  int32  \n",
      "dtypes: float64(37), int32(1), int64(4), object(29)\n",
      "memory usage: 109.4+ MB\n"
     ]
    }
   ],
   "source": [
    "# create dependent wariable - isAlarm\n",
    "\n",
    "weather_alarms_tfidf['isAlarm'] = weather_alarms_tfidf['event_start_hour'].notnull().astype(int)\n",
    "Y = weather_alarms_tfidf['isAlarm']\n",
    "weather_alarms_tfidf.info()"
   ]
  },
  {
   "cell_type": "code",
   "execution_count": 35,
   "id": "4e08413b",
   "metadata": {
    "ExecuteTime": {
     "end_time": "2023-04-25T14:02:48.016288Z",
     "start_time": "2023-04-25T14:02:47.953787Z"
    }
   },
   "outputs": [],
   "source": [
    "#Clean data\n",
    "\n",
    "weather_alarms_tfidf_features = weather_alarms_tfidf.drop(columns=['event_all_region', 'event_start',\n",
    "       'event_end', 'event_clean_end', 'event_intersection_alarm_id',\n",
    "       'event_start_time', 'event_end_time', 'event_day',\n",
    "       'event_feature_number_of_region', 'event_within_24_hours',\n",
    "       'event_feature_number_of_alarms_within_24_hours', 'event_start_hour',\n",
    "       'event_end_hour', 'event_day_date', 'event_start_hour_datetimeEpoch',\n",
    "       'event_end_hour_datetimeEpoch', 'event_hour_level_event_time',\n",
    "       'event_hour_level_event_datetimeEpoch','region_alt','hour_conditions','center_city_en','hour_datetime','day_sunset','day_sunrise','isAlarm','hour_precip','hour_solarradiation','hour_solarenergy','hour_uvindex', 'event_region_title', 'event_region_city', 'isw_report_date', 'isw_date_tomorrow_datetime', 'isw_keywords', 'isw_main_html_v6', 'isw_report_text_lemm', 'city', 'region', 'center_city_ua', 'hour_preciptype', 'city_resolvedAddress', 'day_datetime', 'event_Unnamed: 0'],axis=1)"
   ]
  },
  {
   "cell_type": "code",
   "execution_count": 36,
   "id": "cd2d0c27",
   "metadata": {
    "ExecuteTime": {
     "end_time": "2023-04-25T14:02:50.932222Z",
     "start_time": "2023-04-25T14:02:47.985042Z"
    }
   },
   "outputs": [],
   "source": [
    "weather_alarms_tfidf_features_clear = weather_alarms_tfidf_features\n",
    "weather_alarms_tfidf_features_clear.to_csv('data/weather_alarms_tfidf_features_clear.csv')"
   ]
  },
  {
   "cell_type": "code",
   "execution_count": 37,
   "id": "f67167da",
   "metadata": {
    "ExecuteTime": {
     "end_time": "2023-04-25T14:02:50.994507Z",
     "start_time": "2023-04-25T14:02:50.932222Z"
    }
   },
   "outputs": [
    {
     "data": {
      "text/plain": [
       "Unnamed: 0            0\n",
       "day_datetimeEpoch     0\n",
       "day_tempmax           0\n",
       "day_tempmin           0\n",
       "day_temp              0\n",
       "day_dew               0\n",
       "day_humidity          0\n",
       "day_precip            0\n",
       "day_precipcover       0\n",
       "day_solarradiation    0\n",
       "day_solarenergy       0\n",
       "day_uvindex           0\n",
       "day_moonphase         0\n",
       "hour_datetimeEpoch    0\n",
       "hour_temp             0\n",
       "hour_humidity         0\n",
       "hour_dew              0\n",
       "hour_precipprob       0\n",
       "hour_snow             0\n",
       "hour_snowdepth        0\n",
       "hour_windgust         0\n",
       "hour_windspeed        0\n",
       "hour_winddir          0\n",
       "hour_pressure         0\n",
       "hour_visibility       0\n",
       "hour_cloudcover       0\n",
       "hour_severerisk       0\n",
       "region_id             0\n",
       "dtype: int64"
      ]
     },
     "execution_count": 37,
     "metadata": {},
     "output_type": "execute_result"
    }
   ],
   "source": [
    "weather_alarms_tfidf_features_clear.isnull().sum()"
   ]
  },
  {
   "cell_type": "code",
   "execution_count": 38,
   "id": "2c731beb",
   "metadata": {
    "ExecuteTime": {
     "end_time": "2023-04-25T14:02:57.281843Z",
     "start_time": "2023-04-25T14:02:50.963409Z"
    }
   },
   "outputs": [],
   "source": [
    "# merge final dataset with tf_idf vector\n",
    "\n",
    "weather_alarms_tfidf_csr = scipy.sparse.csr_matrix(weather_alarms_tfidf_features_clear)\n",
    "weather_alarms_tfidf_features = scipy.sparse.hstack((weather_alarms_tfidf_csr, tfidf_vector), format=\"csr\")"
   ]
  },
  {
   "cell_type": "code",
   "execution_count": 39,
   "id": "707515a1",
   "metadata": {
    "ExecuteTime": {
     "end_time": "2023-04-25T14:03:14.471659Z",
     "start_time": "2023-04-25T14:02:57.281843Z"
    }
   },
   "outputs": [],
   "source": [
    "# save matrix\n",
    "scipy.sparse.save_npz('data/matrix/weather_alarms_tfidf_features.npz', weather_alarms_tfidf_features)"
   ]
  },
  {
   "cell_type": "code",
   "execution_count": 40,
   "id": "60fd33c9",
   "metadata": {
    "ExecuteTime": {
     "end_time": "2023-04-25T14:03:14.487524Z",
     "start_time": "2023-04-25T14:03:14.471659Z"
    }
   },
   "outputs": [
    {
     "data": {
      "text/plain": [
       "<203420x7429 sparse matrix of type '<class 'numpy.float64'>'\n",
       "\twith 128262032 stored elements in Compressed Sparse Row format>"
      ]
     },
     "execution_count": 40,
     "metadata": {},
     "output_type": "execute_result"
    }
   ],
   "source": [
    "weather_alarms_tfidf_features"
   ]
  },
  {
   "cell_type": "markdown",
   "id": "f5835830",
   "metadata": {},
   "source": [
    "## Devide data into train and test parts, train models and evaluate them"
   ]
  },
  {
   "cell_type": "code",
   "execution_count": 41,
   "id": "241a691a",
   "metadata": {
    "ExecuteTime": {
     "end_time": "2023-04-25T14:03:15.216689Z",
     "start_time": "2023-04-25T14:03:14.502751Z"
    }
   },
   "outputs": [],
   "source": [
    "#Imports\n",
    "\n",
    "from sklearn.model_selection import TimeSeriesSplit\n",
    "from sklearn.svm import SVC\n",
    "from sklearn.ensemble import RandomForestClassifier\n",
    "from sklearn.neighbors import KNeighborsClassifier\n",
    "from sklearn.linear_model import SGDClassifier, LogisticRegression\n",
    "from sklearn.naive_bayes import GaussianNB\n",
    "from sklearn.metrics import classification_report, accuracy_score\n",
    "from sklearn.utils import shuffle\n",
    "\n",
    "COMMAND_ID = \"4\"\n",
    "\n",
    "# Split the dataset into input features (X) and target variable (y)\n",
    "\n",
    "X = weather_alarms_tfidf_features  \n",
    "y = Y  \n",
    "\n",
    "X, y = shuffle(X, y, random_state=42)"
   ]
  },
  {
   "cell_type": "markdown",
   "id": "8411ee3d",
   "metadata": {},
   "source": [
    "## Discription\n",
    "\n",
    "#### We used TimeSeriesSplit to devide our dataset for a few small and tested each model with them. We collected reports and chose model which we think the best for our needs."
   ]
  },
  {
   "cell_type": "markdown",
   "id": "30bbee05",
   "metadata": {
    "ExecuteTime": {
     "end_time": "2023-04-19T17:00:41.673881Z",
     "start_time": "2023-04-19T17:00:40.706929Z"
    }
   },
   "source": [
    "## Model 1 SGDClassifier"
   ]
  },
  {
   "cell_type": "code",
   "execution_count": null,
   "id": "05e42a0f",
   "metadata": {
    "ExecuteTime": {
     "end_time": "2023-04-22T00:08:05.873284Z",
     "start_time": "2023-04-22T00:02:09.064231Z"
    }
   },
   "outputs": [],
   "source": [
    "tscv = TimeSeriesSplit(n_splits=3)\n",
    "circle = 0\n",
    "\n",
    "for train_index, test_index in tscv.split(X):\n",
    "\n",
    "    # Access the train and test data for X and y\n",
    "    X_train, X_test = X[train_index], X[test_index]\n",
    "    y_train, y_test = y[train_index], y[test_index]\n",
    "\n",
    "    print(X_train.shape)\n",
    "    print(X_test.shape)\n",
    "\n",
    "    sgd = SGDClassifier()\n",
    "\n",
    "    sgd.fit(X_train, y_train)\n",
    "    sgd_pred = sgd.predict(X_test)\n",
    "    sgd_accuracy = accuracy_score(y_test, sgd_pred)\n",
    "    sgd_report = classification_report(y_test, sgd_pred)\n",
    "\n",
    "    print(\"SGDClassifier Accuracy:\", sgd_accuracy)\n",
    "    print(\"SGDClassifier Report:\\n\", sgd_report)\n",
    "\n",
    "    # Save model\n",
    "    MODEL_NAME = \"sgd\"\n",
    "    VERSION = \"1.\"+str(circle)\n",
    "    with open(f'models/training_models/{COMMAND_ID}_{MODEL_NAME}_{VERSION}.pkl', 'wb') as f:\n",
    "        pickle.dump(sgd, f)\n",
    "\n",
    "    circle=circle+1"
   ]
  },
  {
   "cell_type": "markdown",
   "id": "02d0698b",
   "metadata": {
    "ExecuteTime": {
     "end_time": "2023-04-22T00:09:29.297775Z",
     "start_time": "2023-04-22T00:09:29.255793Z"
    }
   },
   "source": [
    "## Model 2 LogisticRegression"
   ]
  },
  {
   "cell_type": "code",
   "execution_count": null,
   "id": "3784d563",
   "metadata": {
    "ExecuteTime": {
     "end_time": "2023-04-22T00:15:44.612995Z",
     "start_time": "2023-04-22T00:15:30.905809Z"
    }
   },
   "outputs": [],
   "source": [
    "tscv = TimeSeriesSplit(n_splits=3)\n",
    "circle = 0\n",
    "\n",
    "for train_index, test_index in tscv.split(X):\n",
    "\n",
    "    # Access the train and test data for X and y\n",
    "    X_train, X_test = X[train_index], X[test_index]\n",
    "    y_train, y_test = y[train_index], y[test_index]\n",
    "\n",
    "    print(X_train.shape)\n",
    "    print(X_test.shape)\n",
    "\n",
    "    lr = LogisticRegression()\n",
    "\n",
    "    lr.fit(X_train, y_train)\n",
    "    lr_pred = lr.predict(X_test)\n",
    "    lr_accuracy = accuracy_score(y_test, lr_pred)\n",
    "    lr_report = classification_report(y_test, lr_pred)\n",
    "\n",
    "    print(\"LogisticRegression Accuracy:\", lr_accuracy)\n",
    "    print(\"LogisticRegression Report:\\n\", lr_report)\n",
    "\n",
    "    # Save model\n",
    "    MODEL_NAME = \"logreg\"\n",
    "    VERSION = \"1.\"+str(circle)\n",
    "    with open(f'models/training_models/{COMMAND_ID}_{MODEL_NAME}_{VERSION}.pkl', 'wb') as f:\n",
    "        pickle.dump(lr, f)\n",
    "\n",
    "    circle=circle+1"
   ]
  },
  {
   "cell_type": "markdown",
   "id": "60d7992b",
   "metadata": {
    "ExecuteTime": {
     "end_time": "2023-04-22T00:19:03.691597Z",
     "start_time": "2023-04-22T00:19:03.663721Z"
    }
   },
   "source": [
    "## Model 3 GaussianNB"
   ]
  },
  {
   "cell_type": "code",
   "execution_count": null,
   "id": "a9b25931",
   "metadata": {},
   "outputs": [],
   "source": [
    "tscv = TimeSeriesSplit(n_splits=3)\n",
    "circle = 0\n",
    "\n",
    "for train_index, test_index in tscv.split(X):\n",
    "\n",
    "    # Access the train and test data for X and y\n",
    "    X_train, X_test = X[train_index].toarray(), X[test_index]\n",
    "    y_train, y_test = y[train_index].toarray(), y[test_index]\n",
    "\n",
    "    print(X_train.shape)\n",
    "    print(X_test.shape)\n",
    "\n",
    "    gnb = GaussianNB()\n",
    "\n",
    "    gnb.fit(X_train, y_train)\n",
    "    gnb_pred = gnb.predict(X_test)\n",
    "    gnb_accuracy = accuracy_score(y_test, gnb_pred)\n",
    "    gnb_report = classification_report(y_test, gnb_pred)\n",
    "\n",
    "    print(\"GaussianNB Accuracy:\", gnb_accuracy)\n",
    "    print(\"GaussianNB Report:\\n\",gnb_report)\n",
    "\n",
    "    #Save model\n",
    "    MODEL_NAME = \"gnb\"\n",
    "    VERSION = \"1.\"+str(circle)\n",
    "    with open(f'models/training_models/{COMMAND_ID}_{MODEL_NAME}_{VERSION}.pkl', 'wb') as f:\n",
    "        pickle.dump(gnb, f)\n",
    "\n",
    "    circle=circle+1"
   ]
  },
  {
   "cell_type": "markdown",
   "id": "d655710d",
   "metadata": {},
   "source": [
    "## Model 4 RandomForestClassifier"
   ]
  },
  {
   "cell_type": "code",
   "execution_count": null,
   "id": "0c21bac9",
   "metadata": {
    "ExecuteTime": {
     "end_time": "2023-04-23T22:52:45.502364Z",
     "start_time": "2023-04-23T17:41:40.885267Z"
    }
   },
   "outputs": [],
   "source": [
    "# Train model with a full dataset after we understood that it's the best model for us\n",
    "# And it's best to use train_test_split here, but we already used TimeSeriesSplit\n",
    "\n",
    "tscv = TimeSeriesSplit(n_splits=3, max_train_size=152565, test_size=50855)\n",
    "\n",
    "for train_index, test_index in tscv.split(X):\n",
    "    # Access the train and test data for X and y\n",
    "    X_train, X_test = X[train_index], X[test_index]\n",
    "    y_train, y_test = y[train_index], y[test_index]\n",
    "\n",
    "print(X_train.shape)\n",
    "print(X_test.shape)\n",
    "\n",
    "rf = RandomForestClassifier()\n",
    "\n",
    "rf.fit(X_train, y_train)\n",
    "rf_pred = rf.predict(X_test)\n",
    "rf_accuracy = accuracy_score(y_test, rf_pred)\n",
    "rf_report = classification_report(y_test, rf_pred)\n",
    "\n",
    "print(\"RandomForestClassifier Accuracy:\", rf_accuracy)\n",
    "print(\"RandomForestClassifier Report:\\n\", rf_report)\n",
    "\n",
    "# Save model\n",
    "MODEL_NAME = \"rf\"\n",
    "VERSION = \"3.0f\"\n",
    "with open(f'models/training_models/{COMMAND_ID}_{MODEL_NAME}_{VERSION}.pkl', 'wb') as f:\n",
    "    pickle.dump(rf, f)"
   ]
  },
  {
   "cell_type": "markdown",
   "id": "3cd97279",
   "metadata": {},
   "source": [
    "## Model 5 SVC"
   ]
  },
  {
   "cell_type": "code",
   "execution_count": null,
   "id": "b4141cc4",
   "metadata": {
    "ExecuteTime": {
     "end_time": "2023-04-22T14:01:45.488602Z",
     "start_time": "2023-04-22T14:01:39.922599Z"
    }
   },
   "outputs": [],
   "source": [
    "tscv = TimeSeriesSplit(n_splits=10)\n",
    "circle = 0\n",
    "\n",
    "for train_index, test_index in tscv.split(X):\n",
    "\n",
    "    # Access the train and test data for X and y\n",
    "    X_train, X_test = X[train_index], X[test_index]\n",
    "    y_train, y_test = y[train_index], y[test_index]\n",
    "\n",
    "    print(X_train.shape)\n",
    "    print(X_test.shape)\n",
    "\n",
    "    svm = SVC()\n",
    "\n",
    "    svm.fit(X_train, y_train)\n",
    "    svm_pred = svm.predict(X_test)\n",
    "    svm_accuracy = accuracy_score(y_test, svm_pred)\n",
    "    svm_report = classification_report(y_test, svm_pred)\n",
    "\n",
    "    print(\"SVC Accuracy:\", svm_accuracy)\n",
    "    print(\"SVC Report:\\n\", svm_report)\n",
    "\n",
    "    # Save model\n",
    "    MODEL_NAME = \"svm\"\n",
    "    VERSION = \"2.\"+str(circle)\n",
    "    with open(f'models/training_models/{COMMAND_ID}_{MODEL_NAME}_{VERSION}.pkl', 'wb') as f:\n",
    "        pickle.dump(svm, f)\n",
    "\n",
    "    circle=circle+1"
   ]
  },
  {
   "cell_type": "markdown",
   "id": "9254e21f",
   "metadata": {},
   "source": [
    "## Model 6 KNeighborsClassifier"
   ]
  },
  {
   "cell_type": "code",
   "execution_count": null,
   "id": "d12ead9a",
   "metadata": {
    "ExecuteTime": {
     "end_time": "2023-04-23T17:13:50.805383Z",
     "start_time": "2023-04-23T17:07:22.625707Z"
    }
   },
   "outputs": [],
   "source": [
    "tscv = TimeSeriesSplit(n_splits=20)\n",
    "circle = 0\n",
    "\n",
    "for train_index, test_index in tscv.split(X):\n",
    "    # Access the train and test data for X and y\n",
    "    X_train, X_test = X[train_index], X[test_index]\n",
    "    y_train, y_test = y[train_index], y[test_index]\n",
    "\n",
    "    print(X_train.shape)\n",
    "    print(X_test.shape)\n",
    "\n",
    "    knn = KNeighborsClassifier()\n",
    "\n",
    "    knn.fit(X_train, y_train)\n",
    "    knn_pred = knn.predict(X_test)\n",
    "    knn_accuracy = accuracy_score(y_test, knn_pred)\n",
    "    knn_report = classification_report(y_test, knn_pred)\n",
    "\n",
    "    print(\"KNeighborsClassifier Accuracy:\", knn_accuracy)\n",
    "    print(\"KNeighborsClassifier Report:\\n\", knn_report)\n",
    "\n",
    "    # Save model\n",
    "    MODEL_NAME = \"knn\"\n",
    "    VERSION = \"2.\"+str(circle)\n",
    "    with open(f'models/training_models/{COMMAND_ID}_{MODEL_NAME}_{VERSION}.pkl', 'wb') as f:\n",
    "        pickle.dump(knn, f)\n",
    "\n",
    "    circle=circle+1"
   ]
  },
  {
   "cell_type": "markdown",
   "source": [
    "### RandomForestClassifier Tuning"
   ],
   "metadata": {
    "collapsed": false
   }
  },
  {
   "cell_type": "markdown",
   "source": [
    "This code is work no working, because it's really heavy for our users PC. But we tried..."
   ],
   "metadata": {
    "collapsed": false
   }
  },
  {
   "cell_type": "code",
   "execution_count": null,
   "outputs": [],
   "source": [
    "from sklearn.model_selection import TimeSeriesSplit, RandomizedSearchCV\n",
    "from sklearn.ensemble import RandomForestClassifier\n",
    "from scipy.stats import randint\n",
    "\n",
    "tscv = TimeSeriesSplit(n_splits=3, max_train_size=152565, test_size=50855)\n",
    "\n",
    "# Define hyperparameters to tune\n",
    "params = {\n",
    "    'n_estimators': randint(100, 1000),\n",
    "    'max_depth': [10, 20, 30, 40, 50, None],\n",
    "    'min_samples_split': randint(2, 10),\n",
    "    'min_samples_leaf': randint(1, 10),\n",
    "    'class_weight': ['balanced', None]\n",
    "}\n",
    "\n",
    "best_accuracy = 0\n",
    "best_rf = None\n",
    "\n",
    "for train_index, test_index in tscv.split(X):\n",
    "    # Access the train and test data for X and y\n",
    "    X_train, X_test = X[train_index], X[test_index]\n",
    "    y_train, y_test = y[train_index], y[test_index]\n",
    "\n",
    "    # Perform randomized search for hyperparameter tuning\n",
    "    rf = RandomForestClassifier()\n",
    "    search = RandomizedSearchCV(rf, params, n_iter=10, scoring='accuracy', n_jobs=-1, cv=tscv)\n",
    "    search.fit(X_train, y_train)\n",
    "\n",
    "    # Get best model and evaluate on test set\n",
    "    best_rf = search.best_estimator_\n",
    "    rf_pred = best_rf.predict(X_test)\n",
    "    rf_accuracy = accuracy_score(y_test, rf_pred)\n",
    "    if rf_accuracy > best_accuracy:\n",
    "        best_accuracy = rf_accuracy\n",
    "        best_rf = best_rf\n",
    "\n",
    "    rf_report = classification_report(y_test, rf_pred)\n",
    "\n",
    "    print(\"RandomForestClassifier Accuracy:\", rf_accuracy)\n",
    "    print(\"RandomForestClassifier Report:\\n\", rf_report)\n",
    "\n",
    "# Save best model\n",
    "MODEL_NAME = \"rf\"\n",
    "VERSION = \"3.0f\"\n",
    "with open(f'models/training_models/{COMMAND_ID}_{MODEL_NAME}_{VERSION}.pkl', 'wb') as f:\n",
    "    pickle.dump(best_rf, f)"
   ],
   "metadata": {
    "collapsed": false
   }
  }
 ],
 "metadata": {
  "kernelspec": {
   "display_name": "Python 3 (ipykernel)",
   "language": "python",
   "name": "python3"
  },
  "language_info": {
   "codemirror_mode": {
    "name": "ipython",
    "version": 3
   },
   "file_extension": ".py",
   "mimetype": "text/x-python",
   "name": "python",
   "nbconvert_exporter": "python",
   "pygments_lexer": "ipython3",
   "version": "3.9.7"
  }
 },
 "nbformat": 4,
 "nbformat_minor": 5
}
