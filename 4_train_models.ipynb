{
 "cells": [
  {
   "cell_type": "code",
   "execution_count": 3,
   "id": "65ab26b6",
   "metadata": {
    "ExecuteTime": {
     "start_time": "2023-04-11T12:58:59.588161Z",
     "end_time": "2023-04-11T12:58:59.596449Z"
    }
   },
   "outputs": [],
   "source": [
    "#1. import necessary libraries and modules\n",
    "\n",
    "#2. upload all necessary data\n",
    "\n",
    "#3. define X and y. y - our target. X- predictors. We have X but how we represent y? -  Vlad say that for \n",
    "#   now we do not devide our dataset into two this parts, but I suppose you should ask Markiyan about\n",
    "#   how we can measure the efficiency of the model later on\n",
    "\n",
    "#4. devide data into train and test using following link\n",
    "    #use https://scikit-learn.org/stable/modules/generated/sklearn.model_selection.TimeSeriesSplit.html\n",
    "\n",
    "#5. train 6 models:\n",
    "    # 1. LogisticRegression\n",
    "    # 2. Support Vector Machines\n",
    "    # 3. Stochastic Gradient Descent\n",
    "    # 4. Random Forest\n",
    "    # 5. Nearest Neighbors Classification\n",
    "    # 6. Bayesian Regression\n",
    "    \n",
    "# find out how to import and use them here: https://scikit-learn.org/stable/supervised_learning.html\n",
    "    \n",
    "#6. save them\n",
    "\n",
    "#7 Calculate confusion matrices for each model\n",
    "\n",
    "# https://scikit-learn.org/stable/modules/generated/sklearn.metrics.confusion_matri x.html\n",
    "\n",
    "#8 Choose the top 3 models. Motivate your decision on how did you define “top” models?\n",
    "\n",
    "#9 Tune hyperparameters for the top 3 models you choose\n",
    "\n",
    "# https://scikit-learn.org/stable/modules/grid_search.html\n",
    "\n",
    "#10. move to the next file - 5_evaluate_models\n"
   ]
  },
  {
   "cell_type": "code",
   "execution_count": 4,
   "id": "12772d47",
   "metadata": {
    "ExecuteTime": {
     "start_time": "2023-04-11T12:58:59.602053Z",
     "end_time": "2023-04-11T12:59:01.311554Z"
    }
   },
   "outputs": [],
   "source": [
    "import pandas as pd\n",
    "import numpy as np\n",
    "from sklearn.model_selection import TimeSeriesSplit"
   ]
  },
  {
   "cell_type": "code",
   "execution_count": 5,
   "id": "a48ae315",
   "metadata": {
    "ExecuteTime": {
     "start_time": "2023-04-11T12:59:01.314855Z",
     "end_time": "2023-04-11T13:00:19.729556Z"
    }
   },
   "outputs": [],
   "source": [
    "#data = pd.read_csv('data/final_dataset_ready_to_train.csv')\n",
    "\n",
    "#USE this if firt row crashes\n",
    "\n",
    "weather_alarms = pd.read_csv('data/df_weather+alarms_merged.csv')\n",
    "tfidf_vectors = pd.read_csv('data/0_isw_data_collection/3_isw_vectorised_with_date.csv')\n",
    "\n",
    "# Delete columns\n",
    "tfidf_vectors = tfidf_vectors.drop(columns=['Unnamed: 0'],axis=1)\n",
    "weather_alarms = weather_alarms.drop(columns=['Unnamed: 0'],axis=1)\n",
    "weather_alarms = weather_alarms.drop(columns=['city_resolvedAddress'],axis=1)\n",
    "\n",
    "# Rename column\n",
    "weather_alarms = weather_alarms.rename(columns={\"day_datetime\": \"date\"})\n",
    "\n",
    "# Merge datasets\n",
    "merged_df = pd.merge(weather_alarms, tfidf_vectors, on='date', how='left')"
   ]
  },
  {
   "cell_type": "code",
   "execution_count": 6,
   "id": "b07b8167",
   "metadata": {
    "ExecuteTime": {
     "start_time": "2023-04-11T13:00:19.740824Z",
     "end_time": "2023-04-11T13:00:19.912598Z"
    }
   },
   "outputs": [
    {
     "data": {
      "text/plain": "         date  day_datetimeEpoch  day_tempmax  day_tempmin  day_temp  day_dew   \n0  2022-02-24         1645653600          4.9         -0.1       1.9     -0.6  \\\n1  2022-02-24         1645653600          4.9         -0.1       1.9     -0.6   \n2  2022-02-24         1645653600          4.9         -0.1       1.9     -0.6   \n3  2022-02-24         1645653600          4.9         -0.1       1.9     -0.6   \n4  2022-02-24         1645653600          4.9         -0.1       1.9     -0.6   \n\n   day_humidity  day_precip  day_precipcover  day_solarradiation  ...  7391   \n0          83.4         0.0              0.0                47.4  ...   NaN  \\\n1          83.4         0.0              0.0                47.4  ...   NaN   \n2          83.4         0.0              0.0                47.4  ...   NaN   \n3          83.4         0.0              0.0                47.4  ...   NaN   \n4          83.4         0.0              0.0                47.4  ...   NaN   \n\n   7392 7393 7394  7395 7396  7397  7398  7399  7400  \n0   NaN  NaN  NaN   NaN  NaN   NaN   NaN   NaN   NaN  \n1   NaN  NaN  NaN   NaN  NaN   NaN   NaN   NaN   NaN  \n2   NaN  NaN  NaN   NaN  NaN   NaN   NaN   NaN   NaN  \n3   NaN  NaN  NaN   NaN  NaN   NaN   NaN   NaN   NaN  \n4   NaN  NaN  NaN   NaN  NaN   NaN   NaN   NaN   NaN  \n\n[5 rows x 7464 columns]",
      "text/html": "<div>\n<style scoped>\n    .dataframe tbody tr th:only-of-type {\n        vertical-align: middle;\n    }\n\n    .dataframe tbody tr th {\n        vertical-align: top;\n    }\n\n    .dataframe thead th {\n        text-align: right;\n    }\n</style>\n<table border=\"1\" class=\"dataframe\">\n  <thead>\n    <tr style=\"text-align: right;\">\n      <th></th>\n      <th>date</th>\n      <th>day_datetimeEpoch</th>\n      <th>day_tempmax</th>\n      <th>day_tempmin</th>\n      <th>day_temp</th>\n      <th>day_dew</th>\n      <th>day_humidity</th>\n      <th>day_precip</th>\n      <th>day_precipcover</th>\n      <th>day_solarradiation</th>\n      <th>...</th>\n      <th>7391</th>\n      <th>7392</th>\n      <th>7393</th>\n      <th>7394</th>\n      <th>7395</th>\n      <th>7396</th>\n      <th>7397</th>\n      <th>7398</th>\n      <th>7399</th>\n      <th>7400</th>\n    </tr>\n  </thead>\n  <tbody>\n    <tr>\n      <th>0</th>\n      <td>2022-02-24</td>\n      <td>1645653600</td>\n      <td>4.9</td>\n      <td>-0.1</td>\n      <td>1.9</td>\n      <td>-0.6</td>\n      <td>83.4</td>\n      <td>0.0</td>\n      <td>0.0</td>\n      <td>47.4</td>\n      <td>...</td>\n      <td>NaN</td>\n      <td>NaN</td>\n      <td>NaN</td>\n      <td>NaN</td>\n      <td>NaN</td>\n      <td>NaN</td>\n      <td>NaN</td>\n      <td>NaN</td>\n      <td>NaN</td>\n      <td>NaN</td>\n    </tr>\n    <tr>\n      <th>1</th>\n      <td>2022-02-24</td>\n      <td>1645653600</td>\n      <td>4.9</td>\n      <td>-0.1</td>\n      <td>1.9</td>\n      <td>-0.6</td>\n      <td>83.4</td>\n      <td>0.0</td>\n      <td>0.0</td>\n      <td>47.4</td>\n      <td>...</td>\n      <td>NaN</td>\n      <td>NaN</td>\n      <td>NaN</td>\n      <td>NaN</td>\n      <td>NaN</td>\n      <td>NaN</td>\n      <td>NaN</td>\n      <td>NaN</td>\n      <td>NaN</td>\n      <td>NaN</td>\n    </tr>\n    <tr>\n      <th>2</th>\n      <td>2022-02-24</td>\n      <td>1645653600</td>\n      <td>4.9</td>\n      <td>-0.1</td>\n      <td>1.9</td>\n      <td>-0.6</td>\n      <td>83.4</td>\n      <td>0.0</td>\n      <td>0.0</td>\n      <td>47.4</td>\n      <td>...</td>\n      <td>NaN</td>\n      <td>NaN</td>\n      <td>NaN</td>\n      <td>NaN</td>\n      <td>NaN</td>\n      <td>NaN</td>\n      <td>NaN</td>\n      <td>NaN</td>\n      <td>NaN</td>\n      <td>NaN</td>\n    </tr>\n    <tr>\n      <th>3</th>\n      <td>2022-02-24</td>\n      <td>1645653600</td>\n      <td>4.9</td>\n      <td>-0.1</td>\n      <td>1.9</td>\n      <td>-0.6</td>\n      <td>83.4</td>\n      <td>0.0</td>\n      <td>0.0</td>\n      <td>47.4</td>\n      <td>...</td>\n      <td>NaN</td>\n      <td>NaN</td>\n      <td>NaN</td>\n      <td>NaN</td>\n      <td>NaN</td>\n      <td>NaN</td>\n      <td>NaN</td>\n      <td>NaN</td>\n      <td>NaN</td>\n      <td>NaN</td>\n    </tr>\n    <tr>\n      <th>4</th>\n      <td>2022-02-24</td>\n      <td>1645653600</td>\n      <td>4.9</td>\n      <td>-0.1</td>\n      <td>1.9</td>\n      <td>-0.6</td>\n      <td>83.4</td>\n      <td>0.0</td>\n      <td>0.0</td>\n      <td>47.4</td>\n      <td>...</td>\n      <td>NaN</td>\n      <td>NaN</td>\n      <td>NaN</td>\n      <td>NaN</td>\n      <td>NaN</td>\n      <td>NaN</td>\n      <td>NaN</td>\n      <td>NaN</td>\n      <td>NaN</td>\n      <td>NaN</td>\n    </tr>\n  </tbody>\n</table>\n<p>5 rows × 7464 columns</p>\n</div>"
     },
     "execution_count": 6,
     "metadata": {},
     "output_type": "execute_result"
    }
   ],
   "source": [
    "#data.head()\n",
    "\n",
    "#or\n",
    "\n",
    "merged_df.head()"
   ]
  },
  {
   "cell_type": "code",
   "execution_count": 7,
   "id": "71831f3d",
   "metadata": {
    "ExecuteTime": {
     "start_time": "2023-04-11T13:00:19.889516Z",
     "end_time": "2023-04-11T13:01:04.553210Z"
    }
   },
   "outputs": [],
   "source": [
    "#merged_df.set_index('date', inplace=True)\n",
    "#merged_df.sort_index(inplace=True)"
   ]
  },
  {
   "cell_type": "code",
<<<<<<< HEAD
   "execution_count": 8,
=======
   "execution_count": 12,
>>>>>>> 2cf5da5a3224218ecbaf51ec0531a6e92cd324c6
   "id": "a18898bf",
   "metadata": {
    "ExecuteTime": {
     "start_time": "2023-04-11T13:09:42.698726Z",
     "end_time": "2023-04-11T13:09:42.736643Z"
    }
   },
   "outputs": [
    {
     "data": {
<<<<<<< HEAD
      "text/plain": [
       "(203420, 7464)"
      ]
     },
     "execution_count": 8,
=======
      "text/plain": "(203420, 7463)"
     },
     "execution_count": 12,
>>>>>>> 2cf5da5a3224218ecbaf51ec0531a6e92cd324c6
     "metadata": {},
     "output_type": "execute_result"
    }
   ],
   "source": [
    "merged_df.shape"
   ]
  },
  {
   "cell_type": "code",
<<<<<<< HEAD
   "execution_count": 9,
=======
   "execution_count": 13,
>>>>>>> 2cf5da5a3224218ecbaf51ec0531a6e92cd324c6
   "id": "603b9b6c",
   "metadata": {
    "scrolled": true,
    "ExecuteTime": {
     "start_time": "2023-04-11T13:09:43.603539Z",
     "end_time": "2023-04-11T13:09:43.698493Z"
    }
   },
   "outputs": [
    {
     "data": {
<<<<<<< HEAD
      "text/html": [
       "<div>\n",
       "<style scoped>\n",
       "    .dataframe tbody tr th:only-of-type {\n",
       "        vertical-align: middle;\n",
       "    }\n",
       "\n",
       "    .dataframe tbody tr th {\n",
       "        vertical-align: top;\n",
       "    }\n",
       "\n",
       "    .dataframe thead th {\n",
       "        text-align: right;\n",
       "    }\n",
       "</style>\n",
       "<table border=\"1\" class=\"dataframe\">\n",
       "  <thead>\n",
       "    <tr style=\"text-align: right;\">\n",
       "      <th></th>\n",
       "      <th>date</th>\n",
       "      <th>day_datetimeEpoch</th>\n",
       "      <th>day_tempmax</th>\n",
       "      <th>day_tempmin</th>\n",
       "      <th>day_temp</th>\n",
       "      <th>day_dew</th>\n",
       "      <th>day_humidity</th>\n",
       "      <th>day_precip</th>\n",
       "      <th>day_precipcover</th>\n",
       "      <th>day_solarradiation</th>\n",
       "      <th>...</th>\n",
       "      <th>7391</th>\n",
       "      <th>7392</th>\n",
       "      <th>7393</th>\n",
       "      <th>7394</th>\n",
       "      <th>7395</th>\n",
       "      <th>7396</th>\n",
       "      <th>7397</th>\n",
       "      <th>7398</th>\n",
       "      <th>7399</th>\n",
       "      <th>7400</th>\n",
       "    </tr>\n",
       "  </thead>\n",
       "  <tbody>\n",
       "    <tr>\n",
       "      <th>0</th>\n",
       "      <td>2022-02-24</td>\n",
       "      <td>1645653600</td>\n",
       "      <td>4.9</td>\n",
       "      <td>-0.1</td>\n",
       "      <td>1.9</td>\n",
       "      <td>-0.6</td>\n",
       "      <td>83.4</td>\n",
       "      <td>0.0</td>\n",
       "      <td>0.0</td>\n",
       "      <td>47.4</td>\n",
       "      <td>...</td>\n",
       "      <td>NaN</td>\n",
       "      <td>NaN</td>\n",
       "      <td>NaN</td>\n",
       "      <td>NaN</td>\n",
       "      <td>NaN</td>\n",
       "      <td>NaN</td>\n",
       "      <td>NaN</td>\n",
       "      <td>NaN</td>\n",
       "      <td>NaN</td>\n",
       "      <td>NaN</td>\n",
       "    </tr>\n",
       "    <tr>\n",
       "      <th>1</th>\n",
       "      <td>2022-02-24</td>\n",
       "      <td>1645653600</td>\n",
       "      <td>4.9</td>\n",
       "      <td>-0.1</td>\n",
       "      <td>1.9</td>\n",
       "      <td>-0.6</td>\n",
       "      <td>83.4</td>\n",
       "      <td>0.0</td>\n",
       "      <td>0.0</td>\n",
       "      <td>47.4</td>\n",
       "      <td>...</td>\n",
       "      <td>NaN</td>\n",
       "      <td>NaN</td>\n",
       "      <td>NaN</td>\n",
       "      <td>NaN</td>\n",
       "      <td>NaN</td>\n",
       "      <td>NaN</td>\n",
       "      <td>NaN</td>\n",
       "      <td>NaN</td>\n",
       "      <td>NaN</td>\n",
       "      <td>NaN</td>\n",
       "    </tr>\n",
       "    <tr>\n",
       "      <th>2</th>\n",
       "      <td>2022-02-24</td>\n",
       "      <td>1645653600</td>\n",
       "      <td>4.9</td>\n",
       "      <td>-0.1</td>\n",
       "      <td>1.9</td>\n",
       "      <td>-0.6</td>\n",
       "      <td>83.4</td>\n",
       "      <td>0.0</td>\n",
       "      <td>0.0</td>\n",
       "      <td>47.4</td>\n",
       "      <td>...</td>\n",
       "      <td>NaN</td>\n",
       "      <td>NaN</td>\n",
       "      <td>NaN</td>\n",
       "      <td>NaN</td>\n",
       "      <td>NaN</td>\n",
       "      <td>NaN</td>\n",
       "      <td>NaN</td>\n",
       "      <td>NaN</td>\n",
       "      <td>NaN</td>\n",
       "      <td>NaN</td>\n",
       "    </tr>\n",
       "    <tr>\n",
       "      <th>3</th>\n",
       "      <td>2022-02-24</td>\n",
       "      <td>1645653600</td>\n",
       "      <td>4.9</td>\n",
       "      <td>-0.1</td>\n",
       "      <td>1.9</td>\n",
       "      <td>-0.6</td>\n",
       "      <td>83.4</td>\n",
       "      <td>0.0</td>\n",
       "      <td>0.0</td>\n",
       "      <td>47.4</td>\n",
       "      <td>...</td>\n",
       "      <td>NaN</td>\n",
       "      <td>NaN</td>\n",
       "      <td>NaN</td>\n",
       "      <td>NaN</td>\n",
       "      <td>NaN</td>\n",
       "      <td>NaN</td>\n",
       "      <td>NaN</td>\n",
       "      <td>NaN</td>\n",
       "      <td>NaN</td>\n",
       "      <td>NaN</td>\n",
       "    </tr>\n",
       "    <tr>\n",
       "      <th>4</th>\n",
       "      <td>2022-02-24</td>\n",
       "      <td>1645653600</td>\n",
       "      <td>4.9</td>\n",
       "      <td>-0.1</td>\n",
       "      <td>1.9</td>\n",
       "      <td>-0.6</td>\n",
       "      <td>83.4</td>\n",
       "      <td>0.0</td>\n",
       "      <td>0.0</td>\n",
       "      <td>47.4</td>\n",
       "      <td>...</td>\n",
       "      <td>NaN</td>\n",
       "      <td>NaN</td>\n",
       "      <td>NaN</td>\n",
       "      <td>NaN</td>\n",
       "      <td>NaN</td>\n",
       "      <td>NaN</td>\n",
       "      <td>NaN</td>\n",
       "      <td>NaN</td>\n",
       "      <td>NaN</td>\n",
       "      <td>NaN</td>\n",
       "    </tr>\n",
       "  </tbody>\n",
       "</table>\n",
       "<p>5 rows × 7464 columns</p>\n",
       "</div>"
      ],
      "text/plain": [
       "         date  day_datetimeEpoch  day_tempmax  day_tempmin  day_temp  day_dew  \\\n",
       "0  2022-02-24         1645653600          4.9         -0.1       1.9     -0.6   \n",
       "1  2022-02-24         1645653600          4.9         -0.1       1.9     -0.6   \n",
       "2  2022-02-24         1645653600          4.9         -0.1       1.9     -0.6   \n",
       "3  2022-02-24         1645653600          4.9         -0.1       1.9     -0.6   \n",
       "4  2022-02-24         1645653600          4.9         -0.1       1.9     -0.6   \n",
       "\n",
       "   day_humidity  day_precip  day_precipcover  day_solarradiation  ...  7391  \\\n",
       "0          83.4         0.0              0.0                47.4  ...   NaN   \n",
       "1          83.4         0.0              0.0                47.4  ...   NaN   \n",
       "2          83.4         0.0              0.0                47.4  ...   NaN   \n",
       "3          83.4         0.0              0.0                47.4  ...   NaN   \n",
       "4          83.4         0.0              0.0                47.4  ...   NaN   \n",
       "\n",
       "   7392 7393 7394  7395 7396  7397  7398  7399  7400  \n",
       "0   NaN  NaN  NaN   NaN  NaN   NaN   NaN   NaN   NaN  \n",
       "1   NaN  NaN  NaN   NaN  NaN   NaN   NaN   NaN   NaN  \n",
       "2   NaN  NaN  NaN   NaN  NaN   NaN   NaN   NaN   NaN  \n",
       "3   NaN  NaN  NaN   NaN  NaN   NaN   NaN   NaN   NaN  \n",
       "4   NaN  NaN  NaN   NaN  NaN   NaN   NaN   NaN   NaN  \n",
       "\n",
       "[5 rows x 7464 columns]"
      ]
     },
     "execution_count": 9,
=======
      "text/plain": "            day_datetimeEpoch  day_tempmax  day_tempmin  day_temp  day_dew   \ndate                                                                         \n2022-02-24         1645653600          4.9         -0.1       1.9     -0.6  \\\n2022-02-24         1645653600          5.3          1.9       2.9      1.2   \n2022-02-24         1645653600          5.3          1.9       2.9      1.2   \n2022-02-24         1645653600          5.3          1.9       2.9      1.2   \n2022-02-24         1645653600          5.3          1.9       2.9      1.2   \n\n            day_humidity  day_precip  day_precipcover  day_solarradiation   \ndate                                                                        \n2022-02-24          83.4         0.0             0.00                47.4  \\\n2022-02-24          88.9         0.1             4.17                32.6   \n2022-02-24          88.9         0.1             4.17                32.6   \n2022-02-24          88.9         0.1             4.17                32.6   \n2022-02-24          88.9         0.1             4.17                32.6   \n\n            day_solarenergy  ...  7391 7392 7393  7394 7395  7396  7397  7398   \ndate                         ...                                                \n2022-02-24              4.4  ...   NaN  NaN  NaN   NaN  NaN   NaN   NaN   NaN  \\\n2022-02-24              2.9  ...   NaN  NaN  NaN   NaN  NaN   NaN   NaN   NaN   \n2022-02-24              2.9  ...   NaN  NaN  NaN   NaN  NaN   NaN   NaN   NaN   \n2022-02-24              2.9  ...   NaN  NaN  NaN   NaN  NaN   NaN   NaN   NaN   \n2022-02-24              2.9  ...   NaN  NaN  NaN   NaN  NaN   NaN   NaN   NaN   \n\n            7399  7400  \ndate                    \n2022-02-24   NaN   NaN  \n2022-02-24   NaN   NaN  \n2022-02-24   NaN   NaN  \n2022-02-24   NaN   NaN  \n2022-02-24   NaN   NaN  \n\n[5 rows x 7463 columns]",
      "text/html": "<div>\n<style scoped>\n    .dataframe tbody tr th:only-of-type {\n        vertical-align: middle;\n    }\n\n    .dataframe tbody tr th {\n        vertical-align: top;\n    }\n\n    .dataframe thead th {\n        text-align: right;\n    }\n</style>\n<table border=\"1\" class=\"dataframe\">\n  <thead>\n    <tr style=\"text-align: right;\">\n      <th></th>\n      <th>day_datetimeEpoch</th>\n      <th>day_tempmax</th>\n      <th>day_tempmin</th>\n      <th>day_temp</th>\n      <th>day_dew</th>\n      <th>day_humidity</th>\n      <th>day_precip</th>\n      <th>day_precipcover</th>\n      <th>day_solarradiation</th>\n      <th>day_solarenergy</th>\n      <th>...</th>\n      <th>7391</th>\n      <th>7392</th>\n      <th>7393</th>\n      <th>7394</th>\n      <th>7395</th>\n      <th>7396</th>\n      <th>7397</th>\n      <th>7398</th>\n      <th>7399</th>\n      <th>7400</th>\n    </tr>\n    <tr>\n      <th>date</th>\n      <th></th>\n      <th></th>\n      <th></th>\n      <th></th>\n      <th></th>\n      <th></th>\n      <th></th>\n      <th></th>\n      <th></th>\n      <th></th>\n      <th></th>\n      <th></th>\n      <th></th>\n      <th></th>\n      <th></th>\n      <th></th>\n      <th></th>\n      <th></th>\n      <th></th>\n      <th></th>\n      <th></th>\n    </tr>\n  </thead>\n  <tbody>\n    <tr>\n      <th>2022-02-24</th>\n      <td>1645653600</td>\n      <td>4.9</td>\n      <td>-0.1</td>\n      <td>1.9</td>\n      <td>-0.6</td>\n      <td>83.4</td>\n      <td>0.0</td>\n      <td>0.00</td>\n      <td>47.4</td>\n      <td>4.4</td>\n      <td>...</td>\n      <td>NaN</td>\n      <td>NaN</td>\n      <td>NaN</td>\n      <td>NaN</td>\n      <td>NaN</td>\n      <td>NaN</td>\n      <td>NaN</td>\n      <td>NaN</td>\n      <td>NaN</td>\n      <td>NaN</td>\n    </tr>\n    <tr>\n      <th>2022-02-24</th>\n      <td>1645653600</td>\n      <td>5.3</td>\n      <td>1.9</td>\n      <td>2.9</td>\n      <td>1.2</td>\n      <td>88.9</td>\n      <td>0.1</td>\n      <td>4.17</td>\n      <td>32.6</td>\n      <td>2.9</td>\n      <td>...</td>\n      <td>NaN</td>\n      <td>NaN</td>\n      <td>NaN</td>\n      <td>NaN</td>\n      <td>NaN</td>\n      <td>NaN</td>\n      <td>NaN</td>\n      <td>NaN</td>\n      <td>NaN</td>\n      <td>NaN</td>\n    </tr>\n    <tr>\n      <th>2022-02-24</th>\n      <td>1645653600</td>\n      <td>5.3</td>\n      <td>1.9</td>\n      <td>2.9</td>\n      <td>1.2</td>\n      <td>88.9</td>\n      <td>0.1</td>\n      <td>4.17</td>\n      <td>32.6</td>\n      <td>2.9</td>\n      <td>...</td>\n      <td>NaN</td>\n      <td>NaN</td>\n      <td>NaN</td>\n      <td>NaN</td>\n      <td>NaN</td>\n      <td>NaN</td>\n      <td>NaN</td>\n      <td>NaN</td>\n      <td>NaN</td>\n      <td>NaN</td>\n    </tr>\n    <tr>\n      <th>2022-02-24</th>\n      <td>1645653600</td>\n      <td>5.3</td>\n      <td>1.9</td>\n      <td>2.9</td>\n      <td>1.2</td>\n      <td>88.9</td>\n      <td>0.1</td>\n      <td>4.17</td>\n      <td>32.6</td>\n      <td>2.9</td>\n      <td>...</td>\n      <td>NaN</td>\n      <td>NaN</td>\n      <td>NaN</td>\n      <td>NaN</td>\n      <td>NaN</td>\n      <td>NaN</td>\n      <td>NaN</td>\n      <td>NaN</td>\n      <td>NaN</td>\n      <td>NaN</td>\n    </tr>\n    <tr>\n      <th>2022-02-24</th>\n      <td>1645653600</td>\n      <td>5.3</td>\n      <td>1.9</td>\n      <td>2.9</td>\n      <td>1.2</td>\n      <td>88.9</td>\n      <td>0.1</td>\n      <td>4.17</td>\n      <td>32.6</td>\n      <td>2.9</td>\n      <td>...</td>\n      <td>NaN</td>\n      <td>NaN</td>\n      <td>NaN</td>\n      <td>NaN</td>\n      <td>NaN</td>\n      <td>NaN</td>\n      <td>NaN</td>\n      <td>NaN</td>\n      <td>NaN</td>\n      <td>NaN</td>\n    </tr>\n  </tbody>\n</table>\n<p>5 rows × 7463 columns</p>\n</div>"
     },
     "execution_count": 13,
>>>>>>> 2cf5da5a3224218ecbaf51ec0531a6e92cd324c6
     "metadata": {},
     "output_type": "execute_result"
    }
   ],
   "source": [
    "merged_df.head()"
   ]
  },
  {
   "cell_type": "code",
<<<<<<< HEAD
   "execution_count": 10,
=======
   "execution_count": 14,
>>>>>>> 2cf5da5a3224218ecbaf51ec0531a6e92cd324c6
   "id": "3391ad35",
   "metadata": {
    "ExecuteTime": {
     "start_time": "2023-04-11T13:09:44.857752Z",
     "end_time": "2023-04-11T13:10:03.602919Z"
    }
   },
   "outputs": [
    {
     "data": {
      "text/plain": "            day_datetimeEpoch  day_tempmax  day_tempmin  day_temp  day_dew   \ndate                                                                         \n2022-03-01         1646085600          0.6         -3.1      -1.4     -5.6  \\\n2022-03-02         1646172000          1.5         -1.5      -0.3     -1.8   \n2022-03-02         1646172000          1.5         -1.5      -0.3     -1.8   \n2022-03-02         1646172000          3.8         -0.4       1.3     -0.8   \n2022-03-02         1646172000          3.8         -0.4       1.3     -0.8   \n...                       ...          ...          ...       ...      ...   \n2023-01-06         1672956000          7.6          0.4       4.8      2.0   \n2023-01-06         1672956000          7.6          0.4       4.8      2.0   \n2023-01-06         1672956000          7.6          0.4       4.8      2.0   \n2023-01-06         1672956000          6.1         -6.8      -0.6     -2.9   \n2023-01-06         1672956000          6.1         -6.8      -0.6     -2.9   \n\n            day_humidity  day_precip  day_precipcover  day_solarradiation   \ndate                                                                        \n2022-03-01          74.2         0.3            12.50                93.9  \\\n2022-03-02          89.7         2.1            58.33                73.9   \n2022-03-02          89.7         2.1            58.33                73.9   \n2022-03-02          86.2         1.2            45.83                38.5   \n2022-03-02          86.2         1.2            45.83                38.5   \n...                  ...         ...              ...                 ...   \n2023-01-06          82.3         2.5             8.33                13.2   \n2023-01-06          82.3         2.5             8.33                13.2   \n2023-01-06          82.3         2.5             8.33                13.2   \n2023-01-06          84.3         2.3             8.33                16.1   \n2023-01-06          84.3         2.3             8.33                16.1   \n\n            day_solarenergy  ...  7391 7392 7393  7394 7395  7396  7397  7398   \ndate                         ...                                                \n2022-03-01              6.8  ...   0.0  0.0  0.0   0.0  0.0   0.0   0.0   0.0  \\\n2022-03-02              5.3  ...   0.0  0.0  0.0   0.0  0.0   0.0   0.0   0.0   \n2022-03-02              5.3  ...   0.0  0.0  0.0   0.0  0.0   0.0   0.0   0.0   \n2022-03-02              3.0  ...   0.0  0.0  0.0   0.0  0.0   0.0   0.0   0.0   \n2022-03-02              3.0  ...   0.0  0.0  0.0   0.0  0.0   0.0   0.0   0.0   \n...                     ...  ...   ...  ...  ...   ...  ...   ...   ...   ...   \n2023-01-06              1.2  ...   0.0  0.0  0.0   0.0  0.0   0.0   0.0   0.0   \n2023-01-06              1.2  ...   0.0  0.0  0.0   0.0  0.0   0.0   0.0   0.0   \n2023-01-06              1.2  ...   0.0  0.0  0.0   0.0  0.0   0.0   0.0   0.0   \n2023-01-06              1.5  ...   0.0  0.0  0.0   0.0  0.0   0.0   0.0   0.0   \n2023-01-06              1.5  ...   0.0  0.0  0.0   0.0  0.0   0.0   0.0   0.0   \n\n            7399  7400  \ndate                    \n2022-03-01   0.0   0.0  \n2022-03-02   0.0   0.0  \n2022-03-02   0.0   0.0  \n2022-03-02   0.0   0.0  \n2022-03-02   0.0   0.0  \n...          ...   ...  \n2023-01-06   0.0   0.0  \n2023-01-06   0.0   0.0  \n2023-01-06   0.0   0.0  \n2023-01-06   0.0   0.0  \n2023-01-06   0.0   0.0  \n\n[297 rows x 7463 columns]",
      "text/html": "<div>\n<style scoped>\n    .dataframe tbody tr th:only-of-type {\n        vertical-align: middle;\n    }\n\n    .dataframe tbody tr th {\n        vertical-align: top;\n    }\n\n    .dataframe thead th {\n        text-align: right;\n    }\n</style>\n<table border=\"1\" class=\"dataframe\">\n  <thead>\n    <tr style=\"text-align: right;\">\n      <th></th>\n      <th>day_datetimeEpoch</th>\n      <th>day_tempmax</th>\n      <th>day_tempmin</th>\n      <th>day_temp</th>\n      <th>day_dew</th>\n      <th>day_humidity</th>\n      <th>day_precip</th>\n      <th>day_precipcover</th>\n      <th>day_solarradiation</th>\n      <th>day_solarenergy</th>\n      <th>...</th>\n      <th>7391</th>\n      <th>7392</th>\n      <th>7393</th>\n      <th>7394</th>\n      <th>7395</th>\n      <th>7396</th>\n      <th>7397</th>\n      <th>7398</th>\n      <th>7399</th>\n      <th>7400</th>\n    </tr>\n    <tr>\n      <th>date</th>\n      <th></th>\n      <th></th>\n      <th></th>\n      <th></th>\n      <th></th>\n      <th></th>\n      <th></th>\n      <th></th>\n      <th></th>\n      <th></th>\n      <th></th>\n      <th></th>\n      <th></th>\n      <th></th>\n      <th></th>\n      <th></th>\n      <th></th>\n      <th></th>\n      <th></th>\n      <th></th>\n      <th></th>\n    </tr>\n  </thead>\n  <tbody>\n    <tr>\n      <th>2022-03-01</th>\n      <td>1646085600</td>\n      <td>0.6</td>\n      <td>-3.1</td>\n      <td>-1.4</td>\n      <td>-5.6</td>\n      <td>74.2</td>\n      <td>0.3</td>\n      <td>12.50</td>\n      <td>93.9</td>\n      <td>6.8</td>\n      <td>...</td>\n      <td>0.0</td>\n      <td>0.0</td>\n      <td>0.0</td>\n      <td>0.0</td>\n      <td>0.0</td>\n      <td>0.0</td>\n      <td>0.0</td>\n      <td>0.0</td>\n      <td>0.0</td>\n      <td>0.0</td>\n    </tr>\n    <tr>\n      <th>2022-03-02</th>\n      <td>1646172000</td>\n      <td>1.5</td>\n      <td>-1.5</td>\n      <td>-0.3</td>\n      <td>-1.8</td>\n      <td>89.7</td>\n      <td>2.1</td>\n      <td>58.33</td>\n      <td>73.9</td>\n      <td>5.3</td>\n      <td>...</td>\n      <td>0.0</td>\n      <td>0.0</td>\n      <td>0.0</td>\n      <td>0.0</td>\n      <td>0.0</td>\n      <td>0.0</td>\n      <td>0.0</td>\n      <td>0.0</td>\n      <td>0.0</td>\n      <td>0.0</td>\n    </tr>\n    <tr>\n      <th>2022-03-02</th>\n      <td>1646172000</td>\n      <td>1.5</td>\n      <td>-1.5</td>\n      <td>-0.3</td>\n      <td>-1.8</td>\n      <td>89.7</td>\n      <td>2.1</td>\n      <td>58.33</td>\n      <td>73.9</td>\n      <td>5.3</td>\n      <td>...</td>\n      <td>0.0</td>\n      <td>0.0</td>\n      <td>0.0</td>\n      <td>0.0</td>\n      <td>0.0</td>\n      <td>0.0</td>\n      <td>0.0</td>\n      <td>0.0</td>\n      <td>0.0</td>\n      <td>0.0</td>\n    </tr>\n    <tr>\n      <th>2022-03-02</th>\n      <td>1646172000</td>\n      <td>3.8</td>\n      <td>-0.4</td>\n      <td>1.3</td>\n      <td>-0.8</td>\n      <td>86.2</td>\n      <td>1.2</td>\n      <td>45.83</td>\n      <td>38.5</td>\n      <td>3.0</td>\n      <td>...</td>\n      <td>0.0</td>\n      <td>0.0</td>\n      <td>0.0</td>\n      <td>0.0</td>\n      <td>0.0</td>\n      <td>0.0</td>\n      <td>0.0</td>\n      <td>0.0</td>\n      <td>0.0</td>\n      <td>0.0</td>\n    </tr>\n    <tr>\n      <th>2022-03-02</th>\n      <td>1646172000</td>\n      <td>3.8</td>\n      <td>-0.4</td>\n      <td>1.3</td>\n      <td>-0.8</td>\n      <td>86.2</td>\n      <td>1.2</td>\n      <td>45.83</td>\n      <td>38.5</td>\n      <td>3.0</td>\n      <td>...</td>\n      <td>0.0</td>\n      <td>0.0</td>\n      <td>0.0</td>\n      <td>0.0</td>\n      <td>0.0</td>\n      <td>0.0</td>\n      <td>0.0</td>\n      <td>0.0</td>\n      <td>0.0</td>\n      <td>0.0</td>\n    </tr>\n    <tr>\n      <th>...</th>\n      <td>...</td>\n      <td>...</td>\n      <td>...</td>\n      <td>...</td>\n      <td>...</td>\n      <td>...</td>\n      <td>...</td>\n      <td>...</td>\n      <td>...</td>\n      <td>...</td>\n      <td>...</td>\n      <td>...</td>\n      <td>...</td>\n      <td>...</td>\n      <td>...</td>\n      <td>...</td>\n      <td>...</td>\n      <td>...</td>\n      <td>...</td>\n      <td>...</td>\n      <td>...</td>\n    </tr>\n    <tr>\n      <th>2023-01-06</th>\n      <td>1672956000</td>\n      <td>7.6</td>\n      <td>0.4</td>\n      <td>4.8</td>\n      <td>2.0</td>\n      <td>82.3</td>\n      <td>2.5</td>\n      <td>8.33</td>\n      <td>13.2</td>\n      <td>1.2</td>\n      <td>...</td>\n      <td>0.0</td>\n      <td>0.0</td>\n      <td>0.0</td>\n      <td>0.0</td>\n      <td>0.0</td>\n      <td>0.0</td>\n      <td>0.0</td>\n      <td>0.0</td>\n      <td>0.0</td>\n      <td>0.0</td>\n    </tr>\n    <tr>\n      <th>2023-01-06</th>\n      <td>1672956000</td>\n      <td>7.6</td>\n      <td>0.4</td>\n      <td>4.8</td>\n      <td>2.0</td>\n      <td>82.3</td>\n      <td>2.5</td>\n      <td>8.33</td>\n      <td>13.2</td>\n      <td>1.2</td>\n      <td>...</td>\n      <td>0.0</td>\n      <td>0.0</td>\n      <td>0.0</td>\n      <td>0.0</td>\n      <td>0.0</td>\n      <td>0.0</td>\n      <td>0.0</td>\n      <td>0.0</td>\n      <td>0.0</td>\n      <td>0.0</td>\n    </tr>\n    <tr>\n      <th>2023-01-06</th>\n      <td>1672956000</td>\n      <td>7.6</td>\n      <td>0.4</td>\n      <td>4.8</td>\n      <td>2.0</td>\n      <td>82.3</td>\n      <td>2.5</td>\n      <td>8.33</td>\n      <td>13.2</td>\n      <td>1.2</td>\n      <td>...</td>\n      <td>0.0</td>\n      <td>0.0</td>\n      <td>0.0</td>\n      <td>0.0</td>\n      <td>0.0</td>\n      <td>0.0</td>\n      <td>0.0</td>\n      <td>0.0</td>\n      <td>0.0</td>\n      <td>0.0</td>\n    </tr>\n    <tr>\n      <th>2023-01-06</th>\n      <td>1672956000</td>\n      <td>6.1</td>\n      <td>-6.8</td>\n      <td>-0.6</td>\n      <td>-2.9</td>\n      <td>84.3</td>\n      <td>2.3</td>\n      <td>8.33</td>\n      <td>16.1</td>\n      <td>1.5</td>\n      <td>...</td>\n      <td>0.0</td>\n      <td>0.0</td>\n      <td>0.0</td>\n      <td>0.0</td>\n      <td>0.0</td>\n      <td>0.0</td>\n      <td>0.0</td>\n      <td>0.0</td>\n      <td>0.0</td>\n      <td>0.0</td>\n    </tr>\n    <tr>\n      <th>2023-01-06</th>\n      <td>1672956000</td>\n      <td>6.1</td>\n      <td>-6.8</td>\n      <td>-0.6</td>\n      <td>-2.9</td>\n      <td>84.3</td>\n      <td>2.3</td>\n      <td>8.33</td>\n      <td>16.1</td>\n      <td>1.5</td>\n      <td>...</td>\n      <td>0.0</td>\n      <td>0.0</td>\n      <td>0.0</td>\n      <td>0.0</td>\n      <td>0.0</td>\n      <td>0.0</td>\n      <td>0.0</td>\n      <td>0.0</td>\n      <td>0.0</td>\n      <td>0.0</td>\n    </tr>\n  </tbody>\n</table>\n<p>297 rows × 7463 columns</p>\n</div>"
     },
     "execution_count": 14,
     "metadata": {},
     "output_type": "execute_result"
    }
   ],
   "source": [
    "#merged_df.dropna()"
   ]
  },
  {
   "cell_type": "code",
<<<<<<< HEAD
   "execution_count": 11,
   "id": "50700767",
   "metadata": {},
   "outputs": [],
   "source": [
    "merged_df['isAlarm'] = 1"
   ]
  },
  {
   "cell_type": "code",
   "execution_count": 12,
=======
   "execution_count": 15,
>>>>>>> 2cf5da5a3224218ecbaf51ec0531a6e92cd324c6
   "id": "5cb6ee7b",
   "metadata": {
    "ExecuteTime": {
     "start_time": "2023-04-11T13:10:03.646539Z",
     "end_time": "2023-04-11T13:10:03.776304Z"
    }
   },
   "outputs": [
    {
     "data": {
      "text/plain": "(203420, 7463)"
     },
     "execution_count": 15,
     "metadata": {},
     "output_type": "execute_result"
    }
   ],
   "source": [
<<<<<<< HEAD
    "#X_cols = merged_df.columns[:-1]\n",
    "#y_cols = merged_df['isAlarm']"
   ]
=======
    "merged_df.shape"
   ]
  },
  {
   "cell_type": "code",
   "execution_count": 16,
   "outputs": [
    {
     "ename": "NameError",
     "evalue": "name 'y' is not defined",
     "output_type": "error",
     "traceback": [
      "\u001B[1;31m---------------------------------------------------------------------------\u001B[0m",
      "\u001B[1;31mNameError\u001B[0m                                 Traceback (most recent call last)",
      "Cell \u001B[1;32mIn[16], line 5\u001B[0m\n\u001B[0;32m      1\u001B[0m \u001B[38;5;28;01mfrom\u001B[39;00m \u001B[38;5;21;01msklearn\u001B[39;00m\u001B[38;5;21;01m.\u001B[39;00m\u001B[38;5;21;01mmodel_selection\u001B[39;00m \u001B[38;5;28;01mimport\u001B[39;00m train_test_split\n\u001B[0;32m      3\u001B[0m RANDOM_STATE \u001B[38;5;241m=\u001B[39m \u001B[38;5;241m1\u001B[39m\n\u001B[1;32m----> 5\u001B[0m X_train, X_test, y_train, y_test \u001B[38;5;241m=\u001B[39m train_test_split(merged_df, \u001B[43my\u001B[49m, test_size\u001B[38;5;241m=\u001B[39m\u001B[38;5;241m0.20\u001B[39m, random_state\u001B[38;5;241m=\u001B[39mRANDOM_STATE, shuffle\u001B[38;5;241m=\u001B[39m\u001B[38;5;28;01mTrue\u001B[39;00m)\n",
      "\u001B[1;31mNameError\u001B[0m: name 'y' is not defined"
     ]
    }
   ],
   "source": [
    "from sklearn.model_selection import train_test_split\n",
    "\n",
    "RANDOM_STATE = 1\n",
    "\n",
    "X_train, X_test, y_train, y_test = train_test_split(merged_df, y, test_size=0.20, random_state=RANDOM_STATE, shuffle=True)"
   ],
   "metadata": {
    "collapsed": false
   }
  },
  {
   "cell_type": "code",
   "execution_count": 9,
   "outputs": [
    {
     "ename": "MemoryError",
     "evalue": "Unable to allocate 2.80 GiB for an array with shape (7401, 50855) and data type float64",
     "output_type": "error",
     "traceback": [
      "\u001B[1;31m---------------------------------------------------------------------------\u001B[0m",
      "\u001B[1;31mMemoryError\u001B[0m                               Traceback (most recent call last)",
      "Cell \u001B[1;32mIn[9], line 7\u001B[0m\n\u001B[0;32m      5\u001B[0m \u001B[38;5;66;03m# Iterate over time series data using TimeSeriesSplit\u001B[39;00m\n\u001B[0;32m      6\u001B[0m \u001B[38;5;28;01mfor\u001B[39;00m train_index, test_index \u001B[38;5;129;01min\u001B[39;00m tscv\u001B[38;5;241m.\u001B[39msplit(merged_df):\n\u001B[1;32m----> 7\u001B[0m     X_train, X_test \u001B[38;5;241m=\u001B[39m merged_df\u001B[38;5;241m.\u001B[39miloc[train_index, :], \u001B[43mmerged_df\u001B[49m\u001B[38;5;241;43m.\u001B[39;49m\u001B[43miloc\u001B[49m\u001B[43m[\u001B[49m\u001B[43mtest_index\u001B[49m\u001B[43m,\u001B[49m\u001B[43m:\u001B[49m\u001B[43m]\u001B[49m\n",
      "File \u001B[1;32m~\\AppData\\Local\\Programs\\Python\\Python310\\lib\\site-packages\\pandas\\core\\indexing.py:1097\u001B[0m, in \u001B[0;36m_LocationIndexer.__getitem__\u001B[1;34m(self, key)\u001B[0m\n\u001B[0;32m   1095\u001B[0m     \u001B[38;5;28;01mif\u001B[39;00m \u001B[38;5;28mself\u001B[39m\u001B[38;5;241m.\u001B[39m_is_scalar_access(key):\n\u001B[0;32m   1096\u001B[0m         \u001B[38;5;28;01mreturn\u001B[39;00m \u001B[38;5;28mself\u001B[39m\u001B[38;5;241m.\u001B[39mobj\u001B[38;5;241m.\u001B[39m_get_value(\u001B[38;5;241m*\u001B[39mkey, takeable\u001B[38;5;241m=\u001B[39m\u001B[38;5;28mself\u001B[39m\u001B[38;5;241m.\u001B[39m_takeable)\n\u001B[1;32m-> 1097\u001B[0m     \u001B[38;5;28;01mreturn\u001B[39;00m \u001B[38;5;28;43mself\u001B[39;49m\u001B[38;5;241;43m.\u001B[39;49m\u001B[43m_getitem_tuple\u001B[49m\u001B[43m(\u001B[49m\u001B[43mkey\u001B[49m\u001B[43m)\u001B[49m\n\u001B[0;32m   1098\u001B[0m \u001B[38;5;28;01melse\u001B[39;00m:\n\u001B[0;32m   1099\u001B[0m     \u001B[38;5;66;03m# we by definition only have the 0th axis\u001B[39;00m\n\u001B[0;32m   1100\u001B[0m     axis \u001B[38;5;241m=\u001B[39m \u001B[38;5;28mself\u001B[39m\u001B[38;5;241m.\u001B[39maxis \u001B[38;5;129;01mor\u001B[39;00m \u001B[38;5;241m0\u001B[39m\n",
      "File \u001B[1;32m~\\AppData\\Local\\Programs\\Python\\Python310\\lib\\site-packages\\pandas\\core\\indexing.py:1598\u001B[0m, in \u001B[0;36m_iLocIndexer._getitem_tuple\u001B[1;34m(self, tup)\u001B[0m\n\u001B[0;32m   1595\u001B[0m \u001B[38;5;28;01mwith\u001B[39;00m suppress(IndexingError):\n\u001B[0;32m   1596\u001B[0m     \u001B[38;5;28;01mreturn\u001B[39;00m \u001B[38;5;28mself\u001B[39m\u001B[38;5;241m.\u001B[39m_getitem_lowerdim(tup)\n\u001B[1;32m-> 1598\u001B[0m \u001B[38;5;28;01mreturn\u001B[39;00m \u001B[38;5;28;43mself\u001B[39;49m\u001B[38;5;241;43m.\u001B[39;49m\u001B[43m_getitem_tuple_same_dim\u001B[49m\u001B[43m(\u001B[49m\u001B[43mtup\u001B[49m\u001B[43m)\u001B[49m\n",
      "File \u001B[1;32m~\\AppData\\Local\\Programs\\Python\\Python310\\lib\\site-packages\\pandas\\core\\indexing.py:955\u001B[0m, in \u001B[0;36m_LocationIndexer._getitem_tuple_same_dim\u001B[1;34m(self, tup)\u001B[0m\n\u001B[0;32m    952\u001B[0m \u001B[38;5;28;01mif\u001B[39;00m com\u001B[38;5;241m.\u001B[39mis_null_slice(key):\n\u001B[0;32m    953\u001B[0m     \u001B[38;5;28;01mcontinue\u001B[39;00m\n\u001B[1;32m--> 955\u001B[0m retval \u001B[38;5;241m=\u001B[39m \u001B[38;5;28;43mgetattr\u001B[39;49m\u001B[43m(\u001B[49m\u001B[43mretval\u001B[49m\u001B[43m,\u001B[49m\u001B[43m \u001B[49m\u001B[38;5;28;43mself\u001B[39;49m\u001B[38;5;241;43m.\u001B[39;49m\u001B[43mname\u001B[49m\u001B[43m)\u001B[49m\u001B[38;5;241;43m.\u001B[39;49m\u001B[43m_getitem_axis\u001B[49m\u001B[43m(\u001B[49m\u001B[43mkey\u001B[49m\u001B[43m,\u001B[49m\u001B[43m \u001B[49m\u001B[43maxis\u001B[49m\u001B[38;5;241;43m=\u001B[39;49m\u001B[43mi\u001B[49m\u001B[43m)\u001B[49m\n\u001B[0;32m    956\u001B[0m \u001B[38;5;66;03m# We should never have retval.ndim < self.ndim, as that should\u001B[39;00m\n\u001B[0;32m    957\u001B[0m \u001B[38;5;66;03m#  be handled by the _getitem_lowerdim call above.\u001B[39;00m\n\u001B[0;32m    958\u001B[0m \u001B[38;5;28;01massert\u001B[39;00m retval\u001B[38;5;241m.\u001B[39mndim \u001B[38;5;241m==\u001B[39m \u001B[38;5;28mself\u001B[39m\u001B[38;5;241m.\u001B[39mndim\n",
      "File \u001B[1;32m~\\AppData\\Local\\Programs\\Python\\Python310\\lib\\site-packages\\pandas\\core\\indexing.py:1647\u001B[0m, in \u001B[0;36m_iLocIndexer._getitem_axis\u001B[1;34m(self, key, axis)\u001B[0m\n\u001B[0;32m   1645\u001B[0m \u001B[38;5;66;03m# a list of integers\u001B[39;00m\n\u001B[0;32m   1646\u001B[0m \u001B[38;5;28;01melif\u001B[39;00m is_list_like_indexer(key):\n\u001B[1;32m-> 1647\u001B[0m     \u001B[38;5;28;01mreturn\u001B[39;00m \u001B[38;5;28;43mself\u001B[39;49m\u001B[38;5;241;43m.\u001B[39;49m\u001B[43m_get_list_axis\u001B[49m\u001B[43m(\u001B[49m\u001B[43mkey\u001B[49m\u001B[43m,\u001B[49m\u001B[43m \u001B[49m\u001B[43maxis\u001B[49m\u001B[38;5;241;43m=\u001B[39;49m\u001B[43maxis\u001B[49m\u001B[43m)\u001B[49m\n\u001B[0;32m   1649\u001B[0m \u001B[38;5;66;03m# a single integer\u001B[39;00m\n\u001B[0;32m   1650\u001B[0m \u001B[38;5;28;01melse\u001B[39;00m:\n\u001B[0;32m   1651\u001B[0m     key \u001B[38;5;241m=\u001B[39m item_from_zerodim(key)\n",
      "File \u001B[1;32m~\\AppData\\Local\\Programs\\Python\\Python310\\lib\\site-packages\\pandas\\core\\indexing.py:1618\u001B[0m, in \u001B[0;36m_iLocIndexer._get_list_axis\u001B[1;34m(self, key, axis)\u001B[0m\n\u001B[0;32m   1601\u001B[0m \u001B[38;5;250m\u001B[39m\u001B[38;5;124;03m\"\"\"\u001B[39;00m\n\u001B[0;32m   1602\u001B[0m \u001B[38;5;124;03mReturn Series values by list or array of integers.\u001B[39;00m\n\u001B[0;32m   1603\u001B[0m \n\u001B[1;32m   (...)\u001B[0m\n\u001B[0;32m   1615\u001B[0m \u001B[38;5;124;03m`axis` can only be zero.\u001B[39;00m\n\u001B[0;32m   1616\u001B[0m \u001B[38;5;124;03m\"\"\"\u001B[39;00m\n\u001B[0;32m   1617\u001B[0m \u001B[38;5;28;01mtry\u001B[39;00m:\n\u001B[1;32m-> 1618\u001B[0m     \u001B[38;5;28;01mreturn\u001B[39;00m \u001B[38;5;28;43mself\u001B[39;49m\u001B[38;5;241;43m.\u001B[39;49m\u001B[43mobj\u001B[49m\u001B[38;5;241;43m.\u001B[39;49m\u001B[43m_take_with_is_copy\u001B[49m\u001B[43m(\u001B[49m\u001B[43mkey\u001B[49m\u001B[43m,\u001B[49m\u001B[43m \u001B[49m\u001B[43maxis\u001B[49m\u001B[38;5;241;43m=\u001B[39;49m\u001B[43maxis\u001B[49m\u001B[43m)\u001B[49m\n\u001B[0;32m   1619\u001B[0m \u001B[38;5;28;01mexcept\u001B[39;00m \u001B[38;5;167;01mIndexError\u001B[39;00m \u001B[38;5;28;01mas\u001B[39;00m err:\n\u001B[0;32m   1620\u001B[0m     \u001B[38;5;66;03m# re-raise with different error message\u001B[39;00m\n\u001B[0;32m   1621\u001B[0m     \u001B[38;5;28;01mraise\u001B[39;00m \u001B[38;5;167;01mIndexError\u001B[39;00m(\u001B[38;5;124m\"\u001B[39m\u001B[38;5;124mpositional indexers are out-of-bounds\u001B[39m\u001B[38;5;124m\"\u001B[39m) \u001B[38;5;28;01mfrom\u001B[39;00m \u001B[38;5;21;01merr\u001B[39;00m\n",
      "File \u001B[1;32m~\\AppData\\Local\\Programs\\Python\\Python310\\lib\\site-packages\\pandas\\core\\generic.py:3948\u001B[0m, in \u001B[0;36mNDFrame._take_with_is_copy\u001B[1;34m(self, indices, axis)\u001B[0m\n\u001B[0;32m   3940\u001B[0m \u001B[38;5;28;01mdef\u001B[39;00m \u001B[38;5;21m_take_with_is_copy\u001B[39m(\u001B[38;5;28mself\u001B[39m: NDFrameT, indices, axis: Axis \u001B[38;5;241m=\u001B[39m \u001B[38;5;241m0\u001B[39m) \u001B[38;5;241m-\u001B[39m\u001B[38;5;241m>\u001B[39m NDFrameT:\n\u001B[0;32m   3941\u001B[0m \u001B[38;5;250m    \u001B[39m\u001B[38;5;124;03m\"\"\"\u001B[39;00m\n\u001B[0;32m   3942\u001B[0m \u001B[38;5;124;03m    Internal version of the `take` method that sets the `_is_copy`\u001B[39;00m\n\u001B[0;32m   3943\u001B[0m \u001B[38;5;124;03m    attribute to keep track of the parent dataframe (using in indexing\u001B[39;00m\n\u001B[1;32m   (...)\u001B[0m\n\u001B[0;32m   3946\u001B[0m \u001B[38;5;124;03m    See the docstring of `take` for full explanation of the parameters.\u001B[39;00m\n\u001B[0;32m   3947\u001B[0m \u001B[38;5;124;03m    \"\"\"\u001B[39;00m\n\u001B[1;32m-> 3948\u001B[0m     result \u001B[38;5;241m=\u001B[39m \u001B[38;5;28;43mself\u001B[39;49m\u001B[38;5;241;43m.\u001B[39;49m\u001B[43m_take\u001B[49m\u001B[43m(\u001B[49m\u001B[43mindices\u001B[49m\u001B[38;5;241;43m=\u001B[39;49m\u001B[43mindices\u001B[49m\u001B[43m,\u001B[49m\u001B[43m \u001B[49m\u001B[43maxis\u001B[49m\u001B[38;5;241;43m=\u001B[39;49m\u001B[43maxis\u001B[49m\u001B[43m)\u001B[49m\n\u001B[0;32m   3949\u001B[0m     \u001B[38;5;66;03m# Maybe set copy if we didn't actually change the index.\u001B[39;00m\n\u001B[0;32m   3950\u001B[0m     \u001B[38;5;28;01mif\u001B[39;00m \u001B[38;5;129;01mnot\u001B[39;00m result\u001B[38;5;241m.\u001B[39m_get_axis(axis)\u001B[38;5;241m.\u001B[39mequals(\u001B[38;5;28mself\u001B[39m\u001B[38;5;241m.\u001B[39m_get_axis(axis)):\n",
      "File \u001B[1;32m~\\AppData\\Local\\Programs\\Python\\Python310\\lib\\site-packages\\pandas\\core\\generic.py:3932\u001B[0m, in \u001B[0;36mNDFrame._take\u001B[1;34m(self, indices, axis, convert_indices)\u001B[0m\n\u001B[0;32m   3924\u001B[0m     \u001B[38;5;28;01mif\u001B[39;00m (\n\u001B[0;32m   3925\u001B[0m         axis \u001B[38;5;241m==\u001B[39m \u001B[38;5;241m0\u001B[39m\n\u001B[0;32m   3926\u001B[0m         \u001B[38;5;129;01mand\u001B[39;00m indices\u001B[38;5;241m.\u001B[39mndim \u001B[38;5;241m==\u001B[39m \u001B[38;5;241m1\u001B[39m\n\u001B[0;32m   3927\u001B[0m         \u001B[38;5;129;01mand\u001B[39;00m using_copy_on_write()\n\u001B[0;32m   3928\u001B[0m         \u001B[38;5;129;01mand\u001B[39;00m is_range_indexer(indices, \u001B[38;5;28mlen\u001B[39m(\u001B[38;5;28mself\u001B[39m))\n\u001B[0;32m   3929\u001B[0m     ):\n\u001B[0;32m   3930\u001B[0m         \u001B[38;5;28;01mreturn\u001B[39;00m \u001B[38;5;28mself\u001B[39m\u001B[38;5;241m.\u001B[39mcopy(deep\u001B[38;5;241m=\u001B[39m\u001B[38;5;28;01mNone\u001B[39;00m)\n\u001B[1;32m-> 3932\u001B[0m new_data \u001B[38;5;241m=\u001B[39m \u001B[38;5;28;43mself\u001B[39;49m\u001B[38;5;241;43m.\u001B[39;49m\u001B[43m_mgr\u001B[49m\u001B[38;5;241;43m.\u001B[39;49m\u001B[43mtake\u001B[49m\u001B[43m(\u001B[49m\n\u001B[0;32m   3933\u001B[0m \u001B[43m    \u001B[49m\u001B[43mindices\u001B[49m\u001B[43m,\u001B[49m\n\u001B[0;32m   3934\u001B[0m \u001B[43m    \u001B[49m\u001B[43maxis\u001B[49m\u001B[38;5;241;43m=\u001B[39;49m\u001B[38;5;28;43mself\u001B[39;49m\u001B[38;5;241;43m.\u001B[39;49m\u001B[43m_get_block_manager_axis\u001B[49m\u001B[43m(\u001B[49m\u001B[43maxis\u001B[49m\u001B[43m)\u001B[49m\u001B[43m,\u001B[49m\n\u001B[0;32m   3935\u001B[0m \u001B[43m    \u001B[49m\u001B[43mverify\u001B[49m\u001B[38;5;241;43m=\u001B[39;49m\u001B[38;5;28;43;01mTrue\u001B[39;49;00m\u001B[43m,\u001B[49m\n\u001B[0;32m   3936\u001B[0m \u001B[43m    \u001B[49m\u001B[43mconvert_indices\u001B[49m\u001B[38;5;241;43m=\u001B[39;49m\u001B[43mconvert_indices\u001B[49m\u001B[43m,\u001B[49m\n\u001B[0;32m   3937\u001B[0m \u001B[43m\u001B[49m\u001B[43m)\u001B[49m\n\u001B[0;32m   3938\u001B[0m \u001B[38;5;28;01mreturn\u001B[39;00m \u001B[38;5;28mself\u001B[39m\u001B[38;5;241m.\u001B[39m_constructor(new_data)\u001B[38;5;241m.\u001B[39m__finalize__(\u001B[38;5;28mself\u001B[39m, method\u001B[38;5;241m=\u001B[39m\u001B[38;5;124m\"\u001B[39m\u001B[38;5;124mtake\u001B[39m\u001B[38;5;124m\"\u001B[39m)\n",
      "File \u001B[1;32m~\\AppData\\Local\\Programs\\Python\\Python310\\lib\\site-packages\\pandas\\core\\internals\\managers.py:963\u001B[0m, in \u001B[0;36mBaseBlockManager.take\u001B[1;34m(self, indexer, axis, verify, convert_indices)\u001B[0m\n\u001B[0;32m    960\u001B[0m     indexer \u001B[38;5;241m=\u001B[39m maybe_convert_indices(indexer, n, verify\u001B[38;5;241m=\u001B[39mverify)\n\u001B[0;32m    962\u001B[0m new_labels \u001B[38;5;241m=\u001B[39m \u001B[38;5;28mself\u001B[39m\u001B[38;5;241m.\u001B[39maxes[axis]\u001B[38;5;241m.\u001B[39mtake(indexer)\n\u001B[1;32m--> 963\u001B[0m \u001B[38;5;28;01mreturn\u001B[39;00m \u001B[38;5;28;43mself\u001B[39;49m\u001B[38;5;241;43m.\u001B[39;49m\u001B[43mreindex_indexer\u001B[49m\u001B[43m(\u001B[49m\n\u001B[0;32m    964\u001B[0m \u001B[43m    \u001B[49m\u001B[43mnew_axis\u001B[49m\u001B[38;5;241;43m=\u001B[39;49m\u001B[43mnew_labels\u001B[49m\u001B[43m,\u001B[49m\n\u001B[0;32m    965\u001B[0m \u001B[43m    \u001B[49m\u001B[43mindexer\u001B[49m\u001B[38;5;241;43m=\u001B[39;49m\u001B[43mindexer\u001B[49m\u001B[43m,\u001B[49m\n\u001B[0;32m    966\u001B[0m \u001B[43m    \u001B[49m\u001B[43maxis\u001B[49m\u001B[38;5;241;43m=\u001B[39;49m\u001B[43maxis\u001B[49m\u001B[43m,\u001B[49m\n\u001B[0;32m    967\u001B[0m \u001B[43m    \u001B[49m\u001B[43mallow_dups\u001B[49m\u001B[38;5;241;43m=\u001B[39;49m\u001B[38;5;28;43;01mTrue\u001B[39;49;00m\u001B[43m,\u001B[49m\n\u001B[0;32m    968\u001B[0m \u001B[43m    \u001B[49m\u001B[43mcopy\u001B[49m\u001B[38;5;241;43m=\u001B[39;49m\u001B[38;5;28;43;01mNone\u001B[39;49;00m\u001B[43m,\u001B[49m\n\u001B[0;32m    969\u001B[0m \u001B[43m\u001B[49m\u001B[43m)\u001B[49m\n",
      "File \u001B[1;32m~\\AppData\\Local\\Programs\\Python\\Python310\\lib\\site-packages\\pandas\\core\\internals\\managers.py:747\u001B[0m, in \u001B[0;36mBaseBlockManager.reindex_indexer\u001B[1;34m(self, new_axis, indexer, axis, fill_value, allow_dups, copy, only_slice, use_na_proxy)\u001B[0m\n\u001B[0;32m    740\u001B[0m     new_blocks \u001B[38;5;241m=\u001B[39m \u001B[38;5;28mself\u001B[39m\u001B[38;5;241m.\u001B[39m_slice_take_blocks_ax0(\n\u001B[0;32m    741\u001B[0m         indexer,\n\u001B[0;32m    742\u001B[0m         fill_value\u001B[38;5;241m=\u001B[39mfill_value,\n\u001B[0;32m    743\u001B[0m         only_slice\u001B[38;5;241m=\u001B[39monly_slice,\n\u001B[0;32m    744\u001B[0m         use_na_proxy\u001B[38;5;241m=\u001B[39muse_na_proxy,\n\u001B[0;32m    745\u001B[0m     )\n\u001B[0;32m    746\u001B[0m \u001B[38;5;28;01melse\u001B[39;00m:\n\u001B[1;32m--> 747\u001B[0m     new_blocks \u001B[38;5;241m=\u001B[39m [\n\u001B[0;32m    748\u001B[0m         blk\u001B[38;5;241m.\u001B[39mtake_nd(\n\u001B[0;32m    749\u001B[0m             indexer,\n\u001B[0;32m    750\u001B[0m             axis\u001B[38;5;241m=\u001B[39m\u001B[38;5;241m1\u001B[39m,\n\u001B[0;32m    751\u001B[0m             fill_value\u001B[38;5;241m=\u001B[39m(\n\u001B[0;32m    752\u001B[0m                 fill_value \u001B[38;5;28;01mif\u001B[39;00m fill_value \u001B[38;5;129;01mis\u001B[39;00m \u001B[38;5;129;01mnot\u001B[39;00m \u001B[38;5;28;01mNone\u001B[39;00m \u001B[38;5;28;01melse\u001B[39;00m blk\u001B[38;5;241m.\u001B[39mfill_value\n\u001B[0;32m    753\u001B[0m             ),\n\u001B[0;32m    754\u001B[0m         )\n\u001B[0;32m    755\u001B[0m         \u001B[38;5;28;01mfor\u001B[39;00m blk \u001B[38;5;129;01min\u001B[39;00m \u001B[38;5;28mself\u001B[39m\u001B[38;5;241m.\u001B[39mblocks\n\u001B[0;32m    756\u001B[0m     ]\n\u001B[0;32m    758\u001B[0m new_axes \u001B[38;5;241m=\u001B[39m \u001B[38;5;28mlist\u001B[39m(\u001B[38;5;28mself\u001B[39m\u001B[38;5;241m.\u001B[39maxes)\n\u001B[0;32m    759\u001B[0m new_axes[axis] \u001B[38;5;241m=\u001B[39m new_axis\n",
      "File \u001B[1;32m~\\AppData\\Local\\Programs\\Python\\Python310\\lib\\site-packages\\pandas\\core\\internals\\managers.py:748\u001B[0m, in \u001B[0;36m<listcomp>\u001B[1;34m(.0)\u001B[0m\n\u001B[0;32m    740\u001B[0m     new_blocks \u001B[38;5;241m=\u001B[39m \u001B[38;5;28mself\u001B[39m\u001B[38;5;241m.\u001B[39m_slice_take_blocks_ax0(\n\u001B[0;32m    741\u001B[0m         indexer,\n\u001B[0;32m    742\u001B[0m         fill_value\u001B[38;5;241m=\u001B[39mfill_value,\n\u001B[0;32m    743\u001B[0m         only_slice\u001B[38;5;241m=\u001B[39monly_slice,\n\u001B[0;32m    744\u001B[0m         use_na_proxy\u001B[38;5;241m=\u001B[39muse_na_proxy,\n\u001B[0;32m    745\u001B[0m     )\n\u001B[0;32m    746\u001B[0m \u001B[38;5;28;01melse\u001B[39;00m:\n\u001B[0;32m    747\u001B[0m     new_blocks \u001B[38;5;241m=\u001B[39m [\n\u001B[1;32m--> 748\u001B[0m         \u001B[43mblk\u001B[49m\u001B[38;5;241;43m.\u001B[39;49m\u001B[43mtake_nd\u001B[49m\u001B[43m(\u001B[49m\n\u001B[0;32m    749\u001B[0m \u001B[43m            \u001B[49m\u001B[43mindexer\u001B[49m\u001B[43m,\u001B[49m\n\u001B[0;32m    750\u001B[0m \u001B[43m            \u001B[49m\u001B[43maxis\u001B[49m\u001B[38;5;241;43m=\u001B[39;49m\u001B[38;5;241;43m1\u001B[39;49m\u001B[43m,\u001B[49m\n\u001B[0;32m    751\u001B[0m \u001B[43m            \u001B[49m\u001B[43mfill_value\u001B[49m\u001B[38;5;241;43m=\u001B[39;49m\u001B[43m(\u001B[49m\n\u001B[0;32m    752\u001B[0m \u001B[43m                \u001B[49m\u001B[43mfill_value\u001B[49m\u001B[43m \u001B[49m\u001B[38;5;28;43;01mif\u001B[39;49;00m\u001B[43m \u001B[49m\u001B[43mfill_value\u001B[49m\u001B[43m \u001B[49m\u001B[38;5;129;43;01mis\u001B[39;49;00m\u001B[43m \u001B[49m\u001B[38;5;129;43;01mnot\u001B[39;49;00m\u001B[43m \u001B[49m\u001B[38;5;28;43;01mNone\u001B[39;49;00m\u001B[43m \u001B[49m\u001B[38;5;28;43;01melse\u001B[39;49;00m\u001B[43m \u001B[49m\u001B[43mblk\u001B[49m\u001B[38;5;241;43m.\u001B[39;49m\u001B[43mfill_value\u001B[49m\n\u001B[0;32m    753\u001B[0m \u001B[43m            \u001B[49m\u001B[43m)\u001B[49m\u001B[43m,\u001B[49m\n\u001B[0;32m    754\u001B[0m \u001B[43m        \u001B[49m\u001B[43m)\u001B[49m\n\u001B[0;32m    755\u001B[0m         \u001B[38;5;28;01mfor\u001B[39;00m blk \u001B[38;5;129;01min\u001B[39;00m \u001B[38;5;28mself\u001B[39m\u001B[38;5;241m.\u001B[39mblocks\n\u001B[0;32m    756\u001B[0m     ]\n\u001B[0;32m    758\u001B[0m new_axes \u001B[38;5;241m=\u001B[39m \u001B[38;5;28mlist\u001B[39m(\u001B[38;5;28mself\u001B[39m\u001B[38;5;241m.\u001B[39maxes)\n\u001B[0;32m    759\u001B[0m new_axes[axis] \u001B[38;5;241m=\u001B[39m new_axis\n",
      "File \u001B[1;32m~\\AppData\\Local\\Programs\\Python\\Python310\\lib\\site-packages\\pandas\\core\\internals\\blocks.py:945\u001B[0m, in \u001B[0;36mBlock.take_nd\u001B[1;34m(self, indexer, axis, new_mgr_locs, fill_value)\u001B[0m\n\u001B[0;32m    942\u001B[0m     allow_fill \u001B[38;5;241m=\u001B[39m \u001B[38;5;28;01mTrue\u001B[39;00m\n\u001B[0;32m    944\u001B[0m \u001B[38;5;66;03m# Note: algos.take_nd has upcast logic similar to coerce_to_target_dtype\u001B[39;00m\n\u001B[1;32m--> 945\u001B[0m new_values \u001B[38;5;241m=\u001B[39m \u001B[43malgos\u001B[49m\u001B[38;5;241;43m.\u001B[39;49m\u001B[43mtake_nd\u001B[49m\u001B[43m(\u001B[49m\n\u001B[0;32m    946\u001B[0m \u001B[43m    \u001B[49m\u001B[43mvalues\u001B[49m\u001B[43m,\u001B[49m\u001B[43m \u001B[49m\u001B[43mindexer\u001B[49m\u001B[43m,\u001B[49m\u001B[43m \u001B[49m\u001B[43maxis\u001B[49m\u001B[38;5;241;43m=\u001B[39;49m\u001B[43maxis\u001B[49m\u001B[43m,\u001B[49m\u001B[43m \u001B[49m\u001B[43mallow_fill\u001B[49m\u001B[38;5;241;43m=\u001B[39;49m\u001B[43mallow_fill\u001B[49m\u001B[43m,\u001B[49m\u001B[43m \u001B[49m\u001B[43mfill_value\u001B[49m\u001B[38;5;241;43m=\u001B[39;49m\u001B[43mfill_value\u001B[49m\n\u001B[0;32m    947\u001B[0m \u001B[43m\u001B[49m\u001B[43m)\u001B[49m\n\u001B[0;32m    949\u001B[0m \u001B[38;5;66;03m# Called from three places in managers, all of which satisfy\u001B[39;00m\n\u001B[0;32m    950\u001B[0m \u001B[38;5;66;03m#  these assertions\u001B[39;00m\n\u001B[0;32m    951\u001B[0m \u001B[38;5;28;01mif\u001B[39;00m \u001B[38;5;28misinstance\u001B[39m(\u001B[38;5;28mself\u001B[39m, ExtensionBlock):\n\u001B[0;32m    952\u001B[0m     \u001B[38;5;66;03m# NB: in this case, the 'axis' kwarg will be ignored in the\u001B[39;00m\n\u001B[0;32m    953\u001B[0m     \u001B[38;5;66;03m#  algos.take_nd call above.\u001B[39;00m\n",
      "File \u001B[1;32m~\\AppData\\Local\\Programs\\Python\\Python310\\lib\\site-packages\\pandas\\core\\array_algos\\take.py:117\u001B[0m, in \u001B[0;36mtake_nd\u001B[1;34m(arr, indexer, axis, fill_value, allow_fill)\u001B[0m\n\u001B[0;32m    114\u001B[0m     \u001B[38;5;28;01mreturn\u001B[39;00m arr\u001B[38;5;241m.\u001B[39mtake(indexer, fill_value\u001B[38;5;241m=\u001B[39mfill_value, allow_fill\u001B[38;5;241m=\u001B[39mallow_fill)\n\u001B[0;32m    116\u001B[0m arr \u001B[38;5;241m=\u001B[39m np\u001B[38;5;241m.\u001B[39masarray(arr)\n\u001B[1;32m--> 117\u001B[0m \u001B[38;5;28;01mreturn\u001B[39;00m \u001B[43m_take_nd_ndarray\u001B[49m\u001B[43m(\u001B[49m\u001B[43marr\u001B[49m\u001B[43m,\u001B[49m\u001B[43m \u001B[49m\u001B[43mindexer\u001B[49m\u001B[43m,\u001B[49m\u001B[43m \u001B[49m\u001B[43maxis\u001B[49m\u001B[43m,\u001B[49m\u001B[43m \u001B[49m\u001B[43mfill_value\u001B[49m\u001B[43m,\u001B[49m\u001B[43m \u001B[49m\u001B[43mallow_fill\u001B[49m\u001B[43m)\u001B[49m\n",
      "File \u001B[1;32m~\\AppData\\Local\\Programs\\Python\\Python310\\lib\\site-packages\\pandas\\core\\array_algos\\take.py:157\u001B[0m, in \u001B[0;36m_take_nd_ndarray\u001B[1;34m(arr, indexer, axis, fill_value, allow_fill)\u001B[0m\n\u001B[0;32m    155\u001B[0m     out \u001B[38;5;241m=\u001B[39m np\u001B[38;5;241m.\u001B[39mempty(out_shape, dtype\u001B[38;5;241m=\u001B[39mdtype, order\u001B[38;5;241m=\u001B[39m\u001B[38;5;124m\"\u001B[39m\u001B[38;5;124mF\u001B[39m\u001B[38;5;124m\"\u001B[39m)\n\u001B[0;32m    156\u001B[0m \u001B[38;5;28;01melse\u001B[39;00m:\n\u001B[1;32m--> 157\u001B[0m     out \u001B[38;5;241m=\u001B[39m \u001B[43mnp\u001B[49m\u001B[38;5;241;43m.\u001B[39;49m\u001B[43mempty\u001B[49m\u001B[43m(\u001B[49m\u001B[43mout_shape\u001B[49m\u001B[43m,\u001B[49m\u001B[43m \u001B[49m\u001B[43mdtype\u001B[49m\u001B[38;5;241;43m=\u001B[39;49m\u001B[43mdtype\u001B[49m\u001B[43m)\u001B[49m\n\u001B[0;32m    159\u001B[0m func \u001B[38;5;241m=\u001B[39m _get_take_nd_function(\n\u001B[0;32m    160\u001B[0m     arr\u001B[38;5;241m.\u001B[39mndim, arr\u001B[38;5;241m.\u001B[39mdtype, out\u001B[38;5;241m.\u001B[39mdtype, axis\u001B[38;5;241m=\u001B[39maxis, mask_info\u001B[38;5;241m=\u001B[39mmask_info\n\u001B[0;32m    161\u001B[0m )\n\u001B[0;32m    162\u001B[0m func(arr, indexer, out, fill_value)\n",
      "\u001B[1;31mMemoryError\u001B[0m: Unable to allocate 2.80 GiB for an array with shape (7401, 50855) and data type float64"
     ]
    }
   ],
   "source": [
    "\n",
    "# split data into train and test parts\n",
    "\n",
    "tscv = TimeSeriesSplit(n_splits=3)\n",
    "\n",
    "# Iterate over time series data using TimeSeriesSplit\n",
    "for train_index, test_index in tscv.split(merged_df):\n",
    "    X_train, X_test = merged_df.iloc[train_index, :], merged_df.iloc[test_index,:]\n"
   ],
   "metadata": {
    "collapsed": false
   }
>>>>>>> 2cf5da5a3224218ecbaf51ec0531a6e92cd324c6
  },
  {
   "cell_type": "code",
   "execution_count": null,
   "id": "27d38632",
   "metadata": {},
   "outputs": [],
   "source": [
    "from sklearn.model_selection import train_test_split\n",
    "\n",
    "X = merged_df.iloc[:, :-1]  # Exclude the last column (target variable)\n",
    "y = merged_df.iloc[:, -1]  # Last column (target variable)\n",
    "\n",
    "# Split the data into train and test sets\n",
    "X_train, X_test, y_train, y_test = train_test_split(X, y, test_size=0.2, shuffle=False)"
   ]
  },
  {
   "cell_type": "code",
   "execution_count": null,
   "id": "7f5fbb30",
   "metadata": {},
   "outputs": [],
   "source": []
  },
  {
   "cell_type": "code",
   "execution_count": null,
   "id": "38a66b5d",
   "metadata": {},
   "outputs": [],
   "source": [
    "tscv = TimeSeriesSplit(n_splits=3)\n",
    "\n",
    "# Initialize lists to store training and testing data\n",
    "X_train_list = []\n",
    "X_test_list = []\n",
    "y_train_list = []\n",
    "y_test_list = []\n",
    "\n",
    "# Iterate over time series split and create X_train, X_test, y_train, y_test\n",
    "for train_index, test_index in tscv.split(merged_df):\n",
    "    X_train = merged_df.iloc[train_index][X_cols]\n",
    "    X_test = merged_df.iloc[test_index][X_cols]\n",
    "    y_train = merged_df.iloc[train_index][y_cols]\n",
    "    y_test = merged_df.iloc[test_index][y_cols]\n",
    "    X_train_list.append(X_train)\n",
    "    X_test_list.append(X_test)\n",
    "    y_train_list.append(y_train)\n",
    "    y_test_list.append(y_test)\n",
    "\n",
    "\n",
    "# Concatenate the lists to create arrays\n",
    "X_train = np.concatenate(X_train_list)\n",
    "X_test = np.concatenate(X_test_list)\n",
    "y_train = np.concatenate(y_train_list)\n",
    "y_test = np.concatenate(y_test_list)\n"
   ]
  }
 ],
 "metadata": {
  "kernelspec": {
   "display_name": "Python 3 (ipykernel)",
   "language": "python",
   "name": "python3"
  },
  "language_info": {
   "codemirror_mode": {
    "name": "ipython",
    "version": 3
   },
   "file_extension": ".py",
   "mimetype": "text/x-python",
   "name": "python",
   "nbconvert_exporter": "python",
   "pygments_lexer": "ipython3",
   "version": "3.9.7"
  }
 },
 "nbformat": 4,
 "nbformat_minor": 5
}
