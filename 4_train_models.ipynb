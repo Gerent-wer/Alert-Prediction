{
 "cells": [
  {
   "cell_type": "code",
   "execution_count": 2,
   "id": "65ab26b6",
   "metadata": {},
   "outputs": [],
   "source": [
    "#1. import necessary libraries and modules\n",
    "\n",
    "#2. upload all necessary data\n",
    "\n",
    "#3. define X and y. y - our target. X- predictors. We have X but how we represent y? -  Vlad say that for \n",
    "#   now we do not devide our dataset into two this parts, but I suppose you should ask Markiyan about\n",
    "#   how we can measure the efficiency of the model later on\n",
    "\n",
    "#4. devide data into train and test using following link\n",
    "    #use https://scikit-learn.org/stable/modules/generated/sklearn.model_selection.TimeSeriesSplit.html\n",
    "\n",
    "#5. train 6 models:\n",
    "    # 1. LogisticRegression\n",
    "    # 2. Support Vector Machines\n",
    "    # 3. Stochastic Gradient Descent\n",
    "    # 4. Random Forest\n",
    "    # 5. Nearest Neighbors Classification\n",
    "    # 6. Bayesian Regression\n",
    "    \n",
    "#6. save them\n",
    "\n",
    "#7 Calculate confusion matrices for each model\n",
    "\n",
    "#8 Choose the top 3 models. Motivate your decision on how did you define “top” models?\n",
    "\n",
    "#9 Tune hyperparameters for the top 3 models you choose\n",
    "\n",
    "#10. move to the next file - 5_evaluate_models"
   ]
  },
  {
   "cell_type": "code",
   "execution_count": null,
   "id": "12772d47",
   "metadata": {},
   "outputs": [],
   "source": []
  }
 ],
 "metadata": {
  "kernelspec": {
   "display_name": "Python 3 (ipykernel)",
   "language": "python",
   "name": "python3"
  },
  "language_info": {
   "codemirror_mode": {
    "name": "ipython",
    "version": 3
   },
   "file_extension": ".py",
   "mimetype": "text/x-python",
   "name": "python",
   "nbconvert_exporter": "python",
   "pygments_lexer": "ipython3",
   "version": "3.9.7"
  }
 },
 "nbformat": 4,
 "nbformat_minor": 5
}
