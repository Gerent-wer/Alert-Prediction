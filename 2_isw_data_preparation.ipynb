{
 "cells": [
  {
   "cell_type": "code",
   "execution_count": 1,
   "id": "8f249234",
   "metadata": {},
   "outputs": [],
   "source": [
    "import pandas as pd"
   ]
  },
  {
   "cell_type": "code",
   "execution_count": 2,
   "id": "0a01ca38",
   "metadata": {},
   "outputs": [],
   "source": [
    "data = pd.read_csv('data/0_isw_data_collection/1_isw_preprocessed.csv')"
   ]
  },
  {
   "cell_type": "markdown",
   "id": "cd12f78d",
   "metadata": {},
   "source": [
    "### NLTK"
   ]
  },
  {
   "cell_type": "code",
   "execution_count": 3,
   "id": "ab214074",
   "metadata": {},
   "outputs": [],
   "source": [
    "#!pip3 install --upgrade pip"
   ]
  },
  {
   "cell_type": "code",
   "execution_count": 4,
   "id": "4c098365",
   "metadata": {},
   "outputs": [],
   "source": [
    "#pip install num2words"
   ]
  },
  {
   "cell_type": "code",
   "execution_count": 5,
   "id": "664ebc2f",
   "metadata": {},
   "outputs": [
    {
     "name": "stdout",
     "output_type": "stream",
     "text": [
      "Requirement already satisfied: scikit-learn in ./.venv/lib/python3.8/site-packages (1.2.2)\n",
      "Requirement already satisfied: threadpoolctl>=2.0.0 in ./.venv/lib/python3.8/site-packages (from scikit-learn) (3.1.0)\n",
      "Requirement already satisfied: scipy>=1.3.2 in ./.venv/lib/python3.8/site-packages (from scikit-learn) (1.10.1)\n",
      "Requirement already satisfied: joblib>=1.1.1 in ./.venv/lib/python3.8/site-packages (from scikit-learn) (1.2.0)\n",
      "Requirement already satisfied: numpy>=1.17.3 in ./.venv/lib/python3.8/site-packages (from scikit-learn) (1.24.2)\n"
     ]
    }
   ],
   "source": [
    "!pip install scikit-learn"
   ]
  },
  {
   "cell_type": "code",
   "execution_count": 6,
   "id": "2cdfb386",
   "metadata": {},
   "outputs": [],
   "source": [
    "from nltk.corpus import stopwords\n",
    "from nltk.tokenize import word_tokenize\n",
    "from nltk.stem import PorterStemmer\n",
    "from nltk.stem import WordNetLemmatizer\n",
    "from collections import Counter\n",
    "from num2words import num2words\n",
    "\n",
    "\n",
    "import nltk\n",
    "import os\n",
    "import string\n",
    "import numpy as np\n",
    "import copy \n",
    "import pickle\n",
    "import re\n",
    "import math\n",
    "\n",
    "from sklearn.feature_extraction.text import CountVectorizer, TfidfVectorizer\n",
    "from sklearn.feature_extraction.text import TfidfTransformer\n"
   ]
  },
  {
   "cell_type": "code",
   "execution_count": 7,
   "id": "9be45103",
   "metadata": {},
   "outputs": [
    {
     "data": {
      "text/html": [
       "<div>\n",
       "<style scoped>\n",
       "    .dataframe tbody tr th:only-of-type {\n",
       "        vertical-align: middle;\n",
       "    }\n",
       "\n",
       "    .dataframe tbody tr th {\n",
       "        vertical-align: top;\n",
       "    }\n",
       "\n",
       "    .dataframe thead th {\n",
       "        text-align: right;\n",
       "    }\n",
       "</style>\n",
       "<table border=\"1\" class=\"dataframe\">\n",
       "  <thead>\n",
       "    <tr style=\"text-align: right;\">\n",
       "      <th></th>\n",
       "      <th>Unnamed: 0</th>\n",
       "      <th>date</th>\n",
       "      <th>short_url</th>\n",
       "      <th>title</th>\n",
       "      <th>text_title</th>\n",
       "      <th>full_url</th>\n",
       "      <th>main_html</th>\n",
       "      <th>main_html_v6</th>\n",
       "    </tr>\n",
       "  </thead>\n",
       "  <tbody>\n",
       "    <tr>\n",
       "      <th>0</th>\n",
       "      <td>0</td>\n",
       "      <td>2022-02-25</td>\n",
       "      <td>RusCampaignFeb25</td>\n",
       "      <td>Russia-Ukraine Warning Update: Russian Offensi...</td>\n",
       "      <td>Russia-Ukraine Warning Update: Russian Offensi...</td>\n",
       "      <td>/backgrounder/russia-ukraine-warning-update-ru...</td>\n",
       "      <td>&lt;div class=\"field field-name-body field-type-t...</td>\n",
       "      <td>Mason Clark, George Barros, and Kateryna Step...</td>\n",
       "    </tr>\n",
       "    <tr>\n",
       "      <th>1</th>\n",
       "      <td>1</td>\n",
       "      <td>2022-02-26</td>\n",
       "      <td>RusCampaignFeb26</td>\n",
       "      <td>Russia-Ukraine Warning Update: Russian Offensi...</td>\n",
       "      <td>Russia-Ukraine Warning Update: Russian Offensi...</td>\n",
       "      <td>/backgrounder/russia-ukraine-warning-update-ru...</td>\n",
       "      <td>&lt;div class=\"field field-name-body field-type-t...</td>\n",
       "      <td>Mason Clark, George Barros, and Katya Stepane...</td>\n",
       "    </tr>\n",
       "    <tr>\n",
       "      <th>2</th>\n",
       "      <td>2</td>\n",
       "      <td>2022-02-27</td>\n",
       "      <td>RusCampaignFeb27</td>\n",
       "      <td>Russia-Ukraine Warning Update: Russian Offensi...</td>\n",
       "      <td>Russia-Ukraine Warning Update: Russian Offensi...</td>\n",
       "      <td>/backgrounder/russia-ukraine-warning-update-ru...</td>\n",
       "      <td>&lt;div class=\"field field-name-body field-type-t...</td>\n",
       "      <td>Mason Clark, George Barros, and Kateryna Step...</td>\n",
       "    </tr>\n",
       "    <tr>\n",
       "      <th>3</th>\n",
       "      <td>3</td>\n",
       "      <td>2022-02-28</td>\n",
       "      <td>RusCampaignFeb28</td>\n",
       "      <td>Russian Offensive Campaign Assessment, Februar...</td>\n",
       "      <td>Russian Offensive Campaign Assessment, Februar...</td>\n",
       "      <td>/backgrounder/russian-offensive-campaign-asses...</td>\n",
       "      <td>&lt;div class=\"field field-name-body field-type-t...</td>\n",
       "      <td>Mason Clark, George Barros, and Kateryna Step...</td>\n",
       "    </tr>\n",
       "    <tr>\n",
       "      <th>4</th>\n",
       "      <td>4</td>\n",
       "      <td>2022-03-01</td>\n",
       "      <td>RusCampaignMar1</td>\n",
       "      <td>Russian Offensive Campaign Assessment, March 1...</td>\n",
       "      <td>Russian Offensive Campaign Assessment, March 1</td>\n",
       "      <td>/backgrounder/russian-offensive-campaign-asses...</td>\n",
       "      <td>&lt;div class=\"field field-name-body field-type-t...</td>\n",
       "      <td>Frederick W. Kagan, George Barros, and Katery...</td>\n",
       "    </tr>\n",
       "  </tbody>\n",
       "</table>\n",
       "</div>"
      ],
      "text/plain": [
       "   Unnamed: 0        date         short_url  \\\n",
       "0           0  2022-02-25  RusCampaignFeb25   \n",
       "1           1  2022-02-26  RusCampaignFeb26   \n",
       "2           2  2022-02-27  RusCampaignFeb27   \n",
       "3           3  2022-02-28  RusCampaignFeb28   \n",
       "4           4  2022-03-01   RusCampaignMar1   \n",
       "\n",
       "                                               title  \\\n",
       "0  Russia-Ukraine Warning Update: Russian Offensi...   \n",
       "1  Russia-Ukraine Warning Update: Russian Offensi...   \n",
       "2  Russia-Ukraine Warning Update: Russian Offensi...   \n",
       "3  Russian Offensive Campaign Assessment, Februar...   \n",
       "4  Russian Offensive Campaign Assessment, March 1...   \n",
       "\n",
       "                                          text_title  \\\n",
       "0  Russia-Ukraine Warning Update: Russian Offensi...   \n",
       "1  Russia-Ukraine Warning Update: Russian Offensi...   \n",
       "2  Russia-Ukraine Warning Update: Russian Offensi...   \n",
       "3  Russian Offensive Campaign Assessment, Februar...   \n",
       "4     Russian Offensive Campaign Assessment, March 1   \n",
       "\n",
       "                                            full_url  \\\n",
       "0  /backgrounder/russia-ukraine-warning-update-ru...   \n",
       "1  /backgrounder/russia-ukraine-warning-update-ru...   \n",
       "2  /backgrounder/russia-ukraine-warning-update-ru...   \n",
       "3  /backgrounder/russian-offensive-campaign-asses...   \n",
       "4  /backgrounder/russian-offensive-campaign-asses...   \n",
       "\n",
       "                                           main_html  \\\n",
       "0  <div class=\"field field-name-body field-type-t...   \n",
       "1  <div class=\"field field-name-body field-type-t...   \n",
       "2  <div class=\"field field-name-body field-type-t...   \n",
       "3  <div class=\"field field-name-body field-type-t...   \n",
       "4  <div class=\"field field-name-body field-type-t...   \n",
       "\n",
       "                                        main_html_v6  \n",
       "0   Mason Clark, George Barros, and Kateryna Step...  \n",
       "1   Mason Clark, George Barros, and Katya Stepane...  \n",
       "2   Mason Clark, George Barros, and Kateryna Step...  \n",
       "3   Mason Clark, George Barros, and Kateryna Step...  \n",
       "4   Frederick W. Kagan, George Barros, and Katery...  "
      ]
     },
     "execution_count": 7,
     "metadata": {},
     "output_type": "execute_result"
    }
   ],
   "source": [
    "data.head()"
   ]
  },
  {
   "cell_type": "markdown",
   "id": "c7fb6503",
   "metadata": {},
   "source": [
    "### Prepare functions"
   ]
  },
  {
   "cell_type": "code",
   "execution_count": 8,
   "id": "458c7542",
   "metadata": {},
   "outputs": [],
   "source": [
    "def remove_one_letter_word(data):\n",
    "    words = word_tokenize(str(data))\n",
    "    \n",
    "    new_text = \"\"\n",
    "    for w in words:\n",
    "        if (len(w) > 1):\n",
    "            new_text = new_text + \" \" + w\n",
    "            \n",
    "    return new_text"
   ]
  },
  {
   "cell_type": "code",
   "execution_count": 9,
   "id": "4a77d686",
   "metadata": {},
   "outputs": [],
   "source": [
    "#remove_one_letter_word(data['main_html_v6'][0])"
   ]
  },
  {
   "cell_type": "code",
   "execution_count": 10,
   "id": "7a9ff784",
   "metadata": {},
   "outputs": [],
   "source": [
    "def convert_lower_case(data):\n",
    "    return np.char.lower(data)"
   ]
  },
  {
   "cell_type": "code",
   "execution_count": 11,
   "id": "bbb27064",
   "metadata": {},
   "outputs": [
    {
     "name": "stdout",
     "output_type": "stream",
     "text": [
      "{'you', 'nor', 'mustn', 'above', 'further', 'couldn', 'me', 'as', \"doesn't\", \"aren't\", \"couldn't\", 'm', 'our', 'had', 'these', 'its', \"it's\", 'll', 'isn', \"you'd\", 's', 't', 'them', 'until', 'once', 're', \"you're\", 'now', 'was', 'mightn', 'has', 'haven', 'their', 'each', 'shouldn', 'yourselves', 'itself', 'an', 'ourselves', 'are', 'been', 'from', 'own', 'too', 'ma', 'and', 'hasn', 'theirs', 'ain', 'in', \"you've\", 'same', 'the', 'all', 'only', 'o', \"wasn't\", 'both', 'at', 'have', 'shan', 'yours', 'after', 'to', 'but', 'didn', 'herself', 'while', 'a', 'himself', 'any', 'or', 'just', 'aren', 'is', 'do', \"mightn't\", 'doesn', 'those', 'that', \"weren't\", 'through', 'up', 'weren', 'wouldn', 'because', 'we', 'other', \"didn't\", 'should', \"that'll\", 'few', 'his', 'were', 'why', 'him', 'having', 'here', 'down', 'y', 'than', \"haven't\", 'being', 'between', 'will', \"she's\", 'hers', 'does', 'her', 'not', 'where', 'over', 'then', 'for', 'by', 'ours', \"wouldn't\", \"isn't\", \"shan't\", 'very', 'wasn', \"hadn't\", 'if', 'can', 've', \"you'll\", 'myself', \"hasn't\", 'who', 'on', \"don't\", 'themselves', 'this', \"needn't\", 'no', 'be', 'how', 'of', 'don', 'he', 'into', 'out', 'which', 'am', 'more', 'what', 'did', \"won't\", 'd', 'i', 'she', \"mustn't\", 'won', 'about', 'such', \"shouldn't\", \"should've\", 'under', 'most', 'some', 'my', 'with', 'so', 'hadn', 'needn', 'yourself', 'they', 'when', 'whom', 'during', 'against', 'your', 'doing', 'below', 'it', 'before', 'again', 'off', 'there'}\n"
     ]
    },
    {
     "name": "stderr",
     "output_type": "stream",
     "text": [
      "[nltk_data] Downloading package stopwords to /home/ubuntu/nltk_data...\n",
      "[nltk_data]   Package stopwords is already up-to-date!\n"
     ]
    }
   ],
   "source": [
    "nltk.download('stopwords')\n",
    "stop_words = set(stopwords.words('english'))\n",
    "print(stop_words)"
   ]
  },
  {
   "cell_type": "code",
   "execution_count": 12,
   "id": "b12d2741",
   "metadata": {},
   "outputs": [],
   "source": [
    "def remove_stop_words(data):\n",
    "    stop_words = set(stopwords.words('english'))\n",
    "    stop_stop_words = {\"no\",\"not\"}\n",
    "    \n",
    "    stop_words = stop_words - stop_stop_words\n",
    "    \n",
    "    words = word_tokenize(str(data))\n",
    "    \n",
    "    new_text = \"\"\n",
    "    for w in words:\n",
    "        if w not in stop_words and len(w) > 1:\n",
    "            new_text = new_text + \" \" + w\n",
    "            \n",
    "    return new_text"
   ]
  },
  {
   "cell_type": "code",
   "execution_count": 13,
   "id": "88e5e9b5",
   "metadata": {},
   "outputs": [],
   "source": [
    "#remove_stop_words(data['main_html_v6'][0])"
   ]
  },
  {
   "cell_type": "code",
   "execution_count": 14,
   "id": "1c930ee7",
   "metadata": {},
   "outputs": [],
   "source": [
    "def remove_punctuations(data):\n",
    "    symbols = \" !()-[]{};:'\\,<>./?@#$%^&*_~ '\"\"\"  \n",
    "    \n",
    "    for i in range(len(symbols)):\n",
    "        data = np.char.replace(data,symbols[i],\" \")\n",
    "        data = np.char.replace(data,\"  \",\" \")\n",
    "    \n",
    "    data = np.char.replace(data,\",\", \" \")\n",
    "    \n",
    "    return data\n",
    "            "
   ]
  },
  {
   "cell_type": "code",
   "execution_count": 15,
   "id": "9419ae92",
   "metadata": {},
   "outputs": [],
   "source": [
    "#remove_punctuations(data['main_html_v6'][0])"
   ]
  },
  {
   "cell_type": "code",
   "execution_count": 16,
   "id": "8ec7f035",
   "metadata": {},
   "outputs": [],
   "source": [
    "def stemming(data):\n",
    "    stemmer = PorterStemmer()\n",
    "    \n",
    "    tokens = word_tokenize(str(data))\n",
    "    new_text = \"\"\n",
    "    for w in tokens:\n",
    "        new_text = new_text + \" \" + stemmer.stem(w)\n",
    "        \n",
    "    return new_text\n",
    "\n",
    "def lemmatizing(data):\n",
    "    lemmatizer = WordNetLemmatizer()\n",
    "    \n",
    "    tokens = word_tokenize(str(data))\n",
    "    new_text = \"\"\n",
    "    for w in tokens:\n",
    "        new_text = new_text + \" \" + lemmatizer.lemmatize(w)\n",
    "               \n",
    "    return new_text"
   ]
  },
  {
   "cell_type": "code",
   "execution_count": 17,
   "id": "32feaaa2",
   "metadata": {},
   "outputs": [],
   "source": [
    "def convert_numbers(data):\n",
    "    \n",
    "    tokens = word_tokenize(str(data))\n",
    "    new_text = \"\"\n",
    "    for w in tokens:\n",
    "        if w.isdigit():\n",
    "            if int(w) < 1000000000:\n",
    "                w = num2words(w)\n",
    "            else:\n",
    "                w = \" \"\n",
    "        new_text = new_text + \" \" + w\n",
    "            \n",
    "    new_text = np.char.replace(new_text,\"-\",\" \")\n",
    "        \n",
    "    return new_text\n",
    "                \n",
    "                "
   ]
  },
  {
   "cell_type": "code",
   "execution_count": 18,
   "id": "a560933a",
   "metadata": {},
   "outputs": [],
   "source": [
    "#convert_numbers(data['main_html_v6'][0])"
   ]
  },
  {
   "cell_type": "code",
   "execution_count": 19,
   "id": "5091cdd7",
   "metadata": {},
   "outputs": [],
   "source": [
    "def remove_url_from_string(data):\n",
    "    words = word_tokenize(str(data))\n",
    "    new_text = \"\"\n",
    "\n",
    "    \n",
    "    for w in words:\n",
    "        w = re.sub(r'https?:\\/\\/.*[\\r\\n]*',\"\",str(w),flags=re.MULTILINE)\n",
    "        w = re.sub(r'http?:\\/\\/.*[\\r\\n]*',\"\",str(w),flags=re.MULTILINE)\n",
    "        \n",
    "        new_text = new_text + \" \" + w\n",
    "        \n",
    "    return new_text"
   ]
  },
  {
   "cell_type": "code",
   "execution_count": 20,
   "id": "85522bb1",
   "metadata": {},
   "outputs": [],
   "source": [
    "def preprocess(data, word_root_algo='lemm'):\n",
    "    \n",
    "    data = remove_one_letter_word(data)\n",
    "    data = convert_lower_case(data)\n",
    "    data = remove_stop_words(data)\n",
    "    data = stemming(data)\n",
    "    data = remove_punctuations(data)\n",
    "    data = convert_numbers(data)\n",
    "    data = remove_url_from_string(data)\n",
    "    \n",
    "    if word_root_algo =='lemm':\n",
    "        data = lemmatizing(data)\n",
    "    else: \n",
    "        data = stemming(data)\n",
    "        \n",
    "    \n",
    "    data = remove_punctuations(data)\n",
    "    data = remove_stop_words(data)\n",
    "    \n",
    "    return data"
   ]
  },
  {
   "cell_type": "code",
   "execution_count": 21,
   "id": "b65ebcaf",
   "metadata": {},
   "outputs": [],
   "source": [
    "data['report_text_lemm'] = data['main_html_v6'].apply(lambda x: preprocess(x,\"lemm\"))"
   ]
  },
  {
   "cell_type": "code",
   "execution_count": 22,
   "id": "d7fbff86",
   "metadata": {},
   "outputs": [],
   "source": [
    "data['report_text_stemm'] = data['main_html_v6'].apply(lambda x: preprocess(x,\"stemm\"))"
   ]
  },
  {
   "cell_type": "code",
   "execution_count": 23,
   "id": "62302ecd",
   "metadata": {},
   "outputs": [
    {
     "data": {
      "text/html": [
       "<div>\n",
       "<style scoped>\n",
       "    .dataframe tbody tr th:only-of-type {\n",
       "        vertical-align: middle;\n",
       "    }\n",
       "\n",
       "    .dataframe tbody tr th {\n",
       "        vertical-align: top;\n",
       "    }\n",
       "\n",
       "    .dataframe thead th {\n",
       "        text-align: right;\n",
       "    }\n",
       "</style>\n",
       "<table border=\"1\" class=\"dataframe\">\n",
       "  <thead>\n",
       "    <tr style=\"text-align: right;\">\n",
       "      <th></th>\n",
       "      <th>Unnamed: 0</th>\n",
       "      <th>date</th>\n",
       "      <th>short_url</th>\n",
       "      <th>title</th>\n",
       "      <th>text_title</th>\n",
       "      <th>full_url</th>\n",
       "      <th>main_html</th>\n",
       "      <th>main_html_v6</th>\n",
       "      <th>report_text_lemm</th>\n",
       "      <th>report_text_stemm</th>\n",
       "    </tr>\n",
       "  </thead>\n",
       "  <tbody>\n",
       "    <tr>\n",
       "      <th>0</th>\n",
       "      <td>0</td>\n",
       "      <td>2022-02-25</td>\n",
       "      <td>RusCampaignFeb25</td>\n",
       "      <td>Russia-Ukraine Warning Update: Russian Offensi...</td>\n",
       "      <td>Russia-Ukraine Warning Update: Russian Offensi...</td>\n",
       "      <td>/backgrounder/russia-ukraine-warning-update-ru...</td>\n",
       "      <td>&lt;div class=\"field field-name-body field-type-t...</td>\n",
       "      <td>Mason Clark, George Barros, and Kateryna Step...</td>\n",
       "      <td>mason clark georg barro kateryna stepanenkofe...</td>\n",
       "      <td>mason clark georg barro kateryna stepanenkofe...</td>\n",
       "    </tr>\n",
       "    <tr>\n",
       "      <th>1</th>\n",
       "      <td>1</td>\n",
       "      <td>2022-02-26</td>\n",
       "      <td>RusCampaignFeb26</td>\n",
       "      <td>Russia-Ukraine Warning Update: Russian Offensi...</td>\n",
       "      <td>Russia-Ukraine Warning Update: Russian Offensi...</td>\n",
       "      <td>/backgrounder/russia-ukraine-warning-update-ru...</td>\n",
       "      <td>&lt;div class=\"field field-name-body field-type-t...</td>\n",
       "      <td>Mason Clark, George Barros, and Katya Stepane...</td>\n",
       "      <td>mason clark georg barro katya stepanenkofebru...</td>\n",
       "      <td>mason clark georg barro katya stepanenkofebru...</td>\n",
       "    </tr>\n",
       "    <tr>\n",
       "      <th>2</th>\n",
       "      <td>2</td>\n",
       "      <td>2022-02-27</td>\n",
       "      <td>RusCampaignFeb27</td>\n",
       "      <td>Russia-Ukraine Warning Update: Russian Offensi...</td>\n",
       "      <td>Russia-Ukraine Warning Update: Russian Offensi...</td>\n",
       "      <td>/backgrounder/russia-ukraine-warning-update-ru...</td>\n",
       "      <td>&lt;div class=\"field field-name-body field-type-t...</td>\n",
       "      <td>Mason Clark, George Barros, and Kateryna Step...</td>\n",
       "      <td>mason clark georg barro kateryna stepanenkofe...</td>\n",
       "      <td>mason clark georg barro kateryna stepanenkofe...</td>\n",
       "    </tr>\n",
       "    <tr>\n",
       "      <th>3</th>\n",
       "      <td>3</td>\n",
       "      <td>2022-02-28</td>\n",
       "      <td>RusCampaignFeb28</td>\n",
       "      <td>Russian Offensive Campaign Assessment, Februar...</td>\n",
       "      <td>Russian Offensive Campaign Assessment, Februar...</td>\n",
       "      <td>/backgrounder/russian-offensive-campaign-asses...</td>\n",
       "      <td>&lt;div class=\"field field-name-body field-type-t...</td>\n",
       "      <td>Mason Clark, George Barros, and Kateryna Step...</td>\n",
       "      <td>mason clark georg barro kateryna stepanenkofe...</td>\n",
       "      <td>mason clark georg barro kateryna stepanenkofe...</td>\n",
       "    </tr>\n",
       "    <tr>\n",
       "      <th>4</th>\n",
       "      <td>4</td>\n",
       "      <td>2022-03-01</td>\n",
       "      <td>RusCampaignMar1</td>\n",
       "      <td>Russian Offensive Campaign Assessment, March 1...</td>\n",
       "      <td>Russian Offensive Campaign Assessment, March 1</td>\n",
       "      <td>/backgrounder/russian-offensive-campaign-asses...</td>\n",
       "      <td>&lt;div class=\"field field-name-body field-type-t...</td>\n",
       "      <td>Frederick W. Kagan, George Barros, and Katery...</td>\n",
       "      <td>frederick kagan georg barro kateryna stepanen...</td>\n",
       "      <td>frederick kagan georg barro kateryna stepanen...</td>\n",
       "    </tr>\n",
       "  </tbody>\n",
       "</table>\n",
       "</div>"
      ],
      "text/plain": [
       "   Unnamed: 0        date         short_url  \\\n",
       "0           0  2022-02-25  RusCampaignFeb25   \n",
       "1           1  2022-02-26  RusCampaignFeb26   \n",
       "2           2  2022-02-27  RusCampaignFeb27   \n",
       "3           3  2022-02-28  RusCampaignFeb28   \n",
       "4           4  2022-03-01   RusCampaignMar1   \n",
       "\n",
       "                                               title  \\\n",
       "0  Russia-Ukraine Warning Update: Russian Offensi...   \n",
       "1  Russia-Ukraine Warning Update: Russian Offensi...   \n",
       "2  Russia-Ukraine Warning Update: Russian Offensi...   \n",
       "3  Russian Offensive Campaign Assessment, Februar...   \n",
       "4  Russian Offensive Campaign Assessment, March 1...   \n",
       "\n",
       "                                          text_title  \\\n",
       "0  Russia-Ukraine Warning Update: Russian Offensi...   \n",
       "1  Russia-Ukraine Warning Update: Russian Offensi...   \n",
       "2  Russia-Ukraine Warning Update: Russian Offensi...   \n",
       "3  Russian Offensive Campaign Assessment, Februar...   \n",
       "4     Russian Offensive Campaign Assessment, March 1   \n",
       "\n",
       "                                            full_url  \\\n",
       "0  /backgrounder/russia-ukraine-warning-update-ru...   \n",
       "1  /backgrounder/russia-ukraine-warning-update-ru...   \n",
       "2  /backgrounder/russia-ukraine-warning-update-ru...   \n",
       "3  /backgrounder/russian-offensive-campaign-asses...   \n",
       "4  /backgrounder/russian-offensive-campaign-asses...   \n",
       "\n",
       "                                           main_html  \\\n",
       "0  <div class=\"field field-name-body field-type-t...   \n",
       "1  <div class=\"field field-name-body field-type-t...   \n",
       "2  <div class=\"field field-name-body field-type-t...   \n",
       "3  <div class=\"field field-name-body field-type-t...   \n",
       "4  <div class=\"field field-name-body field-type-t...   \n",
       "\n",
       "                                        main_html_v6  \\\n",
       "0   Mason Clark, George Barros, and Kateryna Step...   \n",
       "1   Mason Clark, George Barros, and Katya Stepane...   \n",
       "2   Mason Clark, George Barros, and Kateryna Step...   \n",
       "3   Mason Clark, George Barros, and Kateryna Step...   \n",
       "4   Frederick W. Kagan, George Barros, and Katery...   \n",
       "\n",
       "                                    report_text_lemm  \\\n",
       "0   mason clark georg barro kateryna stepanenkofe...   \n",
       "1   mason clark georg barro katya stepanenkofebru...   \n",
       "2   mason clark georg barro kateryna stepanenkofe...   \n",
       "3   mason clark georg barro kateryna stepanenkofe...   \n",
       "4   frederick kagan georg barro kateryna stepanen...   \n",
       "\n",
       "                                   report_text_stemm  \n",
       "0   mason clark georg barro kateryna stepanenkofe...  \n",
       "1   mason clark georg barro katya stepanenkofebru...  \n",
       "2   mason clark georg barro kateryna stepanenkofe...  \n",
       "3   mason clark georg barro kateryna stepanenkofe...  \n",
       "4   frederick kagan georg barro kateryna stepanen...  "
      ]
     },
     "execution_count": 23,
     "metadata": {},
     "output_type": "execute_result"
    }
   ],
   "source": [
    "data.head()"
   ]
  },
  {
   "cell_type": "code",
   "execution_count": 24,
   "id": "3099cfb6",
   "metadata": {
    "scrolled": true
   },
   "outputs": [
    {
     "data": {
      "text/plain": [
       "' mason clark georg barro kateryna stepanenkofebruari twenty five three zero pm estrussian forc enter major ukrainian cities—includ kyiv kherson—for first time februari twenty five russian forc main axe advanc focus kyiv success isol citi bank dnipro river russian militari oper along ukrain northern border le well plan organ conduct eman crimea also le success far diverg perform like aris part differ composit organ russian ground forc element western militari district belaru ukrain north southern militari district black sea fleet south east isw previous observed determin well organ ukrainian resist around kyiv kharkiv also play import role prevent russian militari advanc speed success reportedli planned th russian militari deploy addit forc southeastern belaru like beyond moscow plan use ukrain offset problem challeng russian forc remain much larger capabl ukrain convent militari howev russia like defeat ukrainian regular militari forc secur territori object point come day week putin determin pay cost blood treasure key takeawaysrussian forc enter outskirt kyiv west bank dnipro februari twenty five russian sabotag group civilian cloth reportedli activ downtown kyiv russian forc far fail enter kyiv eastern outskirt ukrainian forc success slow russian troop temporarili abandon fail attempt take citi chernihiv instead bypass el russian 76th vdv airborn divis concentr southeastern belaru like use along chernihiv bypass axi toward kyiv next twenty four hour russian forc like envelop kharkhiv next twenty four hour fail enter citi frontal assault februari twenty four russian forc achiev littl success frontal assault envelop ukrainian forc donba may not intend pin ukrainian forc east north crimea russian forc fulli captur kherson like verg seiz melitopol east unconfirm report indic russian forc bypass kherson earlier head directli mykolaiv odessa russian forc may assembl stolin belaru open new line advanc rivn western ukraine click enlarg map russian forc carri addit air missil strike kyiv major citi around three zero local time februari twenty five isw not confirm frequenc target overnight russian strike time ukrainian gener staff report russian forc increasingli target civil infrastructur residenti build intimid popul ukrain russian forc continu refrain use like full scale russian air missil capabl like seek limit neg imageri heavi ukrainian civilian casualti howev russian forc like increas use bombard come day overcom heavier anticip ukrainian resistance russian ground forc advanc four primari axe discus turn belarus kyiv kharkiv donba andcrimea kherson one belarus kyiv axi russian forc enter outskirt kyiv west bank dnipro februari twenty five russian forc far fail enter kyiv eastern outskirt abandon fail attempt take citi chernihiv instead bypass element 76thvdv airborn divis concentr southeastern belaru like use along chernihiv bypass axi toward kyiv next twenty four hour russian forc enter northwest kyiv suburb obolon western bank dnipro river eleven zero local time th ukrainian gener staff ask resid obolon shelter place make molotov cocktail morn februari twenty five russian ministri defens claim three thirty pm local time februari twenty five russian forc isol kyiv west russian forc bypass citi chernihiv eastern approach kyiv halt ukrainian forc much februari twenty four twenty five uk defens ministri report six zero pm local time russian forc open new rout kyiv fail captur chernihiv russian forc not yet enter kyiv eastern outskirt th ukrainian gener staff report russian vdv airborn troop redeploy belaru theeastbank dnipro river due damag hostomel militari airport western bank russian hand ukrainian forc withdrew sometim earli februari twenty five russian forc fail secur hostomel airport air assault appear taken mechan unit belaru arriv ukrainian defend appear damag runway enough make unus prevent russian forc airlift troop directli onto kyiv western flank caus russian forc repriorit eastern axi advance russian reconnaiss sabotag unit mani reportedli oper civilian cloth captur ukrainian uniform reportedli activ central kyiv ukrainian deputi defens minist report russian forc seiz two ukrainian truck break ukrainian line central kyiv around noon local time th ukrainian gener staff warn five zero pm local time russian unit civilian cloth oper sever unspecifi ukrainian city presid zelenski chief staff prime minist shmyhal releas video downtown kyiv eight zero pm local time februari twenty five state defend independ ukrainian militari report redeploy unspecifi unit assist defens kyiv isw not current confirm extent ukrainian prepar conduct urban fight kyiv two kharkiv axi russian forc like envelop kharkiv next twenty four hour fail enter citi frontal assault februari twenty four russian forc advanc broad front along northeastern ukrainian border februari twenty five kharkiv civil author report russian forc enter outskirt kharkiv sever direct nine zero pm local time el russia 25th separ guard motor rifl brigad part 6th combin arm armi perman deploy near st petersburg confirm activ kharkiv russian forc reportedli cross northeastern ukrainian border sever point west kharkiv includ okhtyrka sumy russian forc like advanc toward kyiv broad front may seek envelop isol kharkiv three donba axi russian forc achiev littl success frontal assault envelop may not intend pin ukrainian forc east russian not weight ground offens effort toward break ukrainian defens posit line contact take mariupol east drive rapidli luhansk oblast north ukrainian forc remain larg origin defens posit east russian may content leav concentr captur kyiv impos new govern ukrain may altern seek envelop destroy ukrainian forc near line contact later date russian forc unabl continu envelop maneuv donetsk oblast four zero pm local time februari twenty five not appar reinforc effort howev suggest may not determin make rapid progress axi long ukrainian forc remain defens posit ukrainian forc report undergo continu shelling ukrainian forc claim continu hold entir line contact donetsk luhansk 1pm local time februari twenty five russian forc like conduct frontal assault mariupol northeast mayor mariupol claim ukrainian forc destroy twenty two russian tank advanc pavlopil four zero pm local time februari twenty five russian sourc report shell mariupol mlr system seven zero pm local time februari twenty five four crimea axi russian forc fulli captur kherson like verg seiz melitopol east unconfirm report indic russian forc bypass kherson earlier head directli mykolaiv odessa russian forc reportedli captur kherson six zero pm local time februari twenty five element russian 42nd motor rifl divis 58th combin arm armi unknown vdv airborn element confirm activ kherson russian forc advanc west kherson reportedli bypass earli februari twenty five captur follow russian forc later day ukrainian forc destroy least one bridg dnipro slow russian force th ukrainian ministri defens report russian forc advanc mykolaiv isw not confirm current depth russian advance russian forc may captur melitopol east crimea late februari twenty five ukrainian forc report defend citi ten zero local time februari twenty five russian forc claim captur citi six zero pm local time th ukrainian gener staff report russia deploy second echelon troop kherson februari twenty five confirm first russian deploy second lin troop ukrainian territory isw not confirm russian amphibi land three zero pm est sever western sourc misreport quot anonym offici indic russia capabl conduct amphibi assault west mariupol thousand troop mean land alreadi occurred russia may wait forc crimea fulli secur cross dnipro river gotten closer odesa attempt seiz odesa air sea immedi item watchsoci medium user observ russian armor column assembl stolin belaru februari twenty five forc could potenti conduct new line advanc rivn western ukraine russian naval infantri not yet conduct amphibi land retain capabl odesa azov sea coast russian forc continu refrain use like full spectrum air missil capabl ukrainian air forc also remain activ russian oper like steadili wear ukrainian air capabl eventu take ukrainian air forc fight russian forc not yet attempt decapit strike sever analyst outlet forecast may attempt near future russia suffici convent militari power reinforc current axe advanc overpow convent ukrainian forc defend'"
      ]
     },
     "execution_count": 24,
     "metadata": {},
     "output_type": "execute_result"
    }
   ],
   "source": [
    "data['report_text_lemm'][0]"
   ]
  },
  {
   "cell_type": "code",
   "execution_count": 25,
   "id": "e9241e40",
   "metadata": {},
   "outputs": [],
   "source": [
    "docs = data['report_text_lemm'].tolist()"
   ]
  },
  {
   "cell_type": "code",
   "execution_count": 26,
   "id": "effe8897",
   "metadata": {},
   "outputs": [],
   "source": [
    "data.to_csv('data/0_isw_data_collection/2_isw_preprocessed_before_vectosing.csv')"
   ]
  },
  {
   "cell_type": "markdown",
   "id": "1f5667f3",
   "metadata": {},
   "source": [
    "## CountVerctorizer"
   ]
  },
  {
   "cell_type": "code",
   "execution_count": 27,
   "id": "e7df6c9c",
   "metadata": {},
   "outputs": [
    {
     "data": {
      "text/plain": [
       "(340, 7401)"
      ]
     },
     "execution_count": 27,
     "metadata": {},
     "output_type": "execute_result"
    }
   ],
   "source": [
    "cv = CountVectorizer(max_df=0.98,min_df=2)\n",
    "word_count_vector = cv.fit_transform(docs)\n",
    "\n",
    "word_count_vector.shape"
   ]
  },
  {
   "cell_type": "code",
   "execution_count": 28,
   "id": "ae0f11a0",
   "metadata": {},
   "outputs": [
    {
     "data": {
      "text/plain": [
       "<340x7401 sparse matrix of type '<class 'numpy.int64'>'\n",
       "\twith 213470 stored elements in Compressed Sparse Row format>"
      ]
     },
     "execution_count": 28,
     "metadata": {},
     "output_type": "execute_result"
    }
   ],
   "source": [
    "word_count_vector"
   ]
  },
  {
   "cell_type": "code",
   "execution_count": 29,
   "id": "c4d24bab",
   "metadata": {},
   "outputs": [],
   "source": [
    "with open(\"models/count_vectorizer_v1.pkl\",\"wb\") as handle:\n",
    "    pickle.dump(cv, handle)"
   ]
  },
  {
   "cell_type": "markdown",
   "id": "116d3ccb",
   "metadata": {},
   "source": [
    "### TF-IDF"
   ]
  },
  {
   "cell_type": "code",
   "execution_count": 30,
   "id": "f979b6f9",
   "metadata": {},
   "outputs": [
    {
     "data": {
      "text/html": [
       "<style>#sk-container-id-1 {color: black;background-color: white;}#sk-container-id-1 pre{padding: 0;}#sk-container-id-1 div.sk-toggleable {background-color: white;}#sk-container-id-1 label.sk-toggleable__label {cursor: pointer;display: block;width: 100%;margin-bottom: 0;padding: 0.3em;box-sizing: border-box;text-align: center;}#sk-container-id-1 label.sk-toggleable__label-arrow:before {content: \"▸\";float: left;margin-right: 0.25em;color: #696969;}#sk-container-id-1 label.sk-toggleable__label-arrow:hover:before {color: black;}#sk-container-id-1 div.sk-estimator:hover label.sk-toggleable__label-arrow:before {color: black;}#sk-container-id-1 div.sk-toggleable__content {max-height: 0;max-width: 0;overflow: hidden;text-align: left;background-color: #f0f8ff;}#sk-container-id-1 div.sk-toggleable__content pre {margin: 0.2em;color: black;border-radius: 0.25em;background-color: #f0f8ff;}#sk-container-id-1 input.sk-toggleable__control:checked~div.sk-toggleable__content {max-height: 200px;max-width: 100%;overflow: auto;}#sk-container-id-1 input.sk-toggleable__control:checked~label.sk-toggleable__label-arrow:before {content: \"▾\";}#sk-container-id-1 div.sk-estimator input.sk-toggleable__control:checked~label.sk-toggleable__label {background-color: #d4ebff;}#sk-container-id-1 div.sk-label input.sk-toggleable__control:checked~label.sk-toggleable__label {background-color: #d4ebff;}#sk-container-id-1 input.sk-hidden--visually {border: 0;clip: rect(1px 1px 1px 1px);clip: rect(1px, 1px, 1px, 1px);height: 1px;margin: -1px;overflow: hidden;padding: 0;position: absolute;width: 1px;}#sk-container-id-1 div.sk-estimator {font-family: monospace;background-color: #f0f8ff;border: 1px dotted black;border-radius: 0.25em;box-sizing: border-box;margin-bottom: 0.5em;}#sk-container-id-1 div.sk-estimator:hover {background-color: #d4ebff;}#sk-container-id-1 div.sk-parallel-item::after {content: \"\";width: 100%;border-bottom: 1px solid gray;flex-grow: 1;}#sk-container-id-1 div.sk-label:hover label.sk-toggleable__label {background-color: #d4ebff;}#sk-container-id-1 div.sk-serial::before {content: \"\";position: absolute;border-left: 1px solid gray;box-sizing: border-box;top: 0;bottom: 0;left: 50%;z-index: 0;}#sk-container-id-1 div.sk-serial {display: flex;flex-direction: column;align-items: center;background-color: white;padding-right: 0.2em;padding-left: 0.2em;position: relative;}#sk-container-id-1 div.sk-item {position: relative;z-index: 1;}#sk-container-id-1 div.sk-parallel {display: flex;align-items: stretch;justify-content: center;background-color: white;position: relative;}#sk-container-id-1 div.sk-item::before, #sk-container-id-1 div.sk-parallel-item::before {content: \"\";position: absolute;border-left: 1px solid gray;box-sizing: border-box;top: 0;bottom: 0;left: 50%;z-index: -1;}#sk-container-id-1 div.sk-parallel-item {display: flex;flex-direction: column;z-index: 1;position: relative;background-color: white;}#sk-container-id-1 div.sk-parallel-item:first-child::after {align-self: flex-end;width: 50%;}#sk-container-id-1 div.sk-parallel-item:last-child::after {align-self: flex-start;width: 50%;}#sk-container-id-1 div.sk-parallel-item:only-child::after {width: 0;}#sk-container-id-1 div.sk-dashed-wrapped {border: 1px dashed gray;margin: 0 0.4em 0.5em 0.4em;box-sizing: border-box;padding-bottom: 0.4em;background-color: white;}#sk-container-id-1 div.sk-label label {font-family: monospace;font-weight: bold;display: inline-block;line-height: 1.2em;}#sk-container-id-1 div.sk-label-container {text-align: center;}#sk-container-id-1 div.sk-container {/* jupyter's `normalize.less` sets `[hidden] { display: none; }` but bootstrap.min.css set `[hidden] { display: none !important; }` so we also need the `!important` here to be able to override the default hidden behavior on the sphinx rendered scikit-learn.org. See: https://github.com/scikit-learn/scikit-learn/issues/21755 */display: inline-block !important;position: relative;}#sk-container-id-1 div.sk-text-repr-fallback {display: none;}</style><div id=\"sk-container-id-1\" class=\"sk-top-container\"><div class=\"sk-text-repr-fallback\"><pre>TfidfTransformer()</pre><b>In a Jupyter environment, please rerun this cell to show the HTML representation or trust the notebook. <br />On GitHub, the HTML representation is unable to render, please try loading this page with nbviewer.org.</b></div><div class=\"sk-container\" hidden><div class=\"sk-item\"><div class=\"sk-estimator sk-toggleable\"><input class=\"sk-toggleable__control sk-hidden--visually\" id=\"sk-estimator-id-1\" type=\"checkbox\" checked><label for=\"sk-estimator-id-1\" class=\"sk-toggleable__label sk-toggleable__label-arrow\">TfidfTransformer</label><div class=\"sk-toggleable__content\"><pre>TfidfTransformer()</pre></div></div></div></div></div>"
      ],
      "text/plain": [
       "TfidfTransformer()"
      ]
     },
     "execution_count": 30,
     "metadata": {},
     "output_type": "execute_result"
    }
   ],
   "source": [
    "tfidf_transformer = TfidfTransformer(smooth_idf = True, use_idf = True)\n",
    "tfidf_transformer.fit(word_count_vector)"
   ]
  },
  {
   "cell_type": "code",
   "execution_count": 31,
   "id": "451b4121",
   "metadata": {},
   "outputs": [],
   "source": [
    "with open(\"models/tfidf_transformer_v1.pkl\",\"wb\") as handle:\n",
    "    pickle.dump(tfidf_transformer, handle)"
   ]
  },
  {
   "cell_type": "code",
   "execution_count": 32,
   "id": "4c65c51a",
   "metadata": {},
   "outputs": [
    {
     "data": {
      "text/html": [
       "<div>\n",
       "<style scoped>\n",
       "    .dataframe tbody tr th:only-of-type {\n",
       "        vertical-align: middle;\n",
       "    }\n",
       "\n",
       "    .dataframe tbody tr th {\n",
       "        vertical-align: top;\n",
       "    }\n",
       "\n",
       "    .dataframe thead th {\n",
       "        text-align: right;\n",
       "    }\n",
       "</style>\n",
       "<table border=\"1\" class=\"dataframe\">\n",
       "  <thead>\n",
       "    <tr style=\"text-align: right;\">\n",
       "      <th></th>\n",
       "      <th>idf_weights</th>\n",
       "    </tr>\n",
       "  </thead>\n",
       "  <tbody>\n",
       "    <tr>\n",
       "      <th>ukrainian</th>\n",
       "      <td>1.035825</td>\n",
       "    </tr>\n",
       "    <tr>\n",
       "      <th>not</th>\n",
       "      <td>1.035825</td>\n",
       "    </tr>\n",
       "    <tr>\n",
       "      <th>conduct</th>\n",
       "      <td>1.035825</td>\n",
       "    </tr>\n",
       "    <tr>\n",
       "      <th>forc</th>\n",
       "      <td>1.035825</td>\n",
       "    </tr>\n",
       "    <tr>\n",
       "      <th>like</th>\n",
       "      <td>1.035825</td>\n",
       "    </tr>\n",
       "    <tr>\n",
       "      <th>...</th>\n",
       "      <td>...</td>\n",
       "    </tr>\n",
       "    <tr>\n",
       "      <th>murashov</th>\n",
       "      <td>5.733270</td>\n",
       "    </tr>\n",
       "    <tr>\n",
       "      <th>murz</th>\n",
       "      <td>5.733270</td>\n",
       "    </tr>\n",
       "    <tr>\n",
       "      <th>music</th>\n",
       "      <td>5.733270</td>\n",
       "    </tr>\n",
       "    <tr>\n",
       "      <th>monopoli</th>\n",
       "      <td>5.733270</td>\n",
       "    </tr>\n",
       "    <tr>\n",
       "      <th>сухопутный</th>\n",
       "      <td>5.733270</td>\n",
       "    </tr>\n",
       "  </tbody>\n",
       "</table>\n",
       "<p>7401 rows × 1 columns</p>\n",
       "</div>"
      ],
      "text/plain": [
       "            idf_weights\n",
       "ukrainian      1.035825\n",
       "not            1.035825\n",
       "conduct        1.035825\n",
       "forc           1.035825\n",
       "like           1.035825\n",
       "...                 ...\n",
       "murashov       5.733270\n",
       "murz           5.733270\n",
       "music          5.733270\n",
       "monopoli       5.733270\n",
       "сухопутный     5.733270\n",
       "\n",
       "[7401 rows x 1 columns]"
      ]
     },
     "execution_count": 32,
     "metadata": {},
     "output_type": "execute_result"
    }
   ],
   "source": [
    "df_idf = pd.DataFrame(tfidf_transformer.idf_, index = cv.get_feature_names_out(),columns=[\"idf_weights\"])\n",
    "df_idf.sort_values(by=['idf_weights'])"
   ]
  },
  {
   "cell_type": "code",
   "execution_count": 33,
   "id": "5aebfb2c",
   "metadata": {},
   "outputs": [],
   "source": [
    "tf_idf_vector = tfidf_transformer.transform(word_count_vector)"
   ]
  },
  {
   "cell_type": "code",
   "execution_count": 34,
   "id": "a4677780",
   "metadata": {},
   "outputs": [
    {
     "data": {
      "text/plain": [
       "<340x7401 sparse matrix of type '<class 'numpy.float64'>'\n",
       "\twith 213470 stored elements in Compressed Sparse Row format>"
      ]
     },
     "execution_count": 34,
     "metadata": {},
     "output_type": "execute_result"
    }
   ],
   "source": [
    "tf_idf_vector"
   ]
  },
  {
   "cell_type": "code",
   "execution_count": 35,
   "id": "724a47e0",
   "metadata": {},
   "outputs": [
    {
     "data": {
      "text/plain": [
       "(340, 7401)"
      ]
     },
     "execution_count": 35,
     "metadata": {},
     "output_type": "execute_result"
    }
   ],
   "source": [
    "tf_idf_vector.shape"
   ]
  },
  {
   "cell_type": "markdown",
   "id": "0176363b",
   "metadata": {},
   "source": [
    "### Transformation with fitted models"
   ]
  },
  {
   "cell_type": "code",
   "execution_count": 36,
   "id": "d058ae29",
   "metadata": {},
   "outputs": [],
   "source": [
    "tfidf = pickle.load(open(\"models/tfidf_transformer_v1.pkl\",\"rb\"))\n",
    "cv = pickle.load(open(\"models/count_vectorizer_v1.pkl\",\"rb\"))"
   ]
  },
  {
   "cell_type": "code",
   "execution_count": 37,
   "id": "59b325fb",
   "metadata": {},
   "outputs": [],
   "source": [
    "feature_names = cv.get_feature_names_out()"
   ]
  },
  {
   "cell_type": "code",
   "execution_count": 38,
   "id": "6efb7dda",
   "metadata": {},
   "outputs": [
    {
     "data": {
      "text/plain": [
       "array(['00pm', '10', '100', ..., 'zyuganov', 'коридор', 'сухопутный'],\n",
       "      dtype=object)"
      ]
     },
     "execution_count": 38,
     "metadata": {},
     "output_type": "execute_result"
    }
   ],
   "source": [
    "feature_names"
   ]
  },
  {
   "cell_type": "code",
   "execution_count": 39,
   "id": "23334f1b",
   "metadata": {},
   "outputs": [],
   "source": [
    "def sort_coo(coo_matrix):\n",
    "    \n",
    "    tuples = zip(coo_matrix.col, coo_matrix.data)\n",
    "    \n",
    "    return sorted(tuples,key=lambda x: (x[1], x[0]), reverse=True)\n",
    "\n",
    "def extract_topn_from_vector(feature_names, sorted_items, topn=10):\n",
    "    \n",
    "    sorted_items = sorted_items[:topn]\n",
    "    \n",
    "    score_vals = []\n",
    "    feature_vals = []\n",
    "    \n",
    "    for idx, score in sorted_items:\n",
    "        \n",
    "        score_vals.append(round(score,3))\n",
    "        feature_vals.append(feature_names[idx])\n",
    "        \n",
    "    results = {}\n",
    "    \n",
    "    for idx in range(len(feature_vals)):\n",
    "        results[feature_vals[idx]] = score_vals[idx]\n",
    "    \n",
    "    return results\n",
    "\n",
    "\n",
    "def convert_doc_to_vector(doc):\n",
    "    feature_names = cv.get_feature_names_out()\n",
    "    top_n = 10\n",
    "    tf_idf_vector = tfidf.transform(cv.transform([doc]))\n",
    "    \n",
    "    sorted_items = sort_coo(tf_idf_vector.tocoo())\n",
    "    \n",
    "    keywords = extract_topn_from_vector(feature_names, sorted_items, top_n)\n",
    "    \n",
    "    return keywords"
   ]
  },
  {
   "cell_type": "code",
   "execution_count": 40,
   "id": "99c5ea43",
   "metadata": {},
   "outputs": [],
   "source": [
    "data['keywords'] = data['report_text_stemm'].apply(lambda x: convert_doc_to_vector(x))"
   ]
  },
  {
   "cell_type": "code",
   "execution_count": 41,
   "id": "84be9c4b",
   "metadata": {},
   "outputs": [
    {
     "data": {
      "text/plain": [
       "{'twenti': 0.693,\n",
       " 'russian': 0.294,\n",
       " 'forc': 0.289,\n",
       " 'februari': 0.205,\n",
       " 'kyiv': 0.19,\n",
       " 'ukrainian': 0.177,\n",
       " 'five': 0.113,\n",
       " 'envelop': 0.107,\n",
       " 'bypass': 0.1,\n",
       " 'time': 0.088}"
      ]
     },
     "execution_count": 41,
     "metadata": {},
     "output_type": "execute_result"
    }
   ],
   "source": [
    "data['keywords'][0]"
   ]
  },
  {
   "cell_type": "code",
   "execution_count": 42,
   "id": "6c4102f2",
   "metadata": {},
   "outputs": [],
   "source": [
    "data_vectorised = tf_idf_vector.toarray()"
   ]
  },
  {
   "cell_type": "code",
   "execution_count": 43,
   "id": "8e07c31c",
   "metadata": {},
   "outputs": [],
   "source": [
    "vectors_df = pd.DataFrame(data_vectorised)"
   ]
  },
  {
   "cell_type": "code",
   "execution_count": 44,
   "id": "2ba80ba2",
   "metadata": {},
   "outputs": [],
   "source": [
    "vectors_df.to_csv('data/0_isw_data_collection/3_isw_vectorised.csv')"
   ]
  },
  {
   "cell_type": "code",
   "execution_count": 46,
   "id": "65692b3e",
   "metadata": {},
   "outputs": [
    {
     "data": {
      "text/html": [
       "<div>\n",
       "<style scoped>\n",
       "    .dataframe tbody tr th:only-of-type {\n",
       "        vertical-align: middle;\n",
       "    }\n",
       "\n",
       "    .dataframe tbody tr th {\n",
       "        vertical-align: top;\n",
       "    }\n",
       "\n",
       "    .dataframe thead th {\n",
       "        text-align: right;\n",
       "    }\n",
       "</style>\n",
       "<table border=\"1\" class=\"dataframe\">\n",
       "  <thead>\n",
       "    <tr style=\"text-align: right;\">\n",
       "      <th></th>\n",
       "      <th>0</th>\n",
       "      <th>1</th>\n",
       "      <th>2</th>\n",
       "      <th>3</th>\n",
       "      <th>4</th>\n",
       "      <th>5</th>\n",
       "      <th>6</th>\n",
       "      <th>7</th>\n",
       "      <th>8</th>\n",
       "      <th>9</th>\n",
       "      <th>...</th>\n",
       "      <th>7391</th>\n",
       "      <th>7392</th>\n",
       "      <th>7393</th>\n",
       "      <th>7394</th>\n",
       "      <th>7395</th>\n",
       "      <th>7396</th>\n",
       "      <th>7397</th>\n",
       "      <th>7398</th>\n",
       "      <th>7399</th>\n",
       "      <th>7400</th>\n",
       "    </tr>\n",
       "  </thead>\n",
       "  <tbody>\n",
       "    <tr>\n",
       "      <th>0</th>\n",
       "      <td>0.0</td>\n",
       "      <td>0.0</td>\n",
       "      <td>0.0</td>\n",
       "      <td>0.0</td>\n",
       "      <td>0.0</td>\n",
       "      <td>0.000000</td>\n",
       "      <td>0.0</td>\n",
       "      <td>0.0</td>\n",
       "      <td>0.000000</td>\n",
       "      <td>0.0</td>\n",
       "      <td>...</td>\n",
       "      <td>0.0</td>\n",
       "      <td>0.0</td>\n",
       "      <td>0.0</td>\n",
       "      <td>0.0</td>\n",
       "      <td>0.0</td>\n",
       "      <td>0.0</td>\n",
       "      <td>0.0</td>\n",
       "      <td>0.0</td>\n",
       "      <td>0.0</td>\n",
       "      <td>0.0</td>\n",
       "    </tr>\n",
       "    <tr>\n",
       "      <th>1</th>\n",
       "      <td>0.0</td>\n",
       "      <td>0.0</td>\n",
       "      <td>0.0</td>\n",
       "      <td>0.0</td>\n",
       "      <td>0.0</td>\n",
       "      <td>0.000000</td>\n",
       "      <td>0.0</td>\n",
       "      <td>0.0</td>\n",
       "      <td>0.000000</td>\n",
       "      <td>0.0</td>\n",
       "      <td>...</td>\n",
       "      <td>0.0</td>\n",
       "      <td>0.0</td>\n",
       "      <td>0.0</td>\n",
       "      <td>0.0</td>\n",
       "      <td>0.0</td>\n",
       "      <td>0.0</td>\n",
       "      <td>0.0</td>\n",
       "      <td>0.0</td>\n",
       "      <td>0.0</td>\n",
       "      <td>0.0</td>\n",
       "    </tr>\n",
       "    <tr>\n",
       "      <th>2</th>\n",
       "      <td>0.0</td>\n",
       "      <td>0.0</td>\n",
       "      <td>0.0</td>\n",
       "      <td>0.0</td>\n",
       "      <td>0.0</td>\n",
       "      <td>0.000000</td>\n",
       "      <td>0.0</td>\n",
       "      <td>0.0</td>\n",
       "      <td>0.000000</td>\n",
       "      <td>0.0</td>\n",
       "      <td>...</td>\n",
       "      <td>0.0</td>\n",
       "      <td>0.0</td>\n",
       "      <td>0.0</td>\n",
       "      <td>0.0</td>\n",
       "      <td>0.0</td>\n",
       "      <td>0.0</td>\n",
       "      <td>0.0</td>\n",
       "      <td>0.0</td>\n",
       "      <td>0.0</td>\n",
       "      <td>0.0</td>\n",
       "    </tr>\n",
       "    <tr>\n",
       "      <th>3</th>\n",
       "      <td>0.0</td>\n",
       "      <td>0.0</td>\n",
       "      <td>0.0</td>\n",
       "      <td>0.0</td>\n",
       "      <td>0.0</td>\n",
       "      <td>0.023238</td>\n",
       "      <td>0.0</td>\n",
       "      <td>0.0</td>\n",
       "      <td>0.000000</td>\n",
       "      <td>0.0</td>\n",
       "      <td>...</td>\n",
       "      <td>0.0</td>\n",
       "      <td>0.0</td>\n",
       "      <td>0.0</td>\n",
       "      <td>0.0</td>\n",
       "      <td>0.0</td>\n",
       "      <td>0.0</td>\n",
       "      <td>0.0</td>\n",
       "      <td>0.0</td>\n",
       "      <td>0.0</td>\n",
       "      <td>0.0</td>\n",
       "    </tr>\n",
       "    <tr>\n",
       "      <th>4</th>\n",
       "      <td>0.0</td>\n",
       "      <td>0.0</td>\n",
       "      <td>0.0</td>\n",
       "      <td>0.0</td>\n",
       "      <td>0.0</td>\n",
       "      <td>0.000000</td>\n",
       "      <td>0.0</td>\n",
       "      <td>0.0</td>\n",
       "      <td>0.033858</td>\n",
       "      <td>0.0</td>\n",
       "      <td>...</td>\n",
       "      <td>0.0</td>\n",
       "      <td>0.0</td>\n",
       "      <td>0.0</td>\n",
       "      <td>0.0</td>\n",
       "      <td>0.0</td>\n",
       "      <td>0.0</td>\n",
       "      <td>0.0</td>\n",
       "      <td>0.0</td>\n",
       "      <td>0.0</td>\n",
       "      <td>0.0</td>\n",
       "    </tr>\n",
       "  </tbody>\n",
       "</table>\n",
       "<p>5 rows × 7401 columns</p>\n",
       "</div>"
      ],
      "text/plain": [
       "   0     1     2     3     4         5     6     7         8     9     ...  \\\n",
       "0   0.0   0.0   0.0   0.0   0.0  0.000000   0.0   0.0  0.000000   0.0  ...   \n",
       "1   0.0   0.0   0.0   0.0   0.0  0.000000   0.0   0.0  0.000000   0.0  ...   \n",
       "2   0.0   0.0   0.0   0.0   0.0  0.000000   0.0   0.0  0.000000   0.0  ...   \n",
       "3   0.0   0.0   0.0   0.0   0.0  0.023238   0.0   0.0  0.000000   0.0  ...   \n",
       "4   0.0   0.0   0.0   0.0   0.0  0.000000   0.0   0.0  0.033858   0.0  ...   \n",
       "\n",
       "   7391  7392  7393  7394  7395  7396  7397  7398  7399  7400  \n",
       "0   0.0   0.0   0.0   0.0   0.0   0.0   0.0   0.0   0.0   0.0  \n",
       "1   0.0   0.0   0.0   0.0   0.0   0.0   0.0   0.0   0.0   0.0  \n",
       "2   0.0   0.0   0.0   0.0   0.0   0.0   0.0   0.0   0.0   0.0  \n",
       "3   0.0   0.0   0.0   0.0   0.0   0.0   0.0   0.0   0.0   0.0  \n",
       "4   0.0   0.0   0.0   0.0   0.0   0.0   0.0   0.0   0.0   0.0  \n",
       "\n",
       "[5 rows x 7401 columns]"
      ]
     },
     "execution_count": 46,
     "metadata": {},
     "output_type": "execute_result"
    }
   ],
   "source": [
    "vectors_df.head()"
   ]
  },
  {
   "cell_type": "code",
   "execution_count": 47,
   "id": "5d5f4206",
   "metadata": {},
   "outputs": [
    {
     "data": {
      "text/plain": [
       "(340, 7401)"
      ]
     },
     "execution_count": 47,
     "metadata": {},
     "output_type": "execute_result"
    }
   ],
   "source": [
    "vectors_df.shape"
   ]
  }
 ],
 "metadata": {
  "kernelspec": {
   "display_name": "Python 3 (ipykernel)",
   "language": "python",
   "name": "python3"
  },
  "language_info": {
   "codemirror_mode": {
    "name": "ipython",
    "version": 3
   },
   "file_extension": ".py",
   "mimetype": "text/x-python",
   "name": "python",
   "nbconvert_exporter": "python",
   "pygments_lexer": "ipython3",
   "version": "3.8.0"
  }
 },
 "nbformat": 4,
 "nbformat_minor": 5
}
